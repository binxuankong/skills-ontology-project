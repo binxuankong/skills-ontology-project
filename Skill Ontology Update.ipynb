{
 "cells": [
  {
   "cell_type": "code",
   "execution_count": 1,
   "metadata": {},
   "outputs": [],
   "source": [
    "import pandas as pd\n",
    "from datetime import datetime as dt\n",
    "from sqlalchemy import create_engine\n",
    "from secrets import secrets"
   ]
  },
  {
   "cell_type": "markdown",
   "metadata": {},
   "source": [
    "## Update Skill Ontology list"
   ]
  },
  {
   "cell_type": "code",
   "execution_count": null,
   "metadata": {},
   "outputs": [],
   "source": [
    "skills = []\n",
    "\n",
    "with open(\"skills/new_skills.txt\") as f:\n",
    "    for s in f:\n",
    "        skills.append(s.strip('\\n'))\n",
    "\n",
    "skills = list(set(skills))\n",
    "skills.sort()\n",
    "print(skills)"
   ]
  },
  {
   "cell_type": "code",
   "execution_count": null,
   "metadata": {},
   "outputs": [],
   "source": [
    "skills_engine = create_engine(secrets['skills_db'])\n",
    "df_s = pd.read_sql_query('select * from \"Skill\"', skills_engine)\n",
    "df_s.head()"
   ]
  },
  {
   "cell_type": "code",
   "execution_count": null,
   "metadata": {},
   "outputs": [],
   "source": [
    "ex_skill = df_s.loc[df_s['Skill'].isin(skills)]['Skill'].tolist()\n",
    "print(ex_skill)"
   ]
  },
  {
   "cell_type": "code",
   "execution_count": null,
   "metadata": {},
   "outputs": [],
   "source": [
    "skills_to_add = [s for s in skills if s not in ex_skill]\n",
    "print(skills_to_add)"
   ]
  },
  {
   "cell_type": "code",
   "execution_count": null,
   "metadata": {},
   "outputs": [],
   "source": [
    "max_id = df_s['Id'].max()\n",
    "max_id"
   ]
  },
  {
   "cell_type": "code",
   "execution_count": null,
   "metadata": {},
   "outputs": [],
   "source": [
    "df_s2 = pd.DataFrame()\n",
    "df_s2.loc[:, 'Skill'] = skills_to_add\n",
    "df_s2['Id'] = df_s2.index + max_id + 1\n",
    "df_s2['DomainId'] = 1\n",
    "df_s2.head()"
   ]
  },
  {
   "cell_type": "code",
   "execution_count": null,
   "metadata": {},
   "outputs": [],
   "source": [
    "df_s2.to_sql('Skill', skills_engine, index=False, if_exists='append')\n",
    "skills_engine.dispose()"
   ]
  },
  {
   "cell_type": "markdown",
   "metadata": {},
   "source": [
    "## Update SkillStreet other skills"
   ]
  },
  {
   "cell_type": "code",
   "execution_count": 2,
   "metadata": {},
   "outputs": [
    {
     "data": {
      "text/html": [
       "<div>\n",
       "<style scoped>\n",
       "    .dataframe tbody tr th:only-of-type {\n",
       "        vertical-align: middle;\n",
       "    }\n",
       "\n",
       "    .dataframe tbody tr th {\n",
       "        vertical-align: top;\n",
       "    }\n",
       "\n",
       "    .dataframe thead th {\n",
       "        text-align: right;\n",
       "    }\n",
       "</style>\n",
       "<table border=\"1\" class=\"dataframe\">\n",
       "  <thead>\n",
       "    <tr style=\"text-align: right;\">\n",
       "      <th></th>\n",
       "      <th>Id</th>\n",
       "      <th>Skill</th>\n",
       "      <th>DomainId</th>\n",
       "      <th>DateCreated</th>\n",
       "      <th>DateLastModified</th>\n",
       "    </tr>\n",
       "  </thead>\n",
       "  <tbody>\n",
       "    <tr>\n",
       "      <th>0</th>\n",
       "      <td>3284</td>\n",
       "      <td>AB Initio</td>\n",
       "      <td>1</td>\n",
       "      <td>2021-05-27 10:22:53</td>\n",
       "      <td>2021-05-27 10:22:53</td>\n",
       "    </tr>\n",
       "    <tr>\n",
       "      <th>1</th>\n",
       "      <td>3285</td>\n",
       "      <td>AWS Glue</td>\n",
       "      <td>1</td>\n",
       "      <td>2021-05-27 10:22:53</td>\n",
       "      <td>2021-05-27 10:22:53</td>\n",
       "    </tr>\n",
       "    <tr>\n",
       "      <th>2</th>\n",
       "      <td>3286</td>\n",
       "      <td>Airbyte</td>\n",
       "      <td>1</td>\n",
       "      <td>2021-05-27 10:22:53</td>\n",
       "      <td>2021-05-27 10:22:53</td>\n",
       "    </tr>\n",
       "    <tr>\n",
       "      <th>3</th>\n",
       "      <td>3287</td>\n",
       "      <td>Alooma</td>\n",
       "      <td>1</td>\n",
       "      <td>2021-05-27 10:22:53</td>\n",
       "      <td>2021-05-27 10:22:53</td>\n",
       "    </tr>\n",
       "    <tr>\n",
       "      <th>4</th>\n",
       "      <td>3288</td>\n",
       "      <td>Apache Accumulo</td>\n",
       "      <td>1</td>\n",
       "      <td>2021-05-27 10:22:53</td>\n",
       "      <td>2021-05-27 10:22:53</td>\n",
       "    </tr>\n",
       "  </tbody>\n",
       "</table>\n",
       "</div>"
      ],
      "text/plain": [
       "     Id            Skill  DomainId         DateCreated    DateLastModified\n",
       "0  3284        AB Initio         1 2021-05-27 10:22:53 2021-05-27 10:22:53\n",
       "1  3285         AWS Glue         1 2021-05-27 10:22:53 2021-05-27 10:22:53\n",
       "2  3286          Airbyte         1 2021-05-27 10:22:53 2021-05-27 10:22:53\n",
       "3  3287           Alooma         1 2021-05-27 10:22:53 2021-05-27 10:22:53\n",
       "4  3288  Apache Accumulo         1 2021-05-27 10:22:53 2021-05-27 10:22:53"
      ]
     },
     "execution_count": 2,
     "metadata": {},
     "output_type": "execute_result"
    }
   ],
   "source": [
    "query = \"\"\"\n",
    "select *\n",
    "from \"Skill\"\n",
    "where \"DateLastModified\" = (select max(\"DateLastModified\") from \"Skill\")\n",
    "\"\"\"\n",
    "skills_engine = create_engine(secrets['skills_db'])\n",
    "df_s = pd.read_sql_query(query, skills_engine)\n",
    "skills_engine.dispose()\n",
    "df_s.head()"
   ]
  },
  {
   "cell_type": "code",
   "execution_count": 3,
   "metadata": {},
   "outputs": [
    {
     "data": {
      "text/html": [
       "<div>\n",
       "<style scoped>\n",
       "    .dataframe tbody tr th:only-of-type {\n",
       "        vertical-align: middle;\n",
       "    }\n",
       "\n",
       "    .dataframe tbody tr th {\n",
       "        vertical-align: top;\n",
       "    }\n",
       "\n",
       "    .dataframe thead th {\n",
       "        text-align: right;\n",
       "    }\n",
       "</style>\n",
       "<table border=\"1\" class=\"dataframe\">\n",
       "  <thead>\n",
       "    <tr style=\"text-align: right;\">\n",
       "      <th></th>\n",
       "      <th>name</th>\n",
       "      <th>created_date</th>\n",
       "      <th>status</th>\n",
       "      <th>updated_date</th>\n",
       "      <th>belong_to</th>\n",
       "      <th>created_user_id</th>\n",
       "      <th>updated_user_id</th>\n",
       "    </tr>\n",
       "  </thead>\n",
       "  <tbody>\n",
       "    <tr>\n",
       "      <th>0</th>\n",
       "      <td>AB Initio</td>\n",
       "      <td>2021-05-28 14:42:43.933669</td>\n",
       "      <td>True</td>\n",
       "      <td>2021-05-28 14:42:43.937224</td>\n",
       "      <td>1</td>\n",
       "      <td>1</td>\n",
       "      <td>1</td>\n",
       "    </tr>\n",
       "    <tr>\n",
       "      <th>1</th>\n",
       "      <td>AWS Glue</td>\n",
       "      <td>2021-05-28 14:42:43.933669</td>\n",
       "      <td>True</td>\n",
       "      <td>2021-05-28 14:42:43.937224</td>\n",
       "      <td>1</td>\n",
       "      <td>1</td>\n",
       "      <td>1</td>\n",
       "    </tr>\n",
       "    <tr>\n",
       "      <th>2</th>\n",
       "      <td>Airbyte</td>\n",
       "      <td>2021-05-28 14:42:43.933669</td>\n",
       "      <td>True</td>\n",
       "      <td>2021-05-28 14:42:43.937224</td>\n",
       "      <td>1</td>\n",
       "      <td>1</td>\n",
       "      <td>1</td>\n",
       "    </tr>\n",
       "    <tr>\n",
       "      <th>3</th>\n",
       "      <td>Alooma</td>\n",
       "      <td>2021-05-28 14:42:43.933669</td>\n",
       "      <td>True</td>\n",
       "      <td>2021-05-28 14:42:43.937224</td>\n",
       "      <td>1</td>\n",
       "      <td>1</td>\n",
       "      <td>1</td>\n",
       "    </tr>\n",
       "    <tr>\n",
       "      <th>4</th>\n",
       "      <td>Apache Accumulo</td>\n",
       "      <td>2021-05-28 14:42:43.933669</td>\n",
       "      <td>True</td>\n",
       "      <td>2021-05-28 14:42:43.937224</td>\n",
       "      <td>1</td>\n",
       "      <td>1</td>\n",
       "      <td>1</td>\n",
       "    </tr>\n",
       "  </tbody>\n",
       "</table>\n",
       "</div>"
      ],
      "text/plain": [
       "              name               created_date  status  \\\n",
       "0        AB Initio 2021-05-28 14:42:43.933669    True   \n",
       "1         AWS Glue 2021-05-28 14:42:43.933669    True   \n",
       "2          Airbyte 2021-05-28 14:42:43.933669    True   \n",
       "3           Alooma 2021-05-28 14:42:43.933669    True   \n",
       "4  Apache Accumulo 2021-05-28 14:42:43.933669    True   \n",
       "\n",
       "                updated_date  belong_to  created_user_id  updated_user_id  \n",
       "0 2021-05-28 14:42:43.937224          1                1                1  \n",
       "1 2021-05-28 14:42:43.937224          1                1                1  \n",
       "2 2021-05-28 14:42:43.937224          1                1                1  \n",
       "3 2021-05-28 14:42:43.937224          1                1                1  \n",
       "4 2021-05-28 14:42:43.937224          1                1                1  "
      ]
     },
     "execution_count": 3,
     "metadata": {},
     "output_type": "execute_result"
    }
   ],
   "source": [
    "df_s2 = df_s[['Skill']].rename(columns={'Skill': 'name'})\n",
    "df_s2['created_date'] = dt.now()\n",
    "df_s2['status'] = True\n",
    "df_s2['updated_date'] = dt.now()\n",
    "df_s2['belong_to'] = 1\n",
    "df_s2['created_user_id'] = 1\n",
    "df_s2['updated_user_id'] = 1\n",
    "df_s2.head()"
   ]
  },
  {
   "cell_type": "markdown",
   "metadata": {},
   "source": [
    "### DEV"
   ]
  },
  {
   "cell_type": "code",
   "execution_count": null,
   "metadata": {},
   "outputs": [],
   "source": [
    "skillstreet_engine = create_engine(secrets['skillstreet_dev'])\n",
    "df_s2.to_sql('other_skill_mst', skillstreet_engine, index=False, if_exists='append')\n",
    "skillstreet_engine.dispose()"
   ]
  },
  {
   "cell_type": "markdown",
   "metadata": {},
   "source": [
    "### STAGE"
   ]
  },
  {
   "cell_type": "code",
   "execution_count": 5,
   "metadata": {},
   "outputs": [
    {
     "data": {
      "text/html": [
       "<div>\n",
       "<style scoped>\n",
       "    .dataframe tbody tr th:only-of-type {\n",
       "        vertical-align: middle;\n",
       "    }\n",
       "\n",
       "    .dataframe tbody tr th {\n",
       "        vertical-align: top;\n",
       "    }\n",
       "\n",
       "    .dataframe thead th {\n",
       "        text-align: right;\n",
       "    }\n",
       "</style>\n",
       "<table border=\"1\" class=\"dataframe\">\n",
       "  <thead>\n",
       "    <tr style=\"text-align: right;\">\n",
       "      <th></th>\n",
       "      <th>name</th>\n",
       "      <th>created_date</th>\n",
       "      <th>status</th>\n",
       "      <th>updated_date</th>\n",
       "      <th>belong_to</th>\n",
       "      <th>created_user_id</th>\n",
       "      <th>updated_user_id</th>\n",
       "    </tr>\n",
       "  </thead>\n",
       "  <tbody>\n",
       "    <tr>\n",
       "      <th>0</th>\n",
       "      <td>AB Initio</td>\n",
       "      <td>2021-05-28 14:42:43.933669</td>\n",
       "      <td>True</td>\n",
       "      <td>2021-05-28 14:42:43.937224</td>\n",
       "      <td>1</td>\n",
       "      <td>-1</td>\n",
       "      <td>-1</td>\n",
       "    </tr>\n",
       "    <tr>\n",
       "      <th>1</th>\n",
       "      <td>AWS Glue</td>\n",
       "      <td>2021-05-28 14:42:43.933669</td>\n",
       "      <td>True</td>\n",
       "      <td>2021-05-28 14:42:43.937224</td>\n",
       "      <td>1</td>\n",
       "      <td>-1</td>\n",
       "      <td>-1</td>\n",
       "    </tr>\n",
       "    <tr>\n",
       "      <th>2</th>\n",
       "      <td>Airbyte</td>\n",
       "      <td>2021-05-28 14:42:43.933669</td>\n",
       "      <td>True</td>\n",
       "      <td>2021-05-28 14:42:43.937224</td>\n",
       "      <td>1</td>\n",
       "      <td>-1</td>\n",
       "      <td>-1</td>\n",
       "    </tr>\n",
       "    <tr>\n",
       "      <th>3</th>\n",
       "      <td>Alooma</td>\n",
       "      <td>2021-05-28 14:42:43.933669</td>\n",
       "      <td>True</td>\n",
       "      <td>2021-05-28 14:42:43.937224</td>\n",
       "      <td>1</td>\n",
       "      <td>-1</td>\n",
       "      <td>-1</td>\n",
       "    </tr>\n",
       "    <tr>\n",
       "      <th>4</th>\n",
       "      <td>Apache Accumulo</td>\n",
       "      <td>2021-05-28 14:42:43.933669</td>\n",
       "      <td>True</td>\n",
       "      <td>2021-05-28 14:42:43.937224</td>\n",
       "      <td>1</td>\n",
       "      <td>-1</td>\n",
       "      <td>-1</td>\n",
       "    </tr>\n",
       "  </tbody>\n",
       "</table>\n",
       "</div>"
      ],
      "text/plain": [
       "              name               created_date  status  \\\n",
       "0        AB Initio 2021-05-28 14:42:43.933669    True   \n",
       "1         AWS Glue 2021-05-28 14:42:43.933669    True   \n",
       "2          Airbyte 2021-05-28 14:42:43.933669    True   \n",
       "3           Alooma 2021-05-28 14:42:43.933669    True   \n",
       "4  Apache Accumulo 2021-05-28 14:42:43.933669    True   \n",
       "\n",
       "                updated_date  belong_to  created_user_id  updated_user_id  \n",
       "0 2021-05-28 14:42:43.937224          1               -1               -1  \n",
       "1 2021-05-28 14:42:43.937224          1               -1               -1  \n",
       "2 2021-05-28 14:42:43.937224          1               -1               -1  \n",
       "3 2021-05-28 14:42:43.937224          1               -1               -1  \n",
       "4 2021-05-28 14:42:43.937224          1               -1               -1  "
      ]
     },
     "execution_count": 5,
     "metadata": {},
     "output_type": "execute_result"
    }
   ],
   "source": [
    "df_s2['created_user_id'] = -1\n",
    "df_s2['updated_user_id'] = -1\n",
    "df_s2.head()"
   ]
  },
  {
   "cell_type": "code",
   "execution_count": 6,
   "metadata": {
    "scrolled": false
   },
   "outputs": [],
   "source": [
    "skillstreet_engine = create_engine(secrets['skillstreet_stage'])\n",
    "df_s2.to_sql('other_skill_mst', skillstreet_engine, index=False, if_exists='append')\n",
    "skillstreet_engine.dispose()"
   ]
  },
  {
   "cell_type": "markdown",
   "metadata": {},
   "source": [
    "### PROD"
   ]
  },
  {
   "cell_type": "code",
   "execution_count": 7,
   "metadata": {},
   "outputs": [
    {
     "data": {
      "text/html": [
       "<div>\n",
       "<style scoped>\n",
       "    .dataframe tbody tr th:only-of-type {\n",
       "        vertical-align: middle;\n",
       "    }\n",
       "\n",
       "    .dataframe tbody tr th {\n",
       "        vertical-align: top;\n",
       "    }\n",
       "\n",
       "    .dataframe thead th {\n",
       "        text-align: right;\n",
       "    }\n",
       "</style>\n",
       "<table border=\"1\" class=\"dataframe\">\n",
       "  <thead>\n",
       "    <tr style=\"text-align: right;\">\n",
       "      <th></th>\n",
       "      <th>name</th>\n",
       "      <th>created_date</th>\n",
       "      <th>status</th>\n",
       "      <th>updated_date</th>\n",
       "      <th>belong_to</th>\n",
       "      <th>created_user_id</th>\n",
       "      <th>updated_user_id</th>\n",
       "    </tr>\n",
       "  </thead>\n",
       "  <tbody>\n",
       "    <tr>\n",
       "      <th>0</th>\n",
       "      <td>AB Initio</td>\n",
       "      <td>2021-05-28 14:42:43.933669</td>\n",
       "      <td>True</td>\n",
       "      <td>2021-05-28 14:42:43.937224</td>\n",
       "      <td>1</td>\n",
       "      <td>1</td>\n",
       "      <td>1</td>\n",
       "    </tr>\n",
       "    <tr>\n",
       "      <th>1</th>\n",
       "      <td>AWS Glue</td>\n",
       "      <td>2021-05-28 14:42:43.933669</td>\n",
       "      <td>True</td>\n",
       "      <td>2021-05-28 14:42:43.937224</td>\n",
       "      <td>1</td>\n",
       "      <td>1</td>\n",
       "      <td>1</td>\n",
       "    </tr>\n",
       "    <tr>\n",
       "      <th>2</th>\n",
       "      <td>Airbyte</td>\n",
       "      <td>2021-05-28 14:42:43.933669</td>\n",
       "      <td>True</td>\n",
       "      <td>2021-05-28 14:42:43.937224</td>\n",
       "      <td>1</td>\n",
       "      <td>1</td>\n",
       "      <td>1</td>\n",
       "    </tr>\n",
       "    <tr>\n",
       "      <th>3</th>\n",
       "      <td>Alooma</td>\n",
       "      <td>2021-05-28 14:42:43.933669</td>\n",
       "      <td>True</td>\n",
       "      <td>2021-05-28 14:42:43.937224</td>\n",
       "      <td>1</td>\n",
       "      <td>1</td>\n",
       "      <td>1</td>\n",
       "    </tr>\n",
       "    <tr>\n",
       "      <th>4</th>\n",
       "      <td>Apache Accumulo</td>\n",
       "      <td>2021-05-28 14:42:43.933669</td>\n",
       "      <td>True</td>\n",
       "      <td>2021-05-28 14:42:43.937224</td>\n",
       "      <td>1</td>\n",
       "      <td>1</td>\n",
       "      <td>1</td>\n",
       "    </tr>\n",
       "  </tbody>\n",
       "</table>\n",
       "</div>"
      ],
      "text/plain": [
       "              name               created_date  status  \\\n",
       "0        AB Initio 2021-05-28 14:42:43.933669    True   \n",
       "1         AWS Glue 2021-05-28 14:42:43.933669    True   \n",
       "2          Airbyte 2021-05-28 14:42:43.933669    True   \n",
       "3           Alooma 2021-05-28 14:42:43.933669    True   \n",
       "4  Apache Accumulo 2021-05-28 14:42:43.933669    True   \n",
       "\n",
       "                updated_date  belong_to  created_user_id  updated_user_id  \n",
       "0 2021-05-28 14:42:43.937224          1                1                1  \n",
       "1 2021-05-28 14:42:43.937224          1                1                1  \n",
       "2 2021-05-28 14:42:43.937224          1                1                1  \n",
       "3 2021-05-28 14:42:43.937224          1                1                1  \n",
       "4 2021-05-28 14:42:43.937224          1                1                1  "
      ]
     },
     "execution_count": 7,
     "metadata": {},
     "output_type": "execute_result"
    }
   ],
   "source": [
    "df_s2['created_user_id'] = 1\n",
    "df_s2['updated_user_id'] = 1\n",
    "df_s2.head()"
   ]
  },
  {
   "cell_type": "code",
   "execution_count": 8,
   "metadata": {},
   "outputs": [],
   "source": [
    "skillstreet_engine = create_engine(secrets['skillstreets_prod'])\n",
    "df_s2.to_sql('other_skill_mst', skillstreet_engine, index=False, if_exists='append')\n",
    "skillstreet_engine.dispose()"
   ]
  },
  {
   "cell_type": "code",
   "execution_count": null,
   "metadata": {},
   "outputs": [],
   "source": []
  }
 ],
 "metadata": {
  "kernelspec": {
   "display_name": "Python 3",
   "language": "python",
   "name": "python3"
  },
  "language_info": {
   "codemirror_mode": {
    "name": "ipython",
    "version": 3
   },
   "file_extension": ".py",
   "mimetype": "text/x-python",
   "name": "python",
   "nbconvert_exporter": "python",
   "pygments_lexer": "ipython3",
   "version": "3.7.6"
  }
 },
 "nbformat": 4,
 "nbformat_minor": 4
}
