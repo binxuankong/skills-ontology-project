{
 "cells": [
  {
   "cell_type": "code",
   "execution_count": 1,
   "metadata": {},
   "outputs": [],
   "source": [
    "import pandas as pd\n",
    "import requests\n",
    "import emsi\n",
    "from secrets import secrets"
   ]
  },
  {
   "cell_type": "markdown",
   "metadata": {},
   "source": [
    "## Get access to Emsi"
   ]
  },
  {
   "cell_type": "code",
   "execution_count": 55,
   "metadata": {},
   "outputs": [
    {
     "data": {
      "text/plain": [
       "{'healthy': True, 'message': 'Service is healthy'}"
      ]
     },
     "execution_count": 55,
     "metadata": {},
     "output_type": "execute_result"
    }
   ],
   "source": [
    "access_token = emsi.get_access_token(secrets['emsi_client_id'], secrets['emsi_secret'])\n",
    "emsi.check_health(access_token)"
   ]
  },
  {
   "cell_type": "markdown",
   "metadata": {},
   "source": [
    "## Load Coursera skills"
   ]
  },
  {
   "cell_type": "code",
   "execution_count": 5,
   "metadata": {},
   "outputs": [
    {
     "data": {
      "text/html": [
       "<div>\n",
       "<style scoped>\n",
       "    .dataframe tbody tr th:only-of-type {\n",
       "        vertical-align: middle;\n",
       "    }\n",
       "\n",
       "    .dataframe tbody tr th {\n",
       "        vertical-align: top;\n",
       "    }\n",
       "\n",
       "    .dataframe thead th {\n",
       "        text-align: right;\n",
       "    }\n",
       "</style>\n",
       "<table border=\"1\" class=\"dataframe\">\n",
       "  <thead>\n",
       "    <tr style=\"text-align: right;\">\n",
       "      <th></th>\n",
       "      <th>Skill</th>\n",
       "      <th>Domain</th>\n",
       "      <th>Sub-Domain</th>\n",
       "    </tr>\n",
       "  </thead>\n",
       "  <tbody>\n",
       "    <tr>\n",
       "      <th>0</th>\n",
       "      <td>Journalism</td>\n",
       "      <td>arts-and-humanities</td>\n",
       "      <td>history</td>\n",
       "    </tr>\n",
       "    <tr>\n",
       "      <th>1</th>\n",
       "      <td>Content Marketing</td>\n",
       "      <td>arts-and-humanities</td>\n",
       "      <td>history</td>\n",
       "    </tr>\n",
       "    <tr>\n",
       "      <th>2</th>\n",
       "      <td>Storytelling</td>\n",
       "      <td>arts-and-humanities</td>\n",
       "      <td>history</td>\n",
       "    </tr>\n",
       "    <tr>\n",
       "      <th>3</th>\n",
       "      <td>Advertising</td>\n",
       "      <td>arts-and-humanities</td>\n",
       "      <td>history</td>\n",
       "    </tr>\n",
       "    <tr>\n",
       "      <th>4</th>\n",
       "      <td>Marketing</td>\n",
       "      <td>arts-and-humanities</td>\n",
       "      <td>history</td>\n",
       "    </tr>\n",
       "  </tbody>\n",
       "</table>\n",
       "</div>"
      ],
      "text/plain": [
       "               Skill               Domain Sub-Domain\n",
       "0         Journalism  arts-and-humanities    history\n",
       "1  Content Marketing  arts-and-humanities    history\n",
       "2       Storytelling  arts-and-humanities    history\n",
       "3        Advertising  arts-and-humanities    history\n",
       "4          Marketing  arts-and-humanities    history"
      ]
     },
     "execution_count": 5,
     "metadata": {},
     "output_type": "execute_result"
    }
   ],
   "source": [
    "df = pd.read_csv('skills/coursera_full.csv').drop(columns=['Unnamed: 0'])\n",
    "df.head()"
   ]
  },
  {
   "cell_type": "markdown",
   "metadata": {},
   "source": [
    "### Get related skills from Emsi"
   ]
  },
  {
   "cell_type": "code",
   "execution_count": 49,
   "metadata": {},
   "outputs": [],
   "source": [
    "def get_all_skills(df, subdomain):\n",
    "    sd_initial = df.loc[df['Sub-Domain'] == subdomain]['Skill'].tolist()\n",
    "    print(len(sd_initial))\n",
    "    print()\n",
    "    sd_skills = get_related_skills(sd_initial)\n",
    "    df_sd = pd.DataFrame(sd_skills, columns=['Skill'])\n",
    "    print(df_sd.describe(include='object'))\n",
    "    return df_sd.drop_duplicates()\n",
    "\n",
    "def get_related_skills(skills, print_percent=5):\n",
    "    new_skills = []\n",
    "    for i, s in enumerate(skills):\n",
    "        if (i + 1) % int(len(skills) * print_percent / 100) == 0:\n",
    "            print(\"{}% done\".format((i + 1) / len(skills) * 100))\n",
    "        related = emsi.get_emsi_skills(s, access_token)\n",
    "        for r in related:\n",
    "            new_skills.append(r['name'])\n",
    "    return new_skills"
   ]
  },
  {
   "cell_type": "markdown",
   "metadata": {},
   "source": [
    "### Data Science"
   ]
  },
  {
   "cell_type": "code",
   "execution_count": 37,
   "metadata": {},
   "outputs": [
    {
     "data": {
      "text/html": [
       "<div>\n",
       "<style scoped>\n",
       "    .dataframe tbody tr th:only-of-type {\n",
       "        vertical-align: middle;\n",
       "    }\n",
       "\n",
       "    .dataframe tbody tr th {\n",
       "        vertical-align: top;\n",
       "    }\n",
       "\n",
       "    .dataframe thead th {\n",
       "        text-align: right;\n",
       "    }\n",
       "</style>\n",
       "<table border=\"1\" class=\"dataframe\">\n",
       "  <thead>\n",
       "    <tr style=\"text-align: right;\">\n",
       "      <th></th>\n",
       "      <th>Skill</th>\n",
       "      <th>Domain</th>\n",
       "      <th>Sub-Domain</th>\n",
       "    </tr>\n",
       "  </thead>\n",
       "  <tbody>\n",
       "    <tr>\n",
       "      <th>7804</th>\n",
       "      <td>Microsoft Excel Vba</td>\n",
       "      <td>data-science</td>\n",
       "      <td>data-analysis</td>\n",
       "    </tr>\n",
       "    <tr>\n",
       "      <th>7805</th>\n",
       "      <td>Tableau Software</td>\n",
       "      <td>data-science</td>\n",
       "      <td>data-analysis</td>\n",
       "    </tr>\n",
       "    <tr>\n",
       "      <th>7806</th>\n",
       "      <td>Analytics</td>\n",
       "      <td>data-science</td>\n",
       "      <td>data-analysis</td>\n",
       "    </tr>\n",
       "    <tr>\n",
       "      <th>7807</th>\n",
       "      <td>Data Clustering Algorithms</td>\n",
       "      <td>data-science</td>\n",
       "      <td>data-analysis</td>\n",
       "    </tr>\n",
       "    <tr>\n",
       "      <th>7808</th>\n",
       "      <td>Software</td>\n",
       "      <td>data-science</td>\n",
       "      <td>data-analysis</td>\n",
       "    </tr>\n",
       "  </tbody>\n",
       "</table>\n",
       "</div>"
      ],
      "text/plain": [
       "                           Skill        Domain     Sub-Domain\n",
       "7804         Microsoft Excel Vba  data-science  data-analysis\n",
       "7805            Tableau Software  data-science  data-analysis\n",
       "7806                   Analytics  data-science  data-analysis\n",
       "7807  Data Clustering Algorithms  data-science  data-analysis\n",
       "7808                    Software  data-science  data-analysis"
      ]
     },
     "execution_count": 37,
     "metadata": {},
     "output_type": "execute_result"
    }
   ],
   "source": [
    "df_ds = df.loc[df['Domain'] == 'data-science']\n",
    "df_ds.head()"
   ]
  },
  {
   "cell_type": "code",
   "execution_count": 7,
   "metadata": {},
   "outputs": [
    {
     "data": {
      "text/plain": [
       "array(['data-analysis', 'machine-learning', 'probability-and-statistics'],\n",
       "      dtype=object)"
      ]
     },
     "execution_count": 7,
     "metadata": {},
     "output_type": "execute_result"
    }
   ],
   "source": [
    "df_ds['Sub-Domain'].unique()"
   ]
  },
  {
   "cell_type": "code",
   "execution_count": 10,
   "metadata": {},
   "outputs": [
    {
     "data": {
      "text/plain": [
       "926"
      ]
     },
     "execution_count": 10,
     "metadata": {},
     "output_type": "execute_result"
    }
   ],
   "source": [
    "# Data Analysis skills\n",
    "da_initial = df_ds.loc[df_ds['Sub-Domain'] == 'data-analysis']['Skill'].tolist()\n",
    "len(da_initial)"
   ]
  },
  {
   "cell_type": "code",
   "execution_count": 17,
   "metadata": {},
   "outputs": [
    {
     "name": "stdout",
     "output_type": "stream",
     "text": [
      "4.967602591792657% done\n",
      "9.935205183585314% done\n",
      "14.902807775377969% done\n",
      "19.870410367170628% done\n",
      "24.838012958963283% done\n",
      "29.805615550755938% done\n",
      "34.77321814254859% done\n",
      "39.740820734341256% done\n",
      "44.70842332613391% done\n",
      "49.676025917926566% done\n",
      "54.64362850971922% done\n",
      "59.611231101511876% done\n",
      "64.57883369330453% done\n",
      "69.54643628509719% done\n",
      "74.51403887688986% done\n",
      "79.48164146868251% done\n",
      "84.44924406047517% done\n",
      "89.41684665226782% done\n",
      "94.38444924406048% done\n",
      "99.35205183585313% done\n"
     ]
    }
   ],
   "source": [
    "da_skills = get_related_skills(da_initial)"
   ]
  },
  {
   "cell_type": "code",
   "execution_count": 24,
   "metadata": {},
   "outputs": [
    {
     "data": {
      "text/html": [
       "<div>\n",
       "<style scoped>\n",
       "    .dataframe tbody tr th:only-of-type {\n",
       "        vertical-align: middle;\n",
       "    }\n",
       "\n",
       "    .dataframe tbody tr th {\n",
       "        vertical-align: top;\n",
       "    }\n",
       "\n",
       "    .dataframe thead th {\n",
       "        text-align: right;\n",
       "    }\n",
       "</style>\n",
       "<table border=\"1\" class=\"dataframe\">\n",
       "  <thead>\n",
       "    <tr style=\"text-align: right;\">\n",
       "      <th></th>\n",
       "      <th>Skill</th>\n",
       "    </tr>\n",
       "  </thead>\n",
       "  <tbody>\n",
       "    <tr>\n",
       "      <th>count</th>\n",
       "      <td>2640</td>\n",
       "    </tr>\n",
       "    <tr>\n",
       "      <th>unique</th>\n",
       "      <td>2241</td>\n",
       "    </tr>\n",
       "    <tr>\n",
       "      <th>top</th>\n",
       "      <td>Machine Learning Algorithms</td>\n",
       "    </tr>\n",
       "    <tr>\n",
       "      <th>freq</th>\n",
       "      <td>5</td>\n",
       "    </tr>\n",
       "  </tbody>\n",
       "</table>\n",
       "</div>"
      ],
      "text/plain": [
       "                              Skill\n",
       "count                          2640\n",
       "unique                         2241\n",
       "top     Machine Learning Algorithms\n",
       "freq                              5"
      ]
     },
     "execution_count": 24,
     "metadata": {},
     "output_type": "execute_result"
    }
   ],
   "source": [
    "df_da = pd.DataFrame(da_skills, columns=['Skill'])\n",
    "df_da.describe(include='object')"
   ]
  },
  {
   "cell_type": "code",
   "execution_count": 25,
   "metadata": {},
   "outputs": [
    {
     "data": {
      "text/html": [
       "<div>\n",
       "<style scoped>\n",
       "    .dataframe tbody tr th:only-of-type {\n",
       "        vertical-align: middle;\n",
       "    }\n",
       "\n",
       "    .dataframe tbody tr th {\n",
       "        vertical-align: top;\n",
       "    }\n",
       "\n",
       "    .dataframe thead th {\n",
       "        text-align: right;\n",
       "    }\n",
       "</style>\n",
       "<table border=\"1\" class=\"dataframe\">\n",
       "  <thead>\n",
       "    <tr style=\"text-align: right;\">\n",
       "      <th></th>\n",
       "      <th>Skill</th>\n",
       "    </tr>\n",
       "  </thead>\n",
       "  <tbody>\n",
       "    <tr>\n",
       "      <th>0</th>\n",
       "      <td>Analytics</td>\n",
       "    </tr>\n",
       "    <tr>\n",
       "      <th>1</th>\n",
       "      <td>Analytical Thinking</td>\n",
       "    </tr>\n",
       "    <tr>\n",
       "      <th>2</th>\n",
       "      <td>Google Analytics</td>\n",
       "    </tr>\n",
       "    <tr>\n",
       "      <th>3</th>\n",
       "      <td>Business Analytics</td>\n",
       "    </tr>\n",
       "    <tr>\n",
       "      <th>4</th>\n",
       "      <td>Analytical Techniques</td>\n",
       "    </tr>\n",
       "  </tbody>\n",
       "</table>\n",
       "</div>"
      ],
      "text/plain": [
       "                   Skill\n",
       "0              Analytics\n",
       "1    Analytical Thinking\n",
       "2       Google Analytics\n",
       "3     Business Analytics\n",
       "4  Analytical Techniques"
      ]
     },
     "execution_count": 25,
     "metadata": {},
     "output_type": "execute_result"
    }
   ],
   "source": [
    "df_da = df_da.drop_duplicates()\n",
    "df_da.head()"
   ]
  },
  {
   "cell_type": "code",
   "execution_count": 26,
   "metadata": {
    "scrolled": true
   },
   "outputs": [
    {
     "data": {
      "text/plain": [
       "646"
      ]
     },
     "execution_count": 26,
     "metadata": {},
     "output_type": "execute_result"
    }
   ],
   "source": [
    "# Machine learning skills\n",
    "ml_initial = df_ds.loc[df_ds['Sub-Domain'] == 'machine-learning']['Skill'].tolist()\n",
    "len(ml_initial)"
   ]
  },
  {
   "cell_type": "code",
   "execution_count": 27,
   "metadata": {},
   "outputs": [
    {
     "name": "stdout",
     "output_type": "stream",
     "text": [
      "4.953560371517028% done\n",
      "9.907120743034056% done\n",
      "14.860681114551083% done\n",
      "19.814241486068113% done\n",
      "24.76780185758514% done\n",
      "29.721362229102166% done\n",
      "34.6749226006192% done\n",
      "39.628482972136226% done\n",
      "44.58204334365325% done\n",
      "49.53560371517028% done\n",
      "54.4891640866873% done\n",
      "59.44272445820433% done\n",
      "64.39628482972137% done\n",
      "69.3498452012384% done\n",
      "74.30340557275542% done\n",
      "79.25696594427245% done\n",
      "84.21052631578947% done\n",
      "89.1640866873065% done\n",
      "94.11764705882352% done\n",
      "99.07120743034056% done\n"
     ]
    }
   ],
   "source": [
    "ml_skills = get_related_skills(ml_initial)"
   ]
  },
  {
   "cell_type": "code",
   "execution_count": 28,
   "metadata": {},
   "outputs": [
    {
     "data": {
      "text/html": [
       "<div>\n",
       "<style scoped>\n",
       "    .dataframe tbody tr th:only-of-type {\n",
       "        vertical-align: middle;\n",
       "    }\n",
       "\n",
       "    .dataframe tbody tr th {\n",
       "        vertical-align: top;\n",
       "    }\n",
       "\n",
       "    .dataframe thead th {\n",
       "        text-align: right;\n",
       "    }\n",
       "</style>\n",
       "<table border=\"1\" class=\"dataframe\">\n",
       "  <thead>\n",
       "    <tr style=\"text-align: right;\">\n",
       "      <th></th>\n",
       "      <th>Skill</th>\n",
       "    </tr>\n",
       "  </thead>\n",
       "  <tbody>\n",
       "    <tr>\n",
       "      <th>count</th>\n",
       "      <td>1735</td>\n",
       "    </tr>\n",
       "    <tr>\n",
       "      <th>unique</th>\n",
       "      <td>1549</td>\n",
       "    </tr>\n",
       "    <tr>\n",
       "      <th>top</th>\n",
       "      <td>Machine Learning Algorithms</td>\n",
       "    </tr>\n",
       "    <tr>\n",
       "      <th>freq</th>\n",
       "      <td>4</td>\n",
       "    </tr>\n",
       "  </tbody>\n",
       "</table>\n",
       "</div>"
      ],
      "text/plain": [
       "                              Skill\n",
       "count                          1735\n",
       "unique                         1549\n",
       "top     Machine Learning Algorithms\n",
       "freq                              4"
      ]
     },
     "execution_count": 28,
     "metadata": {},
     "output_type": "execute_result"
    }
   ],
   "source": [
    "df_ml = pd.DataFrame(ml_skills, columns=['Skill'])\n",
    "df_ml.describe(include='object')"
   ]
  },
  {
   "cell_type": "code",
   "execution_count": 29,
   "metadata": {},
   "outputs": [
    {
     "data": {
      "text/html": [
       "<div>\n",
       "<style scoped>\n",
       "    .dataframe tbody tr th:only-of-type {\n",
       "        vertical-align: middle;\n",
       "    }\n",
       "\n",
       "    .dataframe tbody tr th {\n",
       "        vertical-align: top;\n",
       "    }\n",
       "\n",
       "    .dataframe thead th {\n",
       "        text-align: right;\n",
       "    }\n",
       "</style>\n",
       "<table border=\"1\" class=\"dataframe\">\n",
       "  <thead>\n",
       "    <tr style=\"text-align: right;\">\n",
       "      <th></th>\n",
       "      <th>Skill</th>\n",
       "    </tr>\n",
       "  </thead>\n",
       "  <tbody>\n",
       "    <tr>\n",
       "      <th>0</th>\n",
       "      <td>Document Classification</td>\n",
       "    </tr>\n",
       "    <tr>\n",
       "      <th>1</th>\n",
       "      <td>Hyperparameter Optimization</td>\n",
       "    </tr>\n",
       "    <tr>\n",
       "      <th>2</th>\n",
       "      <td>Regression Testing</td>\n",
       "    </tr>\n",
       "    <tr>\n",
       "      <th>3</th>\n",
       "      <td>Regression Analysis</td>\n",
       "    </tr>\n",
       "    <tr>\n",
       "      <th>4</th>\n",
       "      <td>Logistic Regression</td>\n",
       "    </tr>\n",
       "  </tbody>\n",
       "</table>\n",
       "</div>"
      ],
      "text/plain": [
       "                         Skill\n",
       "0      Document Classification\n",
       "1  Hyperparameter Optimization\n",
       "2           Regression Testing\n",
       "3          Regression Analysis\n",
       "4          Logistic Regression"
      ]
     },
     "execution_count": 29,
     "metadata": {},
     "output_type": "execute_result"
    }
   ],
   "source": [
    "df_ml = df_ml.drop_duplicates()\n",
    "df_ml.head()"
   ]
  },
  {
   "cell_type": "code",
   "execution_count": 30,
   "metadata": {
    "scrolled": true
   },
   "outputs": [
    {
     "data": {
      "text/plain": [
       "204"
      ]
     },
     "execution_count": 30,
     "metadata": {},
     "output_type": "execute_result"
    }
   ],
   "source": [
    "# Probability and statistics skills\n",
    "ps_initial = df_ds.loc[df_ds['Sub-Domain'] == 'probability-and-statistics']['Skill'].tolist()\n",
    "len(ps_initial)"
   ]
  },
  {
   "cell_type": "code",
   "execution_count": 31,
   "metadata": {},
   "outputs": [
    {
     "name": "stdout",
     "output_type": "stream",
     "text": [
      "4.901960784313726% done\n",
      "9.803921568627452% done\n",
      "14.705882352941178% done\n",
      "19.607843137254903% done\n",
      "24.509803921568626% done\n",
      "29.411764705882355% done\n",
      "34.31372549019608% done\n",
      "39.21568627450981% done\n",
      "44.11764705882353% done\n",
      "49.01960784313725% done\n",
      "53.92156862745098% done\n",
      "58.82352941176471% done\n",
      "63.725490196078425% done\n",
      "68.62745098039215% done\n",
      "73.52941176470588% done\n",
      "78.43137254901961% done\n",
      "83.33333333333334% done\n",
      "88.23529411764706% done\n",
      "93.13725490196079% done\n",
      "98.0392156862745% done\n"
     ]
    }
   ],
   "source": [
    "ps_skills = get_related_skills(ps_initial)"
   ]
  },
  {
   "cell_type": "code",
   "execution_count": 32,
   "metadata": {},
   "outputs": [
    {
     "data": {
      "text/html": [
       "<div>\n",
       "<style scoped>\n",
       "    .dataframe tbody tr th:only-of-type {\n",
       "        vertical-align: middle;\n",
       "    }\n",
       "\n",
       "    .dataframe tbody tr th {\n",
       "        vertical-align: top;\n",
       "    }\n",
       "\n",
       "    .dataframe thead th {\n",
       "        text-align: right;\n",
       "    }\n",
       "</style>\n",
       "<table border=\"1\" class=\"dataframe\">\n",
       "  <thead>\n",
       "    <tr style=\"text-align: right;\">\n",
       "      <th></th>\n",
       "      <th>Skill</th>\n",
       "    </tr>\n",
       "  </thead>\n",
       "  <tbody>\n",
       "    <tr>\n",
       "      <th>count</th>\n",
       "      <td>474</td>\n",
       "    </tr>\n",
       "    <tr>\n",
       "      <th>unique</th>\n",
       "      <td>426</td>\n",
       "    </tr>\n",
       "    <tr>\n",
       "      <th>top</th>\n",
       "      <td>Statistical Hypothesis Testing</td>\n",
       "    </tr>\n",
       "    <tr>\n",
       "      <th>freq</th>\n",
       "      <td>4</td>\n",
       "    </tr>\n",
       "  </tbody>\n",
       "</table>\n",
       "</div>"
      ],
      "text/plain": [
       "                                 Skill\n",
       "count                              474\n",
       "unique                             426\n",
       "top     Statistical Hypothesis Testing\n",
       "freq                                 4"
      ]
     },
     "execution_count": 32,
     "metadata": {},
     "output_type": "execute_result"
    }
   ],
   "source": [
    "df_ps = pd.DataFrame(ps_skills, columns=['Skill'])\n",
    "df_ps.describe(include='object')"
   ]
  },
  {
   "cell_type": "code",
   "execution_count": 33,
   "metadata": {},
   "outputs": [
    {
     "data": {
      "text/html": [
       "<div>\n",
       "<style scoped>\n",
       "    .dataframe tbody tr th:only-of-type {\n",
       "        vertical-align: middle;\n",
       "    }\n",
       "\n",
       "    .dataframe tbody tr th {\n",
       "        vertical-align: top;\n",
       "    }\n",
       "\n",
       "    .dataframe thead th {\n",
       "        text-align: right;\n",
       "    }\n",
       "</style>\n",
       "<table border=\"1\" class=\"dataframe\">\n",
       "  <thead>\n",
       "    <tr style=\"text-align: right;\">\n",
       "      <th></th>\n",
       "      <th>Skill</th>\n",
       "    </tr>\n",
       "  </thead>\n",
       "  <tbody>\n",
       "    <tr>\n",
       "      <th>0</th>\n",
       "      <td>Biostatistics</td>\n",
       "    </tr>\n",
       "    <tr>\n",
       "      <th>1</th>\n",
       "      <td>Odds Ratios (Epidemiology)</td>\n",
       "    </tr>\n",
       "    <tr>\n",
       "      <th>3</th>\n",
       "      <td>Bootstrap (Front-End Framework)</td>\n",
       "    </tr>\n",
       "    <tr>\n",
       "      <th>4</th>\n",
       "      <td>Spring Boot</td>\n",
       "    </tr>\n",
       "    <tr>\n",
       "      <th>5</th>\n",
       "      <td>Booting (BIOS)</td>\n",
       "    </tr>\n",
       "  </tbody>\n",
       "</table>\n",
       "</div>"
      ],
      "text/plain": [
       "                             Skill\n",
       "0                    Biostatistics\n",
       "1       Odds Ratios (Epidemiology)\n",
       "3  Bootstrap (Front-End Framework)\n",
       "4                      Spring Boot\n",
       "5                   Booting (BIOS)"
      ]
     },
     "execution_count": 33,
     "metadata": {},
     "output_type": "execute_result"
    }
   ],
   "source": [
    "df_ps = df_ps.drop_duplicates()\n",
    "df_ps.head()"
   ]
  },
  {
   "cell_type": "code",
   "execution_count": 35,
   "metadata": {},
   "outputs": [],
   "source": [
    "df_da.to_csv('skills/data-analysis.csv', index=False)\n",
    "df_ml.to_csv('skills/machine-learning.csv', index=False)\n",
    "df_ps.to_csv('skills/probability-and-statistics.csv', index=False)"
   ]
  },
  {
   "cell_type": "markdown",
   "metadata": {},
   "source": [
    "### Computer Science"
   ]
  },
  {
   "cell_type": "code",
   "execution_count": 39,
   "metadata": {},
   "outputs": [
    {
     "data": {
      "text/html": [
       "<div>\n",
       "<style scoped>\n",
       "    .dataframe tbody tr th:only-of-type {\n",
       "        vertical-align: middle;\n",
       "    }\n",
       "\n",
       "    .dataframe tbody tr th {\n",
       "        vertical-align: top;\n",
       "    }\n",
       "\n",
       "    .dataframe thead th {\n",
       "        text-align: right;\n",
       "    }\n",
       "</style>\n",
       "<table border=\"1\" class=\"dataframe\">\n",
       "  <thead>\n",
       "    <tr style=\"text-align: right;\">\n",
       "      <th></th>\n",
       "      <th>Skill</th>\n",
       "      <th>Domain</th>\n",
       "      <th>Sub-Domain</th>\n",
       "    </tr>\n",
       "  </thead>\n",
       "  <tbody>\n",
       "    <tr>\n",
       "      <th>4824</th>\n",
       "      <td>Image Retrieval</td>\n",
       "      <td>computer-science</td>\n",
       "      <td>algorithms</td>\n",
       "    </tr>\n",
       "    <tr>\n",
       "      <th>4825</th>\n",
       "      <td>Computer Vision</td>\n",
       "      <td>computer-science</td>\n",
       "      <td>algorithms</td>\n",
       "    </tr>\n",
       "    <tr>\n",
       "      <th>4826</th>\n",
       "      <td>Image Processing</td>\n",
       "      <td>computer-science</td>\n",
       "      <td>algorithms</td>\n",
       "    </tr>\n",
       "    <tr>\n",
       "      <th>4827</th>\n",
       "      <td>Convolution</td>\n",
       "      <td>computer-science</td>\n",
       "      <td>algorithms</td>\n",
       "    </tr>\n",
       "    <tr>\n",
       "      <th>4828</th>\n",
       "      <td>Object Detection</td>\n",
       "      <td>computer-science</td>\n",
       "      <td>algorithms</td>\n",
       "    </tr>\n",
       "  </tbody>\n",
       "</table>\n",
       "</div>"
      ],
      "text/plain": [
       "                 Skill            Domain  Sub-Domain\n",
       "4824   Image Retrieval  computer-science  algorithms\n",
       "4825   Computer Vision  computer-science  algorithms\n",
       "4826  Image Processing  computer-science  algorithms\n",
       "4827       Convolution  computer-science  algorithms\n",
       "4828  Object Detection  computer-science  algorithms"
      ]
     },
     "execution_count": 39,
     "metadata": {},
     "output_type": "execute_result"
    }
   ],
   "source": [
    "df_cs = df.loc[df['Domain'] == 'computer-science']\n",
    "df_cs.head()"
   ]
  },
  {
   "cell_type": "code",
   "execution_count": 40,
   "metadata": {},
   "outputs": [
    {
     "data": {
      "text/plain": [
       "array(['algorithms', 'computer-security-and-networks',\n",
       "       'design-and-product', 'mobile-and-web-development',\n",
       "       'software-development'], dtype=object)"
      ]
     },
     "execution_count": 40,
     "metadata": {},
     "output_type": "execute_result"
    }
   ],
   "source": [
    "df_cs['Sub-Domain'].unique()"
   ]
  },
  {
   "cell_type": "code",
   "execution_count": 50,
   "metadata": {},
   "outputs": [
    {
     "name": "stdout",
     "output_type": "stream",
     "text": [
      "410\n",
      "\n",
      "4.878048780487805% done\n",
      "9.75609756097561% done\n",
      "14.634146341463413% done\n",
      "19.51219512195122% done\n",
      "24.390243902439025% done\n",
      "29.268292682926827% done\n",
      "34.146341463414636% done\n",
      "39.02439024390244% done\n",
      "43.90243902439025% done\n",
      "48.78048780487805% done\n",
      "53.65853658536586% done\n",
      "58.536585365853654% done\n",
      "63.41463414634146% done\n",
      "68.29268292682927% done\n",
      "73.17073170731707% done\n",
      "78.04878048780488% done\n",
      "82.92682926829268% done\n",
      "87.8048780487805% done\n",
      "92.6829268292683% done\n",
      "97.5609756097561% done\n",
      "                           Skill\n",
      "count                       1042\n",
      "unique                       935\n",
      "top     Graphical User Interface\n",
      "freq                           3\n"
     ]
    },
    {
     "data": {
      "text/html": [
       "<div>\n",
       "<style scoped>\n",
       "    .dataframe tbody tr th:only-of-type {\n",
       "        vertical-align: middle;\n",
       "    }\n",
       "\n",
       "    .dataframe tbody tr th {\n",
       "        vertical-align: top;\n",
       "    }\n",
       "\n",
       "    .dataframe thead th {\n",
       "        text-align: right;\n",
       "    }\n",
       "</style>\n",
       "<table border=\"1\" class=\"dataframe\">\n",
       "  <thead>\n",
       "    <tr style=\"text-align: right;\">\n",
       "      <th></th>\n",
       "      <th>Skill</th>\n",
       "    </tr>\n",
       "  </thead>\n",
       "  <tbody>\n",
       "    <tr>\n",
       "      <th>0</th>\n",
       "      <td>Image Retrieval</td>\n",
       "    </tr>\n",
       "    <tr>\n",
       "      <th>1</th>\n",
       "      <td>Content-Based Image Retrieval</td>\n",
       "    </tr>\n",
       "    <tr>\n",
       "      <th>2</th>\n",
       "      <td>Computer Vision</td>\n",
       "    </tr>\n",
       "    <tr>\n",
       "      <th>3</th>\n",
       "      <td>Image Processing</td>\n",
       "    </tr>\n",
       "    <tr>\n",
       "      <th>4</th>\n",
       "      <td>Digital Image Processing</td>\n",
       "    </tr>\n",
       "  </tbody>\n",
       "</table>\n",
       "</div>"
      ],
      "text/plain": [
       "                           Skill\n",
       "0                Image Retrieval\n",
       "1  Content-Based Image Retrieval\n",
       "2                Computer Vision\n",
       "3               Image Processing\n",
       "4       Digital Image Processing"
      ]
     },
     "execution_count": 50,
     "metadata": {},
     "output_type": "execute_result"
    }
   ],
   "source": [
    "# Algorithms skills\n",
    "df_al = get_all_skills(df_cs, 'algorithms')\n",
    "df_al.head()"
   ]
  },
  {
   "cell_type": "code",
   "execution_count": 51,
   "metadata": {},
   "outputs": [
    {
     "name": "stdout",
     "output_type": "stream",
     "text": [
      "465\n",
      "\n",
      "4.946236559139785% done\n",
      "9.89247311827957% done\n",
      "14.838709677419354% done\n",
      "19.78494623655914% done\n",
      "24.731182795698924% done\n",
      "29.677419354838708% done\n",
      "34.623655913978496% done\n",
      "39.56989247311828% done\n",
      "44.516129032258064% done\n",
      "49.46236559139785% done\n",
      "54.40860215053763% done\n",
      "59.354838709677416% done\n",
      "64.30107526881721% done\n",
      "69.24731182795699% done\n",
      "74.19354838709677% done\n",
      "79.13978494623656% done\n",
      "84.08602150537634% done\n",
      "89.03225806451613% done\n",
      "93.97849462365592% done\n",
      "98.9247311827957% done\n",
      "                           Skill\n",
      "count                       1439\n",
      "unique                      1312\n",
      "top     Internet Protocols Suite\n",
      "freq                           4\n"
     ]
    },
    {
     "data": {
      "text/html": [
       "<div>\n",
       "<style scoped>\n",
       "    .dataframe tbody tr th:only-of-type {\n",
       "        vertical-align: middle;\n",
       "    }\n",
       "\n",
       "    .dataframe tbody tr th {\n",
       "        vertical-align: top;\n",
       "    }\n",
       "\n",
       "    .dataframe thead th {\n",
       "        text-align: right;\n",
       "    }\n",
       "</style>\n",
       "<table border=\"1\" class=\"dataframe\">\n",
       "  <thead>\n",
       "    <tr style=\"text-align: right;\">\n",
       "      <th></th>\n",
       "      <th>Skill</th>\n",
       "    </tr>\n",
       "  </thead>\n",
       "  <tbody>\n",
       "    <tr>\n",
       "      <th>0</th>\n",
       "      <td>Web Servers</td>\n",
       "    </tr>\n",
       "    <tr>\n",
       "      <th>1</th>\n",
       "      <td>Web Server Gateway Interface</td>\n",
       "    </tr>\n",
       "    <tr>\n",
       "      <th>2</th>\n",
       "      <td>IPlant Web Server</td>\n",
       "    </tr>\n",
       "    <tr>\n",
       "      <th>3</th>\n",
       "      <td>Zeus Web Server</td>\n",
       "    </tr>\n",
       "    <tr>\n",
       "      <th>4</th>\n",
       "      <td>Microsoft Personal Web Servers</td>\n",
       "    </tr>\n",
       "  </tbody>\n",
       "</table>\n",
       "</div>"
      ],
      "text/plain": [
       "                            Skill\n",
       "0                     Web Servers\n",
       "1    Web Server Gateway Interface\n",
       "2               IPlant Web Server\n",
       "3                 Zeus Web Server\n",
       "4  Microsoft Personal Web Servers"
      ]
     },
     "execution_count": 51,
     "metadata": {},
     "output_type": "execute_result"
    }
   ],
   "source": [
    "# Computer security and networks skills\n",
    "df_csn = get_all_skills(df_cs, 'computer-security-and-networks')\n",
    "df_csn.head()"
   ]
  },
  {
   "cell_type": "code",
   "execution_count": 52,
   "metadata": {},
   "outputs": [
    {
     "name": "stdout",
     "output_type": "stream",
     "text": [
      "475\n",
      "\n",
      "4.842105263157895% done\n",
      "9.68421052631579% done\n",
      "14.526315789473685% done\n",
      "19.36842105263158% done\n",
      "24.210526315789473% done\n",
      "29.05263157894737% done\n",
      "33.89473684210526% done\n",
      "38.73684210526316% done\n",
      "43.57894736842105% done\n",
      "48.421052631578945% done\n",
      "53.26315789473684% done\n",
      "58.10526315789474% done\n",
      "62.94736842105263% done\n",
      "67.78947368421052% done\n",
      "72.63157894736842% done\n",
      "77.47368421052632% done\n",
      "82.3157894736842% done\n",
      "87.1578947368421% done\n",
      "92.0% done\n",
      "96.84210526315789% done\n",
      "                                          Skill\n",
      "count                                      1409\n",
      "unique                                     1271\n",
      "top     Autodesk 3DS Max (3D Graphics Software)\n",
      "freq                                          5\n"
     ]
    },
    {
     "data": {
      "text/html": [
       "<div>\n",
       "<style scoped>\n",
       "    .dataframe tbody tr th:only-of-type {\n",
       "        vertical-align: middle;\n",
       "    }\n",
       "\n",
       "    .dataframe tbody tr th {\n",
       "        vertical-align: top;\n",
       "    }\n",
       "\n",
       "    .dataframe thead th {\n",
       "        text-align: right;\n",
       "    }\n",
       "</style>\n",
       "<table border=\"1\" class=\"dataframe\">\n",
       "  <thead>\n",
       "    <tr style=\"text-align: right;\">\n",
       "      <th></th>\n",
       "      <th>Skill</th>\n",
       "    </tr>\n",
       "  </thead>\n",
       "  <tbody>\n",
       "    <tr>\n",
       "      <th>0</th>\n",
       "      <td>Persona (User Experience)</td>\n",
       "    </tr>\n",
       "    <tr>\n",
       "      <th>1</th>\n",
       "      <td>Agile Software Development</td>\n",
       "    </tr>\n",
       "    <tr>\n",
       "      <th>2</th>\n",
       "      <td>User Story</td>\n",
       "    </tr>\n",
       "    <tr>\n",
       "      <th>3</th>\n",
       "      <td>User Experience</td>\n",
       "    </tr>\n",
       "    <tr>\n",
       "      <th>4</th>\n",
       "      <td>User Experience Design (UX)</td>\n",
       "    </tr>\n",
       "  </tbody>\n",
       "</table>\n",
       "</div>"
      ],
      "text/plain": [
       "                         Skill\n",
       "0    Persona (User Experience)\n",
       "1   Agile Software Development\n",
       "2                   User Story\n",
       "3              User Experience\n",
       "4  User Experience Design (UX)"
      ]
     },
     "execution_count": 52,
     "metadata": {},
     "output_type": "execute_result"
    }
   ],
   "source": [
    "# Design and product skills\n",
    "df_dp = get_all_skills(df_cs, 'design-and-product')\n",
    "df_dp.head()"
   ]
  },
  {
   "cell_type": "code",
   "execution_count": 53,
   "metadata": {},
   "outputs": [
    {
     "name": "stdout",
     "output_type": "stream",
     "text": [
      "475\n",
      "\n",
      "4.842105263157895% done\n",
      "9.68421052631579% done\n",
      "14.526315789473685% done\n",
      "19.36842105263158% done\n",
      "24.210526315789473% done\n",
      "29.05263157894737% done\n",
      "33.89473684210526% done\n",
      "38.73684210526316% done\n",
      "43.57894736842105% done\n",
      "48.421052631578945% done\n",
      "53.26315789473684% done\n",
      "58.10526315789474% done\n",
      "62.94736842105263% done\n",
      "67.78947368421052% done\n",
      "72.63157894736842% done\n",
      "77.47368421052632% done\n",
      "82.3157894736842% done\n",
      "87.1578947368421% done\n",
      "92.0% done\n",
      "96.84210526315789% done\n",
      "                                   Skill\n",
      "count                               1455\n",
      "unique                              1293\n",
      "top     Graphical User Interface Builder\n",
      "freq                                   4\n"
     ]
    },
    {
     "data": {
      "text/html": [
       "<div>\n",
       "<style scoped>\n",
       "    .dataframe tbody tr th:only-of-type {\n",
       "        vertical-align: middle;\n",
       "    }\n",
       "\n",
       "    .dataframe tbody tr th {\n",
       "        vertical-align: top;\n",
       "    }\n",
       "\n",
       "    .dataframe thead th {\n",
       "        text-align: right;\n",
       "    }\n",
       "</style>\n",
       "<table border=\"1\" class=\"dataframe\">\n",
       "  <thead>\n",
       "    <tr style=\"text-align: right;\">\n",
       "      <th></th>\n",
       "      <th>Skill</th>\n",
       "    </tr>\n",
       "  </thead>\n",
       "  <tbody>\n",
       "    <tr>\n",
       "      <th>0</th>\n",
       "      <td>Android Studio</td>\n",
       "    </tr>\n",
       "    <tr>\n",
       "      <th>1</th>\n",
       "      <td>2D Computer Graphics</td>\n",
       "    </tr>\n",
       "    <tr>\n",
       "      <th>2</th>\n",
       "      <td>Computer Graphics</td>\n",
       "    </tr>\n",
       "    <tr>\n",
       "      <th>3</th>\n",
       "      <td>3D Computer Graphics</td>\n",
       "    </tr>\n",
       "    <tr>\n",
       "      <th>4</th>\n",
       "      <td>3D Computer Graphics Software</td>\n",
       "    </tr>\n",
       "  </tbody>\n",
       "</table>\n",
       "</div>"
      ],
      "text/plain": [
       "                           Skill\n",
       "0                 Android Studio\n",
       "1           2D Computer Graphics\n",
       "2              Computer Graphics\n",
       "3           3D Computer Graphics\n",
       "4  3D Computer Graphics Software"
      ]
     },
     "execution_count": 53,
     "metadata": {},
     "output_type": "execute_result"
    }
   ],
   "source": [
    "# Mobile and web development skills\n",
    "df_mwd = get_all_skills(df_cs, 'mobile-and-web-development')\n",
    "df_mwd.head()"
   ]
  },
  {
   "cell_type": "code",
   "execution_count": 56,
   "metadata": {},
   "outputs": [
    {
     "name": "stdout",
     "output_type": "stream",
     "text": [
      "1265\n",
      "\n",
      "4.980237154150197% done\n",
      "9.960474308300395% done\n",
      "14.940711462450592% done\n",
      "19.92094861660079% done\n",
      "24.90118577075099% done\n",
      "29.881422924901184% done\n",
      "34.86166007905138% done\n",
      "39.84189723320158% done\n",
      "44.82213438735178% done\n",
      "49.80237154150198% done\n",
      "54.78260869565217% done\n",
      "59.76284584980237% done\n",
      "64.74308300395258% done\n",
      "69.72332015810277% done\n",
      "74.70355731225297% done\n",
      "79.68379446640316% done\n",
      "84.66403162055336% done\n",
      "89.64426877470356% done\n",
      "94.62450592885375% done\n",
      "99.60474308300395% done\n",
      "                                         Skill\n",
      "count                                     3111\n",
      "unique                                    2634\n",
      "top     Relational Database Management Systems\n",
      "freq                                         5\n"
     ]
    },
    {
     "data": {
      "text/html": [
       "<div>\n",
       "<style scoped>\n",
       "    .dataframe tbody tr th:only-of-type {\n",
       "        vertical-align: middle;\n",
       "    }\n",
       "\n",
       "    .dataframe tbody tr th {\n",
       "        vertical-align: top;\n",
       "    }\n",
       "\n",
       "    .dataframe thead th {\n",
       "        text-align: right;\n",
       "    }\n",
       "</style>\n",
       "<table border=\"1\" class=\"dataframe\">\n",
       "  <thead>\n",
       "    <tr style=\"text-align: right;\">\n",
       "      <th></th>\n",
       "      <th>Skill</th>\n",
       "    </tr>\n",
       "  </thead>\n",
       "  <tbody>\n",
       "    <tr>\n",
       "      <th>0</th>\n",
       "      <td>HyperText Markup Language (HTML)</td>\n",
       "    </tr>\n",
       "    <tr>\n",
       "      <th>1</th>\n",
       "      <td>HTML5</td>\n",
       "    </tr>\n",
       "    <tr>\n",
       "      <th>2</th>\n",
       "      <td>Dynamic HTML</td>\n",
       "    </tr>\n",
       "    <tr>\n",
       "      <th>3</th>\n",
       "      <td>Semantic HTML</td>\n",
       "    </tr>\n",
       "    <tr>\n",
       "      <th>4</th>\n",
       "      <td>Character Encodings In HTML</td>\n",
       "    </tr>\n",
       "  </tbody>\n",
       "</table>\n",
       "</div>"
      ],
      "text/plain": [
       "                              Skill\n",
       "0  HyperText Markup Language (HTML)\n",
       "1                             HTML5\n",
       "2                      Dynamic HTML\n",
       "3                     Semantic HTML\n",
       "4       Character Encodings In HTML"
      ]
     },
     "execution_count": 56,
     "metadata": {},
     "output_type": "execute_result"
    }
   ],
   "source": [
    "# Software development skills\n",
    "df_sd = get_all_skills(df_cs, 'software-development')\n",
    "df_sd.head()"
   ]
  },
  {
   "cell_type": "code",
   "execution_count": 58,
   "metadata": {},
   "outputs": [],
   "source": [
    "df_al.to_csv('skills/algorithm.csv', index=False)\n",
    "df_csn.to_csv('skills/computer-security-and-network.csv', index=False)\n",
    "df_dp.to_csv('skills/design-and-product.csv', index=False)\n",
    "df_mwd.to_csv('skills/mobile-and-web-development.csv', index=False)\n",
    "df_sd.to_csv('skills/software-development.csv, index=False')"
   ]
  }
 ],
 "metadata": {
  "kernelspec": {
   "display_name": "Python 3",
   "language": "python",
   "name": "python3"
  },
  "language_info": {
   "codemirror_mode": {
    "name": "ipython",
    "version": 3
   },
   "file_extension": ".py",
   "mimetype": "text/x-python",
   "name": "python",
   "nbconvert_exporter": "python",
   "pygments_lexer": "ipython3",
   "version": "3.7.6"
  }
 },
 "nbformat": 4,
 "nbformat_minor": 4
}
