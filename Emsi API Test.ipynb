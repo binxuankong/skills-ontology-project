{
 "cells": [
  {
   "cell_type": "code",
   "execution_count": 1,
   "metadata": {},
   "outputs": [],
   "source": [
    "import requests\n",
    "import json\n",
    "\n",
    "# Configurations\n",
    "client_id = \"wj3sy7jynlcsmta9\"\n",
    "secret = \"ZGbFGEyo\"\n",
    "scope = \"emsi_open\""
   ]
  },
  {
   "cell_type": "code",
   "execution_count": 2,
   "metadata": {},
   "outputs": [],
   "source": [
    "# Request for access token from Emsi\n",
    "# Given the client_id and secret\n",
    "def get_access_token(client_id, secret, scope='emsi_open'):\n",
    "    url = \"https://auth.emsicloud.com/connect/token\"\n",
    "    payload = \"client_id={}&client_secret={}&grant_type=client_credentials&scope={}\".format(client_id, secret, scope)\n",
    "    headers = {'content-type': 'application/x-www-form-urlencoded'}\n",
    "    response = requests.request(\"POST\", url, data=payload, headers=headers)\n",
    "    return response.json().get(\"access_token\")\n",
    "\n",
    "\n",
    "# Check health of Emsi service\n",
    "def check_health(access_token):\n",
    "    url = \"https://emsiservices.com/skills/status\"\n",
    "    headers = {'authorization': 'Bearer {}'.format(access_token)}\n",
    "    response = requests.request(\"GET\", url, headers=headers)\n",
    "    return response.json()['data']\n",
    "\n",
    "\n",
    "# Extract skills from Emsi based on query\n",
    "def get_emsi_skills(query, access_token, limit=10, soft_skills=False, certification=False):\n",
    "    \"\"\"\n",
    "    query: skills to search for\n",
    "    access_token: toekn for authorization\n",
    "    limit: maximum number of skills to return\n",
    "    ST1: Hard skills - unique (or technical) skills related to a specialty\n",
    "    ST2: Soft skills - common (or human) skills which are broad statements of ability\n",
    "    ST3: Certification - recognizable qualification standards assigned by industry or education bodies\n",
    "    \"\"\"\n",
    "    url = \"https://emsiservices.com/skills/versions/latest/skills\"\n",
    "    type_ids = \"ST1\"\n",
    "    if soft_skills:\n",
    "        type_ids += \",ST2\"\n",
    "    if certification:\n",
    "        type_ids += \",ST3\"\n",
    "    querystring = {\"q\": query, \"typeIds\": type_ids, \"fields\": \"id,name,type,infoUrl\", \"limit\": str(limit)}\n",
    "    headers = {'authorization': 'Bearer {}'.format(access_token)}\n",
    "    response = requests.request(\"GET\", url, headers=headers, params=querystring)\n",
    "    return response.json()['data']"
   ]
  },
  {
   "cell_type": "code",
   "execution_count": 3,
   "metadata": {},
   "outputs": [
    {
     "data": {
      "text/plain": [
       "{'healthy': True, 'message': 'Service is healthy'}"
      ]
     },
     "execution_count": 3,
     "metadata": {},
     "output_type": "execute_result"
    }
   ],
   "source": [
    "access_token = get_access_token(client_id, secret)\n",
    "check_health(access_token)"
   ]
  },
  {
   "cell_type": "code",
   "execution_count": 5,
   "metadata": {},
   "outputs": [
    {
     "data": {
      "text/plain": [
       "[{'id': 'KS125LS6N7WP4S6SFTCK',\n",
       "  'infoUrl': 'https://skills.emsidata.com/skills/KS125LS6N7WP4S6SFTCK',\n",
       "  'name': 'Python (Programming Language)',\n",
       "  'type': {'id': 'ST1', 'name': 'Hard Skill'}},\n",
       " {'id': 'KSGWPO6DSN70GRY20JFT',\n",
       "  'infoUrl': 'https://skills.emsidata.com/skills/KSGWPO6DSN70GRY20JFT',\n",
       "  'name': 'Pandas (Python Package)',\n",
       "  'type': {'id': 'ST1', 'name': 'Hard Skill'}},\n",
       " {'id': 'KSKLJ9RJDL8SKUXFMELZ',\n",
       "  'infoUrl': 'https://skills.emsidata.com/skills/KSKLJ9RJDL8SKUXFMELZ',\n",
       "  'name': 'Luigi (Python Package)',\n",
       "  'type': {'id': 'ST1', 'name': 'Hard Skill'}},\n",
       " {'id': 'KS128866SGR2RY0R5T83',\n",
       "  'infoUrl': 'https://skills.emsidata.com/skills/KS128866SGR2RY0R5T83',\n",
       "  'name': 'Python Tools For Visual Studio',\n",
       "  'type': {'id': 'ST1', 'name': 'Hard Skill'}},\n",
       " {'id': 'KS128866G1TLTKT1RNZZ',\n",
       "  'infoUrl': 'https://skills.emsidata.com/skills/KS128866G1TLTKT1RNZZ',\n",
       "  'name': 'Python Server Pages',\n",
       "  'type': {'id': 'ST1', 'name': 'Hard Skill'}},\n",
       " {'id': 'KS128865YTL4WZYR5T8G',\n",
       "  'infoUrl': 'https://skills.emsidata.com/skills/KS128865YTL4WZYR5T8G',\n",
       "  'name': 'Python Imaging Libraries',\n",
       "  'type': {'id': 'ST1', 'name': 'Hard Skill'}}]"
      ]
     },
     "execution_count": 5,
     "metadata": {},
     "output_type": "execute_result"
    }
   ],
   "source": [
    "get_emsi_skills(\"python\", access_token, certification=True)"
   ]
  },
  {
   "cell_type": "code",
   "execution_count": 6,
   "metadata": {},
   "outputs": [
    {
     "data": {
      "text/plain": [
       "[{'id': 'KS120GV6C72JMSZKMTD7',\n",
       "  'infoUrl': 'https://skills.emsidata.com/skills/KS120GV6C72JMSZKMTD7',\n",
       "  'name': 'Data Analysis',\n",
       "  'type': {'id': 'ST1', 'name': 'Hard Skill'}},\n",
       " {'id': 'KS122NR6NY1KB0TD40G4',\n",
       "  'infoUrl': 'https://skills.emsidata.com/skills/KS122NR6NY1KB0TD40G4',\n",
       "  'name': 'Data Collection',\n",
       "  'type': {'id': 'ST1', 'name': 'Hard Skill'}},\n",
       " {'id': 'KS122Q96S1LT3253TW3H',\n",
       "  'infoUrl': 'https://skills.emsidata.com/skills/KS122Q96S1LT3253TW3H',\n",
       "  'name': 'Data Warehousing',\n",
       "  'type': {'id': 'ST1', 'name': 'Hard Skill'}},\n",
       " {'id': 'KS122PG64BT2BT6X15HF',\n",
       "  'infoUrl': 'https://skills.emsidata.com/skills/KS122PG64BT2BT6X15HF',\n",
       "  'name': 'Data Management',\n",
       "  'type': {'id': 'ST1', 'name': 'Hard Skill'}},\n",
       " {'id': 'KS122QK6TH01FWQ9X8CH',\n",
       "  'infoUrl': 'https://skills.emsidata.com/skills/KS122QK6TH01FWQ9X8CH',\n",
       "  'name': 'Relational Databases',\n",
       "  'type': {'id': 'ST1', 'name': 'Hard Skill'}},\n",
       " {'id': 'KS1210269P78D7GH8LWY',\n",
       "  'infoUrl': 'https://skills.emsidata.com/skills/KS1210269P78D7GH8LWY',\n",
       "  'name': 'Big Data',\n",
       "  'type': {'id': 'ST1', 'name': 'Hard Skill'}},\n",
       " {'id': 'KS122PM76DCYL9WC89Y7',\n",
       "  'infoUrl': 'https://skills.emsidata.com/skills/KS122PM76DCYL9WC89Y7',\n",
       "  'name': 'Data Modeling',\n",
       "  'type': {'id': 'ST1', 'name': 'Hard Skill'}},\n",
       " {'id': 'KS122QH61M1MNJ0BP4XZ',\n",
       "  'infoUrl': 'https://skills.emsidata.com/skills/KS122QH61M1MNJ0BP4XZ',\n",
       "  'name': 'Database Administration',\n",
       "  'type': {'id': 'ST1', 'name': 'Hard Skill'}},\n",
       " {'id': 'KS7LO8P3MXB93R3C9RWL',\n",
       "  'infoUrl': 'https://skills.emsidata.com/skills/KS7LO8P3MXB93R3C9RWL',\n",
       "  'name': 'Data Science',\n",
       "  'type': {'id': 'ST1', 'name': 'Hard Skill'}},\n",
       " {'id': 'KS122P86NZFH1GP38G15',\n",
       "  'infoUrl': 'https://skills.emsidata.com/skills/KS122P86NZFH1GP38G15',\n",
       "  'name': 'Data Integrity',\n",
       "  'type': {'id': 'ST1', 'name': 'Hard Skill'}}]"
      ]
     },
     "execution_count": 6,
     "metadata": {},
     "output_type": "execute_result"
    }
   ],
   "source": [
    "get_emsi_skills(\"data\", access_token, certification=True)"
   ]
  }
 ],
 "metadata": {
  "kernelspec": {
   "display_name": "Python 3",
   "language": "python",
   "name": "python3"
  },
  "language_info": {
   "codemirror_mode": {
    "name": "ipython",
    "version": 3
   },
   "file_extension": ".py",
   "mimetype": "text/x-python",
   "name": "python",
   "nbconvert_exporter": "python",
   "pygments_lexer": "ipython3",
   "version": "3.7.6"
  }
 },
 "nbformat": 4,
 "nbformat_minor": 4
}
