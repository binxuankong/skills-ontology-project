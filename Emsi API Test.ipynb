{
 "cells": [
  {
   "cell_type": "code",
   "execution_count": 18,
   "metadata": {},
   "outputs": [],
   "source": [
    "import pandas as pd\n",
    "import requests\n",
    "import emsi\n",
    "import queries\n",
    "from sqlalchemy import create_engine\n",
    "from secrets import secrets"
   ]
  },
  {
   "cell_type": "markdown",
   "metadata": {},
   "source": [
    "### Get access to Emsi"
   ]
  },
  {
   "cell_type": "code",
   "execution_count": 19,
   "metadata": {},
   "outputs": [
    {
     "data": {
      "text/plain": [
       "{'healthy': True, 'message': 'Service is healthy'}"
      ]
     },
     "execution_count": 19,
     "metadata": {},
     "output_type": "execute_result"
    }
   ],
   "source": [
    "access_token = emsi.get_access_token(secrets['emsi_client_id'], secrets['emsi_secret'])\n",
    "emsi.check_health(access_token)"
   ]
  },
  {
   "cell_type": "markdown",
   "metadata": {},
   "source": [
    "### Load existing skills"
   ]
  },
  {
   "cell_type": "code",
   "execution_count": 3,
   "metadata": {},
   "outputs": [
    {
     "data": {
      "text/plain": [
       "225"
      ]
     },
     "execution_count": 3,
     "metadata": {},
     "output_type": "execute_result"
    }
   ],
   "source": [
    "f = open(\"skills/initial.txt\", \"r\")\n",
    "skills = []\n",
    "for x in f:\n",
    "    skills.append(x[:-1])\n",
    "\n",
    "len(skills)"
   ]
  },
  {
   "cell_type": "code",
   "execution_count": 4,
   "metadata": {},
   "outputs": [
    {
     "data": {
      "text/html": [
       "<div>\n",
       "<style scoped>\n",
       "    .dataframe tbody tr th:only-of-type {\n",
       "        vertical-align: middle;\n",
       "    }\n",
       "\n",
       "    .dataframe tbody tr th {\n",
       "        vertical-align: top;\n",
       "    }\n",
       "\n",
       "    .dataframe thead th {\n",
       "        text-align: right;\n",
       "    }\n",
       "</style>\n",
       "<table border=\"1\" class=\"dataframe\">\n",
       "  <thead>\n",
       "    <tr style=\"text-align: right;\">\n",
       "      <th></th>\n",
       "      <th>Skill</th>\n",
       "    </tr>\n",
       "  </thead>\n",
       "  <tbody>\n",
       "    <tr>\n",
       "      <th>0</th>\n",
       "      <td>AB Testing</td>\n",
       "    </tr>\n",
       "    <tr>\n",
       "      <th>1</th>\n",
       "      <td>AB testing</td>\n",
       "    </tr>\n",
       "    <tr>\n",
       "      <th>2</th>\n",
       "      <td>AI</td>\n",
       "    </tr>\n",
       "    <tr>\n",
       "      <th>3</th>\n",
       "      <td>AIML</td>\n",
       "    </tr>\n",
       "    <tr>\n",
       "      <th>4</th>\n",
       "      <td>API</td>\n",
       "    </tr>\n",
       "  </tbody>\n",
       "</table>\n",
       "</div>"
      ],
      "text/plain": [
       "        Skill\n",
       "0  AB Testing\n",
       "1  AB testing\n",
       "2          AI\n",
       "3        AIML\n",
       "4         API"
      ]
     },
     "execution_count": 4,
     "metadata": {},
     "output_type": "execute_result"
    }
   ],
   "source": [
    "df_own = pd.DataFrame(columns=['Skill'])\n",
    "df_own['Skill'] = skills\n",
    "df_own.head()"
   ]
  },
  {
   "cell_type": "markdown",
   "metadata": {},
   "source": [
    "### Query existing skills"
   ]
  },
  {
   "cell_type": "code",
   "execution_count": 5,
   "metadata": {},
   "outputs": [
    {
     "data": {
      "text/html": [
       "<div>\n",
       "<style scoped>\n",
       "    .dataframe tbody tr th:only-of-type {\n",
       "        vertical-align: middle;\n",
       "    }\n",
       "\n",
       "    .dataframe tbody tr th {\n",
       "        vertical-align: top;\n",
       "    }\n",
       "\n",
       "    .dataframe thead th {\n",
       "        text-align: right;\n",
       "    }\n",
       "</style>\n",
       "<table border=\"1\" class=\"dataframe\">\n",
       "  <thead>\n",
       "    <tr style=\"text-align: right;\">\n",
       "      <th></th>\n",
       "      <th>Name</th>\n",
       "    </tr>\n",
       "  </thead>\n",
       "  <tbody>\n",
       "    <tr>\n",
       "      <th>0</th>\n",
       "      <td>Linear Algebra</td>\n",
       "    </tr>\n",
       "    <tr>\n",
       "      <th>1</th>\n",
       "      <td>Basic Calculus</td>\n",
       "    </tr>\n",
       "    <tr>\n",
       "      <th>2</th>\n",
       "      <td>DBMS</td>\n",
       "    </tr>\n",
       "    <tr>\n",
       "      <th>3</th>\n",
       "      <td>Hadoop</td>\n",
       "    </tr>\n",
       "    <tr>\n",
       "      <th>4</th>\n",
       "      <td>R Programming</td>\n",
       "    </tr>\n",
       "  </tbody>\n",
       "</table>\n",
       "</div>"
      ],
      "text/plain": [
       "             Name\n",
       "0  Linear Algebra\n",
       "1  Basic Calculus\n",
       "2            DBMS\n",
       "3          Hadoop\n",
       "4   R Programming"
      ]
     },
     "execution_count": 5,
     "metadata": {},
     "output_type": "execute_result"
    }
   ],
   "source": [
    "training_engine = create_engine(secrets['training_db'])\n",
    "df_train = pd.read_sql_query(queries.skills_query, con=training_engine)\n",
    "training_engine.dispose()\n",
    "df_train.head()"
   ]
  },
  {
   "cell_type": "markdown",
   "metadata": {},
   "source": [
    "### Get related skills from Emsi"
   ]
  },
  {
   "cell_type": "code",
   "execution_count": 6,
   "metadata": {},
   "outputs": [],
   "source": [
    "def get_related_skills(skills, print_progress=True):\n",
    "    new_skills = []\n",
    "    for i, s in enumerate(skills):\n",
    "        if (i + 1) % int(len(skills) / 10) == 0:\n",
    "            print(\"{}% done\".format((i + 1) / len(skills) * 100))\n",
    "        related = emsi.get_emsi_skills(s, access_token)\n",
    "        for r in related:\n",
    "            new_skills.append(r['name'])\n",
    "    return new_skills"
   ]
  },
  {
   "cell_type": "code",
   "execution_count": 7,
   "metadata": {},
   "outputs": [
    {
     "name": "stdout",
     "output_type": "stream",
     "text": [
      "9.777777777777779% done\n",
      "19.555555555555557% done\n",
      "29.333333333333332% done\n",
      "39.111111111111114% done\n",
      "48.888888888888886% done\n",
      "58.666666666666664% done\n",
      "68.44444444444444% done\n",
      "78.22222222222223% done\n",
      "88.0% done\n",
      "97.77777777777777% done\n"
     ]
    },
    {
     "data": {
      "text/plain": [
       "842"
      ]
     },
     "execution_count": 7,
     "metadata": {},
     "output_type": "execute_result"
    }
   ],
   "source": [
    "# From own\n",
    "related_own = get_related_skills(df_own['Skill'].to_list())\n",
    "len(related_own)"
   ]
  },
  {
   "cell_type": "code",
   "execution_count": 8,
   "metadata": {},
   "outputs": [
    {
     "data": {
      "text/html": [
       "<div>\n",
       "<style scoped>\n",
       "    .dataframe tbody tr th:only-of-type {\n",
       "        vertical-align: middle;\n",
       "    }\n",
       "\n",
       "    .dataframe tbody tr th {\n",
       "        vertical-align: top;\n",
       "    }\n",
       "\n",
       "    .dataframe thead th {\n",
       "        text-align: right;\n",
       "    }\n",
       "</style>\n",
       "<table border=\"1\" class=\"dataframe\">\n",
       "  <thead>\n",
       "    <tr style=\"text-align: right;\">\n",
       "      <th></th>\n",
       "      <th>Skill</th>\n",
       "      <th>Source</th>\n",
       "    </tr>\n",
       "  </thead>\n",
       "  <tbody>\n",
       "    <tr>\n",
       "      <th>0</th>\n",
       "      <td>Computer-Aided Design</td>\n",
       "      <td>Own</td>\n",
       "    </tr>\n",
       "    <tr>\n",
       "      <th>1</th>\n",
       "      <td>Air Brakes</td>\n",
       "      <td>Own</td>\n",
       "    </tr>\n",
       "    <tr>\n",
       "      <th>2</th>\n",
       "      <td>Aircraft Maintenance</td>\n",
       "      <td>Own</td>\n",
       "    </tr>\n",
       "    <tr>\n",
       "      <th>3</th>\n",
       "      <td>IBM AIX</td>\n",
       "      <td>Own</td>\n",
       "    </tr>\n",
       "    <tr>\n",
       "      <th>4</th>\n",
       "      <td>Basic First Aid</td>\n",
       "      <td>Own</td>\n",
       "    </tr>\n",
       "  </tbody>\n",
       "</table>\n",
       "</div>"
      ],
      "text/plain": [
       "                   Skill Source\n",
       "0  Computer-Aided Design    Own\n",
       "1             Air Brakes    Own\n",
       "2   Aircraft Maintenance    Own\n",
       "3                IBM AIX    Own\n",
       "4        Basic First Aid    Own"
      ]
     },
     "execution_count": 8,
     "metadata": {},
     "output_type": "execute_result"
    }
   ],
   "source": [
    "df1 = pd.DataFrame(columns=['Skill'])\n",
    "df1['Skill'] = related_own\n",
    "df1.head()"
   ]
  },
  {
   "cell_type": "code",
   "execution_count": 9,
   "metadata": {},
   "outputs": [
    {
     "name": "stdout",
     "output_type": "stream",
     "text": [
      "8.823529411764707% done\n",
      "17.647058823529413% done\n",
      "26.47058823529412% done\n",
      "35.294117647058826% done\n",
      "44.11764705882353% done\n",
      "52.94117647058824% done\n",
      "61.76470588235294% done\n",
      "70.58823529411765% done\n",
      "79.41176470588235% done\n",
      "88.23529411764706% done\n",
      "97.05882352941177% done\n"
     ]
    },
    {
     "data": {
      "text/plain": [
       "134"
      ]
     },
     "execution_count": 9,
     "metadata": {},
     "output_type": "execute_result"
    }
   ],
   "source": [
    "# From own\n",
    "related_training = get_related_skills(df_train['Name'].to_list())\n",
    "len(related_training)"
   ]
  },
  {
   "cell_type": "code",
   "execution_count": 10,
   "metadata": {},
   "outputs": [
    {
     "data": {
      "text/html": [
       "<div>\n",
       "<style scoped>\n",
       "    .dataframe tbody tr th:only-of-type {\n",
       "        vertical-align: middle;\n",
       "    }\n",
       "\n",
       "    .dataframe tbody tr th {\n",
       "        vertical-align: top;\n",
       "    }\n",
       "\n",
       "    .dataframe thead th {\n",
       "        text-align: right;\n",
       "    }\n",
       "</style>\n",
       "<table border=\"1\" class=\"dataframe\">\n",
       "  <thead>\n",
       "    <tr style=\"text-align: right;\">\n",
       "      <th></th>\n",
       "      <th>Skill</th>\n",
       "      <th>Source</th>\n",
       "    </tr>\n",
       "  </thead>\n",
       "  <tbody>\n",
       "    <tr>\n",
       "      <th>0</th>\n",
       "      <td>Linear Algebra</td>\n",
       "      <td>Training</td>\n",
       "    </tr>\n",
       "    <tr>\n",
       "      <th>1</th>\n",
       "      <td>Elementary Matrix (Linear Algebra)</td>\n",
       "      <td>Training</td>\n",
       "    </tr>\n",
       "    <tr>\n",
       "      <th>2</th>\n",
       "      <td>Basic Linear Algebra Subprograms</td>\n",
       "      <td>Training</td>\n",
       "    </tr>\n",
       "    <tr>\n",
       "      <th>3</th>\n",
       "      <td>Numerical Linear Algebra</td>\n",
       "      <td>Training</td>\n",
       "    </tr>\n",
       "    <tr>\n",
       "      <th>4</th>\n",
       "      <td>Linear Algebra Package (LAPACK)</td>\n",
       "      <td>Training</td>\n",
       "    </tr>\n",
       "  </tbody>\n",
       "</table>\n",
       "</div>"
      ],
      "text/plain": [
       "                                Skill    Source\n",
       "0                      Linear Algebra  Training\n",
       "1  Elementary Matrix (Linear Algebra)  Training\n",
       "2    Basic Linear Algebra Subprograms  Training\n",
       "3            Numerical Linear Algebra  Training\n",
       "4     Linear Algebra Package (LAPACK)  Training"
      ]
     },
     "execution_count": 10,
     "metadata": {},
     "output_type": "execute_result"
    }
   ],
   "source": [
    "df2 = pd.DataFrame(columns=['Skill'])\n",
    "df2['Skill'] = related_training\n",
    "df2.head()"
   ]
  },
  {
   "cell_type": "markdown",
   "metadata": {},
   "source": [
    "### Consolidate"
   ]
  },
  {
   "cell_type": "code",
   "execution_count": 12,
   "metadata": {},
   "outputs": [
    {
     "data": {
      "text/html": [
       "<div>\n",
       "<style scoped>\n",
       "    .dataframe tbody tr th:only-of-type {\n",
       "        vertical-align: middle;\n",
       "    }\n",
       "\n",
       "    .dataframe tbody tr th {\n",
       "        vertical-align: top;\n",
       "    }\n",
       "\n",
       "    .dataframe thead th {\n",
       "        text-align: right;\n",
       "    }\n",
       "</style>\n",
       "<table border=\"1\" class=\"dataframe\">\n",
       "  <thead>\n",
       "    <tr style=\"text-align: right;\">\n",
       "      <th></th>\n",
       "      <th>Skill</th>\n",
       "      <th>Source</th>\n",
       "    </tr>\n",
       "  </thead>\n",
       "  <tbody>\n",
       "    <tr>\n",
       "      <th>0</th>\n",
       "      <td>Computer-Aided Design</td>\n",
       "      <td>Own</td>\n",
       "    </tr>\n",
       "    <tr>\n",
       "      <th>1</th>\n",
       "      <td>Air Brakes</td>\n",
       "      <td>Own</td>\n",
       "    </tr>\n",
       "    <tr>\n",
       "      <th>2</th>\n",
       "      <td>Aircraft Maintenance</td>\n",
       "      <td>Own</td>\n",
       "    </tr>\n",
       "    <tr>\n",
       "      <th>3</th>\n",
       "      <td>IBM AIX</td>\n",
       "      <td>Own</td>\n",
       "    </tr>\n",
       "    <tr>\n",
       "      <th>4</th>\n",
       "      <td>Basic First Aid</td>\n",
       "      <td>Own</td>\n",
       "    </tr>\n",
       "  </tbody>\n",
       "</table>\n",
       "</div>"
      ],
      "text/plain": [
       "                   Skill Source\n",
       "0  Computer-Aided Design    Own\n",
       "1             Air Brakes    Own\n",
       "2   Aircraft Maintenance    Own\n",
       "3                IBM AIX    Own\n",
       "4        Basic First Aid    Own"
      ]
     },
     "execution_count": 12,
     "metadata": {},
     "output_type": "execute_result"
    }
   ],
   "source": [
    "df_emsi = pd.concat([df1, df2])\n",
    "df_emsi.head()"
   ]
  },
  {
   "cell_type": "code",
   "execution_count": 13,
   "metadata": {},
   "outputs": [
    {
     "data": {
      "text/html": [
       "<div>\n",
       "<style scoped>\n",
       "    .dataframe tbody tr th:only-of-type {\n",
       "        vertical-align: middle;\n",
       "    }\n",
       "\n",
       "    .dataframe tbody tr th {\n",
       "        vertical-align: top;\n",
       "    }\n",
       "\n",
       "    .dataframe thead th {\n",
       "        text-align: right;\n",
       "    }\n",
       "</style>\n",
       "<table border=\"1\" class=\"dataframe\">\n",
       "  <thead>\n",
       "    <tr style=\"text-align: right;\">\n",
       "      <th></th>\n",
       "      <th>Skill</th>\n",
       "      <th>Source</th>\n",
       "    </tr>\n",
       "  </thead>\n",
       "  <tbody>\n",
       "    <tr>\n",
       "      <th>count</th>\n",
       "      <td>976</td>\n",
       "      <td>976</td>\n",
       "    </tr>\n",
       "    <tr>\n",
       "      <th>unique</th>\n",
       "      <td>745</td>\n",
       "      <td>2</td>\n",
       "    </tr>\n",
       "    <tr>\n",
       "      <th>top</th>\n",
       "      <td>Recurrent Neural Network (RNN)</td>\n",
       "      <td>Own</td>\n",
       "    </tr>\n",
       "    <tr>\n",
       "      <th>freq</th>\n",
       "      <td>6</td>\n",
       "      <td>842</td>\n",
       "    </tr>\n",
       "  </tbody>\n",
       "</table>\n",
       "</div>"
      ],
      "text/plain": [
       "                                 Skill Source\n",
       "count                              976    976\n",
       "unique                             745      2\n",
       "top     Recurrent Neural Network (RNN)    Own\n",
       "freq                                 6    842"
      ]
     },
     "execution_count": 13,
     "metadata": {},
     "output_type": "execute_result"
    }
   ],
   "source": [
    "df_emsi.describe(include='object')"
   ]
  },
  {
   "cell_type": "code",
   "execution_count": 14,
   "metadata": {},
   "outputs": [
    {
     "data": {
      "text/html": [
       "<div>\n",
       "<style scoped>\n",
       "    .dataframe tbody tr th:only-of-type {\n",
       "        vertical-align: middle;\n",
       "    }\n",
       "\n",
       "    .dataframe tbody tr th {\n",
       "        vertical-align: top;\n",
       "    }\n",
       "\n",
       "    .dataframe thead th {\n",
       "        text-align: right;\n",
       "    }\n",
       "</style>\n",
       "<table border=\"1\" class=\"dataframe\">\n",
       "  <thead>\n",
       "    <tr style=\"text-align: right;\">\n",
       "      <th></th>\n",
       "      <th>Skill</th>\n",
       "      <th>Source</th>\n",
       "    </tr>\n",
       "  </thead>\n",
       "  <tbody>\n",
       "    <tr>\n",
       "      <th>0</th>\n",
       "      <td>.NET Framework</td>\n",
       "      <td>Own</td>\n",
       "    </tr>\n",
       "    <tr>\n",
       "      <th>1</th>\n",
       "      <td>3D Modeling</td>\n",
       "      <td>Own</td>\n",
       "    </tr>\n",
       "    <tr>\n",
       "      <th>2</th>\n",
       "      <td>API Design</td>\n",
       "      <td>Own</td>\n",
       "    </tr>\n",
       "    <tr>\n",
       "      <th>3</th>\n",
       "      <td>API Gateway</td>\n",
       "      <td>Own</td>\n",
       "    </tr>\n",
       "    <tr>\n",
       "      <th>4</th>\n",
       "      <td>API Management</td>\n",
       "      <td>Own</td>\n",
       "    </tr>\n",
       "  </tbody>\n",
       "</table>\n",
       "</div>"
      ],
      "text/plain": [
       "            Skill Source\n",
       "0  .NET Framework    Own\n",
       "1     3D Modeling    Own\n",
       "2      API Design    Own\n",
       "3     API Gateway    Own\n",
       "4  API Management    Own"
      ]
     },
     "execution_count": 14,
     "metadata": {},
     "output_type": "execute_result"
    }
   ],
   "source": [
    "df_emsi = df_emsi.drop_duplicates(subset=['Skill'])\n",
    "df_emsi = df_emsi.sort_values(by=['Skill'])\n",
    "df_emsi = df_emsi.reset_index().drop(columns=['index'])\n",
    "df_emsi.head()"
   ]
  },
  {
   "cell_type": "code",
   "execution_count": 15,
   "metadata": {},
   "outputs": [
    {
     "data": {
      "text/html": [
       "<div>\n",
       "<style scoped>\n",
       "    .dataframe tbody tr th:only-of-type {\n",
       "        vertical-align: middle;\n",
       "    }\n",
       "\n",
       "    .dataframe tbody tr th {\n",
       "        vertical-align: top;\n",
       "    }\n",
       "\n",
       "    .dataframe thead th {\n",
       "        text-align: right;\n",
       "    }\n",
       "</style>\n",
       "<table border=\"1\" class=\"dataframe\">\n",
       "  <thead>\n",
       "    <tr style=\"text-align: right;\">\n",
       "      <th></th>\n",
       "      <th>Skill</th>\n",
       "      <th>Source</th>\n",
       "    </tr>\n",
       "  </thead>\n",
       "  <tbody>\n",
       "    <tr>\n",
       "      <th>count</th>\n",
       "      <td>745</td>\n",
       "      <td>745</td>\n",
       "    </tr>\n",
       "    <tr>\n",
       "      <th>unique</th>\n",
       "      <td>745</td>\n",
       "      <td>2</td>\n",
       "    </tr>\n",
       "    <tr>\n",
       "      <th>top</th>\n",
       "      <td>Test Execution Engine</td>\n",
       "      <td>Own</td>\n",
       "    </tr>\n",
       "    <tr>\n",
       "      <th>freq</th>\n",
       "      <td>1</td>\n",
       "      <td>722</td>\n",
       "    </tr>\n",
       "  </tbody>\n",
       "</table>\n",
       "</div>"
      ],
      "text/plain": [
       "                        Skill Source\n",
       "count                     745    745\n",
       "unique                    745      2\n",
       "top     Test Execution Engine    Own\n",
       "freq                        1    722"
      ]
     },
     "execution_count": 15,
     "metadata": {},
     "output_type": "execute_result"
    }
   ],
   "source": [
    "df_emsi.describe(include='object')"
   ]
  },
  {
   "cell_type": "code",
   "execution_count": 16,
   "metadata": {},
   "outputs": [],
   "source": [
    "df_emsi.to_csv('skills/emsi_indeed.csv')"
   ]
  },
  {
   "cell_type": "markdown",
   "metadata": {},
   "source": [
    "### Extract skills from text"
   ]
  },
  {
   "cell_type": "code",
   "execution_count": 12,
   "metadata": {},
   "outputs": [],
   "source": [
    "def extract_skills(text_list, print_progress=True):\n",
    "    new_skills = []\n",
    "    for i, text in enumerate(text_list):\n",
    "        if (i + 1) % int(len(text_list) / 10) == 0:\n",
    "            print(\"{}% done\".format((i + 1) / len(text_list) * 100))\n",
    "        skills = emsi.extract_skills(text, access_token)\n",
    "        for s in skills:\n",
    "            new_skills.append(s['name'])\n",
    "    return new_skills"
   ]
  },
  {
   "cell_type": "code",
   "execution_count": 6,
   "metadata": {},
   "outputs": [
    {
     "data": {
      "text/html": [
       "<div>\n",
       "<style scoped>\n",
       "    .dataframe tbody tr th:only-of-type {\n",
       "        vertical-align: middle;\n",
       "    }\n",
       "\n",
       "    .dataframe tbody tr th {\n",
       "        vertical-align: top;\n",
       "    }\n",
       "\n",
       "    .dataframe thead th {\n",
       "        text-align: right;\n",
       "    }\n",
       "</style>\n",
       "<table border=\"1\" class=\"dataframe\">\n",
       "  <thead>\n",
       "    <tr style=\"text-align: right;\">\n",
       "      <th></th>\n",
       "      <th>Unnamed: 0</th>\n",
       "      <th>Job_ID</th>\n",
       "      <th>Job_Title</th>\n",
       "      <th>Company</th>\n",
       "      <th>Salary</th>\n",
       "      <th>Country</th>\n",
       "      <th>State</th>\n",
       "      <th>Location</th>\n",
       "      <th>Metadata</th>\n",
       "      <th>Date_Posted</th>\n",
       "      <th>Description</th>\n",
       "      <th>Job_URL</th>\n",
       "      <th>Keywords_Present</th>\n",
       "      <th>Title_Keywords</th>\n",
       "    </tr>\n",
       "  </thead>\n",
       "  <tbody>\n",
       "    <tr>\n",
       "      <th>0</th>\n",
       "      <td>0</td>\n",
       "      <td>21ceb0b509803172</td>\n",
       "      <td>Data Scientist</td>\n",
       "      <td>Chứng khoán VNDIRECT</td>\n",
       "      <td>NaN</td>\n",
       "      <td>Vietnam</td>\n",
       "      <td>Not Applicable</td>\n",
       "      <td>Hà Nội</td>\n",
       "      <td>NaN</td>\n",
       "      <td>2020-12-03</td>\n",
       "      <td>Trở về trang trướcChia sẻData ScientistNơi Làm...</td>\n",
       "      <td>https://vn.indeed.com/rc/clk?jk=21ceb0b5098031...</td>\n",
       "      <td>'C', 'R', 'SQL', 'Statistics', 'Tableau', 'Pow...</td>\n",
       "      <td>NaN</td>\n",
       "    </tr>\n",
       "    <tr>\n",
       "      <th>1</th>\n",
       "      <td>0</td>\n",
       "      <td>33cda4aa961449fb</td>\n",
       "      <td>Associate Scientist, Regulatory Affairs</td>\n",
       "      <td>Procter &amp; Gamble</td>\n",
       "      <td>NaN</td>\n",
       "      <td>Thailand</td>\n",
       "      <td>Not Applicable</td>\n",
       "      <td>NaN</td>\n",
       "      <td>NaN</td>\n",
       "      <td>NaN</td>\n",
       "      <td>Are you passionate about making sure every det...</td>\n",
       "      <td>https://th.indeed.com/rc/clk?jk=33cda4aa961449...</td>\n",
       "      <td>'C', 'Artificial Intelligence', 'R'</td>\n",
       "      <td>'Associate', 'Assoc'</td>\n",
       "    </tr>\n",
       "    <tr>\n",
       "      <th>2</th>\n",
       "      <td>0</td>\n",
       "      <td>bdc6afc932fd4d07</td>\n",
       "      <td>Data Engineer</td>\n",
       "      <td>Chứng khoán VNDIRECT</td>\n",
       "      <td>NaN</td>\n",
       "      <td>Vietnam</td>\n",
       "      <td>Not Applicable</td>\n",
       "      <td>Hà Nội</td>\n",
       "      <td>NaN</td>\n",
       "      <td>2020-12-03</td>\n",
       "      <td>Trở về trang trướcChia sẻData EngineerNơi Làm ...</td>\n",
       "      <td>https://vn.indeed.com/rc/clk?jk=bdc6afc932fd4d...</td>\n",
       "      <td>'Kafka', 'Airflow', 'Spark', 'C', 'R', 'SQL', ...</td>\n",
       "      <td>NaN</td>\n",
       "    </tr>\n",
       "    <tr>\n",
       "      <th>3</th>\n",
       "      <td>0</td>\n",
       "      <td>2407740df8f3c799</td>\n",
       "      <td>Data Scientist</td>\n",
       "      <td>Swivelt Sdn. Bhd.</td>\n",
       "      <td>RM 4,000 - RM 5,000 a month</td>\n",
       "      <td>Malaysia</td>\n",
       "      <td>Not Applicable</td>\n",
       "      <td>Kuala Lumpur</td>\n",
       "      <td>NaN</td>\n",
       "      <td>2020-12-02</td>\n",
       "      <td>The Data Scientist department is constantly lo...</td>\n",
       "      <td>https://www.indeed.com.my/company/Swivelt-Sdn....</td>\n",
       "      <td>'SAS', 'Tableau', 'SQL', 'Excel', 'NoSQL', 'Py...</td>\n",
       "      <td>NaN</td>\n",
       "    </tr>\n",
       "    <tr>\n",
       "      <th>4</th>\n",
       "      <td>0</td>\n",
       "      <td>5198579f85df40f6</td>\n",
       "      <td>Data Scientist, Visa Consulting &amp; Analytics (C...</td>\n",
       "      <td>Visa</td>\n",
       "      <td>NaN</td>\n",
       "      <td>Thailand</td>\n",
       "      <td>Not Applicable</td>\n",
       "      <td>กรุงเทพมหานคร</td>\n",
       "      <td>NaN</td>\n",
       "      <td>2020-12-01</td>\n",
       "      <td>Company DescriptionAs the world's leader in di...</td>\n",
       "      <td>https://th.indeed.com/rc/clk?jk=5198579f85df40...</td>\n",
       "      <td>'Regression', 'Factor', 'SAS', 'SQL', 'Excel',...</td>\n",
       "      <td>NaN</td>\n",
       "    </tr>\n",
       "  </tbody>\n",
       "</table>\n",
       "</div>"
      ],
      "text/plain": [
       "   Unnamed: 0            Job_ID  \\\n",
       "0           0  21ceb0b509803172   \n",
       "1           0  33cda4aa961449fb   \n",
       "2           0  bdc6afc932fd4d07   \n",
       "3           0  2407740df8f3c799   \n",
       "4           0  5198579f85df40f6   \n",
       "\n",
       "                                           Job_Title               Company  \\\n",
       "0                                     Data Scientist  Chứng khoán VNDIRECT   \n",
       "1            Associate Scientist, Regulatory Affairs      Procter & Gamble   \n",
       "2                                      Data Engineer  Chứng khoán VNDIRECT   \n",
       "3                                     Data Scientist     Swivelt Sdn. Bhd.   \n",
       "4  Data Scientist, Visa Consulting & Analytics (C...                  Visa   \n",
       "\n",
       "                        Salary   Country           State       Location  \\\n",
       "0                          NaN   Vietnam  Not Applicable         Hà Nội   \n",
       "1                          NaN  Thailand  Not Applicable            NaN   \n",
       "2                          NaN   Vietnam  Not Applicable         Hà Nội   \n",
       "3  RM 4,000 - RM 5,000 a month  Malaysia  Not Applicable   Kuala Lumpur   \n",
       "4                          NaN  Thailand  Not Applicable  กรุงเทพมหานคร   \n",
       "\n",
       "   Metadata Date_Posted                                        Description  \\\n",
       "0       NaN  2020-12-03  Trở về trang trướcChia sẻData ScientistNơi Làm...   \n",
       "1       NaN         NaN  Are you passionate about making sure every det...   \n",
       "2       NaN  2020-12-03  Trở về trang trướcChia sẻData EngineerNơi Làm ...   \n",
       "3       NaN  2020-12-02  The Data Scientist department is constantly lo...   \n",
       "4       NaN  2020-12-01  Company DescriptionAs the world's leader in di...   \n",
       "\n",
       "                                             Job_URL  \\\n",
       "0  https://vn.indeed.com/rc/clk?jk=21ceb0b5098031...   \n",
       "1  https://th.indeed.com/rc/clk?jk=33cda4aa961449...   \n",
       "2  https://vn.indeed.com/rc/clk?jk=bdc6afc932fd4d...   \n",
       "3  https://www.indeed.com.my/company/Swivelt-Sdn....   \n",
       "4  https://th.indeed.com/rc/clk?jk=5198579f85df40...   \n",
       "\n",
       "                                    Keywords_Present        Title_Keywords  \n",
       "0  'C', 'R', 'SQL', 'Statistics', 'Tableau', 'Pow...                   NaN  \n",
       "1                'C', 'Artificial Intelligence', 'R'  'Associate', 'Assoc'  \n",
       "2  'Kafka', 'Airflow', 'Spark', 'C', 'R', 'SQL', ...                   NaN  \n",
       "3  'SAS', 'Tableau', 'SQL', 'Excel', 'NoSQL', 'Py...                   NaN  \n",
       "4  'Regression', 'Factor', 'SAS', 'SQL', 'Excel',...                   NaN  "
      ]
     },
     "execution_count": 6,
     "metadata": {},
     "output_type": "execute_result"
    }
   ],
   "source": [
    "df_indeed = pd.read_csv('resource/indeed_data_scientist.csv')\n",
    "df_indeed.head()"
   ]
  },
  {
   "cell_type": "code",
   "execution_count": 10,
   "metadata": {},
   "outputs": [
    {
     "data": {
      "text/html": [
       "<div>\n",
       "<style scoped>\n",
       "    .dataframe tbody tr th:only-of-type {\n",
       "        vertical-align: middle;\n",
       "    }\n",
       "\n",
       "    .dataframe tbody tr th {\n",
       "        vertical-align: top;\n",
       "    }\n",
       "\n",
       "    .dataframe thead th {\n",
       "        text-align: right;\n",
       "    }\n",
       "</style>\n",
       "<table border=\"1\" class=\"dataframe\">\n",
       "  <thead>\n",
       "    <tr style=\"text-align: right;\">\n",
       "      <th></th>\n",
       "      <th>Job_ID</th>\n",
       "      <th>Job_Title</th>\n",
       "      <th>Company</th>\n",
       "      <th>Salary</th>\n",
       "      <th>Country</th>\n",
       "      <th>State</th>\n",
       "      <th>Location</th>\n",
       "      <th>Date_Posted</th>\n",
       "      <th>Description</th>\n",
       "      <th>Job_URL</th>\n",
       "      <th>Keywords_Present</th>\n",
       "      <th>Title_Keywords</th>\n",
       "    </tr>\n",
       "  </thead>\n",
       "  <tbody>\n",
       "    <tr>\n",
       "      <th>count</th>\n",
       "      <td>50</td>\n",
       "      <td>50</td>\n",
       "      <td>50</td>\n",
       "      <td>22</td>\n",
       "      <td>50</td>\n",
       "      <td>50</td>\n",
       "      <td>29</td>\n",
       "      <td>29</td>\n",
       "      <td>50</td>\n",
       "      <td>50</td>\n",
       "      <td>50</td>\n",
       "      <td>12</td>\n",
       "    </tr>\n",
       "    <tr>\n",
       "      <th>unique</th>\n",
       "      <td>50</td>\n",
       "      <td>44</td>\n",
       "      <td>45</td>\n",
       "      <td>16</td>\n",
       "      <td>1</td>\n",
       "      <td>1</td>\n",
       "      <td>6</td>\n",
       "      <td>5</td>\n",
       "      <td>50</td>\n",
       "      <td>50</td>\n",
       "      <td>41</td>\n",
       "      <td>5</td>\n",
       "    </tr>\n",
       "    <tr>\n",
       "      <th>top</th>\n",
       "      <td>fd244435b906dd0f</td>\n",
       "      <td>Data Scientist</td>\n",
       "      <td>Reeracoen Singapore Pte Ltd</td>\n",
       "      <td>$1,000 - $1,500 a month</td>\n",
       "      <td>Singapore</td>\n",
       "      <td>Not Applicable</td>\n",
       "      <td>Singapore</td>\n",
       "      <td>2020-12-04</td>\n",
       "      <td>Applied Materials is an innovation-driven comp...</td>\n",
       "      <td>https://www.indeed.com.sg/rc/clk?jk=3701fadca9...</td>\n",
       "      <td>'C', 'R'</td>\n",
       "      <td>'Senior'</td>\n",
       "    </tr>\n",
       "    <tr>\n",
       "      <th>freq</th>\n",
       "      <td>1</td>\n",
       "      <td>5</td>\n",
       "      <td>2</td>\n",
       "      <td>2</td>\n",
       "      <td>50</td>\n",
       "      <td>50</td>\n",
       "      <td>20</td>\n",
       "      <td>13</td>\n",
       "      <td>1</td>\n",
       "      <td>1</td>\n",
       "      <td>5</td>\n",
       "      <td>8</td>\n",
       "    </tr>\n",
       "  </tbody>\n",
       "</table>\n",
       "</div>"
      ],
      "text/plain": [
       "                  Job_ID       Job_Title                      Company  \\\n",
       "count                 50              50                           50   \n",
       "unique                50              44                           45   \n",
       "top     fd244435b906dd0f  Data Scientist  Reeracoen Singapore Pte Ltd   \n",
       "freq                   1               5                            2   \n",
       "\n",
       "                         Salary    Country           State   Location  \\\n",
       "count                        22         50              50         29   \n",
       "unique                       16          1               1          6   \n",
       "top     $1,000 - $1,500 a month  Singapore  Not Applicable  Singapore   \n",
       "freq                          2         50              50         20   \n",
       "\n",
       "       Date_Posted                                        Description  \\\n",
       "count           29                                                 50   \n",
       "unique           5                                                 50   \n",
       "top     2020-12-04  Applied Materials is an innovation-driven comp...   \n",
       "freq            13                                                  1   \n",
       "\n",
       "                                                  Job_URL Keywords_Present  \\\n",
       "count                                                  50               50   \n",
       "unique                                                 50               41   \n",
       "top     https://www.indeed.com.sg/rc/clk?jk=3701fadca9...         'C', 'R'   \n",
       "freq                                                    1                5   \n",
       "\n",
       "       Title_Keywords  \n",
       "count              12  \n",
       "unique              5  \n",
       "top          'Senior'  \n",
       "freq                8  "
      ]
     },
     "execution_count": 10,
     "metadata": {},
     "output_type": "execute_result"
    }
   ],
   "source": [
    "df_50jobs = df_indeed.loc[df_indeed['Country'] == 'Singapore']\n",
    "df_50jobs = df_50jobs.drop_duplicates(subset=['Description'])\n",
    "df_50jobs = df_50jobs.loc[df_50jobs['Description'] != 'No Description']\n",
    "df_50jobs = df_50jobs.sample(n=50)\n",
    "df_50jobs.describe(include='object')"
   ]
  },
  {
   "cell_type": "code",
   "execution_count": 46,
   "metadata": {},
   "outputs": [
    {
     "name": "stdout",
     "output_type": "stream",
     "text": [
      "{\"attributions\": [{\"name\": \"Wikipedia\", \"text\": \"Wikipedia extracts are distributed under the CC BY-SA license (https://creativecommons.org/licenses/by-sa/3.0/)\"}], \"data\": []}\n",
      "{\"attributions\": [{\"name\": \"Wikipedia\", \"text\": \"Wikipedia extracts are distributed under the CC BY-SA license (https://creativecommons.org/licenses/by-sa/3.0/)\"}], \"data\": []}\n",
      "{\"attributions\": [{\"name\": \"Wikipedia\", \"text\": \"Wikipedia extracts are distributed under the CC BY-SA license (https://creativecommons.org/licenses/by-sa/3.0/)\"}], \"data\": []}\n",
      "{\"attributions\": [{\"name\": \"Wikipedia\", \"text\": \"Wikipedia extracts are distributed under the CC BY-SA license (https://creativecommons.org/licenses/by-sa/3.0/)\"}], \"data\": []}\n",
      "{\"attributions\": [{\"name\": \"Wikipedia\", \"text\": \"Wikipedia extracts are distributed under the CC BY-SA license (https://creativecommons.org/licenses/by-sa/3.0/)\"}], \"data\": []}\n",
      "{\"attributions\": [{\"name\": \"Wikipedia\", \"text\": \"Wikipedia extracts are distributed under the CC BY-SA license (https://creativecommons.org/licenses/by-sa/3.0/)\"}], \"data\": []}\n",
      "{\"attributions\": [{\"name\": \"Wikipedia\", \"text\": \"Wikipedia extracts are distributed under the CC BY-SA license (https://creativecommons.org/licenses/by-sa/3.0/)\"}], \"data\": []}\n",
      "{\"attributions\": [{\"name\": \"Wikipedia\", \"text\": \"Wikipedia extracts are distributed under the CC BY-SA license (https://creativecommons.org/licenses/by-sa/3.0/)\"}], \"data\": []}\n",
      "{\"attributions\": [{\"name\": \"Wikipedia\", \"text\": \"Wikipedia extracts are distributed under the CC BY-SA license (https://creativecommons.org/licenses/by-sa/3.0/)\"}], \"data\": []}\n",
      "{\"attributions\": [{\"name\": \"Wikipedia\", \"text\": \"Wikipedia extracts are distributed under the CC BY-SA license (https://creativecommons.org/licenses/by-sa/3.0/)\"}], \"data\": []}\n",
      "{\"attributions\": [{\"name\": \"Wikipedia\", \"text\": \"Wikipedia extracts are distributed under the CC BY-SA license (https://creativecommons.org/licenses/by-sa/3.0/)\"}], \"data\": []}\n",
      "{\"attributions\": [{\"name\": \"Wikipedia\", \"text\": \"Wikipedia extracts are distributed under the CC BY-SA license (https://creativecommons.org/licenses/by-sa/3.0/)\"}], \"data\": []}\n",
      "{\"attributions\": [{\"name\": \"Wikipedia\", \"text\": \"Wikipedia extracts are distributed under the CC BY-SA license (https://creativecommons.org/licenses/by-sa/3.0/)\"}], \"data\": []}\n",
      "{\"attributions\": [{\"name\": \"Wikipedia\", \"text\": \"Wikipedia extracts are distributed under the CC BY-SA license (https://creativecommons.org/licenses/by-sa/3.0/)\"}], \"data\": []}\n",
      "{\"attributions\": [{\"name\": \"Wikipedia\", \"text\": \"Wikipedia extracts are distributed under the CC BY-SA license (https://creativecommons.org/licenses/by-sa/3.0/)\"}], \"data\": []}\n",
      "{\"attributions\": [{\"name\": \"Wikipedia\", \"text\": \"Wikipedia extracts are distributed under the CC BY-SA license (https://creativecommons.org/licenses/by-sa/3.0/)\"}], \"data\": []}\n",
      "{\"attributions\": [{\"name\": \"Wikipedia\", \"text\": \"Wikipedia extracts are distributed under the CC BY-SA license (https://creativecommons.org/licenses/by-sa/3.0/)\"}], \"data\": []}\n",
      "{\"attributions\": [{\"name\": \"Wikipedia\", \"text\": \"Wikipedia extracts are distributed under the CC BY-SA license (https://creativecommons.org/licenses/by-sa/3.0/)\"}], \"data\": []}\n",
      "{\"attributions\": [{\"name\": \"Wikipedia\", \"text\": \"Wikipedia extracts are distributed under the CC BY-SA license (https://creativecommons.org/licenses/by-sa/3.0/)\"}], \"data\": []}\n",
      "{\"attributions\": [{\"name\": \"Wikipedia\", \"text\": \"Wikipedia extracts are distributed under the CC BY-SA license (https://creativecommons.org/licenses/by-sa/3.0/)\"}], \"data\": []}\n",
      "{\"attributions\": [{\"name\": \"Wikipedia\", \"text\": \"Wikipedia extracts are distributed under the CC BY-SA license (https://creativecommons.org/licenses/by-sa/3.0/)\"}], \"data\": []}\n",
      "{\"attributions\": [{\"name\": \"Wikipedia\", \"text\": \"Wikipedia extracts are distributed under the CC BY-SA license (https://creativecommons.org/licenses/by-sa/3.0/)\"}], \"data\": []}\n",
      "{\"attributions\": [{\"name\": \"Wikipedia\", \"text\": \"Wikipedia extracts are distributed under the CC BY-SA license (https://creativecommons.org/licenses/by-sa/3.0/)\"}], \"data\": []}\n",
      "{\"attributions\": [{\"name\": \"Wikipedia\", \"text\": \"Wikipedia extracts are distributed under the CC BY-SA license (https://creativecommons.org/licenses/by-sa/3.0/)\"}], \"data\": []}\n",
      "{\"attributions\": [{\"name\": \"Wikipedia\", \"text\": \"Wikipedia extracts are distributed under the CC BY-SA license (https://creativecommons.org/licenses/by-sa/3.0/)\"}], \"data\": []}\n",
      "{\"attributions\": [{\"name\": \"Wikipedia\", \"text\": \"Wikipedia extracts are distributed under the CC BY-SA license (https://creativecommons.org/licenses/by-sa/3.0/)\"}], \"data\": []}\n",
      "{\"attributions\": [{\"name\": \"Wikipedia\", \"text\": \"Wikipedia extracts are distributed under the CC BY-SA license (https://creativecommons.org/licenses/by-sa/3.0/)\"}], \"data\": []}\n",
      "{\"attributions\": [{\"name\": \"Wikipedia\", \"text\": \"Wikipedia extracts are distributed under the CC BY-SA license (https://creativecommons.org/licenses/by-sa/3.0/)\"}], \"data\": []}\n",
      "{\"attributions\": [{\"name\": \"Wikipedia\", \"text\": \"Wikipedia extracts are distributed under the CC BY-SA license (https://creativecommons.org/licenses/by-sa/3.0/)\"}], \"data\": []}\n",
      "{\"attributions\": [{\"name\": \"Wikipedia\", \"text\": \"Wikipedia extracts are distributed under the CC BY-SA license (https://creativecommons.org/licenses/by-sa/3.0/)\"}], \"data\": []}\n",
      "{\"attributions\": [{\"name\": \"Wikipedia\", \"text\": \"Wikipedia extracts are distributed under the CC BY-SA license (https://creativecommons.org/licenses/by-sa/3.0/)\"}], \"data\": []}\n",
      "{\"attributions\": [{\"name\": \"Wikipedia\", \"text\": \"Wikipedia extracts are distributed under the CC BY-SA license (https://creativecommons.org/licenses/by-sa/3.0/)\"}], \"data\": []}\n",
      "{\"message\":\"You have met your monthly limit on skills extraction; please contact us if you'd like to raise this limit.\"}\n"
     ]
    },
    {
     "ename": "KeyError",
     "evalue": "'data'",
     "output_type": "error",
     "traceback": [
      "\u001b[0;31m---------------------------------------------------------------------------\u001b[0m",
      "\u001b[0;31mKeyError\u001b[0m                                  Traceback (most recent call last)",
      "\u001b[0;32m<ipython-input-46-3d962ec19038>\u001b[0m in \u001b[0;36m<module>\u001b[0;34m\u001b[0m\n\u001b[1;32m      7\u001b[0m     \u001b[0mresponse\u001b[0m \u001b[0;34m=\u001b[0m \u001b[0mrequests\u001b[0m\u001b[0;34m.\u001b[0m\u001b[0mrequest\u001b[0m\u001b[0;34m(\u001b[0m\u001b[0;34m\"POST\"\u001b[0m\u001b[0;34m,\u001b[0m \u001b[0murl\u001b[0m\u001b[0;34m,\u001b[0m \u001b[0mdata\u001b[0m\u001b[0;34m=\u001b[0m\u001b[0mpayload\u001b[0m\u001b[0;34m,\u001b[0m \u001b[0mheaders\u001b[0m\u001b[0;34m=\u001b[0m\u001b[0mheaders\u001b[0m\u001b[0;34m)\u001b[0m\u001b[0;34m\u001b[0m\u001b[0;34m\u001b[0m\u001b[0m\n\u001b[1;32m      8\u001b[0m     \u001b[0mprint\u001b[0m\u001b[0;34m(\u001b[0m\u001b[0mresponse\u001b[0m\u001b[0;34m.\u001b[0m\u001b[0mtext\u001b[0m\u001b[0;34m)\u001b[0m\u001b[0;34m\u001b[0m\u001b[0;34m\u001b[0m\u001b[0m\n\u001b[0;32m----> 9\u001b[0;31m     \u001b[0mskills\u001b[0m \u001b[0;34m=\u001b[0m \u001b[0mresponse\u001b[0m\u001b[0;34m.\u001b[0m\u001b[0mjson\u001b[0m\u001b[0;34m(\u001b[0m\u001b[0;34m)\u001b[0m\u001b[0;34m[\u001b[0m\u001b[0;34m'data'\u001b[0m\u001b[0;34m]\u001b[0m\u001b[0;34m\u001b[0m\u001b[0;34m\u001b[0m\u001b[0m\n\u001b[0m\u001b[1;32m     10\u001b[0m     \u001b[0;32mfor\u001b[0m \u001b[0ms\u001b[0m \u001b[0;32min\u001b[0m \u001b[0mskills\u001b[0m\u001b[0;34m:\u001b[0m\u001b[0;34m\u001b[0m\u001b[0;34m\u001b[0m\u001b[0m\n\u001b[1;32m     11\u001b[0m         \u001b[0mnew_skills\u001b[0m\u001b[0;34m.\u001b[0m\u001b[0mappend\u001b[0m\u001b[0;34m(\u001b[0m\u001b[0ms\u001b[0m\u001b[0;34m[\u001b[0m\u001b[0;34m'name'\u001b[0m\u001b[0;34m]\u001b[0m\u001b[0;34m)\u001b[0m\u001b[0;34m\u001b[0m\u001b[0;34m\u001b[0m\u001b[0m\n",
      "\u001b[0;31mKeyError\u001b[0m: 'data'"
     ]
    }
   ],
   "source": [
    "new_skills = []\n",
    "url = \"https://emsiservices.com/skills/versions/latest/extract\"\n",
    "\n",
    "for job in df_50jobs['Description'].to_list():\n",
    "    payload = {'text': job, 'confidenceThreshold': 0.4}\n",
    "    headers = {'authorization': 'Bearer {}'.format(access_token), 'content-type': 'text/plain'}\n",
    "    response = requests.request(\"POST\", url, data=payload, headers=headers)\n",
    "    print(response.text)\n",
    "    skills = response.json()['data']\n",
    "    for s in skills:\n",
    "        new_skills.append(s['name'])"
   ]
  }
 ],
 "metadata": {
  "kernelspec": {
   "display_name": "Python 3",
   "language": "python",
   "name": "python3"
  },
  "language_info": {
   "codemirror_mode": {
    "name": "ipython",
    "version": 3
   },
   "file_extension": ".py",
   "mimetype": "text/x-python",
   "name": "python",
   "nbconvert_exporter": "python",
   "pygments_lexer": "ipython3",
   "version": "3.7.6"
  }
 },
 "nbformat": 4,
 "nbformat_minor": 4
}
