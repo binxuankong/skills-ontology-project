{
 "cells": [
  {
   "cell_type": "code",
   "execution_count": 1,
   "metadata": {},
   "outputs": [],
   "source": [
    "import pandas as pd\n",
    "import re\n",
    "import matplotlib.pyplot as plt\n",
    "import seaborn as sns\n",
    "import warnings\n",
    "import queries\n",
    "from sqlalchemy import create_engine\n",
    "from secrets import secrets\n",
    "\n",
    "warnings.filterwarnings(\"ignore\")"
   ]
  },
  {
   "cell_type": "markdown",
   "metadata": {},
   "source": [
    "# Extract Data"
   ]
  },
  {
   "cell_type": "code",
   "execution_count": 2,
   "metadata": {},
   "outputs": [],
   "source": [
    "engine = create_engine(secrets['indeed_db'])"
   ]
  },
  {
   "cell_type": "markdown",
   "metadata": {},
   "source": [
    "## Data Analyst"
   ]
  },
  {
   "cell_type": "code",
   "execution_count": 3,
   "metadata": {},
   "outputs": [
    {
     "data": {
      "text/html": [
       "<div>\n",
       "<style scoped>\n",
       "    .dataframe tbody tr th:only-of-type {\n",
       "        vertical-align: middle;\n",
       "    }\n",
       "\n",
       "    .dataframe tbody tr th {\n",
       "        vertical-align: top;\n",
       "    }\n",
       "\n",
       "    .dataframe thead th {\n",
       "        text-align: right;\n",
       "    }\n",
       "</style>\n",
       "<table border=\"1\" class=\"dataframe\">\n",
       "  <thead>\n",
       "    <tr style=\"text-align: right;\">\n",
       "      <th></th>\n",
       "      <th>Job_Title</th>\n",
       "      <th>Company</th>\n",
       "      <th>Salary</th>\n",
       "      <th>Location</th>\n",
       "      <th>Date_Posted</th>\n",
       "      <th>Description</th>\n",
       "      <th>Job_URL</th>\n",
       "      <th>Keywords_Present</th>\n",
       "      <th>Title_Keywords</th>\n",
       "    </tr>\n",
       "  </thead>\n",
       "  <tbody>\n",
       "    <tr>\n",
       "      <th>0</th>\n",
       "      <td>DATA ANALYST</td>\n",
       "      <td>D'YANA INTERNATIONAL</td>\n",
       "      <td>None</td>\n",
       "      <td>Malaysia</td>\n",
       "      <td>2020-04-10</td>\n",
       "      <td>Looking for a candidate who loves crunching nu...</td>\n",
       "      <td>https://www.indeed.com.my//rc/clk?jk=52559f104...</td>\n",
       "      <td>'Data Analysis', 'Excel', 'R', 'Statistics'</td>\n",
       "      <td>None</td>\n",
       "    </tr>\n",
       "    <tr>\n",
       "      <th>1</th>\n",
       "      <td>Data Informatics Analyst</td>\n",
       "      <td>National instrument</td>\n",
       "      <td>None</td>\n",
       "      <td>Bayan Lepas</td>\n",
       "      <td>2020-04-23</td>\n",
       "      <td>APAC Data Informatics Analyst, APAC Sales Info...</td>\n",
       "      <td>https://www.indeed.com.my//rc/clk?jk=e61ab28da...</td>\n",
       "      <td>'C', 'Go', 'R'</td>\n",
       "      <td>None</td>\n",
       "    </tr>\n",
       "    <tr>\n",
       "      <th>2</th>\n",
       "      <td>Data Informatics Analyst</td>\n",
       "      <td>National Instruments</td>\n",
       "      <td>None</td>\n",
       "      <td>Bayan Lepas</td>\n",
       "      <td>2020-04-23</td>\n",
       "      <td>APAC Data Informatics Analyst, APAC Sales Info...</td>\n",
       "      <td>https://www.indeed.com.my//rc/clk?jk=45d36230e...</td>\n",
       "      <td>'C', 'Go', 'R'</td>\n",
       "      <td>None</td>\n",
       "    </tr>\n",
       "    <tr>\n",
       "      <th>3</th>\n",
       "      <td>Data Analyst (Quality)</td>\n",
       "      <td>Latexx</td>\n",
       "      <td>None</td>\n",
       "      <td>Malaysia</td>\n",
       "      <td>2020-04-10</td>\n",
       "      <td>Data Analyst (Quality)ResponsibilitiesLocate a...</td>\n",
       "      <td>https://www.indeed.com.my//rc/clk?jk=4a24763c5...</td>\n",
       "      <td>'C', 'Excel', 'Java', 'R', 'SAS', 'SPSS', 'SQL...</td>\n",
       "      <td>None</td>\n",
       "    </tr>\n",
       "    <tr>\n",
       "      <th>4</th>\n",
       "      <td>BI Data Analyst</td>\n",
       "      <td>Shopee</td>\n",
       "      <td>None</td>\n",
       "      <td>Kuala Lumpur</td>\n",
       "      <td>2020-04-10</td>\n",
       "      <td>Job Description:Work closely with Warehouse te...</td>\n",
       "      <td>https://www.indeed.com.my//rc/clk?jk=8b805d72b...</td>\n",
       "      <td>'C', 'Python', 'R', 'SQL'</td>\n",
       "      <td>None</td>\n",
       "    </tr>\n",
       "  </tbody>\n",
       "</table>\n",
       "</div>"
      ],
      "text/plain": [
       "                  Job_Title               Company Salary      Location  \\\n",
       "0              DATA ANALYST  D'YANA INTERNATIONAL   None      Malaysia   \n",
       "1  Data Informatics Analyst   National instrument   None   Bayan Lepas   \n",
       "2  Data Informatics Analyst  National Instruments   None   Bayan Lepas   \n",
       "3    Data Analyst (Quality)                Latexx   None      Malaysia   \n",
       "4           BI Data Analyst                Shopee   None  Kuala Lumpur   \n",
       "\n",
       "  Date_Posted                                        Description  \\\n",
       "0  2020-04-10  Looking for a candidate who loves crunching nu...   \n",
       "1  2020-04-23  APAC Data Informatics Analyst, APAC Sales Info...   \n",
       "2  2020-04-23  APAC Data Informatics Analyst, APAC Sales Info...   \n",
       "3  2020-04-10  Data Analyst (Quality)ResponsibilitiesLocate a...   \n",
       "4  2020-04-10  Job Description:Work closely with Warehouse te...   \n",
       "\n",
       "                                             Job_URL  \\\n",
       "0  https://www.indeed.com.my//rc/clk?jk=52559f104...   \n",
       "1  https://www.indeed.com.my//rc/clk?jk=e61ab28da...   \n",
       "2  https://www.indeed.com.my//rc/clk?jk=45d36230e...   \n",
       "3  https://www.indeed.com.my//rc/clk?jk=4a24763c5...   \n",
       "4  https://www.indeed.com.my//rc/clk?jk=8b805d72b...   \n",
       "\n",
       "                                    Keywords_Present Title_Keywords  \n",
       "0        'Data Analysis', 'Excel', 'R', 'Statistics'           None  \n",
       "1                                     'C', 'Go', 'R'           None  \n",
       "2                                     'C', 'Go', 'R'           None  \n",
       "3  'C', 'Excel', 'Java', 'R', 'SAS', 'SPSS', 'SQL...           None  \n",
       "4                          'C', 'Python', 'R', 'SQL'           None  "
      ]
     },
     "execution_count": 3,
     "metadata": {},
     "output_type": "execute_result"
    }
   ],
   "source": [
    "df_da = pd.read_sql_query(queries.jobs_query.format('Data_Analyst'), con=engine)\n",
    "df_da.head()"
   ]
  },
  {
   "cell_type": "code",
   "execution_count": 4,
   "metadata": {},
   "outputs": [
    {
     "data": {
      "text/html": [
       "<div>\n",
       "<style scoped>\n",
       "    .dataframe tbody tr th:only-of-type {\n",
       "        vertical-align: middle;\n",
       "    }\n",
       "\n",
       "    .dataframe tbody tr th {\n",
       "        vertical-align: top;\n",
       "    }\n",
       "\n",
       "    .dataframe thead th {\n",
       "        text-align: right;\n",
       "    }\n",
       "</style>\n",
       "<table border=\"1\" class=\"dataframe\">\n",
       "  <thead>\n",
       "    <tr style=\"text-align: right;\">\n",
       "      <th></th>\n",
       "      <th>Job_Title</th>\n",
       "      <th>Company</th>\n",
       "      <th>Salary</th>\n",
       "      <th>Location</th>\n",
       "      <th>Date_Posted</th>\n",
       "      <th>Description</th>\n",
       "      <th>Job_URL</th>\n",
       "      <th>Keywords_Present</th>\n",
       "      <th>Title_Keywords</th>\n",
       "    </tr>\n",
       "  </thead>\n",
       "  <tbody>\n",
       "    <tr>\n",
       "      <th>count</th>\n",
       "      <td>5350</td>\n",
       "      <td>5295</td>\n",
       "      <td>1085</td>\n",
       "      <td>5127</td>\n",
       "      <td>5276</td>\n",
       "      <td>5350</td>\n",
       "      <td>5350</td>\n",
       "      <td>5156</td>\n",
       "      <td>1569</td>\n",
       "    </tr>\n",
       "    <tr>\n",
       "      <th>unique</th>\n",
       "      <td>1851</td>\n",
       "      <td>768</td>\n",
       "      <td>228</td>\n",
       "      <td>89</td>\n",
       "      <td>174</td>\n",
       "      <td>2354</td>\n",
       "      <td>2808</td>\n",
       "      <td>632</td>\n",
       "      <td>19</td>\n",
       "    </tr>\n",
       "    <tr>\n",
       "      <th>top</th>\n",
       "      <td>Principal Salesforce Developer</td>\n",
       "      <td>iPrice group</td>\n",
       "      <td>RM 5,000 - RM 7,000 a month</td>\n",
       "      <td>Kuala Lumpur</td>\n",
       "      <td>2020-07-26</td>\n",
       "      <td>No Description</td>\n",
       "      <td>https://www.indeed.com.my/rc/clk?jk=8f5e920e7e...</td>\n",
       "      <td>'C', 'R'</td>\n",
       "      <td>'Senior'</td>\n",
       "    </tr>\n",
       "    <tr>\n",
       "      <th>freq</th>\n",
       "      <td>126</td>\n",
       "      <td>246</td>\n",
       "      <td>98</td>\n",
       "      <td>2006</td>\n",
       "      <td>1988</td>\n",
       "      <td>105</td>\n",
       "      <td>64</td>\n",
       "      <td>1047</td>\n",
       "      <td>862</td>\n",
       "    </tr>\n",
       "  </tbody>\n",
       "</table>\n",
       "</div>"
      ],
      "text/plain": [
       "                             Job_Title       Company  \\\n",
       "count                             5350          5295   \n",
       "unique                            1851           768   \n",
       "top     Principal Salesforce Developer  iPrice group   \n",
       "freq                               126           246   \n",
       "\n",
       "                             Salary      Location Date_Posted     Description  \\\n",
       "count                          1085          5127        5276            5350   \n",
       "unique                          228            89         174            2354   \n",
       "top     RM 5,000 - RM 7,000 a month  Kuala Lumpur  2020-07-26  No Description   \n",
       "freq                             98          2006        1988             105   \n",
       "\n",
       "                                                  Job_URL Keywords_Present  \\\n",
       "count                                                5350             5156   \n",
       "unique                                               2808              632   \n",
       "top     https://www.indeed.com.my/rc/clk?jk=8f5e920e7e...         'C', 'R'   \n",
       "freq                                                   64             1047   \n",
       "\n",
       "       Title_Keywords  \n",
       "count            1569  \n",
       "unique             19  \n",
       "top          'Senior'  \n",
       "freq              862  "
      ]
     },
     "execution_count": 4,
     "metadata": {},
     "output_type": "execute_result"
    }
   ],
   "source": [
    "df_da.describe(include='object')"
   ]
  },
  {
   "cell_type": "code",
   "execution_count": 5,
   "metadata": {},
   "outputs": [
    {
     "data": {
      "text/html": [
       "<div>\n",
       "<style scoped>\n",
       "    .dataframe tbody tr th:only-of-type {\n",
       "        vertical-align: middle;\n",
       "    }\n",
       "\n",
       "    .dataframe tbody tr th {\n",
       "        vertical-align: top;\n",
       "    }\n",
       "\n",
       "    .dataframe thead th {\n",
       "        text-align: right;\n",
       "    }\n",
       "</style>\n",
       "<table border=\"1\" class=\"dataframe\">\n",
       "  <thead>\n",
       "    <tr style=\"text-align: right;\">\n",
       "      <th></th>\n",
       "      <th>Job_Title</th>\n",
       "      <th>Company</th>\n",
       "      <th>Salary</th>\n",
       "      <th>Location</th>\n",
       "      <th>Date_Posted</th>\n",
       "      <th>Description</th>\n",
       "      <th>Job_URL</th>\n",
       "      <th>Keywords_Present</th>\n",
       "      <th>Title_Keywords</th>\n",
       "    </tr>\n",
       "  </thead>\n",
       "  <tbody>\n",
       "    <tr>\n",
       "      <th>count</th>\n",
       "      <td>2914</td>\n",
       "      <td>2861</td>\n",
       "      <td>614</td>\n",
       "      <td>2766</td>\n",
       "      <td>2841</td>\n",
       "      <td>2914</td>\n",
       "      <td>2914</td>\n",
       "      <td>2757</td>\n",
       "      <td>720</td>\n",
       "    </tr>\n",
       "    <tr>\n",
       "      <th>unique</th>\n",
       "      <td>1851</td>\n",
       "      <td>768</td>\n",
       "      <td>228</td>\n",
       "      <td>89</td>\n",
       "      <td>174</td>\n",
       "      <td>2354</td>\n",
       "      <td>2808</td>\n",
       "      <td>632</td>\n",
       "      <td>19</td>\n",
       "    </tr>\n",
       "    <tr>\n",
       "      <th>top</th>\n",
       "      <td>Business Analyst</td>\n",
       "      <td>Ambition</td>\n",
       "      <td>RM 4,000 - RM 4,500 a month</td>\n",
       "      <td>Kuala Lumpur</td>\n",
       "      <td>2020-04-10</td>\n",
       "      <td>No Description</td>\n",
       "      <td>https://www.indeed.com.my/company/Agensi-Peker...</td>\n",
       "      <td>'C', 'R'</td>\n",
       "      <td>'Senior'</td>\n",
       "    </tr>\n",
       "    <tr>\n",
       "      <th>freq</th>\n",
       "      <td>71</td>\n",
       "      <td>75</td>\n",
       "      <td>29</td>\n",
       "      <td>1207</td>\n",
       "      <td>533</td>\n",
       "      <td>105</td>\n",
       "      <td>3</td>\n",
       "      <td>551</td>\n",
       "      <td>381</td>\n",
       "    </tr>\n",
       "  </tbody>\n",
       "</table>\n",
       "</div>"
      ],
      "text/plain": [
       "               Job_Title   Company                       Salary      Location  \\\n",
       "count               2914      2861                          614          2766   \n",
       "unique              1851       768                          228            89   \n",
       "top     Business Analyst  Ambition  RM 4,000 - RM 4,500 a month  Kuala Lumpur   \n",
       "freq                  71        75                           29          1207   \n",
       "\n",
       "       Date_Posted     Description  \\\n",
       "count         2841            2914   \n",
       "unique         174            2354   \n",
       "top     2020-04-10  No Description   \n",
       "freq           533             105   \n",
       "\n",
       "                                                  Job_URL Keywords_Present  \\\n",
       "count                                                2914             2757   \n",
       "unique                                               2808              632   \n",
       "top     https://www.indeed.com.my/company/Agensi-Peker...         'C', 'R'   \n",
       "freq                                                    3              551   \n",
       "\n",
       "       Title_Keywords  \n",
       "count             720  \n",
       "unique             19  \n",
       "top          'Senior'  \n",
       "freq              381  "
      ]
     },
     "execution_count": 5,
     "metadata": {},
     "output_type": "execute_result"
    }
   ],
   "source": [
    "df_da = df_da.drop_duplicates()\n",
    "df_da.describe(include='object')"
   ]
  },
  {
   "cell_type": "markdown",
   "metadata": {},
   "source": [
    "## Data Engineer"
   ]
  },
  {
   "cell_type": "code",
   "execution_count": 6,
   "metadata": {},
   "outputs": [
    {
     "data": {
      "text/html": [
       "<div>\n",
       "<style scoped>\n",
       "    .dataframe tbody tr th:only-of-type {\n",
       "        vertical-align: middle;\n",
       "    }\n",
       "\n",
       "    .dataframe tbody tr th {\n",
       "        vertical-align: top;\n",
       "    }\n",
       "\n",
       "    .dataframe thead th {\n",
       "        text-align: right;\n",
       "    }\n",
       "</style>\n",
       "<table border=\"1\" class=\"dataframe\">\n",
       "  <thead>\n",
       "    <tr style=\"text-align: right;\">\n",
       "      <th></th>\n",
       "      <th>Job_Title</th>\n",
       "      <th>Company</th>\n",
       "      <th>Salary</th>\n",
       "      <th>Location</th>\n",
       "      <th>Date_Posted</th>\n",
       "      <th>Description</th>\n",
       "      <th>Job_URL</th>\n",
       "      <th>Keywords_Present</th>\n",
       "      <th>Title_Keywords</th>\n",
       "    </tr>\n",
       "  </thead>\n",
       "  <tbody>\n",
       "    <tr>\n",
       "      <th>0</th>\n",
       "      <td>Data Engineer</td>\n",
       "      <td>KPMG</td>\n",
       "      <td>None</td>\n",
       "      <td>Petaling Jaya</td>\n",
       "      <td>2020-05-04</td>\n",
       "      <td>We help organizations to work smarter and grow...</td>\n",
       "      <td>https://www.indeed.com.my//rc/clk?jk=2b236e08a...</td>\n",
       "      <td>'C', 'Java', 'R'</td>\n",
       "      <td>None</td>\n",
       "    </tr>\n",
       "    <tr>\n",
       "      <th>1</th>\n",
       "      <td>Wells Data Engineer</td>\n",
       "      <td>Seacom</td>\n",
       "      <td>None</td>\n",
       "      <td>Malaysia</td>\n",
       "      <td>2020-04-10</td>\n",
       "      <td>Position: Wells Data EngineerLocation: Peninsu...</td>\n",
       "      <td>https://www.indeed.com.my//rc/clk?jk=005edeb55...</td>\n",
       "      <td>'C'</td>\n",
       "      <td>None</td>\n",
       "    </tr>\n",
       "    <tr>\n",
       "      <th>2</th>\n",
       "      <td>Junior Engineer</td>\n",
       "      <td>Ematic Solutions</td>\n",
       "      <td>None</td>\n",
       "      <td>Malaysia</td>\n",
       "      <td>2020-05-04</td>\n",
       "      <td>JOB DESCRIPTIONWHO WE AREReady for your next c...</td>\n",
       "      <td>https://www.indeed.com.my//rc/clk?jk=b24e15d9c...</td>\n",
       "      <td>'C', 'Excel', 'R', 'SQL'</td>\n",
       "      <td>'Junior'</td>\n",
       "    </tr>\n",
       "    <tr>\n",
       "      <th>3</th>\n",
       "      <td>ITC Engineer</td>\n",
       "      <td>Bombardier</td>\n",
       "      <td>None</td>\n",
       "      <td>Kuala Lumpur</td>\n",
       "      <td>2020-05-06</td>\n",
       "      <td>ITC Engineer-TRCS-MAKU02280520DescriptionAt Bo...</td>\n",
       "      <td>https://www.indeed.com.my//rc/clk?jk=f9b066894...</td>\n",
       "      <td>'C', 'R'</td>\n",
       "      <td>None</td>\n",
       "    </tr>\n",
       "    <tr>\n",
       "      <th>4</th>\n",
       "      <td>Production Engineer</td>\n",
       "      <td>Malayan Flour Mills Berhad</td>\n",
       "      <td>None</td>\n",
       "      <td>Lumut</td>\n",
       "      <td>2020-04-29</td>\n",
       "      <td>Company DescriptionMalayan Flour Mills Berhad ...</td>\n",
       "      <td>https://www.indeed.com.my//rc/clk?jk=1507113f3...</td>\n",
       "      <td>'C', 'R'</td>\n",
       "      <td>None</td>\n",
       "    </tr>\n",
       "  </tbody>\n",
       "</table>\n",
       "</div>"
      ],
      "text/plain": [
       "             Job_Title                     Company Salary       Location  \\\n",
       "0        Data Engineer                        KPMG   None  Petaling Jaya   \n",
       "1  Wells Data Engineer                      Seacom   None       Malaysia   \n",
       "2      Junior Engineer            Ematic Solutions   None       Malaysia   \n",
       "3         ITC Engineer                  Bombardier   None   Kuala Lumpur   \n",
       "4  Production Engineer  Malayan Flour Mills Berhad   None          Lumut   \n",
       "\n",
       "  Date_Posted                                        Description  \\\n",
       "0  2020-05-04  We help organizations to work smarter and grow...   \n",
       "1  2020-04-10  Position: Wells Data EngineerLocation: Peninsu...   \n",
       "2  2020-05-04  JOB DESCRIPTIONWHO WE AREReady for your next c...   \n",
       "3  2020-05-06  ITC Engineer-TRCS-MAKU02280520DescriptionAt Bo...   \n",
       "4  2020-04-29  Company DescriptionMalayan Flour Mills Berhad ...   \n",
       "\n",
       "                                             Job_URL  \\\n",
       "0  https://www.indeed.com.my//rc/clk?jk=2b236e08a...   \n",
       "1  https://www.indeed.com.my//rc/clk?jk=005edeb55...   \n",
       "2  https://www.indeed.com.my//rc/clk?jk=b24e15d9c...   \n",
       "3  https://www.indeed.com.my//rc/clk?jk=f9b066894...   \n",
       "4  https://www.indeed.com.my//rc/clk?jk=1507113f3...   \n",
       "\n",
       "           Keywords_Present Title_Keywords  \n",
       "0          'C', 'Java', 'R'           None  \n",
       "1                       'C'           None  \n",
       "2  'C', 'Excel', 'R', 'SQL'       'Junior'  \n",
       "3                  'C', 'R'           None  \n",
       "4                  'C', 'R'           None  "
      ]
     },
     "execution_count": 6,
     "metadata": {},
     "output_type": "execute_result"
    }
   ],
   "source": [
    "df_de = pd.read_sql_query(queries.jobs_query.format('Data_Engineer'), con=engine)\n",
    "df_de.head()"
   ]
  },
  {
   "cell_type": "code",
   "execution_count": 7,
   "metadata": {},
   "outputs": [
    {
     "data": {
      "text/html": [
       "<div>\n",
       "<style scoped>\n",
       "    .dataframe tbody tr th:only-of-type {\n",
       "        vertical-align: middle;\n",
       "    }\n",
       "\n",
       "    .dataframe tbody tr th {\n",
       "        vertical-align: top;\n",
       "    }\n",
       "\n",
       "    .dataframe thead th {\n",
       "        text-align: right;\n",
       "    }\n",
       "</style>\n",
       "<table border=\"1\" class=\"dataframe\">\n",
       "  <thead>\n",
       "    <tr style=\"text-align: right;\">\n",
       "      <th></th>\n",
       "      <th>Job_Title</th>\n",
       "      <th>Company</th>\n",
       "      <th>Salary</th>\n",
       "      <th>Location</th>\n",
       "      <th>Date_Posted</th>\n",
       "      <th>Description</th>\n",
       "      <th>Job_URL</th>\n",
       "      <th>Keywords_Present</th>\n",
       "      <th>Title_Keywords</th>\n",
       "    </tr>\n",
       "  </thead>\n",
       "  <tbody>\n",
       "    <tr>\n",
       "      <th>count</th>\n",
       "      <td>6274</td>\n",
       "      <td>6214</td>\n",
       "      <td>1603</td>\n",
       "      <td>6005</td>\n",
       "      <td>6214</td>\n",
       "      <td>6274</td>\n",
       "      <td>6274</td>\n",
       "      <td>5978</td>\n",
       "      <td>1942</td>\n",
       "    </tr>\n",
       "    <tr>\n",
       "      <th>unique</th>\n",
       "      <td>2080</td>\n",
       "      <td>985</td>\n",
       "      <td>242</td>\n",
       "      <td>118</td>\n",
       "      <td>168</td>\n",
       "      <td>2739</td>\n",
       "      <td>3304</td>\n",
       "      <td>858</td>\n",
       "      <td>21</td>\n",
       "    </tr>\n",
       "    <tr>\n",
       "      <th>top</th>\n",
       "      <td>Software Engineer</td>\n",
       "      <td>iPrice group</td>\n",
       "      <td>RM 3,500 - RM 5,500 a month</td>\n",
       "      <td>Kuala Lumpur</td>\n",
       "      <td>2020-07-26</td>\n",
       "      <td>No Description</td>\n",
       "      <td>https://www.indeed.com.my/rc/clk?jk=3d89b168a5...</td>\n",
       "      <td>'C', 'R'</td>\n",
       "      <td>'Senior'</td>\n",
       "    </tr>\n",
       "    <tr>\n",
       "      <th>freq</th>\n",
       "      <td>105</td>\n",
       "      <td>326</td>\n",
       "      <td>70</td>\n",
       "      <td>1846</td>\n",
       "      <td>2004</td>\n",
       "      <td>157</td>\n",
       "      <td>64</td>\n",
       "      <td>1495</td>\n",
       "      <td>1173</td>\n",
       "    </tr>\n",
       "  </tbody>\n",
       "</table>\n",
       "</div>"
      ],
      "text/plain": [
       "                Job_Title       Company                       Salary  \\\n",
       "count                6274          6214                         1603   \n",
       "unique               2080           985                          242   \n",
       "top     Software Engineer  iPrice group  RM 3,500 - RM 5,500 a month   \n",
       "freq                  105           326                           70   \n",
       "\n",
       "            Location Date_Posted     Description  \\\n",
       "count           6005        6214            6274   \n",
       "unique           118         168            2739   \n",
       "top     Kuala Lumpur  2020-07-26  No Description   \n",
       "freq            1846        2004             157   \n",
       "\n",
       "                                                  Job_URL Keywords_Present  \\\n",
       "count                                                6274             5978   \n",
       "unique                                               3304              858   \n",
       "top     https://www.indeed.com.my/rc/clk?jk=3d89b168a5...         'C', 'R'   \n",
       "freq                                                   64             1495   \n",
       "\n",
       "       Title_Keywords  \n",
       "count            1942  \n",
       "unique             21  \n",
       "top          'Senior'  \n",
       "freq             1173  "
      ]
     },
     "execution_count": 7,
     "metadata": {},
     "output_type": "execute_result"
    }
   ],
   "source": [
    "df_de.describe(include='object')"
   ]
  },
  {
   "cell_type": "code",
   "execution_count": 8,
   "metadata": {},
   "outputs": [
    {
     "data": {
      "text/html": [
       "<div>\n",
       "<style scoped>\n",
       "    .dataframe tbody tr th:only-of-type {\n",
       "        vertical-align: middle;\n",
       "    }\n",
       "\n",
       "    .dataframe tbody tr th {\n",
       "        vertical-align: top;\n",
       "    }\n",
       "\n",
       "    .dataframe thead th {\n",
       "        text-align: right;\n",
       "    }\n",
       "</style>\n",
       "<table border=\"1\" class=\"dataframe\">\n",
       "  <thead>\n",
       "    <tr style=\"text-align: right;\">\n",
       "      <th></th>\n",
       "      <th>Job_Title</th>\n",
       "      <th>Company</th>\n",
       "      <th>Salary</th>\n",
       "      <th>Location</th>\n",
       "      <th>Date_Posted</th>\n",
       "      <th>Description</th>\n",
       "      <th>Job_URL</th>\n",
       "      <th>Keywords_Present</th>\n",
       "      <th>Title_Keywords</th>\n",
       "    </tr>\n",
       "  </thead>\n",
       "  <tbody>\n",
       "    <tr>\n",
       "      <th>count</th>\n",
       "      <td>3393</td>\n",
       "      <td>3333</td>\n",
       "      <td>759</td>\n",
       "      <td>3216</td>\n",
       "      <td>3333</td>\n",
       "      <td>3393</td>\n",
       "      <td>3393</td>\n",
       "      <td>3168</td>\n",
       "      <td>877</td>\n",
       "    </tr>\n",
       "    <tr>\n",
       "      <th>unique</th>\n",
       "      <td>2080</td>\n",
       "      <td>985</td>\n",
       "      <td>242</td>\n",
       "      <td>118</td>\n",
       "      <td>168</td>\n",
       "      <td>2739</td>\n",
       "      <td>3304</td>\n",
       "      <td>858</td>\n",
       "      <td>21</td>\n",
       "    </tr>\n",
       "    <tr>\n",
       "      <th>top</th>\n",
       "      <td>Software Engineer</td>\n",
       "      <td>Micron</td>\n",
       "      <td>RM 2,500 - RM 3,000 a month</td>\n",
       "      <td>Kuala Lumpur</td>\n",
       "      <td>2020-07-26</td>\n",
       "      <td>No Description</td>\n",
       "      <td>https://www.indeed.com.my//rc/clk?jk=83dfdabca...</td>\n",
       "      <td>'C', 'R'</td>\n",
       "      <td>'Senior'</td>\n",
       "    </tr>\n",
       "    <tr>\n",
       "      <th>freq</th>\n",
       "      <td>64</td>\n",
       "      <td>88</td>\n",
       "      <td>22</td>\n",
       "      <td>992</td>\n",
       "      <td>590</td>\n",
       "      <td>156</td>\n",
       "      <td>2</td>\n",
       "      <td>817</td>\n",
       "      <td>514</td>\n",
       "    </tr>\n",
       "  </tbody>\n",
       "</table>\n",
       "</div>"
      ],
      "text/plain": [
       "                Job_Title Company                       Salary      Location  \\\n",
       "count                3393    3333                          759          3216   \n",
       "unique               2080     985                          242           118   \n",
       "top     Software Engineer  Micron  RM 2,500 - RM 3,000 a month  Kuala Lumpur   \n",
       "freq                   64      88                           22           992   \n",
       "\n",
       "       Date_Posted     Description  \\\n",
       "count         3333            3393   \n",
       "unique         168            2739   \n",
       "top     2020-07-26  No Description   \n",
       "freq           590             156   \n",
       "\n",
       "                                                  Job_URL Keywords_Present  \\\n",
       "count                                                3393             3168   \n",
       "unique                                               3304              858   \n",
       "top     https://www.indeed.com.my//rc/clk?jk=83dfdabca...         'C', 'R'   \n",
       "freq                                                    2              817   \n",
       "\n",
       "       Title_Keywords  \n",
       "count             877  \n",
       "unique             21  \n",
       "top          'Senior'  \n",
       "freq              514  "
      ]
     },
     "execution_count": 8,
     "metadata": {},
     "output_type": "execute_result"
    }
   ],
   "source": [
    "df_de = df_de.drop_duplicates()\n",
    "df_de.describe(include='object')"
   ]
  },
  {
   "cell_type": "markdown",
   "metadata": {},
   "source": [
    "## Data Scientist"
   ]
  },
  {
   "cell_type": "code",
   "execution_count": 9,
   "metadata": {},
   "outputs": [
    {
     "data": {
      "text/html": [
       "<div>\n",
       "<style scoped>\n",
       "    .dataframe tbody tr th:only-of-type {\n",
       "        vertical-align: middle;\n",
       "    }\n",
       "\n",
       "    .dataframe tbody tr th {\n",
       "        vertical-align: top;\n",
       "    }\n",
       "\n",
       "    .dataframe thead th {\n",
       "        text-align: right;\n",
       "    }\n",
       "</style>\n",
       "<table border=\"1\" class=\"dataframe\">\n",
       "  <thead>\n",
       "    <tr style=\"text-align: right;\">\n",
       "      <th></th>\n",
       "      <th>Job_Title</th>\n",
       "      <th>Company</th>\n",
       "      <th>Salary</th>\n",
       "      <th>Location</th>\n",
       "      <th>Date_Posted</th>\n",
       "      <th>Description</th>\n",
       "      <th>Job_URL</th>\n",
       "      <th>Keywords_Present</th>\n",
       "      <th>Title_Keywords</th>\n",
       "    </tr>\n",
       "  </thead>\n",
       "  <tbody>\n",
       "    <tr>\n",
       "      <th>0</th>\n",
       "      <td>Data Scientist</td>\n",
       "      <td>KPMG</td>\n",
       "      <td>None</td>\n",
       "      <td>Petaling Jaya</td>\n",
       "      <td>2020-05-04</td>\n",
       "      <td>We help organizations to work smarter and grow...</td>\n",
       "      <td>https://www.indeed.com.my//rc/clk?jk=af48e13a1...</td>\n",
       "      <td>'C', 'Deep Learning', 'Machine Learning', 'Nat...</td>\n",
       "      <td>None</td>\n",
       "    </tr>\n",
       "    <tr>\n",
       "      <th>1</th>\n",
       "      <td>Data Scientist</td>\n",
       "      <td>Telenor</td>\n",
       "      <td>None</td>\n",
       "      <td>Malaysia</td>\n",
       "      <td>2020-04-10</td>\n",
       "      <td>W e are looking for a data scientist that will...</td>\n",
       "      <td>https://www.indeed.com.my//rc/clk?jk=c0285648d...</td>\n",
       "      <td>'C', 'Java', 'Python', 'R', 'SQL'</td>\n",
       "      <td>None</td>\n",
       "    </tr>\n",
       "    <tr>\n",
       "      <th>2</th>\n",
       "      <td>Intern, Data Scientist</td>\n",
       "      <td>DiGi Telecommunications</td>\n",
       "      <td>None</td>\n",
       "      <td>Shah Alam</td>\n",
       "      <td>2020-04-10</td>\n",
       "      <td>Do you want to supplement your degree with act...</td>\n",
       "      <td>https://www.indeed.com.my//rc/clk?jk=58ba13258...</td>\n",
       "      <td>'C', 'R', 'SAS', 'SPSS', 'SQL', 'Statistics'</td>\n",
       "      <td>'Intern'</td>\n",
       "    </tr>\n",
       "    <tr>\n",
       "      <th>3</th>\n",
       "      <td>Data Scientist</td>\n",
       "      <td>DiGi Telecommunications</td>\n",
       "      <td>None</td>\n",
       "      <td>Shah Alam</td>\n",
       "      <td>2020-04-10</td>\n",
       "      <td>We are looking for a data scientist that will ...</td>\n",
       "      <td>https://www.indeed.com.my//rc/clk?jk=99ac82133...</td>\n",
       "      <td>'C', 'Java', 'Python', 'R', 'SQL'</td>\n",
       "      <td>None</td>\n",
       "    </tr>\n",
       "    <tr>\n",
       "      <th>4</th>\n",
       "      <td>Data Scientist</td>\n",
       "      <td>Thakral One Solutions Private Limited</td>\n",
       "      <td>None</td>\n",
       "      <td>Kuala Lumpur</td>\n",
       "      <td>2020-04-28</td>\n",
       "      <td>Role: Machine learning engineer/Data Scientist...</td>\n",
       "      <td>https://www.indeed.com.my//rc/clk?jk=abe2b27c7...</td>\n",
       "      <td>'Artificial Intelligence', 'C', 'Go', 'MySQL',...</td>\n",
       "      <td>None</td>\n",
       "    </tr>\n",
       "  </tbody>\n",
       "</table>\n",
       "</div>"
      ],
      "text/plain": [
       "                Job_Title                                Company Salary  \\\n",
       "0          Data Scientist                                   KPMG   None   \n",
       "1          Data Scientist                                Telenor   None   \n",
       "2  Intern, Data Scientist                DiGi Telecommunications   None   \n",
       "3          Data Scientist                DiGi Telecommunications   None   \n",
       "4          Data Scientist  Thakral One Solutions Private Limited   None   \n",
       "\n",
       "        Location Date_Posted  \\\n",
       "0  Petaling Jaya  2020-05-04   \n",
       "1       Malaysia  2020-04-10   \n",
       "2      Shah Alam  2020-04-10   \n",
       "3      Shah Alam  2020-04-10   \n",
       "4   Kuala Lumpur  2020-04-28   \n",
       "\n",
       "                                         Description  \\\n",
       "0  We help organizations to work smarter and grow...   \n",
       "1  W e are looking for a data scientist that will...   \n",
       "2  Do you want to supplement your degree with act...   \n",
       "3  We are looking for a data scientist that will ...   \n",
       "4  Role: Machine learning engineer/Data Scientist...   \n",
       "\n",
       "                                             Job_URL  \\\n",
       "0  https://www.indeed.com.my//rc/clk?jk=af48e13a1...   \n",
       "1  https://www.indeed.com.my//rc/clk?jk=c0285648d...   \n",
       "2  https://www.indeed.com.my//rc/clk?jk=58ba13258...   \n",
       "3  https://www.indeed.com.my//rc/clk?jk=99ac82133...   \n",
       "4  https://www.indeed.com.my//rc/clk?jk=abe2b27c7...   \n",
       "\n",
       "                                    Keywords_Present Title_Keywords  \n",
       "0  'C', 'Deep Learning', 'Machine Learning', 'Nat...           None  \n",
       "1                  'C', 'Java', 'Python', 'R', 'SQL'           None  \n",
       "2       'C', 'R', 'SAS', 'SPSS', 'SQL', 'Statistics'       'Intern'  \n",
       "3                  'C', 'Java', 'Python', 'R', 'SQL'           None  \n",
       "4  'Artificial Intelligence', 'C', 'Go', 'MySQL',...           None  "
      ]
     },
     "execution_count": 9,
     "metadata": {},
     "output_type": "execute_result"
    }
   ],
   "source": [
    "df_ds = pd.read_sql_query(queries.jobs_query.format('Data_Scientist'), con=engine)\n",
    "df_ds.head()"
   ]
  },
  {
   "cell_type": "code",
   "execution_count": 10,
   "metadata": {},
   "outputs": [
    {
     "data": {
      "text/html": [
       "<div>\n",
       "<style scoped>\n",
       "    .dataframe tbody tr th:only-of-type {\n",
       "        vertical-align: middle;\n",
       "    }\n",
       "\n",
       "    .dataframe tbody tr th {\n",
       "        vertical-align: top;\n",
       "    }\n",
       "\n",
       "    .dataframe thead th {\n",
       "        text-align: right;\n",
       "    }\n",
       "</style>\n",
       "<table border=\"1\" class=\"dataframe\">\n",
       "  <thead>\n",
       "    <tr style=\"text-align: right;\">\n",
       "      <th></th>\n",
       "      <th>Job_Title</th>\n",
       "      <th>Company</th>\n",
       "      <th>Salary</th>\n",
       "      <th>Location</th>\n",
       "      <th>Date_Posted</th>\n",
       "      <th>Description</th>\n",
       "      <th>Job_URL</th>\n",
       "      <th>Keywords_Present</th>\n",
       "      <th>Title_Keywords</th>\n",
       "    </tr>\n",
       "  </thead>\n",
       "  <tbody>\n",
       "    <tr>\n",
       "      <th>count</th>\n",
       "      <td>817</td>\n",
       "      <td>812</td>\n",
       "      <td>142</td>\n",
       "      <td>794</td>\n",
       "      <td>802</td>\n",
       "      <td>817</td>\n",
       "      <td>817</td>\n",
       "      <td>809</td>\n",
       "      <td>283</td>\n",
       "    </tr>\n",
       "    <tr>\n",
       "      <th>unique</th>\n",
       "      <td>218</td>\n",
       "      <td>165</td>\n",
       "      <td>44</td>\n",
       "      <td>34</td>\n",
       "      <td>105</td>\n",
       "      <td>356</td>\n",
       "      <td>405</td>\n",
       "      <td>259</td>\n",
       "      <td>12</td>\n",
       "    </tr>\n",
       "    <tr>\n",
       "      <th>top</th>\n",
       "      <td>Data Scientist</td>\n",
       "      <td>Synvue Sdn Bhd</td>\n",
       "      <td>RM 3,500 - RM 4,500 a month</td>\n",
       "      <td>Kuala Lumpur</td>\n",
       "      <td>2020-07-26</td>\n",
       "      <td>A great opportunity has just opened up with a ...</td>\n",
       "      <td>https://www.indeed.com.my/rc/clk?jk=a66a2b1201...</td>\n",
       "      <td>'C', 'Excel', 'R'</td>\n",
       "      <td>'Senior'</td>\n",
       "    </tr>\n",
       "    <tr>\n",
       "      <th>freq</th>\n",
       "      <td>111</td>\n",
       "      <td>46</td>\n",
       "      <td>29</td>\n",
       "      <td>345</td>\n",
       "      <td>258</td>\n",
       "      <td>13</td>\n",
       "      <td>12</td>\n",
       "      <td>80</td>\n",
       "      <td>155</td>\n",
       "    </tr>\n",
       "  </tbody>\n",
       "</table>\n",
       "</div>"
      ],
      "text/plain": [
       "             Job_Title         Company                       Salary  \\\n",
       "count              817             812                          142   \n",
       "unique             218             165                           44   \n",
       "top     Data Scientist  Synvue Sdn Bhd  RM 3,500 - RM 4,500 a month   \n",
       "freq               111              46                           29   \n",
       "\n",
       "            Location Date_Posted  \\\n",
       "count            794         802   \n",
       "unique            34         105   \n",
       "top     Kuala Lumpur  2020-07-26   \n",
       "freq             345         258   \n",
       "\n",
       "                                              Description  \\\n",
       "count                                                 817   \n",
       "unique                                                356   \n",
       "top     A great opportunity has just opened up with a ...   \n",
       "freq                                                   13   \n",
       "\n",
       "                                                  Job_URL   Keywords_Present  \\\n",
       "count                                                 817                809   \n",
       "unique                                                405                259   \n",
       "top     https://www.indeed.com.my/rc/clk?jk=a66a2b1201...  'C', 'Excel', 'R'   \n",
       "freq                                                   12                 80   \n",
       "\n",
       "       Title_Keywords  \n",
       "count             283  \n",
       "unique             12  \n",
       "top          'Senior'  \n",
       "freq              155  "
      ]
     },
     "execution_count": 10,
     "metadata": {},
     "output_type": "execute_result"
    }
   ],
   "source": [
    "df_ds.describe(include='object')"
   ]
  },
  {
   "cell_type": "code",
   "execution_count": 11,
   "metadata": {
    "scrolled": true
   },
   "outputs": [
    {
     "data": {
      "text/html": [
       "<div>\n",
       "<style scoped>\n",
       "    .dataframe tbody tr th:only-of-type {\n",
       "        vertical-align: middle;\n",
       "    }\n",
       "\n",
       "    .dataframe tbody tr th {\n",
       "        vertical-align: top;\n",
       "    }\n",
       "\n",
       "    .dataframe thead th {\n",
       "        text-align: right;\n",
       "    }\n",
       "</style>\n",
       "<table border=\"1\" class=\"dataframe\">\n",
       "  <thead>\n",
       "    <tr style=\"text-align: right;\">\n",
       "      <th></th>\n",
       "      <th>Job_Title</th>\n",
       "      <th>Company</th>\n",
       "      <th>Salary</th>\n",
       "      <th>Location</th>\n",
       "      <th>Date_Posted</th>\n",
       "      <th>Description</th>\n",
       "      <th>Job_URL</th>\n",
       "      <th>Keywords_Present</th>\n",
       "      <th>Title_Keywords</th>\n",
       "    </tr>\n",
       "  </thead>\n",
       "  <tbody>\n",
       "    <tr>\n",
       "      <th>count</th>\n",
       "      <td>420</td>\n",
       "      <td>415</td>\n",
       "      <td>72</td>\n",
       "      <td>401</td>\n",
       "      <td>405</td>\n",
       "      <td>420</td>\n",
       "      <td>420</td>\n",
       "      <td>416</td>\n",
       "      <td>129</td>\n",
       "    </tr>\n",
       "    <tr>\n",
       "      <th>unique</th>\n",
       "      <td>218</td>\n",
       "      <td>165</td>\n",
       "      <td>44</td>\n",
       "      <td>34</td>\n",
       "      <td>105</td>\n",
       "      <td>356</td>\n",
       "      <td>405</td>\n",
       "      <td>259</td>\n",
       "      <td>12</td>\n",
       "    </tr>\n",
       "    <tr>\n",
       "      <th>top</th>\n",
       "      <td>Data Scientist</td>\n",
       "      <td>IHS Markit</td>\n",
       "      <td>RM 3,500 - RM 4,500 a month</td>\n",
       "      <td>Kuala Lumpur</td>\n",
       "      <td>2020-07-26</td>\n",
       "      <td>Company DescriptionGreat internships are not o...</td>\n",
       "      <td>https://www.indeed.com.my/rc/clk?jk=c78cafbe23...</td>\n",
       "      <td>'C', 'Excel', 'R'</td>\n",
       "      <td>'Senior'</td>\n",
       "    </tr>\n",
       "    <tr>\n",
       "      <th>freq</th>\n",
       "      <td>74</td>\n",
       "      <td>22</td>\n",
       "      <td>13</td>\n",
       "      <td>179</td>\n",
       "      <td>82</td>\n",
       "      <td>7</td>\n",
       "      <td>2</td>\n",
       "      <td>25</td>\n",
       "      <td>63</td>\n",
       "    </tr>\n",
       "  </tbody>\n",
       "</table>\n",
       "</div>"
      ],
      "text/plain": [
       "             Job_Title     Company                       Salary      Location  \\\n",
       "count              420         415                           72           401   \n",
       "unique             218         165                           44            34   \n",
       "top     Data Scientist  IHS Markit  RM 3,500 - RM 4,500 a month  Kuala Lumpur   \n",
       "freq                74          22                           13           179   \n",
       "\n",
       "       Date_Posted                                        Description  \\\n",
       "count          405                                                420   \n",
       "unique         105                                                356   \n",
       "top     2020-07-26  Company DescriptionGreat internships are not o...   \n",
       "freq            82                                                  7   \n",
       "\n",
       "                                                  Job_URL   Keywords_Present  \\\n",
       "count                                                 420                416   \n",
       "unique                                                405                259   \n",
       "top     https://www.indeed.com.my/rc/clk?jk=c78cafbe23...  'C', 'Excel', 'R'   \n",
       "freq                                                    2                 25   \n",
       "\n",
       "       Title_Keywords  \n",
       "count             129  \n",
       "unique             12  \n",
       "top          'Senior'  \n",
       "freq               63  "
      ]
     },
     "execution_count": 11,
     "metadata": {},
     "output_type": "execute_result"
    }
   ],
   "source": [
    "df_ds = df_ds.drop_duplicates()\n",
    "df_ds.describe(include='object')"
   ]
  },
  {
   "cell_type": "markdown",
   "metadata": {},
   "source": [
    "## Machine Learning Engineer"
   ]
  },
  {
   "cell_type": "code",
   "execution_count": 12,
   "metadata": {},
   "outputs": [
    {
     "data": {
      "text/html": [
       "<div>\n",
       "<style scoped>\n",
       "    .dataframe tbody tr th:only-of-type {\n",
       "        vertical-align: middle;\n",
       "    }\n",
       "\n",
       "    .dataframe tbody tr th {\n",
       "        vertical-align: top;\n",
       "    }\n",
       "\n",
       "    .dataframe thead th {\n",
       "        text-align: right;\n",
       "    }\n",
       "</style>\n",
       "<table border=\"1\" class=\"dataframe\">\n",
       "  <thead>\n",
       "    <tr style=\"text-align: right;\">\n",
       "      <th></th>\n",
       "      <th>Job_Title</th>\n",
       "      <th>Company</th>\n",
       "      <th>Salary</th>\n",
       "      <th>Location</th>\n",
       "      <th>Date_Posted</th>\n",
       "      <th>Description</th>\n",
       "      <th>Job_URL</th>\n",
       "      <th>Keywords_Present</th>\n",
       "      <th>Title_Keywords</th>\n",
       "    </tr>\n",
       "  </thead>\n",
       "  <tbody>\n",
       "    <tr>\n",
       "      <th>0</th>\n",
       "      <td>Machine Learning Engineer</td>\n",
       "      <td>Unlock Design International Sdn Bhd</td>\n",
       "      <td>None</td>\n",
       "      <td>Kuala Lumpur</td>\n",
       "      <td>2020-04-29</td>\n",
       "      <td>Job Description :â—Develop and operate image a...</td>\n",
       "      <td>https://www.indeed.com.my//rc/clk?jk=c992e09ac...</td>\n",
       "      <td>'AWS', 'C', 'Git', 'Github', 'Python', 'R'</td>\n",
       "      <td>None</td>\n",
       "    </tr>\n",
       "    <tr>\n",
       "      <th>1</th>\n",
       "      <td>Machine Learning Engineer</td>\n",
       "      <td>3E Accounting Malaysia</td>\n",
       "      <td>None</td>\n",
       "      <td>Kuala Lumpur</td>\n",
       "      <td>2020-04-10</td>\n",
       "      <td>Description3E Accounting Malaysia is currently...</td>\n",
       "      <td>https://www.indeed.com.my//rc/clk?jk=4becba666...</td>\n",
       "      <td>'C', 'Machine Learning', 'R'</td>\n",
       "      <td>None</td>\n",
       "    </tr>\n",
       "    <tr>\n",
       "      <th>2</th>\n",
       "      <td>DevOps Engineer</td>\n",
       "      <td>AmTrust Mobile Solutions Asia</td>\n",
       "      <td>None</td>\n",
       "      <td>Malaysia</td>\n",
       "      <td>2020-04-10</td>\n",
       "      <td>Division : Tech. Department1. Job PurposeDevel...</td>\n",
       "      <td>https://www.indeed.com.my//rc/clk?jk=8ac2bf1d3...</td>\n",
       "      <td>'Artificial Intelligence', 'AWS', 'C', 'Docker...</td>\n",
       "      <td>None</td>\n",
       "    </tr>\n",
       "    <tr>\n",
       "      <th>3</th>\n",
       "      <td>Senior Site Reliability Engineer</td>\n",
       "      <td>AmTrust Mobile Solutions Asia</td>\n",
       "      <td>None</td>\n",
       "      <td>Malaysia</td>\n",
       "      <td>2020-04-10</td>\n",
       "      <td>Division : Tech. Department1. Job PurposeDevel...</td>\n",
       "      <td>https://www.indeed.com.my//rc/clk?jk=cd7b4f8c2...</td>\n",
       "      <td>'Artificial Intelligence', 'AWS', 'C', 'Docker...</td>\n",
       "      <td>'Senior'</td>\n",
       "    </tr>\n",
       "    <tr>\n",
       "      <th>4</th>\n",
       "      <td>Technical Product Engineer ( Halcon Trainer)</td>\n",
       "      <td>EPS Malaysia</td>\n",
       "      <td>None</td>\n",
       "      <td>Malaysia</td>\n",
       "      <td>2020-04-10</td>\n",
       "      <td>Core JOB DESCRIPTION:-Reports directly to the ...</td>\n",
       "      <td>https://www.indeed.com.my//rc/clk?jk=9574f3e9e...</td>\n",
       "      <td>'C', 'C++', 'Computer Vision', 'Deep Learning'...</td>\n",
       "      <td>None</td>\n",
       "    </tr>\n",
       "  </tbody>\n",
       "</table>\n",
       "</div>"
      ],
      "text/plain": [
       "                                      Job_Title  \\\n",
       "0                     Machine Learning Engineer   \n",
       "1                     Machine Learning Engineer   \n",
       "2                               DevOps Engineer   \n",
       "3              Senior Site Reliability Engineer   \n",
       "4  Technical Product Engineer ( Halcon Trainer)   \n",
       "\n",
       "                               Company Salary      Location Date_Posted  \\\n",
       "0  Unlock Design International Sdn Bhd   None  Kuala Lumpur  2020-04-29   \n",
       "1               3E Accounting Malaysia   None  Kuala Lumpur  2020-04-10   \n",
       "2        AmTrust Mobile Solutions Asia   None      Malaysia  2020-04-10   \n",
       "3        AmTrust Mobile Solutions Asia   None      Malaysia  2020-04-10   \n",
       "4                         EPS Malaysia   None      Malaysia  2020-04-10   \n",
       "\n",
       "                                         Description  \\\n",
       "0  Job Description :â—Develop and operate image a...   \n",
       "1  Description3E Accounting Malaysia is currently...   \n",
       "2  Division : Tech. Department1. Job PurposeDevel...   \n",
       "3  Division : Tech. Department1. Job PurposeDevel...   \n",
       "4  Core JOB DESCRIPTION:-Reports directly to the ...   \n",
       "\n",
       "                                             Job_URL  \\\n",
       "0  https://www.indeed.com.my//rc/clk?jk=c992e09ac...   \n",
       "1  https://www.indeed.com.my//rc/clk?jk=4becba666...   \n",
       "2  https://www.indeed.com.my//rc/clk?jk=8ac2bf1d3...   \n",
       "3  https://www.indeed.com.my//rc/clk?jk=cd7b4f8c2...   \n",
       "4  https://www.indeed.com.my//rc/clk?jk=9574f3e9e...   \n",
       "\n",
       "                                    Keywords_Present Title_Keywords  \n",
       "0         'AWS', 'C', 'Git', 'Github', 'Python', 'R'           None  \n",
       "1                       'C', 'Machine Learning', 'R'           None  \n",
       "2  'Artificial Intelligence', 'AWS', 'C', 'Docker...           None  \n",
       "3  'Artificial Intelligence', 'AWS', 'C', 'Docker...       'Senior'  \n",
       "4  'C', 'C++', 'Computer Vision', 'Deep Learning'...           None  "
      ]
     },
     "execution_count": 12,
     "metadata": {},
     "output_type": "execute_result"
    }
   ],
   "source": [
    "df_mle = pd.read_sql_query(queries.jobs_query.format('Machine_Learning_Engineer'), con=engine)\n",
    "df_mle.head()"
   ]
  },
  {
   "cell_type": "code",
   "execution_count": 13,
   "metadata": {},
   "outputs": [
    {
     "data": {
      "text/html": [
       "<div>\n",
       "<style scoped>\n",
       "    .dataframe tbody tr th:only-of-type {\n",
       "        vertical-align: middle;\n",
       "    }\n",
       "\n",
       "    .dataframe tbody tr th {\n",
       "        vertical-align: top;\n",
       "    }\n",
       "\n",
       "    .dataframe thead th {\n",
       "        text-align: right;\n",
       "    }\n",
       "</style>\n",
       "<table border=\"1\" class=\"dataframe\">\n",
       "  <thead>\n",
       "    <tr style=\"text-align: right;\">\n",
       "      <th></th>\n",
       "      <th>Job_Title</th>\n",
       "      <th>Company</th>\n",
       "      <th>Salary</th>\n",
       "      <th>Location</th>\n",
       "      <th>Date_Posted</th>\n",
       "      <th>Description</th>\n",
       "      <th>Job_URL</th>\n",
       "      <th>Keywords_Present</th>\n",
       "      <th>Title_Keywords</th>\n",
       "    </tr>\n",
       "  </thead>\n",
       "  <tbody>\n",
       "    <tr>\n",
       "      <th>count</th>\n",
       "      <td>571</td>\n",
       "      <td>555</td>\n",
       "      <td>114</td>\n",
       "      <td>544</td>\n",
       "      <td>544</td>\n",
       "      <td>571</td>\n",
       "      <td>571</td>\n",
       "      <td>561</td>\n",
       "      <td>226</td>\n",
       "    </tr>\n",
       "    <tr>\n",
       "      <th>unique</th>\n",
       "      <td>218</td>\n",
       "      <td>127</td>\n",
       "      <td>39</td>\n",
       "      <td>41</td>\n",
       "      <td>106</td>\n",
       "      <td>313</td>\n",
       "      <td>362</td>\n",
       "      <td>195</td>\n",
       "      <td>11</td>\n",
       "    </tr>\n",
       "    <tr>\n",
       "      <th>top</th>\n",
       "      <td>Senior Data Engineer</td>\n",
       "      <td>Micron</td>\n",
       "      <td>RM 9,000 - RM 13,000 a month</td>\n",
       "      <td>Kuala Lumpur</td>\n",
       "      <td>2020-07-27</td>\n",
       "      <td>The Senior Data Engineer will be working withi...</td>\n",
       "      <td>https://www.indeed.com.my/rc/clk?jk=772f141038...</td>\n",
       "      <td>'C', 'R'</td>\n",
       "      <td>'Senior'</td>\n",
       "    </tr>\n",
       "    <tr>\n",
       "      <th>freq</th>\n",
       "      <td>55</td>\n",
       "      <td>53</td>\n",
       "      <td>26</td>\n",
       "      <td>175</td>\n",
       "      <td>118</td>\n",
       "      <td>20</td>\n",
       "      <td>6</td>\n",
       "      <td>43</td>\n",
       "      <td>154</td>\n",
       "    </tr>\n",
       "  </tbody>\n",
       "</table>\n",
       "</div>"
      ],
      "text/plain": [
       "                   Job_Title Company                        Salary  \\\n",
       "count                    571     555                           114   \n",
       "unique                   218     127                            39   \n",
       "top     Senior Data Engineer  Micron  RM 9,000 - RM 13,000 a month   \n",
       "freq                      55      53                            26   \n",
       "\n",
       "            Location Date_Posted  \\\n",
       "count            544         544   \n",
       "unique            41         106   \n",
       "top     Kuala Lumpur  2020-07-27   \n",
       "freq             175         118   \n",
       "\n",
       "                                              Description  \\\n",
       "count                                                 571   \n",
       "unique                                                313   \n",
       "top     The Senior Data Engineer will be working withi...   \n",
       "freq                                                   20   \n",
       "\n",
       "                                                  Job_URL Keywords_Present  \\\n",
       "count                                                 571              561   \n",
       "unique                                                362              195   \n",
       "top     https://www.indeed.com.my/rc/clk?jk=772f141038...         'C', 'R'   \n",
       "freq                                                    6               43   \n",
       "\n",
       "       Title_Keywords  \n",
       "count             226  \n",
       "unique             11  \n",
       "top          'Senior'  \n",
       "freq              154  "
      ]
     },
     "execution_count": 13,
     "metadata": {},
     "output_type": "execute_result"
    }
   ],
   "source": [
    "df_mle.describe(include='object')"
   ]
  },
  {
   "cell_type": "code",
   "execution_count": 14,
   "metadata": {},
   "outputs": [
    {
     "data": {
      "text/html": [
       "<div>\n",
       "<style scoped>\n",
       "    .dataframe tbody tr th:only-of-type {\n",
       "        vertical-align: middle;\n",
       "    }\n",
       "\n",
       "    .dataframe tbody tr th {\n",
       "        vertical-align: top;\n",
       "    }\n",
       "\n",
       "    .dataframe thead th {\n",
       "        text-align: right;\n",
       "    }\n",
       "</style>\n",
       "<table border=\"1\" class=\"dataframe\">\n",
       "  <thead>\n",
       "    <tr style=\"text-align: right;\">\n",
       "      <th></th>\n",
       "      <th>Job_Title</th>\n",
       "      <th>Company</th>\n",
       "      <th>Salary</th>\n",
       "      <th>Location</th>\n",
       "      <th>Date_Posted</th>\n",
       "      <th>Description</th>\n",
       "      <th>Job_URL</th>\n",
       "      <th>Keywords_Present</th>\n",
       "      <th>Title_Keywords</th>\n",
       "    </tr>\n",
       "  </thead>\n",
       "  <tbody>\n",
       "    <tr>\n",
       "      <th>count</th>\n",
       "      <td>369</td>\n",
       "      <td>353</td>\n",
       "      <td>67</td>\n",
       "      <td>342</td>\n",
       "      <td>342</td>\n",
       "      <td>369</td>\n",
       "      <td>369</td>\n",
       "      <td>360</td>\n",
       "      <td>129</td>\n",
       "    </tr>\n",
       "    <tr>\n",
       "      <th>unique</th>\n",
       "      <td>218</td>\n",
       "      <td>127</td>\n",
       "      <td>39</td>\n",
       "      <td>41</td>\n",
       "      <td>106</td>\n",
       "      <td>313</td>\n",
       "      <td>362</td>\n",
       "      <td>195</td>\n",
       "      <td>11</td>\n",
       "    </tr>\n",
       "    <tr>\n",
       "      <th>top</th>\n",
       "      <td>Senior Data Engineer</td>\n",
       "      <td>Micron</td>\n",
       "      <td>RM 9,000 - RM 13,000 a month</td>\n",
       "      <td>Kuala Lumpur</td>\n",
       "      <td>2020-04-10</td>\n",
       "      <td>The Senior Data Engineer will be working withi...</td>\n",
       "      <td>https://www.indeed.com.my/rc/clk?jk=8333ca5aaa...</td>\n",
       "      <td>'C', 'R'</td>\n",
       "      <td>'Senior'</td>\n",
       "    </tr>\n",
       "    <tr>\n",
       "      <th>freq</th>\n",
       "      <td>30</td>\n",
       "      <td>44</td>\n",
       "      <td>16</td>\n",
       "      <td>110</td>\n",
       "      <td>47</td>\n",
       "      <td>14</td>\n",
       "      <td>2</td>\n",
       "      <td>28</td>\n",
       "      <td>85</td>\n",
       "    </tr>\n",
       "  </tbody>\n",
       "</table>\n",
       "</div>"
      ],
      "text/plain": [
       "                   Job_Title Company                        Salary  \\\n",
       "count                    369     353                            67   \n",
       "unique                   218     127                            39   \n",
       "top     Senior Data Engineer  Micron  RM 9,000 - RM 13,000 a month   \n",
       "freq                      30      44                            16   \n",
       "\n",
       "            Location Date_Posted  \\\n",
       "count            342         342   \n",
       "unique            41         106   \n",
       "top     Kuala Lumpur  2020-04-10   \n",
       "freq             110          47   \n",
       "\n",
       "                                              Description  \\\n",
       "count                                                 369   \n",
       "unique                                                313   \n",
       "top     The Senior Data Engineer will be working withi...   \n",
       "freq                                                   14   \n",
       "\n",
       "                                                  Job_URL Keywords_Present  \\\n",
       "count                                                 369              360   \n",
       "unique                                                362              195   \n",
       "top     https://www.indeed.com.my/rc/clk?jk=8333ca5aaa...         'C', 'R'   \n",
       "freq                                                    2               28   \n",
       "\n",
       "       Title_Keywords  \n",
       "count             129  \n",
       "unique             11  \n",
       "top          'Senior'  \n",
       "freq               85  "
      ]
     },
     "execution_count": 14,
     "metadata": {},
     "output_type": "execute_result"
    }
   ],
   "source": [
    "df_mle = df_mle.drop_duplicates()\n",
    "df_mle.describe(include='object')"
   ]
  },
  {
   "cell_type": "code",
   "execution_count": 15,
   "metadata": {},
   "outputs": [],
   "source": [
    "engine.dispose()"
   ]
  },
  {
   "cell_type": "markdown",
   "metadata": {},
   "source": [
    "# Data Cleaning"
   ]
  },
  {
   "cell_type": "markdown",
   "metadata": {},
   "source": [
    "### Title Keywords"
   ]
  },
  {
   "cell_type": "code",
   "execution_count": 16,
   "metadata": {},
   "outputs": [
    {
     "data": {
      "text/plain": [
       "array([None, \"'Associate', 'Assoc'\", \"'Lead'\", \"'Senior'\", \"'Junior'\",\n",
       "       \"'Intern'\", \"'Graduate'\", \"'Junior', 'Intern'\", \"'Sr'\",\n",
       "       \"'Sr.', 'Sr'\", \"'Consultant'\", \"'Senior', 'Consultant'\",\n",
       "       \"'Associate', 'Assoc', 'Senior'\", \"'Junior', 'Senior'\", \"'Head'\",\n",
       "       \"'Senior', 'Lead'\", \"'Chief'\", \"'Assoc'\", \"'Part-time'\",\n",
       "       \"'Associate', 'Assoc', 'Consultant'\"], dtype=object)"
      ]
     },
     "execution_count": 16,
     "metadata": {},
     "output_type": "execute_result"
    }
   ],
   "source": [
    "df_da['Title_Keywords'].unique()"
   ]
  },
  {
   "cell_type": "code",
   "execution_count": 17,
   "metadata": {},
   "outputs": [
    {
     "data": {
      "text/plain": [
       "array([None, \"'Junior'\", \"'Graduate'\", \"'Head'\", \"'Intern'\", \"'Lead'\",\n",
       "       \"'Senior'\", \"'Associate', 'Assoc'\", \"'Consultant'\",\n",
       "       \"'Junior', 'Senior'\", \"'Chief'\", \"'Senior', 'Lead'\", \"'Sr.', 'Sr'\",\n",
       "       \"'Sr'\", \"'Graduate', 'Intern'\", \"'Jr.', 'Jr', 'Sr.', 'Sr'\",\n",
       "       \"'Jr.', 'Jr', 'Sr'\", \"'Associate', 'Assoc', 'Senior'\", \"'Assoc'\",\n",
       "       \"'Junior', 'Senior', 'Lead'\", \"'Mid-Level'\",\n",
       "       \"'Associate', 'Assoc', 'Intern'\"], dtype=object)"
      ]
     },
     "execution_count": 17,
     "metadata": {},
     "output_type": "execute_result"
    }
   ],
   "source": [
    "df_de['Title_Keywords'].unique()"
   ]
  },
  {
   "cell_type": "code",
   "execution_count": 18,
   "metadata": {},
   "outputs": [
    {
     "data": {
      "text/plain": [
       "array([None, \"'Intern'\", \"'Associate', 'Assoc'\", \"'Senior'\", \"'Lead'\",\n",
       "       \"'Head'\", \"'Sr.', 'Sr'\", \"'Consultant'\", \"'Junior'\", \"'Sr'\",\n",
       "       \"'Chief'\", \"'Senior', 'Intern'\", \"'Senior', 'Lead'\"], dtype=object)"
      ]
     },
     "execution_count": 18,
     "metadata": {},
     "output_type": "execute_result"
    }
   ],
   "source": [
    "df_ds['Title_Keywords'].unique()"
   ]
  },
  {
   "cell_type": "code",
   "execution_count": 19,
   "metadata": {},
   "outputs": [
    {
     "data": {
      "text/plain": [
       "array([None, \"'Senior'\", \"'Intern'\", \"'Graduate'\", \"'Lead'\",\n",
       "       \"'Associate', 'Assoc'\", \"'Junior', 'Senior'\", \"'Head'\",\n",
       "       \"'Consultant'\", \"'Senior', 'Lead'\", \"'Sr.', 'Sr'\", \"'Sr'\"],\n",
       "      dtype=object)"
      ]
     },
     "execution_count": 19,
     "metadata": {},
     "output_type": "execute_result"
    }
   ],
   "source": [
    "df_mle['Title_Keywords'].unique()"
   ]
  },
  {
   "cell_type": "code",
   "execution_count": 20,
   "metadata": {},
   "outputs": [],
   "source": [
    "juniors = ['Junior', 'Intern', 'Graduate', 'Part-time', 'Jr', 'Jr.', 'Internship']\n",
    "mid_level = ['Associate', 'Assoc', 'Manager' 'Consultant']\n",
    "senior = ['Senior', 'Lead', 'Sr', 'Sr.', 'Chief', 'Head', 'Master', 'Executive', 'Principal']\n",
    "\n",
    "def assign_level(title_keywords):\n",
    "    levels = \"\"\n",
    "    if title_keywords is None:\n",
    "        return levels\n",
    "    titles = [t.strip(\" \") for t in title_keywords.split(\",\")]\n",
    "    if len([t for t in titles if t.strip(\"'\") in juniors]) > 0:\n",
    "        levels += \"Junior\"\n",
    "    if len([t for t in titles if t.strip(\"'\") in mid_level]) > 0:\n",
    "        levels += \" Mid Level\"\n",
    "    if len([t for t in titles if t.replace(\"'\", \"\") in senior]) > 0:\n",
    "        levels += \" Senior\"\n",
    "    return levels"
   ]
  },
  {
   "cell_type": "code",
   "execution_count": 21,
   "metadata": {},
   "outputs": [
    {
     "data": {
      "text/html": [
       "<div>\n",
       "<style scoped>\n",
       "    .dataframe tbody tr th:only-of-type {\n",
       "        vertical-align: middle;\n",
       "    }\n",
       "\n",
       "    .dataframe tbody tr th {\n",
       "        vertical-align: top;\n",
       "    }\n",
       "\n",
       "    .dataframe thead th {\n",
       "        text-align: right;\n",
       "    }\n",
       "</style>\n",
       "<table border=\"1\" class=\"dataframe\">\n",
       "  <thead>\n",
       "    <tr style=\"text-align: right;\">\n",
       "      <th></th>\n",
       "      <th>Job_Title</th>\n",
       "      <th>Company</th>\n",
       "      <th>Salary</th>\n",
       "      <th>Location</th>\n",
       "      <th>Date_Posted</th>\n",
       "      <th>Description</th>\n",
       "      <th>Job_URL</th>\n",
       "      <th>Keywords_Present</th>\n",
       "      <th>Title_Keywords</th>\n",
       "      <th>Levels</th>\n",
       "    </tr>\n",
       "  </thead>\n",
       "  <tbody>\n",
       "    <tr>\n",
       "      <th>0</th>\n",
       "      <td>DATA ANALYST</td>\n",
       "      <td>D'YANA INTERNATIONAL</td>\n",
       "      <td>None</td>\n",
       "      <td>Malaysia</td>\n",
       "      <td>2020-04-10</td>\n",
       "      <td>Looking for a candidate who loves crunching nu...</td>\n",
       "      <td>https://www.indeed.com.my//rc/clk?jk=52559f104...</td>\n",
       "      <td>'Data Analysis', 'Excel', 'R', 'Statistics'</td>\n",
       "      <td>None</td>\n",
       "      <td></td>\n",
       "    </tr>\n",
       "    <tr>\n",
       "      <th>1</th>\n",
       "      <td>Data Informatics Analyst</td>\n",
       "      <td>National instrument</td>\n",
       "      <td>None</td>\n",
       "      <td>Bayan Lepas</td>\n",
       "      <td>2020-04-23</td>\n",
       "      <td>APAC Data Informatics Analyst, APAC Sales Info...</td>\n",
       "      <td>https://www.indeed.com.my//rc/clk?jk=e61ab28da...</td>\n",
       "      <td>'C', 'Go', 'R'</td>\n",
       "      <td>None</td>\n",
       "      <td></td>\n",
       "    </tr>\n",
       "    <tr>\n",
       "      <th>2</th>\n",
       "      <td>Data Informatics Analyst</td>\n",
       "      <td>National Instruments</td>\n",
       "      <td>None</td>\n",
       "      <td>Bayan Lepas</td>\n",
       "      <td>2020-04-23</td>\n",
       "      <td>APAC Data Informatics Analyst, APAC Sales Info...</td>\n",
       "      <td>https://www.indeed.com.my//rc/clk?jk=45d36230e...</td>\n",
       "      <td>'C', 'Go', 'R'</td>\n",
       "      <td>None</td>\n",
       "      <td></td>\n",
       "    </tr>\n",
       "    <tr>\n",
       "      <th>3</th>\n",
       "      <td>Data Analyst (Quality)</td>\n",
       "      <td>Latexx</td>\n",
       "      <td>None</td>\n",
       "      <td>Malaysia</td>\n",
       "      <td>2020-04-10</td>\n",
       "      <td>Data Analyst (Quality)ResponsibilitiesLocate a...</td>\n",
       "      <td>https://www.indeed.com.my//rc/clk?jk=4a24763c5...</td>\n",
       "      <td>'C', 'Excel', 'Java', 'R', 'SAS', 'SPSS', 'SQL...</td>\n",
       "      <td>None</td>\n",
       "      <td></td>\n",
       "    </tr>\n",
       "    <tr>\n",
       "      <th>4</th>\n",
       "      <td>BI Data Analyst</td>\n",
       "      <td>Shopee</td>\n",
       "      <td>None</td>\n",
       "      <td>Kuala Lumpur</td>\n",
       "      <td>2020-04-10</td>\n",
       "      <td>Job Description:Work closely with Warehouse te...</td>\n",
       "      <td>https://www.indeed.com.my//rc/clk?jk=8b805d72b...</td>\n",
       "      <td>'C', 'Python', 'R', 'SQL'</td>\n",
       "      <td>None</td>\n",
       "      <td></td>\n",
       "    </tr>\n",
       "  </tbody>\n",
       "</table>\n",
       "</div>"
      ],
      "text/plain": [
       "                  Job_Title               Company Salary      Location  \\\n",
       "0              DATA ANALYST  D'YANA INTERNATIONAL   None      Malaysia   \n",
       "1  Data Informatics Analyst   National instrument   None   Bayan Lepas   \n",
       "2  Data Informatics Analyst  National Instruments   None   Bayan Lepas   \n",
       "3    Data Analyst (Quality)                Latexx   None      Malaysia   \n",
       "4           BI Data Analyst                Shopee   None  Kuala Lumpur   \n",
       "\n",
       "  Date_Posted                                        Description  \\\n",
       "0  2020-04-10  Looking for a candidate who loves crunching nu...   \n",
       "1  2020-04-23  APAC Data Informatics Analyst, APAC Sales Info...   \n",
       "2  2020-04-23  APAC Data Informatics Analyst, APAC Sales Info...   \n",
       "3  2020-04-10  Data Analyst (Quality)ResponsibilitiesLocate a...   \n",
       "4  2020-04-10  Job Description:Work closely with Warehouse te...   \n",
       "\n",
       "                                             Job_URL  \\\n",
       "0  https://www.indeed.com.my//rc/clk?jk=52559f104...   \n",
       "1  https://www.indeed.com.my//rc/clk?jk=e61ab28da...   \n",
       "2  https://www.indeed.com.my//rc/clk?jk=45d36230e...   \n",
       "3  https://www.indeed.com.my//rc/clk?jk=4a24763c5...   \n",
       "4  https://www.indeed.com.my//rc/clk?jk=8b805d72b...   \n",
       "\n",
       "                                    Keywords_Present Title_Keywords Levels  \n",
       "0        'Data Analysis', 'Excel', 'R', 'Statistics'           None         \n",
       "1                                     'C', 'Go', 'R'           None         \n",
       "2                                     'C', 'Go', 'R'           None         \n",
       "3  'C', 'Excel', 'Java', 'R', 'SAS', 'SPSS', 'SQL...           None         \n",
       "4                          'C', 'Python', 'R', 'SQL'           None         "
      ]
     },
     "execution_count": 21,
     "metadata": {},
     "output_type": "execute_result"
    }
   ],
   "source": [
    "df_da['Levels'] = df_da['Title_Keywords'].apply(lambda x: assign_level(x))\n",
    "df_da.head()"
   ]
  },
  {
   "cell_type": "code",
   "execution_count": 22,
   "metadata": {
    "scrolled": false
   },
   "outputs": [],
   "source": [
    "df_de['Levels'] = df_de['Title_Keywords'].apply(lambda x: assign_level(x))\n",
    "df_ds['Levels'] = df_ds['Title_Keywords'].apply(lambda x: assign_level(x))\n",
    "df_mle['Levels'] = df_mle['Title_Keywords'].apply(lambda x: assign_level(x))"
   ]
  },
  {
   "cell_type": "markdown",
   "metadata": {},
   "source": [
    "### Level from Job Title"
   ]
  },
  {
   "cell_type": "code",
   "execution_count": 23,
   "metadata": {},
   "outputs": [],
   "source": [
    "def get_level_from_title(job_title):\n",
    "    levels = \"\"\n",
    "    titles = [t.lower() for t in job_title.split(\" \")]\n",
    "    if len([t for t in titles if t.title() in juniors]) > 0:\n",
    "        levels += \" Junior\"\n",
    "    if len([t for t in titles if t.title() in mid_level]) > 0:\n",
    "        levels += \" Mid Level\"\n",
    "    if len([t for t in titles if t.title() in senior]) > 0:\n",
    "        levels += \" Senior\"\n",
    "    return levels"
   ]
  },
  {
   "cell_type": "code",
   "execution_count": 24,
   "metadata": {},
   "outputs": [
    {
     "data": {
      "text/html": [
       "<div>\n",
       "<style scoped>\n",
       "    .dataframe tbody tr th:only-of-type {\n",
       "        vertical-align: middle;\n",
       "    }\n",
       "\n",
       "    .dataframe tbody tr th {\n",
       "        vertical-align: top;\n",
       "    }\n",
       "\n",
       "    .dataframe thead th {\n",
       "        text-align: right;\n",
       "    }\n",
       "</style>\n",
       "<table border=\"1\" class=\"dataframe\">\n",
       "  <thead>\n",
       "    <tr style=\"text-align: right;\">\n",
       "      <th></th>\n",
       "      <th>Job_Title</th>\n",
       "      <th>Company</th>\n",
       "      <th>Salary</th>\n",
       "      <th>Location</th>\n",
       "      <th>Date_Posted</th>\n",
       "      <th>Description</th>\n",
       "      <th>Job_URL</th>\n",
       "      <th>Keywords_Present</th>\n",
       "      <th>Title_Keywords</th>\n",
       "      <th>Levels</th>\n",
       "    </tr>\n",
       "  </thead>\n",
       "  <tbody>\n",
       "    <tr>\n",
       "      <th>0</th>\n",
       "      <td>DATA ANALYST</td>\n",
       "      <td>D'YANA INTERNATIONAL</td>\n",
       "      <td>None</td>\n",
       "      <td>Malaysia</td>\n",
       "      <td>2020-04-10</td>\n",
       "      <td>Looking for a candidate who loves crunching nu...</td>\n",
       "      <td>https://www.indeed.com.my//rc/clk?jk=52559f104...</td>\n",
       "      <td>'Data Analysis', 'Excel', 'R', 'Statistics'</td>\n",
       "      <td>None</td>\n",
       "      <td></td>\n",
       "    </tr>\n",
       "    <tr>\n",
       "      <th>1</th>\n",
       "      <td>Data Informatics Analyst</td>\n",
       "      <td>National instrument</td>\n",
       "      <td>None</td>\n",
       "      <td>Bayan Lepas</td>\n",
       "      <td>2020-04-23</td>\n",
       "      <td>APAC Data Informatics Analyst, APAC Sales Info...</td>\n",
       "      <td>https://www.indeed.com.my//rc/clk?jk=e61ab28da...</td>\n",
       "      <td>'C', 'Go', 'R'</td>\n",
       "      <td>None</td>\n",
       "      <td></td>\n",
       "    </tr>\n",
       "    <tr>\n",
       "      <th>2</th>\n",
       "      <td>Data Informatics Analyst</td>\n",
       "      <td>National Instruments</td>\n",
       "      <td>None</td>\n",
       "      <td>Bayan Lepas</td>\n",
       "      <td>2020-04-23</td>\n",
       "      <td>APAC Data Informatics Analyst, APAC Sales Info...</td>\n",
       "      <td>https://www.indeed.com.my//rc/clk?jk=45d36230e...</td>\n",
       "      <td>'C', 'Go', 'R'</td>\n",
       "      <td>None</td>\n",
       "      <td></td>\n",
       "    </tr>\n",
       "    <tr>\n",
       "      <th>3</th>\n",
       "      <td>Data Analyst (Quality)</td>\n",
       "      <td>Latexx</td>\n",
       "      <td>None</td>\n",
       "      <td>Malaysia</td>\n",
       "      <td>2020-04-10</td>\n",
       "      <td>Data Analyst (Quality)ResponsibilitiesLocate a...</td>\n",
       "      <td>https://www.indeed.com.my//rc/clk?jk=4a24763c5...</td>\n",
       "      <td>'C', 'Excel', 'Java', 'R', 'SAS', 'SPSS', 'SQL...</td>\n",
       "      <td>None</td>\n",
       "      <td></td>\n",
       "    </tr>\n",
       "    <tr>\n",
       "      <th>4</th>\n",
       "      <td>BI Data Analyst</td>\n",
       "      <td>Shopee</td>\n",
       "      <td>None</td>\n",
       "      <td>Kuala Lumpur</td>\n",
       "      <td>2020-04-10</td>\n",
       "      <td>Job Description:Work closely with Warehouse te...</td>\n",
       "      <td>https://www.indeed.com.my//rc/clk?jk=8b805d72b...</td>\n",
       "      <td>'C', 'Python', 'R', 'SQL'</td>\n",
       "      <td>None</td>\n",
       "      <td></td>\n",
       "    </tr>\n",
       "  </tbody>\n",
       "</table>\n",
       "</div>"
      ],
      "text/plain": [
       "                  Job_Title               Company Salary      Location  \\\n",
       "0              DATA ANALYST  D'YANA INTERNATIONAL   None      Malaysia   \n",
       "1  Data Informatics Analyst   National instrument   None   Bayan Lepas   \n",
       "2  Data Informatics Analyst  National Instruments   None   Bayan Lepas   \n",
       "3    Data Analyst (Quality)                Latexx   None      Malaysia   \n",
       "4           BI Data Analyst                Shopee   None  Kuala Lumpur   \n",
       "\n",
       "  Date_Posted                                        Description  \\\n",
       "0  2020-04-10  Looking for a candidate who loves crunching nu...   \n",
       "1  2020-04-23  APAC Data Informatics Analyst, APAC Sales Info...   \n",
       "2  2020-04-23  APAC Data Informatics Analyst, APAC Sales Info...   \n",
       "3  2020-04-10  Data Analyst (Quality)ResponsibilitiesLocate a...   \n",
       "4  2020-04-10  Job Description:Work closely with Warehouse te...   \n",
       "\n",
       "                                             Job_URL  \\\n",
       "0  https://www.indeed.com.my//rc/clk?jk=52559f104...   \n",
       "1  https://www.indeed.com.my//rc/clk?jk=e61ab28da...   \n",
       "2  https://www.indeed.com.my//rc/clk?jk=45d36230e...   \n",
       "3  https://www.indeed.com.my//rc/clk?jk=4a24763c5...   \n",
       "4  https://www.indeed.com.my//rc/clk?jk=8b805d72b...   \n",
       "\n",
       "                                    Keywords_Present Title_Keywords Levels  \n",
       "0        'Data Analysis', 'Excel', 'R', 'Statistics'           None         \n",
       "1                                     'C', 'Go', 'R'           None         \n",
       "2                                     'C', 'Go', 'R'           None         \n",
       "3  'C', 'Excel', 'Java', 'R', 'SAS', 'SPSS', 'SQL...           None         \n",
       "4                          'C', 'Python', 'R', 'SQL'           None         "
      ]
     },
     "execution_count": 24,
     "metadata": {},
     "output_type": "execute_result"
    }
   ],
   "source": [
    "df_da['Levels'] += df_da['Job_Title'].apply(lambda x: get_level_from_title(x))\n",
    "df_da.head()"
   ]
  },
  {
   "cell_type": "code",
   "execution_count": 25,
   "metadata": {},
   "outputs": [],
   "source": [
    "df_de['Levels'] += df_da['Job_Title'].apply(lambda x: get_level_from_title(x))\n",
    "df_ds['Levels'] += df_ds['Job_Title'].apply(lambda x: get_level_from_title(x))\n",
    "df_mle['Levels'] += df_mle['Job_Title'].apply(lambda x: get_level_from_title(x))"
   ]
  },
  {
   "cell_type": "markdown",
   "metadata": {},
   "source": [
    "### Years of Experience Required"
   ]
  },
  {
   "cell_type": "code",
   "execution_count": 26,
   "metadata": {},
   "outputs": [],
   "source": [
    "# Juniors: 1-3 years required\n",
    "junior_min = 1\n",
    "# Mid Level: 3-8 years required\n",
    "midlevel_min = 3\n",
    "# Senior Level: more than 8 years required\n",
    "senior_min = 8\n",
    "\n",
    "def get_years_experience(description):\n",
    "    try:\n",
    "        cur = description.index(\"years\")\n",
    "        year_required = max([int(r) for r in re.findall(r'\\d+', description[cur-5:cur+6])])\n",
    "        return year_to_level(year_required)\n",
    "    except:\n",
    "        try:\n",
    "            cur = description.index(\"year(s)\")\n",
    "            year_required = max([int(r) for r in re.findall(r'\\d+', description[cur-5:cur+6])])\n",
    "            return year_to_level(year_required)\n",
    "        except:\n",
    "            try:\n",
    "                cur = description.index(\"year\")\n",
    "                year_required = max([int(r) for r in re.findall(r'\\d+', description[cur-5:cur+6])])\n",
    "                return year_to_level(year_required)\n",
    "            except:\n",
    "                return \"\"\n",
    "\n",
    "def year_to_level(year):\n",
    "    if year >= senior_min:\n",
    "        return \" Senior\"\n",
    "    elif year >= midlevel_min:\n",
    "        return \" Mid Level\"\n",
    "    else:\n",
    "        return \" Junior\""
   ]
  },
  {
   "cell_type": "code",
   "execution_count": 27,
   "metadata": {},
   "outputs": [
    {
     "data": {
      "text/html": [
       "<div>\n",
       "<style scoped>\n",
       "    .dataframe tbody tr th:only-of-type {\n",
       "        vertical-align: middle;\n",
       "    }\n",
       "\n",
       "    .dataframe tbody tr th {\n",
       "        vertical-align: top;\n",
       "    }\n",
       "\n",
       "    .dataframe thead th {\n",
       "        text-align: right;\n",
       "    }\n",
       "</style>\n",
       "<table border=\"1\" class=\"dataframe\">\n",
       "  <thead>\n",
       "    <tr style=\"text-align: right;\">\n",
       "      <th></th>\n",
       "      <th>Job_Title</th>\n",
       "      <th>Company</th>\n",
       "      <th>Salary</th>\n",
       "      <th>Location</th>\n",
       "      <th>Date_Posted</th>\n",
       "      <th>Description</th>\n",
       "      <th>Job_URL</th>\n",
       "      <th>Keywords_Present</th>\n",
       "      <th>Title_Keywords</th>\n",
       "      <th>Levels</th>\n",
       "    </tr>\n",
       "  </thead>\n",
       "  <tbody>\n",
       "    <tr>\n",
       "      <th>0</th>\n",
       "      <td>DATA ANALYST</td>\n",
       "      <td>D'YANA INTERNATIONAL</td>\n",
       "      <td>None</td>\n",
       "      <td>Malaysia</td>\n",
       "      <td>2020-04-10</td>\n",
       "      <td>Looking for a candidate who loves crunching nu...</td>\n",
       "      <td>https://www.indeed.com.my//rc/clk?jk=52559f104...</td>\n",
       "      <td>'Data Analysis', 'Excel', 'R', 'Statistics'</td>\n",
       "      <td>None</td>\n",
       "      <td></td>\n",
       "    </tr>\n",
       "    <tr>\n",
       "      <th>1</th>\n",
       "      <td>Data Informatics Analyst</td>\n",
       "      <td>National instrument</td>\n",
       "      <td>None</td>\n",
       "      <td>Bayan Lepas</td>\n",
       "      <td>2020-04-23</td>\n",
       "      <td>APAC Data Informatics Analyst, APAC Sales Info...</td>\n",
       "      <td>https://www.indeed.com.my//rc/clk?jk=e61ab28da...</td>\n",
       "      <td>'C', 'Go', 'R'</td>\n",
       "      <td>None</td>\n",
       "      <td></td>\n",
       "    </tr>\n",
       "    <tr>\n",
       "      <th>2</th>\n",
       "      <td>Data Informatics Analyst</td>\n",
       "      <td>National Instruments</td>\n",
       "      <td>None</td>\n",
       "      <td>Bayan Lepas</td>\n",
       "      <td>2020-04-23</td>\n",
       "      <td>APAC Data Informatics Analyst, APAC Sales Info...</td>\n",
       "      <td>https://www.indeed.com.my//rc/clk?jk=45d36230e...</td>\n",
       "      <td>'C', 'Go', 'R'</td>\n",
       "      <td>None</td>\n",
       "      <td></td>\n",
       "    </tr>\n",
       "    <tr>\n",
       "      <th>3</th>\n",
       "      <td>Data Analyst (Quality)</td>\n",
       "      <td>Latexx</td>\n",
       "      <td>None</td>\n",
       "      <td>Malaysia</td>\n",
       "      <td>2020-04-10</td>\n",
       "      <td>Data Analyst (Quality)ResponsibilitiesLocate a...</td>\n",
       "      <td>https://www.indeed.com.my//rc/clk?jk=4a24763c5...</td>\n",
       "      <td>'C', 'Excel', 'Java', 'R', 'SAS', 'SPSS', 'SQL...</td>\n",
       "      <td>None</td>\n",
       "      <td>Mid Level</td>\n",
       "    </tr>\n",
       "    <tr>\n",
       "      <th>4</th>\n",
       "      <td>BI Data Analyst</td>\n",
       "      <td>Shopee</td>\n",
       "      <td>None</td>\n",
       "      <td>Kuala Lumpur</td>\n",
       "      <td>2020-04-10</td>\n",
       "      <td>Job Description:Work closely with Warehouse te...</td>\n",
       "      <td>https://www.indeed.com.my//rc/clk?jk=8b805d72b...</td>\n",
       "      <td>'C', 'Python', 'R', 'SQL'</td>\n",
       "      <td>None</td>\n",
       "      <td>Mid Level</td>\n",
       "    </tr>\n",
       "  </tbody>\n",
       "</table>\n",
       "</div>"
      ],
      "text/plain": [
       "                  Job_Title               Company Salary      Location  \\\n",
       "0              DATA ANALYST  D'YANA INTERNATIONAL   None      Malaysia   \n",
       "1  Data Informatics Analyst   National instrument   None   Bayan Lepas   \n",
       "2  Data Informatics Analyst  National Instruments   None   Bayan Lepas   \n",
       "3    Data Analyst (Quality)                Latexx   None      Malaysia   \n",
       "4           BI Data Analyst                Shopee   None  Kuala Lumpur   \n",
       "\n",
       "  Date_Posted                                        Description  \\\n",
       "0  2020-04-10  Looking for a candidate who loves crunching nu...   \n",
       "1  2020-04-23  APAC Data Informatics Analyst, APAC Sales Info...   \n",
       "2  2020-04-23  APAC Data Informatics Analyst, APAC Sales Info...   \n",
       "3  2020-04-10  Data Analyst (Quality)ResponsibilitiesLocate a...   \n",
       "4  2020-04-10  Job Description:Work closely with Warehouse te...   \n",
       "\n",
       "                                             Job_URL  \\\n",
       "0  https://www.indeed.com.my//rc/clk?jk=52559f104...   \n",
       "1  https://www.indeed.com.my//rc/clk?jk=e61ab28da...   \n",
       "2  https://www.indeed.com.my//rc/clk?jk=45d36230e...   \n",
       "3  https://www.indeed.com.my//rc/clk?jk=4a24763c5...   \n",
       "4  https://www.indeed.com.my//rc/clk?jk=8b805d72b...   \n",
       "\n",
       "                                    Keywords_Present Title_Keywords  \\\n",
       "0        'Data Analysis', 'Excel', 'R', 'Statistics'           None   \n",
       "1                                     'C', 'Go', 'R'           None   \n",
       "2                                     'C', 'Go', 'R'           None   \n",
       "3  'C', 'Excel', 'Java', 'R', 'SAS', 'SPSS', 'SQL...           None   \n",
       "4                          'C', 'Python', 'R', 'SQL'           None   \n",
       "\n",
       "       Levels  \n",
       "0              \n",
       "1              \n",
       "2              \n",
       "3   Mid Level  \n",
       "4   Mid Level  "
      ]
     },
     "execution_count": 27,
     "metadata": {},
     "output_type": "execute_result"
    }
   ],
   "source": [
    "df_da['Levels'] += df_da['Description'].apply(lambda x: get_years_experience(x))\n",
    "df_da.head()"
   ]
  },
  {
   "cell_type": "code",
   "execution_count": 28,
   "metadata": {},
   "outputs": [],
   "source": [
    "df_de['Levels'] += df_de['Description'].apply(lambda x: get_years_experience(x))\n",
    "df_ds['Levels'] += df_ds['Description'].apply(lambda x: get_years_experience(x))\n",
    "df_mle['Levels'] += df_mle['Description'].apply(lambda x: get_years_experience(x))"
   ]
  },
  {
   "cell_type": "markdown",
   "metadata": {},
   "source": [
    "### Extract Salary Information"
   ]
  },
  {
   "cell_type": "code",
   "execution_count": 29,
   "metadata": {},
   "outputs": [],
   "source": [
    "def extract_salary(df_job):\n",
    "    df = df_job.copy()\n",
    "    df[['Salary L', 'Salary U']] = df['Salary'].str.split('-', 1, expand=True)\n",
    "    df = df[['Job_Title', 'Salary', 'Levels', 'Salary L', 'Salary U']]\n",
    "    # Set Upper NaN to Lower\n",
    "    df.loc[df['Salary U'].isna(), 'Salary U'] = df.loc[df['Salary U'].isna(), 'Salary L']\n",
    "    # Convert to Numeric\n",
    "    df['Salary L'] = df['Salary L'].map(lambda x: ''.join(filter(str.isdigit, x)))\n",
    "    df['Salary U'] = df['Salary U'].map(lambda x: ''.join(filter(str.isdigit, x)))\n",
    "    df['Salary L'] = df['Salary L'].map(lambda x: float(x.replace(',', '')))\n",
    "    df['Salary U'] = df['Salary U'].map(lambda x: float(x.replace(',', '')))\n",
    "    # Convert hours to month\n",
    "    # Average 166.4 hours of work per month\n",
    "    df.loc[df['Salary'].str.contains('hour'), 'Salary L'] *= 166.4\n",
    "    df.loc[df['Salary'].str.contains('hour'), 'Salary U'] *= 166.4\n",
    "    # Convert days to month\n",
    "    # Average 20.8 days of work per month\n",
    "    df.loc[df['Salary'].str.contains('day'), 'Salary L'] *= 20.8\n",
    "    df.loc[df['Salary'].str.contains('day'), 'Salary U'] *= 20.8\n",
    "    # Convert weeks to month\n",
    "    # Average 4.3 weeks of work per month\n",
    "    df.loc[df['Salary'].str.contains('week'), 'Salary L'] *= 4.345\n",
    "    df.loc[df['Salary'].str.contains('week'), 'Salary U'] *= 4.345\n",
    "    # Convert years to month\n",
    "    df.loc[df['Salary'].str.contains('year'), 'Salary L'] /= 12\n",
    "    df.loc[df['Salary'].str.contains('year'), 'Salary U'] /= 12\n",
    "    # Mean salary\n",
    "    df['Salary M'] = df[['Salary L', 'Salary U']].mean(axis=1)\n",
    "    return df"
   ]
  },
  {
   "cell_type": "markdown",
   "metadata": {},
   "source": [
    "### Clean All Data"
   ]
  },
  {
   "cell_type": "code",
   "execution_count": 59,
   "metadata": {},
   "outputs": [
    {
     "data": {
      "text/html": [
       "<div>\n",
       "<style scoped>\n",
       "    .dataframe tbody tr th:only-of-type {\n",
       "        vertical-align: middle;\n",
       "    }\n",
       "\n",
       "    .dataframe tbody tr th {\n",
       "        vertical-align: top;\n",
       "    }\n",
       "\n",
       "    .dataframe thead th {\n",
       "        text-align: right;\n",
       "    }\n",
       "</style>\n",
       "<table border=\"1\" class=\"dataframe\">\n",
       "  <thead>\n",
       "    <tr style=\"text-align: right;\">\n",
       "      <th></th>\n",
       "      <th>Job_Title</th>\n",
       "      <th>Salary</th>\n",
       "      <th>Levels</th>\n",
       "      <th>Salary L</th>\n",
       "      <th>Salary U</th>\n",
       "      <th>Salary M</th>\n",
       "    </tr>\n",
       "  </thead>\n",
       "  <tbody>\n",
       "    <tr>\n",
       "      <th>0</th>\n",
       "      <td>DATA ANALYST</td>\n",
       "      <td>0</td>\n",
       "      <td>Mid Level</td>\n",
       "      <td>0.0</td>\n",
       "      <td>0.0</td>\n",
       "      <td>0.0</td>\n",
       "    </tr>\n",
       "    <tr>\n",
       "      <th>1</th>\n",
       "      <td>Data Informatics Analyst</td>\n",
       "      <td>0</td>\n",
       "      <td>Mid Level</td>\n",
       "      <td>0.0</td>\n",
       "      <td>0.0</td>\n",
       "      <td>0.0</td>\n",
       "    </tr>\n",
       "    <tr>\n",
       "      <th>2</th>\n",
       "      <td>Data Informatics Analyst</td>\n",
       "      <td>0</td>\n",
       "      <td>Mid Level</td>\n",
       "      <td>0.0</td>\n",
       "      <td>0.0</td>\n",
       "      <td>0.0</td>\n",
       "    </tr>\n",
       "    <tr>\n",
       "      <th>3</th>\n",
       "      <td>Data Analyst (Quality)</td>\n",
       "      <td>0</td>\n",
       "      <td>Mid Level</td>\n",
       "      <td>0.0</td>\n",
       "      <td>0.0</td>\n",
       "      <td>0.0</td>\n",
       "    </tr>\n",
       "    <tr>\n",
       "      <th>4</th>\n",
       "      <td>BI Data Analyst</td>\n",
       "      <td>0</td>\n",
       "      <td>Mid Level</td>\n",
       "      <td>0.0</td>\n",
       "      <td>0.0</td>\n",
       "      <td>0.0</td>\n",
       "    </tr>\n",
       "  </tbody>\n",
       "</table>\n",
       "</div>"
      ],
      "text/plain": [
       "                  Job_Title Salary      Levels  Salary L  Salary U  Salary M\n",
       "0              DATA ANALYST      0   Mid Level       0.0       0.0       0.0\n",
       "1  Data Informatics Analyst      0   Mid Level       0.0       0.0       0.0\n",
       "2  Data Informatics Analyst      0   Mid Level       0.0       0.0       0.0\n",
       "3    Data Analyst (Quality)      0   Mid Level       0.0       0.0       0.0\n",
       "4           BI Data Analyst      0   Mid Level       0.0       0.0       0.0"
      ]
     },
     "execution_count": 59,
     "metadata": {},
     "output_type": "execute_result"
    }
   ],
   "source": [
    "df_dac = extract_salary(df_da.fillna('0'))\n",
    "df_dac.loc[df_dac['Levels'] == \"\", 'Levels'] = 'Mid Level'\n",
    "df_dac.head()"
   ]
  },
  {
   "cell_type": "code",
   "execution_count": 60,
   "metadata": {},
   "outputs": [
    {
     "data": {
      "text/html": [
       "<div>\n",
       "<style scoped>\n",
       "    .dataframe tbody tr th:only-of-type {\n",
       "        vertical-align: middle;\n",
       "    }\n",
       "\n",
       "    .dataframe tbody tr th {\n",
       "        vertical-align: top;\n",
       "    }\n",
       "\n",
       "    .dataframe thead th {\n",
       "        text-align: right;\n",
       "    }\n",
       "</style>\n",
       "<table border=\"1\" class=\"dataframe\">\n",
       "  <thead>\n",
       "    <tr style=\"text-align: right;\">\n",
       "      <th></th>\n",
       "      <th>Job_Title</th>\n",
       "      <th>Salary</th>\n",
       "      <th>Levels</th>\n",
       "      <th>Salary L</th>\n",
       "      <th>Salary U</th>\n",
       "      <th>Salary M</th>\n",
       "    </tr>\n",
       "  </thead>\n",
       "  <tbody>\n",
       "    <tr>\n",
       "      <th>count</th>\n",
       "      <td>614</td>\n",
       "      <td>614</td>\n",
       "      <td>614</td>\n",
       "      <td>614.000000</td>\n",
       "      <td>614.000000</td>\n",
       "      <td>614.000000</td>\n",
       "    </tr>\n",
       "    <tr>\n",
       "      <th>unique</th>\n",
       "      <td>411</td>\n",
       "      <td>228</td>\n",
       "      <td>21</td>\n",
       "      <td>NaN</td>\n",
       "      <td>NaN</td>\n",
       "      <td>NaN</td>\n",
       "    </tr>\n",
       "    <tr>\n",
       "      <th>top</th>\n",
       "      <td>Data Analyst</td>\n",
       "      <td>RM 4,000 - RM 4,500 a month</td>\n",
       "      <td>Mid Level</td>\n",
       "      <td>NaN</td>\n",
       "      <td>NaN</td>\n",
       "      <td>NaN</td>\n",
       "    </tr>\n",
       "    <tr>\n",
       "      <th>freq</th>\n",
       "      <td>29</td>\n",
       "      <td>29</td>\n",
       "      <td>174</td>\n",
       "      <td>NaN</td>\n",
       "      <td>NaN</td>\n",
       "      <td>NaN</td>\n",
       "    </tr>\n",
       "    <tr>\n",
       "      <th>mean</th>\n",
       "      <td>NaN</td>\n",
       "      <td>NaN</td>\n",
       "      <td>NaN</td>\n",
       "      <td>4755.779237</td>\n",
       "      <td>6477.263868</td>\n",
       "      <td>5616.521553</td>\n",
       "    </tr>\n",
       "    <tr>\n",
       "      <th>std</th>\n",
       "      <td>NaN</td>\n",
       "      <td>NaN</td>\n",
       "      <td>NaN</td>\n",
       "      <td>2894.502556</td>\n",
       "      <td>3510.498425</td>\n",
       "      <td>3119.340933</td>\n",
       "    </tr>\n",
       "    <tr>\n",
       "      <th>min</th>\n",
       "      <td>NaN</td>\n",
       "      <td>NaN</td>\n",
       "      <td>NaN</td>\n",
       "      <td>300.000000</td>\n",
       "      <td>500.000000</td>\n",
       "      <td>400.000000</td>\n",
       "    </tr>\n",
       "    <tr>\n",
       "      <th>25%</th>\n",
       "      <td>NaN</td>\n",
       "      <td>NaN</td>\n",
       "      <td>NaN</td>\n",
       "      <td>3000.000000</td>\n",
       "      <td>4500.000000</td>\n",
       "      <td>3825.000000</td>\n",
       "    </tr>\n",
       "    <tr>\n",
       "      <th>50%</th>\n",
       "      <td>NaN</td>\n",
       "      <td>NaN</td>\n",
       "      <td>NaN</td>\n",
       "      <td>4000.000000</td>\n",
       "      <td>5500.000000</td>\n",
       "      <td>5000.000000</td>\n",
       "    </tr>\n",
       "    <tr>\n",
       "      <th>75%</th>\n",
       "      <td>NaN</td>\n",
       "      <td>NaN</td>\n",
       "      <td>NaN</td>\n",
       "      <td>5500.000000</td>\n",
       "      <td>8000.000000</td>\n",
       "      <td>7000.000000</td>\n",
       "    </tr>\n",
       "    <tr>\n",
       "      <th>max</th>\n",
       "      <td>NaN</td>\n",
       "      <td>NaN</td>\n",
       "      <td>NaN</td>\n",
       "      <td>24000.000000</td>\n",
       "      <td>25000.000000</td>\n",
       "      <td>24000.000000</td>\n",
       "    </tr>\n",
       "  </tbody>\n",
       "</table>\n",
       "</div>"
      ],
      "text/plain": [
       "           Job_Title                       Salary      Levels      Salary L  \\\n",
       "count            614                          614         614    614.000000   \n",
       "unique           411                          228          21           NaN   \n",
       "top     Data Analyst  RM 4,000 - RM 4,500 a month   Mid Level           NaN   \n",
       "freq              29                           29         174           NaN   \n",
       "mean             NaN                          NaN         NaN   4755.779237   \n",
       "std              NaN                          NaN         NaN   2894.502556   \n",
       "min              NaN                          NaN         NaN    300.000000   \n",
       "25%              NaN                          NaN         NaN   3000.000000   \n",
       "50%              NaN                          NaN         NaN   4000.000000   \n",
       "75%              NaN                          NaN         NaN   5500.000000   \n",
       "max              NaN                          NaN         NaN  24000.000000   \n",
       "\n",
       "            Salary U      Salary M  \n",
       "count     614.000000    614.000000  \n",
       "unique           NaN           NaN  \n",
       "top              NaN           NaN  \n",
       "freq             NaN           NaN  \n",
       "mean     6477.263868   5616.521553  \n",
       "std      3510.498425   3119.340933  \n",
       "min       500.000000    400.000000  \n",
       "25%      4500.000000   3825.000000  \n",
       "50%      5500.000000   5000.000000  \n",
       "75%      8000.000000   7000.000000  \n",
       "max     25000.000000  24000.000000  "
      ]
     },
     "execution_count": 60,
     "metadata": {},
     "output_type": "execute_result"
    }
   ],
   "source": [
    "df_dac.loc[df_dac['Salary'] != '0'].describe(include='all')"
   ]
  },
  {
   "cell_type": "code",
   "execution_count": 41,
   "metadata": {},
   "outputs": [
    {
     "data": {
      "text/html": [
       "<div>\n",
       "<style scoped>\n",
       "    .dataframe tbody tr th:only-of-type {\n",
       "        vertical-align: middle;\n",
       "    }\n",
       "\n",
       "    .dataframe tbody tr th {\n",
       "        vertical-align: top;\n",
       "    }\n",
       "\n",
       "    .dataframe thead th {\n",
       "        text-align: right;\n",
       "    }\n",
       "</style>\n",
       "<table border=\"1\" class=\"dataframe\">\n",
       "  <thead>\n",
       "    <tr style=\"text-align: right;\">\n",
       "      <th></th>\n",
       "      <th>Job_Title</th>\n",
       "      <th>Salary</th>\n",
       "      <th>Levels</th>\n",
       "      <th>Salary L</th>\n",
       "      <th>Salary U</th>\n",
       "      <th>Salary M</th>\n",
       "    </tr>\n",
       "  </thead>\n",
       "  <tbody>\n",
       "    <tr>\n",
       "      <th>0</th>\n",
       "      <td>Data Engineer</td>\n",
       "      <td>0</td>\n",
       "      <td>Mid Level</td>\n",
       "      <td>0.0</td>\n",
       "      <td>0.0</td>\n",
       "      <td>0.0</td>\n",
       "    </tr>\n",
       "    <tr>\n",
       "      <th>1</th>\n",
       "      <td>Wells Data Engineer</td>\n",
       "      <td>0</td>\n",
       "      <td>Mid Level</td>\n",
       "      <td>0.0</td>\n",
       "      <td>0.0</td>\n",
       "      <td>0.0</td>\n",
       "    </tr>\n",
       "    <tr>\n",
       "      <th>2</th>\n",
       "      <td>Junior Engineer</td>\n",
       "      <td>0</td>\n",
       "      <td>Junior Junior</td>\n",
       "      <td>0.0</td>\n",
       "      <td>0.0</td>\n",
       "      <td>0.0</td>\n",
       "    </tr>\n",
       "    <tr>\n",
       "      <th>3</th>\n",
       "      <td>ITC Engineer</td>\n",
       "      <td>0</td>\n",
       "      <td>Mid Level</td>\n",
       "      <td>0.0</td>\n",
       "      <td>0.0</td>\n",
       "      <td>0.0</td>\n",
       "    </tr>\n",
       "    <tr>\n",
       "      <th>4</th>\n",
       "      <td>Production Engineer</td>\n",
       "      <td>0</td>\n",
       "      <td>Mid Level</td>\n",
       "      <td>0.0</td>\n",
       "      <td>0.0</td>\n",
       "      <td>0.0</td>\n",
       "    </tr>\n",
       "  </tbody>\n",
       "</table>\n",
       "</div>"
      ],
      "text/plain": [
       "             Job_Title Salary         Levels  Salary L  Salary U  Salary M\n",
       "0        Data Engineer      0      Mid Level       0.0       0.0       0.0\n",
       "1  Wells Data Engineer      0      Mid Level       0.0       0.0       0.0\n",
       "2      Junior Engineer      0  Junior Junior       0.0       0.0       0.0\n",
       "3         ITC Engineer      0      Mid Level       0.0       0.0       0.0\n",
       "4  Production Engineer      0      Mid Level       0.0       0.0       0.0"
      ]
     },
     "execution_count": 41,
     "metadata": {},
     "output_type": "execute_result"
    }
   ],
   "source": [
    "df_dec = extract_salary(df_de.fillna('0'))\n",
    "df_dec.loc[df_dec['Levels'] == \"\", 'Levels'] = 'Mid Level'\n",
    "df_dec.head()"
   ]
  },
  {
   "cell_type": "code",
   "execution_count": 42,
   "metadata": {},
   "outputs": [
    {
     "data": {
      "text/html": [
       "<div>\n",
       "<style scoped>\n",
       "    .dataframe tbody tr th:only-of-type {\n",
       "        vertical-align: middle;\n",
       "    }\n",
       "\n",
       "    .dataframe tbody tr th {\n",
       "        vertical-align: top;\n",
       "    }\n",
       "\n",
       "    .dataframe thead th {\n",
       "        text-align: right;\n",
       "    }\n",
       "</style>\n",
       "<table border=\"1\" class=\"dataframe\">\n",
       "  <thead>\n",
       "    <tr style=\"text-align: right;\">\n",
       "      <th></th>\n",
       "      <th>Job_Title</th>\n",
       "      <th>Salary</th>\n",
       "      <th>Levels</th>\n",
       "      <th>Salary L</th>\n",
       "      <th>Salary U</th>\n",
       "      <th>Salary M</th>\n",
       "    </tr>\n",
       "  </thead>\n",
       "  <tbody>\n",
       "    <tr>\n",
       "      <th>count</th>\n",
       "      <td>759</td>\n",
       "      <td>759</td>\n",
       "      <td>759</td>\n",
       "      <td>759.000000</td>\n",
       "      <td>759.000000</td>\n",
       "      <td>759.000000</td>\n",
       "    </tr>\n",
       "    <tr>\n",
       "      <th>unique</th>\n",
       "      <td>514</td>\n",
       "      <td>242</td>\n",
       "      <td>23</td>\n",
       "      <td>NaN</td>\n",
       "      <td>NaN</td>\n",
       "      <td>NaN</td>\n",
       "    </tr>\n",
       "    <tr>\n",
       "      <th>top</th>\n",
       "      <td>Software Engineer</td>\n",
       "      <td>RM 2,500 - RM 3,000 a month</td>\n",
       "      <td>0</td>\n",
       "      <td>NaN</td>\n",
       "      <td>NaN</td>\n",
       "      <td>NaN</td>\n",
       "    </tr>\n",
       "    <tr>\n",
       "      <th>freq</th>\n",
       "      <td>26</td>\n",
       "      <td>22</td>\n",
       "      <td>403</td>\n",
       "      <td>NaN</td>\n",
       "      <td>NaN</td>\n",
       "      <td>NaN</td>\n",
       "    </tr>\n",
       "    <tr>\n",
       "      <th>mean</th>\n",
       "      <td>NaN</td>\n",
       "      <td>NaN</td>\n",
       "      <td>NaN</td>\n",
       "      <td>4458.405797</td>\n",
       "      <td>6469.807202</td>\n",
       "      <td>5464.106500</td>\n",
       "    </tr>\n",
       "    <tr>\n",
       "      <th>std</th>\n",
       "      <td>NaN</td>\n",
       "      <td>NaN</td>\n",
       "      <td>NaN</td>\n",
       "      <td>2781.914786</td>\n",
       "      <td>3772.478561</td>\n",
       "      <td>3182.886143</td>\n",
       "    </tr>\n",
       "    <tr>\n",
       "      <th>min</th>\n",
       "      <td>NaN</td>\n",
       "      <td>NaN</td>\n",
       "      <td>NaN</td>\n",
       "      <td>300.000000</td>\n",
       "      <td>300.000000</td>\n",
       "      <td>300.000000</td>\n",
       "    </tr>\n",
       "    <tr>\n",
       "      <th>25%</th>\n",
       "      <td>NaN</td>\n",
       "      <td>NaN</td>\n",
       "      <td>NaN</td>\n",
       "      <td>2500.000000</td>\n",
       "      <td>3500.000000</td>\n",
       "      <td>3050.000000</td>\n",
       "    </tr>\n",
       "    <tr>\n",
       "      <th>50%</th>\n",
       "      <td>NaN</td>\n",
       "      <td>NaN</td>\n",
       "      <td>NaN</td>\n",
       "      <td>4000.000000</td>\n",
       "      <td>6000.000000</td>\n",
       "      <td>4750.000000</td>\n",
       "    </tr>\n",
       "    <tr>\n",
       "      <th>75%</th>\n",
       "      <td>NaN</td>\n",
       "      <td>NaN</td>\n",
       "      <td>NaN</td>\n",
       "      <td>5250.000000</td>\n",
       "      <td>8000.000000</td>\n",
       "      <td>7000.000000</td>\n",
       "    </tr>\n",
       "    <tr>\n",
       "      <th>max</th>\n",
       "      <td>NaN</td>\n",
       "      <td>NaN</td>\n",
       "      <td>NaN</td>\n",
       "      <td>20000.000000</td>\n",
       "      <td>24000.000000</td>\n",
       "      <td>20000.000000</td>\n",
       "    </tr>\n",
       "  </tbody>\n",
       "</table>\n",
       "</div>"
      ],
      "text/plain": [
       "                Job_Title                       Salary Levels      Salary L  \\\n",
       "count                 759                          759    759    759.000000   \n",
       "unique                514                          242     23           NaN   \n",
       "top     Software Engineer  RM 2,500 - RM 3,000 a month      0           NaN   \n",
       "freq                   26                           22    403           NaN   \n",
       "mean                  NaN                          NaN    NaN   4458.405797   \n",
       "std                   NaN                          NaN    NaN   2781.914786   \n",
       "min                   NaN                          NaN    NaN    300.000000   \n",
       "25%                   NaN                          NaN    NaN   2500.000000   \n",
       "50%                   NaN                          NaN    NaN   4000.000000   \n",
       "75%                   NaN                          NaN    NaN   5250.000000   \n",
       "max                   NaN                          NaN    NaN  20000.000000   \n",
       "\n",
       "            Salary U      Salary M  \n",
       "count     759.000000    759.000000  \n",
       "unique           NaN           NaN  \n",
       "top              NaN           NaN  \n",
       "freq             NaN           NaN  \n",
       "mean     6469.807202   5464.106500  \n",
       "std      3772.478561   3182.886143  \n",
       "min       300.000000    300.000000  \n",
       "25%      3500.000000   3050.000000  \n",
       "50%      6000.000000   4750.000000  \n",
       "75%      8000.000000   7000.000000  \n",
       "max     24000.000000  20000.000000  "
      ]
     },
     "execution_count": 42,
     "metadata": {},
     "output_type": "execute_result"
    }
   ],
   "source": [
    "df_dec.loc[df_dec['Salary'] != '0'].describe(include='all')"
   ]
  },
  {
   "cell_type": "code",
   "execution_count": 44,
   "metadata": {},
   "outputs": [
    {
     "data": {
      "text/html": [
       "<div>\n",
       "<style scoped>\n",
       "    .dataframe tbody tr th:only-of-type {\n",
       "        vertical-align: middle;\n",
       "    }\n",
       "\n",
       "    .dataframe tbody tr th {\n",
       "        vertical-align: top;\n",
       "    }\n",
       "\n",
       "    .dataframe thead th {\n",
       "        text-align: right;\n",
       "    }\n",
       "</style>\n",
       "<table border=\"1\" class=\"dataframe\">\n",
       "  <thead>\n",
       "    <tr style=\"text-align: right;\">\n",
       "      <th></th>\n",
       "      <th>Job_Title</th>\n",
       "      <th>Salary</th>\n",
       "      <th>Levels</th>\n",
       "      <th>Salary L</th>\n",
       "      <th>Salary U</th>\n",
       "      <th>Salary M</th>\n",
       "    </tr>\n",
       "  </thead>\n",
       "  <tbody>\n",
       "    <tr>\n",
       "      <th>0</th>\n",
       "      <td>Data Scientist</td>\n",
       "      <td>0</td>\n",
       "      <td>Mid Level</td>\n",
       "      <td>0.0</td>\n",
       "      <td>0.0</td>\n",
       "      <td>0.0</td>\n",
       "    </tr>\n",
       "    <tr>\n",
       "      <th>1</th>\n",
       "      <td>Data Scientist</td>\n",
       "      <td>0</td>\n",
       "      <td>Junior</td>\n",
       "      <td>0.0</td>\n",
       "      <td>0.0</td>\n",
       "      <td>0.0</td>\n",
       "    </tr>\n",
       "    <tr>\n",
       "      <th>2</th>\n",
       "      <td>Intern, Data Scientist</td>\n",
       "      <td>0</td>\n",
       "      <td>Junior</td>\n",
       "      <td>0.0</td>\n",
       "      <td>0.0</td>\n",
       "      <td>0.0</td>\n",
       "    </tr>\n",
       "    <tr>\n",
       "      <th>3</th>\n",
       "      <td>Data Scientist</td>\n",
       "      <td>0</td>\n",
       "      <td>Junior</td>\n",
       "      <td>0.0</td>\n",
       "      <td>0.0</td>\n",
       "      <td>0.0</td>\n",
       "    </tr>\n",
       "    <tr>\n",
       "      <th>4</th>\n",
       "      <td>Data Scientist</td>\n",
       "      <td>0</td>\n",
       "      <td>Mid Level</td>\n",
       "      <td>0.0</td>\n",
       "      <td>0.0</td>\n",
       "      <td>0.0</td>\n",
       "    </tr>\n",
       "  </tbody>\n",
       "</table>\n",
       "</div>"
      ],
      "text/plain": [
       "                Job_Title Salary      Levels  Salary L  Salary U  Salary M\n",
       "0          Data Scientist      0   Mid Level       0.0       0.0       0.0\n",
       "1          Data Scientist      0      Junior       0.0       0.0       0.0\n",
       "2  Intern, Data Scientist      0      Junior       0.0       0.0       0.0\n",
       "3          Data Scientist      0      Junior       0.0       0.0       0.0\n",
       "4          Data Scientist      0   Mid Level       0.0       0.0       0.0"
      ]
     },
     "execution_count": 44,
     "metadata": {},
     "output_type": "execute_result"
    }
   ],
   "source": [
    "df_dsc = extract_salary(df_ds.fillna('0'))\n",
    "df_dsc.loc[df_dsc['Levels'] == \"\", 'Levels'] = 'Mid Level'\n",
    "df_dsc.head()"
   ]
  },
  {
   "cell_type": "code",
   "execution_count": 45,
   "metadata": {},
   "outputs": [
    {
     "data": {
      "text/html": [
       "<div>\n",
       "<style scoped>\n",
       "    .dataframe tbody tr th:only-of-type {\n",
       "        vertical-align: middle;\n",
       "    }\n",
       "\n",
       "    .dataframe tbody tr th {\n",
       "        vertical-align: top;\n",
       "    }\n",
       "\n",
       "    .dataframe thead th {\n",
       "        text-align: right;\n",
       "    }\n",
       "</style>\n",
       "<table border=\"1\" class=\"dataframe\">\n",
       "  <thead>\n",
       "    <tr style=\"text-align: right;\">\n",
       "      <th></th>\n",
       "      <th>Job_Title</th>\n",
       "      <th>Salary</th>\n",
       "      <th>Levels</th>\n",
       "      <th>Salary L</th>\n",
       "      <th>Salary U</th>\n",
       "      <th>Salary M</th>\n",
       "    </tr>\n",
       "  </thead>\n",
       "  <tbody>\n",
       "    <tr>\n",
       "      <th>count</th>\n",
       "      <td>72</td>\n",
       "      <td>72</td>\n",
       "      <td>72</td>\n",
       "      <td>72.000000</td>\n",
       "      <td>72.000000</td>\n",
       "      <td>72.000000</td>\n",
       "    </tr>\n",
       "    <tr>\n",
       "      <th>unique</th>\n",
       "      <td>42</td>\n",
       "      <td>44</td>\n",
       "      <td>10</td>\n",
       "      <td>NaN</td>\n",
       "      <td>NaN</td>\n",
       "      <td>NaN</td>\n",
       "    </tr>\n",
       "    <tr>\n",
       "      <th>top</th>\n",
       "      <td>Data Scientist</td>\n",
       "      <td>RM 3,500 - RM 4,500 a month</td>\n",
       "      <td>Mid Level</td>\n",
       "      <td>NaN</td>\n",
       "      <td>NaN</td>\n",
       "      <td>NaN</td>\n",
       "    </tr>\n",
       "    <tr>\n",
       "      <th>freq</th>\n",
       "      <td>15</td>\n",
       "      <td>13</td>\n",
       "      <td>19</td>\n",
       "      <td>NaN</td>\n",
       "      <td>NaN</td>\n",
       "      <td>NaN</td>\n",
       "    </tr>\n",
       "    <tr>\n",
       "      <th>mean</th>\n",
       "      <td>NaN</td>\n",
       "      <td>NaN</td>\n",
       "      <td>NaN</td>\n",
       "      <td>6035.115741</td>\n",
       "      <td>8651.805556</td>\n",
       "      <td>7343.460648</td>\n",
       "    </tr>\n",
       "    <tr>\n",
       "      <th>std</th>\n",
       "      <td>NaN</td>\n",
       "      <td>NaN</td>\n",
       "      <td>NaN</td>\n",
       "      <td>4438.003823</td>\n",
       "      <td>5939.167117</td>\n",
       "      <td>5079.772501</td>\n",
       "    </tr>\n",
       "    <tr>\n",
       "      <th>min</th>\n",
       "      <td>NaN</td>\n",
       "      <td>NaN</td>\n",
       "      <td>NaN</td>\n",
       "      <td>500.000000</td>\n",
       "      <td>500.000000</td>\n",
       "      <td>500.000000</td>\n",
       "    </tr>\n",
       "    <tr>\n",
       "      <th>25%</th>\n",
       "      <td>NaN</td>\n",
       "      <td>NaN</td>\n",
       "      <td>NaN</td>\n",
       "      <td>3500.000000</td>\n",
       "      <td>4500.000000</td>\n",
       "      <td>4000.000000</td>\n",
       "    </tr>\n",
       "    <tr>\n",
       "      <th>50%</th>\n",
       "      <td>NaN</td>\n",
       "      <td>NaN</td>\n",
       "      <td>NaN</td>\n",
       "      <td>4000.000000</td>\n",
       "      <td>5500.000000</td>\n",
       "      <td>5050.000000</td>\n",
       "    </tr>\n",
       "    <tr>\n",
       "      <th>75%</th>\n",
       "      <td>NaN</td>\n",
       "      <td>NaN</td>\n",
       "      <td>NaN</td>\n",
       "      <td>8000.000000</td>\n",
       "      <td>10022.000000</td>\n",
       "      <td>9000.000000</td>\n",
       "    </tr>\n",
       "    <tr>\n",
       "      <th>max</th>\n",
       "      <td>NaN</td>\n",
       "      <td>NaN</td>\n",
       "      <td>NaN</td>\n",
       "      <td>20000.000000</td>\n",
       "      <td>30000.000000</td>\n",
       "      <td>25000.000000</td>\n",
       "    </tr>\n",
       "  </tbody>\n",
       "</table>\n",
       "</div>"
      ],
      "text/plain": [
       "             Job_Title                       Salary      Levels      Salary L  \\\n",
       "count               72                           72          72     72.000000   \n",
       "unique              42                           44          10           NaN   \n",
       "top     Data Scientist  RM 3,500 - RM 4,500 a month   Mid Level           NaN   \n",
       "freq                15                           13          19           NaN   \n",
       "mean               NaN                          NaN         NaN   6035.115741   \n",
       "std                NaN                          NaN         NaN   4438.003823   \n",
       "min                NaN                          NaN         NaN    500.000000   \n",
       "25%                NaN                          NaN         NaN   3500.000000   \n",
       "50%                NaN                          NaN         NaN   4000.000000   \n",
       "75%                NaN                          NaN         NaN   8000.000000   \n",
       "max                NaN                          NaN         NaN  20000.000000   \n",
       "\n",
       "            Salary U      Salary M  \n",
       "count      72.000000     72.000000  \n",
       "unique           NaN           NaN  \n",
       "top              NaN           NaN  \n",
       "freq             NaN           NaN  \n",
       "mean     8651.805556   7343.460648  \n",
       "std      5939.167117   5079.772501  \n",
       "min       500.000000    500.000000  \n",
       "25%      4500.000000   4000.000000  \n",
       "50%      5500.000000   5050.000000  \n",
       "75%     10022.000000   9000.000000  \n",
       "max     30000.000000  25000.000000  "
      ]
     },
     "execution_count": 45,
     "metadata": {},
     "output_type": "execute_result"
    }
   ],
   "source": [
    "df_dsc.loc[df_dsc['Salary'] != '0'].describe(include='all')"
   ]
  },
  {
   "cell_type": "code",
   "execution_count": 46,
   "metadata": {},
   "outputs": [
    {
     "data": {
      "text/html": [
       "<div>\n",
       "<style scoped>\n",
       "    .dataframe tbody tr th:only-of-type {\n",
       "        vertical-align: middle;\n",
       "    }\n",
       "\n",
       "    .dataframe tbody tr th {\n",
       "        vertical-align: top;\n",
       "    }\n",
       "\n",
       "    .dataframe thead th {\n",
       "        text-align: right;\n",
       "    }\n",
       "</style>\n",
       "<table border=\"1\" class=\"dataframe\">\n",
       "  <thead>\n",
       "    <tr style=\"text-align: right;\">\n",
       "      <th></th>\n",
       "      <th>Job_Title</th>\n",
       "      <th>Salary</th>\n",
       "      <th>Levels</th>\n",
       "      <th>Salary L</th>\n",
       "      <th>Salary U</th>\n",
       "      <th>Salary M</th>\n",
       "    </tr>\n",
       "  </thead>\n",
       "  <tbody>\n",
       "    <tr>\n",
       "      <th>0</th>\n",
       "      <td>Machine Learning Engineer</td>\n",
       "      <td>0</td>\n",
       "      <td>Mid Level</td>\n",
       "      <td>0.0</td>\n",
       "      <td>0.0</td>\n",
       "      <td>0.0</td>\n",
       "    </tr>\n",
       "    <tr>\n",
       "      <th>1</th>\n",
       "      <td>Machine Learning Engineer</td>\n",
       "      <td>0</td>\n",
       "      <td>Mid Level</td>\n",
       "      <td>0.0</td>\n",
       "      <td>0.0</td>\n",
       "      <td>0.0</td>\n",
       "    </tr>\n",
       "    <tr>\n",
       "      <th>2</th>\n",
       "      <td>DevOps Engineer</td>\n",
       "      <td>0</td>\n",
       "      <td>Mid Level</td>\n",
       "      <td>0.0</td>\n",
       "      <td>0.0</td>\n",
       "      <td>0.0</td>\n",
       "    </tr>\n",
       "    <tr>\n",
       "      <th>3</th>\n",
       "      <td>Senior Site Reliability Engineer</td>\n",
       "      <td>0</td>\n",
       "      <td>Senior Senior Senior</td>\n",
       "      <td>0.0</td>\n",
       "      <td>0.0</td>\n",
       "      <td>0.0</td>\n",
       "    </tr>\n",
       "    <tr>\n",
       "      <th>4</th>\n",
       "      <td>Technical Product Engineer ( Halcon Trainer)</td>\n",
       "      <td>0</td>\n",
       "      <td>Mid Level</td>\n",
       "      <td>0.0</td>\n",
       "      <td>0.0</td>\n",
       "      <td>0.0</td>\n",
       "    </tr>\n",
       "  </tbody>\n",
       "</table>\n",
       "</div>"
      ],
      "text/plain": [
       "                                      Job_Title Salary                 Levels  \\\n",
       "0                     Machine Learning Engineer      0              Mid Level   \n",
       "1                     Machine Learning Engineer      0              Mid Level   \n",
       "2                               DevOps Engineer      0              Mid Level   \n",
       "3              Senior Site Reliability Engineer      0   Senior Senior Senior   \n",
       "4  Technical Product Engineer ( Halcon Trainer)      0              Mid Level   \n",
       "\n",
       "   Salary L  Salary U  Salary M  \n",
       "0       0.0       0.0       0.0  \n",
       "1       0.0       0.0       0.0  \n",
       "2       0.0       0.0       0.0  \n",
       "3       0.0       0.0       0.0  \n",
       "4       0.0       0.0       0.0  "
      ]
     },
     "execution_count": 46,
     "metadata": {},
     "output_type": "execute_result"
    }
   ],
   "source": [
    "df_mlec = extract_salary(df_mle.fillna('0'))\n",
    "df_mlec.loc[df_mlec['Levels'] == \"\", 'Levels'] = 'Mid Level'\n",
    "df_mlec.head()"
   ]
  },
  {
   "cell_type": "code",
   "execution_count": 47,
   "metadata": {},
   "outputs": [
    {
     "data": {
      "text/html": [
       "<div>\n",
       "<style scoped>\n",
       "    .dataframe tbody tr th:only-of-type {\n",
       "        vertical-align: middle;\n",
       "    }\n",
       "\n",
       "    .dataframe tbody tr th {\n",
       "        vertical-align: top;\n",
       "    }\n",
       "\n",
       "    .dataframe thead th {\n",
       "        text-align: right;\n",
       "    }\n",
       "</style>\n",
       "<table border=\"1\" class=\"dataframe\">\n",
       "  <thead>\n",
       "    <tr style=\"text-align: right;\">\n",
       "      <th></th>\n",
       "      <th>Job_Title</th>\n",
       "      <th>Salary</th>\n",
       "      <th>Levels</th>\n",
       "      <th>Salary L</th>\n",
       "      <th>Salary U</th>\n",
       "      <th>Salary M</th>\n",
       "    </tr>\n",
       "  </thead>\n",
       "  <tbody>\n",
       "    <tr>\n",
       "      <th>count</th>\n",
       "      <td>67</td>\n",
       "      <td>67</td>\n",
       "      <td>67</td>\n",
       "      <td>67.000000</td>\n",
       "      <td>67.000000</td>\n",
       "      <td>67.000000</td>\n",
       "    </tr>\n",
       "    <tr>\n",
       "      <th>unique</th>\n",
       "      <td>44</td>\n",
       "      <td>39</td>\n",
       "      <td>12</td>\n",
       "      <td>NaN</td>\n",
       "      <td>NaN</td>\n",
       "      <td>NaN</td>\n",
       "    </tr>\n",
       "    <tr>\n",
       "      <th>top</th>\n",
       "      <td>Senior Data Engineer</td>\n",
       "      <td>RM 9,000 - RM 13,000 a month</td>\n",
       "      <td>Senior Senior Mid Level</td>\n",
       "      <td>NaN</td>\n",
       "      <td>NaN</td>\n",
       "      <td>NaN</td>\n",
       "    </tr>\n",
       "    <tr>\n",
       "      <th>freq</th>\n",
       "      <td>16</td>\n",
       "      <td>16</td>\n",
       "      <td>16</td>\n",
       "      <td>NaN</td>\n",
       "      <td>NaN</td>\n",
       "      <td>NaN</td>\n",
       "    </tr>\n",
       "    <tr>\n",
       "      <th>mean</th>\n",
       "      <td>NaN</td>\n",
       "      <td>NaN</td>\n",
       "      <td>NaN</td>\n",
       "      <td>5360.656716</td>\n",
       "      <td>8040.716418</td>\n",
       "      <td>6700.686567</td>\n",
       "    </tr>\n",
       "    <tr>\n",
       "      <th>std</th>\n",
       "      <td>NaN</td>\n",
       "      <td>NaN</td>\n",
       "      <td>NaN</td>\n",
       "      <td>3305.367946</td>\n",
       "      <td>4705.378479</td>\n",
       "      <td>3935.638804</td>\n",
       "    </tr>\n",
       "    <tr>\n",
       "      <th>min</th>\n",
       "      <td>NaN</td>\n",
       "      <td>NaN</td>\n",
       "      <td>NaN</td>\n",
       "      <td>500.000000</td>\n",
       "      <td>500.000000</td>\n",
       "      <td>500.000000</td>\n",
       "    </tr>\n",
       "    <tr>\n",
       "      <th>25%</th>\n",
       "      <td>NaN</td>\n",
       "      <td>NaN</td>\n",
       "      <td>NaN</td>\n",
       "      <td>2550.000000</td>\n",
       "      <td>4750.000000</td>\n",
       "      <td>3875.000000</td>\n",
       "    </tr>\n",
       "    <tr>\n",
       "      <th>50%</th>\n",
       "      <td>NaN</td>\n",
       "      <td>NaN</td>\n",
       "      <td>NaN</td>\n",
       "      <td>4500.000000</td>\n",
       "      <td>7500.000000</td>\n",
       "      <td>6250.000000</td>\n",
       "    </tr>\n",
       "    <tr>\n",
       "      <th>75%</th>\n",
       "      <td>NaN</td>\n",
       "      <td>NaN</td>\n",
       "      <td>NaN</td>\n",
       "      <td>9000.000000</td>\n",
       "      <td>13000.000000</td>\n",
       "      <td>11000.000000</td>\n",
       "    </tr>\n",
       "    <tr>\n",
       "      <th>max</th>\n",
       "      <td>NaN</td>\n",
       "      <td>NaN</td>\n",
       "      <td>NaN</td>\n",
       "      <td>13000.000000</td>\n",
       "      <td>20000.000000</td>\n",
       "      <td>15000.000000</td>\n",
       "    </tr>\n",
       "  </tbody>\n",
       "</table>\n",
       "</div>"
      ],
      "text/plain": [
       "                   Job_Title                        Salary  \\\n",
       "count                     67                            67   \n",
       "unique                    44                            39   \n",
       "top     Senior Data Engineer  RM 9,000 - RM 13,000 a month   \n",
       "freq                      16                            16   \n",
       "mean                     NaN                           NaN   \n",
       "std                      NaN                           NaN   \n",
       "min                      NaN                           NaN   \n",
       "25%                      NaN                           NaN   \n",
       "50%                      NaN                           NaN   \n",
       "75%                      NaN                           NaN   \n",
       "max                      NaN                           NaN   \n",
       "\n",
       "                          Levels      Salary L      Salary U      Salary M  \n",
       "count                         67     67.000000     67.000000     67.000000  \n",
       "unique                        12           NaN           NaN           NaN  \n",
       "top      Senior Senior Mid Level           NaN           NaN           NaN  \n",
       "freq                          16           NaN           NaN           NaN  \n",
       "mean                         NaN   5360.656716   8040.716418   6700.686567  \n",
       "std                          NaN   3305.367946   4705.378479   3935.638804  \n",
       "min                          NaN    500.000000    500.000000    500.000000  \n",
       "25%                          NaN   2550.000000   4750.000000   3875.000000  \n",
       "50%                          NaN   4500.000000   7500.000000   6250.000000  \n",
       "75%                          NaN   9000.000000  13000.000000  11000.000000  \n",
       "max                          NaN  13000.000000  20000.000000  15000.000000  "
      ]
     },
     "execution_count": 47,
     "metadata": {},
     "output_type": "execute_result"
    }
   ],
   "source": [
    "df_mlec.loc[df_mlec['Salary'] != '0'].describe(include='all')"
   ]
  },
  {
   "cell_type": "markdown",
   "metadata": {},
   "source": [
    "# Data Distribution"
   ]
  },
  {
   "cell_type": "code",
   "execution_count": 50,
   "metadata": {},
   "outputs": [],
   "source": [
    "def plot_distribution(salary, title):\n",
    "    fg, ax = plt.subplots(ncols=2, figsize=(16,8))\n",
    "    salary.plot.hist(bins=20, ax=ax[0], title=\"{} Histogram\".format(title))\n",
    "    salary.plot.box(ax=ax[1], title=\"{} Box Plot\".format(title))\n",
    "\n",
    "def remove_outliers(salary):\n",
    "    q1 = salary.describe()['25%']\n",
    "    q3 = salary.describe()['75%']\n",
    "    iqr = q3 - q1\n",
    "    lf = q1 - 1.5 * iqr\n",
    "    uf = q3 + 1.5 * iqr\n",
    "    return salary[(salary >= lf) & (salary <= uf)]"
   ]
  },
  {
   "cell_type": "markdown",
   "metadata": {},
   "source": [
    "### Data Analyst"
   ]
  },
  {
   "cell_type": "code",
   "execution_count": 65,
   "metadata": {},
   "outputs": [
    {
     "data": {
      "text/html": [
       "<div>\n",
       "<style scoped>\n",
       "    .dataframe tbody tr th:only-of-type {\n",
       "        vertical-align: middle;\n",
       "    }\n",
       "\n",
       "    .dataframe tbody tr th {\n",
       "        vertical-align: top;\n",
       "    }\n",
       "\n",
       "    .dataframe thead th {\n",
       "        text-align: right;\n",
       "    }\n",
       "</style>\n",
       "<table border=\"1\" class=\"dataframe\">\n",
       "  <thead>\n",
       "    <tr style=\"text-align: right;\">\n",
       "      <th></th>\n",
       "      <th>Job_Title</th>\n",
       "      <th>Salary</th>\n",
       "      <th>Levels</th>\n",
       "      <th>Salary L</th>\n",
       "      <th>Salary U</th>\n",
       "      <th>Salary M</th>\n",
       "    </tr>\n",
       "  </thead>\n",
       "  <tbody>\n",
       "    <tr>\n",
       "      <th>count</th>\n",
       "      <td>2300</td>\n",
       "      <td>2300</td>\n",
       "      <td>2300</td>\n",
       "      <td>2300.0</td>\n",
       "      <td>2300.0</td>\n",
       "      <td>2300.0</td>\n",
       "    </tr>\n",
       "    <tr>\n",
       "      <th>unique</th>\n",
       "      <td>1541</td>\n",
       "      <td>1</td>\n",
       "      <td>26</td>\n",
       "      <td>NaN</td>\n",
       "      <td>NaN</td>\n",
       "      <td>NaN</td>\n",
       "    </tr>\n",
       "    <tr>\n",
       "      <th>top</th>\n",
       "      <td>Business Analyst</td>\n",
       "      <td>0</td>\n",
       "      <td>Mid Level</td>\n",
       "      <td>NaN</td>\n",
       "      <td>NaN</td>\n",
       "      <td>NaN</td>\n",
       "    </tr>\n",
       "    <tr>\n",
       "      <th>freq</th>\n",
       "      <td>55</td>\n",
       "      <td>2300</td>\n",
       "      <td>651</td>\n",
       "      <td>NaN</td>\n",
       "      <td>NaN</td>\n",
       "      <td>NaN</td>\n",
       "    </tr>\n",
       "    <tr>\n",
       "      <th>mean</th>\n",
       "      <td>NaN</td>\n",
       "      <td>NaN</td>\n",
       "      <td>NaN</td>\n",
       "      <td>0.0</td>\n",
       "      <td>0.0</td>\n",
       "      <td>0.0</td>\n",
       "    </tr>\n",
       "    <tr>\n",
       "      <th>std</th>\n",
       "      <td>NaN</td>\n",
       "      <td>NaN</td>\n",
       "      <td>NaN</td>\n",
       "      <td>0.0</td>\n",
       "      <td>0.0</td>\n",
       "      <td>0.0</td>\n",
       "    </tr>\n",
       "    <tr>\n",
       "      <th>min</th>\n",
       "      <td>NaN</td>\n",
       "      <td>NaN</td>\n",
       "      <td>NaN</td>\n",
       "      <td>0.0</td>\n",
       "      <td>0.0</td>\n",
       "      <td>0.0</td>\n",
       "    </tr>\n",
       "    <tr>\n",
       "      <th>25%</th>\n",
       "      <td>NaN</td>\n",
       "      <td>NaN</td>\n",
       "      <td>NaN</td>\n",
       "      <td>0.0</td>\n",
       "      <td>0.0</td>\n",
       "      <td>0.0</td>\n",
       "    </tr>\n",
       "    <tr>\n",
       "      <th>50%</th>\n",
       "      <td>NaN</td>\n",
       "      <td>NaN</td>\n",
       "      <td>NaN</td>\n",
       "      <td>0.0</td>\n",
       "      <td>0.0</td>\n",
       "      <td>0.0</td>\n",
       "    </tr>\n",
       "    <tr>\n",
       "      <th>75%</th>\n",
       "      <td>NaN</td>\n",
       "      <td>NaN</td>\n",
       "      <td>NaN</td>\n",
       "      <td>0.0</td>\n",
       "      <td>0.0</td>\n",
       "      <td>0.0</td>\n",
       "    </tr>\n",
       "    <tr>\n",
       "      <th>max</th>\n",
       "      <td>NaN</td>\n",
       "      <td>NaN</td>\n",
       "      <td>NaN</td>\n",
       "      <td>0.0</td>\n",
       "      <td>0.0</td>\n",
       "      <td>0.0</td>\n",
       "    </tr>\n",
       "  </tbody>\n",
       "</table>\n",
       "</div>"
      ],
      "text/plain": [
       "               Job_Title Salary      Levels  Salary L  Salary U  Salary M\n",
       "count               2300   2300        2300    2300.0    2300.0    2300.0\n",
       "unique              1541      1          26       NaN       NaN       NaN\n",
       "top     Business Analyst      0   Mid Level       NaN       NaN       NaN\n",
       "freq                  55   2300         651       NaN       NaN       NaN\n",
       "mean                 NaN    NaN         NaN       0.0       0.0       0.0\n",
       "std                  NaN    NaN         NaN       0.0       0.0       0.0\n",
       "min                  NaN    NaN         NaN       0.0       0.0       0.0\n",
       "25%                  NaN    NaN         NaN       0.0       0.0       0.0\n",
       "50%                  NaN    NaN         NaN       0.0       0.0       0.0\n",
       "75%                  NaN    NaN         NaN       0.0       0.0       0.0\n",
       "max                  NaN    NaN         NaN       0.0       0.0       0.0"
      ]
     },
     "execution_count": 65,
     "metadata": {},
     "output_type": "execute_result"
    }
   ],
   "source": [
    "df_das = df_dac.loc[df_dac['Salary'] == '0']\n",
    "df_dac = df_dac.loc[df_dac['Salary'] != '0']\n",
    "df_das.describe(include='all')"
   ]
  },
  {
   "cell_type": "code",
   "execution_count": 66,
   "metadata": {},
   "outputs": [
    {
     "data": {
      "text/html": [
       "<div>\n",
       "<style scoped>\n",
       "    .dataframe tbody tr th:only-of-type {\n",
       "        vertical-align: middle;\n",
       "    }\n",
       "\n",
       "    .dataframe tbody tr th {\n",
       "        vertical-align: top;\n",
       "    }\n",
       "\n",
       "    .dataframe thead th {\n",
       "        text-align: right;\n",
       "    }\n",
       "</style>\n",
       "<table border=\"1\" class=\"dataframe\">\n",
       "  <thead>\n",
       "    <tr style=\"text-align: right;\">\n",
       "      <th></th>\n",
       "      <th>Salary L</th>\n",
       "      <th>Salary U</th>\n",
       "      <th>Salary M</th>\n",
       "    </tr>\n",
       "  </thead>\n",
       "  <tbody>\n",
       "    <tr>\n",
       "      <th>count</th>\n",
       "      <td>614.000000</td>\n",
       "      <td>614.000000</td>\n",
       "      <td>614.000000</td>\n",
       "    </tr>\n",
       "    <tr>\n",
       "      <th>mean</th>\n",
       "      <td>4755.779237</td>\n",
       "      <td>6477.263868</td>\n",
       "      <td>5616.521553</td>\n",
       "    </tr>\n",
       "    <tr>\n",
       "      <th>std</th>\n",
       "      <td>2894.502556</td>\n",
       "      <td>3510.498425</td>\n",
       "      <td>3119.340933</td>\n",
       "    </tr>\n",
       "    <tr>\n",
       "      <th>min</th>\n",
       "      <td>300.000000</td>\n",
       "      <td>500.000000</td>\n",
       "      <td>400.000000</td>\n",
       "    </tr>\n",
       "    <tr>\n",
       "      <th>25%</th>\n",
       "      <td>3000.000000</td>\n",
       "      <td>4500.000000</td>\n",
       "      <td>3825.000000</td>\n",
       "    </tr>\n",
       "    <tr>\n",
       "      <th>50%</th>\n",
       "      <td>4000.000000</td>\n",
       "      <td>5500.000000</td>\n",
       "      <td>5000.000000</td>\n",
       "    </tr>\n",
       "    <tr>\n",
       "      <th>75%</th>\n",
       "      <td>5500.000000</td>\n",
       "      <td>8000.000000</td>\n",
       "      <td>7000.000000</td>\n",
       "    </tr>\n",
       "    <tr>\n",
       "      <th>max</th>\n",
       "      <td>24000.000000</td>\n",
       "      <td>25000.000000</td>\n",
       "      <td>24000.000000</td>\n",
       "    </tr>\n",
       "  </tbody>\n",
       "</table>\n",
       "</div>"
      ],
      "text/plain": [
       "           Salary L      Salary U      Salary M\n",
       "count    614.000000    614.000000    614.000000\n",
       "mean    4755.779237   6477.263868   5616.521553\n",
       "std     2894.502556   3510.498425   3119.340933\n",
       "min      300.000000    500.000000    400.000000\n",
       "25%     3000.000000   4500.000000   3825.000000\n",
       "50%     4000.000000   5500.000000   5000.000000\n",
       "75%     5500.000000   8000.000000   7000.000000\n",
       "max    24000.000000  25000.000000  24000.000000"
      ]
     },
     "execution_count": 66,
     "metadata": {},
     "output_type": "execute_result"
    }
   ],
   "source": [
    "df_dac.describe()"
   ]
  },
  {
   "cell_type": "code",
   "execution_count": 67,
   "metadata": {},
   "outputs": [
    {
     "data": {
      "image/png": "[encoded data removed]",
      "text/plain": [
       "<Figure size 1152x576 with 2 Axes>"
      ]
     },
     "metadata": {
      "needs_background": "light"
     },
     "output_type": "display_data"
    }
   ],
   "source": [
    "plot_distribution(df_dac['Salary L'], title=\"Salary (Lower Bound)\")"
   ]
  },
  {
   "cell_type": "code",
   "execution_count": 68,
   "metadata": {},
   "outputs": [
    {
     "data": {
      "image/png": "[encoded data removed]",
      "text/plain": [
       "<Figure size 1152x576 with 2 Axes>"
      ]
     },
     "metadata": {
      "needs_background": "light"
     },
     "output_type": "display_data"
    }
   ],
   "source": [
    "plot_distribution(df_dac['Salary U'], title=\"Salary (Upper Bound)\")"
   ]
  },
  {
   "cell_type": "code",
   "execution_count": 69,
   "metadata": {},
   "outputs": [
    {
     "data": {
      "image/png": "[encoded data removed]",
      "text/plain": [
       "<Figure size 1152x576 with 2 Axes>"
      ]
     },
     "metadata": {
      "needs_background": "light"
     },
     "output_type": "display_data"
    }
   ],
   "source": [
    "plot_distribution(df_dac['Salary M'], title=\"Salary (Mean)\")"
   ]
  },
  {
   "cell_type": "markdown",
   "metadata": {},
   "source": [
    "#### Without outliers"
   ]
  },
  {
   "cell_type": "code",
   "execution_count": 70,
   "metadata": {},
   "outputs": [
    {
     "data": {
      "text/plain": [
       "count      590.000000\n",
       "mean      5195.837684\n",
       "std       2238.314010\n",
       "min        400.000000\n",
       "25%       3750.000000\n",
       "50%       4750.000000\n",
       "75%       6387.125000\n",
       "max      11500.000000\n",
       "Name: Salary M, dtype: float64"
      ]
     },
     "execution_count": 70,
     "metadata": {},
     "output_type": "execute_result"
    }
   ],
   "source": [
    "da_salary = remove_outliers(df_dac['Salary M'])\n",
    "da_salary.describe()"
   ]
  },
  {
   "cell_type": "code",
   "execution_count": 71,
   "metadata": {},
   "outputs": [
    {
     "data": {
      "image/png": "[encoded data removed]",
      "text/plain": [
       "<Figure size 1152x576 with 2 Axes>"
      ]
     },
     "metadata": {
      "needs_background": "light"
     },
     "output_type": "display_data"
    }
   ],
   "source": [
    "plot_distribution(da_salary, title=\"Salary\")"
   ]
  },
  {
   "cell_type": "markdown",
   "metadata": {},
   "source": [
    "### Data Engineer"
   ]
  },
  {
   "cell_type": "code",
   "execution_count": 72,
   "metadata": {},
   "outputs": [
    {
     "data": {
      "text/html": [
       "<div>\n",
       "<style scoped>\n",
       "    .dataframe tbody tr th:only-of-type {\n",
       "        vertical-align: middle;\n",
       "    }\n",
       "\n",
       "    .dataframe tbody tr th {\n",
       "        vertical-align: top;\n",
       "    }\n",
       "\n",
       "    .dataframe thead th {\n",
       "        text-align: right;\n",
       "    }\n",
       "</style>\n",
       "<table border=\"1\" class=\"dataframe\">\n",
       "  <thead>\n",
       "    <tr style=\"text-align: right;\">\n",
       "      <th></th>\n",
       "      <th>Job_Title</th>\n",
       "      <th>Salary</th>\n",
       "      <th>Levels</th>\n",
       "      <th>Salary L</th>\n",
       "      <th>Salary U</th>\n",
       "      <th>Salary M</th>\n",
       "    </tr>\n",
       "  </thead>\n",
       "  <tbody>\n",
       "    <tr>\n",
       "      <th>count</th>\n",
       "      <td>2634</td>\n",
       "      <td>2634</td>\n",
       "      <td>2634</td>\n",
       "      <td>2634.0</td>\n",
       "      <td>2634.0</td>\n",
       "      <td>2634.0</td>\n",
       "    </tr>\n",
       "    <tr>\n",
       "      <th>unique</th>\n",
       "      <td>1693</td>\n",
       "      <td>1</td>\n",
       "      <td>32</td>\n",
       "      <td>NaN</td>\n",
       "      <td>NaN</td>\n",
       "      <td>NaN</td>\n",
       "    </tr>\n",
       "    <tr>\n",
       "      <th>top</th>\n",
       "      <td>Software Engineer</td>\n",
       "      <td>0</td>\n",
       "      <td>0</td>\n",
       "      <td>NaN</td>\n",
       "      <td>NaN</td>\n",
       "      <td>NaN</td>\n",
       "    </tr>\n",
       "    <tr>\n",
       "      <th>freq</th>\n",
       "      <td>38</td>\n",
       "      <td>2634</td>\n",
       "      <td>1153</td>\n",
       "      <td>NaN</td>\n",
       "      <td>NaN</td>\n",
       "      <td>NaN</td>\n",
       "    </tr>\n",
       "    <tr>\n",
       "      <th>mean</th>\n",
       "      <td>NaN</td>\n",
       "      <td>NaN</td>\n",
       "      <td>NaN</td>\n",
       "      <td>0.0</td>\n",
       "      <td>0.0</td>\n",
       "      <td>0.0</td>\n",
       "    </tr>\n",
       "    <tr>\n",
       "      <th>std</th>\n",
       "      <td>NaN</td>\n",
       "      <td>NaN</td>\n",
       "      <td>NaN</td>\n",
       "      <td>0.0</td>\n",
       "      <td>0.0</td>\n",
       "      <td>0.0</td>\n",
       "    </tr>\n",
       "    <tr>\n",
       "      <th>min</th>\n",
       "      <td>NaN</td>\n",
       "      <td>NaN</td>\n",
       "      <td>NaN</td>\n",
       "      <td>0.0</td>\n",
       "      <td>0.0</td>\n",
       "      <td>0.0</td>\n",
       "    </tr>\n",
       "    <tr>\n",
       "      <th>25%</th>\n",
       "      <td>NaN</td>\n",
       "      <td>NaN</td>\n",
       "      <td>NaN</td>\n",
       "      <td>0.0</td>\n",
       "      <td>0.0</td>\n",
       "      <td>0.0</td>\n",
       "    </tr>\n",
       "    <tr>\n",
       "      <th>50%</th>\n",
       "      <td>NaN</td>\n",
       "      <td>NaN</td>\n",
       "      <td>NaN</td>\n",
       "      <td>0.0</td>\n",
       "      <td>0.0</td>\n",
       "      <td>0.0</td>\n",
       "    </tr>\n",
       "    <tr>\n",
       "      <th>75%</th>\n",
       "      <td>NaN</td>\n",
       "      <td>NaN</td>\n",
       "      <td>NaN</td>\n",
       "      <td>0.0</td>\n",
       "      <td>0.0</td>\n",
       "      <td>0.0</td>\n",
       "    </tr>\n",
       "    <tr>\n",
       "      <th>max</th>\n",
       "      <td>NaN</td>\n",
       "      <td>NaN</td>\n",
       "      <td>NaN</td>\n",
       "      <td>0.0</td>\n",
       "      <td>0.0</td>\n",
       "      <td>0.0</td>\n",
       "    </tr>\n",
       "  </tbody>\n",
       "</table>\n",
       "</div>"
      ],
      "text/plain": [
       "                Job_Title Salary Levels  Salary L  Salary U  Salary M\n",
       "count                2634   2634   2634    2634.0    2634.0    2634.0\n",
       "unique               1693      1     32       NaN       NaN       NaN\n",
       "top     Software Engineer      0      0       NaN       NaN       NaN\n",
       "freq                   38   2634   1153       NaN       NaN       NaN\n",
       "mean                  NaN    NaN    NaN       0.0       0.0       0.0\n",
       "std                   NaN    NaN    NaN       0.0       0.0       0.0\n",
       "min                   NaN    NaN    NaN       0.0       0.0       0.0\n",
       "25%                   NaN    NaN    NaN       0.0       0.0       0.0\n",
       "50%                   NaN    NaN    NaN       0.0       0.0       0.0\n",
       "75%                   NaN    NaN    NaN       0.0       0.0       0.0\n",
       "max                   NaN    NaN    NaN       0.0       0.0       0.0"
      ]
     },
     "execution_count": 72,
     "metadata": {},
     "output_type": "execute_result"
    }
   ],
   "source": [
    "df_des = df_dec.loc[df_dec['Salary'] == '0']\n",
    "df_dec = df_dec.loc[df_dec['Salary'] != '0']\n",
    "df_des.describe(include='all')"
   ]
  },
  {
   "cell_type": "code",
   "execution_count": 73,
   "metadata": {},
   "outputs": [
    {
     "data": {
      "text/html": [
       "<div>\n",
       "<style scoped>\n",
       "    .dataframe tbody tr th:only-of-type {\n",
       "        vertical-align: middle;\n",
       "    }\n",
       "\n",
       "    .dataframe tbody tr th {\n",
       "        vertical-align: top;\n",
       "    }\n",
       "\n",
       "    .dataframe thead th {\n",
       "        text-align: right;\n",
       "    }\n",
       "</style>\n",
       "<table border=\"1\" class=\"dataframe\">\n",
       "  <thead>\n",
       "    <tr style=\"text-align: right;\">\n",
       "      <th></th>\n",
       "      <th>Salary L</th>\n",
       "      <th>Salary U</th>\n",
       "      <th>Salary M</th>\n",
       "    </tr>\n",
       "  </thead>\n",
       "  <tbody>\n",
       "    <tr>\n",
       "      <th>count</th>\n",
       "      <td>759.000000</td>\n",
       "      <td>759.000000</td>\n",
       "      <td>759.000000</td>\n",
       "    </tr>\n",
       "    <tr>\n",
       "      <th>mean</th>\n",
       "      <td>4458.405797</td>\n",
       "      <td>6469.807202</td>\n",
       "      <td>5464.106500</td>\n",
       "    </tr>\n",
       "    <tr>\n",
       "      <th>std</th>\n",
       "      <td>2781.914786</td>\n",
       "      <td>3772.478561</td>\n",
       "      <td>3182.886143</td>\n",
       "    </tr>\n",
       "    <tr>\n",
       "      <th>min</th>\n",
       "      <td>300.000000</td>\n",
       "      <td>300.000000</td>\n",
       "      <td>300.000000</td>\n",
       "    </tr>\n",
       "    <tr>\n",
       "      <th>25%</th>\n",
       "      <td>2500.000000</td>\n",
       "      <td>3500.000000</td>\n",
       "      <td>3050.000000</td>\n",
       "    </tr>\n",
       "    <tr>\n",
       "      <th>50%</th>\n",
       "      <td>4000.000000</td>\n",
       "      <td>6000.000000</td>\n",
       "      <td>4750.000000</td>\n",
       "    </tr>\n",
       "    <tr>\n",
       "      <th>75%</th>\n",
       "      <td>5250.000000</td>\n",
       "      <td>8000.000000</td>\n",
       "      <td>7000.000000</td>\n",
       "    </tr>\n",
       "    <tr>\n",
       "      <th>max</th>\n",
       "      <td>20000.000000</td>\n",
       "      <td>24000.000000</td>\n",
       "      <td>20000.000000</td>\n",
       "    </tr>\n",
       "  </tbody>\n",
       "</table>\n",
       "</div>"
      ],
      "text/plain": [
       "           Salary L      Salary U      Salary M\n",
       "count    759.000000    759.000000    759.000000\n",
       "mean    4458.405797   6469.807202   5464.106500\n",
       "std     2781.914786   3772.478561   3182.886143\n",
       "min      300.000000    300.000000    300.000000\n",
       "25%     2500.000000   3500.000000   3050.000000\n",
       "50%     4000.000000   6000.000000   4750.000000\n",
       "75%     5250.000000   8000.000000   7000.000000\n",
       "max    20000.000000  24000.000000  20000.000000"
      ]
     },
     "execution_count": 73,
     "metadata": {},
     "output_type": "execute_result"
    }
   ],
   "source": [
    "df_dec.describe()"
   ]
  },
  {
   "cell_type": "code",
   "execution_count": 74,
   "metadata": {},
   "outputs": [
    {
     "data": {
      "image/png": "[encoded data removed]",
      "text/plain": [
       "<Figure size 1152x576 with 2 Axes>"
      ]
     },
     "metadata": {
      "needs_background": "light"
     },
     "output_type": "display_data"
    }
   ],
   "source": [
    "plot_distribution(df_dec['Salary L'], title=\"Salary (Lower Bound)\")"
   ]
  },
  {
   "cell_type": "code",
   "execution_count": 75,
   "metadata": {},
   "outputs": [
    {
     "data": {
      "image/png": "[encoded data removed]",
      "text/plain": [
       "<Figure size 1152x576 with 2 Axes>"
      ]
     },
     "metadata": {
      "needs_background": "light"
     },
     "output_type": "display_data"
    }
   ],
   "source": [
    "plot_distribution(df_dec['Salary U'], title=\"Salary (Upper Bound)\")"
   ]
  },
  {
   "cell_type": "code",
   "execution_count": 76,
   "metadata": {},
   "outputs": [
    {
     "data": {
      "image/png": "[encoded data removed]",
      "text/plain": [
       "<Figure size 1152x576 with 2 Axes>"
      ]
     },
     "metadata": {
      "needs_background": "light"
     },
     "output_type": "display_data"
    }
   ],
   "source": [
    "plot_distribution(df_dec['Salary M'], title=\"Salary (Mean)\")"
   ]
  },
  {
   "cell_type": "markdown",
   "metadata": {},
   "source": [
    "#### Without outliers"
   ]
  },
  {
   "cell_type": "code",
   "execution_count": 77,
   "metadata": {},
   "outputs": [
    {
     "data": {
      "text/plain": [
       "count      738.000000\n",
       "mean      5179.492096\n",
       "std       2713.980404\n",
       "min        300.000000\n",
       "25%       3000.000000\n",
       "50%       4654.250000\n",
       "75%       6750.000000\n",
       "max      12500.000000\n",
       "Name: Salary M, dtype: float64"
      ]
     },
     "execution_count": 77,
     "metadata": {},
     "output_type": "execute_result"
    }
   ],
   "source": [
    "de_salary = remove_outliers(df_dec['Salary M'])\n",
    "de_salary.describe()"
   ]
  },
  {
   "cell_type": "code",
   "execution_count": 78,
   "metadata": {},
   "outputs": [
    {
     "data": {
      "image/png": "[encoded data removed]",
      "text/plain": [
       "<Figure size 1152x576 with 2 Axes>"
      ]
     },
     "metadata": {
      "needs_background": "light"
     },
     "output_type": "display_data"
    }
   ],
   "source": [
    "plot_distribution(de_salary, title=\"Salary\")"
   ]
  },
  {
   "cell_type": "markdown",
   "metadata": {},
   "source": [
    "### Data Scientist"
   ]
  },
  {
   "cell_type": "code",
   "execution_count": 79,
   "metadata": {},
   "outputs": [
    {
     "data": {
      "text/html": [
       "<div>\n",
       "<style scoped>\n",
       "    .dataframe tbody tr th:only-of-type {\n",
       "        vertical-align: middle;\n",
       "    }\n",
       "\n",
       "    .dataframe tbody tr th {\n",
       "        vertical-align: top;\n",
       "    }\n",
       "\n",
       "    .dataframe thead th {\n",
       "        text-align: right;\n",
       "    }\n",
       "</style>\n",
       "<table border=\"1\" class=\"dataframe\">\n",
       "  <thead>\n",
       "    <tr style=\"text-align: right;\">\n",
       "      <th></th>\n",
       "      <th>Job_Title</th>\n",
       "      <th>Salary</th>\n",
       "      <th>Levels</th>\n",
       "      <th>Salary L</th>\n",
       "      <th>Salary U</th>\n",
       "      <th>Salary M</th>\n",
       "    </tr>\n",
       "  </thead>\n",
       "  <tbody>\n",
       "    <tr>\n",
       "      <th>count</th>\n",
       "      <td>348</td>\n",
       "      <td>348</td>\n",
       "      <td>348</td>\n",
       "      <td>348.0</td>\n",
       "      <td>348.0</td>\n",
       "      <td>348.0</td>\n",
       "    </tr>\n",
       "    <tr>\n",
       "      <th>unique</th>\n",
       "      <td>187</td>\n",
       "      <td>1</td>\n",
       "      <td>17</td>\n",
       "      <td>NaN</td>\n",
       "      <td>NaN</td>\n",
       "      <td>NaN</td>\n",
       "    </tr>\n",
       "    <tr>\n",
       "      <th>top</th>\n",
       "      <td>Data Scientist</td>\n",
       "      <td>0</td>\n",
       "      <td>Mid Level</td>\n",
       "      <td>NaN</td>\n",
       "      <td>NaN</td>\n",
       "      <td>NaN</td>\n",
       "    </tr>\n",
       "    <tr>\n",
       "      <th>freq</th>\n",
       "      <td>59</td>\n",
       "      <td>348</td>\n",
       "      <td>90</td>\n",
       "      <td>NaN</td>\n",
       "      <td>NaN</td>\n",
       "      <td>NaN</td>\n",
       "    </tr>\n",
       "    <tr>\n",
       "      <th>mean</th>\n",
       "      <td>NaN</td>\n",
       "      <td>NaN</td>\n",
       "      <td>NaN</td>\n",
       "      <td>0.0</td>\n",
       "      <td>0.0</td>\n",
       "      <td>0.0</td>\n",
       "    </tr>\n",
       "    <tr>\n",
       "      <th>std</th>\n",
       "      <td>NaN</td>\n",
       "      <td>NaN</td>\n",
       "      <td>NaN</td>\n",
       "      <td>0.0</td>\n",
       "      <td>0.0</td>\n",
       "      <td>0.0</td>\n",
       "    </tr>\n",
       "    <tr>\n",
       "      <th>min</th>\n",
       "      <td>NaN</td>\n",
       "      <td>NaN</td>\n",
       "      <td>NaN</td>\n",
       "      <td>0.0</td>\n",
       "      <td>0.0</td>\n",
       "      <td>0.0</td>\n",
       "    </tr>\n",
       "    <tr>\n",
       "      <th>25%</th>\n",
       "      <td>NaN</td>\n",
       "      <td>NaN</td>\n",
       "      <td>NaN</td>\n",
       "      <td>0.0</td>\n",
       "      <td>0.0</td>\n",
       "      <td>0.0</td>\n",
       "    </tr>\n",
       "    <tr>\n",
       "      <th>50%</th>\n",
       "      <td>NaN</td>\n",
       "      <td>NaN</td>\n",
       "      <td>NaN</td>\n",
       "      <td>0.0</td>\n",
       "      <td>0.0</td>\n",
       "      <td>0.0</td>\n",
       "    </tr>\n",
       "    <tr>\n",
       "      <th>75%</th>\n",
       "      <td>NaN</td>\n",
       "      <td>NaN</td>\n",
       "      <td>NaN</td>\n",
       "      <td>0.0</td>\n",
       "      <td>0.0</td>\n",
       "      <td>0.0</td>\n",
       "    </tr>\n",
       "    <tr>\n",
       "      <th>max</th>\n",
       "      <td>NaN</td>\n",
       "      <td>NaN</td>\n",
       "      <td>NaN</td>\n",
       "      <td>0.0</td>\n",
       "      <td>0.0</td>\n",
       "      <td>0.0</td>\n",
       "    </tr>\n",
       "  </tbody>\n",
       "</table>\n",
       "</div>"
      ],
      "text/plain": [
       "             Job_Title Salary     Levels  Salary L  Salary U  Salary M\n",
       "count              348    348        348     348.0     348.0     348.0\n",
       "unique             187      1         17       NaN       NaN       NaN\n",
       "top     Data Scientist      0  Mid Level       NaN       NaN       NaN\n",
       "freq                59    348         90       NaN       NaN       NaN\n",
       "mean               NaN    NaN        NaN       0.0       0.0       0.0\n",
       "std                NaN    NaN        NaN       0.0       0.0       0.0\n",
       "min                NaN    NaN        NaN       0.0       0.0       0.0\n",
       "25%                NaN    NaN        NaN       0.0       0.0       0.0\n",
       "50%                NaN    NaN        NaN       0.0       0.0       0.0\n",
       "75%                NaN    NaN        NaN       0.0       0.0       0.0\n",
       "max                NaN    NaN        NaN       0.0       0.0       0.0"
      ]
     },
     "execution_count": 79,
     "metadata": {},
     "output_type": "execute_result"
    }
   ],
   "source": [
    "df_dss = df_dsc.loc[df_dsc['Salary'] == '0']\n",
    "df_dsc = df_dsc.loc[df_dsc['Salary'] != '0']\n",
    "df_dss.describe(include='all')"
   ]
  },
  {
   "cell_type": "code",
   "execution_count": 80,
   "metadata": {},
   "outputs": [
    {
     "data": {
      "text/html": [
       "<div>\n",
       "<style scoped>\n",
       "    .dataframe tbody tr th:only-of-type {\n",
       "        vertical-align: middle;\n",
       "    }\n",
       "\n",
       "    .dataframe tbody tr th {\n",
       "        vertical-align: top;\n",
       "    }\n",
       "\n",
       "    .dataframe thead th {\n",
       "        text-align: right;\n",
       "    }\n",
       "</style>\n",
       "<table border=\"1\" class=\"dataframe\">\n",
       "  <thead>\n",
       "    <tr style=\"text-align: right;\">\n",
       "      <th></th>\n",
       "      <th>Salary L</th>\n",
       "      <th>Salary U</th>\n",
       "      <th>Salary M</th>\n",
       "    </tr>\n",
       "  </thead>\n",
       "  <tbody>\n",
       "    <tr>\n",
       "      <th>count</th>\n",
       "      <td>72.000000</td>\n",
       "      <td>72.000000</td>\n",
       "      <td>72.000000</td>\n",
       "    </tr>\n",
       "    <tr>\n",
       "      <th>mean</th>\n",
       "      <td>6035.115741</td>\n",
       "      <td>8651.805556</td>\n",
       "      <td>7343.460648</td>\n",
       "    </tr>\n",
       "    <tr>\n",
       "      <th>std</th>\n",
       "      <td>4438.003823</td>\n",
       "      <td>5939.167117</td>\n",
       "      <td>5079.772501</td>\n",
       "    </tr>\n",
       "    <tr>\n",
       "      <th>min</th>\n",
       "      <td>500.000000</td>\n",
       "      <td>500.000000</td>\n",
       "      <td>500.000000</td>\n",
       "    </tr>\n",
       "    <tr>\n",
       "      <th>25%</th>\n",
       "      <td>3500.000000</td>\n",
       "      <td>4500.000000</td>\n",
       "      <td>4000.000000</td>\n",
       "    </tr>\n",
       "    <tr>\n",
       "      <th>50%</th>\n",
       "      <td>4000.000000</td>\n",
       "      <td>5500.000000</td>\n",
       "      <td>5050.000000</td>\n",
       "    </tr>\n",
       "    <tr>\n",
       "      <th>75%</th>\n",
       "      <td>8000.000000</td>\n",
       "      <td>10022.000000</td>\n",
       "      <td>9000.000000</td>\n",
       "    </tr>\n",
       "    <tr>\n",
       "      <th>max</th>\n",
       "      <td>20000.000000</td>\n",
       "      <td>30000.000000</td>\n",
       "      <td>25000.000000</td>\n",
       "    </tr>\n",
       "  </tbody>\n",
       "</table>\n",
       "</div>"
      ],
      "text/plain": [
       "           Salary L      Salary U      Salary M\n",
       "count     72.000000     72.000000     72.000000\n",
       "mean    6035.115741   8651.805556   7343.460648\n",
       "std     4438.003823   5939.167117   5079.772501\n",
       "min      500.000000    500.000000    500.000000\n",
       "25%     3500.000000   4500.000000   4000.000000\n",
       "50%     4000.000000   5500.000000   5050.000000\n",
       "75%     8000.000000  10022.000000   9000.000000\n",
       "max    20000.000000  30000.000000  25000.000000"
      ]
     },
     "execution_count": 80,
     "metadata": {},
     "output_type": "execute_result"
    }
   ],
   "source": [
    "df_dsc.describe()"
   ]
  },
  {
   "cell_type": "code",
   "execution_count": 81,
   "metadata": {},
   "outputs": [
    {
     "data": {
      "image/png": "[encoded data removed]",
      "text/plain": [
       "<Figure size 1152x576 with 2 Axes>"
      ]
     },
     "metadata": {
      "needs_background": "light"
     },
     "output_type": "display_data"
    }
   ],
   "source": [
    "plot_distribution(df_dsc['Salary L'], title=\"Salary (Lower Bound)\")"
   ]
  },
  {
   "cell_type": "code",
   "execution_count": 82,
   "metadata": {},
   "outputs": [
    {
     "data": {
      "image/png": "[encoded data removed]",
      "text/plain": [
       "<Figure size 1152x576 with 2 Axes>"
      ]
     },
     "metadata": {
      "needs_background": "light"
     },
     "output_type": "display_data"
    }
   ],
   "source": [
    "plot_distribution(df_dsc['Salary U'], title=\"Salary (Upper Bound)\")"
   ]
  },
  {
   "cell_type": "code",
   "execution_count": 83,
   "metadata": {},
   "outputs": [
    {
     "data": {
      "image/png": "[encoded data removed]",
      "text/plain": [
       "<Figure size 1152x576 with 2 Axes>"
      ]
     },
     "metadata": {
      "needs_background": "light"
     },
     "output_type": "display_data"
    }
   ],
   "source": [
    "plot_distribution(df_dsc['Salary M'], title=\"Salary (Mean)\")"
   ]
  },
  {
   "cell_type": "markdown",
   "metadata": {},
   "source": [
    "#### Without outliers"
   ]
  },
  {
   "cell_type": "code",
   "execution_count": 84,
   "metadata": {},
   "outputs": [
    {
     "data": {
      "text/plain": [
       "count       67.000000\n",
       "mean      6376.554726\n",
       "std       3689.238982\n",
       "min        500.000000\n",
       "25%       4000.000000\n",
       "50%       4500.000000\n",
       "75%       8997.000000\n",
       "max      15000.000000\n",
       "Name: Salary M, dtype: float64"
      ]
     },
     "execution_count": 84,
     "metadata": {},
     "output_type": "execute_result"
    }
   ],
   "source": [
    "ds_salary = remove_outliers(df_dsc['Salary M'])\n",
    "ds_salary.describe()"
   ]
  },
  {
   "cell_type": "code",
   "execution_count": 85,
   "metadata": {},
   "outputs": [
    {
     "data": {
      "image/png": "[encoded data removed]",
      "text/plain": [
       "<Figure size 1152x576 with 2 Axes>"
      ]
     },
     "metadata": {
      "needs_background": "light"
     },
     "output_type": "display_data"
    }
   ],
   "source": [
    "plot_distribution(ds_salary, title=\"Salary\")"
   ]
  },
  {
   "cell_type": "markdown",
   "metadata": {},
   "source": [
    "### Machine Learning Engineer"
   ]
  },
  {
   "cell_type": "code",
   "execution_count": 86,
   "metadata": {},
   "outputs": [
    {
     "data": {
      "text/html": [
       "<div>\n",
       "<style scoped>\n",
       "    .dataframe tbody tr th:only-of-type {\n",
       "        vertical-align: middle;\n",
       "    }\n",
       "\n",
       "    .dataframe tbody tr th {\n",
       "        vertical-align: top;\n",
       "    }\n",
       "\n",
       "    .dataframe thead th {\n",
       "        text-align: right;\n",
       "    }\n",
       "</style>\n",
       "<table border=\"1\" class=\"dataframe\">\n",
       "  <thead>\n",
       "    <tr style=\"text-align: right;\">\n",
       "      <th></th>\n",
       "      <th>Job_Title</th>\n",
       "      <th>Salary</th>\n",
       "      <th>Levels</th>\n",
       "      <th>Salary L</th>\n",
       "      <th>Salary U</th>\n",
       "      <th>Salary M</th>\n",
       "    </tr>\n",
       "  </thead>\n",
       "  <tbody>\n",
       "    <tr>\n",
       "      <th>count</th>\n",
       "      <td>302</td>\n",
       "      <td>302</td>\n",
       "      <td>302</td>\n",
       "      <td>302.0</td>\n",
       "      <td>302.0</td>\n",
       "      <td>302.0</td>\n",
       "    </tr>\n",
       "    <tr>\n",
       "      <th>unique</th>\n",
       "      <td>184</td>\n",
       "      <td>1</td>\n",
       "      <td>14</td>\n",
       "      <td>NaN</td>\n",
       "      <td>NaN</td>\n",
       "      <td>NaN</td>\n",
       "    </tr>\n",
       "    <tr>\n",
       "      <th>top</th>\n",
       "      <td>Senior Data Engineer</td>\n",
       "      <td>0</td>\n",
       "      <td>Mid Level</td>\n",
       "      <td>NaN</td>\n",
       "      <td>NaN</td>\n",
       "      <td>NaN</td>\n",
       "    </tr>\n",
       "    <tr>\n",
       "      <th>freq</th>\n",
       "      <td>14</td>\n",
       "      <td>302</td>\n",
       "      <td>63</td>\n",
       "      <td>NaN</td>\n",
       "      <td>NaN</td>\n",
       "      <td>NaN</td>\n",
       "    </tr>\n",
       "    <tr>\n",
       "      <th>mean</th>\n",
       "      <td>NaN</td>\n",
       "      <td>NaN</td>\n",
       "      <td>NaN</td>\n",
       "      <td>0.0</td>\n",
       "      <td>0.0</td>\n",
       "      <td>0.0</td>\n",
       "    </tr>\n",
       "    <tr>\n",
       "      <th>std</th>\n",
       "      <td>NaN</td>\n",
       "      <td>NaN</td>\n",
       "      <td>NaN</td>\n",
       "      <td>0.0</td>\n",
       "      <td>0.0</td>\n",
       "      <td>0.0</td>\n",
       "    </tr>\n",
       "    <tr>\n",
       "      <th>min</th>\n",
       "      <td>NaN</td>\n",
       "      <td>NaN</td>\n",
       "      <td>NaN</td>\n",
       "      <td>0.0</td>\n",
       "      <td>0.0</td>\n",
       "      <td>0.0</td>\n",
       "    </tr>\n",
       "    <tr>\n",
       "      <th>25%</th>\n",
       "      <td>NaN</td>\n",
       "      <td>NaN</td>\n",
       "      <td>NaN</td>\n",
       "      <td>0.0</td>\n",
       "      <td>0.0</td>\n",
       "      <td>0.0</td>\n",
       "    </tr>\n",
       "    <tr>\n",
       "      <th>50%</th>\n",
       "      <td>NaN</td>\n",
       "      <td>NaN</td>\n",
       "      <td>NaN</td>\n",
       "      <td>0.0</td>\n",
       "      <td>0.0</td>\n",
       "      <td>0.0</td>\n",
       "    </tr>\n",
       "    <tr>\n",
       "      <th>75%</th>\n",
       "      <td>NaN</td>\n",
       "      <td>NaN</td>\n",
       "      <td>NaN</td>\n",
       "      <td>0.0</td>\n",
       "      <td>0.0</td>\n",
       "      <td>0.0</td>\n",
       "    </tr>\n",
       "    <tr>\n",
       "      <th>max</th>\n",
       "      <td>NaN</td>\n",
       "      <td>NaN</td>\n",
       "      <td>NaN</td>\n",
       "      <td>0.0</td>\n",
       "      <td>0.0</td>\n",
       "      <td>0.0</td>\n",
       "    </tr>\n",
       "  </tbody>\n",
       "</table>\n",
       "</div>"
      ],
      "text/plain": [
       "                   Job_Title Salary     Levels  Salary L  Salary U  Salary M\n",
       "count                    302    302        302     302.0     302.0     302.0\n",
       "unique                   184      1         14       NaN       NaN       NaN\n",
       "top     Senior Data Engineer      0  Mid Level       NaN       NaN       NaN\n",
       "freq                      14    302         63       NaN       NaN       NaN\n",
       "mean                     NaN    NaN        NaN       0.0       0.0       0.0\n",
       "std                      NaN    NaN        NaN       0.0       0.0       0.0\n",
       "min                      NaN    NaN        NaN       0.0       0.0       0.0\n",
       "25%                      NaN    NaN        NaN       0.0       0.0       0.0\n",
       "50%                      NaN    NaN        NaN       0.0       0.0       0.0\n",
       "75%                      NaN    NaN        NaN       0.0       0.0       0.0\n",
       "max                      NaN    NaN        NaN       0.0       0.0       0.0"
      ]
     },
     "execution_count": 86,
     "metadata": {},
     "output_type": "execute_result"
    }
   ],
   "source": [
    "df_mles = df_mlec.loc[df_mlec['Salary'] == '0']\n",
    "df_mlec = df_mlec.loc[df_mlec['Salary'] != '0']\n",
    "df_mles.describe(include='all')"
   ]
  },
  {
   "cell_type": "code",
   "execution_count": 87,
   "metadata": {},
   "outputs": [
    {
     "data": {
      "text/html": [
       "<div>\n",
       "<style scoped>\n",
       "    .dataframe tbody tr th:only-of-type {\n",
       "        vertical-align: middle;\n",
       "    }\n",
       "\n",
       "    .dataframe tbody tr th {\n",
       "        vertical-align: top;\n",
       "    }\n",
       "\n",
       "    .dataframe thead th {\n",
       "        text-align: right;\n",
       "    }\n",
       "</style>\n",
       "<table border=\"1\" class=\"dataframe\">\n",
       "  <thead>\n",
       "    <tr style=\"text-align: right;\">\n",
       "      <th></th>\n",
       "      <th>Salary L</th>\n",
       "      <th>Salary U</th>\n",
       "      <th>Salary M</th>\n",
       "    </tr>\n",
       "  </thead>\n",
       "  <tbody>\n",
       "    <tr>\n",
       "      <th>count</th>\n",
       "      <td>67.000000</td>\n",
       "      <td>67.000000</td>\n",
       "      <td>67.000000</td>\n",
       "    </tr>\n",
       "    <tr>\n",
       "      <th>mean</th>\n",
       "      <td>5360.656716</td>\n",
       "      <td>8040.716418</td>\n",
       "      <td>6700.686567</td>\n",
       "    </tr>\n",
       "    <tr>\n",
       "      <th>std</th>\n",
       "      <td>3305.367946</td>\n",
       "      <td>4705.378479</td>\n",
       "      <td>3935.638804</td>\n",
       "    </tr>\n",
       "    <tr>\n",
       "      <th>min</th>\n",
       "      <td>500.000000</td>\n",
       "      <td>500.000000</td>\n",
       "      <td>500.000000</td>\n",
       "    </tr>\n",
       "    <tr>\n",
       "      <th>25%</th>\n",
       "      <td>2550.000000</td>\n",
       "      <td>4750.000000</td>\n",
       "      <td>3875.000000</td>\n",
       "    </tr>\n",
       "    <tr>\n",
       "      <th>50%</th>\n",
       "      <td>4500.000000</td>\n",
       "      <td>7500.000000</td>\n",
       "      <td>6250.000000</td>\n",
       "    </tr>\n",
       "    <tr>\n",
       "      <th>75%</th>\n",
       "      <td>9000.000000</td>\n",
       "      <td>13000.000000</td>\n",
       "      <td>11000.000000</td>\n",
       "    </tr>\n",
       "    <tr>\n",
       "      <th>max</th>\n",
       "      <td>13000.000000</td>\n",
       "      <td>20000.000000</td>\n",
       "      <td>15000.000000</td>\n",
       "    </tr>\n",
       "  </tbody>\n",
       "</table>\n",
       "</div>"
      ],
      "text/plain": [
       "           Salary L      Salary U      Salary M\n",
       "count     67.000000     67.000000     67.000000\n",
       "mean    5360.656716   8040.716418   6700.686567\n",
       "std     3305.367946   4705.378479   3935.638804\n",
       "min      500.000000    500.000000    500.000000\n",
       "25%     2550.000000   4750.000000   3875.000000\n",
       "50%     4500.000000   7500.000000   6250.000000\n",
       "75%     9000.000000  13000.000000  11000.000000\n",
       "max    13000.000000  20000.000000  15000.000000"
      ]
     },
     "execution_count": 87,
     "metadata": {},
     "output_type": "execute_result"
    }
   ],
   "source": [
    "df_mlec.describe()"
   ]
  },
  {
   "cell_type": "code",
   "execution_count": 88,
   "metadata": {},
   "outputs": [
    {
     "data": {
      "image/png": "[encoded data removed]",
      "text/plain": [
       "<Figure size 1152x576 with 2 Axes>"
      ]
     },
     "metadata": {
      "needs_background": "light"
     },
     "output_type": "display_data"
    }
   ],
   "source": [
    "plot_distribution(df_mlec['Salary L'], title=\"Salary (Lower Bound)\")"
   ]
  },
  {
   "cell_type": "code",
   "execution_count": 89,
   "metadata": {},
   "outputs": [
    {
     "data": {
      "image/png": "[encoded data removed]",
      "text/plain": [
       "<Figure size 1152x576 with 2 Axes>"
      ]
     },
     "metadata": {
      "needs_background": "light"
     },
     "output_type": "display_data"
    }
   ],
   "source": [
    "plot_distribution(df_mlec['Salary U'], title=\"Salary (Upper Bound)\")"
   ]
  },
  {
   "cell_type": "code",
   "execution_count": 90,
   "metadata": {},
   "outputs": [
    {
     "data": {
      "image/png": "[encoded data removed]",
      "text/plain": [
       "<Figure size 1152x576 with 2 Axes>"
      ]
     },
     "metadata": {
      "needs_background": "light"
     },
     "output_type": "display_data"
    }
   ],
   "source": [
    "plot_distribution(df_mlec['Salary M'], title=\"Salary (Mean)\")"
   ]
  },
  {
   "cell_type": "markdown",
   "metadata": {},
   "source": [
    "#### Without outliers"
   ]
  },
  {
   "cell_type": "code",
   "execution_count": 91,
   "metadata": {},
   "outputs": [
    {
     "data": {
      "text/plain": [
       "count       67.000000\n",
       "mean      6700.686567\n",
       "std       3935.638804\n",
       "min        500.000000\n",
       "25%       3875.000000\n",
       "50%       6250.000000\n",
       "75%      11000.000000\n",
       "max      15000.000000\n",
       "Name: Salary M, dtype: float64"
      ]
     },
     "execution_count": 91,
     "metadata": {},
     "output_type": "execute_result"
    }
   ],
   "source": [
    "mle_salary = remove_outliers(df_mlec['Salary M'])\n",
    "mle_salary.describe()"
   ]
  },
  {
   "cell_type": "code",
   "execution_count": 92,
   "metadata": {},
   "outputs": [
    {
     "data": {
      "image/png": "[encoded data removed]",
      "text/plain": [
       "<Figure size 1152x576 with 2 Axes>"
      ]
     },
     "metadata": {
      "needs_background": "light"
     },
     "output_type": "display_data"
    }
   ],
   "source": [
    "plot_distribution(mle_salary, title=\"Salary\")"
   ]
  },
  {
   "cell_type": "markdown",
   "metadata": {},
   "source": [
    "# Data Distribution By Title"
   ]
  },
  {
   "cell_type": "markdown",
   "metadata": {},
   "source": [
    "## Data Analyst"
   ]
  },
  {
   "cell_type": "code",
   "execution_count": 69,
   "metadata": {},
   "outputs": [],
   "source": [
    "def describe_and_plot(df, level, outliers=True):\n",
    "    df_temp = df[df['Levels'].str.contains(level, na=False)]\n",
    "    if not outliers:\n",
    "        df_temp['Salary L'] = remove_outliers(df_temp['Salary L'])\n",
    "        df_temp['Salary U'] = remove_outliers(df_temp['Salary U'])\n",
    "        df_temp['Salary M'] = remove_outliers(df_temp['Salary M'])\n",
    "    print(df_temp.describe())\n",
    "    print()\n",
    "    plot_distribution(df_temp['Salary M'], title=\"Salary ({})\".format(level))"
   ]
  },
  {
   "cell_type": "markdown",
   "metadata": {},
   "source": [
    "### Junior"
   ]
  },
  {
   "cell_type": "code",
   "execution_count": 70,
   "metadata": {},
   "outputs": [
    {
     "name": "stdout",
     "output_type": "stream",
     "text": [
      "           Salary L      Salary U      Salary M\n",
      "count    226.000000    226.000000    226.000000\n",
      "mean    3379.966814   4565.522861   3972.744838\n",
      "std     1319.799742   2061.150049   1642.911162\n",
      "min      500.000000    500.000000    500.000000\n",
      "25%     2725.000000   3500.000000   3100.000000\n",
      "50%     3500.000000   4500.000000   4000.000000\n",
      "75%     4000.000000   5000.000000   4500.000000\n",
      "max    10000.000000  17000.000000  13500.000000\n",
      "\n"
     ]
    },
    {
     "data": {
      "image/png": "[encoded data removed]",
      "text/plain": [
       "<Figure size 1152x576 with 2 Axes>"
      ]
     },
     "metadata": {
      "needs_background": "light"
     },
     "output_type": "display_data"
    }
   ],
   "source": [
    "describe_and_plot(df_dac, \"Junior\")"
   ]
  },
  {
   "cell_type": "code",
   "execution_count": 71,
   "metadata": {},
   "outputs": [
    {
     "name": "stdout",
     "output_type": "stream",
     "text": [
      "          Salary L     Salary U     Salary M\n",
      "count   212.000000   196.000000   207.000000\n",
      "mean   3361.191038  4335.245748  3854.140097\n",
      "std     995.302844  1092.557847  1084.190228\n",
      "min    1000.000000  1500.000000  1000.000000\n",
      "25%    2800.000000  3500.000000  3150.000000\n",
      "50%    3500.000000  4500.000000  4000.000000\n",
      "75%    4000.000000  5000.000000  4250.000000\n",
      "max    5833.333333  7200.000000  6500.000000\n",
      "\n"
     ]
    },
    {
     "data": {
      "image/png": "[encoded data removed]",
      "text/plain": [
       "<Figure size 1152x576 with 2 Axes>"
      ]
     },
     "metadata": {
      "needs_background": "light"
     },
     "output_type": "display_data"
    }
   ],
   "source": [
    "describe_and_plot(df_dac, \"Junior\", outliers=False)"
   ]
  },
  {
   "cell_type": "markdown",
   "metadata": {},
   "source": [
    "### Mid Level"
   ]
  },
  {
   "cell_type": "code",
   "execution_count": 72,
   "metadata": {},
   "outputs": [
    {
     "name": "stdout",
     "output_type": "stream",
     "text": [
      "           Salary L      Salary U      Salary M\n",
      "count    331.000000    331.000000    331.000000\n",
      "mean    5232.972462   7190.234990   6211.603726\n",
      "std     2846.200536   3292.253624   2961.230449\n",
      "min      300.000000    500.000000    400.000000\n",
      "25%     3500.000000   5000.000000   4500.000000\n",
      "50%     4500.000000   7000.000000   5625.000000\n",
      "75%     6000.000000   9000.000000   7500.000000\n",
      "max    24000.000000  25000.000000  24000.000000\n",
      "\n"
     ]
    },
    {
     "data": {
      "image/png": "[encoded data removed]",
      "text/plain": [
       "<Figure size 1152x576 with 2 Axes>"
      ]
     },
     "metadata": {
      "needs_background": "light"
     },
     "output_type": "display_data"
    }
   ],
   "source": [
    "describe_and_plot(df_dac, \"Mid Level\")"
   ]
  },
  {
   "cell_type": "code",
   "execution_count": 73,
   "metadata": {},
   "outputs": [
    {
     "name": "stdout",
     "output_type": "stream",
     "text": [
      "          Salary L      Salary U      Salary M\n",
      "count   311.000000    325.000000    321.000000\n",
      "mean   4739.916029   6935.285482   5889.535306\n",
      "std    1865.399033   2689.408685   2256.162547\n",
      "min     300.000000    500.000000    400.000000\n",
      "25%    3500.000000   5000.000000   4500.000000\n",
      "50%    4500.000000   6500.000000   5500.000000\n",
      "75%    6000.000000   8500.000000   7150.000000\n",
      "max    9000.000000  15000.000000  12000.000000\n",
      "\n"
     ]
    },
    {
     "data": {
      "image/png": "[encoded data removed]",
      "text/plain": [
       "<Figure size 1152x576 with 2 Axes>"
      ]
     },
     "metadata": {
      "needs_background": "light"
     },
     "output_type": "display_data"
    }
   ],
   "source": [
    "describe_and_plot(df_dac, \"Mid Level\", outliers=False)"
   ]
  },
  {
   "cell_type": "markdown",
   "metadata": {},
   "source": [
    "### Senior"
   ]
  },
  {
   "cell_type": "code",
   "execution_count": 74,
   "metadata": {},
   "outputs": [
    {
     "name": "stdout",
     "output_type": "stream",
     "text": [
      "           Salary L      Salary U      Salary M\n",
      "count    174.000000    174.000000    174.000000\n",
      "mean    5891.909684   7880.529780   6886.219732\n",
      "std     3952.609532   4488.735597   4123.181668\n",
      "min      998.400000    998.400000    998.400000\n",
      "25%     3575.000000   4800.000000   4250.000000\n",
      "50%     4800.000000   7000.000000   6000.000000\n",
      "75%     7000.000000   9500.000000   8187.500000\n",
      "max    24000.000000  25000.000000  24000.000000\n",
      "\n"
     ]
    },
    {
     "data": {
      "image/png": "[encoded data removed]",
      "text/plain": [
       "<Figure size 1152x576 with 2 Axes>"
      ]
     },
     "metadata": {
      "needs_background": "light"
     },
     "output_type": "display_data"
    }
   ],
   "source": [
    "describe_and_plot(df_dac, \"Senior\")"
   ]
  },
  {
   "cell_type": "code",
   "execution_count": 75,
   "metadata": {},
   "outputs": [
    {
     "name": "stdout",
     "output_type": "stream",
     "text": [
      "           Salary L      Salary U      Salary M\n",
      "count    163.000000    162.000000    162.000000\n",
      "mean    5077.866779   6921.062850   6010.507613\n",
      "std     2246.367877   2756.845495   2482.857573\n",
      "min      998.400000    998.400000    998.400000\n",
      "25%     3500.000000   4525.000000   4250.000000\n",
      "50%     4600.000000   7000.000000   5750.000000\n",
      "75%     6000.000000   9000.000000   7500.000000\n",
      "max    12000.000000  14500.000000  14000.000000\n",
      "\n"
     ]
    },
    {
     "data": {
      "image/png": "[encoded data removed]",
      "text/plain": [
       "<Figure size 1152x576 with 2 Axes>"
      ]
     },
     "metadata": {
      "needs_background": "light"
     },
     "output_type": "display_data"
    }
   ],
   "source": [
    "describe_and_plot(df_dac, \"Senior\", outliers=False)"
   ]
  },
  {
   "cell_type": "markdown",
   "metadata": {},
   "source": [
    "## Data Engineer"
   ]
  },
  {
   "cell_type": "markdown",
   "metadata": {},
   "source": [
    "### Junior"
   ]
  },
  {
   "cell_type": "code",
   "execution_count": 76,
   "metadata": {},
   "outputs": [
    {
     "name": "stdout",
     "output_type": "stream",
     "text": [
      "           Salary L      Salary U      Salary M\n",
      "count     20.000000     20.000000     20.000000\n",
      "mean    3197.500000   4632.500000   3915.000000\n",
      "std     2157.390907   3334.519416   2738.137092\n",
      "min      500.000000    500.000000    500.000000\n",
      "25%     1500.000000   2500.000000   1987.500000\n",
      "50%     3000.000000   4500.000000   3750.000000\n",
      "75%     4000.000000   5625.000000   5000.000000\n",
      "max    10000.000000  15000.000000  12500.000000\n",
      "\n"
     ]
    },
    {
     "data": {
      "image/png": "[encoded data removed]",
      "text/plain": [
       "<Figure size 1152x576 with 2 Axes>"
      ]
     },
     "metadata": {
      "needs_background": "light"
     },
     "output_type": "display_data"
    }
   ],
   "source": [
    "describe_and_plot(df_dec, \"Junior\")"
   ]
  },
  {
   "cell_type": "code",
   "execution_count": 77,
   "metadata": {
    "scrolled": false
   },
   "outputs": [
    {
     "name": "stdout",
     "output_type": "stream",
     "text": [
      "          Salary L     Salary U     Salary M\n",
      "count    19.000000    19.000000    19.000000\n",
      "mean   2839.473684  4086.842105  3463.157895\n",
      "std    1485.539459  2334.752075  1898.379580\n",
      "min     500.000000   500.000000   500.000000\n",
      "25%    1500.000000  2200.000000  1825.000000\n",
      "50%    3000.000000  4500.000000  3750.000000\n",
      "75%    4000.000000  5250.000000  4750.000000\n",
      "max    6000.000000  9000.000000  7500.000000\n",
      "\n"
     ]
    },
    {
     "data": {
      "image/png": "[encoded data removed]",
      "text/plain": [
       "<Figure size 1152x576 with 2 Axes>"
      ]
     },
     "metadata": {
      "needs_background": "light"
     },
     "output_type": "display_data"
    }
   ],
   "source": [
    "describe_and_plot(df_dec, \"Junior\", outliers=False)"
   ]
  },
  {
   "cell_type": "markdown",
   "metadata": {},
   "source": [
    "### Mid Level"
   ]
  },
  {
   "cell_type": "code",
   "execution_count": 78,
   "metadata": {},
   "outputs": [
    {
     "name": "stdout",
     "output_type": "stream",
     "text": [
      "           Salary L      Salary U      Salary M\n",
      "count     50.000000     50.000000     50.000000\n",
      "mean    5206.333333   7377.000000   6291.666667\n",
      "std     2610.702918   3703.049075   3055.771277\n",
      "min      300.000000    300.000000    300.000000\n",
      "25%     3125.000000   5000.000000   4500.000000\n",
      "50%     4500.000000   7000.000000   5750.000000\n",
      "75%     7000.000000   9750.000000   7947.916667\n",
      "max    12000.000000  16000.000000  12500.000000\n",
      "\n"
     ]
    },
    {
     "data": {
      "image/png": "[encoded data removed]",
      "text/plain": [
       "<Figure size 1152x576 with 2 Axes>"
      ]
     },
     "metadata": {
      "needs_background": "light"
     },
     "output_type": "display_data"
    }
   ],
   "source": [
    "describe_and_plot(df_dec, \"Mid Level\")"
   ]
  },
  {
   "cell_type": "code",
   "execution_count": 79,
   "metadata": {},
   "outputs": [
    {
     "name": "stdout",
     "output_type": "stream",
     "text": [
      "           Salary L      Salary U      Salary M\n",
      "count     50.000000     50.000000     50.000000\n",
      "mean    5206.333333   7377.000000   6291.666667\n",
      "std     2610.702918   3703.049075   3055.771277\n",
      "min      300.000000    300.000000    300.000000\n",
      "25%     3125.000000   5000.000000   4500.000000\n",
      "50%     4500.000000   7000.000000   5750.000000\n",
      "75%     7000.000000   9750.000000   7947.916667\n",
      "max    12000.000000  16000.000000  12500.000000\n",
      "\n"
     ]
    },
    {
     "data": {
      "image/png": "[encoded data removed]",
      "text/plain": [
       "<Figure size 1152x576 with 2 Axes>"
      ]
     },
     "metadata": {
      "needs_background": "light"
     },
     "output_type": "display_data"
    }
   ],
   "source": [
    "describe_and_plot(df_dec, \"Mid Level\", outliers=False)"
   ]
  },
  {
   "cell_type": "markdown",
   "metadata": {},
   "source": [
    "### Senior"
   ]
  },
  {
   "cell_type": "code",
   "execution_count": 80,
   "metadata": {},
   "outputs": [
    {
     "name": "stdout",
     "output_type": "stream",
     "text": [
      "           Salary L      Salary U      Salary M\n",
      "count     31.000000     31.000000     31.000000\n",
      "mean    6239.784946   8437.096774   7338.440860\n",
      "std     2631.752963   3783.428069   3164.653364\n",
      "min      800.000000   1000.000000    900.000000\n",
      "25%     4500.000000   5750.000000   5125.000000\n",
      "50%     7000.000000   8000.000000   7250.000000\n",
      "75%     8500.000000  10250.000000   9125.000000\n",
      "max    10000.000000  16000.000000  12500.000000\n",
      "\n"
     ]
    },
    {
     "data": {
      "image/png": "[encoded data removed]",
      "text/plain": [
       "<Figure size 1152x576 with 2 Axes>"
      ]
     },
     "metadata": {
      "needs_background": "light"
     },
     "output_type": "display_data"
    }
   ],
   "source": [
    "describe_and_plot(df_dec, \"Senior\")"
   ]
  },
  {
   "cell_type": "code",
   "execution_count": 81,
   "metadata": {},
   "outputs": [
    {
     "name": "stdout",
     "output_type": "stream",
     "text": [
      "           Salary L      Salary U      Salary M\n",
      "count     31.000000     31.000000     31.000000\n",
      "mean    6239.784946   8437.096774   7338.440860\n",
      "std     2631.752963   3783.428069   3164.653364\n",
      "min      800.000000   1000.000000    900.000000\n",
      "25%     4500.000000   5750.000000   5125.000000\n",
      "50%     7000.000000   8000.000000   7250.000000\n",
      "75%     8500.000000  10250.000000   9125.000000\n",
      "max    10000.000000  16000.000000  12500.000000\n",
      "\n"
     ]
    },
    {
     "data": {
      "image/png": "[encoded data removed]",
      "text/plain": [
       "<Figure size 1152x576 with 2 Axes>"
      ]
     },
     "metadata": {
      "needs_background": "light"
     },
     "output_type": "display_data"
    }
   ],
   "source": [
    "describe_and_plot(df_dec, \"Senior\", outliers=False)"
   ]
  },
  {
   "cell_type": "markdown",
   "metadata": {},
   "source": [
    "## Data Scientist"
   ]
  },
  {
   "cell_type": "markdown",
   "metadata": {},
   "source": [
    "### Junior"
   ]
  },
  {
   "cell_type": "code",
   "execution_count": 82,
   "metadata": {},
   "outputs": [
    {
     "name": "stdout",
     "output_type": "stream",
     "text": [
      "          Salary L     Salary U      Salary M\n",
      "count    25.000000     25.00000     25.000000\n",
      "mean   3804.000000   5120.00000   4462.000000\n",
      "std    1618.507543   2484.45165   1977.176016\n",
      "min     500.000000    500.00000    500.000000\n",
      "25%    3500.000000   4500.00000   4000.000000\n",
      "50%    3500.000000   4500.00000   4000.000000\n",
      "75%    4000.000000   5000.00000   4500.000000\n",
      "max    9000.000000  13000.00000  10500.000000\n",
      "\n"
     ]
    },
    {
     "data": {
      "image/png": "[encoded data removed]",
      "text/plain": [
       "<Figure size 1152x576 with 2 Axes>"
      ]
     },
     "metadata": {
      "needs_background": "light"
     },
     "output_type": "display_data"
    }
   ],
   "source": [
    "describe_and_plot(df_dsc, \"Junior\")"
   ]
  },
  {
   "cell_type": "code",
   "execution_count": 83,
   "metadata": {
    "scrolled": false
   },
   "outputs": [
    {
     "name": "stdout",
     "output_type": "stream",
     "text": [
      "          Salary L     Salary U     Salary M\n",
      "count    20.000000    17.000000    17.000000\n",
      "mean   3640.000000  4588.235294  4102.941176\n",
      "std     387.162417   196.476312   198.801556\n",
      "min    2800.000000  4500.000000  4000.000000\n",
      "25%    3500.000000  4500.000000  4000.000000\n",
      "50%    3500.000000  4500.000000  4000.000000\n",
      "75%    3625.000000  4500.000000  4000.000000\n",
      "max    4500.000000  5000.000000  4500.000000\n",
      "\n"
     ]
    },
    {
     "data": {
      "image/png": "[encoded data removed]",
      "text/plain": [
       "<Figure size 1152x576 with 2 Axes>"
      ]
     },
     "metadata": {
      "needs_background": "light"
     },
     "output_type": "display_data"
    }
   ],
   "source": [
    "describe_and_plot(df_dsc, \"Junior\", outliers=False)"
   ]
  },
  {
   "cell_type": "markdown",
   "metadata": {},
   "source": [
    "### Mid Level"
   ]
  },
  {
   "cell_type": "code",
   "execution_count": 84,
   "metadata": {},
   "outputs": [
    {
     "name": "stdout",
     "output_type": "stream",
     "text": [
      "           Salary L      Salary U      Salary M\n",
      "count     36.000000     36.000000     36.000000\n",
      "mean    5561.898148   8734.166667   7148.032407\n",
      "std     3494.961766   5484.701682   4394.688031\n",
      "min      833.333333   1250.000000   1041.666667\n",
      "25%     2763.000000   4500.000000   3500.000000\n",
      "50%     4500.000000   9400.000000   6997.000000\n",
      "75%     7972.000000  10005.500000   9000.000000\n",
      "max    20000.000000  30000.000000  25000.000000\n",
      "\n"
     ]
    },
    {
     "data": {
      "image/png": "[encoded data removed]",
      "text/plain": [
       "<Figure size 1152x576 with 2 Axes>"
      ]
     },
     "metadata": {
      "needs_background": "light"
     },
     "output_type": "display_data"
    }
   ],
   "source": [
    "describe_and_plot(df_dsc, \"Mid Level\")"
   ]
  },
  {
   "cell_type": "code",
   "execution_count": 85,
   "metadata": {},
   "outputs": [
    {
     "name": "stdout",
     "output_type": "stream",
     "text": [
      "           Salary L      Salary U      Salary M\n",
      "count     35.000000     35.000000     35.000000\n",
      "mean    5149.380952   8126.571429   6637.976190\n",
      "std     2503.537325   4157.599889   3200.030547\n",
      "min      833.333333   1250.000000   1041.666667\n",
      "25%     2726.000000   4500.000000   3500.000000\n",
      "50%     4500.000000   9000.000000   6744.000000\n",
      "75%     7486.000000  10000.000000   8998.500000\n",
      "max    10000.000000  18000.000000  14000.000000\n",
      "\n"
     ]
    },
    {
     "data": {
      "image/png": "[encoded data removed]",
      "text/plain": [
       "<Figure size 1152x576 with 2 Axes>"
      ]
     },
     "metadata": {
      "needs_background": "light"
     },
     "output_type": "display_data"
    }
   ],
   "source": [
    "describe_and_plot(df_dsc, \"Mid Level\", outliers=False)"
   ]
  },
  {
   "cell_type": "markdown",
   "metadata": {},
   "source": [
    "### Senior"
   ]
  },
  {
   "cell_type": "code",
   "execution_count": 86,
   "metadata": {},
   "outputs": [
    {
     "name": "stdout",
     "output_type": "stream",
     "text": [
      "           Salary L      Salary U      Salary M\n",
      "count     26.000000     26.000000     26.000000\n",
      "mean    8353.846154  11211.538462   9782.692308\n",
      "std     6063.281670   7908.442422   6874.284578\n",
      "min     3000.000000   4500.000000   4000.000000\n",
      "25%     3500.000000   4500.000000   4000.000000\n",
      "50%     4250.000000   5250.000000   4925.000000\n",
      "75%    13000.000000  18000.000000  15000.000000\n",
      "max    20000.000000  30000.000000  25000.000000\n",
      "\n"
     ]
    },
    {
     "data": {
      "image/png": "[encoded data removed]",
      "text/plain": [
       "<Figure size 1152x576 with 2 Axes>"
      ]
     },
     "metadata": {
      "needs_background": "light"
     },
     "output_type": "display_data"
    }
   ],
   "source": [
    "describe_and_plot(df_dsc, \"Senior\")"
   ]
  },
  {
   "cell_type": "code",
   "execution_count": 87,
   "metadata": {
    "scrolled": false
   },
   "outputs": [
    {
     "name": "stdout",
     "output_type": "stream",
     "text": [
      "           Salary L      Salary U      Salary M\n",
      "count     26.000000     26.000000     26.000000\n",
      "mean    8353.846154  11211.538462   9782.692308\n",
      "std     6063.281670   7908.442422   6874.284578\n",
      "min     3000.000000   4500.000000   4000.000000\n",
      "25%     3500.000000   4500.000000   4000.000000\n",
      "50%     4250.000000   5250.000000   4925.000000\n",
      "75%    13000.000000  18000.000000  15000.000000\n",
      "max    20000.000000  30000.000000  25000.000000\n",
      "\n"
     ]
    },
    {
     "data": {
      "image/png": "[encoded data removed]",
      "text/plain": [
       "<Figure size 1152x576 with 2 Axes>"
      ]
     },
     "metadata": {
      "needs_background": "light"
     },
     "output_type": "display_data"
    }
   ],
   "source": [
    "describe_and_plot(df_dsc, \"Senior\", outliers=False)"
   ]
  },
  {
   "cell_type": "markdown",
   "metadata": {},
   "source": [
    "## Machine Learning Engineer"
   ]
  },
  {
   "cell_type": "markdown",
   "metadata": {},
   "source": [
    "### Junior"
   ]
  },
  {
   "cell_type": "code",
   "execution_count": 88,
   "metadata": {},
   "outputs": [
    {
     "name": "stdout",
     "output_type": "stream",
     "text": [
      "           Salary L      Salary U      Salary M\n",
      "count     21.000000     21.000000     21.000000\n",
      "mean    3485.714286   5333.333333   4409.523810\n",
      "std     2830.421473   3957.187553   3347.634204\n",
      "min      500.000000    500.000000    500.000000\n",
      "25%     2000.000000   3000.000000   2650.000000\n",
      "50%     3000.000000   5000.000000   4000.000000\n",
      "75%     3600.000000   6000.000000   4350.000000\n",
      "max    10000.000000  15000.000000  12500.000000\n",
      "\n"
     ]
    },
    {
     "data": {
      "image/png": "[encoded data removed]",
      "text/plain": [
       "<Figure size 1152x576 with 2 Axes>"
      ]
     },
     "metadata": {
      "needs_background": "light"
     },
     "output_type": "display_data"
    }
   ],
   "source": [
    "describe_and_plot(df_mlec, \"Junior\")"
   ]
  },
  {
   "cell_type": "code",
   "execution_count": 89,
   "metadata": {
    "scrolled": false
   },
   "outputs": [
    {
     "name": "stdout",
     "output_type": "stream",
     "text": [
      "          Salary L     Salary U     Salary M\n",
      "count    18.000000    19.000000    18.000000\n",
      "mean   2455.555556  4315.789474  3255.555556\n",
      "std    1232.988823  2433.849981  1683.474077\n",
      "min     500.000000   500.000000   500.000000\n",
      "25%    1625.000000  2750.000000  2162.500000\n",
      "50%    2550.000000  5000.000000  4000.000000\n",
      "75%    3500.000000  5450.000000  4225.000000\n",
      "max    4500.000000  9000.000000  6000.000000\n",
      "\n"
     ]
    },
    {
     "data": {
      "image/png": "[encoded data removed]",
      "text/plain": [
       "<Figure size 1152x576 with 2 Axes>"
      ]
     },
     "metadata": {
      "needs_background": "light"
     },
     "output_type": "display_data"
    }
   ],
   "source": [
    "describe_and_plot(df_mlec, \"Junior\", outliers=False)"
   ]
  },
  {
   "cell_type": "markdown",
   "metadata": {},
   "source": [
    "### Mid Level"
   ]
  },
  {
   "cell_type": "code",
   "execution_count": 90,
   "metadata": {},
   "outputs": [
    {
     "name": "stdout",
     "output_type": "stream",
     "text": [
      "           Salary L      Salary U      Salary M\n",
      "count     46.000000     46.000000     46.000000\n",
      "mean    5877.478261   8741.913043   7309.695652\n",
      "std     3190.181310   4709.635003   3869.987631\n",
      "min      700.000000    700.000000    700.000000\n",
      "25%     4000.000000   5000.000000   4500.000000\n",
      "50%     5000.000000  10000.000000   7500.000000\n",
      "75%     9000.000000  13000.000000  11000.000000\n",
      "max    12000.000000  20000.000000  14600.000000\n",
      "\n"
     ]
    },
    {
     "data": {
      "image/png": "[encoded data removed]",
      "text/plain": [
       "<Figure size 1152x576 with 2 Axes>"
      ]
     },
     "metadata": {
      "needs_background": "light"
     },
     "output_type": "display_data"
    }
   ],
   "source": [
    "describe_and_plot(df_mlec, \"Mid Level\")"
   ]
  },
  {
   "cell_type": "code",
   "execution_count": 91,
   "metadata": {},
   "outputs": [
    {
     "name": "stdout",
     "output_type": "stream",
     "text": [
      "           Salary L      Salary U      Salary M\n",
      "count     46.000000     46.000000     46.000000\n",
      "mean    5877.478261   8741.913043   7309.695652\n",
      "std     3190.181310   4709.635003   3869.987631\n",
      "min      700.000000    700.000000    700.000000\n",
      "25%     4000.000000   5000.000000   4500.000000\n",
      "50%     5000.000000  10000.000000   7500.000000\n",
      "75%     9000.000000  13000.000000  11000.000000\n",
      "max    12000.000000  20000.000000  14600.000000\n",
      "\n"
     ]
    },
    {
     "data": {
      "image/png": "[encoded data removed]",
      "text/plain": [
       "<Figure size 1152x576 with 2 Axes>"
      ]
     },
     "metadata": {
      "needs_background": "light"
     },
     "output_type": "display_data"
    }
   ],
   "source": [
    "describe_and_plot(df_mlec, \"Mid Level\", outliers=False)"
   ]
  },
  {
   "cell_type": "markdown",
   "metadata": {},
   "source": [
    "### Senior"
   ]
  },
  {
   "cell_type": "code",
   "execution_count": 92,
   "metadata": {},
   "outputs": [
    {
     "name": "stdout",
     "output_type": "stream",
     "text": [
      "           Salary L      Salary U      Salary M\n",
      "count     24.000000     24.000000     24.000000\n",
      "mean    8116.666667  11666.666667   9891.666667\n",
      "std     2657.338758   3509.820591   3043.548653\n",
      "min     2300.000000   3000.000000   2650.000000\n",
      "25%     9000.000000  12250.000000  10750.000000\n",
      "50%     9000.000000  13000.000000  11000.000000\n",
      "75%     9000.000000  13000.000000  11000.000000\n",
      "max    13000.000000  17000.000000  15000.000000\n",
      "\n"
     ]
    },
    {
     "data": {
      "image/png": "[encoded data removed]",
      "text/plain": [
       "<Figure size 1152x576 with 2 Axes>"
      ]
     },
     "metadata": {
      "needs_background": "light"
     },
     "output_type": "display_data"
    }
   ],
   "source": [
    "describe_and_plot(df_mlec, \"Senior\")"
   ]
  },
  {
   "cell_type": "code",
   "execution_count": 93,
   "metadata": {
    "scrolled": false
   },
   "outputs": [
    {
     "name": "stdout",
     "output_type": "stream",
     "text": [
      "       Salary L  Salary U  Salary M\n",
      "count      15.0      15.0      15.0\n",
      "mean     9000.0   13000.0   11000.0\n",
      "std         0.0       0.0       0.0\n",
      "min      9000.0   13000.0   11000.0\n",
      "25%      9000.0   13000.0   11000.0\n",
      "50%      9000.0   13000.0   11000.0\n",
      "75%      9000.0   13000.0   11000.0\n",
      "max      9000.0   13000.0   11000.0\n",
      "\n"
     ]
    },
    {
     "data": {
      "image/png": "[encoded data removed]",
      "text/plain": [
       "<Figure size 1152x576 with 2 Axes>"
      ]
     },
     "metadata": {
      "needs_background": "light"
     },
     "output_type": "display_data"
    }
   ],
   "source": [
    "describe_and_plot(df_mlec, \"Senior\", outliers=False)"
   ]
  },
  {
   "cell_type": "markdown",
   "metadata": {},
   "source": [
    "## Sample Counts"
   ]
  },
  {
   "cell_type": "code",
   "execution_count": 118,
   "metadata": {},
   "outputs": [],
   "source": [
    "def sample_count(df_salary, df_without):\n",
    "    df = pd.DataFrame(columns=['Count', 'Junior', 'Mid Level', 'Senior', 'Total'])\n",
    "    # Salary\n",
    "    j_count = df_salary['Levels'].str.contains('Junior').value_counts()[True]\n",
    "    m_count = df_salary['Levels'].str.contains('Mid Level').value_counts()[True]\n",
    "    s_count = df_salary['Levels'].str.contains('Senior').value_counts()[True]\n",
    "    t_count = len(df_salary)\n",
    "    df.loc[0] = ['Salary', j_count, m_count, s_count, t_count]\n",
    "    # Without Salary\n",
    "    j_count = df_without['Levels'].str.contains('Junior').value_counts()[True]\n",
    "    m_count = df_without['Levels'].str.contains('Mid Level').value_counts()[True]\n",
    "    s_count = df_without['Levels'].str.contains('Senior').value_counts()[True]\n",
    "    t_count = len(df_without)\n",
    "    df.loc[1] = ['Without', j_count, m_count, s_count, t_count]\n",
    "    df.loc[2] = df.loc[0] + df.loc[1]\n",
    "    return df"
   ]
  },
  {
   "cell_type": "code",
   "execution_count": 120,
   "metadata": {},
   "outputs": [
    {
     "data": {
      "text/html": [
       "<div>\n",
       "<style scoped>\n",
       "    .dataframe tbody tr th:only-of-type {\n",
       "        vertical-align: middle;\n",
       "    }\n",
       "\n",
       "    .dataframe tbody tr th {\n",
       "        vertical-align: top;\n",
       "    }\n",
       "\n",
       "    .dataframe thead th {\n",
       "        text-align: right;\n",
       "    }\n",
       "</style>\n",
       "<table border=\"1\" class=\"dataframe\">\n",
       "  <thead>\n",
       "    <tr style=\"text-align: right;\">\n",
       "      <th></th>\n",
       "      <th>Count</th>\n",
       "      <th>Junior</th>\n",
       "      <th>Mid Level</th>\n",
       "      <th>Senior</th>\n",
       "      <th>Total</th>\n",
       "    </tr>\n",
       "  </thead>\n",
       "  <tbody>\n",
       "    <tr>\n",
       "      <th>0</th>\n",
       "      <td>Salary</td>\n",
       "      <td>226</td>\n",
       "      <td>331</td>\n",
       "      <td>174</td>\n",
       "      <td>614</td>\n",
       "    </tr>\n",
       "    <tr>\n",
       "      <th>1</th>\n",
       "      <td>Without</td>\n",
       "      <td>429</td>\n",
       "      <td>1529</td>\n",
       "      <td>673</td>\n",
       "      <td>2300</td>\n",
       "    </tr>\n",
       "    <tr>\n",
       "      <th>2</th>\n",
       "      <td>SalaryWithout</td>\n",
       "      <td>655</td>\n",
       "      <td>1860</td>\n",
       "      <td>847</td>\n",
       "      <td>2914</td>\n",
       "    </tr>\n",
       "  </tbody>\n",
       "</table>\n",
       "</div>"
      ],
      "text/plain": [
       "           Count Junior Mid Level Senior Total\n",
       "0         Salary    226       331    174   614\n",
       "1        Without    429      1529    673  2300\n",
       "2  SalaryWithout    655      1860    847  2914"
      ]
     },
     "execution_count": 120,
     "metadata": {},
     "output_type": "execute_result"
    }
   ],
   "source": [
    "sample_count(df_dac, df_das)"
   ]
  },
  {
   "cell_type": "code",
   "execution_count": 121,
   "metadata": {},
   "outputs": [
    {
     "data": {
      "text/html": [
       "<div>\n",
       "<style scoped>\n",
       "    .dataframe tbody tr th:only-of-type {\n",
       "        vertical-align: middle;\n",
       "    }\n",
       "\n",
       "    .dataframe tbody tr th {\n",
       "        vertical-align: top;\n",
       "    }\n",
       "\n",
       "    .dataframe thead th {\n",
       "        text-align: right;\n",
       "    }\n",
       "</style>\n",
       "<table border=\"1\" class=\"dataframe\">\n",
       "  <thead>\n",
       "    <tr style=\"text-align: right;\">\n",
       "      <th></th>\n",
       "      <th>Count</th>\n",
       "      <th>Junior</th>\n",
       "      <th>Mid Level</th>\n",
       "      <th>Senior</th>\n",
       "      <th>Total</th>\n",
       "    </tr>\n",
       "  </thead>\n",
       "  <tbody>\n",
       "    <tr>\n",
       "      <th>0</th>\n",
       "      <td>Salary</td>\n",
       "      <td>95</td>\n",
       "      <td>225</td>\n",
       "      <td>142</td>\n",
       "      <td>759</td>\n",
       "    </tr>\n",
       "    <tr>\n",
       "      <th>1</th>\n",
       "      <td>Without</td>\n",
       "      <td>251</td>\n",
       "      <td>908</td>\n",
       "      <td>661</td>\n",
       "      <td>2634</td>\n",
       "    </tr>\n",
       "    <tr>\n",
       "      <th>2</th>\n",
       "      <td>SalaryWithout</td>\n",
       "      <td>346</td>\n",
       "      <td>1133</td>\n",
       "      <td>803</td>\n",
       "      <td>3393</td>\n",
       "    </tr>\n",
       "  </tbody>\n",
       "</table>\n",
       "</div>"
      ],
      "text/plain": [
       "           Count Junior Mid Level Senior Total\n",
       "0         Salary     95       225    142   759\n",
       "1        Without    251       908    661  2634\n",
       "2  SalaryWithout    346      1133    803  3393"
      ]
     },
     "execution_count": 121,
     "metadata": {},
     "output_type": "execute_result"
    }
   ],
   "source": [
    "sample_count(df_dec, df_des)"
   ]
  },
  {
   "cell_type": "code",
   "execution_count": 122,
   "metadata": {},
   "outputs": [
    {
     "data": {
      "text/html": [
       "<div>\n",
       "<style scoped>\n",
       "    .dataframe tbody tr th:only-of-type {\n",
       "        vertical-align: middle;\n",
       "    }\n",
       "\n",
       "    .dataframe tbody tr th {\n",
       "        vertical-align: top;\n",
       "    }\n",
       "\n",
       "    .dataframe thead th {\n",
       "        text-align: right;\n",
       "    }\n",
       "</style>\n",
       "<table border=\"1\" class=\"dataframe\">\n",
       "  <thead>\n",
       "    <tr style=\"text-align: right;\">\n",
       "      <th></th>\n",
       "      <th>Count</th>\n",
       "      <th>Junior</th>\n",
       "      <th>Mid Level</th>\n",
       "      <th>Senior</th>\n",
       "      <th>Total</th>\n",
       "    </tr>\n",
       "  </thead>\n",
       "  <tbody>\n",
       "    <tr>\n",
       "      <th>0</th>\n",
       "      <td>Salary</td>\n",
       "      <td>25</td>\n",
       "      <td>36</td>\n",
       "      <td>26</td>\n",
       "      <td>72</td>\n",
       "    </tr>\n",
       "    <tr>\n",
       "      <th>1</th>\n",
       "      <td>Without</td>\n",
       "      <td>56</td>\n",
       "      <td>220</td>\n",
       "      <td>119</td>\n",
       "      <td>348</td>\n",
       "    </tr>\n",
       "    <tr>\n",
       "      <th>2</th>\n",
       "      <td>SalaryWithout</td>\n",
       "      <td>81</td>\n",
       "      <td>256</td>\n",
       "      <td>145</td>\n",
       "      <td>420</td>\n",
       "    </tr>\n",
       "  </tbody>\n",
       "</table>\n",
       "</div>"
      ],
      "text/plain": [
       "           Count Junior Mid Level Senior Total\n",
       "0         Salary     25        36     26    72\n",
       "1        Without     56       220    119   348\n",
       "2  SalaryWithout     81       256    145   420"
      ]
     },
     "execution_count": 122,
     "metadata": {},
     "output_type": "execute_result"
    }
   ],
   "source": [
    "sample_count(df_dsc, df_dss)"
   ]
  },
  {
   "cell_type": "code",
   "execution_count": 123,
   "metadata": {},
   "outputs": [
    {
     "data": {
      "text/html": [
       "<div>\n",
       "<style scoped>\n",
       "    .dataframe tbody tr th:only-of-type {\n",
       "        vertical-align: middle;\n",
       "    }\n",
       "\n",
       "    .dataframe tbody tr th {\n",
       "        vertical-align: top;\n",
       "    }\n",
       "\n",
       "    .dataframe thead th {\n",
       "        text-align: right;\n",
       "    }\n",
       "</style>\n",
       "<table border=\"1\" class=\"dataframe\">\n",
       "  <thead>\n",
       "    <tr style=\"text-align: right;\">\n",
       "      <th></th>\n",
       "      <th>Count</th>\n",
       "      <th>Junior</th>\n",
       "      <th>Mid Level</th>\n",
       "      <th>Senior</th>\n",
       "      <th>Total</th>\n",
       "    </tr>\n",
       "  </thead>\n",
       "  <tbody>\n",
       "    <tr>\n",
       "      <th>0</th>\n",
       "      <td>Salary</td>\n",
       "      <td>21</td>\n",
       "      <td>46</td>\n",
       "      <td>25</td>\n",
       "      <td>67</td>\n",
       "    </tr>\n",
       "    <tr>\n",
       "      <th>1</th>\n",
       "      <td>Without</td>\n",
       "      <td>46</td>\n",
       "      <td>171</td>\n",
       "      <td>136</td>\n",
       "      <td>302</td>\n",
       "    </tr>\n",
       "    <tr>\n",
       "      <th>2</th>\n",
       "      <td>SalaryWithout</td>\n",
       "      <td>67</td>\n",
       "      <td>217</td>\n",
       "      <td>161</td>\n",
       "      <td>369</td>\n",
       "    </tr>\n",
       "  </tbody>\n",
       "</table>\n",
       "</div>"
      ],
      "text/plain": [
       "           Count Junior Mid Level Senior Total\n",
       "0         Salary     21        46     25    67\n",
       "1        Without     46       171    136   302\n",
       "2  SalaryWithout     67       217    161   369"
      ]
     },
     "execution_count": 123,
     "metadata": {},
     "output_type": "execute_result"
    }
   ],
   "source": [
    "sample_count(df_mlec, df_mles)"
   ]
  }
 ],
 "metadata": {
  "kernelspec": {
   "display_name": "Python 3",
   "language": "python",
   "name": "python3"
  },
  "language_info": {
   "codemirror_mode": {
    "name": "ipython",
    "version": 3
   },
   "file_extension": ".py",
   "mimetype": "text/x-python",
   "name": "python",
   "nbconvert_exporter": "python",
   "pygments_lexer": "ipython3",
   "version": "3.7.6"
  }
 },
 "nbformat": 4,
 "nbformat_minor": 4
}
