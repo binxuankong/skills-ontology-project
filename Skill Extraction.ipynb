{
 "cells": [
  {
   "cell_type": "code",
   "execution_count": 61,
   "metadata": {},
   "outputs": [],
   "source": [
    "import json\n",
    "import string\n",
    "import pandas as pd\n",
    "import re\n",
    "import difflib\n",
    "import matplotlib.pyplot as plt\n",
    "import seaborn as sns\n",
    "from datetime import datetime as dt\n",
    "from langdetect import detect, DetectorFactory\n",
    "from difflib import get_close_matches as gcm"
   ]
  },
  {
   "cell_type": "code",
   "execution_count": 2,
   "metadata": {},
   "outputs": [
    {
     "data": {
      "text/html": [
       "<div>\n",
       "<style scoped>\n",
       "    .dataframe tbody tr th:only-of-type {\n",
       "        vertical-align: middle;\n",
       "    }\n",
       "\n",
       "    .dataframe tbody tr th {\n",
       "        vertical-align: top;\n",
       "    }\n",
       "\n",
       "    .dataframe thead th {\n",
       "        text-align: right;\n",
       "    }\n",
       "</style>\n",
       "<table border=\"1\" class=\"dataframe\">\n",
       "  <thead>\n",
       "    <tr style=\"text-align: right;\">\n",
       "      <th></th>\n",
       "      <th>skill_id</th>\n",
       "      <th>skill</th>\n",
       "    </tr>\n",
       "  </thead>\n",
       "  <tbody>\n",
       "    <tr>\n",
       "      <th>0</th>\n",
       "      <td>126</td>\n",
       "      <td>Applied Science</td>\n",
       "    </tr>\n",
       "    <tr>\n",
       "      <th>1</th>\n",
       "      <td>139</td>\n",
       "      <td>Art</td>\n",
       "    </tr>\n",
       "    <tr>\n",
       "      <th>2</th>\n",
       "      <td>279</td>\n",
       "      <td>Business</td>\n",
       "    </tr>\n",
       "    <tr>\n",
       "      <th>3</th>\n",
       "      <td>459</td>\n",
       "      <td>Computer Science</td>\n",
       "    </tr>\n",
       "    <tr>\n",
       "      <th>4</th>\n",
       "      <td>589</td>\n",
       "      <td>Data Science</td>\n",
       "    </tr>\n",
       "  </tbody>\n",
       "</table>\n",
       "</div>"
      ],
      "text/plain": [
       "   skill_id             skill\n",
       "0       126   Applied Science\n",
       "1       139               Art\n",
       "2       279          Business\n",
       "3       459  Computer Science\n",
       "4       589      Data Science"
      ]
     },
     "execution_count": 2,
     "metadata": {},
     "output_type": "execute_result"
    }
   ],
   "source": [
    "skills = pd.read_csv('skills_db/skill.csv')\n",
    "skills.head()"
   ]
  },
  {
   "cell_type": "code",
   "execution_count": 3,
   "metadata": {},
   "outputs": [
    {
     "data": {
      "text/plain": [
       "2605"
      ]
     },
     "execution_count": 3,
     "metadata": {},
     "output_type": "execute_result"
    }
   ],
   "source": [
    "sk_list = skills['skill'].tolist()\n",
    "len(sk_list)"
   ]
  },
  {
   "cell_type": "code",
   "execution_count": 4,
   "metadata": {},
   "outputs": [
    {
     "data": {
      "text/plain": [
       "19680"
      ]
     },
     "execution_count": 4,
     "metadata": {},
     "output_type": "execute_result"
    }
   ],
   "source": [
    "with open('resource/job_infos_scrape.json') as f:\n",
    "    jobs = json.load(f)\n",
    "\n",
    "len(jobs)"
   ]
  },
  {
   "cell_type": "code",
   "execution_count": 5,
   "metadata": {},
   "outputs": [
    {
     "data": {
      "text/plain": [
       "{'title': 'SALES ASSOCIATE',\n",
       " 'job_details': '* Under supervision and perform duties to provide technical product assistance/knowledge to customers in order to generate new and repeat sales.\\n* Assist customers in the selection of the best products that suited to their needs and desires and explain use, operation, care of the merchandise products and services to customers.\\n* Explain the terms of sales, availability of the product and delivery dates and related information and process orders to customers.\\n* Handle customers inquiries and complaint.\\n* Keep display items clean and displayable and overall cleanliness of the branch.\\n* To  handle  any  other  job  as  may be  assigned  by  the  superior.\\n\\nLocation : Tropicana Aman, Denai Alam, Wisma WCC, Puchong, Bandar Botanik, Sri Petaling, Pandan Indah, Rawang, Sungai Buloh, Kota Damansara, Kajang, Bangi , Balakong, USJ Taipan, Kota Kemuning, Shah Alam.',\n",
       " 'requirement': 'Permanent| 3 Shift Time |STPM / A Level or Equivalent|Today',\n",
       " 'company': 'GLOBAL PSYTECH SDN BHD\\n|\\nCyberjaya',\n",
       " 'company_details': \"Retail trade, except of motor vehicles and motorcycles\\n50-250 employees\\nShah Alam\\nHLK (Chain-Store) Sdn Bhd is one of the market-leading electrical appliances chain store in Malaysia. Currently, we have 15 branches over Klang Valley & outstation and are still expending. Our vision is to provide innovative products and services which meet or exceed the customer's expectations in the local community and continual improvement by all levels of employees.\\n \\nWe are looking forward for an enthusiasm, dynamic, goal-oriented, aggressive and commercial-minded candidates to join our company and to be part of our growing team. \\n \"}"
      ]
     },
     "execution_count": 5,
     "metadata": {},
     "output_type": "execute_result"
    }
   ],
   "source": [
    "jobs['0']"
   ]
  },
  {
   "cell_type": "code",
   "execution_count": 6,
   "metadata": {},
   "outputs": [
    {
     "data": {
      "text/plain": [
       "{\"Bachelor's or Equivalent\",\n",
       " 'Diploma / Advanced Diploma / Higher Graduate Diploma / DVM / DKM Level 4 / DLKM Level 5',\n",
       " 'Diploma / Advanced Diploma / Higher Graduate Diploma / DVM /…',\n",
       " 'Diploma / Advanced Diploma / Higher Graduate…',\n",
       " 'Doctoral (PhD) or Equivalent',\n",
       " \"Master's or Equivalent\",\n",
       " 'PMR / PT3 or Equivalent',\n",
       " 'Primary Education or Below',\n",
       " 'SPM / O Level / SKM Level 1 / SKM Level 2 / SKM Level 3 or Equivalent',\n",
       " 'SPM / O Level / SKM Level 1 / SKM Level 2 / SKM Level 3 or…',\n",
       " 'STPM / A Level or Equivalent'}"
      ]
     },
     "execution_count": 6,
     "metadata": {},
     "output_type": "execute_result"
    }
   ],
   "source": [
    "rs = []\n",
    "i = 0\n",
    "\n",
    "for j in jobs:\n",
    "    rs.append(jobs[j]['requirement'].split('|')[2])\n",
    "\n",
    "set(rs)"
   ]
  },
  {
   "cell_type": "code",
   "execution_count": 31,
   "metadata": {},
   "outputs": [],
   "source": [
    "def extract_skills(info):\n",
    "    words = info.translate(str.maketrans('', '', string.punctuation))\n",
    "    words = ' '.join(words.split('\\n')).split()\n",
    "    results = []\n",
    "    for s in sk_list:\n",
    "        if '(' in s:\n",
    "            abb = s[s.find(\"(\")+1:s.find(\")\")]\n",
    "            result = gcm(abb, words, n=len(words), cutoff=0.9)\n",
    "            if len(result) > 0:\n",
    "                results.append(s)\n",
    "                continue\n",
    "        result = gcm(s, words, n=len(words), cutoff=0.8)\n",
    "        if len(result) > 0:\n",
    "            results.append(s)\n",
    "    return results"
   ]
  },
  {
   "cell_type": "code",
   "execution_count": 54,
   "metadata": {},
   "outputs": [
    {
     "data": {
      "text/plain": [
       "datetime.datetime(2021, 1, 11, 11, 10, 7, 914490)"
      ]
     },
     "execution_count": 54,
     "metadata": {},
     "output_type": "execute_result"
    }
   ],
   "source": [
    "x = dt.now()\n",
    "x"
   ]
  },
  {
   "cell_type": "code",
   "execution_count": 55,
   "metadata": {},
   "outputs": [
    {
     "name": "stdout",
     "output_type": "stream",
     "text": [
      "0:00:15.954937\n"
     ]
    }
   ],
   "source": [
    "y = dt.now() - x\n",
    "print(\"{}\".format(y))"
   ]
  },
  {
   "cell_type": "code",
   "execution_count": 56,
   "metadata": {},
   "outputs": [
    {
     "name": "stdout",
     "output_type": "stream",
     "text": [
      "500 jobs processed. Time taken: 0:02:35.162769\n",
      "1000 jobs processed. Time taken: 0:02:28.516506\n",
      "1500 jobs processed. Time taken: 0:02:39.694426\n",
      "2000 jobs processed. Time taken: 0:02:28.488194\n",
      "2500 jobs processed. Time taken: 0:02:57.859004\n",
      "3000 jobs processed. Time taken: 0:01:30.184948\n",
      "3500 jobs processed. Time taken: 0:02:36.266365\n",
      "4000 jobs processed. Time taken: 0:02:53.165805\n",
      "4500 jobs processed. Time taken: 0:02:34.100019\n",
      "5000 jobs processed. Time taken: 0:02:32.746931\n",
      "5500 jobs processed. Time taken: 0:02:22.915019\n",
      "6000 jobs processed. Time taken: 0:02:18.123717\n",
      "6500 jobs processed. Time taken: 0:02:48.694209\n",
      "7000 jobs processed. Time taken: 0:02:26.514651\n",
      "7500 jobs processed. Time taken: 0:02:42.409217\n",
      "8000 jobs processed. Time taken: 0:02:36.607376\n",
      "8500 jobs processed. Time taken: 0:03:06.027526\n",
      "9000 jobs processed. Time taken: 0:02:36.311976\n",
      "9500 jobs processed. Time taken: 0:02:15.242623\n",
      "10000 jobs processed. Time taken: 0:02:15.539480\n",
      "10500 jobs processed. Time taken: 0:02:40.812478\n",
      "11000 jobs processed. Time taken: 0:02:25.268731\n",
      "11500 jobs processed. Time taken: 0:02:34.095796\n",
      "12000 jobs processed. Time taken: 0:02:39.371264\n",
      "12500 jobs processed. Time taken: 0:03:01.467282\n",
      "13000 jobs processed. Time taken: 0:02:39.585248\n",
      "13500 jobs processed. Time taken: 0:02:30.827192\n",
      "14000 jobs processed. Time taken: 0:02:34.576361\n",
      "14500 jobs processed. Time taken: 0:02:45.324798\n",
      "15000 jobs processed. Time taken: 0:02:27.624686\n",
      "15500 jobs processed. Time taken: 0:02:45.088857\n",
      "16000 jobs processed. Time taken: 0:02:35.076014\n",
      "16500 jobs processed. Time taken: 0:02:18.035883\n",
      "17000 jobs processed. Time taken: 0:02:01.987177\n",
      "17500 jobs processed. Time taken: 0:02:30.994508\n",
      "18000 jobs processed. Time taken: 0:02:51.500170\n",
      "18500 jobs processed. Time taken: 0:02:50.378816\n",
      "19000 jobs processed. Time taken: 0:02:21.722224\n",
      "19500 jobs processed. Time taken: 0:02:26.564313\n",
      "Total time taken: 1:40:41.647502\n"
     ]
    }
   ],
   "source": [
    "i = 0\n",
    "job_info_list = []\n",
    "DetectorFactory.seed = 42\n",
    "initial = dt.now()\n",
    "interval = dt.now()\n",
    "print_every = 500\n",
    "\n",
    "for j in jobs:\n",
    "    i += 1\n",
    "    if i % print_every == 0:\n",
    "        print(\"{} jobs processed. Time taken: {}\".format(i, dt.now() - interval))\n",
    "        interval = dt.now()\n",
    "    job = jobs[j]\n",
    "    all_info = job['title'] + ' ' + job['job_details']\n",
    "    job_type = job['requirement'].split('|')[0]\n",
    "    education = job['requirement'].split('|')[2]\n",
    "    if len(job['job_details']) < 3:\n",
    "        language = None\n",
    "    else:\n",
    "        language = detect(job['job_details'])\n",
    "    skills = extract_skills(all_info)\n",
    "    job_info_list.append({\n",
    "        'job_title': job['title'],\n",
    "        'job_details': job['job_details'],\n",
    "        'job_type': job_type,\n",
    "        'education_requirement': education,\n",
    "        'language': language,\n",
    "        'skills_required': skills,\n",
    "        'no_skills_required': len(skills)})\n",
    "\n",
    "print(\"Total time taken: {}\".format(dt.now() - initial))"
   ]
  },
  {
   "cell_type": "markdown",
   "metadata": {},
   "source": [
    "## Analysis"
   ]
  },
  {
   "cell_type": "code",
   "execution_count": 57,
   "metadata": {},
   "outputs": [
    {
     "data": {
      "text/html": [
       "<div>\n",
       "<style scoped>\n",
       "    .dataframe tbody tr th:only-of-type {\n",
       "        vertical-align: middle;\n",
       "    }\n",
       "\n",
       "    .dataframe tbody tr th {\n",
       "        vertical-align: top;\n",
       "    }\n",
       "\n",
       "    .dataframe thead th {\n",
       "        text-align: right;\n",
       "    }\n",
       "</style>\n",
       "<table border=\"1\" class=\"dataframe\">\n",
       "  <thead>\n",
       "    <tr style=\"text-align: right;\">\n",
       "      <th></th>\n",
       "      <th>job_title</th>\n",
       "      <th>job_details</th>\n",
       "      <th>job_type</th>\n",
       "      <th>education_requirement</th>\n",
       "      <th>language</th>\n",
       "      <th>skills_required</th>\n",
       "      <th>no_skills_required</th>\n",
       "    </tr>\n",
       "  </thead>\n",
       "  <tbody>\n",
       "    <tr>\n",
       "      <th>0</th>\n",
       "      <td>SALES ASSOCIATE</td>\n",
       "      <td>* Under supervision and perform duties to prov...</td>\n",
       "      <td>Permanent</td>\n",
       "      <td>STPM / A Level or Equivalent</td>\n",
       "      <td>en</td>\n",
       "      <td>[Sales, Operations, Operation, Process, Servic...</td>\n",
       "      <td>8</td>\n",
       "    </tr>\n",
       "    <tr>\n",
       "      <th>1</th>\n",
       "      <td>SIGN HOUSE ADVERTISING</td>\n",
       "      <td>Kelebihan diberi kepada yang mempunyai kemahir...</td>\n",
       "      <td>Permanent</td>\n",
       "      <td>Bachelor's or Equivalent</td>\n",
       "      <td>id</td>\n",
       "      <td>[Adobe]</td>\n",
       "      <td>1</td>\n",
       "    </tr>\n",
       "    <tr>\n",
       "      <th>2</th>\n",
       "      <td>MR DIY (M) SDN BHD</td>\n",
       "      <td>Receive stock, checking &amp; distribution item re...</td>\n",
       "      <td>Permanent</td>\n",
       "      <td>Diploma / Advanced Diploma / Higher Graduate…</td>\n",
       "      <td>en</td>\n",
       "      <td>[Operations, Operation, Bagging, Distribution,...</td>\n",
       "      <td>5</td>\n",
       "    </tr>\n",
       "    <tr>\n",
       "      <th>3</th>\n",
       "      <td>Petugas PDK</td>\n",
       "      <td>1. Bertanggungjawab kepada penyelia PDK, jawat...</td>\n",
       "      <td>Permanent</td>\n",
       "      <td>Bachelor's or Equivalent</td>\n",
       "      <td>id</td>\n",
       "      <td>[Creativity]</td>\n",
       "      <td>1</td>\n",
       "    </tr>\n",
       "    <tr>\n",
       "      <th>4</th>\n",
       "      <td>MR DIY (M) SDN BHD</td>\n",
       "      <td>Receive stock, checking &amp; distribution item re...</td>\n",
       "      <td>Permanent</td>\n",
       "      <td>SPM / O Level / SKM Level 1 / SKM Level 2 / SK...</td>\n",
       "      <td>en</td>\n",
       "      <td>[Operations, Operation, Bagging, Distribution,...</td>\n",
       "      <td>5</td>\n",
       "    </tr>\n",
       "  </tbody>\n",
       "</table>\n",
       "</div>"
      ],
      "text/plain": [
       "                job_title                                        job_details  \\\n",
       "0         SALES ASSOCIATE  * Under supervision and perform duties to prov...   \n",
       "1  SIGN HOUSE ADVERTISING  Kelebihan diberi kepada yang mempunyai kemahir...   \n",
       "2      MR DIY (M) SDN BHD  Receive stock, checking & distribution item re...   \n",
       "3             Petugas PDK  1. Bertanggungjawab kepada penyelia PDK, jawat...   \n",
       "4      MR DIY (M) SDN BHD  Receive stock, checking & distribution item re...   \n",
       "\n",
       "    job_type                              education_requirement language  \\\n",
       "0  Permanent                       STPM / A Level or Equivalent       en   \n",
       "1  Permanent                           Bachelor's or Equivalent       id   \n",
       "2  Permanent      Diploma / Advanced Diploma / Higher Graduate…       en   \n",
       "3  Permanent                           Bachelor's or Equivalent       id   \n",
       "4  Permanent  SPM / O Level / SKM Level 1 / SKM Level 2 / SK...       en   \n",
       "\n",
       "                                     skills_required  no_skills_required  \n",
       "0  [Sales, Operations, Operation, Process, Servic...                   8  \n",
       "1                                            [Adobe]                   1  \n",
       "2  [Operations, Operation, Bagging, Distribution,...                   5  \n",
       "3                                       [Creativity]                   1  \n",
       "4  [Operations, Operation, Bagging, Distribution,...                   5  "
      ]
     },
     "execution_count": 57,
     "metadata": {},
     "output_type": "execute_result"
    }
   ],
   "source": [
    "df = pd.DataFrame.from_dict(job_info_list)\n",
    "df.head()"
   ]
  },
  {
   "cell_type": "code",
   "execution_count": 59,
   "metadata": {},
   "outputs": [],
   "source": [
    "df.to_csv('resource/myfuturejobs_skills.csv', index=False)"
   ]
  },
  {
   "cell_type": "code",
   "execution_count": 58,
   "metadata": {},
   "outputs": [
    {
     "data": {
      "text/html": [
       "<div>\n",
       "<style scoped>\n",
       "    .dataframe tbody tr th:only-of-type {\n",
       "        vertical-align: middle;\n",
       "    }\n",
       "\n",
       "    .dataframe tbody tr th {\n",
       "        vertical-align: top;\n",
       "    }\n",
       "\n",
       "    .dataframe thead th {\n",
       "        text-align: right;\n",
       "    }\n",
       "</style>\n",
       "<table border=\"1\" class=\"dataframe\">\n",
       "  <thead>\n",
       "    <tr style=\"text-align: right;\">\n",
       "      <th></th>\n",
       "      <th>job_title</th>\n",
       "      <th>job_details</th>\n",
       "      <th>job_type</th>\n",
       "      <th>education_requirement</th>\n",
       "      <th>language</th>\n",
       "      <th>skills_required</th>\n",
       "      <th>no_skills_required</th>\n",
       "    </tr>\n",
       "  </thead>\n",
       "  <tbody>\n",
       "    <tr>\n",
       "      <th>count</th>\n",
       "      <td>19680</td>\n",
       "      <td>19680</td>\n",
       "      <td>19680</td>\n",
       "      <td>19680</td>\n",
       "      <td>19670</td>\n",
       "      <td>19680</td>\n",
       "      <td>19680.000000</td>\n",
       "    </tr>\n",
       "    <tr>\n",
       "      <th>unique</th>\n",
       "      <td>4856</td>\n",
       "      <td>3296</td>\n",
       "      <td>6</td>\n",
       "      <td>11</td>\n",
       "      <td>26</td>\n",
       "      <td>3065</td>\n",
       "      <td>NaN</td>\n",
       "    </tr>\n",
       "    <tr>\n",
       "      <th>top</th>\n",
       "      <td>General Worker</td>\n",
       "      <td>Sales assistants represent the direct contact ...</td>\n",
       "      <td>Permanent</td>\n",
       "      <td>SPM / O Level / SKM Level 1 / SKM Level 2 / SK...</td>\n",
       "      <td>en</td>\n",
       "      <td>[]</td>\n",
       "      <td>NaN</td>\n",
       "    </tr>\n",
       "    <tr>\n",
       "      <th>freq</th>\n",
       "      <td>128</td>\n",
       "      <td>167</td>\n",
       "      <td>15653</td>\n",
       "      <td>7988</td>\n",
       "      <td>16950</td>\n",
       "      <td>3521</td>\n",
       "      <td>NaN</td>\n",
       "    </tr>\n",
       "    <tr>\n",
       "      <th>mean</th>\n",
       "      <td>NaN</td>\n",
       "      <td>NaN</td>\n",
       "      <td>NaN</td>\n",
       "      <td>NaN</td>\n",
       "      <td>NaN</td>\n",
       "      <td>NaN</td>\n",
       "      <td>6.455234</td>\n",
       "    </tr>\n",
       "    <tr>\n",
       "      <th>std</th>\n",
       "      <td>NaN</td>\n",
       "      <td>NaN</td>\n",
       "      <td>NaN</td>\n",
       "      <td>NaN</td>\n",
       "      <td>NaN</td>\n",
       "      <td>NaN</td>\n",
       "      <td>8.495129</td>\n",
       "    </tr>\n",
       "    <tr>\n",
       "      <th>min</th>\n",
       "      <td>NaN</td>\n",
       "      <td>NaN</td>\n",
       "      <td>NaN</td>\n",
       "      <td>NaN</td>\n",
       "      <td>NaN</td>\n",
       "      <td>NaN</td>\n",
       "      <td>0.000000</td>\n",
       "    </tr>\n",
       "    <tr>\n",
       "      <th>25%</th>\n",
       "      <td>NaN</td>\n",
       "      <td>NaN</td>\n",
       "      <td>NaN</td>\n",
       "      <td>NaN</td>\n",
       "      <td>NaN</td>\n",
       "      <td>NaN</td>\n",
       "      <td>1.000000</td>\n",
       "    </tr>\n",
       "    <tr>\n",
       "      <th>50%</th>\n",
       "      <td>NaN</td>\n",
       "      <td>NaN</td>\n",
       "      <td>NaN</td>\n",
       "      <td>NaN</td>\n",
       "      <td>NaN</td>\n",
       "      <td>NaN</td>\n",
       "      <td>3.000000</td>\n",
       "    </tr>\n",
       "    <tr>\n",
       "      <th>75%</th>\n",
       "      <td>NaN</td>\n",
       "      <td>NaN</td>\n",
       "      <td>NaN</td>\n",
       "      <td>NaN</td>\n",
       "      <td>NaN</td>\n",
       "      <td>NaN</td>\n",
       "      <td>9.000000</td>\n",
       "    </tr>\n",
       "    <tr>\n",
       "      <th>max</th>\n",
       "      <td>NaN</td>\n",
       "      <td>NaN</td>\n",
       "      <td>NaN</td>\n",
       "      <td>NaN</td>\n",
       "      <td>NaN</td>\n",
       "      <td>NaN</td>\n",
       "      <td>68.000000</td>\n",
       "    </tr>\n",
       "  </tbody>\n",
       "</table>\n",
       "</div>"
      ],
      "text/plain": [
       "             job_title                                        job_details  \\\n",
       "count            19680                                              19680   \n",
       "unique            4856                                               3296   \n",
       "top     General Worker  Sales assistants represent the direct contact ...   \n",
       "freq               128                                                167   \n",
       "mean               NaN                                                NaN   \n",
       "std                NaN                                                NaN   \n",
       "min                NaN                                                NaN   \n",
       "25%                NaN                                                NaN   \n",
       "50%                NaN                                                NaN   \n",
       "75%                NaN                                                NaN   \n",
       "max                NaN                                                NaN   \n",
       "\n",
       "         job_type                              education_requirement language  \\\n",
       "count       19680                                              19680    19670   \n",
       "unique          6                                                 11       26   \n",
       "top     Permanent  SPM / O Level / SKM Level 1 / SKM Level 2 / SK...       en   \n",
       "freq        15653                                               7988    16950   \n",
       "mean          NaN                                                NaN      NaN   \n",
       "std           NaN                                                NaN      NaN   \n",
       "min           NaN                                                NaN      NaN   \n",
       "25%           NaN                                                NaN      NaN   \n",
       "50%           NaN                                                NaN      NaN   \n",
       "75%           NaN                                                NaN      NaN   \n",
       "max           NaN                                                NaN      NaN   \n",
       "\n",
       "       skills_required  no_skills_required  \n",
       "count            19680        19680.000000  \n",
       "unique            3065                 NaN  \n",
       "top                 []                 NaN  \n",
       "freq              3521                 NaN  \n",
       "mean               NaN            6.455234  \n",
       "std                NaN            8.495129  \n",
       "min                NaN            0.000000  \n",
       "25%                NaN            1.000000  \n",
       "50%                NaN            3.000000  \n",
       "75%                NaN            9.000000  \n",
       "max                NaN           68.000000  "
      ]
     },
     "execution_count": 58,
     "metadata": {},
     "output_type": "execute_result"
    }
   ],
   "source": [
    "df.describe(include='all')"
   ]
  },
  {
   "cell_type": "code",
   "execution_count": 60,
   "metadata": {},
   "outputs": [
    {
     "data": {
      "text/plain": [
       "count         19680\n",
       "unique            6\n",
       "top       Permanent\n",
       "freq          15653\n",
       "Name: job_type, dtype: object"
      ]
     },
     "execution_count": 60,
     "metadata": {},
     "output_type": "execute_result"
    }
   ],
   "source": [
    "df['job_type'].describe()"
   ]
  },
  {
   "cell_type": "code",
   "execution_count": 64,
   "metadata": {},
   "outputs": [
    {
     "data": {
      "image/png": "[encoded data removed]",
      "text/plain": [
       "<Figure size 1080x576 with 1 Axes>"
      ]
     },
     "metadata": {
      "needs_background": "light"
     },
     "output_type": "display_data"
    }
   ],
   "source": [
    "plt.figure(figsize=(15,8))\n",
    "sns.countplot(x='job_type', data=df).set_title('Job Type');"
   ]
  },
  {
   "cell_type": "code",
   "execution_count": 69,
   "metadata": {},
   "outputs": [
    {
     "data": {
      "image/png": "[encoded data removed]",
      "text/plain": [
       "<Figure size 1080x576 with 1 Axes>"
      ]
     },
     "metadata": {
      "needs_background": "light"
     },
     "output_type": "display_data"
    }
   ],
   "source": [
    "plt.figure(figsize=(15,8))\n",
    "sns.countplot(x='education_requirement', data=df).set_title('Education Requirement')\n",
    "plt.xticks(rotation=90);"
   ]
  },
  {
   "cell_type": "code",
   "execution_count": 70,
   "metadata": {},
   "outputs": [
    {
     "data": {
      "image/png": "[encoded data removed]",
      "text/plain": [
       "<Figure size 1080x576 with 1 Axes>"
      ]
     },
     "metadata": {
      "needs_background": "light"
     },
     "output_type": "display_data"
    }
   ],
   "source": [
    "plt.figure(figsize=(15,8))\n",
    "sns.countplot(x='language', data=df).set_title('Language');"
   ]
  },
  {
   "cell_type": "code",
   "execution_count": 71,
   "metadata": {},
   "outputs": [
    {
     "data": {
      "image/png": "[encoded data removed]",
      "text/plain": [
       "<Figure size 1080x576 with 1 Axes>"
      ]
     },
     "metadata": {
      "needs_background": "light"
     },
     "output_type": "display_data"
    }
   ],
   "source": [
    "plt.figure(figsize=(15,8))\n",
    "df['no_skills_required'].plot.hist(bins=20, title='Number of Skills Required');"
   ]
  },
  {
   "cell_type": "markdown",
   "metadata": {},
   "source": [
    "## Data Percentages"
   ]
  },
  {
   "cell_type": "markdown",
   "metadata": {},
   "source": [
    "### Language\n",
    "#### English"
   ]
  },
  {
   "cell_type": "code",
   "execution_count": 74,
   "metadata": {},
   "outputs": [
    {
     "data": {
      "text/plain": [
       "86.1280487804878"
      ]
     },
     "execution_count": 74,
     "metadata": {},
     "output_type": "execute_result"
    }
   ],
   "source": [
    "len(df.loc[df['language'] == 'en']) * 100 / len(df)"
   ]
  },
  {
   "cell_type": "markdown",
   "metadata": {},
   "source": [
    "### Skills\n",
    "\n",
    "#### No skills"
   ]
  },
  {
   "cell_type": "code",
   "execution_count": 76,
   "metadata": {},
   "outputs": [
    {
     "data": {
      "text/plain": [
       "17.891260162601625"
      ]
     },
     "execution_count": 76,
     "metadata": {},
     "output_type": "execute_result"
    }
   ],
   "source": [
    "len(df.loc[df['no_skills_required'] == 0]) * 100 / len(df)"
   ]
  },
  {
   "cell_type": "markdown",
   "metadata": {},
   "source": [
    "#### More than 10 skills"
   ]
  },
  {
   "cell_type": "code",
   "execution_count": 77,
   "metadata": {},
   "outputs": [
    {
     "data": {
      "text/plain": [
       "20.670731707317074"
      ]
     },
     "execution_count": 77,
     "metadata": {},
     "output_type": "execute_result"
    }
   ],
   "source": [
    "len(df.loc[df['no_skills_required'] > 10]) * 100 / len(df)"
   ]
  }
 ],
 "metadata": {
  "kernelspec": {
   "display_name": "Python 3",
   "language": "python",
   "name": "python3"
  },
  "language_info": {
   "codemirror_mode": {
    "name": "ipython",
    "version": 3
   },
   "file_extension": ".py",
   "mimetype": "text/x-python",
   "name": "python",
   "nbconvert_exporter": "python",
   "pygments_lexer": "ipython3",
   "version": "3.7.6"
  }
 },
 "nbformat": 4,
 "nbformat_minor": 4
}
