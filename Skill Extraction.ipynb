{
 "cells": [
  {
   "cell_type": "code",
   "execution_count": 7,
   "metadata": {},
   "outputs": [],
   "source": [
    "import json\n",
    "import string\n",
    "import pandas as pd\n",
    "import re\n",
    "import difflib\n",
    "import matplotlib.pyplot as plt\n",
    "import seaborn as sns\n",
    "from datetime import datetime as dt\n",
    "from nltk import ngrams\n",
    "from langdetect import detect, DetectorFactory\n",
    "from difflib import get_close_matches as gcm"
   ]
  },
  {
   "cell_type": "code",
   "execution_count": 8,
   "metadata": {},
   "outputs": [
    {
     "data": {
      "text/html": [
       "<div>\n",
       "<style scoped>\n",
       "    .dataframe tbody tr th:only-of-type {\n",
       "        vertical-align: middle;\n",
       "    }\n",
       "\n",
       "    .dataframe tbody tr th {\n",
       "        vertical-align: top;\n",
       "    }\n",
       "\n",
       "    .dataframe thead th {\n",
       "        text-align: right;\n",
       "    }\n",
       "</style>\n",
       "<table border=\"1\" class=\"dataframe\">\n",
       "  <thead>\n",
       "    <tr style=\"text-align: right;\">\n",
       "      <th></th>\n",
       "      <th>skill_id</th>\n",
       "      <th>skill</th>\n",
       "    </tr>\n",
       "  </thead>\n",
       "  <tbody>\n",
       "    <tr>\n",
       "      <th>0</th>\n",
       "      <td>150</td>\n",
       "      <td>Applied Science</td>\n",
       "    </tr>\n",
       "    <tr>\n",
       "      <th>1</th>\n",
       "      <td>163</td>\n",
       "      <td>Art</td>\n",
       "    </tr>\n",
       "    <tr>\n",
       "      <th>2</th>\n",
       "      <td>322</td>\n",
       "      <td>Business</td>\n",
       "    </tr>\n",
       "    <tr>\n",
       "      <th>3</th>\n",
       "      <td>548</td>\n",
       "      <td>Computer Science</td>\n",
       "    </tr>\n",
       "    <tr>\n",
       "      <th>4</th>\n",
       "      <td>714</td>\n",
       "      <td>Data Science</td>\n",
       "    </tr>\n",
       "  </tbody>\n",
       "</table>\n",
       "</div>"
      ],
      "text/plain": [
       "   skill_id             skill\n",
       "0       150   Applied Science\n",
       "1       163               Art\n",
       "2       322          Business\n",
       "3       548  Computer Science\n",
       "4       714      Data Science"
      ]
     },
     "execution_count": 8,
     "metadata": {},
     "output_type": "execute_result"
    }
   ],
   "source": [
    "skills = pd.read_csv('skills_db/skill.csv')\n",
    "skills.head()"
   ]
  },
  {
   "cell_type": "code",
   "execution_count": 9,
   "metadata": {},
   "outputs": [
    {
     "data": {
      "text/plain": [
       "3095"
      ]
     },
     "execution_count": 9,
     "metadata": {},
     "output_type": "execute_result"
    }
   ],
   "source": [
    "sk_list = skills['skill'].tolist()\n",
    "len(sk_list)"
   ]
  },
  {
   "cell_type": "code",
   "execution_count": 10,
   "metadata": {
    "scrolled": true
   },
   "outputs": [
    {
     "data": {
      "text/plain": [
       "19680"
      ]
     },
     "execution_count": 10,
     "metadata": {},
     "output_type": "execute_result"
    }
   ],
   "source": [
    "with open('resource/job_infos_scrape.json') as f:\n",
    "    jobs = json.load(f)\n",
    "\n",
    "len(jobs)"
   ]
  },
  {
   "cell_type": "code",
   "execution_count": 11,
   "metadata": {},
   "outputs": [
    {
     "data": {
      "text/plain": [
       "{'title': 'SALES ASSOCIATE',\n",
       " 'job_details': '* Under supervision and perform duties to provide technical product assistance/knowledge to customers in order to generate new and repeat sales.\\n* Assist customers in the selection of the best products that suited to their needs and desires and explain use, operation, care of the merchandise products and services to customers.\\n* Explain the terms of sales, availability of the product and delivery dates and related information and process orders to customers.\\n* Handle customers inquiries and complaint.\\n* Keep display items clean and displayable and overall cleanliness of the branch.\\n* To  handle  any  other  job  as  may be  assigned  by  the  superior.\\n\\nLocation : Tropicana Aman, Denai Alam, Wisma WCC, Puchong, Bandar Botanik, Sri Petaling, Pandan Indah, Rawang, Sungai Buloh, Kota Damansara, Kajang, Bangi , Balakong, USJ Taipan, Kota Kemuning, Shah Alam.',\n",
       " 'requirement': 'Permanent| 3 Shift Time |STPM / A Level or Equivalent|Today',\n",
       " 'company': 'GLOBAL PSYTECH SDN BHD\\n|\\nCyberjaya',\n",
       " 'company_details': \"Retail trade, except of motor vehicles and motorcycles\\n50-250 employees\\nShah Alam\\nHLK (Chain-Store) Sdn Bhd is one of the market-leading electrical appliances chain store in Malaysia. Currently, we have 15 branches over Klang Valley & outstation and are still expending. Our vision is to provide innovative products and services which meet or exceed the customer's expectations in the local community and continual improvement by all levels of employees.\\n \\nWe are looking forward for an enthusiasm, dynamic, goal-oriented, aggressive and commercial-minded candidates to join our company and to be part of our growing team. \\n \"}"
      ]
     },
     "execution_count": 11,
     "metadata": {},
     "output_type": "execute_result"
    }
   ],
   "source": [
    "jobs['0']"
   ]
  },
  {
   "cell_type": "code",
   "execution_count": 12,
   "metadata": {},
   "outputs": [
    {
     "data": {
      "text/plain": [
       "{\"Bachelor's or Equivalent\",\n",
       " 'Diploma / Advanced Diploma / Higher Graduate Diploma / DVM / DKM Level 4 / DLKM Level 5',\n",
       " 'Diploma / Advanced Diploma / Higher Graduate Diploma / DVM /…',\n",
       " 'Diploma / Advanced Diploma / Higher Graduate…',\n",
       " 'Doctoral (PhD) or Equivalent',\n",
       " \"Master's or Equivalent\",\n",
       " 'PMR / PT3 or Equivalent',\n",
       " 'Primary Education or Below',\n",
       " 'SPM / O Level / SKM Level 1 / SKM Level 2 / SKM Level 3 or Equivalent',\n",
       " 'SPM / O Level / SKM Level 1 / SKM Level 2 / SKM Level 3 or…',\n",
       " 'STPM / A Level or Equivalent'}"
      ]
     },
     "execution_count": 12,
     "metadata": {},
     "output_type": "execute_result"
    }
   ],
   "source": [
    "rs = []\n",
    "i = 0\n",
    "\n",
    "for j in jobs:\n",
    "    rs.append(jobs[j]['requirement'].split('|')[2])\n",
    "\n",
    "set(rs)"
   ]
  },
  {
   "cell_type": "code",
   "execution_count": 13,
   "metadata": {},
   "outputs": [],
   "source": [
    "def extract_skills(info):\n",
    "    words = list(set(re.sub('[\\n|,|.|/|\\(|\\)]', ' ', info).lower().split()))\n",
    "    bigrams = [' '.join(g) for g in ngrams(words, 2)]\n",
    "    trigrams = [' '.join(g) for g in ngrams(words, 3)]\n",
    "    results = []\n",
    "    for skill in sk_list:\n",
    "        s = skill.lower()\n",
    "        if '(' in s:\n",
    "            abb = s[s.find(\"(\")+1:s.find(\")\")]\n",
    "            if len(gcm(abb, words, cutoff=0.95)) > 0:\n",
    "                results.append(skill)\n",
    "                continue\n",
    "            s = re.sub(r\"[\\(].*?[\\)]\", \"\", s)\n",
    "        s2 = s.split()\n",
    "        if len(s2) == 1:\n",
    "            if len(gcm(s, words, cutoff=0.9)) > 0:\n",
    "                results.append(skill)\n",
    "        elif len(s2) == 2:\n",
    "            if len(gcm(s, words, cutoff=0.85)) > 0:\n",
    "                results.append(skill)\n",
    "        elif len(s2) == 3:\n",
    "            if len(gcm(s, trigrams, cutoff=0.8)) > 0:\n",
    "                results.append(skill)\n",
    "        else:\n",
    "            if len(gcm(s, trigrams, cutoff=0.7)) > 0:\n",
    "                results.append(skill)\n",
    "    return results"
   ]
  },
  {
   "cell_type": "code",
   "execution_count": 15,
   "metadata": {},
   "outputs": [
    {
     "name": "stdout",
     "output_type": "stream",
     "text": [
      "500 jobs processed. Time taken: 0:03:29.833196\n",
      "1000 jobs processed. Time taken: 0:03:17.678279\n",
      "1500 jobs processed. Time taken: 0:03:32.146844\n",
      "2000 jobs processed. Time taken: 0:03:20.760168\n",
      "2500 jobs processed. Time taken: 0:03:54.796798\n",
      "3000 jobs processed. Time taken: 0:02:06.826951\n",
      "3500 jobs processed. Time taken: 0:03:21.240380\n",
      "4000 jobs processed. Time taken: 0:03:46.470786\n",
      "4500 jobs processed. Time taken: 0:03:27.395169\n",
      "5000 jobs processed. Time taken: 0:03:22.553503\n",
      "5500 jobs processed. Time taken: 0:03:11.888057\n",
      "6000 jobs processed. Time taken: 0:03:06.733814\n",
      "6500 jobs processed. Time taken: 0:03:39.735435\n",
      "7000 jobs processed. Time taken: 0:03:14.074949\n",
      "7500 jobs processed. Time taken: 0:03:34.103895\n",
      "8000 jobs processed. Time taken: 0:03:26.692215\n",
      "8500 jobs processed. Time taken: 0:03:59.744204\n",
      "9000 jobs processed. Time taken: 0:03:25.559526\n",
      "9500 jobs processed. Time taken: 0:03:01.445648\n",
      "10000 jobs processed. Time taken: 0:03:02.309910\n",
      "10500 jobs processed. Time taken: 0:03:28.437923\n",
      "11000 jobs processed. Time taken: 0:03:11.134750\n",
      "11500 jobs processed. Time taken: 0:03:22.250272\n",
      "12000 jobs processed. Time taken: 0:03:28.946801\n",
      "12500 jobs processed. Time taken: 0:03:54.940068\n",
      "13000 jobs processed. Time taken: 0:03:28.671345\n",
      "13500 jobs processed. Time taken: 0:03:28.049543\n",
      "14000 jobs processed. Time taken: 0:03:26.001149\n",
      "14500 jobs processed. Time taken: 0:03:38.181861\n",
      "15000 jobs processed. Time taken: 0:03:15.619706\n",
      "15500 jobs processed. Time taken: 0:03:34.909335\n",
      "16000 jobs processed. Time taken: 0:03:24.195251\n",
      "16500 jobs processed. Time taken: 0:03:08.324042\n",
      "17000 jobs processed. Time taken: 0:02:57.475509\n",
      "17500 jobs processed. Time taken: 0:03:22.973125\n",
      "18000 jobs processed. Time taken: 0:03:58.102291\n",
      "18500 jobs processed. Time taken: 0:03:47.204466\n",
      "19000 jobs processed. Time taken: 0:03:10.834866\n",
      "19500 jobs processed. Time taken: 0:03:16.653994\n",
      "Total time taken: 2:14:01.567175\n"
     ]
    }
   ],
   "source": [
    "i = 0\n",
    "job_info_list = []\n",
    "DetectorFactory.seed = 42\n",
    "initial = dt.now()\n",
    "interval = dt.now()\n",
    "print_every = 500\n",
    "\n",
    "for j in jobs:\n",
    "    i += 1\n",
    "    if i % print_every == 0:\n",
    "        print(\"{} jobs processed. Time taken: {}\".format(i, dt.now() - interval))\n",
    "        interval = dt.now()\n",
    "    job = jobs[j]\n",
    "    all_info = job['title'] + ' ' + job['job_details']\n",
    "    job_type = job['requirement'].split('|')[0]\n",
    "    education = job['requirement'].split('|')[2]\n",
    "    if len(job['job_details']) < 3:\n",
    "        language = None\n",
    "    else:\n",
    "        language = detect(job['job_details'])\n",
    "    skills = extract_skills(all_info)\n",
    "    job_info_list.append({\n",
    "        'job_title': job['title'],\n",
    "        'job_details': job['job_details'],\n",
    "        'job_type': job_type,\n",
    "        'education_requirement': education,\n",
    "        'language': language,\n",
    "        'skills_required': skills,\n",
    "        'no_skills_required': len(skills)})\n",
    "\n",
    "print(\"Total time taken: {}\".format(dt.now() - initial))"
   ]
  },
  {
   "cell_type": "code",
   "execution_count": 16,
   "metadata": {},
   "outputs": [
    {
     "data": {
      "text/html": [
       "<div>\n",
       "<style scoped>\n",
       "    .dataframe tbody tr th:only-of-type {\n",
       "        vertical-align: middle;\n",
       "    }\n",
       "\n",
       "    .dataframe tbody tr th {\n",
       "        vertical-align: top;\n",
       "    }\n",
       "\n",
       "    .dataframe thead th {\n",
       "        text-align: right;\n",
       "    }\n",
       "</style>\n",
       "<table border=\"1\" class=\"dataframe\">\n",
       "  <thead>\n",
       "    <tr style=\"text-align: right;\">\n",
       "      <th></th>\n",
       "      <th>job_title</th>\n",
       "      <th>job_details</th>\n",
       "      <th>job_type</th>\n",
       "      <th>education_requirement</th>\n",
       "      <th>language</th>\n",
       "      <th>skills_required</th>\n",
       "      <th>no_skills_required</th>\n",
       "    </tr>\n",
       "  </thead>\n",
       "  <tbody>\n",
       "    <tr>\n",
       "      <th>0</th>\n",
       "      <td>SALES ASSOCIATE</td>\n",
       "      <td>* Under supervision and perform duties to prov...</td>\n",
       "      <td>Permanent</td>\n",
       "      <td>STPM / A Level or Equivalent</td>\n",
       "      <td>en</td>\n",
       "      <td>[Sales, Operations, Process, Service, Selectio...</td>\n",
       "      <td>6</td>\n",
       "    </tr>\n",
       "    <tr>\n",
       "      <th>1</th>\n",
       "      <td>SIGN HOUSE ADVERTISING</td>\n",
       "      <td>Kelebihan diberi kepada yang mempunyai kemahir...</td>\n",
       "      <td>Permanent</td>\n",
       "      <td>Bachelor's or Equivalent</td>\n",
       "      <td>id</td>\n",
       "      <td>[Adobe, Advertising]</td>\n",
       "      <td>2</td>\n",
       "    </tr>\n",
       "    <tr>\n",
       "      <th>2</th>\n",
       "      <td>MR DIY (M) SDN BHD</td>\n",
       "      <td>Receive stock, checking &amp; distribution item re...</td>\n",
       "      <td>Permanent</td>\n",
       "      <td>Diploma / Advanced Diploma / Higher Graduate…</td>\n",
       "      <td>en</td>\n",
       "      <td>[Operations, Distribution]</td>\n",
       "      <td>2</td>\n",
       "    </tr>\n",
       "    <tr>\n",
       "      <th>3</th>\n",
       "      <td>Petugas PDK</td>\n",
       "      <td>1. Bertanggungjawab kepada penyelia PDK, jawat...</td>\n",
       "      <td>Permanent</td>\n",
       "      <td>Bachelor's or Equivalent</td>\n",
       "      <td>id</td>\n",
       "      <td>[]</td>\n",
       "      <td>0</td>\n",
       "    </tr>\n",
       "    <tr>\n",
       "      <th>4</th>\n",
       "      <td>MR DIY (M) SDN BHD</td>\n",
       "      <td>Receive stock, checking &amp; distribution item re...</td>\n",
       "      <td>Permanent</td>\n",
       "      <td>SPM / O Level / SKM Level 1 / SKM Level 2 / SK...</td>\n",
       "      <td>en</td>\n",
       "      <td>[Operations, Distribution]</td>\n",
       "      <td>2</td>\n",
       "    </tr>\n",
       "  </tbody>\n",
       "</table>\n",
       "</div>"
      ],
      "text/plain": [
       "                job_title                                        job_details  \\\n",
       "0         SALES ASSOCIATE  * Under supervision and perform duties to prov...   \n",
       "1  SIGN HOUSE ADVERTISING  Kelebihan diberi kepada yang mempunyai kemahir...   \n",
       "2      MR DIY (M) SDN BHD  Receive stock, checking & distribution item re...   \n",
       "3             Petugas PDK  1. Bertanggungjawab kepada penyelia PDK, jawat...   \n",
       "4      MR DIY (M) SDN BHD  Receive stock, checking & distribution item re...   \n",
       "\n",
       "    job_type                              education_requirement language  \\\n",
       "0  Permanent                       STPM / A Level or Equivalent       en   \n",
       "1  Permanent                           Bachelor's or Equivalent       id   \n",
       "2  Permanent      Diploma / Advanced Diploma / Higher Graduate…       en   \n",
       "3  Permanent                           Bachelor's or Equivalent       id   \n",
       "4  Permanent  SPM / O Level / SKM Level 1 / SKM Level 2 / SK...       en   \n",
       "\n",
       "                                     skills_required  no_skills_required  \n",
       "0  [Sales, Operations, Process, Service, Selectio...                   6  \n",
       "1                               [Adobe, Advertising]                   2  \n",
       "2                         [Operations, Distribution]                   2  \n",
       "3                                                 []                   0  \n",
       "4                         [Operations, Distribution]                   2  "
      ]
     },
     "execution_count": 16,
     "metadata": {},
     "output_type": "execute_result"
    }
   ],
   "source": [
    "df = pd.DataFrame.from_dict(job_info_list)\n",
    "df.head()"
   ]
  },
  {
   "cell_type": "code",
   "execution_count": 17,
   "metadata": {},
   "outputs": [],
   "source": [
    "df.to_csv('resource/myfuturejobs_skills2.csv', index=False)"
   ]
  }
 ],
 "metadata": {
  "kernelspec": {
   "display_name": "Python 3",
   "language": "python",
   "name": "python3"
  },
  "language_info": {
   "codemirror_mode": {
    "name": "ipython",
    "version": 3
   },
   "file_extension": ".py",
   "mimetype": "text/x-python",
   "name": "python",
   "nbconvert_exporter": "python",
   "pygments_lexer": "ipython3",
   "version": "3.7.6"
  }
 },
 "nbformat": 4,
 "nbformat_minor": 4
}
