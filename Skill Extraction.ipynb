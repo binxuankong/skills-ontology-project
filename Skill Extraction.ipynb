{
 "cells": [
  {
   "cell_type": "code",
   "execution_count": 13,
   "metadata": {},
   "outputs": [
    {
     "data": {
      "text/html": [
       "<div>\n",
       "<style scoped>\n",
       "    .dataframe tbody tr th:only-of-type {\n",
       "        vertical-align: middle;\n",
       "    }\n",
       "\n",
       "    .dataframe tbody tr th {\n",
       "        vertical-align: top;\n",
       "    }\n",
       "\n",
       "    .dataframe thead th {\n",
       "        text-align: right;\n",
       "    }\n",
       "</style>\n",
       "<table border=\"1\" class=\"dataframe\">\n",
       "  <thead>\n",
       "    <tr style=\"text-align: right;\">\n",
       "      <th></th>\n",
       "      <th>skill_id</th>\n",
       "      <th>skill</th>\n",
       "    </tr>\n",
       "  </thead>\n",
       "  <tbody>\n",
       "    <tr>\n",
       "      <th>0</th>\n",
       "      <td>415</td>\n",
       "      <td>Applied Science</td>\n",
       "    </tr>\n",
       "    <tr>\n",
       "      <th>1</th>\n",
       "      <td>473</td>\n",
       "      <td>Arts</td>\n",
       "    </tr>\n",
       "    <tr>\n",
       "      <th>2</th>\n",
       "      <td>988</td>\n",
       "      <td>Business</td>\n",
       "    </tr>\n",
       "    <tr>\n",
       "      <th>3</th>\n",
       "      <td>1634</td>\n",
       "      <td>Computer Science</td>\n",
       "    </tr>\n",
       "    <tr>\n",
       "      <th>4</th>\n",
       "      <td>2099</td>\n",
       "      <td>Data Science</td>\n",
       "    </tr>\n",
       "  </tbody>\n",
       "</table>\n",
       "</div>"
      ],
      "text/plain": [
       "   skill_id             skill\n",
       "0       415   Applied Science\n",
       "1       473              Arts\n",
       "2       988          Business\n",
       "3      1634  Computer Science\n",
       "4      2099      Data Science"
      ]
     },
     "execution_count": 13,
     "metadata": {},
     "output_type": "execute_result"
    }
   ],
   "source": [
    "import pandas as pd\n",
    "import re\n",
    "import difflib\n",
    "from difflib import get_close_matches as gcm\n",
    "\n",
    "skills = pd.read_csv('skills_db/skill.csv')\n",
    "skills.head()"
   ]
  },
  {
   "cell_type": "code",
   "execution_count": 2,
   "metadata": {},
   "outputs": [
    {
     "data": {
      "text/plain": [
       "9134"
      ]
     },
     "execution_count": 2,
     "metadata": {},
     "output_type": "execute_result"
    }
   ],
   "source": [
    "sk_list = skills['skill'].tolist()\n",
    "len(sk_list)"
   ]
  },
  {
   "cell_type": "code",
   "execution_count": 3,
   "metadata": {},
   "outputs": [],
   "source": [
    "test = [\n",
    "    \"This is an example job description for a computer science role. Requirement: Python, C, Java\",\n",
    "    \"This is another example of job description for a marketing related role. Soft skills and marketing skills required.\",\n",
    "    \"Data science job. ML, AI, DeepLearning\"\n",
    "]"
   ]
  },
  {
   "cell_type": "code",
   "execution_count": 6,
   "metadata": {},
   "outputs": [
    {
     "name": "stdout",
     "output_type": "stream",
     "text": [
      "CPU times: user 2 µs, sys: 0 ns, total: 2 µs\n",
      "Wall time: 4.77 µs\n",
      "['Computer Science', 'B', 'C', 'D', 'Java', 'PL', 'Python', 'R']\n",
      "['Marketing', 'B', 'C', 'D', 'PL', 'R', 'Market']\n",
      "['Data Science', 'B', 'C', 'D', 'ML', 'PL', 'R', 'Data', 'Learning']\n"
     ]
    }
   ],
   "source": [
    "%time\n",
    "for t in test:\n",
    "    print([s for s in sk_list if t.lower().find(s.lower()) > -1])"
   ]
  },
  {
   "cell_type": "code",
   "execution_count": 8,
   "metadata": {},
   "outputs": [],
   "source": [
    "def similarity(word, pattern):\n",
    "    return difflib.SequenceMatcher(a=word.lower(), b=pattern.lower()).ratio()\n",
    "\n",
    "threshold = 0.9"
   ]
  },
  {
   "cell_type": "code",
   "execution_count": null,
   "metadata": {},
   "outputs": [],
   "source": [
    "\n",
    "\n",
    "keywords = ['Projekt-Nr.:', 'Projektbezeichnung:', 'Anlagenklassifizierung:', 'Arbeiten / Gewerk:']\n",
    "unk_text = \"Projekthezeichnung: —_[H- Kloster Eig i Krankenhaus\"\n",
    "words = unk_text.split()\n",
    "\n",
    "result = [gcm(kw, words, n=len(words), cutoff=0.8) for kw in keywords]\n",
    "# [[], ['Projekthezeichnung:'], [], []]"
   ]
  },
  {
   "cell_type": "code",
   "execution_count": 24,
   "metadata": {},
   "outputs": [
    {
     "name": "stdout",
     "output_type": "stream",
     "text": [
      "CPU times: user 2 µs, sys: 0 ns, total: 2 µs\n",
      "Wall time: 5.25 µs\n",
      "\n",
      "This is an example job description for a computer science role. Requirement: Python, C, Java\n",
      "['Java', 'Python', 'IPython', 'Retirement', 'Man', 'Conscience', 'Uan', 'Interface (Java)', 'Javac', 'Javafx', 'Idle (Python)']\n",
      "\n",
      "This is another example of job description for a marketing related role. Soft skills and marketing skills required.\n",
      "['Marketing', 'Hand']\n",
      "\n",
      "Data science job. ML, AI, DeepLearning\n",
      "['Deep Learning', 'ML', 'Data', 'Conscience', 'Learning']\n",
      "\n"
     ]
    }
   ],
   "source": [
    "%time\n",
    "print()\n",
    "for t in test:\n",
    "    print(t)\n",
    "    words = t.split()\n",
    "    results = []\n",
    "    for s in sk_list:\n",
    "        if '(' in s:\n",
    "            abb = s[s.find(\"(\")+1:s.find(\")\")]\n",
    "            result = gcm(abb, words, n=len(words), cutoff=0.9)\n",
    "            if len(result) > 0:\n",
    "                results.append(s)\n",
    "                continue\n",
    "        result = gcm(s, words, n=len(words), cutoff=0.8)\n",
    "        if len(result) > 0:\n",
    "            results.append(s)\n",
    "    print(results)\n",
    "    print()"
   ]
  },
  {
   "cell_type": "code",
   "execution_count": 12,
   "metadata": {},
   "outputs": [
    {
     "name": "stdout",
     "output_type": "stream",
     "text": [
      "CPU times: user 2 µs, sys: 1 µs, total: 3 µs\n",
      "Wall time: 5.25 µs\n",
      "This is an example job description for a computer science role. Requirement: Python, C, Java\n",
      "\n",
      "This is another example of job description for a marketing related role. Soft skills and marketing skills required.\n",
      "\n",
      "Data science job. ML, AI, DeepLearning\n",
      "Machine Learning;Data Engineering;Data Science Tool;Temporal Difference (TD) Learning;Data Encoding;Inductive Machine Learning;Applied Machine Learning;Temporal Difference Learning;\n"
     ]
    }
   ],
   "source": [
    "%time\n",
    "print()\n",
    "for t in test:\n",
    "    print(t)\n",
    "    words = t.split()\n",
    "    for s in sk_list:\n",
    "        if similarity(s, t) > 0.5:\n",
    "            print(s, end=';')\n",
    "    print()"
   ]
  },
  {
   "cell_type": "code",
   "execution_count": null,
   "metadata": {},
   "outputs": [],
   "source": [
    "import difflib\n",
    "text = \"Here is the text we are trying to match across to find the three word\n",
    "        sequence n0 inf0rmation available I wonder if we will find it?\"    \n",
    "words = text.split()\n",
    "three = [' '.join([i,j,k]) for i,j,k in zip(words, words[1:], words[2:])]\n",
    "print difflib.get_close_matches('no information available', three, cutoff=0.9)\n",
    "#Oyutput:\n",
    "['n0 inf0rmation available']"
   ]
  }
 ],
 "metadata": {
  "kernelspec": {
   "display_name": "Python 3",
   "language": "python",
   "name": "python3"
  },
  "language_info": {
   "codemirror_mode": {
    "name": "ipython",
    "version": 3
   },
   "file_extension": ".py",
   "mimetype": "text/x-python",
   "name": "python",
   "nbconvert_exporter": "python",
   "pygments_lexer": "ipython3",
   "version": "3.8.5"
  }
 },
 "nbformat": 4,
 "nbformat_minor": 4
}
