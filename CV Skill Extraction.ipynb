{
 "cells": [
  {
   "cell_type": "code",
   "execution_count": 10,
   "metadata": {},
   "outputs": [],
   "source": [
    "import pandas as pd\n",
    "import pdfplumber\n",
    "import re\n",
    "import nltk\n",
    "from datetime import datetime as dt\n",
    "from nltk import ngrams\n",
    "from difflib import get_close_matches as gcm"
   ]
  },
  {
   "cell_type": "code",
   "execution_count": 34,
   "metadata": {},
   "outputs": [],
   "source": [
    "def extract_cv_skill(filename):\n",
    "    # Read skills\n",
    "    df_skills = pd.read_csv('skills_db2/skill.csv')\n",
    "    SKILLS = df_skills['Skill'].unique().tolist()\n",
    "    # Redundant skills\n",
    "    df_redskills = pd.read_excel('skills/Other Skills.xlsx')\n",
    "    RED_SKILLS = df_redskills['Skill'].unique().tolist()\n",
    "    # Duplicate skills\n",
    "    df_dupskills = pd.read_excel('skills/Other Skills.xlsx', sheet_name='Duplicates')\n",
    "    DUP_SKILLS = df_dupskills.set_index('Skill').to_dict()['Parent']\n",
    "    SKILLS.extend(list(DUP_SKILLS.keys()))\n",
    "    # Initialization\n",
    "    all_skills = []\n",
    "    # Read pdf\n",
    "    with pdfplumber.open(filename) as pdf:\n",
    "        for page in pdf.pages:\n",
    "            page_text = page.extract_text()\n",
    "            this_skills = extract_skills(page_text, SKILLS)\n",
    "            all_skills.extend(this_skills)\n",
    "    all_skills = list(set(all_skills))\n",
    "    keep_skills, ignore_skills = extract_ignore(all_skills, RED_SKILLS, DUP_SKILLS)\n",
    "    keep_skills.sort()\n",
    "    ignore_skills.sort()\n",
    "    return keep_skills, ignore_skills\n",
    "\n",
    "def get_domains(skills):\n",
    "    df_skills = pd.read_csv('skills_db2/skill.csv')\n",
    "    df_domains = pd.read_csv('skills_db2/domain.csv')\n",
    "    df_skills = df_skills.merge(df_domains, left_on='DomainId', right_on='Id')\n",
    "    return df_skills.loc[df_skills['Skill'].isin(keep_skills)]['Domain'].value_counts()\n",
    "\n",
    "def extract_skills(info, skills, threshold=0.9):\n",
    "    words, unigrams, bigrams, trigrams = clean_info(info)\n",
    "    results = []\n",
    "    for skill in skills:\n",
    "        s = skill\n",
    "        if '(' in s:\n",
    "            abb = s[s.find(\"(\")+1:s.find(\")\")]\n",
    "            if abb in words:\n",
    "                results.append(skill)\n",
    "                continue\n",
    "            s = re.sub(r\"[\\(].*?[\\)]\", \"\", s)\n",
    "        s = s.lower()\n",
    "        s2 = s.split()\n",
    "        if len(s2) == 1:\n",
    "            if len(gcm(s, unigrams, cutoff=threshold)) > 0:\n",
    "                results.append(skill)\n",
    "        elif len(s2) == 2:\n",
    "            if len(gcm(s, bigrams, cutoff=threshold)) > 0:\n",
    "                results.append(skill)\n",
    "        elif len(s2) == 3:\n",
    "            if len(gcm(s, trigrams, cutoff=threshold)) > 0:\n",
    "                results.append(skill)\n",
    "        else:\n",
    "            if len(gcm(s, trigrams, cutoff=threshold)) > 0:\n",
    "                results.append(skill)\n",
    "    return results\n",
    "\n",
    "def extract_ignore(skills, redundant_skills, duplicate_skills):\n",
    "    ignore_skills = []\n",
    "    for j, skill in enumerate(skills):\n",
    "        if skill in redundant_skills:\n",
    "            ignore_skills.append(skill)\n",
    "            continue\n",
    "        for other in skills[:j] + skills[j+1:]:\n",
    "            if skill in other:\n",
    "                if find_whole_word(skill, other):\n",
    "                    ignore_skills.append(skill)\n",
    "                    break\n",
    "    job_skills = []\n",
    "    for skill in skills:\n",
    "        if skill not in ignore_skills:\n",
    "            if skill in duplicate_skills.keys():\n",
    "                skill = duplicate_skills[skill]\n",
    "            job_skills.append(skill)\n",
    "    return list(set(list(job_skills))), ignore_skills\n",
    "\n",
    "def clean_info(info):\n",
    "    # Remove ordered list with alphabets: a), b), c),...\n",
    "    words = re.sub(r'[\\s\\t\\n|.|\\(]+[a-zA-Z\\s*][.|\\)]+', ' ', info)\n",
    "    words = re.sub('[\\n|,|.|:|;|\\-|/|\\(|\\)|\\[|\\]]', ' ', words)\n",
    "    # words = [word.strip() for word in words]\n",
    "    # words = nltk.word_tokenize(info)\n",
    "    # unigrams = nltk.word_tokenize(info.lower())\n",
    "    unigrams = words.lower().split()\n",
    "    bigrams = [' '.join(g) for g in ngrams(unigrams, 2)]\n",
    "    trigrams = [' '.join(g) for g in ngrams(unigrams, 3)]\n",
    "    return words.split(), unigrams, bigrams, trigrams\n",
    "\n",
    "def find_whole_word(search_string, input_string):\n",
    "    raw_search_string = r\"\\b\" + search_string + r\"\\b\"\n",
    "    match_output = re.search(raw_search_string, input_string)\n",
    "    no_match_was_found = ( match_output is None )\n",
    "    if no_match_was_found:\n",
    "        return False\n",
    "    else:\n",
    "        return True"
   ]
  },
  {
   "cell_type": "code",
   "execution_count": 31,
   "metadata": {},
   "outputs": [],
   "source": [
    "with pdfplumber.open(\"resource/binxuankong.pdf\") as pdf:\n",
    "    pdf_text = []\n",
    "    for page in pdf.pages:\n",
    "        pdf_text.append(page.extract_text())"
   ]
  },
  {
   "cell_type": "code",
   "execution_count": 32,
   "metadata": {},
   "outputs": [
    {
     "data": {
      "text/plain": [
       "'BIN XUAN KONG\\n(+60)126112151 (cid:5) binxuankong@gmail.com (cid:5) github.com/binxuankong\\nSkills\\nTechnical Deep Learning, Computer Vision, Natural Language Processing,\\nComputational Optimization, Data Visualization, Software Engineering\\nProgramming Python, Java, C#, SQL, Prolog, MATLAB, LaTeX\\nTools NumPy, Pandas, SciKit, Theano, PyTorch, Tableau\\nSoft Problem Solving, Time Management, Teamwork, Adaptability, Creativity\\nWork Experience\\nThe Center of Applied Data Science (CADS) Mar 2020 - Present\\nData Science Specialist Kuala Lumpur, Malaysia\\n· Currently in part of The CADS Graduate Talent Program\\n· Work on internal projects to migrate data from several diﬀerent databases into a clean integrated database to\\nallow the ease of analysis\\n· Work on internal projects to analyze data and produce dashboard which provide meaningful insights and\\nsolutions to the company\\n· Work as a Technical/Teaching Assistant (TA), creating and reviewing course materials, and assisting primary\\nlead\\nMaxis Jul 2017 - Aug 2017\\nBusiness Intelligence Intern Kuala Lumpur, Malaysia\\n· Extracted and managed data in the database using Oracle SQL\\n· Created reports based on customer requirements using Qlik Sense\\n· Analysed and compared the back-end data with business data\\nEducation\\nImperial College London Sep 2018 - Sep 2019\\nMSc Advanced Computing Result: Distinction\\nUniversity of Manchester Sep 2015 - Jun 2018\\nBSc(Hons) Computer Science and Mathematics Classiﬁcation: First Class\\nTaylor’s College Subang Jaya Jan 2014 - Jun 2015\\nCambridge International A Level Chemistry (A*), Physics (A*), Mathematics (A*)\\nProjects\\nDeep Image Reconstruction from Brain Activity Apr 2019 - Sep 2019\\n· Functional magnetic resonance imaging (fMRI) and electroencephalogram (EEG) used to record people’s brain\\nactivity of subjects viewing diﬀerent images\\n· Developed novel approach of using a dual generative adversarial network (DualGan) to generate images from\\nrecorded brain activity\\n· Implementedthecurrentstate-of-the-artmethodofreversingapre-trainedconvolutionalneuralnetwork(CNN)\\nto investigate results on own dataset\\nPoetry Generation using Deep Learning Sep 2017 - Apr 2018\\n· Program to generate poems using recurrent neural network and gated recurrent units\\n· Distinct poems can be generated based on a user-supplied topic or image\\n· Built with Python, in particular Theano and TensorFlow to implement the neural networks, and external APIs\\nEventLite Feb 2017 - May 2017\\n· Web application to create, list, search and manage events that are going on in Manchester\\n· Has two main roles, event seekers for those looking for events and event managers for those who create events\\n· Created by a team of six using Spring frameworks and external APIs'"
      ]
     },
     "execution_count": 32,
     "metadata": {},
     "output_type": "execute_result"
    }
   ],
   "source": [
    "pdf_text[0]"
   ]
  },
  {
   "cell_type": "code",
   "execution_count": 33,
   "metadata": {},
   "outputs": [
    {
     "data": {
      "text/plain": [
       "'Stendhal Game Sep 2016 - Dec 2016\\n· Stendhal is a multi-player online adventure open source game\\n· Tested, debugged, built, developed and deployed a multi-user, multi-threaded, client-server open source game\\n· Automation of builds and tests done using Eclipse, Git, Apache Ant, Jenkins, JUnit and SonarQube\\nStudy Buddy Feb 2016 - Apr 2016\\n· Web application to assist users in studying and help them be aware of procrastination\\n· Users can input quizzes, which would pop-up periodically for them to complete\\n· Created by a team of six using HTML, CSS, PHP, MySQL and JavaScript\\nExternal Curriculum\\nInternational Council of Malaysians Scholars and Associates (ICMS) Nov 2016 - Mar 2018\\nSecretarial Associate International\\n· ICMS is a non-proﬁt professional network of driven and passionate individuals designed to operate like a\\nmultinational organization that provides opportunity to experience working in a multi-national company\\n· Developed transferable skills through internal programs and by managing projects\\n· Rebranded website and assisted in server migration\\n· Provided assistance in workshops to teach associates coding\\nEnactus Manchester - SPOT Finance Nov 2016 - Jun 2017\\nProject Member Manchester\\n· SPOTFinancerunsworkshopsonavarietyofﬁnancialaspectsforstudentsinsecondaryschoolaroundManch-\\nester\\n· Worked in a team to create the content of lessons which covered topics such as budgeting, saving and interest\\n· Improved interpersonal skills such as leadership, communication and decision making\\nManchester Malaysian Night 2017 Oct 2016 - Mar 2017\\nLighting Director Manchester\\n· ManchesterMalaysianNightisanannualﬂagshipeventorganisedbytheMalaysianStudentsSocietyofManch-\\nester (MSSM) with the purpose of promoting the unique and diverse culture of Malaysia\\n· Created the light plot for the play and ensured that each light cue is triggered at the correct timing\\n· Enhanced creativity and communication skills as well as ability to follow technical and design instructions\\nMalaysian Student’s Technology Conference Jun 2016 - Aug 2016\\nSponsorship Ambassador Kuala Lumpur, Malaysia\\n· Malaysian Students’ Technology Conference is the ﬁrst ever student-led technology conference in Malaysia,\\norganised under Malaysian Students Society of Manchester (MSSM) in partnership with TalentCorp Malaysia\\n· Assisted the sponsorship director to seek potential sponsors who might be interested in collaborating\\n· Escorted sponsors and guests to the venue and liaised with the sponsors on the day of the conference\\n· Strengthened written and verbal communication skills and organisational skills\\nAwards and Achievements\\nCertiﬁcate of Excellence Jun 2018\\nAwarded to the top 10% of graduating students in the School of Computer Science\\nInternational Excellence Undergraduate Scholarship Dec 2015\\nAwarded based on outstanding academic performance by the University of Manchester\\nReferences available on request'"
      ]
     },
     "execution_count": 33,
     "metadata": {},
     "output_type": "execute_result"
    }
   ],
   "source": [
    "pdf_text[1]"
   ]
  },
  {
   "cell_type": "code",
   "execution_count": 35,
   "metadata": {},
   "outputs": [
    {
     "name": "stdout",
     "output_type": "stream",
     "text": [
      "['Ad Design', 'Adaptability', 'Analysis', 'Apache Ant', 'Application Programming Interface (API)', 'Automation', 'Budget', 'Business Intelligence (BI)', 'C#', 'Cascading Style Sheet (CSS)', 'Chemistry', 'Coding', 'Collaboration', 'Computational Optimization', 'Computer Vision', 'Computing', 'Construction', 'Convolutional Neural Network (CNN)', 'Creativity', 'Dashboard', 'Data Visualization', 'Database', 'Dataset', 'Decision Making', 'Deep Learning', 'Eclipse', 'Finance', 'Gated Recurrent Unit (GRU)', 'Generative Adversarial Network (GAN)', 'Git', 'Github', 'HyperText Markup Language (HTML)', 'Image', 'International Law', 'Java', 'JavaScript', 'Jenkins', 'LaTeX', 'Leadership', 'MATLAB', 'Mathematics', 'MySQL', 'Natural Language Processing (NLP)', 'Nonverbal Communication', 'NumPy', 'Oracle', 'Organizational Skill', 'PHP', 'Pandas', 'Physics', 'Problem Solving', 'Prolog', 'PyTorch', 'Python', 'Qlik Sense', 'Recurrent Neural Network (RNN)', 'Saving', 'Software Engineering', 'Structured Query Language (SQL)', 'Tableau', 'Teamwork', 'TensorFlow', 'Theano', 'Time Management', 'Web Application']\n",
      "\n",
      "['Ant', 'Apache', 'Application', 'Communication', 'Culture', 'Data', 'Design', 'Education', 'Engineering', 'IPython', 'Interest', 'Language', 'List', 'Management', 'Network', 'Neural Network', 'Preference', 'Processing', 'Programming', 'Qlik', 'Visualization']\n"
     ]
    }
   ],
   "source": [
    "keep_skills, ignore_skills = extract_cv_skill('resource/binxuankong.pdf')\n",
    "print(keep_skills)\n",
    "print()\n",
    "print(ignore_skills)"
   ]
  },
  {
   "cell_type": "code",
   "execution_count": 36,
   "metadata": {},
   "outputs": [
    {
     "data": {
      "text/plain": [
       "Computer Science               26\n",
       "Data Science                   16\n",
       "Business                       13\n",
       "Arts and Humanities             3\n",
       "Mathematics and Logic           2\n",
       "Social Science                  2\n",
       "Natural Science                 2\n",
       "Information Technology (IT)     1\n",
       "Name: Domain, dtype: int64"
      ]
     },
     "execution_count": 36,
     "metadata": {},
     "output_type": "execute_result"
    }
   ],
   "source": [
    "get_domains(keep_skills)"
   ]
  },
  {
   "cell_type": "code",
   "execution_count": null,
   "metadata": {},
   "outputs": [],
   "source": []
  }
 ],
 "metadata": {
  "kernelspec": {
   "display_name": "Python 3",
   "language": "python",
   "name": "python3"
  },
  "language_info": {
   "codemirror_mode": {
    "name": "ipython",
    "version": 3
   },
   "file_extension": ".py",
   "mimetype": "text/x-python",
   "name": "python",
   "nbconvert_exporter": "python",
   "pygments_lexer": "ipython3",
   "version": "3.7.6"
  }
 },
 "nbformat": 4,
 "nbformat_minor": 4
}
