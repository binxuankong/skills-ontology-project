{
 "cells": [
  {
   "cell_type": "code",
   "execution_count": 1,
   "metadata": {},
   "outputs": [],
   "source": [
    "import os\n",
    "import pandas as pd\n",
    "import pdfplumber\n",
    "import re\n",
    "from datetime import datetime as dt\n",
    "from skill_api import extract_skills, extract_ignore"
   ]
  },
  {
   "cell_type": "code",
   "execution_count": 2,
   "metadata": {},
   "outputs": [],
   "source": [
    "def extract_cv_skill(filename):\n",
    "    all_skills = []\n",
    "    # Read pdf\n",
    "    with pdfplumber.open(filename) as pdf:\n",
    "        for page in pdf.pages:\n",
    "            page_text = page.extract_text()\n",
    "            this_skills = extract_skills(page_text)\n",
    "            all_skills.extend(this_skills)\n",
    "    all_skills = list(set(all_skills))\n",
    "    keep_skills, ignore_skills = extract_ignore(all_skills)\n",
    "    keep_skills.sort()\n",
    "    ignore_skills.sort()\n",
    "    return keep_skills, ignore_skills\n",
    "\n",
    "def get_domains(skills):\n",
    "    df_skills = pd.read_csv('skills_db2/skill.csv')\n",
    "    df_domains = pd.read_csv('skills_db2/domain.csv')\n",
    "    df_skills = df_skills.merge(df_domains, left_on='DomainId', right_on='Id')\n",
    "    return df_skills.loc[df_skills['Skill'].isin(keep_skills)]['Domain'].value_counts()"
   ]
  },
  {
   "cell_type": "code",
   "execution_count": 3,
   "metadata": {},
   "outputs": [],
   "source": [
    "with pdfplumber.open(\"resource/binxuankong.pdf\") as pdf:\n",
    "    pdf_text = []\n",
    "    for page in pdf.pages:\n",
    "        pdf_text.append(page.extract_text())"
   ]
  },
  {
   "cell_type": "code",
   "execution_count": 4,
   "metadata": {},
   "outputs": [
    {
     "data": {
      "text/plain": [
       "'BIN XUAN KONG\\n(+60)126112151 (cid:5) binxuankong@gmail.com (cid:5) github.com/binxuankong\\nSkills\\nTechnical Deep Learning, Computer Vision, Natural Language Processing,\\nComputational Optimization, Data Visualization, Software Engineering\\nProgramming Python, Java, C#, SQL, Prolog, MATLAB, LaTeX\\nTools NumPy, Pandas, SciKit, Theano, PyTorch, Tableau\\nSoft Problem Solving, Time Management, Teamwork, Adaptability, Creativity\\nWork Experience\\nThe Center of Applied Data Science (CADS) Mar 2020 - Present\\nData Science Specialist Kuala Lumpur, Malaysia\\n· Currently in part of The CADS Graduate Talent Program\\n· Work on internal projects to migrate data from several diﬀerent databases into a clean integrated database to\\nallow the ease of analysis\\n· Work on internal projects to analyze data and produce dashboard which provide meaningful insights and\\nsolutions to the company\\n· Work as a Technical/Teaching Assistant (TA), creating and reviewing course materials, and assisting primary\\nlead\\nMaxis Jul 2017 - Aug 2017\\nBusiness Intelligence Intern Kuala Lumpur, Malaysia\\n· Extracted and managed data in the database using Oracle SQL\\n· Created reports based on customer requirements using Qlik Sense\\n· Analysed and compared the back-end data with business data\\nEducation\\nImperial College London Sep 2018 - Sep 2019\\nMSc Advanced Computing Result: Distinction\\nUniversity of Manchester Sep 2015 - Jun 2018\\nBSc(Hons) Computer Science and Mathematics Classiﬁcation: First Class\\nTaylor’s College Subang Jaya Jan 2014 - Jun 2015\\nCambridge International A Level Chemistry (A*), Physics (A*), Mathematics (A*)\\nProjects\\nDeep Image Reconstruction from Brain Activity Apr 2019 - Sep 2019\\n· Functional magnetic resonance imaging (fMRI) and electroencephalogram (EEG) used to record people’s brain\\nactivity of subjects viewing diﬀerent images\\n· Developed novel approach of using a dual generative adversarial network (DualGan) to generate images from\\nrecorded brain activity\\n· Implementedthecurrentstate-of-the-artmethodofreversingapre-trainedconvolutionalneuralnetwork(CNN)\\nto investigate results on own dataset\\nPoetry Generation using Deep Learning Sep 2017 - Apr 2018\\n· Program to generate poems using recurrent neural network and gated recurrent units\\n· Distinct poems can be generated based on a user-supplied topic or image\\n· Built with Python, in particular Theano and TensorFlow to implement the neural networks, and external APIs\\nEventLite Feb 2017 - May 2017\\n· Web application to create, list, search and manage events that are going on in Manchester\\n· Has two main roles, event seekers for those looking for events and event managers for those who create events\\n· Created by a team of six using Spring frameworks and external APIs'"
      ]
     },
     "execution_count": 4,
     "metadata": {},
     "output_type": "execute_result"
    }
   ],
   "source": [
    "pdf_text[0]"
   ]
  },
  {
   "cell_type": "code",
   "execution_count": 5,
   "metadata": {},
   "outputs": [
    {
     "data": {
      "text/plain": [
       "'Stendhal Game Sep 2016 - Dec 2016\\n· Stendhal is a multi-player online adventure open source game\\n· Tested, debugged, built, developed and deployed a multi-user, multi-threaded, client-server open source game\\n· Automation of builds and tests done using Eclipse, Git, Apache Ant, Jenkins, JUnit and SonarQube\\nStudy Buddy Feb 2016 - Apr 2016\\n· Web application to assist users in studying and help them be aware of procrastination\\n· Users can input quizzes, which would pop-up periodically for them to complete\\n· Created by a team of six using HTML, CSS, PHP, MySQL and JavaScript\\nExternal Curriculum\\nInternational Council of Malaysians Scholars and Associates (ICMS) Nov 2016 - Mar 2018\\nSecretarial Associate International\\n· ICMS is a non-proﬁt professional network of driven and passionate individuals designed to operate like a\\nmultinational organization that provides opportunity to experience working in a multi-national company\\n· Developed transferable skills through internal programs and by managing projects\\n· Rebranded website and assisted in server migration\\n· Provided assistance in workshops to teach associates coding\\nEnactus Manchester - SPOT Finance Nov 2016 - Jun 2017\\nProject Member Manchester\\n· SPOTFinancerunsworkshopsonavarietyofﬁnancialaspectsforstudentsinsecondaryschoolaroundManch-\\nester\\n· Worked in a team to create the content of lessons which covered topics such as budgeting, saving and interest\\n· Improved interpersonal skills such as leadership, communication and decision making\\nManchester Malaysian Night 2017 Oct 2016 - Mar 2017\\nLighting Director Manchester\\n· ManchesterMalaysianNightisanannualﬂagshipeventorganisedbytheMalaysianStudentsSocietyofManch-\\nester (MSSM) with the purpose of promoting the unique and diverse culture of Malaysia\\n· Created the light plot for the play and ensured that each light cue is triggered at the correct timing\\n· Enhanced creativity and communication skills as well as ability to follow technical and design instructions\\nMalaysian Student’s Technology Conference Jun 2016 - Aug 2016\\nSponsorship Ambassador Kuala Lumpur, Malaysia\\n· Malaysian Students’ Technology Conference is the ﬁrst ever student-led technology conference in Malaysia,\\norganised under Malaysian Students Society of Manchester (MSSM) in partnership with TalentCorp Malaysia\\n· Assisted the sponsorship director to seek potential sponsors who might be interested in collaborating\\n· Escorted sponsors and guests to the venue and liaised with the sponsors on the day of the conference\\n· Strengthened written and verbal communication skills and organisational skills\\nAwards and Achievements\\nCertiﬁcate of Excellence Jun 2018\\nAwarded to the top 10% of graduating students in the School of Computer Science\\nInternational Excellence Undergraduate Scholarship Dec 2015\\nAwarded based on outstanding academic performance by the University of Manchester\\nReferences available on request'"
      ]
     },
     "execution_count": 5,
     "metadata": {},
     "output_type": "execute_result"
    }
   ],
   "source": [
    "pdf_text[1]"
   ]
  },
  {
   "cell_type": "code",
   "execution_count": 6,
   "metadata": {},
   "outputs": [
    {
     "name": "stdout",
     "output_type": "stream",
     "text": [
      "['Ad Design', 'Adaptability', 'Analysis', 'Apache Ant', 'Application Programming Interface (API)', 'Automation', 'Budget', 'Business Intelligence (BI)', 'C#', 'Cascading Style Sheet (CSS)', 'Chemistry', 'Coding', 'Collaboration', 'Computational Optimization', 'Computer Science', 'Computer Vision', 'Computing', 'Construction', 'Convolutional Neural Network (CNN)', 'Creativity', 'Dashboard', 'Data Science', 'Data Visualization', 'Database', 'Dataset', 'Decision Making', 'Deep Learning', 'Dual Generative Adversarial Network (DualGAN)', 'Eclipse', 'Electroencephalogram (EEG)', 'Finance', 'Functional Magnetic Resonance Imaging (fMRI)', 'Gated Recurrent Unit (GRU)', 'Generative Adversarial Network (GAN)', 'Git', 'Github', 'HyperText Markup Language (HTML)', 'Image', 'International Law', 'JUnit', 'Java', 'JavaScript', 'Jenkins', 'LaTeX', 'Leadership', 'MATLAB', 'Mathematics', 'MySQL', 'Natural Language Processing (NLP)', 'Nonverbal Communication', 'NumPy', 'Oracle', 'Organizational Skill', 'PHP', 'Pandas', 'Physics', 'Play', 'Problem Solving', 'Prolog', 'PyTorch', 'Python', 'Qlik Sense', 'Recurrent Neural Network (RNN)', 'Saving', 'Scikit-learn', 'Software Engineering', 'SonarQube', 'Spring Framework', 'Structured Query Language (SQL)', 'Tableau', 'Teamwork', 'TensorFlow', 'Theano', 'Time Management', 'Visualization', 'Web Application']\n",
      "\n",
      "['Ant', 'Apache', 'Application', 'Communication', 'Culture', 'Data', 'Design', 'Education', 'Engineering', 'IPython', 'Interest', 'Language', 'List', 'Management', 'Network', 'Neural Network', 'Preference', 'Processing', 'Programming', 'Qlik', 'SQL', 'Spring', 'Visualization']\n"
     ]
    }
   ],
   "source": [
    "keep_skills, ignore_skills = extract_cv_skill('resource/binxuankong.pdf')\n",
    "print(keep_skills)\n",
    "print()\n",
    "print(ignore_skills)"
   ]
  },
  {
   "cell_type": "code",
   "execution_count": 7,
   "metadata": {},
   "outputs": [
    {
     "data": {
      "text/plain": [
       "Computer Science               32\n",
       "Data Science                   19\n",
       "Business                       13\n",
       "Natural Science                 4\n",
       "Arts and Humanities             3\n",
       "Mathematics and Logic           2\n",
       "Social Science                  2\n",
       "Information Technology (IT)     1\n",
       "Name: Domain, dtype: int64"
      ]
     },
     "execution_count": 7,
     "metadata": {},
     "output_type": "execute_result"
    }
   ],
   "source": [
    "get_domains(keep_skills)"
   ]
  },
  {
   "cell_type": "code",
   "execution_count": 8,
   "metadata": {},
   "outputs": [
    {
     "name": "stdout",
     "output_type": "stream",
     "text": [
      "18\n",
      "['resource/CVs/10) Nur Ain.pdf', 'resource/CVs/11) Nur Ul Atikah.pdf', 'resource/CVs/12) Nurul Hajar.pdf', 'resource/CVs/13) Razif.pdf', 'resource/CVs/14) Siti Atikah.pdf', 'resource/CVs/15) Siti Hajar Saharudin.pdf', 'resource/CVs/16) Suhaila Sulaiman.pdf', 'resource/CVs/17) Syaza Izyanni.pdf', 'resource/CVs/18) Tan Weng Chun.pdf', 'resource/CVs/19) Tengku.pdf', 'resource/CVs/2) A Hanif.pdf', 'resource/CVs/20) Wan Rosalina Wan Rosli.pdf', 'resource/CVs/21) Yasmin.pdf', 'resource/CVs/5) Hamza.pdf', 'resource/CVs/6) Kamarul Zaman.pdf', 'resource/CVs/7) Zaihafiz.pdf', 'resource/CVs/8) Nor Syaida.pdf', 'resource/CVs/9) B Norerama.pdf']\n"
     ]
    }
   ],
   "source": [
    "folder = 'resource/CVs'\n",
    "directory = os.fsencode(folder)\n",
    "filenames = []\n",
    "    \n",
    "for file in os.listdir(directory):\n",
    "    filename = os.fsdecode(file)\n",
    "    if filename.endswith('.pdf'): \n",
    "        filenames.append(folder + '/' + filename)\n",
    "\n",
    "filenames.sort()\n",
    "print(len(filenames))\n",
    "print(filenames)"
   ]
  },
  {
   "cell_type": "code",
   "execution_count": 9,
   "metadata": {},
   "outputs": [],
   "source": [
    "skills_dict = {}\n",
    "\n",
    "for f in filenames:\n",
    "    skills = extract_cv_skill(f)\n",
    "    skills_dict[f] = skills"
   ]
  },
  {
   "cell_type": "code",
   "execution_count": 10,
   "metadata": {},
   "outputs": [],
   "source": [
    "def print_skills(index):\n",
    "    print('Individual:', filenames[index])\n",
    "    print('Skills:', skills_dict[filenames[index]][0])\n",
    "    print('Ignore Skills:', skills_dict[filenames[index]][1])"
   ]
  },
  {
   "cell_type": "code",
   "execution_count": 11,
   "metadata": {},
   "outputs": [
    {
     "name": "stdout",
     "output_type": "stream",
     "text": [
      "Individual: resource/CVs/10) Nur Ain.pdf\n",
      "Skills: ['Agriculture', 'Analysis', 'Anatomy', 'Aquaculture', 'Biochemistry', 'Bioinformatics', 'Biotechnology', 'Chemical', 'Chemistry', 'Communication', 'Consulting', 'Critical Thinking', 'Customer Service', 'Design', 'Division', 'Ecology', 'Email', 'English', 'Environmental Science', 'Expectation-Maximization (EM)', 'Forecasting', 'Human Resource (HR)', 'Information Technology (IT)', 'Insurance', 'Leadership', 'Life Science', 'Malay', 'Media', 'Medium', 'Methodology', 'Microbiology', 'Microsoft Excel', 'Microsoft PowerPoint', 'Microsoft Word', 'Molecular Biology', 'Morphology', 'Outreach', 'Physiology', 'Polymerase chain reaction (PCR)', 'Poster', 'Problem Solving', 'Procurement', 'Research and Development (R&D)', 'SAS', 'Sales', 'Service Management', 'Technology Management', 'Training', 'Tree', 'Writing']\n",
      "Ignore Skills: ['BASIC', 'Biology', 'Culture', 'D', 'Depression', 'Development', 'Education', 'Executive', 'Goods', 'Interest', 'List', 'Management', 'Microsoft', 'Microsoft Office', 'Planning', 'Preference', 'Product', 'Production', 'Research', 'Service']\n"
     ]
    }
   ],
   "source": [
    "index = 0\n",
    "print_skills(index)"
   ]
  },
  {
   "cell_type": "code",
   "execution_count": 12,
   "metadata": {},
   "outputs": [
    {
     "name": "stdout",
     "output_type": "stream",
     "text": [
      "Individual: resource/CVs/11) Nur Ul Atikah.pdf\n",
      "Skills: ['Agricultural Engineering', 'Agriculture', 'Automation', 'Chemical', 'Classification', 'Combat Engineering', 'Cooking', 'Design', 'Dimensionality Reduction', 'Electronics', 'English', 'Environmental Science', 'Food Science', 'Innovation', 'Malay', 'Mechanical Engineering', 'Poster', 'Research', 'Systems Engineering', 'Translation']\n",
      "Ignore Skills: ['Data', 'Development', 'Education', 'Engineering', 'Food', 'Language', 'List', 'Profiler', 'Unemployment']\n"
     ]
    }
   ],
   "source": [
    "index += 1\n",
    "print_skills(index)"
   ]
  },
  {
   "cell_type": "code",
   "execution_count": 13,
   "metadata": {},
   "outputs": [
    {
     "name": "stdout",
     "output_type": "stream",
     "text": [
      "Individual: resource/CVs/12) Nurul Hajar.pdf\n",
      "Skills: ['Analytical', 'C++', 'Computer Science', 'Electronics', 'Engineering', 'English', 'Internet', 'Java', 'MATLAB', 'Malay', 'Microsoft Access', 'Microsoft Excel', 'Microsoft Office', 'MySQL', 'Oracle', 'PHP', 'Philosophy of Mathematics', 'Physics', 'Problem Solving', 'SPSS', 'Time Management', 'Training']\n",
      "Ignore Skills: ['Application', 'Education', 'Excel', 'Language', 'Make', 'Management', 'Mathematics', 'Microsoft', 'Philosophy', 'Preference', 'Profiler']\n"
     ]
    }
   ],
   "source": [
    "index += 1\n",
    "print_skills(index)"
   ]
  },
  {
   "cell_type": "code",
   "execution_count": 14,
   "metadata": {},
   "outputs": [
    {
     "name": "stdout",
     "output_type": "stream",
     "text": [
      "Individual: resource/CVs/13) Razif.pdf\n",
      "Skills: ['C', 'Computer Programming', 'Design', 'Electronics', 'Email', 'Engineering', 'Numerical Method', 'Physics', 'Quantum Mechanics', 'R', 'Research', 'Semiconductors']\n",
      "Ignore Skills: ['BASIC', 'Education', 'Mechanics', 'Preference', 'Profiler', 'Programming', 'Unemployment']\n"
     ]
    }
   ],
   "source": [
    "index += 1\n",
    "print_skills(index)"
   ]
  },
  {
   "cell_type": "code",
   "execution_count": 15,
   "metadata": {},
   "outputs": [
    {
     "name": "stdout",
     "output_type": "stream",
     "text": [
      "Individual: resource/CVs/14) Siti Atikah.pdf\n",
      "Skills: ['Agriculture', 'Analysis', 'Chemical', 'Chemistry', 'Data Science', 'Derivative', 'Design', 'Email', 'English', 'Facebook', 'Instagram', 'Leadership', 'Malay', 'Mathematics', 'Methodology', 'Microsoft Excel', 'Microsoft Word', 'Objective-C', 'Social Media', 'Teamwork', 'Twitter', 'Video']\n",
      "Ignore Skills: ['Data', 'Development', 'Education', 'Excel', 'Language', 'Media', 'Microsoft', 'Preference', 'Product']\n"
     ]
    }
   ],
   "source": [
    "index += 1\n",
    "print_skills(index)"
   ]
  },
  {
   "cell_type": "code",
   "execution_count": 16,
   "metadata": {},
   "outputs": [
    {
     "name": "stdout",
     "output_type": "stream",
     "text": [
      "Individual: resource/CVs/15) Siti Hajar Saharudin.pdf\n",
      "Skills: ['Analysis', 'Biotechnology', 'Chemical Engineering', 'Communication', 'English', 'Fabrication', 'German', 'Image', 'International Trade', 'Leadership', 'Malay', 'Mathematics', 'Microsoft Excel', 'Microsoft PowerPoint', 'Microsoft Word', 'Objective-C', 'Reporting', 'Research', 'Search Engine Marketing (SEM)', 'Shell', 'Teamwork']\n",
      "Ignore Skills: ['Application', 'Chemical', 'Data', 'Development', 'Education', 'Engineering', 'Excel', 'Language', 'Microsoft', 'Preference', 'Product', 'Production', 'Trade']\n"
     ]
    }
   ],
   "source": [
    "index += 1\n",
    "print_skills(index)"
   ]
  },
  {
   "cell_type": "code",
   "execution_count": 17,
   "metadata": {},
   "outputs": [
    {
     "name": "stdout",
     "output_type": "stream",
     "text": [
      "Individual: resource/CVs/16) Suhaila Sulaiman.pdf\n",
      "Skills: ['Analytical', 'Automation', 'Bash', 'Big Data', 'Biochemistry', 'Bioinformatics Analysis', 'Brand Management', 'C++', 'Cascading Style Sheet (CSS)', 'Cloud Computing', 'Comparative Economics', 'Data Analysis', 'Data Analytics', 'Data Mining', 'Data Science', 'Data Visualization', 'Database System', 'Division', 'Email', 'Encoding', 'Formatting', 'Genomics', 'HyperText Markup Language (HTML)', 'Informatics', 'Innovation', 'JavaScript', 'Lean Software Development', 'LinkedIn', 'Linux', 'Machine Learning', 'Molecular Biology', 'MySQL', 'Network', 'Nutrition', 'PHP', 'Perl', 'Platform', 'Poster', 'Problem Solving', 'Programming', 'Project Management', 'Python', 'Research and Development (R&D)', 'Risk Analysis', 'Scripting', 'Technical Support', 'Training', 'Visualization']\n",
      "Ignore Skills: ['Analysis', 'Analytics', 'Bioinformatics', 'Biology', 'Computing', 'D', 'Data', 'Database', 'Development', 'Education', 'Executive', 'IPython', 'Management', 'Mining', 'Operations', 'Preference', 'Production', 'Profiler', 'R', 'Research', 'Service', 'Software Development', 'Support', 'Visualization']\n"
     ]
    }
   ],
   "source": [
    "index += 1\n",
    "print_skills(index)"
   ]
  },
  {
   "cell_type": "code",
   "execution_count": 18,
   "metadata": {},
   "outputs": [
    {
     "name": "stdout",
     "output_type": "stream",
     "text": [
      "Individual: resource/CVs/17) Syaza Izyanni.pdf\n",
      "Skills: ['Aspen HYSYS', 'Chemical Engineering', 'Competition', 'Delegation', 'Design', 'Economics', 'Energy Technology', 'English', 'Environmental Engineering', 'Indonesian', 'Innovation', 'Japanese', 'MATLAB', 'Malay', 'Management', 'Manufacturing', 'Mathematical Modelling', 'Medium', 'Microsft Publisher', 'Microsoft Excel', 'Microsoft PowerPoint', 'Microsoft Word', 'Outreach', 'Philosophy', 'Poster', 'Presentation', 'Process Model', 'Research and Development (R&D)', 'Root Cause Analysis', 'Router', 'Safety Engineering', 'Sales', 'Saving', 'Selection', 'Sustainability', 'Sustainable Development', 'Systems Engineering']\n",
      "Ignore Skills: ['Analysis', 'BASIC', 'Chemical', 'Development', 'Engineering', 'Industry', 'Language', 'Microsoft', 'Microsoft Office', 'Modelling', 'Preference', 'Production', 'Profiler', 'Research', 'Service']\n"
     ]
    }
   ],
   "source": [
    "index += 1\n",
    "print_skills(index)"
   ]
  },
  {
   "cell_type": "code",
   "execution_count": 19,
   "metadata": {
    "scrolled": true
   },
   "outputs": [
    {
     "name": "stdout",
     "output_type": "stream",
     "text": [
      "Individual: resource/CVs/18) Tan Weng Chun.pdf\n",
      "Skills: ['Artificial Intelligence (AI)', 'Assembly', 'AutoCAD', 'Automation', 'Benchmarking', 'C++', 'Classification', 'Competition', 'Construction', 'Data Science', 'Design', 'Documentation', 'Eclipse', 'Electrical Engineering', 'Electronic Engineering', 'Electronics', 'Extract Transform Load (ETL)', 'Feature Engineering', 'Google BigQuery', 'Google Cloud Platform (GCP)', 'Google Colaboratory', 'Hardware', 'Integrated Development Environment (IDE)', 'International Standards on Auditing (ISA)', 'Java', 'Jupyter Notebook', 'LabVIEW', 'MATLAB', 'Matplotlib', 'Mean Shift', 'Mechatronics', 'MongoDB', 'Multisim', 'NetBeans', 'Neural Network', 'NoSQL', 'NumPy', 'Objective-C', 'OpenCV', 'Pandas', 'Perl', 'Philosophy', 'Programming Language', 'Pspice', 'Python', 'Research', 'Robotics', 'Scikit-learn', 'Seaborn', 'Shell', 'Signal Processing', 'U-Net', 'VHDL', 'Verilog']\n",
      "Ignore Skills: ['AI', 'Application', 'C', 'Cloud Platform', 'Data', 'Development', 'ETL', 'Engineering', 'Google Cloud', 'IPython', 'Jupyter', 'Language', 'List', 'Network', 'Platform', 'Preference', 'Processing', 'Programming', 'Service']\n"
     ]
    }
   ],
   "source": [
    "index += 1\n",
    "print_skills(index)"
   ]
  },
  {
   "cell_type": "code",
   "execution_count": 20,
   "metadata": {},
   "outputs": [
    {
     "name": "stdout",
     "output_type": "stream",
     "text": [
      "Individual: resource/CVs/19) Tengku.pdf\n",
      "Skills: ['Accounting', 'Analytical', 'Applied Statistics', 'Bookkeeping', 'C++', 'Data Mining', 'Database', 'Design', 'Microsoft Excel', 'Microsoft Office', 'Poster', 'Presentation', 'R', 'Research', 'SPSS']\n",
      "Ignore Skills: ['B', 'C', 'D', 'Data', 'Excel', 'Microsoft', 'Mining', 'Programming', 'R', 'Set', 'Statistics', 'Support']\n"
     ]
    }
   ],
   "source": [
    "index += 1\n",
    "print_skills(index)"
   ]
  },
  {
   "cell_type": "code",
   "execution_count": 21,
   "metadata": {},
   "outputs": [
    {
     "name": "stdout",
     "output_type": "stream",
     "text": [
      "Individual: resource/CVs/2) A Hanif.pdf\n",
      "Skills: ['Accuracy', 'Artificial Neural Network (ANN)', 'Astronomy', 'Collaboration', 'Communication', 'Control Engineering', 'Correlation', 'Descriptive Statistics', 'Design', 'Documentation', 'Electrical Engineering', 'Electronic Engineering', 'Electronics', 'English', 'Evolutionary Algorithm', 'Gastronomy', 'German', 'Hardware', 'Hindi', 'ISO 9001', 'Indonesian', 'Industrial Automation', 'Informatics', 'Information Technology (IT)', 'Internet', 'Java', 'Landscape Architecture', 'Logic', 'MATLAB', 'Malay', 'Mathematics', 'Mechanics', 'Microsoft Excel', 'Microsoft PowerPoint', 'Modelling', 'Objective-C', 'Operating System', 'Photography', 'Physics', 'Physiology', 'Platform', 'Process Control System', 'Production Process', 'Project Management', 'R', 'Regression', 'Research and Development (R&D)', 'Robot', 'Robotics', 'SPSS', 'Simulink', 'Soft Computing', 'Software Engineering', 'Sports', 'Spring', 'Statistical Analysis', 'TestNG', 'Testing', 'Training', 'Tree', 'VHDL', 'Variable', 'Visual Basic', 'Web Server', 'Windows']\n",
      "Ignore Skills: ['Algorithm', 'Analysis', 'Application', 'Architecture', 'Automation', 'BASIC', 'C', 'Computing', 'Control System', 'Development', 'Education', 'Engineering', 'Function', 'Implementation', 'Industry', 'Interest', 'Language', 'Management', 'Network', 'Neural Network', 'Operations', 'Planning', 'Product', 'Production', 'Programming', 'R', 'Research', 'Set', 'Statistics', 'Support']\n"
     ]
    }
   ],
   "source": [
    "index += 1\n",
    "print_skills(index)"
   ]
  },
  {
   "cell_type": "code",
   "execution_count": 22,
   "metadata": {},
   "outputs": [
    {
     "name": "stdout",
     "output_type": "stream",
     "text": [
      "Individual: resource/CVs/20) Wan Rosalina Wan Rosli.pdf\n",
      "Skills: ['Administration', 'Analytical', 'Apache Hadoop', 'Apache Hive', 'Apache Spark', 'Bioinformatics', 'Biotechnology', 'Brand Management', 'Cloudera Manager', 'Clustering', 'Data Cleansing', 'Data Engineering', 'Data Mining', 'Data Preparation', 'Data Science Tool', 'Data Streaming', 'Database', 'Design', 'Email', 'Entrepreneurship', 'Ethics', 'Exploratory Analysis', 'Github', 'Industrial Relations', 'Innovation', 'Iterative and Incremental Development (IID)', 'Leadership', 'LinkedIn', 'Machine Learning', 'Microsoft Access', 'Molecular Biology', 'Network', 'Networking', 'Objective-C', 'Pharmacy', 'Platform', 'Polymerase chain reaction (PCR)', 'PostgreSQL', 'Problem Solving', 'Python', 'Quality Assurance (QA)', 'R', 'Regression', 'Research', 'Sequence', 'Spark Streaming', 'Structured Query Language (SQL)', 'Training', 'Visualization']\n",
      "Ignore Skills: ['Analysis', 'Apache', 'Application', 'B', 'Biology', 'Cloudera', 'Culture', 'Data', 'Data Science', 'Development', 'Education', 'Engineering', 'IPython', 'Interest', 'List', 'Management', 'Mining', 'Planning', 'Programming', 'Python', 'SQL', 'Spark', 'Streaming']\n"
     ]
    }
   ],
   "source": [
    "index += 1\n",
    "print_skills(index)"
   ]
  },
  {
   "cell_type": "code",
   "execution_count": 23,
   "metadata": {},
   "outputs": [
    {
     "name": "stdout",
     "output_type": "stream",
     "text": [
      "Individual: resource/CVs/21) Yasmin.pdf\n",
      "Skills: ['Administration', 'Animation', 'Artificial Intelligence (AI)', 'Blogging', 'Business Analysis', 'C++', 'Cascading Style Sheet (CSS)', 'Communication', 'Computer Science', 'Database', 'Documentation', 'Dreamweaver', 'Economics', 'Electronics', 'Email', 'English', 'French', 'Hindi', 'HyperText Markup Language (HTML)', 'Information System', 'Information Technology (IT)', 'Java', 'MATLAB', 'Malay', 'Management', 'Mathematics', 'Microsoft Office', 'MySQL', 'Neural Network', 'Oracle', 'PHP', 'Perceptron', 'Programming Language', 'Programming Tool', 'Prolog', 'Quality Assurance (QA)', 'R', 'RStudio', 'Research', 'Software Engineering', 'Software Tool', 'Structured Query Language (SQL)', 'TestNG', 'Testing', 'Urdu', 'Virtual Reality (VR)', 'Visual Basic', 'Writing', 'eCommerce']\n",
      "Ignore Skills: ['BASIC', 'C', 'Development', 'Education', 'Engineering', 'Function', 'Language', 'Microsoft', 'Money', 'Network', 'Operations', 'Product', 'Programming', 'SQL', 'Service', 'Unemployment', 'Virtual Reality']\n"
     ]
    }
   ],
   "source": [
    "index += 1\n",
    "print_skills(index)"
   ]
  },
  {
   "cell_type": "code",
   "execution_count": 24,
   "metadata": {},
   "outputs": [
    {
     "name": "stdout",
     "output_type": "stream",
     "text": [
      "Individual: resource/CVs/5) Hamza.pdf\n",
      "Skills: ['Android', 'Artificial Intelligence (AI)', 'Business Analysis', 'C++', 'Computer Science', 'Data Mining', 'Data Science', 'Embedded System', 'English', 'Finance', 'Genetic Algorithm', 'Image', 'Information Technology (IT)', 'Java', 'LinkedIn', 'Malay', 'Microsoft Access', 'Microsoft Office', 'MySQL', 'Neural Network', 'Nutrition', 'Oracle', 'Outreach', 'PHP', 'Philosophy', 'Programming Language', 'Python', 'R', 'Recommendation System', 'Research', 'Router', 'Software Engineering', 'Structured Query Language (SQL)', 'Training', 'Windows']\n",
      "Ignore Skills: ['Algorithm', 'Analysis', 'Application', 'B', 'BASIC', 'Data', 'Development', 'Education', 'Engineering', 'Food', 'IPython', 'Language', 'Microsoft', 'Mining', 'Network', 'Product', 'Profiler', 'Programming', 'R', 'SQL']\n"
     ]
    }
   ],
   "source": [
    "index += 1\n",
    "print_skills(index)"
   ]
  },
  {
   "cell_type": "code",
   "execution_count": 25,
   "metadata": {},
   "outputs": [
    {
     "name": "stdout",
     "output_type": "stream",
     "text": [
      "Individual: resource/CVs/6) Kamarul Zaman.pdf\n",
      "Skills: ['Ad Design', 'Adobe Photoshop', 'Analysis', 'Antivirus Software', 'Blogging', 'C++', 'Cascading Style Sheet (CSS)', 'Cisco Certified Network Associate (CCNA)', 'Cisco Router', 'Computer Engineering', 'Computer Science', 'Configuration', 'Customer Service', 'Documentation', 'Dreamweaver', 'Dropbox', 'Electronics', 'Email', 'Engineering Technology', 'English', 'Extreme Programming (XP)', 'Firewall', 'Hardware', 'History', 'HyperText Markup Language (HTML)', 'IP Address', 'IP Addressing', 'Incident Management', 'Informatics', 'Information Technology (IT)', 'Intellectual Property (IP)', 'Internet Protocol (IP)', 'Java', 'Linux', 'MATLAB', 'Microsoft Excel', 'Microsoft PowerPoint', 'Microsoft Word', 'MySQL', 'Network Management', 'Network Security', 'Network Service', 'Networking', 'Operating System', 'PHP', 'Platform', 'Problem Management', 'Programming Language', 'R', 'Reporting', 'Research', 'Rivest-Shamir-Adleman (RSA)', 'Routing Protocol', 'Soft Computing', 'Software Engineering', 'Systems Engineering', 'Technical Support', 'Telecommunication', 'TestNG', 'Testing', 'Vmware', 'Windows', 'Wireless Network']\n",
      "Ignore Skills: ['Application', 'B', 'Computing', 'Design', 'Education', 'Engineering', 'Expectations', 'Implementation', 'Language', 'List', 'Management', 'Microsoft', 'Microsoft Office', 'Network', 'Operations', 'Preference', 'Product', 'Programming', 'Protocol', 'Router', 'Security', 'Service', 'Support']\n"
     ]
    }
   ],
   "source": [
    "index += 1\n",
    "print_skills(index)"
   ]
  },
  {
   "cell_type": "code",
   "execution_count": 26,
   "metadata": {},
   "outputs": [
    {
     "name": "stdout",
     "output_type": "stream",
     "text": [
      "Individual: resource/CVs/7) Zaihafiz.pdf\n",
      "Skills: ['A/B Testing', 'Architecture', 'Audit', 'AutoCAD', 'Building Science', 'Civil Engineering', 'Communication', 'Construction', 'Data Analysis', 'Database', 'Design', 'Documentation', 'Economics', 'Email', 'English', 'Financial Modelling', 'Human Resource (HR)', 'ISO 9001', 'Information System', 'Leadership', 'Market', 'Microsoft Excel', 'Microsoft PowerPoint', 'Microsoft Word', 'Music', 'Objective-C', 'Physics', 'Project Management', 'QA Testing', 'R', 'Research', 'SPSS', 'Sustainability', 'TestNG', 'Training', 'Transportation']\n",
      "Ignore Skills: ['Analysis', 'Application', 'B', 'Commercial', 'Coordination', 'Data', 'Development', 'Education', 'Engineering', 'Function', 'Implementation', 'Industry', 'Interest', 'Language', 'List', 'Management', 'Microsoft', 'Microsoft Office', 'Modelling', 'Operations', 'Planning', 'Preference', 'Service', 'Testing']\n"
     ]
    }
   ],
   "source": [
    "index += 1\n",
    "print_skills(index)"
   ]
  },
  {
   "cell_type": "code",
   "execution_count": 27,
   "metadata": {},
   "outputs": [
    {
     "name": "stdout",
     "output_type": "stream",
     "text": [
      "Individual: resource/CVs/8) Nor Syaida.pdf\n",
      "Skills: ['Analytical Chemistry', 'Derivative', 'English', 'Environmental Law', 'Microsft Publisher', 'Microsoft Excel', 'Microsoft PowerPoint', 'Microsoft Word', 'Objective-C', 'Philosophy', 'Public Relations (PR)', 'Quality Control', 'R', 'SPSS', 'Statistics']\n",
      "Ignore Skills: ['Addition', 'Analytical', 'BASIC', 'Chemistry', 'Excel', 'List', 'Make', 'Microsoft', 'PowerPoint', 'Product']\n"
     ]
    }
   ],
   "source": [
    "index += 1\n",
    "print_skills(index)"
   ]
  },
  {
   "cell_type": "code",
   "execution_count": 28,
   "metadata": {},
   "outputs": [
    {
     "name": "stdout",
     "output_type": "stream",
     "text": [
      "Individual: resource/CVs/9) B Norerama.pdf\n",
      "Skills: ['Agriculture', 'Arts', 'AutoCAD', 'Brand Management', 'C', 'Coaching', 'Competition', 'Construction', 'Control System', 'Cooking', 'Customer Service', 'Data Analysis', 'Data Science', 'Database', 'Design', 'Documentation', 'Editor', 'Electronics', 'Email', 'English', 'Ethics', 'Fluid Mechanics', 'Google Docs', 'Hospitality', 'Human Resource (HR)', 'Innovation', 'Internet', 'Korean', 'Leadership', 'MATLAB', 'Malay', 'Manufacturing Engineering', 'Mathematics', 'Mechanical Engineering', 'Methodology', 'Microsft Publisher', 'Microsoft Excel', 'Microsoft Office', 'Microsoft PowerPoint', 'Microsoft Visio', 'Network', 'Nonverbal Communication', 'Office Management', 'Philosophy', 'Presentation', 'Public Speaking', 'RStudio', 'Research', 'Retail', 'Sales', 'Sports', 'Statistics', 'Subject Matter Expert (SME)', 'Sustainable Development', 'TestNG', 'Testing', 'Training', 'Velocity', 'Welding', 'Writing']\n",
      "Ignore Skills: ['Analysis', 'Application', 'B', 'Communication', 'D', 'Data', 'Development', 'Education', 'Engineering', 'Executive', 'Industry', 'Language', 'List', 'Management', 'Manufacturing', 'Mechanics', 'Microsoft', 'Preference', 'Product', 'Service']\n"
     ]
    }
   ],
   "source": [
    "index += 1\n",
    "print_skills(index)"
   ]
  },
  {
   "cell_type": "code",
   "execution_count": null,
   "metadata": {},
   "outputs": [],
   "source": []
  }
 ],
 "metadata": {
  "kernelspec": {
   "display_name": "Python 3",
   "language": "python",
   "name": "python3"
  },
  "language_info": {
   "codemirror_mode": {
    "name": "ipython",
    "version": 3
   },
   "file_extension": ".py",
   "mimetype": "text/x-python",
   "name": "python",
   "nbconvert_exporter": "python",
   "pygments_lexer": "ipython3",
   "version": "3.7.6"
  }
 },
 "nbformat": 4,
 "nbformat_minor": 4
}
