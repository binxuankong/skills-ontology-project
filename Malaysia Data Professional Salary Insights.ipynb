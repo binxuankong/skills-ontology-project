{
 "cells": [
  {
   "cell_type": "code",
   "execution_count": 176,
   "metadata": {},
   "outputs": [],
   "source": [
    "import pandas as pd\n",
    "import re\n",
    "import matplotlib.pyplot as plt\n",
    "import seaborn as sns\n",
    "import warnings\n",
    "import queries\n",
    "from sqlalchemy import create_engine\n",
    "from secrets import secrets\n",
    "\n",
    "warnings.filterwarnings(\"ignore\")"
   ]
  },
  {
   "cell_type": "markdown",
   "metadata": {},
   "source": [
    "# Extract Data"
   ]
  },
  {
   "cell_type": "code",
   "execution_count": 2,
   "metadata": {},
   "outputs": [],
   "source": [
    "engine = create_engine(secrets['indeed_db'])"
   ]
  },
  {
   "cell_type": "markdown",
   "metadata": {},
   "source": [
    "## Data Analyst"
   ]
  },
  {
   "cell_type": "code",
   "execution_count": 3,
   "metadata": {},
   "outputs": [
    {
     "data": {
      "text/html": [
       "<div>\n",
       "<style scoped>\n",
       "    .dataframe tbody tr th:only-of-type {\n",
       "        vertical-align: middle;\n",
       "    }\n",
       "\n",
       "    .dataframe tbody tr th {\n",
       "        vertical-align: top;\n",
       "    }\n",
       "\n",
       "    .dataframe thead th {\n",
       "        text-align: right;\n",
       "    }\n",
       "</style>\n",
       "<table border=\"1\" class=\"dataframe\">\n",
       "  <thead>\n",
       "    <tr style=\"text-align: right;\">\n",
       "      <th></th>\n",
       "      <th>Job_Title</th>\n",
       "      <th>Company</th>\n",
       "      <th>Salary</th>\n",
       "      <th>Location</th>\n",
       "      <th>Date_Posted</th>\n",
       "      <th>Description</th>\n",
       "      <th>Job_URL</th>\n",
       "      <th>Keywords_Present</th>\n",
       "      <th>Title_Keywords</th>\n",
       "    </tr>\n",
       "  </thead>\n",
       "  <tbody>\n",
       "    <tr>\n",
       "      <th>0</th>\n",
       "      <td>DATA ANALYST</td>\n",
       "      <td>D'YANA INTERNATIONAL</td>\n",
       "      <td>None</td>\n",
       "      <td>Malaysia</td>\n",
       "      <td>2020-04-10</td>\n",
       "      <td>Looking for a candidate who loves crunching nu...</td>\n",
       "      <td>https://www.indeed.com.my//rc/clk?jk=52559f104...</td>\n",
       "      <td>'Data Analysis', 'Excel', 'R', 'Statistics'</td>\n",
       "      <td>None</td>\n",
       "    </tr>\n",
       "    <tr>\n",
       "      <th>1</th>\n",
       "      <td>Data Informatics Analyst</td>\n",
       "      <td>National instrument</td>\n",
       "      <td>None</td>\n",
       "      <td>Bayan Lepas</td>\n",
       "      <td>2020-04-23</td>\n",
       "      <td>APAC Data Informatics Analyst, APAC Sales Info...</td>\n",
       "      <td>https://www.indeed.com.my//rc/clk?jk=e61ab28da...</td>\n",
       "      <td>'C', 'Go', 'R'</td>\n",
       "      <td>None</td>\n",
       "    </tr>\n",
       "    <tr>\n",
       "      <th>2</th>\n",
       "      <td>Data Informatics Analyst</td>\n",
       "      <td>National Instruments</td>\n",
       "      <td>None</td>\n",
       "      <td>Bayan Lepas</td>\n",
       "      <td>2020-04-23</td>\n",
       "      <td>APAC Data Informatics Analyst, APAC Sales Info...</td>\n",
       "      <td>https://www.indeed.com.my//rc/clk?jk=45d36230e...</td>\n",
       "      <td>'C', 'Go', 'R'</td>\n",
       "      <td>None</td>\n",
       "    </tr>\n",
       "    <tr>\n",
       "      <th>3</th>\n",
       "      <td>Data Analyst (Quality)</td>\n",
       "      <td>Latexx</td>\n",
       "      <td>None</td>\n",
       "      <td>Malaysia</td>\n",
       "      <td>2020-04-10</td>\n",
       "      <td>Data Analyst (Quality)ResponsibilitiesLocate a...</td>\n",
       "      <td>https://www.indeed.com.my//rc/clk?jk=4a24763c5...</td>\n",
       "      <td>'C', 'Excel', 'Java', 'R', 'SAS', 'SPSS', 'SQL...</td>\n",
       "      <td>None</td>\n",
       "    </tr>\n",
       "    <tr>\n",
       "      <th>4</th>\n",
       "      <td>BI Data Analyst</td>\n",
       "      <td>Shopee</td>\n",
       "      <td>None</td>\n",
       "      <td>Kuala Lumpur</td>\n",
       "      <td>2020-04-10</td>\n",
       "      <td>Job Description:Work closely with Warehouse te...</td>\n",
       "      <td>https://www.indeed.com.my//rc/clk?jk=8b805d72b...</td>\n",
       "      <td>'C', 'Python', 'R', 'SQL'</td>\n",
       "      <td>None</td>\n",
       "    </tr>\n",
       "  </tbody>\n",
       "</table>\n",
       "</div>"
      ],
      "text/plain": [
       "                  Job_Title               Company Salary      Location  \\\n",
       "0              DATA ANALYST  D'YANA INTERNATIONAL   None      Malaysia   \n",
       "1  Data Informatics Analyst   National instrument   None   Bayan Lepas   \n",
       "2  Data Informatics Analyst  National Instruments   None   Bayan Lepas   \n",
       "3    Data Analyst (Quality)                Latexx   None      Malaysia   \n",
       "4           BI Data Analyst                Shopee   None  Kuala Lumpur   \n",
       "\n",
       "  Date_Posted                                        Description  \\\n",
       "0  2020-04-10  Looking for a candidate who loves crunching nu...   \n",
       "1  2020-04-23  APAC Data Informatics Analyst, APAC Sales Info...   \n",
       "2  2020-04-23  APAC Data Informatics Analyst, APAC Sales Info...   \n",
       "3  2020-04-10  Data Analyst (Quality)ResponsibilitiesLocate a...   \n",
       "4  2020-04-10  Job Description:Work closely with Warehouse te...   \n",
       "\n",
       "                                             Job_URL  \\\n",
       "0  https://www.indeed.com.my//rc/clk?jk=52559f104...   \n",
       "1  https://www.indeed.com.my//rc/clk?jk=e61ab28da...   \n",
       "2  https://www.indeed.com.my//rc/clk?jk=45d36230e...   \n",
       "3  https://www.indeed.com.my//rc/clk?jk=4a24763c5...   \n",
       "4  https://www.indeed.com.my//rc/clk?jk=8b805d72b...   \n",
       "\n",
       "                                    Keywords_Present Title_Keywords  \n",
       "0        'Data Analysis', 'Excel', 'R', 'Statistics'           None  \n",
       "1                                     'C', 'Go', 'R'           None  \n",
       "2                                     'C', 'Go', 'R'           None  \n",
       "3  'C', 'Excel', 'Java', 'R', 'SAS', 'SPSS', 'SQL...           None  \n",
       "4                          'C', 'Python', 'R', 'SQL'           None  "
      ]
     },
     "execution_count": 3,
     "metadata": {},
     "output_type": "execute_result"
    }
   ],
   "source": [
    "df_da = pd.read_sql_query(queries.jobs_query.format('Data_Analyst'), con=engine)\n",
    "df_da.head()"
   ]
  },
  {
   "cell_type": "code",
   "execution_count": 4,
   "metadata": {},
   "outputs": [
    {
     "data": {
      "text/html": [
       "<div>\n",
       "<style scoped>\n",
       "    .dataframe tbody tr th:only-of-type {\n",
       "        vertical-align: middle;\n",
       "    }\n",
       "\n",
       "    .dataframe tbody tr th {\n",
       "        vertical-align: top;\n",
       "    }\n",
       "\n",
       "    .dataframe thead th {\n",
       "        text-align: right;\n",
       "    }\n",
       "</style>\n",
       "<table border=\"1\" class=\"dataframe\">\n",
       "  <thead>\n",
       "    <tr style=\"text-align: right;\">\n",
       "      <th></th>\n",
       "      <th>Job_Title</th>\n",
       "      <th>Company</th>\n",
       "      <th>Salary</th>\n",
       "      <th>Location</th>\n",
       "      <th>Date_Posted</th>\n",
       "      <th>Description</th>\n",
       "      <th>Job_URL</th>\n",
       "      <th>Keywords_Present</th>\n",
       "      <th>Title_Keywords</th>\n",
       "    </tr>\n",
       "  </thead>\n",
       "  <tbody>\n",
       "    <tr>\n",
       "      <th>count</th>\n",
       "      <td>5350</td>\n",
       "      <td>5295</td>\n",
       "      <td>1085</td>\n",
       "      <td>5127</td>\n",
       "      <td>5276</td>\n",
       "      <td>5350</td>\n",
       "      <td>5350</td>\n",
       "      <td>5156</td>\n",
       "      <td>1569</td>\n",
       "    </tr>\n",
       "    <tr>\n",
       "      <th>unique</th>\n",
       "      <td>1851</td>\n",
       "      <td>768</td>\n",
       "      <td>228</td>\n",
       "      <td>89</td>\n",
       "      <td>174</td>\n",
       "      <td>2354</td>\n",
       "      <td>2808</td>\n",
       "      <td>632</td>\n",
       "      <td>19</td>\n",
       "    </tr>\n",
       "    <tr>\n",
       "      <th>top</th>\n",
       "      <td>Principal Salesforce Developer</td>\n",
       "      <td>iPrice group</td>\n",
       "      <td>RM 5,000 - RM 7,000 a month</td>\n",
       "      <td>Kuala Lumpur</td>\n",
       "      <td>2020-07-26</td>\n",
       "      <td>No Description</td>\n",
       "      <td>https://www.indeed.com.my/rc/clk?jk=8f5e920e7e...</td>\n",
       "      <td>'C', 'R'</td>\n",
       "      <td>'Senior'</td>\n",
       "    </tr>\n",
       "    <tr>\n",
       "      <th>freq</th>\n",
       "      <td>126</td>\n",
       "      <td>246</td>\n",
       "      <td>98</td>\n",
       "      <td>2006</td>\n",
       "      <td>1988</td>\n",
       "      <td>105</td>\n",
       "      <td>64</td>\n",
       "      <td>1047</td>\n",
       "      <td>862</td>\n",
       "    </tr>\n",
       "  </tbody>\n",
       "</table>\n",
       "</div>"
      ],
      "text/plain": [
       "                             Job_Title       Company  \\\n",
       "count                             5350          5295   \n",
       "unique                            1851           768   \n",
       "top     Principal Salesforce Developer  iPrice group   \n",
       "freq                               126           246   \n",
       "\n",
       "                             Salary      Location Date_Posted     Description  \\\n",
       "count                          1085          5127        5276            5350   \n",
       "unique                          228            89         174            2354   \n",
       "top     RM 5,000 - RM 7,000 a month  Kuala Lumpur  2020-07-26  No Description   \n",
       "freq                             98          2006        1988             105   \n",
       "\n",
       "                                                  Job_URL Keywords_Present  \\\n",
       "count                                                5350             5156   \n",
       "unique                                               2808              632   \n",
       "top     https://www.indeed.com.my/rc/clk?jk=8f5e920e7e...         'C', 'R'   \n",
       "freq                                                   64             1047   \n",
       "\n",
       "       Title_Keywords  \n",
       "count            1569  \n",
       "unique             19  \n",
       "top          'Senior'  \n",
       "freq              862  "
      ]
     },
     "execution_count": 4,
     "metadata": {},
     "output_type": "execute_result"
    }
   ],
   "source": [
    "df_da.describe(include='object')"
   ]
  },
  {
   "cell_type": "code",
   "execution_count": 5,
   "metadata": {},
   "outputs": [
    {
     "data": {
      "text/html": [
       "<div>\n",
       "<style scoped>\n",
       "    .dataframe tbody tr th:only-of-type {\n",
       "        vertical-align: middle;\n",
       "    }\n",
       "\n",
       "    .dataframe tbody tr th {\n",
       "        vertical-align: top;\n",
       "    }\n",
       "\n",
       "    .dataframe thead th {\n",
       "        text-align: right;\n",
       "    }\n",
       "</style>\n",
       "<table border=\"1\" class=\"dataframe\">\n",
       "  <thead>\n",
       "    <tr style=\"text-align: right;\">\n",
       "      <th></th>\n",
       "      <th>Job_Title</th>\n",
       "      <th>Company</th>\n",
       "      <th>Salary</th>\n",
       "      <th>Location</th>\n",
       "      <th>Date_Posted</th>\n",
       "      <th>Description</th>\n",
       "      <th>Job_URL</th>\n",
       "      <th>Keywords_Present</th>\n",
       "      <th>Title_Keywords</th>\n",
       "    </tr>\n",
       "  </thead>\n",
       "  <tbody>\n",
       "    <tr>\n",
       "      <th>count</th>\n",
       "      <td>2914</td>\n",
       "      <td>2861</td>\n",
       "      <td>614</td>\n",
       "      <td>2766</td>\n",
       "      <td>2841</td>\n",
       "      <td>2914</td>\n",
       "      <td>2914</td>\n",
       "      <td>2757</td>\n",
       "      <td>720</td>\n",
       "    </tr>\n",
       "    <tr>\n",
       "      <th>unique</th>\n",
       "      <td>1851</td>\n",
       "      <td>768</td>\n",
       "      <td>228</td>\n",
       "      <td>89</td>\n",
       "      <td>174</td>\n",
       "      <td>2354</td>\n",
       "      <td>2808</td>\n",
       "      <td>632</td>\n",
       "      <td>19</td>\n",
       "    </tr>\n",
       "    <tr>\n",
       "      <th>top</th>\n",
       "      <td>Business Analyst</td>\n",
       "      <td>Ambition</td>\n",
       "      <td>RM 4,000 - RM 4,500 a month</td>\n",
       "      <td>Kuala Lumpur</td>\n",
       "      <td>2020-04-10</td>\n",
       "      <td>No Description</td>\n",
       "      <td>https://www.indeed.com.my/company/Agensi-Peker...</td>\n",
       "      <td>'C', 'R'</td>\n",
       "      <td>'Senior'</td>\n",
       "    </tr>\n",
       "    <tr>\n",
       "      <th>freq</th>\n",
       "      <td>71</td>\n",
       "      <td>75</td>\n",
       "      <td>29</td>\n",
       "      <td>1207</td>\n",
       "      <td>533</td>\n",
       "      <td>105</td>\n",
       "      <td>3</td>\n",
       "      <td>551</td>\n",
       "      <td>381</td>\n",
       "    </tr>\n",
       "  </tbody>\n",
       "</table>\n",
       "</div>"
      ],
      "text/plain": [
       "               Job_Title   Company                       Salary      Location  \\\n",
       "count               2914      2861                          614          2766   \n",
       "unique              1851       768                          228            89   \n",
       "top     Business Analyst  Ambition  RM 4,000 - RM 4,500 a month  Kuala Lumpur   \n",
       "freq                  71        75                           29          1207   \n",
       "\n",
       "       Date_Posted     Description  \\\n",
       "count         2841            2914   \n",
       "unique         174            2354   \n",
       "top     2020-04-10  No Description   \n",
       "freq           533             105   \n",
       "\n",
       "                                                  Job_URL Keywords_Present  \\\n",
       "count                                                2914             2757   \n",
       "unique                                               2808              632   \n",
       "top     https://www.indeed.com.my/company/Agensi-Peker...         'C', 'R'   \n",
       "freq                                                    3              551   \n",
       "\n",
       "       Title_Keywords  \n",
       "count             720  \n",
       "unique             19  \n",
       "top          'Senior'  \n",
       "freq              381  "
      ]
     },
     "execution_count": 5,
     "metadata": {},
     "output_type": "execute_result"
    }
   ],
   "source": [
    "df_da = df_da.drop_duplicates()\n",
    "df_da.describe(include='object')"
   ]
  },
  {
   "cell_type": "markdown",
   "metadata": {},
   "source": [
    "## Data Engineer"
   ]
  },
  {
   "cell_type": "code",
   "execution_count": 6,
   "metadata": {},
   "outputs": [
    {
     "data": {
      "text/html": [
       "<div>\n",
       "<style scoped>\n",
       "    .dataframe tbody tr th:only-of-type {\n",
       "        vertical-align: middle;\n",
       "    }\n",
       "\n",
       "    .dataframe tbody tr th {\n",
       "        vertical-align: top;\n",
       "    }\n",
       "\n",
       "    .dataframe thead th {\n",
       "        text-align: right;\n",
       "    }\n",
       "</style>\n",
       "<table border=\"1\" class=\"dataframe\">\n",
       "  <thead>\n",
       "    <tr style=\"text-align: right;\">\n",
       "      <th></th>\n",
       "      <th>Job_Title</th>\n",
       "      <th>Company</th>\n",
       "      <th>Salary</th>\n",
       "      <th>Location</th>\n",
       "      <th>Date_Posted</th>\n",
       "      <th>Description</th>\n",
       "      <th>Job_URL</th>\n",
       "      <th>Keywords_Present</th>\n",
       "      <th>Title_Keywords</th>\n",
       "    </tr>\n",
       "  </thead>\n",
       "  <tbody>\n",
       "    <tr>\n",
       "      <th>0</th>\n",
       "      <td>Data Engineer</td>\n",
       "      <td>KPMG</td>\n",
       "      <td>None</td>\n",
       "      <td>Petaling Jaya</td>\n",
       "      <td>2020-05-04</td>\n",
       "      <td>We help organizations to work smarter and grow...</td>\n",
       "      <td>https://www.indeed.com.my//rc/clk?jk=2b236e08a...</td>\n",
       "      <td>'C', 'Java', 'R'</td>\n",
       "      <td>None</td>\n",
       "    </tr>\n",
       "    <tr>\n",
       "      <th>1</th>\n",
       "      <td>Wells Data Engineer</td>\n",
       "      <td>Seacom</td>\n",
       "      <td>None</td>\n",
       "      <td>Malaysia</td>\n",
       "      <td>2020-04-10</td>\n",
       "      <td>Position: Wells Data EngineerLocation: Peninsu...</td>\n",
       "      <td>https://www.indeed.com.my//rc/clk?jk=005edeb55...</td>\n",
       "      <td>'C'</td>\n",
       "      <td>None</td>\n",
       "    </tr>\n",
       "    <tr>\n",
       "      <th>2</th>\n",
       "      <td>Junior Engineer</td>\n",
       "      <td>Ematic Solutions</td>\n",
       "      <td>None</td>\n",
       "      <td>Malaysia</td>\n",
       "      <td>2020-05-04</td>\n",
       "      <td>JOB DESCRIPTIONWHO WE AREReady for your next c...</td>\n",
       "      <td>https://www.indeed.com.my//rc/clk?jk=b24e15d9c...</td>\n",
       "      <td>'C', 'Excel', 'R', 'SQL'</td>\n",
       "      <td>'Junior'</td>\n",
       "    </tr>\n",
       "    <tr>\n",
       "      <th>3</th>\n",
       "      <td>ITC Engineer</td>\n",
       "      <td>Bombardier</td>\n",
       "      <td>None</td>\n",
       "      <td>Kuala Lumpur</td>\n",
       "      <td>2020-05-06</td>\n",
       "      <td>ITC Engineer-TRCS-MAKU02280520DescriptionAt Bo...</td>\n",
       "      <td>https://www.indeed.com.my//rc/clk?jk=f9b066894...</td>\n",
       "      <td>'C', 'R'</td>\n",
       "      <td>None</td>\n",
       "    </tr>\n",
       "    <tr>\n",
       "      <th>4</th>\n",
       "      <td>Production Engineer</td>\n",
       "      <td>Malayan Flour Mills Berhad</td>\n",
       "      <td>None</td>\n",
       "      <td>Lumut</td>\n",
       "      <td>2020-04-29</td>\n",
       "      <td>Company DescriptionMalayan Flour Mills Berhad ...</td>\n",
       "      <td>https://www.indeed.com.my//rc/clk?jk=1507113f3...</td>\n",
       "      <td>'C', 'R'</td>\n",
       "      <td>None</td>\n",
       "    </tr>\n",
       "  </tbody>\n",
       "</table>\n",
       "</div>"
      ],
      "text/plain": [
       "             Job_Title                     Company Salary       Location  \\\n",
       "0        Data Engineer                        KPMG   None  Petaling Jaya   \n",
       "1  Wells Data Engineer                      Seacom   None       Malaysia   \n",
       "2      Junior Engineer            Ematic Solutions   None       Malaysia   \n",
       "3         ITC Engineer                  Bombardier   None   Kuala Lumpur   \n",
       "4  Production Engineer  Malayan Flour Mills Berhad   None          Lumut   \n",
       "\n",
       "  Date_Posted                                        Description  \\\n",
       "0  2020-05-04  We help organizations to work smarter and grow...   \n",
       "1  2020-04-10  Position: Wells Data EngineerLocation: Peninsu...   \n",
       "2  2020-05-04  JOB DESCRIPTIONWHO WE AREReady for your next c...   \n",
       "3  2020-05-06  ITC Engineer-TRCS-MAKU02280520DescriptionAt Bo...   \n",
       "4  2020-04-29  Company DescriptionMalayan Flour Mills Berhad ...   \n",
       "\n",
       "                                             Job_URL  \\\n",
       "0  https://www.indeed.com.my//rc/clk?jk=2b236e08a...   \n",
       "1  https://www.indeed.com.my//rc/clk?jk=005edeb55...   \n",
       "2  https://www.indeed.com.my//rc/clk?jk=b24e15d9c...   \n",
       "3  https://www.indeed.com.my//rc/clk?jk=f9b066894...   \n",
       "4  https://www.indeed.com.my//rc/clk?jk=1507113f3...   \n",
       "\n",
       "           Keywords_Present Title_Keywords  \n",
       "0          'C', 'Java', 'R'           None  \n",
       "1                       'C'           None  \n",
       "2  'C', 'Excel', 'R', 'SQL'       'Junior'  \n",
       "3                  'C', 'R'           None  \n",
       "4                  'C', 'R'           None  "
      ]
     },
     "execution_count": 6,
     "metadata": {},
     "output_type": "execute_result"
    }
   ],
   "source": [
    "df_de = pd.read_sql_query(queries.jobs_query.format('Data_Engineer'), con=engine)\n",
    "df_de.head()"
   ]
  },
  {
   "cell_type": "code",
   "execution_count": 7,
   "metadata": {},
   "outputs": [
    {
     "data": {
      "text/html": [
       "<div>\n",
       "<style scoped>\n",
       "    .dataframe tbody tr th:only-of-type {\n",
       "        vertical-align: middle;\n",
       "    }\n",
       "\n",
       "    .dataframe tbody tr th {\n",
       "        vertical-align: top;\n",
       "    }\n",
       "\n",
       "    .dataframe thead th {\n",
       "        text-align: right;\n",
       "    }\n",
       "</style>\n",
       "<table border=\"1\" class=\"dataframe\">\n",
       "  <thead>\n",
       "    <tr style=\"text-align: right;\">\n",
       "      <th></th>\n",
       "      <th>Job_Title</th>\n",
       "      <th>Company</th>\n",
       "      <th>Salary</th>\n",
       "      <th>Location</th>\n",
       "      <th>Date_Posted</th>\n",
       "      <th>Description</th>\n",
       "      <th>Job_URL</th>\n",
       "      <th>Keywords_Present</th>\n",
       "      <th>Title_Keywords</th>\n",
       "    </tr>\n",
       "  </thead>\n",
       "  <tbody>\n",
       "    <tr>\n",
       "      <th>count</th>\n",
       "      <td>6274</td>\n",
       "      <td>6214</td>\n",
       "      <td>1603</td>\n",
       "      <td>6005</td>\n",
       "      <td>6214</td>\n",
       "      <td>6274</td>\n",
       "      <td>6274</td>\n",
       "      <td>5978</td>\n",
       "      <td>1942</td>\n",
       "    </tr>\n",
       "    <tr>\n",
       "      <th>unique</th>\n",
       "      <td>2080</td>\n",
       "      <td>985</td>\n",
       "      <td>242</td>\n",
       "      <td>118</td>\n",
       "      <td>168</td>\n",
       "      <td>2739</td>\n",
       "      <td>3304</td>\n",
       "      <td>858</td>\n",
       "      <td>21</td>\n",
       "    </tr>\n",
       "    <tr>\n",
       "      <th>top</th>\n",
       "      <td>Software Engineer</td>\n",
       "      <td>iPrice group</td>\n",
       "      <td>RM 3,500 - RM 5,500 a month</td>\n",
       "      <td>Kuala Lumpur</td>\n",
       "      <td>2020-07-26</td>\n",
       "      <td>No Description</td>\n",
       "      <td>https://www.indeed.com.my/rc/clk?jk=b1212581fc...</td>\n",
       "      <td>'C', 'R'</td>\n",
       "      <td>'Senior'</td>\n",
       "    </tr>\n",
       "    <tr>\n",
       "      <th>freq</th>\n",
       "      <td>105</td>\n",
       "      <td>326</td>\n",
       "      <td>70</td>\n",
       "      <td>1846</td>\n",
       "      <td>2004</td>\n",
       "      <td>157</td>\n",
       "      <td>64</td>\n",
       "      <td>1495</td>\n",
       "      <td>1173</td>\n",
       "    </tr>\n",
       "  </tbody>\n",
       "</table>\n",
       "</div>"
      ],
      "text/plain": [
       "                Job_Title       Company                       Salary  \\\n",
       "count                6274          6214                         1603   \n",
       "unique               2080           985                          242   \n",
       "top     Software Engineer  iPrice group  RM 3,500 - RM 5,500 a month   \n",
       "freq                  105           326                           70   \n",
       "\n",
       "            Location Date_Posted     Description  \\\n",
       "count           6005        6214            6274   \n",
       "unique           118         168            2739   \n",
       "top     Kuala Lumpur  2020-07-26  No Description   \n",
       "freq            1846        2004             157   \n",
       "\n",
       "                                                  Job_URL Keywords_Present  \\\n",
       "count                                                6274             5978   \n",
       "unique                                               3304              858   \n",
       "top     https://www.indeed.com.my/rc/clk?jk=b1212581fc...         'C', 'R'   \n",
       "freq                                                   64             1495   \n",
       "\n",
       "       Title_Keywords  \n",
       "count            1942  \n",
       "unique             21  \n",
       "top          'Senior'  \n",
       "freq             1173  "
      ]
     },
     "execution_count": 7,
     "metadata": {},
     "output_type": "execute_result"
    }
   ],
   "source": [
    "df_de.describe(include='object')"
   ]
  },
  {
   "cell_type": "code",
   "execution_count": 8,
   "metadata": {},
   "outputs": [
    {
     "data": {
      "text/html": [
       "<div>\n",
       "<style scoped>\n",
       "    .dataframe tbody tr th:only-of-type {\n",
       "        vertical-align: middle;\n",
       "    }\n",
       "\n",
       "    .dataframe tbody tr th {\n",
       "        vertical-align: top;\n",
       "    }\n",
       "\n",
       "    .dataframe thead th {\n",
       "        text-align: right;\n",
       "    }\n",
       "</style>\n",
       "<table border=\"1\" class=\"dataframe\">\n",
       "  <thead>\n",
       "    <tr style=\"text-align: right;\">\n",
       "      <th></th>\n",
       "      <th>Job_Title</th>\n",
       "      <th>Company</th>\n",
       "      <th>Salary</th>\n",
       "      <th>Location</th>\n",
       "      <th>Date_Posted</th>\n",
       "      <th>Description</th>\n",
       "      <th>Job_URL</th>\n",
       "      <th>Keywords_Present</th>\n",
       "      <th>Title_Keywords</th>\n",
       "    </tr>\n",
       "  </thead>\n",
       "  <tbody>\n",
       "    <tr>\n",
       "      <th>count</th>\n",
       "      <td>3393</td>\n",
       "      <td>3333</td>\n",
       "      <td>759</td>\n",
       "      <td>3216</td>\n",
       "      <td>3333</td>\n",
       "      <td>3393</td>\n",
       "      <td>3393</td>\n",
       "      <td>3168</td>\n",
       "      <td>877</td>\n",
       "    </tr>\n",
       "    <tr>\n",
       "      <th>unique</th>\n",
       "      <td>2080</td>\n",
       "      <td>985</td>\n",
       "      <td>242</td>\n",
       "      <td>118</td>\n",
       "      <td>168</td>\n",
       "      <td>2739</td>\n",
       "      <td>3304</td>\n",
       "      <td>858</td>\n",
       "      <td>21</td>\n",
       "    </tr>\n",
       "    <tr>\n",
       "      <th>top</th>\n",
       "      <td>Software Engineer</td>\n",
       "      <td>Micron</td>\n",
       "      <td>RM 2,500 - RM 3,000 a month</td>\n",
       "      <td>Kuala Lumpur</td>\n",
       "      <td>2020-07-26</td>\n",
       "      <td>No Description</td>\n",
       "      <td>https://www.indeed.com.my/rc/clk?jk=86761360ad...</td>\n",
       "      <td>'C', 'R'</td>\n",
       "      <td>'Senior'</td>\n",
       "    </tr>\n",
       "    <tr>\n",
       "      <th>freq</th>\n",
       "      <td>64</td>\n",
       "      <td>88</td>\n",
       "      <td>22</td>\n",
       "      <td>992</td>\n",
       "      <td>590</td>\n",
       "      <td>156</td>\n",
       "      <td>2</td>\n",
       "      <td>817</td>\n",
       "      <td>514</td>\n",
       "    </tr>\n",
       "  </tbody>\n",
       "</table>\n",
       "</div>"
      ],
      "text/plain": [
       "                Job_Title Company                       Salary      Location  \\\n",
       "count                3393    3333                          759          3216   \n",
       "unique               2080     985                          242           118   \n",
       "top     Software Engineer  Micron  RM 2,500 - RM 3,000 a month  Kuala Lumpur   \n",
       "freq                   64      88                           22           992   \n",
       "\n",
       "       Date_Posted     Description  \\\n",
       "count         3333            3393   \n",
       "unique         168            2739   \n",
       "top     2020-07-26  No Description   \n",
       "freq           590             156   \n",
       "\n",
       "                                                  Job_URL Keywords_Present  \\\n",
       "count                                                3393             3168   \n",
       "unique                                               3304              858   \n",
       "top     https://www.indeed.com.my/rc/clk?jk=86761360ad...         'C', 'R'   \n",
       "freq                                                    2              817   \n",
       "\n",
       "       Title_Keywords  \n",
       "count             877  \n",
       "unique             21  \n",
       "top          'Senior'  \n",
       "freq              514  "
      ]
     },
     "execution_count": 8,
     "metadata": {},
     "output_type": "execute_result"
    }
   ],
   "source": [
    "df_de = df_de.drop_duplicates()\n",
    "df_de.describe(include='object')"
   ]
  },
  {
   "cell_type": "markdown",
   "metadata": {},
   "source": [
    "## Data Scientist"
   ]
  },
  {
   "cell_type": "code",
   "execution_count": 9,
   "metadata": {},
   "outputs": [
    {
     "data": {
      "text/html": [
       "<div>\n",
       "<style scoped>\n",
       "    .dataframe tbody tr th:only-of-type {\n",
       "        vertical-align: middle;\n",
       "    }\n",
       "\n",
       "    .dataframe tbody tr th {\n",
       "        vertical-align: top;\n",
       "    }\n",
       "\n",
       "    .dataframe thead th {\n",
       "        text-align: right;\n",
       "    }\n",
       "</style>\n",
       "<table border=\"1\" class=\"dataframe\">\n",
       "  <thead>\n",
       "    <tr style=\"text-align: right;\">\n",
       "      <th></th>\n",
       "      <th>Job_Title</th>\n",
       "      <th>Company</th>\n",
       "      <th>Salary</th>\n",
       "      <th>Location</th>\n",
       "      <th>Date_Posted</th>\n",
       "      <th>Description</th>\n",
       "      <th>Job_URL</th>\n",
       "      <th>Keywords_Present</th>\n",
       "      <th>Title_Keywords</th>\n",
       "    </tr>\n",
       "  </thead>\n",
       "  <tbody>\n",
       "    <tr>\n",
       "      <th>0</th>\n",
       "      <td>Data Scientist</td>\n",
       "      <td>KPMG</td>\n",
       "      <td>None</td>\n",
       "      <td>Petaling Jaya</td>\n",
       "      <td>2020-05-04</td>\n",
       "      <td>We help organizations to work smarter and grow...</td>\n",
       "      <td>https://www.indeed.com.my//rc/clk?jk=af48e13a1...</td>\n",
       "      <td>'C', 'Deep Learning', 'Machine Learning', 'Nat...</td>\n",
       "      <td>None</td>\n",
       "    </tr>\n",
       "    <tr>\n",
       "      <th>1</th>\n",
       "      <td>Data Scientist</td>\n",
       "      <td>Telenor</td>\n",
       "      <td>None</td>\n",
       "      <td>Malaysia</td>\n",
       "      <td>2020-04-10</td>\n",
       "      <td>W e are looking for a data scientist that will...</td>\n",
       "      <td>https://www.indeed.com.my//rc/clk?jk=c0285648d...</td>\n",
       "      <td>'C', 'Java', 'Python', 'R', 'SQL'</td>\n",
       "      <td>None</td>\n",
       "    </tr>\n",
       "    <tr>\n",
       "      <th>2</th>\n",
       "      <td>Intern, Data Scientist</td>\n",
       "      <td>DiGi Telecommunications</td>\n",
       "      <td>None</td>\n",
       "      <td>Shah Alam</td>\n",
       "      <td>2020-04-10</td>\n",
       "      <td>Do you want to supplement your degree with act...</td>\n",
       "      <td>https://www.indeed.com.my//rc/clk?jk=58ba13258...</td>\n",
       "      <td>'C', 'R', 'SAS', 'SPSS', 'SQL', 'Statistics'</td>\n",
       "      <td>'Intern'</td>\n",
       "    </tr>\n",
       "    <tr>\n",
       "      <th>3</th>\n",
       "      <td>Data Scientist</td>\n",
       "      <td>DiGi Telecommunications</td>\n",
       "      <td>None</td>\n",
       "      <td>Shah Alam</td>\n",
       "      <td>2020-04-10</td>\n",
       "      <td>We are looking for a data scientist that will ...</td>\n",
       "      <td>https://www.indeed.com.my//rc/clk?jk=99ac82133...</td>\n",
       "      <td>'C', 'Java', 'Python', 'R', 'SQL'</td>\n",
       "      <td>None</td>\n",
       "    </tr>\n",
       "    <tr>\n",
       "      <th>4</th>\n",
       "      <td>Data Scientist</td>\n",
       "      <td>Thakral One Solutions Private Limited</td>\n",
       "      <td>None</td>\n",
       "      <td>Kuala Lumpur</td>\n",
       "      <td>2020-04-28</td>\n",
       "      <td>Role: Machine learning engineer/Data Scientist...</td>\n",
       "      <td>https://www.indeed.com.my//rc/clk?jk=abe2b27c7...</td>\n",
       "      <td>'Artificial Intelligence', 'C', 'Go', 'MySQL',...</td>\n",
       "      <td>None</td>\n",
       "    </tr>\n",
       "  </tbody>\n",
       "</table>\n",
       "</div>"
      ],
      "text/plain": [
       "                Job_Title                                Company Salary  \\\n",
       "0          Data Scientist                                   KPMG   None   \n",
       "1          Data Scientist                                Telenor   None   \n",
       "2  Intern, Data Scientist                DiGi Telecommunications   None   \n",
       "3          Data Scientist                DiGi Telecommunications   None   \n",
       "4          Data Scientist  Thakral One Solutions Private Limited   None   \n",
       "\n",
       "        Location Date_Posted  \\\n",
       "0  Petaling Jaya  2020-05-04   \n",
       "1       Malaysia  2020-04-10   \n",
       "2      Shah Alam  2020-04-10   \n",
       "3      Shah Alam  2020-04-10   \n",
       "4   Kuala Lumpur  2020-04-28   \n",
       "\n",
       "                                         Description  \\\n",
       "0  We help organizations to work smarter and grow...   \n",
       "1  W e are looking for a data scientist that will...   \n",
       "2  Do you want to supplement your degree with act...   \n",
       "3  We are looking for a data scientist that will ...   \n",
       "4  Role: Machine learning engineer/Data Scientist...   \n",
       "\n",
       "                                             Job_URL  \\\n",
       "0  https://www.indeed.com.my//rc/clk?jk=af48e13a1...   \n",
       "1  https://www.indeed.com.my//rc/clk?jk=c0285648d...   \n",
       "2  https://www.indeed.com.my//rc/clk?jk=58ba13258...   \n",
       "3  https://www.indeed.com.my//rc/clk?jk=99ac82133...   \n",
       "4  https://www.indeed.com.my//rc/clk?jk=abe2b27c7...   \n",
       "\n",
       "                                    Keywords_Present Title_Keywords  \n",
       "0  'C', 'Deep Learning', 'Machine Learning', 'Nat...           None  \n",
       "1                  'C', 'Java', 'Python', 'R', 'SQL'           None  \n",
       "2       'C', 'R', 'SAS', 'SPSS', 'SQL', 'Statistics'       'Intern'  \n",
       "3                  'C', 'Java', 'Python', 'R', 'SQL'           None  \n",
       "4  'Artificial Intelligence', 'C', 'Go', 'MySQL',...           None  "
      ]
     },
     "execution_count": 9,
     "metadata": {},
     "output_type": "execute_result"
    }
   ],
   "source": [
    "df_ds = pd.read_sql_query(queries.jobs_query.format('Data_Scientist'), con=engine)\n",
    "df_ds.head()"
   ]
  },
  {
   "cell_type": "code",
   "execution_count": 10,
   "metadata": {},
   "outputs": [
    {
     "data": {
      "text/html": [
       "<div>\n",
       "<style scoped>\n",
       "    .dataframe tbody tr th:only-of-type {\n",
       "        vertical-align: middle;\n",
       "    }\n",
       "\n",
       "    .dataframe tbody tr th {\n",
       "        vertical-align: top;\n",
       "    }\n",
       "\n",
       "    .dataframe thead th {\n",
       "        text-align: right;\n",
       "    }\n",
       "</style>\n",
       "<table border=\"1\" class=\"dataframe\">\n",
       "  <thead>\n",
       "    <tr style=\"text-align: right;\">\n",
       "      <th></th>\n",
       "      <th>Job_Title</th>\n",
       "      <th>Company</th>\n",
       "      <th>Salary</th>\n",
       "      <th>Location</th>\n",
       "      <th>Date_Posted</th>\n",
       "      <th>Description</th>\n",
       "      <th>Job_URL</th>\n",
       "      <th>Keywords_Present</th>\n",
       "      <th>Title_Keywords</th>\n",
       "    </tr>\n",
       "  </thead>\n",
       "  <tbody>\n",
       "    <tr>\n",
       "      <th>count</th>\n",
       "      <td>817</td>\n",
       "      <td>812</td>\n",
       "      <td>142</td>\n",
       "      <td>794</td>\n",
       "      <td>802</td>\n",
       "      <td>817</td>\n",
       "      <td>817</td>\n",
       "      <td>809</td>\n",
       "      <td>283</td>\n",
       "    </tr>\n",
       "    <tr>\n",
       "      <th>unique</th>\n",
       "      <td>218</td>\n",
       "      <td>165</td>\n",
       "      <td>44</td>\n",
       "      <td>34</td>\n",
       "      <td>105</td>\n",
       "      <td>356</td>\n",
       "      <td>405</td>\n",
       "      <td>259</td>\n",
       "      <td>12</td>\n",
       "    </tr>\n",
       "    <tr>\n",
       "      <th>top</th>\n",
       "      <td>Data Scientist</td>\n",
       "      <td>Synvue Sdn Bhd</td>\n",
       "      <td>RM 3,500 - RM 4,500 a month</td>\n",
       "      <td>Kuala Lumpur</td>\n",
       "      <td>2020-07-26</td>\n",
       "      <td>A great opportunity has just opened up with a ...</td>\n",
       "      <td>https://www.indeed.com.my/rc/clk?jk=00e5dcc723...</td>\n",
       "      <td>'C', 'Excel', 'R'</td>\n",
       "      <td>'Senior'</td>\n",
       "    </tr>\n",
       "    <tr>\n",
       "      <th>freq</th>\n",
       "      <td>111</td>\n",
       "      <td>46</td>\n",
       "      <td>29</td>\n",
       "      <td>345</td>\n",
       "      <td>258</td>\n",
       "      <td>13</td>\n",
       "      <td>12</td>\n",
       "      <td>80</td>\n",
       "      <td>155</td>\n",
       "    </tr>\n",
       "  </tbody>\n",
       "</table>\n",
       "</div>"
      ],
      "text/plain": [
       "             Job_Title         Company                       Salary  \\\n",
       "count              817             812                          142   \n",
       "unique             218             165                           44   \n",
       "top     Data Scientist  Synvue Sdn Bhd  RM 3,500 - RM 4,500 a month   \n",
       "freq               111              46                           29   \n",
       "\n",
       "            Location Date_Posted  \\\n",
       "count            794         802   \n",
       "unique            34         105   \n",
       "top     Kuala Lumpur  2020-07-26   \n",
       "freq             345         258   \n",
       "\n",
       "                                              Description  \\\n",
       "count                                                 817   \n",
       "unique                                                356   \n",
       "top     A great opportunity has just opened up with a ...   \n",
       "freq                                                   13   \n",
       "\n",
       "                                                  Job_URL   Keywords_Present  \\\n",
       "count                                                 817                809   \n",
       "unique                                                405                259   \n",
       "top     https://www.indeed.com.my/rc/clk?jk=00e5dcc723...  'C', 'Excel', 'R'   \n",
       "freq                                                   12                 80   \n",
       "\n",
       "       Title_Keywords  \n",
       "count             283  \n",
       "unique             12  \n",
       "top          'Senior'  \n",
       "freq              155  "
      ]
     },
     "execution_count": 10,
     "metadata": {},
     "output_type": "execute_result"
    }
   ],
   "source": [
    "df_ds.describe(include='object')"
   ]
  },
  {
   "cell_type": "code",
   "execution_count": 11,
   "metadata": {
    "scrolled": true
   },
   "outputs": [
    {
     "data": {
      "text/html": [
       "<div>\n",
       "<style scoped>\n",
       "    .dataframe tbody tr th:only-of-type {\n",
       "        vertical-align: middle;\n",
       "    }\n",
       "\n",
       "    .dataframe tbody tr th {\n",
       "        vertical-align: top;\n",
       "    }\n",
       "\n",
       "    .dataframe thead th {\n",
       "        text-align: right;\n",
       "    }\n",
       "</style>\n",
       "<table border=\"1\" class=\"dataframe\">\n",
       "  <thead>\n",
       "    <tr style=\"text-align: right;\">\n",
       "      <th></th>\n",
       "      <th>Job_Title</th>\n",
       "      <th>Company</th>\n",
       "      <th>Salary</th>\n",
       "      <th>Location</th>\n",
       "      <th>Date_Posted</th>\n",
       "      <th>Description</th>\n",
       "      <th>Job_URL</th>\n",
       "      <th>Keywords_Present</th>\n",
       "      <th>Title_Keywords</th>\n",
       "    </tr>\n",
       "  </thead>\n",
       "  <tbody>\n",
       "    <tr>\n",
       "      <th>count</th>\n",
       "      <td>420</td>\n",
       "      <td>415</td>\n",
       "      <td>72</td>\n",
       "      <td>401</td>\n",
       "      <td>405</td>\n",
       "      <td>420</td>\n",
       "      <td>420</td>\n",
       "      <td>416</td>\n",
       "      <td>129</td>\n",
       "    </tr>\n",
       "    <tr>\n",
       "      <th>unique</th>\n",
       "      <td>218</td>\n",
       "      <td>165</td>\n",
       "      <td>44</td>\n",
       "      <td>34</td>\n",
       "      <td>105</td>\n",
       "      <td>356</td>\n",
       "      <td>405</td>\n",
       "      <td>259</td>\n",
       "      <td>12</td>\n",
       "    </tr>\n",
       "    <tr>\n",
       "      <th>top</th>\n",
       "      <td>Data Scientist</td>\n",
       "      <td>IHS Markit</td>\n",
       "      <td>RM 3,500 - RM 4,500 a month</td>\n",
       "      <td>Kuala Lumpur</td>\n",
       "      <td>2020-07-26</td>\n",
       "      <td>Company DescriptionGreat internships are not o...</td>\n",
       "      <td>https://www.indeed.com.my/rc/clk?jk=c56e6d85fe...</td>\n",
       "      <td>'C', 'Excel', 'R'</td>\n",
       "      <td>'Senior'</td>\n",
       "    </tr>\n",
       "    <tr>\n",
       "      <th>freq</th>\n",
       "      <td>74</td>\n",
       "      <td>22</td>\n",
       "      <td>13</td>\n",
       "      <td>179</td>\n",
       "      <td>82</td>\n",
       "      <td>7</td>\n",
       "      <td>2</td>\n",
       "      <td>25</td>\n",
       "      <td>63</td>\n",
       "    </tr>\n",
       "  </tbody>\n",
       "</table>\n",
       "</div>"
      ],
      "text/plain": [
       "             Job_Title     Company                       Salary      Location  \\\n",
       "count              420         415                           72           401   \n",
       "unique             218         165                           44            34   \n",
       "top     Data Scientist  IHS Markit  RM 3,500 - RM 4,500 a month  Kuala Lumpur   \n",
       "freq                74          22                           13           179   \n",
       "\n",
       "       Date_Posted                                        Description  \\\n",
       "count          405                                                420   \n",
       "unique         105                                                356   \n",
       "top     2020-07-26  Company DescriptionGreat internships are not o...   \n",
       "freq            82                                                  7   \n",
       "\n",
       "                                                  Job_URL   Keywords_Present  \\\n",
       "count                                                 420                416   \n",
       "unique                                                405                259   \n",
       "top     https://www.indeed.com.my/rc/clk?jk=c56e6d85fe...  'C', 'Excel', 'R'   \n",
       "freq                                                    2                 25   \n",
       "\n",
       "       Title_Keywords  \n",
       "count             129  \n",
       "unique             12  \n",
       "top          'Senior'  \n",
       "freq               63  "
      ]
     },
     "execution_count": 11,
     "metadata": {},
     "output_type": "execute_result"
    }
   ],
   "source": [
    "df_ds = df_ds.drop_duplicates()\n",
    "df_ds.describe(include='object')"
   ]
  },
  {
   "cell_type": "markdown",
   "metadata": {},
   "source": [
    "## Machine Learning Engineer"
   ]
  },
  {
   "cell_type": "code",
   "execution_count": 12,
   "metadata": {},
   "outputs": [
    {
     "data": {
      "text/html": [
       "<div>\n",
       "<style scoped>\n",
       "    .dataframe tbody tr th:only-of-type {\n",
       "        vertical-align: middle;\n",
       "    }\n",
       "\n",
       "    .dataframe tbody tr th {\n",
       "        vertical-align: top;\n",
       "    }\n",
       "\n",
       "    .dataframe thead th {\n",
       "        text-align: right;\n",
       "    }\n",
       "</style>\n",
       "<table border=\"1\" class=\"dataframe\">\n",
       "  <thead>\n",
       "    <tr style=\"text-align: right;\">\n",
       "      <th></th>\n",
       "      <th>Job_Title</th>\n",
       "      <th>Company</th>\n",
       "      <th>Salary</th>\n",
       "      <th>Location</th>\n",
       "      <th>Date_Posted</th>\n",
       "      <th>Description</th>\n",
       "      <th>Job_URL</th>\n",
       "      <th>Keywords_Present</th>\n",
       "      <th>Title_Keywords</th>\n",
       "    </tr>\n",
       "  </thead>\n",
       "  <tbody>\n",
       "    <tr>\n",
       "      <th>0</th>\n",
       "      <td>Machine Learning Engineer</td>\n",
       "      <td>Unlock Design International Sdn Bhd</td>\n",
       "      <td>None</td>\n",
       "      <td>Kuala Lumpur</td>\n",
       "      <td>2020-04-29</td>\n",
       "      <td>Job Description :â—Develop and operate image a...</td>\n",
       "      <td>https://www.indeed.com.my//rc/clk?jk=c992e09ac...</td>\n",
       "      <td>'AWS', 'C', 'Git', 'Github', 'Python', 'R'</td>\n",
       "      <td>None</td>\n",
       "    </tr>\n",
       "    <tr>\n",
       "      <th>1</th>\n",
       "      <td>Machine Learning Engineer</td>\n",
       "      <td>3E Accounting Malaysia</td>\n",
       "      <td>None</td>\n",
       "      <td>Kuala Lumpur</td>\n",
       "      <td>2020-04-10</td>\n",
       "      <td>Description3E Accounting Malaysia is currently...</td>\n",
       "      <td>https://www.indeed.com.my//rc/clk?jk=4becba666...</td>\n",
       "      <td>'C', 'Machine Learning', 'R'</td>\n",
       "      <td>None</td>\n",
       "    </tr>\n",
       "    <tr>\n",
       "      <th>2</th>\n",
       "      <td>DevOps Engineer</td>\n",
       "      <td>AmTrust Mobile Solutions Asia</td>\n",
       "      <td>None</td>\n",
       "      <td>Malaysia</td>\n",
       "      <td>2020-04-10</td>\n",
       "      <td>Division : Tech. Department1. Job PurposeDevel...</td>\n",
       "      <td>https://www.indeed.com.my//rc/clk?jk=8ac2bf1d3...</td>\n",
       "      <td>'Artificial Intelligence', 'AWS', 'C', 'Docker...</td>\n",
       "      <td>None</td>\n",
       "    </tr>\n",
       "    <tr>\n",
       "      <th>3</th>\n",
       "      <td>Senior Site Reliability Engineer</td>\n",
       "      <td>AmTrust Mobile Solutions Asia</td>\n",
       "      <td>None</td>\n",
       "      <td>Malaysia</td>\n",
       "      <td>2020-04-10</td>\n",
       "      <td>Division : Tech. Department1. Job PurposeDevel...</td>\n",
       "      <td>https://www.indeed.com.my//rc/clk?jk=cd7b4f8c2...</td>\n",
       "      <td>'Artificial Intelligence', 'AWS', 'C', 'Docker...</td>\n",
       "      <td>'Senior'</td>\n",
       "    </tr>\n",
       "    <tr>\n",
       "      <th>4</th>\n",
       "      <td>Technical Product Engineer ( Halcon Trainer)</td>\n",
       "      <td>EPS Malaysia</td>\n",
       "      <td>None</td>\n",
       "      <td>Malaysia</td>\n",
       "      <td>2020-04-10</td>\n",
       "      <td>Core JOB DESCRIPTION:-Reports directly to the ...</td>\n",
       "      <td>https://www.indeed.com.my//rc/clk?jk=9574f3e9e...</td>\n",
       "      <td>'C', 'C++', 'Computer Vision', 'Deep Learning'...</td>\n",
       "      <td>None</td>\n",
       "    </tr>\n",
       "  </tbody>\n",
       "</table>\n",
       "</div>"
      ],
      "text/plain": [
       "                                      Job_Title  \\\n",
       "0                     Machine Learning Engineer   \n",
       "1                     Machine Learning Engineer   \n",
       "2                               DevOps Engineer   \n",
       "3              Senior Site Reliability Engineer   \n",
       "4  Technical Product Engineer ( Halcon Trainer)   \n",
       "\n",
       "                               Company Salary      Location Date_Posted  \\\n",
       "0  Unlock Design International Sdn Bhd   None  Kuala Lumpur  2020-04-29   \n",
       "1               3E Accounting Malaysia   None  Kuala Lumpur  2020-04-10   \n",
       "2        AmTrust Mobile Solutions Asia   None      Malaysia  2020-04-10   \n",
       "3        AmTrust Mobile Solutions Asia   None      Malaysia  2020-04-10   \n",
       "4                         EPS Malaysia   None      Malaysia  2020-04-10   \n",
       "\n",
       "                                         Description  \\\n",
       "0  Job Description :â—Develop and operate image a...   \n",
       "1  Description3E Accounting Malaysia is currently...   \n",
       "2  Division : Tech. Department1. Job PurposeDevel...   \n",
       "3  Division : Tech. Department1. Job PurposeDevel...   \n",
       "4  Core JOB DESCRIPTION:-Reports directly to the ...   \n",
       "\n",
       "                                             Job_URL  \\\n",
       "0  https://www.indeed.com.my//rc/clk?jk=c992e09ac...   \n",
       "1  https://www.indeed.com.my//rc/clk?jk=4becba666...   \n",
       "2  https://www.indeed.com.my//rc/clk?jk=8ac2bf1d3...   \n",
       "3  https://www.indeed.com.my//rc/clk?jk=cd7b4f8c2...   \n",
       "4  https://www.indeed.com.my//rc/clk?jk=9574f3e9e...   \n",
       "\n",
       "                                    Keywords_Present Title_Keywords  \n",
       "0         'AWS', 'C', 'Git', 'Github', 'Python', 'R'           None  \n",
       "1                       'C', 'Machine Learning', 'R'           None  \n",
       "2  'Artificial Intelligence', 'AWS', 'C', 'Docker...           None  \n",
       "3  'Artificial Intelligence', 'AWS', 'C', 'Docker...       'Senior'  \n",
       "4  'C', 'C++', 'Computer Vision', 'Deep Learning'...           None  "
      ]
     },
     "execution_count": 12,
     "metadata": {},
     "output_type": "execute_result"
    }
   ],
   "source": [
    "df_mle = pd.read_sql_query(queries.jobs_query.format('Machine_Learning_Engineer'), con=engine)\n",
    "df_mle.head()"
   ]
  },
  {
   "cell_type": "code",
   "execution_count": 13,
   "metadata": {},
   "outputs": [
    {
     "data": {
      "text/html": [
       "<div>\n",
       "<style scoped>\n",
       "    .dataframe tbody tr th:only-of-type {\n",
       "        vertical-align: middle;\n",
       "    }\n",
       "\n",
       "    .dataframe tbody tr th {\n",
       "        vertical-align: top;\n",
       "    }\n",
       "\n",
       "    .dataframe thead th {\n",
       "        text-align: right;\n",
       "    }\n",
       "</style>\n",
       "<table border=\"1\" class=\"dataframe\">\n",
       "  <thead>\n",
       "    <tr style=\"text-align: right;\">\n",
       "      <th></th>\n",
       "      <th>Job_Title</th>\n",
       "      <th>Company</th>\n",
       "      <th>Salary</th>\n",
       "      <th>Location</th>\n",
       "      <th>Date_Posted</th>\n",
       "      <th>Description</th>\n",
       "      <th>Job_URL</th>\n",
       "      <th>Keywords_Present</th>\n",
       "      <th>Title_Keywords</th>\n",
       "    </tr>\n",
       "  </thead>\n",
       "  <tbody>\n",
       "    <tr>\n",
       "      <th>count</th>\n",
       "      <td>571</td>\n",
       "      <td>555</td>\n",
       "      <td>114</td>\n",
       "      <td>544</td>\n",
       "      <td>544</td>\n",
       "      <td>571</td>\n",
       "      <td>571</td>\n",
       "      <td>561</td>\n",
       "      <td>226</td>\n",
       "    </tr>\n",
       "    <tr>\n",
       "      <th>unique</th>\n",
       "      <td>218</td>\n",
       "      <td>127</td>\n",
       "      <td>39</td>\n",
       "      <td>41</td>\n",
       "      <td>106</td>\n",
       "      <td>313</td>\n",
       "      <td>362</td>\n",
       "      <td>195</td>\n",
       "      <td>11</td>\n",
       "    </tr>\n",
       "    <tr>\n",
       "      <th>top</th>\n",
       "      <td>Senior Data Engineer</td>\n",
       "      <td>Micron</td>\n",
       "      <td>RM 9,000 - RM 13,000 a month</td>\n",
       "      <td>Kuala Lumpur</td>\n",
       "      <td>2020-07-27</td>\n",
       "      <td>The Senior Data Engineer will be working withi...</td>\n",
       "      <td>https://www.indeed.com.my/rc/clk?jk=74eb7b931f...</td>\n",
       "      <td>'C', 'R'</td>\n",
       "      <td>'Senior'</td>\n",
       "    </tr>\n",
       "    <tr>\n",
       "      <th>freq</th>\n",
       "      <td>55</td>\n",
       "      <td>53</td>\n",
       "      <td>26</td>\n",
       "      <td>175</td>\n",
       "      <td>118</td>\n",
       "      <td>20</td>\n",
       "      <td>6</td>\n",
       "      <td>43</td>\n",
       "      <td>154</td>\n",
       "    </tr>\n",
       "  </tbody>\n",
       "</table>\n",
       "</div>"
      ],
      "text/plain": [
       "                   Job_Title Company                        Salary  \\\n",
       "count                    571     555                           114   \n",
       "unique                   218     127                            39   \n",
       "top     Senior Data Engineer  Micron  RM 9,000 - RM 13,000 a month   \n",
       "freq                      55      53                            26   \n",
       "\n",
       "            Location Date_Posted  \\\n",
       "count            544         544   \n",
       "unique            41         106   \n",
       "top     Kuala Lumpur  2020-07-27   \n",
       "freq             175         118   \n",
       "\n",
       "                                              Description  \\\n",
       "count                                                 571   \n",
       "unique                                                313   \n",
       "top     The Senior Data Engineer will be working withi...   \n",
       "freq                                                   20   \n",
       "\n",
       "                                                  Job_URL Keywords_Present  \\\n",
       "count                                                 571              561   \n",
       "unique                                                362              195   \n",
       "top     https://www.indeed.com.my/rc/clk?jk=74eb7b931f...         'C', 'R'   \n",
       "freq                                                    6               43   \n",
       "\n",
       "       Title_Keywords  \n",
       "count             226  \n",
       "unique             11  \n",
       "top          'Senior'  \n",
       "freq              154  "
      ]
     },
     "execution_count": 13,
     "metadata": {},
     "output_type": "execute_result"
    }
   ],
   "source": [
    "df_mle.describe(include='object')"
   ]
  },
  {
   "cell_type": "code",
   "execution_count": 14,
   "metadata": {},
   "outputs": [
    {
     "data": {
      "text/html": [
       "<div>\n",
       "<style scoped>\n",
       "    .dataframe tbody tr th:only-of-type {\n",
       "        vertical-align: middle;\n",
       "    }\n",
       "\n",
       "    .dataframe tbody tr th {\n",
       "        vertical-align: top;\n",
       "    }\n",
       "\n",
       "    .dataframe thead th {\n",
       "        text-align: right;\n",
       "    }\n",
       "</style>\n",
       "<table border=\"1\" class=\"dataframe\">\n",
       "  <thead>\n",
       "    <tr style=\"text-align: right;\">\n",
       "      <th></th>\n",
       "      <th>Job_Title</th>\n",
       "      <th>Company</th>\n",
       "      <th>Salary</th>\n",
       "      <th>Location</th>\n",
       "      <th>Date_Posted</th>\n",
       "      <th>Description</th>\n",
       "      <th>Job_URL</th>\n",
       "      <th>Keywords_Present</th>\n",
       "      <th>Title_Keywords</th>\n",
       "    </tr>\n",
       "  </thead>\n",
       "  <tbody>\n",
       "    <tr>\n",
       "      <th>count</th>\n",
       "      <td>369</td>\n",
       "      <td>353</td>\n",
       "      <td>67</td>\n",
       "      <td>342</td>\n",
       "      <td>342</td>\n",
       "      <td>369</td>\n",
       "      <td>369</td>\n",
       "      <td>360</td>\n",
       "      <td>129</td>\n",
       "    </tr>\n",
       "    <tr>\n",
       "      <th>unique</th>\n",
       "      <td>218</td>\n",
       "      <td>127</td>\n",
       "      <td>39</td>\n",
       "      <td>41</td>\n",
       "      <td>106</td>\n",
       "      <td>313</td>\n",
       "      <td>362</td>\n",
       "      <td>195</td>\n",
       "      <td>11</td>\n",
       "    </tr>\n",
       "    <tr>\n",
       "      <th>top</th>\n",
       "      <td>Senior Data Engineer</td>\n",
       "      <td>Micron</td>\n",
       "      <td>RM 9,000 - RM 13,000 a month</td>\n",
       "      <td>Kuala Lumpur</td>\n",
       "      <td>2020-04-10</td>\n",
       "      <td>The Senior Data Engineer will be working withi...</td>\n",
       "      <td>https://www.indeed.com.my/rc/clk?jk=8333ca5aaa...</td>\n",
       "      <td>'C', 'R'</td>\n",
       "      <td>'Senior'</td>\n",
       "    </tr>\n",
       "    <tr>\n",
       "      <th>freq</th>\n",
       "      <td>30</td>\n",
       "      <td>44</td>\n",
       "      <td>16</td>\n",
       "      <td>110</td>\n",
       "      <td>47</td>\n",
       "      <td>14</td>\n",
       "      <td>2</td>\n",
       "      <td>28</td>\n",
       "      <td>85</td>\n",
       "    </tr>\n",
       "  </tbody>\n",
       "</table>\n",
       "</div>"
      ],
      "text/plain": [
       "                   Job_Title Company                        Salary  \\\n",
       "count                    369     353                            67   \n",
       "unique                   218     127                            39   \n",
       "top     Senior Data Engineer  Micron  RM 9,000 - RM 13,000 a month   \n",
       "freq                      30      44                            16   \n",
       "\n",
       "            Location Date_Posted  \\\n",
       "count            342         342   \n",
       "unique            41         106   \n",
       "top     Kuala Lumpur  2020-04-10   \n",
       "freq             110          47   \n",
       "\n",
       "                                              Description  \\\n",
       "count                                                 369   \n",
       "unique                                                313   \n",
       "top     The Senior Data Engineer will be working withi...   \n",
       "freq                                                   14   \n",
       "\n",
       "                                                  Job_URL Keywords_Present  \\\n",
       "count                                                 369              360   \n",
       "unique                                                362              195   \n",
       "top     https://www.indeed.com.my/rc/clk?jk=8333ca5aaa...         'C', 'R'   \n",
       "freq                                                    2               28   \n",
       "\n",
       "       Title_Keywords  \n",
       "count             129  \n",
       "unique             11  \n",
       "top          'Senior'  \n",
       "freq               85  "
      ]
     },
     "execution_count": 14,
     "metadata": {},
     "output_type": "execute_result"
    }
   ],
   "source": [
    "df_mle = df_mle.drop_duplicates()\n",
    "df_mle.describe(include='object')"
   ]
  },
  {
   "cell_type": "code",
   "execution_count": 15,
   "metadata": {},
   "outputs": [],
   "source": [
    "engine.dispose()"
   ]
  },
  {
   "cell_type": "markdown",
   "metadata": {},
   "source": [
    "# Data Cleaning"
   ]
  },
  {
   "cell_type": "markdown",
   "metadata": {},
   "source": [
    "### Has Salary"
   ]
  },
  {
   "cell_type": "code",
   "execution_count": 16,
   "metadata": {},
   "outputs": [
    {
     "data": {
      "text/html": [
       "<div>\n",
       "<style scoped>\n",
       "    .dataframe tbody tr th:only-of-type {\n",
       "        vertical-align: middle;\n",
       "    }\n",
       "\n",
       "    .dataframe tbody tr th {\n",
       "        vertical-align: top;\n",
       "    }\n",
       "\n",
       "    .dataframe thead th {\n",
       "        text-align: right;\n",
       "    }\n",
       "</style>\n",
       "<table border=\"1\" class=\"dataframe\">\n",
       "  <thead>\n",
       "    <tr style=\"text-align: right;\">\n",
       "      <th></th>\n",
       "      <th>Job_Title</th>\n",
       "      <th>Company</th>\n",
       "      <th>Salary</th>\n",
       "      <th>Location</th>\n",
       "      <th>Date_Posted</th>\n",
       "      <th>Description</th>\n",
       "      <th>Job_URL</th>\n",
       "      <th>Keywords_Present</th>\n",
       "      <th>Title_Keywords</th>\n",
       "    </tr>\n",
       "  </thead>\n",
       "  <tbody>\n",
       "    <tr>\n",
       "      <th>count</th>\n",
       "      <td>614</td>\n",
       "      <td>598</td>\n",
       "      <td>614</td>\n",
       "      <td>605</td>\n",
       "      <td>614</td>\n",
       "      <td>614</td>\n",
       "      <td>614</td>\n",
       "      <td>578</td>\n",
       "      <td>131</td>\n",
       "    </tr>\n",
       "    <tr>\n",
       "      <th>unique</th>\n",
       "      <td>411</td>\n",
       "      <td>244</td>\n",
       "      <td>228</td>\n",
       "      <td>57</td>\n",
       "      <td>141</td>\n",
       "      <td>501</td>\n",
       "      <td>588</td>\n",
       "      <td>167</td>\n",
       "      <td>15</td>\n",
       "    </tr>\n",
       "    <tr>\n",
       "      <th>top</th>\n",
       "      <td>Data Analyst</td>\n",
       "      <td>Ambition</td>\n",
       "      <td>RM 4,000 - RM 4,500 a month</td>\n",
       "      <td>Kuala Lumpur</td>\n",
       "      <td>2020-07-26</td>\n",
       "      <td>No Description</td>\n",
       "      <td>https://www.indeed.com.my/rc/clk?jk=678ab1f31c...</td>\n",
       "      <td>'C', 'R'</td>\n",
       "      <td>'Senior'</td>\n",
       "    </tr>\n",
       "    <tr>\n",
       "      <th>freq</th>\n",
       "      <td>29</td>\n",
       "      <td>66</td>\n",
       "      <td>29</td>\n",
       "      <td>217</td>\n",
       "      <td>86</td>\n",
       "      <td>18</td>\n",
       "      <td>3</td>\n",
       "      <td>149</td>\n",
       "      <td>65</td>\n",
       "    </tr>\n",
       "  </tbody>\n",
       "</table>\n",
       "</div>"
      ],
      "text/plain": [
       "           Job_Title   Company                       Salary      Location  \\\n",
       "count            614       598                          614           605   \n",
       "unique           411       244                          228            57   \n",
       "top     Data Analyst  Ambition  RM 4,000 - RM 4,500 a month  Kuala Lumpur   \n",
       "freq              29        66                           29           217   \n",
       "\n",
       "       Date_Posted     Description  \\\n",
       "count          614             614   \n",
       "unique         141             501   \n",
       "top     2020-07-26  No Description   \n",
       "freq            86              18   \n",
       "\n",
       "                                                  Job_URL Keywords_Present  \\\n",
       "count                                                 614              578   \n",
       "unique                                                588              167   \n",
       "top     https://www.indeed.com.my/rc/clk?jk=678ab1f31c...         'C', 'R'   \n",
       "freq                                                    3              149   \n",
       "\n",
       "       Title_Keywords  \n",
       "count             131  \n",
       "unique             15  \n",
       "top          'Senior'  \n",
       "freq               65  "
      ]
     },
     "execution_count": 16,
     "metadata": {},
     "output_type": "execute_result"
    }
   ],
   "source": [
    "df_das = df_da.loc[df_da['Salary'].notnull()]\n",
    "df_das.describe(include='object')"
   ]
  },
  {
   "cell_type": "code",
   "execution_count": 17,
   "metadata": {},
   "outputs": [
    {
     "data": {
      "text/html": [
       "<div>\n",
       "<style scoped>\n",
       "    .dataframe tbody tr th:only-of-type {\n",
       "        vertical-align: middle;\n",
       "    }\n",
       "\n",
       "    .dataframe tbody tr th {\n",
       "        vertical-align: top;\n",
       "    }\n",
       "\n",
       "    .dataframe thead th {\n",
       "        text-align: right;\n",
       "    }\n",
       "</style>\n",
       "<table border=\"1\" class=\"dataframe\">\n",
       "  <thead>\n",
       "    <tr style=\"text-align: right;\">\n",
       "      <th></th>\n",
       "      <th>Job_Title</th>\n",
       "      <th>Company</th>\n",
       "      <th>Salary</th>\n",
       "      <th>Location</th>\n",
       "      <th>Date_Posted</th>\n",
       "      <th>Description</th>\n",
       "      <th>Job_URL</th>\n",
       "      <th>Keywords_Present</th>\n",
       "      <th>Title_Keywords</th>\n",
       "    </tr>\n",
       "  </thead>\n",
       "  <tbody>\n",
       "    <tr>\n",
       "      <th>count</th>\n",
       "      <td>759</td>\n",
       "      <td>755</td>\n",
       "      <td>759</td>\n",
       "      <td>690</td>\n",
       "      <td>759</td>\n",
       "      <td>759</td>\n",
       "      <td>759</td>\n",
       "      <td>699</td>\n",
       "      <td>157</td>\n",
       "    </tr>\n",
       "    <tr>\n",
       "      <th>unique</th>\n",
       "      <td>514</td>\n",
       "      <td>365</td>\n",
       "      <td>242</td>\n",
       "      <td>82</td>\n",
       "      <td>145</td>\n",
       "      <td>616</td>\n",
       "      <td>736</td>\n",
       "      <td>221</td>\n",
       "      <td>11</td>\n",
       "    </tr>\n",
       "    <tr>\n",
       "      <th>top</th>\n",
       "      <td>Software Engineer</td>\n",
       "      <td>Reeracoen Malaysia</td>\n",
       "      <td>RM 2,500 - RM 3,000 a month</td>\n",
       "      <td>Kuala Lumpur</td>\n",
       "      <td>2020-07-26</td>\n",
       "      <td>No Description</td>\n",
       "      <td>https://www.indeed.com.my/company/RevSolution-...</td>\n",
       "      <td>'C', 'R'</td>\n",
       "      <td>'Senior'</td>\n",
       "    </tr>\n",
       "    <tr>\n",
       "      <th>freq</th>\n",
       "      <td>26</td>\n",
       "      <td>26</td>\n",
       "      <td>22</td>\n",
       "      <td>196</td>\n",
       "      <td>104</td>\n",
       "      <td>38</td>\n",
       "      <td>2</td>\n",
       "      <td>219</td>\n",
       "      <td>112</td>\n",
       "    </tr>\n",
       "  </tbody>\n",
       "</table>\n",
       "</div>"
      ],
      "text/plain": [
       "                Job_Title             Company                       Salary  \\\n",
       "count                 759                 755                          759   \n",
       "unique                514                 365                          242   \n",
       "top     Software Engineer  Reeracoen Malaysia  RM 2,500 - RM 3,000 a month   \n",
       "freq                   26                  26                           22   \n",
       "\n",
       "            Location Date_Posted     Description  \\\n",
       "count            690         759             759   \n",
       "unique            82         145             616   \n",
       "top     Kuala Lumpur  2020-07-26  No Description   \n",
       "freq             196         104              38   \n",
       "\n",
       "                                                  Job_URL Keywords_Present  \\\n",
       "count                                                 759              699   \n",
       "unique                                                736              221   \n",
       "top     https://www.indeed.com.my/company/RevSolution-...         'C', 'R'   \n",
       "freq                                                    2              219   \n",
       "\n",
       "       Title_Keywords  \n",
       "count             157  \n",
       "unique             11  \n",
       "top          'Senior'  \n",
       "freq              112  "
      ]
     },
     "execution_count": 17,
     "metadata": {},
     "output_type": "execute_result"
    }
   ],
   "source": [
    "df_des = df_de.loc[df_de['Salary'].notnull()]\n",
    "df_des.describe(include='object')"
   ]
  },
  {
   "cell_type": "code",
   "execution_count": 18,
   "metadata": {},
   "outputs": [
    {
     "data": {
      "text/html": [
       "<div>\n",
       "<style scoped>\n",
       "    .dataframe tbody tr th:only-of-type {\n",
       "        vertical-align: middle;\n",
       "    }\n",
       "\n",
       "    .dataframe tbody tr th {\n",
       "        vertical-align: top;\n",
       "    }\n",
       "\n",
       "    .dataframe thead th {\n",
       "        text-align: right;\n",
       "    }\n",
       "</style>\n",
       "<table border=\"1\" class=\"dataframe\">\n",
       "  <thead>\n",
       "    <tr style=\"text-align: right;\">\n",
       "      <th></th>\n",
       "      <th>Job_Title</th>\n",
       "      <th>Company</th>\n",
       "      <th>Salary</th>\n",
       "      <th>Location</th>\n",
       "      <th>Date_Posted</th>\n",
       "      <th>Description</th>\n",
       "      <th>Job_URL</th>\n",
       "      <th>Keywords_Present</th>\n",
       "      <th>Title_Keywords</th>\n",
       "    </tr>\n",
       "  </thead>\n",
       "  <tbody>\n",
       "    <tr>\n",
       "      <th>count</th>\n",
       "      <td>72</td>\n",
       "      <td>72</td>\n",
       "      <td>72</td>\n",
       "      <td>70</td>\n",
       "      <td>72</td>\n",
       "      <td>72</td>\n",
       "      <td>72</td>\n",
       "      <td>71</td>\n",
       "      <td>10</td>\n",
       "    </tr>\n",
       "    <tr>\n",
       "      <th>unique</th>\n",
       "      <td>42</td>\n",
       "      <td>42</td>\n",
       "      <td>44</td>\n",
       "      <td>18</td>\n",
       "      <td>45</td>\n",
       "      <td>68</td>\n",
       "      <td>70</td>\n",
       "      <td>47</td>\n",
       "      <td>4</td>\n",
       "    </tr>\n",
       "    <tr>\n",
       "      <th>top</th>\n",
       "      <td>Data Scientist</td>\n",
       "      <td>RCSI Management</td>\n",
       "      <td>RM 3,500 - RM 4,500 a month</td>\n",
       "      <td>Kuala Lumpur</td>\n",
       "      <td>2020-04-10</td>\n",
       "      <td>Position : Data Scientist ExecutiveSalary Rang...</td>\n",
       "      <td>https://www.indeed.com.my/company/RCSI-Managem...</td>\n",
       "      <td>'AWS', 'C', 'Go', 'Python', 'R', 'Regression',...</td>\n",
       "      <td>'Senior'</td>\n",
       "    </tr>\n",
       "    <tr>\n",
       "      <th>freq</th>\n",
       "      <td>15</td>\n",
       "      <td>6</td>\n",
       "      <td>13</td>\n",
       "      <td>23</td>\n",
       "      <td>7</td>\n",
       "      <td>3</td>\n",
       "      <td>2</td>\n",
       "      <td>14</td>\n",
       "      <td>4</td>\n",
       "    </tr>\n",
       "  </tbody>\n",
       "</table>\n",
       "</div>"
      ],
      "text/plain": [
       "             Job_Title          Company                       Salary  \\\n",
       "count               72               72                           72   \n",
       "unique              42               42                           44   \n",
       "top     Data Scientist  RCSI Management  RM 3,500 - RM 4,500 a month   \n",
       "freq                15                6                           13   \n",
       "\n",
       "            Location Date_Posted  \\\n",
       "count             70          72   \n",
       "unique            18          45   \n",
       "top     Kuala Lumpur  2020-04-10   \n",
       "freq              23           7   \n",
       "\n",
       "                                              Description  \\\n",
       "count                                                  72   \n",
       "unique                                                 68   \n",
       "top     Position : Data Scientist ExecutiveSalary Rang...   \n",
       "freq                                                    3   \n",
       "\n",
       "                                                  Job_URL  \\\n",
       "count                                                  72   \n",
       "unique                                                 70   \n",
       "top     https://www.indeed.com.my/company/RCSI-Managem...   \n",
       "freq                                                    2   \n",
       "\n",
       "                                         Keywords_Present Title_Keywords  \n",
       "count                                                  71             10  \n",
       "unique                                                 47              4  \n",
       "top     'AWS', 'C', 'Go', 'Python', 'R', 'Regression',...       'Senior'  \n",
       "freq                                                   14              4  "
      ]
     },
     "execution_count": 18,
     "metadata": {},
     "output_type": "execute_result"
    }
   ],
   "source": [
    "df_dss = df_ds.loc[df_ds['Salary'].notnull()]\n",
    "df_dss.describe(include='object')"
   ]
  },
  {
   "cell_type": "code",
   "execution_count": 19,
   "metadata": {},
   "outputs": [
    {
     "data": {
      "text/html": [
       "<div>\n",
       "<style scoped>\n",
       "    .dataframe tbody tr th:only-of-type {\n",
       "        vertical-align: middle;\n",
       "    }\n",
       "\n",
       "    .dataframe tbody tr th {\n",
       "        vertical-align: top;\n",
       "    }\n",
       "\n",
       "    .dataframe thead th {\n",
       "        text-align: right;\n",
       "    }\n",
       "</style>\n",
       "<table border=\"1\" class=\"dataframe\">\n",
       "  <thead>\n",
       "    <tr style=\"text-align: right;\">\n",
       "      <th></th>\n",
       "      <th>Job_Title</th>\n",
       "      <th>Company</th>\n",
       "      <th>Salary</th>\n",
       "      <th>Location</th>\n",
       "      <th>Date_Posted</th>\n",
       "      <th>Description</th>\n",
       "      <th>Job_URL</th>\n",
       "      <th>Keywords_Present</th>\n",
       "      <th>Title_Keywords</th>\n",
       "    </tr>\n",
       "  </thead>\n",
       "  <tbody>\n",
       "    <tr>\n",
       "      <th>count</th>\n",
       "      <td>67</td>\n",
       "      <td>67</td>\n",
       "      <td>67</td>\n",
       "      <td>67</td>\n",
       "      <td>67</td>\n",
       "      <td>67</td>\n",
       "      <td>67</td>\n",
       "      <td>67</td>\n",
       "      <td>26</td>\n",
       "    </tr>\n",
       "    <tr>\n",
       "      <th>unique</th>\n",
       "      <td>44</td>\n",
       "      <td>33</td>\n",
       "      <td>39</td>\n",
       "      <td>19</td>\n",
       "      <td>47</td>\n",
       "      <td>49</td>\n",
       "      <td>64</td>\n",
       "      <td>40</td>\n",
       "      <td>5</td>\n",
       "    </tr>\n",
       "    <tr>\n",
       "      <th>top</th>\n",
       "      <td>Senior Data Engineer</td>\n",
       "      <td>OPC BUSINESS SUPPORT SDN BHD</td>\n",
       "      <td>RM 9,000 - RM 13,000 a month</td>\n",
       "      <td>Kuala Lumpur</td>\n",
       "      <td>2020-07-27</td>\n",
       "      <td>The Senior Data Engineer will be working withi...</td>\n",
       "      <td>https://www.indeed.com.my/rc/clk?jk=b61145cce2...</td>\n",
       "      <td>'C', 'NoSQL', 'Python', 'R', 'SQL', 'Tableau'</td>\n",
       "      <td>'Senior'</td>\n",
       "    </tr>\n",
       "    <tr>\n",
       "      <th>freq</th>\n",
       "      <td>16</td>\n",
       "      <td>15</td>\n",
       "      <td>16</td>\n",
       "      <td>28</td>\n",
       "      <td>8</td>\n",
       "      <td>12</td>\n",
       "      <td>2</td>\n",
       "      <td>12</td>\n",
       "      <td>20</td>\n",
       "    </tr>\n",
       "  </tbody>\n",
       "</table>\n",
       "</div>"
      ],
      "text/plain": [
       "                   Job_Title                       Company  \\\n",
       "count                     67                            67   \n",
       "unique                    44                            33   \n",
       "top     Senior Data Engineer  OPC BUSINESS SUPPORT SDN BHD   \n",
       "freq                      16                            15   \n",
       "\n",
       "                              Salary      Location Date_Posted  \\\n",
       "count                             67            67          67   \n",
       "unique                            39            19          47   \n",
       "top     RM 9,000 - RM 13,000 a month  Kuala Lumpur  2020-07-27   \n",
       "freq                              16            28           8   \n",
       "\n",
       "                                              Description  \\\n",
       "count                                                  67   \n",
       "unique                                                 49   \n",
       "top     The Senior Data Engineer will be working withi...   \n",
       "freq                                                   12   \n",
       "\n",
       "                                                  Job_URL  \\\n",
       "count                                                  67   \n",
       "unique                                                 64   \n",
       "top     https://www.indeed.com.my/rc/clk?jk=b61145cce2...   \n",
       "freq                                                    2   \n",
       "\n",
       "                                     Keywords_Present Title_Keywords  \n",
       "count                                              67             26  \n",
       "unique                                             40              5  \n",
       "top     'C', 'NoSQL', 'Python', 'R', 'SQL', 'Tableau'       'Senior'  \n",
       "freq                                               12             20  "
      ]
     },
     "execution_count": 19,
     "metadata": {},
     "output_type": "execute_result"
    }
   ],
   "source": [
    "df_mles = df_mle.loc[df_mle['Salary'].notnull()]\n",
    "df_mles.describe(include='object')"
   ]
  },
  {
   "cell_type": "markdown",
   "metadata": {},
   "source": [
    "### Title Keywords"
   ]
  },
  {
   "cell_type": "code",
   "execution_count": 20,
   "metadata": {},
   "outputs": [
    {
     "data": {
      "text/plain": [
       "array([None, \"'Senior'\", \"'Lead'\", \"'Consultant'\", \"'Junior'\", \"'Sr'\",\n",
       "       \"'Associate', 'Assoc'\", \"'Intern'\", \"'Graduate'\", \"'Sr.', 'Sr'\",\n",
       "       \"'Chief'\", \"'Part-time'\", \"'Junior', 'Senior'\",\n",
       "       \"'Associate', 'Assoc', 'Consultant'\", \"'Head'\",\n",
       "       \"'Senior', 'Consultant'\"], dtype=object)"
      ]
     },
     "execution_count": 20,
     "metadata": {},
     "output_type": "execute_result"
    }
   ],
   "source": [
    "df_das['Title_Keywords'].unique()"
   ]
  },
  {
   "cell_type": "code",
   "execution_count": 21,
   "metadata": {},
   "outputs": [
    {
     "data": {
      "text/plain": [
       "array([None, \"'Lead'\", \"'Senior'\", \"'Intern'\", \"'Sr'\", \"'Graduate'\",\n",
       "       \"'Jr.', 'Jr', 'Sr.', 'Sr'\", \"'Senior', 'Lead'\", \"'Junior'\",\n",
       "       \"'Sr.', 'Sr'\", \"'Head'\", \"'Consultant'\"], dtype=object)"
      ]
     },
     "execution_count": 21,
     "metadata": {},
     "output_type": "execute_result"
    }
   ],
   "source": [
    "df_des['Title_Keywords'].unique()"
   ]
  },
  {
   "cell_type": "code",
   "execution_count": 22,
   "metadata": {},
   "outputs": [
    {
     "data": {
      "text/plain": [
       "array([None, \"'Senior'\", \"'Lead'\", \"'Intern'\", \"'Chief'\"], dtype=object)"
      ]
     },
     "execution_count": 22,
     "metadata": {},
     "output_type": "execute_result"
    }
   ],
   "source": [
    "df_dss['Title_Keywords'].unique()"
   ]
  },
  {
   "cell_type": "code",
   "execution_count": 23,
   "metadata": {},
   "outputs": [
    {
     "data": {
      "text/plain": [
       "array([\"'Lead'\", None, \"'Graduate'\", \"'Senior'\", \"'Intern'\",\n",
       "       \"'Junior', 'Senior'\"], dtype=object)"
      ]
     },
     "execution_count": 23,
     "metadata": {},
     "output_type": "execute_result"
    }
   ],
   "source": [
    "df_mles['Title_Keywords'].unique()"
   ]
  },
  {
   "cell_type": "code",
   "execution_count": 24,
   "metadata": {},
   "outputs": [],
   "source": [
    "juniors = ['Junior', 'Intern', 'Graduate', 'Part-time', 'Jr', 'Jr.']\n",
    "mid_level = ['Associate', 'Assoc']\n",
    "senior = ['Senior', 'Lead', 'Consultant', 'Sr', 'Sr.', 'Chief', 'Head']\n",
    "\n",
    "def assign_level(title_keywords):\n",
    "    if title_keywords is None:\n",
    "        return None\n",
    "    levels = \"\"\n",
    "    titles = [t.strip(\" \") for t in title_keywords.split(\",\")]\n",
    "    if len([t for t in titles if t.strip(\"'\") in juniors]) > 0:\n",
    "        levels += \"Junior\"\n",
    "    if len([t for t in titles if t.strip(\"'\") in mid_level]) > 0:\n",
    "        levels += \" Mid Level\"\n",
    "    if len([t for t in titles if t.replace(\"'\", \"\") in senior]) > 0:\n",
    "        levels += \" Senior\"\n",
    "    return levels"
   ]
  },
  {
   "cell_type": "code",
   "execution_count": 25,
   "metadata": {},
   "outputs": [
    {
     "name": "stderr",
     "output_type": "stream",
     "text": [
      "/Users/kongbinxuan/opt/anaconda3/lib/python3.7/site-packages/ipykernel_launcher.py:1: SettingWithCopyWarning: \n",
      "A value is trying to be set on a copy of a slice from a DataFrame.\n",
      "Try using .loc[row_indexer,col_indexer] = value instead\n",
      "\n",
      "See the caveats in the documentation: https://pandas.pydata.org/pandas-docs/stable/user_guide/indexing.html#returning-a-view-versus-a-copy\n",
      "  \"\"\"Entry point for launching an IPython kernel.\n"
     ]
    },
    {
     "data": {
      "text/html": [
       "<div>\n",
       "<style scoped>\n",
       "    .dataframe tbody tr th:only-of-type {\n",
       "        vertical-align: middle;\n",
       "    }\n",
       "\n",
       "    .dataframe tbody tr th {\n",
       "        vertical-align: top;\n",
       "    }\n",
       "\n",
       "    .dataframe thead th {\n",
       "        text-align: right;\n",
       "    }\n",
       "</style>\n",
       "<table border=\"1\" class=\"dataframe\">\n",
       "  <thead>\n",
       "    <tr style=\"text-align: right;\">\n",
       "      <th></th>\n",
       "      <th>Job_Title</th>\n",
       "      <th>Company</th>\n",
       "      <th>Salary</th>\n",
       "      <th>Location</th>\n",
       "      <th>Date_Posted</th>\n",
       "      <th>Description</th>\n",
       "      <th>Job_URL</th>\n",
       "      <th>Keywords_Present</th>\n",
       "      <th>Title_Keywords</th>\n",
       "      <th>Levels</th>\n",
       "    </tr>\n",
       "  </thead>\n",
       "  <tbody>\n",
       "    <tr>\n",
       "      <th>37</th>\n",
       "      <td>Data Analyst</td>\n",
       "      <td>Net2source LLP</td>\n",
       "      <td>RM 2,000 - RM 4,500 a month</td>\n",
       "      <td>Kuala Lumpur</td>\n",
       "      <td>2020-04-10</td>\n",
       "      <td>The individual should have a desire in ensurin...</td>\n",
       "      <td>https://www.indeed.com.my//rc/clk?jk=72a8c8cfb...</td>\n",
       "      <td>None</td>\n",
       "      <td>None</td>\n",
       "      <td>None</td>\n",
       "    </tr>\n",
       "    <tr>\n",
       "      <th>84</th>\n",
       "      <td>Master Data Analyst</td>\n",
       "      <td>Bright Prospect</td>\n",
       "      <td>RM 2,500 - RM 4,500 a month</td>\n",
       "      <td>Kota Damansara</td>\n",
       "      <td>2020-04-10</td>\n",
       "      <td>Diploma or Bachelor's Degree in Finance/Accoun...</td>\n",
       "      <td>https://www.indeed.com.my//rc/clk?jk=d10108e74...</td>\n",
       "      <td>'C', 'Excel', 'R'</td>\n",
       "      <td>None</td>\n",
       "      <td>None</td>\n",
       "    </tr>\n",
       "    <tr>\n",
       "      <th>85</th>\n",
       "      <td>Analyst - Master Data</td>\n",
       "      <td>Pasona Malaysia</td>\n",
       "      <td>RM 4,500 - RM 7,000 a month</td>\n",
       "      <td>Kuala Lumpur</td>\n",
       "      <td>2020-04-10</td>\n",
       "      <td>Job ID 1487Occupation Analyst - Master DataBus...</td>\n",
       "      <td>https://www.indeed.com.my//rc/clk?jk=5cefd0b99...</td>\n",
       "      <td>'C', 'R'</td>\n",
       "      <td>None</td>\n",
       "      <td>None</td>\n",
       "    </tr>\n",
       "    <tr>\n",
       "      <th>94</th>\n",
       "      <td>Senior Analyst, Credit Review</td>\n",
       "      <td>Agensi Pekerjaan The Recruiter Sdn Bhd</td>\n",
       "      <td>RM 4,000 - RM 8,000 a month</td>\n",
       "      <td>Subang Jaya</td>\n",
       "      <td>2020-04-10</td>\n",
       "      <td>Assessing customers’ credit applications and p...</td>\n",
       "      <td>https://www.indeed.com.my//rc/clk?jk=2a042241d...</td>\n",
       "      <td>'C', 'R'</td>\n",
       "      <td>'Senior'</td>\n",
       "      <td>Senior</td>\n",
       "    </tr>\n",
       "    <tr>\n",
       "      <th>113</th>\n",
       "      <td>System Analyst/Business Analyst</td>\n",
       "      <td>ATD Solution (M) Sdn Bhd</td>\n",
       "      <td>RM 5,000 - RM 10,000 a month</td>\n",
       "      <td>Kuala Lumpur</td>\n",
       "      <td>2020-04-29</td>\n",
       "      <td>Responsibilities:The job will include capturin...</td>\n",
       "      <td>https://www.indeed.com.my//rc/clk?jk=356aab517...</td>\n",
       "      <td>'C', 'Go', 'R'</td>\n",
       "      <td>None</td>\n",
       "      <td>None</td>\n",
       "    </tr>\n",
       "  </tbody>\n",
       "</table>\n",
       "</div>"
      ],
      "text/plain": [
       "                           Job_Title                                 Company  \\\n",
       "37                      Data Analyst                          Net2source LLP   \n",
       "84               Master Data Analyst                         Bright Prospect   \n",
       "85             Analyst - Master Data                         Pasona Malaysia   \n",
       "94     Senior Analyst, Credit Review  Agensi Pekerjaan The Recruiter Sdn Bhd   \n",
       "113  System Analyst/Business Analyst                ATD Solution (M) Sdn Bhd   \n",
       "\n",
       "                           Salary        Location Date_Posted  \\\n",
       "37    RM 2,000 - RM 4,500 a month    Kuala Lumpur  2020-04-10   \n",
       "84    RM 2,500 - RM 4,500 a month  Kota Damansara  2020-04-10   \n",
       "85    RM 4,500 - RM 7,000 a month    Kuala Lumpur  2020-04-10   \n",
       "94    RM 4,000 - RM 8,000 a month     Subang Jaya  2020-04-10   \n",
       "113  RM 5,000 - RM 10,000 a month    Kuala Lumpur  2020-04-29   \n",
       "\n",
       "                                           Description  \\\n",
       "37   The individual should have a desire in ensurin...   \n",
       "84   Diploma or Bachelor's Degree in Finance/Accoun...   \n",
       "85   Job ID 1487Occupation Analyst - Master DataBus...   \n",
       "94   Assessing customers’ credit applications and p...   \n",
       "113  Responsibilities:The job will include capturin...   \n",
       "\n",
       "                                               Job_URL   Keywords_Present  \\\n",
       "37   https://www.indeed.com.my//rc/clk?jk=72a8c8cfb...               None   \n",
       "84   https://www.indeed.com.my//rc/clk?jk=d10108e74...  'C', 'Excel', 'R'   \n",
       "85   https://www.indeed.com.my//rc/clk?jk=5cefd0b99...           'C', 'R'   \n",
       "94   https://www.indeed.com.my//rc/clk?jk=2a042241d...           'C', 'R'   \n",
       "113  https://www.indeed.com.my//rc/clk?jk=356aab517...     'C', 'Go', 'R'   \n",
       "\n",
       "    Title_Keywords   Levels  \n",
       "37            None     None  \n",
       "84            None     None  \n",
       "85            None     None  \n",
       "94        'Senior'   Senior  \n",
       "113           None     None  "
      ]
     },
     "execution_count": 25,
     "metadata": {},
     "output_type": "execute_result"
    }
   ],
   "source": [
    "df_das['Levels'] = df_das['Title_Keywords'].apply(lambda x: assign_level(x))\n",
    "df_das.head()"
   ]
  },
  {
   "cell_type": "code",
   "execution_count": 26,
   "metadata": {},
   "outputs": [
    {
     "name": "stderr",
     "output_type": "stream",
     "text": [
      "/Users/kongbinxuan/opt/anaconda3/lib/python3.7/site-packages/ipykernel_launcher.py:1: SettingWithCopyWarning: \n",
      "A value is trying to be set on a copy of a slice from a DataFrame.\n",
      "Try using .loc[row_indexer,col_indexer] = value instead\n",
      "\n",
      "See the caveats in the documentation: https://pandas.pydata.org/pandas-docs/stable/user_guide/indexing.html#returning-a-view-versus-a-copy\n",
      "  \"\"\"Entry point for launching an IPython kernel.\n",
      "/Users/kongbinxuan/opt/anaconda3/lib/python3.7/site-packages/ipykernel_launcher.py:2: SettingWithCopyWarning: \n",
      "A value is trying to be set on a copy of a slice from a DataFrame.\n",
      "Try using .loc[row_indexer,col_indexer] = value instead\n",
      "\n",
      "See the caveats in the documentation: https://pandas.pydata.org/pandas-docs/stable/user_guide/indexing.html#returning-a-view-versus-a-copy\n",
      "  \n",
      "/Users/kongbinxuan/opt/anaconda3/lib/python3.7/site-packages/ipykernel_launcher.py:3: SettingWithCopyWarning: \n",
      "A value is trying to be set on a copy of a slice from a DataFrame.\n",
      "Try using .loc[row_indexer,col_indexer] = value instead\n",
      "\n",
      "See the caveats in the documentation: https://pandas.pydata.org/pandas-docs/stable/user_guide/indexing.html#returning-a-view-versus-a-copy\n",
      "  This is separate from the ipykernel package so we can avoid doing imports until\n"
     ]
    }
   ],
   "source": [
    "df_des['Levels'] = df_des['Title_Keywords'].apply(lambda x: assign_level(x))\n",
    "df_dss['Levels'] = df_dss['Title_Keywords'].apply(lambda x: assign_level(x))\n",
    "df_mles['Levels'] = df_mles['Title_Keywords'].apply(lambda x: assign_level(x))"
   ]
  },
  {
   "cell_type": "markdown",
   "metadata": {},
   "source": [
    "### Years of Experience Required"
   ]
  },
  {
   "cell_type": "code",
   "execution_count": 78,
   "metadata": {},
   "outputs": [],
   "source": [
    "# Juniors: 1-3 years required\n",
    "junior_min = 1\n",
    "# Mid Level: 3-8 years required\n",
    "midlevel_min = 3\n",
    "# Senior Level: more than 8 years required\n",
    "senior_min = 8\n",
    "\n",
    "def get_years_experience(description):\n",
    "    try:\n",
    "        cur = description.index(\"years\")\n",
    "        year_required = max([int(r) for r in re.findall(r'\\d+', description[cur-5:cur+6])])\n",
    "        return year_to_level(year_required)\n",
    "    except:\n",
    "        try:\n",
    "            cur = description.index(\"year(s)\")\n",
    "            year_required = max([int(r) for r in re.findall(r'\\d+', description[cur-5:cur+6])])\n",
    "            return year_to_level(year_required)\n",
    "        except:\n",
    "            try:\n",
    "                cur = description.index(\"year\")\n",
    "                year_required = max([int(r) for r in re.findall(r'\\d+', description[cur-5:cur+6])])\n",
    "                return year_to_level(year_required)\n",
    "            except:\n",
    "                return None\n",
    "\n",
    "def year_to_level(year):\n",
    "    if year >= senior_min:\n",
    "        return \"Senior\"\n",
    "    elif year >= midlevel_min:\n",
    "        return \"Mid Level\"\n",
    "    else:\n",
    "        return \"Junior\""
   ]
  },
  {
   "cell_type": "code",
   "execution_count": 79,
   "metadata": {},
   "outputs": [
    {
     "name": "stderr",
     "output_type": "stream",
     "text": [
      "/Users/kongbinxuan/opt/anaconda3/lib/python3.7/site-packages/ipykernel_launcher.py:1: SettingWithCopyWarning: \n",
      "A value is trying to be set on a copy of a slice from a DataFrame.\n",
      "Try using .loc[row_indexer,col_indexer] = value instead\n",
      "\n",
      "See the caveats in the documentation: https://pandas.pydata.org/pandas-docs/stable/user_guide/indexing.html#returning-a-view-versus-a-copy\n",
      "  \"\"\"Entry point for launching an IPython kernel.\n"
     ]
    },
    {
     "data": {
      "text/html": [
       "<div>\n",
       "<style scoped>\n",
       "    .dataframe tbody tr th:only-of-type {\n",
       "        vertical-align: middle;\n",
       "    }\n",
       "\n",
       "    .dataframe tbody tr th {\n",
       "        vertical-align: top;\n",
       "    }\n",
       "\n",
       "    .dataframe thead th {\n",
       "        text-align: right;\n",
       "    }\n",
       "</style>\n",
       "<table border=\"1\" class=\"dataframe\">\n",
       "  <thead>\n",
       "    <tr style=\"text-align: right;\">\n",
       "      <th></th>\n",
       "      <th>Job_Title</th>\n",
       "      <th>Company</th>\n",
       "      <th>Salary</th>\n",
       "      <th>Location</th>\n",
       "      <th>Date_Posted</th>\n",
       "      <th>Description</th>\n",
       "      <th>Job_URL</th>\n",
       "      <th>Keywords_Present</th>\n",
       "      <th>Title_Keywords</th>\n",
       "      <th>Levels</th>\n",
       "      <th>Level_from_Year</th>\n",
       "    </tr>\n",
       "  </thead>\n",
       "  <tbody>\n",
       "    <tr>\n",
       "      <th>37</th>\n",
       "      <td>Data Analyst</td>\n",
       "      <td>Net2source LLP</td>\n",
       "      <td>RM 2,000 - RM 4,500 a month</td>\n",
       "      <td>Kuala Lumpur</td>\n",
       "      <td>2020-04-10</td>\n",
       "      <td>The individual should have a desire in ensurin...</td>\n",
       "      <td>https://www.indeed.com.my//rc/clk?jk=72a8c8cfb...</td>\n",
       "      <td>None</td>\n",
       "      <td>None</td>\n",
       "      <td>None</td>\n",
       "      <td>None</td>\n",
       "    </tr>\n",
       "    <tr>\n",
       "      <th>84</th>\n",
       "      <td>Master Data Analyst</td>\n",
       "      <td>Bright Prospect</td>\n",
       "      <td>RM 2,500 - RM 4,500 a month</td>\n",
       "      <td>Kota Damansara</td>\n",
       "      <td>2020-04-10</td>\n",
       "      <td>Diploma or Bachelor's Degree in Finance/Accoun...</td>\n",
       "      <td>https://www.indeed.com.my//rc/clk?jk=d10108e74...</td>\n",
       "      <td>'C', 'Excel', 'R'</td>\n",
       "      <td>None</td>\n",
       "      <td>None</td>\n",
       "      <td>Junior</td>\n",
       "    </tr>\n",
       "    <tr>\n",
       "      <th>85</th>\n",
       "      <td>Analyst - Master Data</td>\n",
       "      <td>Pasona Malaysia</td>\n",
       "      <td>RM 4,500 - RM 7,000 a month</td>\n",
       "      <td>Kuala Lumpur</td>\n",
       "      <td>2020-04-10</td>\n",
       "      <td>Job ID 1487Occupation Analyst - Master DataBus...</td>\n",
       "      <td>https://www.indeed.com.my//rc/clk?jk=5cefd0b99...</td>\n",
       "      <td>'C', 'R'</td>\n",
       "      <td>None</td>\n",
       "      <td>None</td>\n",
       "      <td>None</td>\n",
       "    </tr>\n",
       "    <tr>\n",
       "      <th>94</th>\n",
       "      <td>Senior Analyst, Credit Review</td>\n",
       "      <td>Agensi Pekerjaan The Recruiter Sdn Bhd</td>\n",
       "      <td>RM 4,000 - RM 8,000 a month</td>\n",
       "      <td>Subang Jaya</td>\n",
       "      <td>2020-04-10</td>\n",
       "      <td>Assessing customers’ credit applications and p...</td>\n",
       "      <td>https://www.indeed.com.my//rc/clk?jk=2a042241d...</td>\n",
       "      <td>'C', 'R'</td>\n",
       "      <td>'Senior'</td>\n",
       "      <td>Senior</td>\n",
       "      <td>Mid Level</td>\n",
       "    </tr>\n",
       "    <tr>\n",
       "      <th>113</th>\n",
       "      <td>System Analyst/Business Analyst</td>\n",
       "      <td>ATD Solution (M) Sdn Bhd</td>\n",
       "      <td>RM 5,000 - RM 10,000 a month</td>\n",
       "      <td>Kuala Lumpur</td>\n",
       "      <td>2020-04-29</td>\n",
       "      <td>Responsibilities:The job will include capturin...</td>\n",
       "      <td>https://www.indeed.com.my//rc/clk?jk=356aab517...</td>\n",
       "      <td>'C', 'Go', 'R'</td>\n",
       "      <td>None</td>\n",
       "      <td>None</td>\n",
       "      <td>Junior</td>\n",
       "    </tr>\n",
       "  </tbody>\n",
       "</table>\n",
       "</div>"
      ],
      "text/plain": [
       "                           Job_Title                                 Company  \\\n",
       "37                      Data Analyst                          Net2source LLP   \n",
       "84               Master Data Analyst                         Bright Prospect   \n",
       "85             Analyst - Master Data                         Pasona Malaysia   \n",
       "94     Senior Analyst, Credit Review  Agensi Pekerjaan The Recruiter Sdn Bhd   \n",
       "113  System Analyst/Business Analyst                ATD Solution (M) Sdn Bhd   \n",
       "\n",
       "                           Salary        Location Date_Posted  \\\n",
       "37    RM 2,000 - RM 4,500 a month    Kuala Lumpur  2020-04-10   \n",
       "84    RM 2,500 - RM 4,500 a month  Kota Damansara  2020-04-10   \n",
       "85    RM 4,500 - RM 7,000 a month    Kuala Lumpur  2020-04-10   \n",
       "94    RM 4,000 - RM 8,000 a month     Subang Jaya  2020-04-10   \n",
       "113  RM 5,000 - RM 10,000 a month    Kuala Lumpur  2020-04-29   \n",
       "\n",
       "                                           Description  \\\n",
       "37   The individual should have a desire in ensurin...   \n",
       "84   Diploma or Bachelor's Degree in Finance/Accoun...   \n",
       "85   Job ID 1487Occupation Analyst - Master DataBus...   \n",
       "94   Assessing customers’ credit applications and p...   \n",
       "113  Responsibilities:The job will include capturin...   \n",
       "\n",
       "                                               Job_URL   Keywords_Present  \\\n",
       "37   https://www.indeed.com.my//rc/clk?jk=72a8c8cfb...               None   \n",
       "84   https://www.indeed.com.my//rc/clk?jk=d10108e74...  'C', 'Excel', 'R'   \n",
       "85   https://www.indeed.com.my//rc/clk?jk=5cefd0b99...           'C', 'R'   \n",
       "94   https://www.indeed.com.my//rc/clk?jk=2a042241d...           'C', 'R'   \n",
       "113  https://www.indeed.com.my//rc/clk?jk=356aab517...     'C', 'Go', 'R'   \n",
       "\n",
       "    Title_Keywords   Levels Level_from_Year  \n",
       "37            None     None            None  \n",
       "84            None     None          Junior  \n",
       "85            None     None            None  \n",
       "94        'Senior'   Senior       Mid Level  \n",
       "113           None     None          Junior  "
      ]
     },
     "execution_count": 79,
     "metadata": {},
     "output_type": "execute_result"
    }
   ],
   "source": [
    "df_das['Level_from_Year'] = df_das['Description'].apply(lambda x: get_years_experience(x))\n",
    "df_das.head()"
   ]
  },
  {
   "cell_type": "code",
   "execution_count": 80,
   "metadata": {},
   "outputs": [
    {
     "name": "stderr",
     "output_type": "stream",
     "text": [
      "/Users/kongbinxuan/opt/anaconda3/lib/python3.7/site-packages/ipykernel_launcher.py:1: SettingWithCopyWarning: \n",
      "A value is trying to be set on a copy of a slice from a DataFrame.\n",
      "Try using .loc[row_indexer,col_indexer] = value instead\n",
      "\n",
      "See the caveats in the documentation: https://pandas.pydata.org/pandas-docs/stable/user_guide/indexing.html#returning-a-view-versus-a-copy\n",
      "  \"\"\"Entry point for launching an IPython kernel.\n",
      "/Users/kongbinxuan/opt/anaconda3/lib/python3.7/site-packages/ipykernel_launcher.py:2: SettingWithCopyWarning: \n",
      "A value is trying to be set on a copy of a slice from a DataFrame.\n",
      "Try using .loc[row_indexer,col_indexer] = value instead\n",
      "\n",
      "See the caveats in the documentation: https://pandas.pydata.org/pandas-docs/stable/user_guide/indexing.html#returning-a-view-versus-a-copy\n",
      "  \n",
      "/Users/kongbinxuan/opt/anaconda3/lib/python3.7/site-packages/ipykernel_launcher.py:3: SettingWithCopyWarning: \n",
      "A value is trying to be set on a copy of a slice from a DataFrame.\n",
      "Try using .loc[row_indexer,col_indexer] = value instead\n",
      "\n",
      "See the caveats in the documentation: https://pandas.pydata.org/pandas-docs/stable/user_guide/indexing.html#returning-a-view-versus-a-copy\n",
      "  This is separate from the ipykernel package so we can avoid doing imports until\n"
     ]
    }
   ],
   "source": [
    "df_des['Level_from_Year'] = df_des['Description'].apply(lambda x: get_years_experience(x))\n",
    "df_dss['Level_from_Year'] = df_dss['Description'].apply(lambda x: get_years_experience(x))\n",
    "df_mles['Level_from_Year'] = df_mles['Description'].apply(lambda x: get_years_experience(x))"
   ]
  },
  {
   "cell_type": "markdown",
   "metadata": {},
   "source": [
    "### Extract Salary Information"
   ]
  },
  {
   "cell_type": "code",
   "execution_count": 110,
   "metadata": {},
   "outputs": [],
   "source": [
    "def extract_salary(df_job):\n",
    "    df = df_job.copy()\n",
    "    df[['Salary L', 'Salary U']] = df['Salary'].str.split('-', 1, expand=True)\n",
    "    df = df[['Job_Title', 'Salary', 'Levels', 'Level_from_Year', 'Salary L', 'Salary U']]\n",
    "    # Set Upper NaN to Lower\n",
    "    df.loc[df['Salary U'].isna(), 'Salary U'] = df.loc[df['Salary U'].isna(), 'Salary L']\n",
    "    # Convert to Numeric\n",
    "    df['Salary L'] = df['Salary L'].map(lambda x: ''.join(filter(str.isdigit, x)))\n",
    "    df['Salary U'] = df['Salary U'].map(lambda x: ''.join(filter(str.isdigit, x)))\n",
    "    df['Salary L'] = df['Salary L'].map(lambda x: float(x.replace(',', '')))\n",
    "    df['Salary U'] = df['Salary U'].map(lambda x: float(x.replace(',', '')))\n",
    "    # Convert hours to month\n",
    "    # Average 166.4 hours of work per month\n",
    "    df.loc[df['Salary'].str.contains('hour'), 'Salary L'] *= 166.4\n",
    "    df.loc[df['Salary'].str.contains('hour'), 'Salary U'] *= 166.4\n",
    "    # Convert days to month\n",
    "    # Average 20.8 days of work per month\n",
    "    df.loc[df['Salary'].str.contains('day'), 'Salary L'] *= 20.8\n",
    "    df.loc[df['Salary'].str.contains('day'), 'Salary U'] *= 20.8\n",
    "    # Convert weeks to month\n",
    "    # Average 4.3 weeks of work per month\n",
    "    df.loc[df['Salary'].str.contains('week'), 'Salary L'] *= 4.345\n",
    "    df.loc[df['Salary'].str.contains('week'), 'Salary U'] *= 4.345\n",
    "    # Convert years to month\n",
    "    df.loc[df['Salary'].str.contains('year'), 'Salary L'] /= 12\n",
    "    df.loc[df['Salary'].str.contains('year'), 'Salary U'] /= 12\n",
    "    # Mean salary\n",
    "    df['Salary M'] = df[['Salary L', 'Salary U']].mean(axis=1)\n",
    "    return df"
   ]
  },
  {
   "cell_type": "markdown",
   "metadata": {},
   "source": [
    "### Clean All Data"
   ]
  },
  {
   "cell_type": "code",
   "execution_count": 111,
   "metadata": {},
   "outputs": [
    {
     "data": {
      "text/html": [
       "<div>\n",
       "<style scoped>\n",
       "    .dataframe tbody tr th:only-of-type {\n",
       "        vertical-align: middle;\n",
       "    }\n",
       "\n",
       "    .dataframe tbody tr th {\n",
       "        vertical-align: top;\n",
       "    }\n",
       "\n",
       "    .dataframe thead th {\n",
       "        text-align: right;\n",
       "    }\n",
       "</style>\n",
       "<table border=\"1\" class=\"dataframe\">\n",
       "  <thead>\n",
       "    <tr style=\"text-align: right;\">\n",
       "      <th></th>\n",
       "      <th>Job_Title</th>\n",
       "      <th>Salary</th>\n",
       "      <th>Levels</th>\n",
       "      <th>Level_from_Year</th>\n",
       "      <th>Salary L</th>\n",
       "      <th>Salary U</th>\n",
       "      <th>Salary M</th>\n",
       "    </tr>\n",
       "  </thead>\n",
       "  <tbody>\n",
       "    <tr>\n",
       "      <th>37</th>\n",
       "      <td>Data Analyst</td>\n",
       "      <td>RM 2,000 - RM 4,500 a month</td>\n",
       "      <td>None</td>\n",
       "      <td>None</td>\n",
       "      <td>2000.0</td>\n",
       "      <td>4500.0</td>\n",
       "      <td>3250.0</td>\n",
       "    </tr>\n",
       "    <tr>\n",
       "      <th>84</th>\n",
       "      <td>Master Data Analyst</td>\n",
       "      <td>RM 2,500 - RM 4,500 a month</td>\n",
       "      <td>None</td>\n",
       "      <td>Junior</td>\n",
       "      <td>2500.0</td>\n",
       "      <td>4500.0</td>\n",
       "      <td>3500.0</td>\n",
       "    </tr>\n",
       "    <tr>\n",
       "      <th>85</th>\n",
       "      <td>Analyst - Master Data</td>\n",
       "      <td>RM 4,500 - RM 7,000 a month</td>\n",
       "      <td>None</td>\n",
       "      <td>None</td>\n",
       "      <td>4500.0</td>\n",
       "      <td>7000.0</td>\n",
       "      <td>5750.0</td>\n",
       "    </tr>\n",
       "    <tr>\n",
       "      <th>94</th>\n",
       "      <td>Senior Analyst, Credit Review</td>\n",
       "      <td>RM 4,000 - RM 8,000 a month</td>\n",
       "      <td>Senior</td>\n",
       "      <td>Mid Level</td>\n",
       "      <td>4000.0</td>\n",
       "      <td>8000.0</td>\n",
       "      <td>6000.0</td>\n",
       "    </tr>\n",
       "    <tr>\n",
       "      <th>113</th>\n",
       "      <td>System Analyst/Business Analyst</td>\n",
       "      <td>RM 5,000 - RM 10,000 a month</td>\n",
       "      <td>None</td>\n",
       "      <td>Junior</td>\n",
       "      <td>5000.0</td>\n",
       "      <td>10000.0</td>\n",
       "      <td>7500.0</td>\n",
       "    </tr>\n",
       "  </tbody>\n",
       "</table>\n",
       "</div>"
      ],
      "text/plain": [
       "                           Job_Title                        Salary   Levels  \\\n",
       "37                      Data Analyst   RM 2,000 - RM 4,500 a month     None   \n",
       "84               Master Data Analyst   RM 2,500 - RM 4,500 a month     None   \n",
       "85             Analyst - Master Data   RM 4,500 - RM 7,000 a month     None   \n",
       "94     Senior Analyst, Credit Review   RM 4,000 - RM 8,000 a month   Senior   \n",
       "113  System Analyst/Business Analyst  RM 5,000 - RM 10,000 a month     None   \n",
       "\n",
       "    Level_from_Year  Salary L  Salary U  Salary M  \n",
       "37             None    2000.0    4500.0    3250.0  \n",
       "84           Junior    2500.0    4500.0    3500.0  \n",
       "85             None    4500.0    7000.0    5750.0  \n",
       "94        Mid Level    4000.0    8000.0    6000.0  \n",
       "113          Junior    5000.0   10000.0    7500.0  "
      ]
     },
     "execution_count": 111,
     "metadata": {},
     "output_type": "execute_result"
    }
   ],
   "source": [
    "df_dac = extract_salary(df_das)\n",
    "df_dac.head()"
   ]
  },
  {
   "cell_type": "code",
   "execution_count": 112,
   "metadata": {},
   "outputs": [
    {
     "data": {
      "text/html": [
       "<div>\n",
       "<style scoped>\n",
       "    .dataframe tbody tr th:only-of-type {\n",
       "        vertical-align: middle;\n",
       "    }\n",
       "\n",
       "    .dataframe tbody tr th {\n",
       "        vertical-align: top;\n",
       "    }\n",
       "\n",
       "    .dataframe thead th {\n",
       "        text-align: right;\n",
       "    }\n",
       "</style>\n",
       "<table border=\"1\" class=\"dataframe\">\n",
       "  <thead>\n",
       "    <tr style=\"text-align: right;\">\n",
       "      <th></th>\n",
       "      <th>Job_Title</th>\n",
       "      <th>Salary</th>\n",
       "      <th>Levels</th>\n",
       "      <th>Level_from_Year</th>\n",
       "      <th>Salary L</th>\n",
       "      <th>Salary U</th>\n",
       "      <th>Salary M</th>\n",
       "    </tr>\n",
       "  </thead>\n",
       "  <tbody>\n",
       "    <tr>\n",
       "      <th>count</th>\n",
       "      <td>614</td>\n",
       "      <td>614</td>\n",
       "      <td>131</td>\n",
       "      <td>493</td>\n",
       "      <td>614.000000</td>\n",
       "      <td>614.000000</td>\n",
       "      <td>614.000000</td>\n",
       "    </tr>\n",
       "    <tr>\n",
       "      <th>unique</th>\n",
       "      <td>411</td>\n",
       "      <td>228</td>\n",
       "      <td>5</td>\n",
       "      <td>3</td>\n",
       "      <td>NaN</td>\n",
       "      <td>NaN</td>\n",
       "      <td>NaN</td>\n",
       "    </tr>\n",
       "    <tr>\n",
       "      <th>top</th>\n",
       "      <td>Data Analyst</td>\n",
       "      <td>RM 4,000 - RM 4,500 a month</td>\n",
       "      <td>Senior</td>\n",
       "      <td>Mid Level</td>\n",
       "      <td>NaN</td>\n",
       "      <td>NaN</td>\n",
       "      <td>NaN</td>\n",
       "    </tr>\n",
       "    <tr>\n",
       "      <th>freq</th>\n",
       "      <td>29</td>\n",
       "      <td>29</td>\n",
       "      <td>95</td>\n",
       "      <td>252</td>\n",
       "      <td>NaN</td>\n",
       "      <td>NaN</td>\n",
       "      <td>NaN</td>\n",
       "    </tr>\n",
       "    <tr>\n",
       "      <th>mean</th>\n",
       "      <td>NaN</td>\n",
       "      <td>NaN</td>\n",
       "      <td>NaN</td>\n",
       "      <td>NaN</td>\n",
       "      <td>4755.779237</td>\n",
       "      <td>6477.263868</td>\n",
       "      <td>5616.521553</td>\n",
       "    </tr>\n",
       "    <tr>\n",
       "      <th>std</th>\n",
       "      <td>NaN</td>\n",
       "      <td>NaN</td>\n",
       "      <td>NaN</td>\n",
       "      <td>NaN</td>\n",
       "      <td>2894.502556</td>\n",
       "      <td>3510.498425</td>\n",
       "      <td>3119.340933</td>\n",
       "    </tr>\n",
       "    <tr>\n",
       "      <th>min</th>\n",
       "      <td>NaN</td>\n",
       "      <td>NaN</td>\n",
       "      <td>NaN</td>\n",
       "      <td>NaN</td>\n",
       "      <td>300.000000</td>\n",
       "      <td>500.000000</td>\n",
       "      <td>400.000000</td>\n",
       "    </tr>\n",
       "    <tr>\n",
       "      <th>25%</th>\n",
       "      <td>NaN</td>\n",
       "      <td>NaN</td>\n",
       "      <td>NaN</td>\n",
       "      <td>NaN</td>\n",
       "      <td>3000.000000</td>\n",
       "      <td>4500.000000</td>\n",
       "      <td>3825.000000</td>\n",
       "    </tr>\n",
       "    <tr>\n",
       "      <th>50%</th>\n",
       "      <td>NaN</td>\n",
       "      <td>NaN</td>\n",
       "      <td>NaN</td>\n",
       "      <td>NaN</td>\n",
       "      <td>4000.000000</td>\n",
       "      <td>5500.000000</td>\n",
       "      <td>5000.000000</td>\n",
       "    </tr>\n",
       "    <tr>\n",
       "      <th>75%</th>\n",
       "      <td>NaN</td>\n",
       "      <td>NaN</td>\n",
       "      <td>NaN</td>\n",
       "      <td>NaN</td>\n",
       "      <td>5500.000000</td>\n",
       "      <td>8000.000000</td>\n",
       "      <td>7000.000000</td>\n",
       "    </tr>\n",
       "    <tr>\n",
       "      <th>max</th>\n",
       "      <td>NaN</td>\n",
       "      <td>NaN</td>\n",
       "      <td>NaN</td>\n",
       "      <td>NaN</td>\n",
       "      <td>24000.000000</td>\n",
       "      <td>25000.000000</td>\n",
       "      <td>24000.000000</td>\n",
       "    </tr>\n",
       "  </tbody>\n",
       "</table>\n",
       "</div>"
      ],
      "text/plain": [
       "           Job_Title                       Salary   Levels Level_from_Year  \\\n",
       "count            614                          614      131             493   \n",
       "unique           411                          228        5               3   \n",
       "top     Data Analyst  RM 4,000 - RM 4,500 a month   Senior       Mid Level   \n",
       "freq              29                           29       95             252   \n",
       "mean             NaN                          NaN      NaN             NaN   \n",
       "std              NaN                          NaN      NaN             NaN   \n",
       "min              NaN                          NaN      NaN             NaN   \n",
       "25%              NaN                          NaN      NaN             NaN   \n",
       "50%              NaN                          NaN      NaN             NaN   \n",
       "75%              NaN                          NaN      NaN             NaN   \n",
       "max              NaN                          NaN      NaN             NaN   \n",
       "\n",
       "            Salary L      Salary U      Salary M  \n",
       "count     614.000000    614.000000    614.000000  \n",
       "unique           NaN           NaN           NaN  \n",
       "top              NaN           NaN           NaN  \n",
       "freq             NaN           NaN           NaN  \n",
       "mean     4755.779237   6477.263868   5616.521553  \n",
       "std      2894.502556   3510.498425   3119.340933  \n",
       "min       300.000000    500.000000    400.000000  \n",
       "25%      3000.000000   4500.000000   3825.000000  \n",
       "50%      4000.000000   5500.000000   5000.000000  \n",
       "75%      5500.000000   8000.000000   7000.000000  \n",
       "max     24000.000000  25000.000000  24000.000000  "
      ]
     },
     "execution_count": 112,
     "metadata": {},
     "output_type": "execute_result"
    }
   ],
   "source": [
    "df_dac.describe(include='all')"
   ]
  },
  {
   "cell_type": "code",
   "execution_count": 113,
   "metadata": {},
   "outputs": [
    {
     "data": {
      "text/html": [
       "<div>\n",
       "<style scoped>\n",
       "    .dataframe tbody tr th:only-of-type {\n",
       "        vertical-align: middle;\n",
       "    }\n",
       "\n",
       "    .dataframe tbody tr th {\n",
       "        vertical-align: top;\n",
       "    }\n",
       "\n",
       "    .dataframe thead th {\n",
       "        text-align: right;\n",
       "    }\n",
       "</style>\n",
       "<table border=\"1\" class=\"dataframe\">\n",
       "  <thead>\n",
       "    <tr style=\"text-align: right;\">\n",
       "      <th></th>\n",
       "      <th>Job_Title</th>\n",
       "      <th>Salary</th>\n",
       "      <th>Levels</th>\n",
       "      <th>Level_from_Year</th>\n",
       "      <th>Salary L</th>\n",
       "      <th>Salary U</th>\n",
       "      <th>Salary M</th>\n",
       "    </tr>\n",
       "  </thead>\n",
       "  <tbody>\n",
       "    <tr>\n",
       "      <th>95</th>\n",
       "      <td>Machine Learning Engineer</td>\n",
       "      <td>RM 7,000 - RM 10,000 a month</td>\n",
       "      <td>None</td>\n",
       "      <td>None</td>\n",
       "      <td>7000.0</td>\n",
       "      <td>10000.0</td>\n",
       "      <td>8500.0</td>\n",
       "    </tr>\n",
       "    <tr>\n",
       "      <th>125</th>\n",
       "      <td>Data Analyst</td>\n",
       "      <td>RM 4,000 - RM 8,000 a month</td>\n",
       "      <td>None</td>\n",
       "      <td>Mid Level</td>\n",
       "      <td>4000.0</td>\n",
       "      <td>8000.0</td>\n",
       "      <td>6000.0</td>\n",
       "    </tr>\n",
       "    <tr>\n",
       "      <th>126</th>\n",
       "      <td>Rotating Equipment Engineer</td>\n",
       "      <td>RM 4,000 - RM 8,000 a month</td>\n",
       "      <td>None</td>\n",
       "      <td>Mid Level</td>\n",
       "      <td>4000.0</td>\n",
       "      <td>8000.0</td>\n",
       "      <td>6000.0</td>\n",
       "    </tr>\n",
       "    <tr>\n",
       "      <th>153</th>\n",
       "      <td>QA Engineer</td>\n",
       "      <td>RM 3,500 - RM 5,000 a month</td>\n",
       "      <td>None</td>\n",
       "      <td>Junior</td>\n",
       "      <td>3500.0</td>\n",
       "      <td>5000.0</td>\n",
       "      <td>4250.0</td>\n",
       "    </tr>\n",
       "    <tr>\n",
       "      <th>156</th>\n",
       "      <td>EQUIPMENT ENGINEER [WK2144-38]</td>\n",
       "      <td>RM 2,300 a month</td>\n",
       "      <td>None</td>\n",
       "      <td>None</td>\n",
       "      <td>2300.0</td>\n",
       "      <td>2300.0</td>\n",
       "      <td>2300.0</td>\n",
       "    </tr>\n",
       "  </tbody>\n",
       "</table>\n",
       "</div>"
      ],
      "text/plain": [
       "                          Job_Title                        Salary Levels  \\\n",
       "95        Machine Learning Engineer  RM 7,000 - RM 10,000 a month   None   \n",
       "125                    Data Analyst   RM 4,000 - RM 8,000 a month   None   \n",
       "126     Rotating Equipment Engineer   RM 4,000 - RM 8,000 a month   None   \n",
       "153                     QA Engineer   RM 3,500 - RM 5,000 a month   None   \n",
       "156  EQUIPMENT ENGINEER [WK2144-38]              RM 2,300 a month   None   \n",
       "\n",
       "    Level_from_Year  Salary L  Salary U  Salary M  \n",
       "95             None    7000.0   10000.0    8500.0  \n",
       "125       Mid Level    4000.0    8000.0    6000.0  \n",
       "126       Mid Level    4000.0    8000.0    6000.0  \n",
       "153          Junior    3500.0    5000.0    4250.0  \n",
       "156            None    2300.0    2300.0    2300.0  "
      ]
     },
     "execution_count": 113,
     "metadata": {},
     "output_type": "execute_result"
    }
   ],
   "source": [
    "df_dec = extract_salary(df_des)\n",
    "df_dec.head()"
   ]
  },
  {
   "cell_type": "code",
   "execution_count": 114,
   "metadata": {},
   "outputs": [
    {
     "data": {
      "text/html": [
       "<div>\n",
       "<style scoped>\n",
       "    .dataframe tbody tr th:only-of-type {\n",
       "        vertical-align: middle;\n",
       "    }\n",
       "\n",
       "    .dataframe tbody tr th {\n",
       "        vertical-align: top;\n",
       "    }\n",
       "\n",
       "    .dataframe thead th {\n",
       "        text-align: right;\n",
       "    }\n",
       "</style>\n",
       "<table border=\"1\" class=\"dataframe\">\n",
       "  <thead>\n",
       "    <tr style=\"text-align: right;\">\n",
       "      <th></th>\n",
       "      <th>Job_Title</th>\n",
       "      <th>Salary</th>\n",
       "      <th>Levels</th>\n",
       "      <th>Level_from_Year</th>\n",
       "      <th>Salary L</th>\n",
       "      <th>Salary U</th>\n",
       "      <th>Salary M</th>\n",
       "    </tr>\n",
       "  </thead>\n",
       "  <tbody>\n",
       "    <tr>\n",
       "      <th>count</th>\n",
       "      <td>759</td>\n",
       "      <td>759</td>\n",
       "      <td>157</td>\n",
       "      <td>605</td>\n",
       "      <td>759.000000</td>\n",
       "      <td>759.000000</td>\n",
       "      <td>759.000000</td>\n",
       "    </tr>\n",
       "    <tr>\n",
       "      <th>unique</th>\n",
       "      <td>514</td>\n",
       "      <td>242</td>\n",
       "      <td>3</td>\n",
       "      <td>3</td>\n",
       "      <td>NaN</td>\n",
       "      <td>NaN</td>\n",
       "      <td>NaN</td>\n",
       "    </tr>\n",
       "    <tr>\n",
       "      <th>top</th>\n",
       "      <td>Software Engineer</td>\n",
       "      <td>RM 2,500 - RM 3,000 a month</td>\n",
       "      <td>Senior</td>\n",
       "      <td>Mid Level</td>\n",
       "      <td>NaN</td>\n",
       "      <td>NaN</td>\n",
       "      <td>NaN</td>\n",
       "    </tr>\n",
       "    <tr>\n",
       "      <th>freq</th>\n",
       "      <td>26</td>\n",
       "      <td>22</td>\n",
       "      <td>137</td>\n",
       "      <td>358</td>\n",
       "      <td>NaN</td>\n",
       "      <td>NaN</td>\n",
       "      <td>NaN</td>\n",
       "    </tr>\n",
       "    <tr>\n",
       "      <th>mean</th>\n",
       "      <td>NaN</td>\n",
       "      <td>NaN</td>\n",
       "      <td>NaN</td>\n",
       "      <td>NaN</td>\n",
       "      <td>4458.405797</td>\n",
       "      <td>6469.807202</td>\n",
       "      <td>5464.106500</td>\n",
       "    </tr>\n",
       "    <tr>\n",
       "      <th>std</th>\n",
       "      <td>NaN</td>\n",
       "      <td>NaN</td>\n",
       "      <td>NaN</td>\n",
       "      <td>NaN</td>\n",
       "      <td>2781.914786</td>\n",
       "      <td>3772.478561</td>\n",
       "      <td>3182.886143</td>\n",
       "    </tr>\n",
       "    <tr>\n",
       "      <th>min</th>\n",
       "      <td>NaN</td>\n",
       "      <td>NaN</td>\n",
       "      <td>NaN</td>\n",
       "      <td>NaN</td>\n",
       "      <td>300.000000</td>\n",
       "      <td>300.000000</td>\n",
       "      <td>300.000000</td>\n",
       "    </tr>\n",
       "    <tr>\n",
       "      <th>25%</th>\n",
       "      <td>NaN</td>\n",
       "      <td>NaN</td>\n",
       "      <td>NaN</td>\n",
       "      <td>NaN</td>\n",
       "      <td>2500.000000</td>\n",
       "      <td>3500.000000</td>\n",
       "      <td>3050.000000</td>\n",
       "    </tr>\n",
       "    <tr>\n",
       "      <th>50%</th>\n",
       "      <td>NaN</td>\n",
       "      <td>NaN</td>\n",
       "      <td>NaN</td>\n",
       "      <td>NaN</td>\n",
       "      <td>4000.000000</td>\n",
       "      <td>6000.000000</td>\n",
       "      <td>4750.000000</td>\n",
       "    </tr>\n",
       "    <tr>\n",
       "      <th>75%</th>\n",
       "      <td>NaN</td>\n",
       "      <td>NaN</td>\n",
       "      <td>NaN</td>\n",
       "      <td>NaN</td>\n",
       "      <td>5250.000000</td>\n",
       "      <td>8000.000000</td>\n",
       "      <td>7000.000000</td>\n",
       "    </tr>\n",
       "    <tr>\n",
       "      <th>max</th>\n",
       "      <td>NaN</td>\n",
       "      <td>NaN</td>\n",
       "      <td>NaN</td>\n",
       "      <td>NaN</td>\n",
       "      <td>20000.000000</td>\n",
       "      <td>24000.000000</td>\n",
       "      <td>20000.000000</td>\n",
       "    </tr>\n",
       "  </tbody>\n",
       "</table>\n",
       "</div>"
      ],
      "text/plain": [
       "                Job_Title                       Salary   Levels  \\\n",
       "count                 759                          759      157   \n",
       "unique                514                          242        3   \n",
       "top     Software Engineer  RM 2,500 - RM 3,000 a month   Senior   \n",
       "freq                   26                           22      137   \n",
       "mean                  NaN                          NaN      NaN   \n",
       "std                   NaN                          NaN      NaN   \n",
       "min                   NaN                          NaN      NaN   \n",
       "25%                   NaN                          NaN      NaN   \n",
       "50%                   NaN                          NaN      NaN   \n",
       "75%                   NaN                          NaN      NaN   \n",
       "max                   NaN                          NaN      NaN   \n",
       "\n",
       "       Level_from_Year      Salary L      Salary U      Salary M  \n",
       "count              605    759.000000    759.000000    759.000000  \n",
       "unique               3           NaN           NaN           NaN  \n",
       "top          Mid Level           NaN           NaN           NaN  \n",
       "freq               358           NaN           NaN           NaN  \n",
       "mean               NaN   4458.405797   6469.807202   5464.106500  \n",
       "std                NaN   2781.914786   3772.478561   3182.886143  \n",
       "min                NaN    300.000000    300.000000    300.000000  \n",
       "25%                NaN   2500.000000   3500.000000   3050.000000  \n",
       "50%                NaN   4000.000000   6000.000000   4750.000000  \n",
       "75%                NaN   5250.000000   8000.000000   7000.000000  \n",
       "max                NaN  20000.000000  24000.000000  20000.000000  "
      ]
     },
     "execution_count": 114,
     "metadata": {},
     "output_type": "execute_result"
    }
   ],
   "source": [
    "df_dec.describe(include='all')"
   ]
  },
  {
   "cell_type": "code",
   "execution_count": 115,
   "metadata": {},
   "outputs": [
    {
     "data": {
      "text/html": [
       "<div>\n",
       "<style scoped>\n",
       "    .dataframe tbody tr th:only-of-type {\n",
       "        vertical-align: middle;\n",
       "    }\n",
       "\n",
       "    .dataframe tbody tr th {\n",
       "        vertical-align: top;\n",
       "    }\n",
       "\n",
       "    .dataframe thead th {\n",
       "        text-align: right;\n",
       "    }\n",
       "</style>\n",
       "<table border=\"1\" class=\"dataframe\">\n",
       "  <thead>\n",
       "    <tr style=\"text-align: right;\">\n",
       "      <th></th>\n",
       "      <th>Job_Title</th>\n",
       "      <th>Salary</th>\n",
       "      <th>Levels</th>\n",
       "      <th>Level_from_Year</th>\n",
       "      <th>Salary L</th>\n",
       "      <th>Salary U</th>\n",
       "      <th>Salary M</th>\n",
       "    </tr>\n",
       "  </thead>\n",
       "  <tbody>\n",
       "    <tr>\n",
       "      <th>19</th>\n",
       "      <td>Data Analyst</td>\n",
       "      <td>RM 2,000 - RM 4,500 a month</td>\n",
       "      <td>None</td>\n",
       "      <td>None</td>\n",
       "      <td>2000.0</td>\n",
       "      <td>4500.0</td>\n",
       "      <td>3250.0</td>\n",
       "    </tr>\n",
       "    <tr>\n",
       "      <th>25</th>\n",
       "      <td>Data Engineer</td>\n",
       "      <td>RM 3,500 - RM 5,000 a month</td>\n",
       "      <td>None</td>\n",
       "      <td>Junior</td>\n",
       "      <td>3500.0</td>\n",
       "      <td>5000.0</td>\n",
       "      <td>4250.0</td>\n",
       "    </tr>\n",
       "    <tr>\n",
       "      <th>42</th>\n",
       "      <td>senior data engineer</td>\n",
       "      <td>RM 13,000 - RM 17,000 a month</td>\n",
       "      <td>None</td>\n",
       "      <td>None</td>\n",
       "      <td>13000.0</td>\n",
       "      <td>17000.0</td>\n",
       "      <td>15000.0</td>\n",
       "    </tr>\n",
       "    <tr>\n",
       "      <th>53</th>\n",
       "      <td>Data Scientist</td>\n",
       "      <td>RM 4,500 - RM 7,000 a month</td>\n",
       "      <td>None</td>\n",
       "      <td>Mid Level</td>\n",
       "      <td>4500.0</td>\n",
       "      <td>7000.0</td>\n",
       "      <td>5750.0</td>\n",
       "    </tr>\n",
       "    <tr>\n",
       "      <th>57</th>\n",
       "      <td>Food Lab Assistant</td>\n",
       "      <td>RM 2,300 - RM 2,500 a month</td>\n",
       "      <td>None</td>\n",
       "      <td>Junior</td>\n",
       "      <td>2300.0</td>\n",
       "      <td>2500.0</td>\n",
       "      <td>2400.0</td>\n",
       "    </tr>\n",
       "  </tbody>\n",
       "</table>\n",
       "</div>"
      ],
      "text/plain": [
       "               Job_Title                         Salary Levels  \\\n",
       "19          Data Analyst    RM 2,000 - RM 4,500 a month   None   \n",
       "25         Data Engineer    RM 3,500 - RM 5,000 a month   None   \n",
       "42  senior data engineer  RM 13,000 - RM 17,000 a month   None   \n",
       "53        Data Scientist    RM 4,500 - RM 7,000 a month   None   \n",
       "57    Food Lab Assistant    RM 2,300 - RM 2,500 a month   None   \n",
       "\n",
       "   Level_from_Year  Salary L  Salary U  Salary M  \n",
       "19            None    2000.0    4500.0    3250.0  \n",
       "25          Junior    3500.0    5000.0    4250.0  \n",
       "42            None   13000.0   17000.0   15000.0  \n",
       "53       Mid Level    4500.0    7000.0    5750.0  \n",
       "57          Junior    2300.0    2500.0    2400.0  "
      ]
     },
     "execution_count": 115,
     "metadata": {},
     "output_type": "execute_result"
    }
   ],
   "source": [
    "df_dsc = extract_salary(df_dss)\n",
    "df_dsc.head()"
   ]
  },
  {
   "cell_type": "code",
   "execution_count": 116,
   "metadata": {},
   "outputs": [
    {
     "data": {
      "text/html": [
       "<div>\n",
       "<style scoped>\n",
       "    .dataframe tbody tr th:only-of-type {\n",
       "        vertical-align: middle;\n",
       "    }\n",
       "\n",
       "    .dataframe tbody tr th {\n",
       "        vertical-align: top;\n",
       "    }\n",
       "\n",
       "    .dataframe thead th {\n",
       "        text-align: right;\n",
       "    }\n",
       "</style>\n",
       "<table border=\"1\" class=\"dataframe\">\n",
       "  <thead>\n",
       "    <tr style=\"text-align: right;\">\n",
       "      <th></th>\n",
       "      <th>Job_Title</th>\n",
       "      <th>Salary</th>\n",
       "      <th>Levels</th>\n",
       "      <th>Level_from_Year</th>\n",
       "      <th>Salary L</th>\n",
       "      <th>Salary U</th>\n",
       "      <th>Salary M</th>\n",
       "    </tr>\n",
       "  </thead>\n",
       "  <tbody>\n",
       "    <tr>\n",
       "      <th>count</th>\n",
       "      <td>72</td>\n",
       "      <td>72</td>\n",
       "      <td>10</td>\n",
       "      <td>52</td>\n",
       "      <td>72.000000</td>\n",
       "      <td>72.000000</td>\n",
       "      <td>72.000000</td>\n",
       "    </tr>\n",
       "    <tr>\n",
       "      <th>unique</th>\n",
       "      <td>42</td>\n",
       "      <td>44</td>\n",
       "      <td>2</td>\n",
       "      <td>3</td>\n",
       "      <td>NaN</td>\n",
       "      <td>NaN</td>\n",
       "      <td>NaN</td>\n",
       "    </tr>\n",
       "    <tr>\n",
       "      <th>top</th>\n",
       "      <td>Data Scientist</td>\n",
       "      <td>RM 3,500 - RM 4,500 a month</td>\n",
       "      <td>Senior</td>\n",
       "      <td>Junior</td>\n",
       "      <td>NaN</td>\n",
       "      <td>NaN</td>\n",
       "      <td>NaN</td>\n",
       "    </tr>\n",
       "    <tr>\n",
       "      <th>freq</th>\n",
       "      <td>15</td>\n",
       "      <td>13</td>\n",
       "      <td>9</td>\n",
       "      <td>24</td>\n",
       "      <td>NaN</td>\n",
       "      <td>NaN</td>\n",
       "      <td>NaN</td>\n",
       "    </tr>\n",
       "    <tr>\n",
       "      <th>mean</th>\n",
       "      <td>NaN</td>\n",
       "      <td>NaN</td>\n",
       "      <td>NaN</td>\n",
       "      <td>NaN</td>\n",
       "      <td>6035.115741</td>\n",
       "      <td>8651.805556</td>\n",
       "      <td>7343.460648</td>\n",
       "    </tr>\n",
       "    <tr>\n",
       "      <th>std</th>\n",
       "      <td>NaN</td>\n",
       "      <td>NaN</td>\n",
       "      <td>NaN</td>\n",
       "      <td>NaN</td>\n",
       "      <td>4438.003823</td>\n",
       "      <td>5939.167117</td>\n",
       "      <td>5079.772501</td>\n",
       "    </tr>\n",
       "    <tr>\n",
       "      <th>min</th>\n",
       "      <td>NaN</td>\n",
       "      <td>NaN</td>\n",
       "      <td>NaN</td>\n",
       "      <td>NaN</td>\n",
       "      <td>500.000000</td>\n",
       "      <td>500.000000</td>\n",
       "      <td>500.000000</td>\n",
       "    </tr>\n",
       "    <tr>\n",
       "      <th>25%</th>\n",
       "      <td>NaN</td>\n",
       "      <td>NaN</td>\n",
       "      <td>NaN</td>\n",
       "      <td>NaN</td>\n",
       "      <td>3500.000000</td>\n",
       "      <td>4500.000000</td>\n",
       "      <td>4000.000000</td>\n",
       "    </tr>\n",
       "    <tr>\n",
       "      <th>50%</th>\n",
       "      <td>NaN</td>\n",
       "      <td>NaN</td>\n",
       "      <td>NaN</td>\n",
       "      <td>NaN</td>\n",
       "      <td>4000.000000</td>\n",
       "      <td>5500.000000</td>\n",
       "      <td>5050.000000</td>\n",
       "    </tr>\n",
       "    <tr>\n",
       "      <th>75%</th>\n",
       "      <td>NaN</td>\n",
       "      <td>NaN</td>\n",
       "      <td>NaN</td>\n",
       "      <td>NaN</td>\n",
       "      <td>8000.000000</td>\n",
       "      <td>10022.000000</td>\n",
       "      <td>9000.000000</td>\n",
       "    </tr>\n",
       "    <tr>\n",
       "      <th>max</th>\n",
       "      <td>NaN</td>\n",
       "      <td>NaN</td>\n",
       "      <td>NaN</td>\n",
       "      <td>NaN</td>\n",
       "      <td>20000.000000</td>\n",
       "      <td>30000.000000</td>\n",
       "      <td>25000.000000</td>\n",
       "    </tr>\n",
       "  </tbody>\n",
       "</table>\n",
       "</div>"
      ],
      "text/plain": [
       "             Job_Title                       Salary   Levels Level_from_Year  \\\n",
       "count               72                           72       10              52   \n",
       "unique              42                           44        2               3   \n",
       "top     Data Scientist  RM 3,500 - RM 4,500 a month   Senior          Junior   \n",
       "freq                15                           13        9              24   \n",
       "mean               NaN                          NaN      NaN             NaN   \n",
       "std                NaN                          NaN      NaN             NaN   \n",
       "min                NaN                          NaN      NaN             NaN   \n",
       "25%                NaN                          NaN      NaN             NaN   \n",
       "50%                NaN                          NaN      NaN             NaN   \n",
       "75%                NaN                          NaN      NaN             NaN   \n",
       "max                NaN                          NaN      NaN             NaN   \n",
       "\n",
       "            Salary L      Salary U      Salary M  \n",
       "count      72.000000     72.000000     72.000000  \n",
       "unique           NaN           NaN           NaN  \n",
       "top              NaN           NaN           NaN  \n",
       "freq             NaN           NaN           NaN  \n",
       "mean     6035.115741   8651.805556   7343.460648  \n",
       "std      4438.003823   5939.167117   5079.772501  \n",
       "min       500.000000    500.000000    500.000000  \n",
       "25%      3500.000000   4500.000000   4000.000000  \n",
       "50%      4000.000000   5500.000000   5050.000000  \n",
       "75%      8000.000000  10022.000000   9000.000000  \n",
       "max     20000.000000  30000.000000  25000.000000  "
      ]
     },
     "execution_count": 116,
     "metadata": {},
     "output_type": "execute_result"
    }
   ],
   "source": [
    "df_dsc.describe(include='all')"
   ]
  },
  {
   "cell_type": "code",
   "execution_count": 117,
   "metadata": {},
   "outputs": [
    {
     "data": {
      "text/html": [
       "<div>\n",
       "<style scoped>\n",
       "    .dataframe tbody tr th:only-of-type {\n",
       "        vertical-align: middle;\n",
       "    }\n",
       "\n",
       "    .dataframe tbody tr th {\n",
       "        vertical-align: top;\n",
       "    }\n",
       "\n",
       "    .dataframe thead th {\n",
       "        text-align: right;\n",
       "    }\n",
       "</style>\n",
       "<table border=\"1\" class=\"dataframe\">\n",
       "  <thead>\n",
       "    <tr style=\"text-align: right;\">\n",
       "      <th></th>\n",
       "      <th>Job_Title</th>\n",
       "      <th>Salary</th>\n",
       "      <th>Levels</th>\n",
       "      <th>Level_from_Year</th>\n",
       "      <th>Salary L</th>\n",
       "      <th>Salary U</th>\n",
       "      <th>Salary M</th>\n",
       "    </tr>\n",
       "  </thead>\n",
       "  <tbody>\n",
       "    <tr>\n",
       "      <th>27</th>\n",
       "      <td>Artificial Intelligence (AI) Engineer (Lead/Sn...</td>\n",
       "      <td>RM 10,000 a month</td>\n",
       "      <td>Senior</td>\n",
       "      <td>Mid Level</td>\n",
       "      <td>10000.0</td>\n",
       "      <td>10000.0</td>\n",
       "      <td>10000.0</td>\n",
       "    </tr>\n",
       "    <tr>\n",
       "      <th>38</th>\n",
       "      <td>Principal Engineer &amp; Researcher (Data Science)</td>\n",
       "      <td>RM 9,200 - RM 20,000 a month</td>\n",
       "      <td>None</td>\n",
       "      <td>Mid Level</td>\n",
       "      <td>9200.0</td>\n",
       "      <td>20000.0</td>\n",
       "      <td>14600.0</td>\n",
       "    </tr>\n",
       "    <tr>\n",
       "      <th>39</th>\n",
       "      <td>Software Engineer &amp; Researcher (Data Science)</td>\n",
       "      <td>RM 2,500 - RM 5,800 a month</td>\n",
       "      <td>None</td>\n",
       "      <td>Junior</td>\n",
       "      <td>2500.0</td>\n",
       "      <td>5800.0</td>\n",
       "      <td>4150.0</td>\n",
       "    </tr>\n",
       "    <tr>\n",
       "      <th>42</th>\n",
       "      <td>Software Engineer (Data Science) - Based in Cy...</td>\n",
       "      <td>RM 4,500 - RM 7,500 a month</td>\n",
       "      <td>None</td>\n",
       "      <td>Junior</td>\n",
       "      <td>4500.0</td>\n",
       "      <td>7500.0</td>\n",
       "      <td>6000.0</td>\n",
       "    </tr>\n",
       "    <tr>\n",
       "      <th>43</th>\n",
       "      <td>Special Training Programme for New Mechanical ...</td>\n",
       "      <td>RM 700 a month</td>\n",
       "      <td>Junior</td>\n",
       "      <td>Mid Level</td>\n",
       "      <td>700.0</td>\n",
       "      <td>700.0</td>\n",
       "      <td>700.0</td>\n",
       "    </tr>\n",
       "  </tbody>\n",
       "</table>\n",
       "</div>"
      ],
      "text/plain": [
       "                                            Job_Title  \\\n",
       "27  Artificial Intelligence (AI) Engineer (Lead/Sn...   \n",
       "38     Principal Engineer & Researcher (Data Science)   \n",
       "39      Software Engineer & Researcher (Data Science)   \n",
       "42  Software Engineer (Data Science) - Based in Cy...   \n",
       "43  Special Training Programme for New Mechanical ...   \n",
       "\n",
       "                          Salary   Levels Level_from_Year  Salary L  Salary U  \\\n",
       "27             RM 10,000 a month   Senior       Mid Level   10000.0   10000.0   \n",
       "38  RM 9,200 - RM 20,000 a month     None       Mid Level    9200.0   20000.0   \n",
       "39   RM 2,500 - RM 5,800 a month     None          Junior    2500.0    5800.0   \n",
       "42   RM 4,500 - RM 7,500 a month     None          Junior    4500.0    7500.0   \n",
       "43                RM 700 a month   Junior       Mid Level     700.0     700.0   \n",
       "\n",
       "    Salary M  \n",
       "27   10000.0  \n",
       "38   14600.0  \n",
       "39    4150.0  \n",
       "42    6000.0  \n",
       "43     700.0  "
      ]
     },
     "execution_count": 117,
     "metadata": {},
     "output_type": "execute_result"
    }
   ],
   "source": [
    "df_mlec = extract_salary(df_mles)\n",
    "df_mlec.head()"
   ]
  },
  {
   "cell_type": "code",
   "execution_count": 118,
   "metadata": {},
   "outputs": [
    {
     "data": {
      "text/html": [
       "<div>\n",
       "<style scoped>\n",
       "    .dataframe tbody tr th:only-of-type {\n",
       "        vertical-align: middle;\n",
       "    }\n",
       "\n",
       "    .dataframe tbody tr th {\n",
       "        vertical-align: top;\n",
       "    }\n",
       "\n",
       "    .dataframe thead th {\n",
       "        text-align: right;\n",
       "    }\n",
       "</style>\n",
       "<table border=\"1\" class=\"dataframe\">\n",
       "  <thead>\n",
       "    <tr style=\"text-align: right;\">\n",
       "      <th></th>\n",
       "      <th>Job_Title</th>\n",
       "      <th>Salary</th>\n",
       "      <th>Levels</th>\n",
       "      <th>Level_from_Year</th>\n",
       "      <th>Salary L</th>\n",
       "      <th>Salary U</th>\n",
       "      <th>Salary M</th>\n",
       "    </tr>\n",
       "  </thead>\n",
       "  <tbody>\n",
       "    <tr>\n",
       "      <th>count</th>\n",
       "      <td>67</td>\n",
       "      <td>67</td>\n",
       "      <td>26</td>\n",
       "      <td>49</td>\n",
       "      <td>67.000000</td>\n",
       "      <td>67.000000</td>\n",
       "      <td>67.000000</td>\n",
       "    </tr>\n",
       "    <tr>\n",
       "      <th>unique</th>\n",
       "      <td>44</td>\n",
       "      <td>39</td>\n",
       "      <td>3</td>\n",
       "      <td>3</td>\n",
       "      <td>NaN</td>\n",
       "      <td>NaN</td>\n",
       "      <td>NaN</td>\n",
       "    </tr>\n",
       "    <tr>\n",
       "      <th>top</th>\n",
       "      <td>Senior Data Engineer</td>\n",
       "      <td>RM 9,000 - RM 13,000 a month</td>\n",
       "      <td>Senior</td>\n",
       "      <td>Mid Level</td>\n",
       "      <td>NaN</td>\n",
       "      <td>NaN</td>\n",
       "      <td>NaN</td>\n",
       "    </tr>\n",
       "    <tr>\n",
       "      <th>freq</th>\n",
       "      <td>16</td>\n",
       "      <td>16</td>\n",
       "      <td>21</td>\n",
       "      <td>31</td>\n",
       "      <td>NaN</td>\n",
       "      <td>NaN</td>\n",
       "      <td>NaN</td>\n",
       "    </tr>\n",
       "    <tr>\n",
       "      <th>mean</th>\n",
       "      <td>NaN</td>\n",
       "      <td>NaN</td>\n",
       "      <td>NaN</td>\n",
       "      <td>NaN</td>\n",
       "      <td>5360.656716</td>\n",
       "      <td>8040.716418</td>\n",
       "      <td>6700.686567</td>\n",
       "    </tr>\n",
       "    <tr>\n",
       "      <th>std</th>\n",
       "      <td>NaN</td>\n",
       "      <td>NaN</td>\n",
       "      <td>NaN</td>\n",
       "      <td>NaN</td>\n",
       "      <td>3305.367946</td>\n",
       "      <td>4705.378479</td>\n",
       "      <td>3935.638804</td>\n",
       "    </tr>\n",
       "    <tr>\n",
       "      <th>min</th>\n",
       "      <td>NaN</td>\n",
       "      <td>NaN</td>\n",
       "      <td>NaN</td>\n",
       "      <td>NaN</td>\n",
       "      <td>500.000000</td>\n",
       "      <td>500.000000</td>\n",
       "      <td>500.000000</td>\n",
       "    </tr>\n",
       "    <tr>\n",
       "      <th>25%</th>\n",
       "      <td>NaN</td>\n",
       "      <td>NaN</td>\n",
       "      <td>NaN</td>\n",
       "      <td>NaN</td>\n",
       "      <td>2550.000000</td>\n",
       "      <td>4750.000000</td>\n",
       "      <td>3875.000000</td>\n",
       "    </tr>\n",
       "    <tr>\n",
       "      <th>50%</th>\n",
       "      <td>NaN</td>\n",
       "      <td>NaN</td>\n",
       "      <td>NaN</td>\n",
       "      <td>NaN</td>\n",
       "      <td>4500.000000</td>\n",
       "      <td>7500.000000</td>\n",
       "      <td>6250.000000</td>\n",
       "    </tr>\n",
       "    <tr>\n",
       "      <th>75%</th>\n",
       "      <td>NaN</td>\n",
       "      <td>NaN</td>\n",
       "      <td>NaN</td>\n",
       "      <td>NaN</td>\n",
       "      <td>9000.000000</td>\n",
       "      <td>13000.000000</td>\n",
       "      <td>11000.000000</td>\n",
       "    </tr>\n",
       "    <tr>\n",
       "      <th>max</th>\n",
       "      <td>NaN</td>\n",
       "      <td>NaN</td>\n",
       "      <td>NaN</td>\n",
       "      <td>NaN</td>\n",
       "      <td>13000.000000</td>\n",
       "      <td>20000.000000</td>\n",
       "      <td>15000.000000</td>\n",
       "    </tr>\n",
       "  </tbody>\n",
       "</table>\n",
       "</div>"
      ],
      "text/plain": [
       "                   Job_Title                        Salary   Levels  \\\n",
       "count                     67                            67       26   \n",
       "unique                    44                            39        3   \n",
       "top     Senior Data Engineer  RM 9,000 - RM 13,000 a month   Senior   \n",
       "freq                      16                            16       21   \n",
       "mean                     NaN                           NaN      NaN   \n",
       "std                      NaN                           NaN      NaN   \n",
       "min                      NaN                           NaN      NaN   \n",
       "25%                      NaN                           NaN      NaN   \n",
       "50%                      NaN                           NaN      NaN   \n",
       "75%                      NaN                           NaN      NaN   \n",
       "max                      NaN                           NaN      NaN   \n",
       "\n",
       "       Level_from_Year      Salary L      Salary U      Salary M  \n",
       "count               49     67.000000     67.000000     67.000000  \n",
       "unique               3           NaN           NaN           NaN  \n",
       "top          Mid Level           NaN           NaN           NaN  \n",
       "freq                31           NaN           NaN           NaN  \n",
       "mean               NaN   5360.656716   8040.716418   6700.686567  \n",
       "std                NaN   3305.367946   4705.378479   3935.638804  \n",
       "min                NaN    500.000000    500.000000    500.000000  \n",
       "25%                NaN   2550.000000   4750.000000   3875.000000  \n",
       "50%                NaN   4500.000000   7500.000000   6250.000000  \n",
       "75%                NaN   9000.000000  13000.000000  11000.000000  \n",
       "max                NaN  13000.000000  20000.000000  15000.000000  "
      ]
     },
     "execution_count": 118,
     "metadata": {},
     "output_type": "execute_result"
    }
   ],
   "source": [
    "df_mlec.describe(include='all')"
   ]
  },
  {
   "cell_type": "markdown",
   "metadata": {},
   "source": [
    "# Data Distribution"
   ]
  },
  {
   "cell_type": "code",
   "execution_count": 147,
   "metadata": {},
   "outputs": [],
   "source": [
    "def plot_distribution(salary, title):\n",
    "    fg, ax = plt.subplots(ncols=2, figsize=(16,8))\n",
    "    salary.plot.hist(bins=20, ax=ax[0], title=\"{} Histogram\".format(title))\n",
    "    salary.plot.box(ax=ax[1], title=\"{} Box Plot\".format(title))\n",
    "\n",
    "def remove_outliers(salary):\n",
    "    q1 = salary.describe()['25%']\n",
    "    q3 = salary.describe()['75%']\n",
    "    iqr = q3 - q1\n",
    "    lf = q1 - 1.5 * iqr\n",
    "    uf = q3 + 1.5 * iqr\n",
    "    return salary[(salary >= lf) & (salary <= uf)]"
   ]
  },
  {
   "cell_type": "markdown",
   "metadata": {},
   "source": [
    "### Data Analyst"
   ]
  },
  {
   "cell_type": "code",
   "execution_count": 138,
   "metadata": {},
   "outputs": [
    {
     "data": {
      "text/html": [
       "<div>\n",
       "<style scoped>\n",
       "    .dataframe tbody tr th:only-of-type {\n",
       "        vertical-align: middle;\n",
       "    }\n",
       "\n",
       "    .dataframe tbody tr th {\n",
       "        vertical-align: top;\n",
       "    }\n",
       "\n",
       "    .dataframe thead th {\n",
       "        text-align: right;\n",
       "    }\n",
       "</style>\n",
       "<table border=\"1\" class=\"dataframe\">\n",
       "  <thead>\n",
       "    <tr style=\"text-align: right;\">\n",
       "      <th></th>\n",
       "      <th>Salary L</th>\n",
       "      <th>Salary U</th>\n",
       "      <th>Salary M</th>\n",
       "    </tr>\n",
       "  </thead>\n",
       "  <tbody>\n",
       "    <tr>\n",
       "      <th>count</th>\n",
       "      <td>614.000000</td>\n",
       "      <td>614.000000</td>\n",
       "      <td>614.000000</td>\n",
       "    </tr>\n",
       "    <tr>\n",
       "      <th>mean</th>\n",
       "      <td>4755.779237</td>\n",
       "      <td>6477.263868</td>\n",
       "      <td>5616.521553</td>\n",
       "    </tr>\n",
       "    <tr>\n",
       "      <th>std</th>\n",
       "      <td>2894.502556</td>\n",
       "      <td>3510.498425</td>\n",
       "      <td>3119.340933</td>\n",
       "    </tr>\n",
       "    <tr>\n",
       "      <th>min</th>\n",
       "      <td>300.000000</td>\n",
       "      <td>500.000000</td>\n",
       "      <td>400.000000</td>\n",
       "    </tr>\n",
       "    <tr>\n",
       "      <th>25%</th>\n",
       "      <td>3000.000000</td>\n",
       "      <td>4500.000000</td>\n",
       "      <td>3825.000000</td>\n",
       "    </tr>\n",
       "    <tr>\n",
       "      <th>50%</th>\n",
       "      <td>4000.000000</td>\n",
       "      <td>5500.000000</td>\n",
       "      <td>5000.000000</td>\n",
       "    </tr>\n",
       "    <tr>\n",
       "      <th>75%</th>\n",
       "      <td>5500.000000</td>\n",
       "      <td>8000.000000</td>\n",
       "      <td>7000.000000</td>\n",
       "    </tr>\n",
       "    <tr>\n",
       "      <th>max</th>\n",
       "      <td>24000.000000</td>\n",
       "      <td>25000.000000</td>\n",
       "      <td>24000.000000</td>\n",
       "    </tr>\n",
       "  </tbody>\n",
       "</table>\n",
       "</div>"
      ],
      "text/plain": [
       "           Salary L      Salary U      Salary M\n",
       "count    614.000000    614.000000    614.000000\n",
       "mean    4755.779237   6477.263868   5616.521553\n",
       "std     2894.502556   3510.498425   3119.340933\n",
       "min      300.000000    500.000000    400.000000\n",
       "25%     3000.000000   4500.000000   3825.000000\n",
       "50%     4000.000000   5500.000000   5000.000000\n",
       "75%     5500.000000   8000.000000   7000.000000\n",
       "max    24000.000000  25000.000000  24000.000000"
      ]
     },
     "execution_count": 138,
     "metadata": {},
     "output_type": "execute_result"
    }
   ],
   "source": [
    "df_dac.describe()"
   ]
  },
  {
   "cell_type": "code",
   "execution_count": 126,
   "metadata": {},
   "outputs": [
    {
     "data": {
      "image/png": "[encoded data removed]",
      "text/plain": [
       "<Figure size 1152x576 with 2 Axes>"
      ]
     },
     "metadata": {
      "needs_background": "light"
     },
     "output_type": "display_data"
    }
   ],
   "source": [
    "plot_distribution(df_dac['Salary L'], title=\"Salary (Lower Bound)\")"
   ]
  },
  {
   "cell_type": "code",
   "execution_count": 127,
   "metadata": {},
   "outputs": [
    {
     "data": {
      "image/png": "[encoded data removed]",
      "text/plain": [
       "<Figure size 1152x576 with 2 Axes>"
      ]
     },
     "metadata": {
      "needs_background": "light"
     },
     "output_type": "display_data"
    }
   ],
   "source": [
    "plot_distribution(df_dac['Salary U'], title=\"Salary (Upper Bound)\")"
   ]
  },
  {
   "cell_type": "code",
   "execution_count": 128,
   "metadata": {},
   "outputs": [
    {
     "data": {
      "image/png": "[encoded data removed]",
      "text/plain": [
       "<Figure size 1152x576 with 2 Axes>"
      ]
     },
     "metadata": {
      "needs_background": "light"
     },
     "output_type": "display_data"
    }
   ],
   "source": [
    "plot_distribution(df_dac['Salary M'], title=\"Salary (Mean)\")"
   ]
  },
  {
   "cell_type": "markdown",
   "metadata": {},
   "source": [
    "#### Without outliers"
   ]
  },
  {
   "cell_type": "code",
   "execution_count": 149,
   "metadata": {},
   "outputs": [
    {
     "data": {
      "text/plain": [
       "count      590.000000\n",
       "mean      5195.837684\n",
       "std       2238.314010\n",
       "min        400.000000\n",
       "25%       3750.000000\n",
       "50%       4750.000000\n",
       "75%       6387.125000\n",
       "max      11500.000000\n",
       "Name: Salary M, dtype: float64"
      ]
     },
     "execution_count": 149,
     "metadata": {},
     "output_type": "execute_result"
    }
   ],
   "source": [
    "da_salary = remove_outliers(df_dac['Salary M'])\n",
    "da_salary.describe()"
   ]
  },
  {
   "cell_type": "code",
   "execution_count": 150,
   "metadata": {},
   "outputs": [
    {
     "data": {
      "image/png": "[encoded data removed]",
      "text/plain": [
       "<Figure size 1152x576 with 2 Axes>"
      ]
     },
     "metadata": {
      "needs_background": "light"
     },
     "output_type": "display_data"
    }
   ],
   "source": [
    "plot_distribution(da_salary, title=\"Salary\")"
   ]
  },
  {
   "cell_type": "markdown",
   "metadata": {},
   "source": [
    "### Data Engineer"
   ]
  },
  {
   "cell_type": "code",
   "execution_count": 139,
   "metadata": {},
   "outputs": [
    {
     "data": {
      "text/html": [
       "<div>\n",
       "<style scoped>\n",
       "    .dataframe tbody tr th:only-of-type {\n",
       "        vertical-align: middle;\n",
       "    }\n",
       "\n",
       "    .dataframe tbody tr th {\n",
       "        vertical-align: top;\n",
       "    }\n",
       "\n",
       "    .dataframe thead th {\n",
       "        text-align: right;\n",
       "    }\n",
       "</style>\n",
       "<table border=\"1\" class=\"dataframe\">\n",
       "  <thead>\n",
       "    <tr style=\"text-align: right;\">\n",
       "      <th></th>\n",
       "      <th>Salary L</th>\n",
       "      <th>Salary U</th>\n",
       "      <th>Salary M</th>\n",
       "    </tr>\n",
       "  </thead>\n",
       "  <tbody>\n",
       "    <tr>\n",
       "      <th>count</th>\n",
       "      <td>759.000000</td>\n",
       "      <td>759.000000</td>\n",
       "      <td>759.000000</td>\n",
       "    </tr>\n",
       "    <tr>\n",
       "      <th>mean</th>\n",
       "      <td>4458.405797</td>\n",
       "      <td>6469.807202</td>\n",
       "      <td>5464.106500</td>\n",
       "    </tr>\n",
       "    <tr>\n",
       "      <th>std</th>\n",
       "      <td>2781.914786</td>\n",
       "      <td>3772.478561</td>\n",
       "      <td>3182.886143</td>\n",
       "    </tr>\n",
       "    <tr>\n",
       "      <th>min</th>\n",
       "      <td>300.000000</td>\n",
       "      <td>300.000000</td>\n",
       "      <td>300.000000</td>\n",
       "    </tr>\n",
       "    <tr>\n",
       "      <th>25%</th>\n",
       "      <td>2500.000000</td>\n",
       "      <td>3500.000000</td>\n",
       "      <td>3050.000000</td>\n",
       "    </tr>\n",
       "    <tr>\n",
       "      <th>50%</th>\n",
       "      <td>4000.000000</td>\n",
       "      <td>6000.000000</td>\n",
       "      <td>4750.000000</td>\n",
       "    </tr>\n",
       "    <tr>\n",
       "      <th>75%</th>\n",
       "      <td>5250.000000</td>\n",
       "      <td>8000.000000</td>\n",
       "      <td>7000.000000</td>\n",
       "    </tr>\n",
       "    <tr>\n",
       "      <th>max</th>\n",
       "      <td>20000.000000</td>\n",
       "      <td>24000.000000</td>\n",
       "      <td>20000.000000</td>\n",
       "    </tr>\n",
       "  </tbody>\n",
       "</table>\n",
       "</div>"
      ],
      "text/plain": [
       "           Salary L      Salary U      Salary M\n",
       "count    759.000000    759.000000    759.000000\n",
       "mean    4458.405797   6469.807202   5464.106500\n",
       "std     2781.914786   3772.478561   3182.886143\n",
       "min      300.000000    300.000000    300.000000\n",
       "25%     2500.000000   3500.000000   3050.000000\n",
       "50%     4000.000000   6000.000000   4750.000000\n",
       "75%     5250.000000   8000.000000   7000.000000\n",
       "max    20000.000000  24000.000000  20000.000000"
      ]
     },
     "execution_count": 139,
     "metadata": {},
     "output_type": "execute_result"
    }
   ],
   "source": [
    "df_dec.describe()"
   ]
  },
  {
   "cell_type": "code",
   "execution_count": 129,
   "metadata": {},
   "outputs": [
    {
     "data": {
      "image/png": "[encoded data removed]",
      "text/plain": [
       "<Figure size 1152x576 with 2 Axes>"
      ]
     },
     "metadata": {
      "needs_background": "light"
     },
     "output_type": "display_data"
    }
   ],
   "source": [
    "plot_distribution(df_dec['Salary L'], title=\"Salary (Lower Bound)\")"
   ]
  },
  {
   "cell_type": "code",
   "execution_count": 130,
   "metadata": {},
   "outputs": [
    {
     "data": {
      "image/png": "[encoded data removed]",
      "text/plain": [
       "<Figure size 1152x576 with 2 Axes>"
      ]
     },
     "metadata": {
      "needs_background": "light"
     },
     "output_type": "display_data"
    }
   ],
   "source": [
    "plot_distribution(df_dec['Salary U'], title=\"Salary (Upper Bound)\")"
   ]
  },
  {
   "cell_type": "code",
   "execution_count": 131,
   "metadata": {},
   "outputs": [
    {
     "data": {
      "image/png": "[encoded data removed]",
      "text/plain": [
       "<Figure size 1152x576 with 2 Axes>"
      ]
     },
     "metadata": {
      "needs_background": "light"
     },
     "output_type": "display_data"
    }
   ],
   "source": [
    "plot_distribution(df_dec['Salary M'], title=\"Salary (Mean)\")"
   ]
  },
  {
   "cell_type": "markdown",
   "metadata": {},
   "source": [
    "#### Without outliers"
   ]
  },
  {
   "cell_type": "code",
   "execution_count": 152,
   "metadata": {},
   "outputs": [
    {
     "data": {
      "text/plain": [
       "count      738.000000\n",
       "mean      5179.492096\n",
       "std       2713.980404\n",
       "min        300.000000\n",
       "25%       3000.000000\n",
       "50%       4654.250000\n",
       "75%       6750.000000\n",
       "max      12500.000000\n",
       "Name: Salary M, dtype: float64"
      ]
     },
     "execution_count": 152,
     "metadata": {},
     "output_type": "execute_result"
    }
   ],
   "source": [
    "de_salary = remove_outliers(df_dec['Salary M'])\n",
    "de_salary.describe()"
   ]
  },
  {
   "cell_type": "code",
   "execution_count": 153,
   "metadata": {},
   "outputs": [
    {
     "data": {
      "image/png": "[encoded data removed]",
      "text/plain": [
       "<Figure size 1152x576 with 2 Axes>"
      ]
     },
     "metadata": {
      "needs_background": "light"
     },
     "output_type": "display_data"
    }
   ],
   "source": [
    "plot_distribution(de_salary, title=\"Salary\")"
   ]
  },
  {
   "cell_type": "markdown",
   "metadata": {},
   "source": [
    "### Data Scientist"
   ]
  },
  {
   "cell_type": "code",
   "execution_count": 140,
   "metadata": {},
   "outputs": [
    {
     "data": {
      "text/html": [
       "<div>\n",
       "<style scoped>\n",
       "    .dataframe tbody tr th:only-of-type {\n",
       "        vertical-align: middle;\n",
       "    }\n",
       "\n",
       "    .dataframe tbody tr th {\n",
       "        vertical-align: top;\n",
       "    }\n",
       "\n",
       "    .dataframe thead th {\n",
       "        text-align: right;\n",
       "    }\n",
       "</style>\n",
       "<table border=\"1\" class=\"dataframe\">\n",
       "  <thead>\n",
       "    <tr style=\"text-align: right;\">\n",
       "      <th></th>\n",
       "      <th>Salary L</th>\n",
       "      <th>Salary U</th>\n",
       "      <th>Salary M</th>\n",
       "    </tr>\n",
       "  </thead>\n",
       "  <tbody>\n",
       "    <tr>\n",
       "      <th>count</th>\n",
       "      <td>72.000000</td>\n",
       "      <td>72.000000</td>\n",
       "      <td>72.000000</td>\n",
       "    </tr>\n",
       "    <tr>\n",
       "      <th>mean</th>\n",
       "      <td>6035.115741</td>\n",
       "      <td>8651.805556</td>\n",
       "      <td>7343.460648</td>\n",
       "    </tr>\n",
       "    <tr>\n",
       "      <th>std</th>\n",
       "      <td>4438.003823</td>\n",
       "      <td>5939.167117</td>\n",
       "      <td>5079.772501</td>\n",
       "    </tr>\n",
       "    <tr>\n",
       "      <th>min</th>\n",
       "      <td>500.000000</td>\n",
       "      <td>500.000000</td>\n",
       "      <td>500.000000</td>\n",
       "    </tr>\n",
       "    <tr>\n",
       "      <th>25%</th>\n",
       "      <td>3500.000000</td>\n",
       "      <td>4500.000000</td>\n",
       "      <td>4000.000000</td>\n",
       "    </tr>\n",
       "    <tr>\n",
       "      <th>50%</th>\n",
       "      <td>4000.000000</td>\n",
       "      <td>5500.000000</td>\n",
       "      <td>5050.000000</td>\n",
       "    </tr>\n",
       "    <tr>\n",
       "      <th>75%</th>\n",
       "      <td>8000.000000</td>\n",
       "      <td>10022.000000</td>\n",
       "      <td>9000.000000</td>\n",
       "    </tr>\n",
       "    <tr>\n",
       "      <th>max</th>\n",
       "      <td>20000.000000</td>\n",
       "      <td>30000.000000</td>\n",
       "      <td>25000.000000</td>\n",
       "    </tr>\n",
       "  </tbody>\n",
       "</table>\n",
       "</div>"
      ],
      "text/plain": [
       "           Salary L      Salary U      Salary M\n",
       "count     72.000000     72.000000     72.000000\n",
       "mean    6035.115741   8651.805556   7343.460648\n",
       "std     4438.003823   5939.167117   5079.772501\n",
       "min      500.000000    500.000000    500.000000\n",
       "25%     3500.000000   4500.000000   4000.000000\n",
       "50%     4000.000000   5500.000000   5050.000000\n",
       "75%     8000.000000  10022.000000   9000.000000\n",
       "max    20000.000000  30000.000000  25000.000000"
      ]
     },
     "execution_count": 140,
     "metadata": {},
     "output_type": "execute_result"
    }
   ],
   "source": [
    "df_dsc.describe()"
   ]
  },
  {
   "cell_type": "code",
   "execution_count": 132,
   "metadata": {},
   "outputs": [
    {
     "data": {
      "image/png": "[encoded data removed]",
      "text/plain": [
       "<Figure size 1152x576 with 2 Axes>"
      ]
     },
     "metadata": {
      "needs_background": "light"
     },
     "output_type": "display_data"
    }
   ],
   "source": [
    "plot_distribution(df_dsc['Salary L'], title=\"Salary (Lower Bound)\")"
   ]
  },
  {
   "cell_type": "code",
   "execution_count": 133,
   "metadata": {},
   "outputs": [
    {
     "data": {
      "image/png": "[encoded data removed]",
      "text/plain": [
       "<Figure size 1152x576 with 2 Axes>"
      ]
     },
     "metadata": {
      "needs_background": "light"
     },
     "output_type": "display_data"
    }
   ],
   "source": [
    "plot_distribution(df_dsc['Salary U'], title=\"Salary (Upper Bound)\")"
   ]
  },
  {
   "cell_type": "code",
   "execution_count": 134,
   "metadata": {},
   "outputs": [
    {
     "data": {
      "image/png": "[encoded data removed]",
      "text/plain": [
       "<Figure size 1152x576 with 2 Axes>"
      ]
     },
     "metadata": {
      "needs_background": "light"
     },
     "output_type": "display_data"
    }
   ],
   "source": [
    "plot_distribution(df_dsc['Salary M'], title=\"Salary (Mean)\")"
   ]
  },
  {
   "cell_type": "markdown",
   "metadata": {},
   "source": [
    "#### Without outliers"
   ]
  },
  {
   "cell_type": "code",
   "execution_count": 154,
   "metadata": {},
   "outputs": [
    {
     "data": {
      "text/plain": [
       "count       67.000000\n",
       "mean      6376.554726\n",
       "std       3689.238982\n",
       "min        500.000000\n",
       "25%       4000.000000\n",
       "50%       4500.000000\n",
       "75%       8997.000000\n",
       "max      15000.000000\n",
       "Name: Salary M, dtype: float64"
      ]
     },
     "execution_count": 154,
     "metadata": {},
     "output_type": "execute_result"
    }
   ],
   "source": [
    "ds_salary = remove_outliers(df_dsc['Salary M'])\n",
    "ds_salary.describe()"
   ]
  },
  {
   "cell_type": "code",
   "execution_count": 155,
   "metadata": {},
   "outputs": [
    {
     "data": {
      "image/png": "[encoded data removed]",
      "text/plain": [
       "<Figure size 1152x576 with 2 Axes>"
      ]
     },
     "metadata": {
      "needs_background": "light"
     },
     "output_type": "display_data"
    }
   ],
   "source": [
    "plot_distribution(ds_salary, title=\"Salary\")"
   ]
  },
  {
   "cell_type": "markdown",
   "metadata": {},
   "source": [
    "### Machine Learning Engineer"
   ]
  },
  {
   "cell_type": "code",
   "execution_count": 141,
   "metadata": {},
   "outputs": [
    {
     "data": {
      "text/html": [
       "<div>\n",
       "<style scoped>\n",
       "    .dataframe tbody tr th:only-of-type {\n",
       "        vertical-align: middle;\n",
       "    }\n",
       "\n",
       "    .dataframe tbody tr th {\n",
       "        vertical-align: top;\n",
       "    }\n",
       "\n",
       "    .dataframe thead th {\n",
       "        text-align: right;\n",
       "    }\n",
       "</style>\n",
       "<table border=\"1\" class=\"dataframe\">\n",
       "  <thead>\n",
       "    <tr style=\"text-align: right;\">\n",
       "      <th></th>\n",
       "      <th>Salary L</th>\n",
       "      <th>Salary U</th>\n",
       "      <th>Salary M</th>\n",
       "    </tr>\n",
       "  </thead>\n",
       "  <tbody>\n",
       "    <tr>\n",
       "      <th>count</th>\n",
       "      <td>67.000000</td>\n",
       "      <td>67.000000</td>\n",
       "      <td>67.000000</td>\n",
       "    </tr>\n",
       "    <tr>\n",
       "      <th>mean</th>\n",
       "      <td>5360.656716</td>\n",
       "      <td>8040.716418</td>\n",
       "      <td>6700.686567</td>\n",
       "    </tr>\n",
       "    <tr>\n",
       "      <th>std</th>\n",
       "      <td>3305.367946</td>\n",
       "      <td>4705.378479</td>\n",
       "      <td>3935.638804</td>\n",
       "    </tr>\n",
       "    <tr>\n",
       "      <th>min</th>\n",
       "      <td>500.000000</td>\n",
       "      <td>500.000000</td>\n",
       "      <td>500.000000</td>\n",
       "    </tr>\n",
       "    <tr>\n",
       "      <th>25%</th>\n",
       "      <td>2550.000000</td>\n",
       "      <td>4750.000000</td>\n",
       "      <td>3875.000000</td>\n",
       "    </tr>\n",
       "    <tr>\n",
       "      <th>50%</th>\n",
       "      <td>4500.000000</td>\n",
       "      <td>7500.000000</td>\n",
       "      <td>6250.000000</td>\n",
       "    </tr>\n",
       "    <tr>\n",
       "      <th>75%</th>\n",
       "      <td>9000.000000</td>\n",
       "      <td>13000.000000</td>\n",
       "      <td>11000.000000</td>\n",
       "    </tr>\n",
       "    <tr>\n",
       "      <th>max</th>\n",
       "      <td>13000.000000</td>\n",
       "      <td>20000.000000</td>\n",
       "      <td>15000.000000</td>\n",
       "    </tr>\n",
       "  </tbody>\n",
       "</table>\n",
       "</div>"
      ],
      "text/plain": [
       "           Salary L      Salary U      Salary M\n",
       "count     67.000000     67.000000     67.000000\n",
       "mean    5360.656716   8040.716418   6700.686567\n",
       "std     3305.367946   4705.378479   3935.638804\n",
       "min      500.000000    500.000000    500.000000\n",
       "25%     2550.000000   4750.000000   3875.000000\n",
       "50%     4500.000000   7500.000000   6250.000000\n",
       "75%     9000.000000  13000.000000  11000.000000\n",
       "max    13000.000000  20000.000000  15000.000000"
      ]
     },
     "execution_count": 141,
     "metadata": {},
     "output_type": "execute_result"
    }
   ],
   "source": [
    "df_mlec.describe()"
   ]
  },
  {
   "cell_type": "code",
   "execution_count": 135,
   "metadata": {},
   "outputs": [
    {
     "data": {
      "image/png": "[encoded data removed]",
      "text/plain": [
       "<Figure size 1152x576 with 2 Axes>"
      ]
     },
     "metadata": {
      "needs_background": "light"
     },
     "output_type": "display_data"
    }
   ],
   "source": [
    "plot_distribution(df_mlec['Salary L'], title=\"Salary (Lower Bound)\")"
   ]
  },
  {
   "cell_type": "code",
   "execution_count": 136,
   "metadata": {},
   "outputs": [
    {
     "data": {
      "image/png": "[encoded data removed]",
      "text/plain": [
       "<Figure size 1152x576 with 2 Axes>"
      ]
     },
     "metadata": {
      "needs_background": "light"
     },
     "output_type": "display_data"
    }
   ],
   "source": [
    "plot_distribution(df_mlec['Salary U'], title=\"Salary (Upper Bound)\")"
   ]
  },
  {
   "cell_type": "code",
   "execution_count": 137,
   "metadata": {},
   "outputs": [
    {
     "data": {
      "image/png": "[encoded data removed]",
      "text/plain": [
       "<Figure size 1152x576 with 2 Axes>"
      ]
     },
     "metadata": {
      "needs_background": "light"
     },
     "output_type": "display_data"
    }
   ],
   "source": [
    "plot_distribution(df_mlec['Salary M'], title=\"Salary (Mean)\")"
   ]
  },
  {
   "cell_type": "markdown",
   "metadata": {},
   "source": [
    "#### Without outliers"
   ]
  },
  {
   "cell_type": "code",
   "execution_count": 158,
   "metadata": {},
   "outputs": [
    {
     "data": {
      "text/plain": [
       "count       67.000000\n",
       "mean      6700.686567\n",
       "std       3935.638804\n",
       "min        500.000000\n",
       "25%       3875.000000\n",
       "50%       6250.000000\n",
       "75%      11000.000000\n",
       "max      15000.000000\n",
       "Name: Salary M, dtype: float64"
      ]
     },
     "execution_count": 158,
     "metadata": {},
     "output_type": "execute_result"
    }
   ],
   "source": [
    "mle_salary = remove_outliers(df_mlec['Salary M'])\n",
    "mle_salary.describe()"
   ]
  },
  {
   "cell_type": "code",
   "execution_count": 159,
   "metadata": {},
   "outputs": [
    {
     "data": {
      "image/png": "[encoded data removed]",
      "text/plain": [
       "<Figure size 1152x576 with 2 Axes>"
      ]
     },
     "metadata": {
      "needs_background": "light"
     },
     "output_type": "display_data"
    }
   ],
   "source": [
    "plot_distribution(mle_salary, title=\"Salary\")"
   ]
  },
  {
   "cell_type": "markdown",
   "metadata": {},
   "source": [
    "# Data Distribution By Title"
   ]
  },
  {
   "cell_type": "markdown",
   "metadata": {},
   "source": [
    "## Data Analyst"
   ]
  },
  {
   "cell_type": "code",
   "execution_count": 173,
   "metadata": {},
   "outputs": [],
   "source": [
    "def describe_and_plot(df, level, outliers=True):\n",
    "    df_temp = df[(df['Levels'].str.contains(level, na=False)) |\n",
    "                 (df['Level_from_Year'].str.contains(level, na=False))]\n",
    "    if not outliers:\n",
    "        df_temp['Salary L'] = remove_outliers(df_temp['Salary L'])\n",
    "        df_temp['Salary U'] = remove_outliers(df_temp['Salary U'])\n",
    "        df_temp['Salary M'] = remove_outliers(df_temp['Salary M'])\n",
    "    print(df_temp.describe())\n",
    "    print()\n",
    "    plot_distribution(df_temp['Salary M'], title=\"Salary ({})\".format(level))"
   ]
  },
  {
   "cell_type": "markdown",
   "metadata": {},
   "source": [
    "### Junior"
   ]
  },
  {
   "cell_type": "code",
   "execution_count": 174,
   "metadata": {},
   "outputs": [
    {
     "name": "stdout",
     "output_type": "stream",
     "text": [
      "           Salary L      Salary U      Salary M\n",
      "count    224.000000    224.000000    224.000000\n",
      "mean    3390.055804   4579.500744   3984.778274\n",
      "std     1319.429836   2065.009478   1644.891297\n",
      "min      500.000000    500.000000    500.000000\n",
      "25%     2775.000000   3500.000000   3137.500000\n",
      "50%     3500.000000   4500.000000   4000.000000\n",
      "75%     4000.000000   5000.000000   4500.000000\n",
      "max    10000.000000  17000.000000  13500.000000\n",
      "\n"
     ]
    },
    {
     "data": {
      "image/png": "[encoded data removed]",
      "text/plain": [
       "<Figure size 1152x576 with 2 Axes>"
      ]
     },
     "metadata": {
      "needs_background": "light"
     },
     "output_type": "display_data"
    }
   ],
   "source": [
    "describe_and_plot(df_dac, \"Junior\")"
   ]
  },
  {
   "cell_type": "code",
   "execution_count": 177,
   "metadata": {},
   "outputs": [
    {
     "name": "stdout",
     "output_type": "stream",
     "text": [
      "          Salary L     Salary U     Salary M\n",
      "count   210.000000   194.000000   201.000000\n",
      "mean   3371.773810  4349.011168  3922.339967\n",
      "std     991.360878  1089.672655  1015.533881\n",
      "min    1000.000000  1500.000000  1500.000000\n",
      "25%    2800.000000  3650.000000  3300.000000\n",
      "50%    3500.000000  4500.000000  4000.000000\n",
      "75%    4000.000000  5000.000000  4250.000000\n",
      "max    5833.333333  7200.000000  6500.000000\n",
      "\n"
     ]
    },
    {
     "data": {
      "image/png": "[encoded data removed]",
      "text/plain": [
       "<Figure size 1152x576 with 2 Axes>"
      ]
     },
     "metadata": {
      "needs_background": "light"
     },
     "output_type": "display_data"
    }
   ],
   "source": [
    "describe_and_plot(df_dac, \"Junior\", outliers=False)"
   ]
  },
  {
   "cell_type": "markdown",
   "metadata": {},
   "source": [
    "### Mid Level"
   ]
  },
  {
   "cell_type": "code",
   "execution_count": 179,
   "metadata": {},
   "outputs": [
    {
     "name": "stdout",
     "output_type": "stream",
     "text": [
      "           Salary L      Salary U      Salary M\n",
      "count    254.000000    254.000000    254.000000\n",
      "mean    5492.557290   7453.171056   6472.864173\n",
      "std     2903.896927   3273.292745   2978.801133\n",
      "min      750.000000    791.666667    770.833333\n",
      "25%     4000.000000   5500.000000   4750.000000\n",
      "50%     4800.000000   7000.000000   5750.000000\n",
      "75%     6875.000000   9000.000000   7500.000000\n",
      "max    24000.000000  25000.000000  24000.000000\n",
      "\n"
     ]
    },
    {
     "data": {
      "image/png": "[encoded data removed]",
      "text/plain": [
       "<Figure size 1152x576 with 2 Axes>"
      ]
     },
     "metadata": {
      "needs_background": "light"
     },
     "output_type": "display_data"
    }
   ],
   "source": [
    "describe_and_plot(df_dac, \"Mid Level\")"
   ]
  },
  {
   "cell_type": "code",
   "execution_count": 180,
   "metadata": {},
   "outputs": [
    {
     "name": "stdout",
     "output_type": "stream",
     "text": [
      "           Salary L      Salary U      Salary M\n",
      "count    244.000000    247.000000    242.000000\n",
      "mean    5084.465376   7093.544325   6012.840909\n",
      "std     1918.166370   2430.125761   1996.042190\n",
      "min      750.000000    791.666667    770.833333\n",
      "25%     3766.666667   5500.000000   4750.000000\n",
      "50%     4600.000000   7000.000000   5750.000000\n",
      "75%     6000.000000   8500.000000   7112.500000\n",
      "max    11000.000000  14000.000000  11500.000000\n",
      "\n"
     ]
    },
    {
     "data": {
      "image/png": "[encoded data removed]",
      "text/plain": [
       "<Figure size 1152x576 with 2 Axes>"
      ]
     },
     "metadata": {
      "needs_background": "light"
     },
     "output_type": "display_data"
    }
   ],
   "source": [
    "describe_and_plot(df_dac, \"Mid Level\", outliers=False)"
   ]
  },
  {
   "cell_type": "markdown",
   "metadata": {},
   "source": [
    "### Senior"
   ]
  },
  {
   "cell_type": "code",
   "execution_count": 181,
   "metadata": {},
   "outputs": [
    {
     "name": "stdout",
     "output_type": "stream",
     "text": [
      "           Salary L      Salary U      Salary M\n",
      "count    129.000000    129.000000    129.000000\n",
      "mean    6670.482829   8926.451021   7798.466925\n",
      "std     4277.330747   4704.556151   4375.859024\n",
      "min      998.400000    998.400000    998.400000\n",
      "25%     4500.000000   6000.000000   5250.000000\n",
      "50%     5000.000000   8000.000000   6750.000000\n",
      "75%     8000.000000  10000.000000   9000.000000\n",
      "max    24000.000000  25000.000000  24000.000000\n",
      "\n"
     ]
    },
    {
     "data": {
      "image/png": "[encoded data removed]",
      "text/plain": [
       "<Figure size 1152x576 with 2 Axes>"
      ]
     },
     "metadata": {
      "needs_background": "light"
     },
     "output_type": "display_data"
    }
   ],
   "source": [
    "describe_and_plot(df_dac, \"Senior\")"
   ]
  },
  {
   "cell_type": "code",
   "execution_count": 182,
   "metadata": {},
   "outputs": [
    {
     "name": "stdout",
     "output_type": "stream",
     "text": [
      "           Salary L      Salary U      Salary M\n",
      "count    119.000000    117.000000    119.000000\n",
      "mean    5676.405756   7705.232322   6810.943137\n",
      "std     2402.086278   2718.964221   2682.654139\n",
      "min      998.400000    998.400000    998.400000\n",
      "25%     4000.000000   5500.000000   5000.000000\n",
      "50%     5000.000000   7500.000000   6000.000000\n",
      "75%     7000.000000   9999.000000   8499.750000\n",
      "max    12500.000000  14500.000000  14500.000000\n",
      "\n"
     ]
    },
    {
     "data": {
      "image/png": "[encoded data removed]",
      "text/plain": [
       "<Figure size 1152x576 with 2 Axes>"
      ]
     },
     "metadata": {
      "needs_background": "light"
     },
     "output_type": "display_data"
    }
   ],
   "source": [
    "describe_and_plot(df_dac, \"Senior\", outliers=False)"
   ]
  },
  {
   "cell_type": "markdown",
   "metadata": {},
   "source": [
    "## Data Engineer"
   ]
  },
  {
   "cell_type": "markdown",
   "metadata": {},
   "source": [
    "### Junior"
   ]
  },
  {
   "cell_type": "code",
   "execution_count": 183,
   "metadata": {},
   "outputs": [
    {
     "name": "stdout",
     "output_type": "stream",
     "text": [
      "           Salary L      Salary U      Salary M\n",
      "count    211.000000    211.000000    211.000000\n",
      "mean    3262.616114   4634.540284   3948.578199\n",
      "std     1985.185566   2844.692586   2325.806606\n",
      "min      500.000000    500.000000    500.000000\n",
      "25%     2029.500000   3000.000000   2500.000000\n",
      "50%     2800.000000   4000.000000   3500.000000\n",
      "75%     4000.000000   5050.500000   4500.000000\n",
      "max    14000.000000  18000.000000  16000.000000\n",
      "\n"
     ]
    },
    {
     "data": {
      "image/png": "[encoded data removed]",
      "text/plain": [
       "<Figure size 1152x576 with 2 Axes>"
      ]
     },
     "metadata": {
      "needs_background": "light"
     },
     "output_type": "display_data"
    }
   ],
   "source": [
    "describe_and_plot(df_dec, \"Junior\")"
   ]
  },
  {
   "cell_type": "code",
   "execution_count": 184,
   "metadata": {
    "scrolled": false
   },
   "outputs": [
    {
     "name": "stdout",
     "output_type": "stream",
     "text": [
      "          Salary L     Salary U     Salary M\n",
      "count   202.000000   198.000000   200.000000\n",
      "mean   2932.732673  4070.141414  3525.750000\n",
      "std    1146.571831  1626.807696  1359.027792\n",
      "min     500.000000   500.000000   500.000000\n",
      "25%    2000.000000  2850.000000  2500.000000\n",
      "50%    2800.000000  4000.000000  3500.000000\n",
      "75%    4000.000000  5000.000000  4250.000000\n",
      "max    6000.000000  8000.000000  7500.000000\n",
      "\n"
     ]
    },
    {
     "data": {
      "image/png": "[encoded data removed]",
      "text/plain": [
       "<Figure size 1152x576 with 2 Axes>"
      ]
     },
     "metadata": {
      "needs_background": "light"
     },
     "output_type": "display_data"
    }
   ],
   "source": [
    "describe_and_plot(df_dec, \"Junior\", outliers=False)"
   ]
  },
  {
   "cell_type": "markdown",
   "metadata": {},
   "source": [
    "### Mid Level"
   ]
  },
  {
   "cell_type": "code",
   "execution_count": 185,
   "metadata": {},
   "outputs": [
    {
     "name": "stdout",
     "output_type": "stream",
     "text": [
      "           Salary L      Salary U      Salary M\n",
      "count    358.000000    358.000000    358.000000\n",
      "mean    4885.531657   7102.667598   5994.099628\n",
      "std     2692.463880   3465.821412   2966.138234\n",
      "min      833.333333   1250.000000   1041.666667\n",
      "25%     3000.000000   5000.000000   3900.000000\n",
      "50%     4000.000000   6500.000000   5500.000000\n",
      "75%     6000.000000   9000.000000   7500.000000\n",
      "max    18000.000000  24000.000000  18250.000000\n",
      "\n"
     ]
    },
    {
     "data": {
      "image/png": "[encoded data removed]",
      "text/plain": [
       "<Figure size 1152x576 with 2 Axes>"
      ]
     },
     "metadata": {
      "needs_background": "light"
     },
     "output_type": "display_data"
    }
   ],
   "source": [
    "describe_and_plot(df_dec, \"Mid Level\")"
   ]
  },
  {
   "cell_type": "code",
   "execution_count": 186,
   "metadata": {},
   "outputs": [
    {
     "name": "stdout",
     "output_type": "stream",
     "text": [
      "           Salary L      Salary U      Salary M\n",
      "count    348.000000    351.000000    351.000000\n",
      "mean    4622.184866   6882.255461   5785.173789\n",
      "std     2167.209131   3103.679152   2576.104614\n",
      "min      833.333333   1250.000000   1041.666667\n",
      "25%     3000.000000   5000.000000   3900.000000\n",
      "50%     4000.000000   6500.000000   5500.000000\n",
      "75%     6000.000000   9000.000000   7500.000000\n",
      "max    10000.000000  15000.000000  12500.000000\n",
      "\n"
     ]
    },
    {
     "data": {
      "image/png": "[encoded data removed]",
      "text/plain": [
       "<Figure size 1152x576 with 2 Axes>"
      ]
     },
     "metadata": {
      "needs_background": "light"
     },
     "output_type": "display_data"
    }
   ],
   "source": [
    "describe_and_plot(df_dec, \"Mid Level\", outliers=False)"
   ]
  },
  {
   "cell_type": "markdown",
   "metadata": {},
   "source": [
    "### Senior"
   ]
  },
  {
   "cell_type": "code",
   "execution_count": 187,
   "metadata": {},
   "outputs": [
    {
     "name": "stdout",
     "output_type": "stream",
     "text": [
      "           Salary L      Salary U      Salary M\n",
      "count    160.000000    160.000000    160.000000\n",
      "mean    7128.480417   9949.122083   8538.801250\n",
      "std     3273.327573   4068.134683   3561.890051\n",
      "min      833.333333   1250.000000   1041.666667\n",
      "25%     5000.000000   7950.000000   6500.000000\n",
      "50%     7000.000000   9000.000000   8000.000000\n",
      "75%     9000.000000  13000.000000  11000.000000\n",
      "max    20000.000000  20000.000000  20000.000000\n",
      "\n"
     ]
    },
    {
     "data": {
      "image/png": "[encoded data removed]",
      "text/plain": [
       "<Figure size 1152x576 with 2 Axes>"
      ]
     },
     "metadata": {
      "needs_background": "light"
     },
     "output_type": "display_data"
    }
   ],
   "source": [
    "describe_and_plot(df_dec, \"Senior\")"
   ]
  },
  {
   "cell_type": "code",
   "execution_count": 188,
   "metadata": {},
   "outputs": [
    {
     "name": "stdout",
     "output_type": "stream",
     "text": [
      "           Salary L      Salary U      Salary M\n",
      "count    156.000000    160.000000    156.000000\n",
      "mean    6836.902991   9949.122083   8283.385897\n",
      "std     2747.579024   4068.134683   3220.061873\n",
      "min      833.333333   1250.000000   1041.666667\n",
      "25%     5000.000000   7950.000000   6500.000000\n",
      "50%     7000.000000   9000.000000   8000.000000\n",
      "75%     9000.000000  13000.000000  11000.000000\n",
      "max    14000.000000  20000.000000  16000.000000\n",
      "\n"
     ]
    },
    {
     "data": {
      "image/png": "[encoded data removed]",
      "text/plain": [
       "<Figure size 1152x576 with 2 Axes>"
      ]
     },
     "metadata": {
      "needs_background": "light"
     },
     "output_type": "display_data"
    }
   ],
   "source": [
    "describe_and_plot(df_dec, \"Senior\", outliers=False)"
   ]
  },
  {
   "cell_type": "markdown",
   "metadata": {},
   "source": [
    "## Data Scientist"
   ]
  },
  {
   "cell_type": "markdown",
   "metadata": {},
   "source": [
    "### Junior"
   ]
  },
  {
   "cell_type": "code",
   "execution_count": 189,
   "metadata": {},
   "outputs": [
    {
     "name": "stdout",
     "output_type": "stream",
     "text": [
      "          Salary L     Salary U      Salary M\n",
      "count    25.000000     25.00000     25.000000\n",
      "mean   3804.000000   5120.00000   4462.000000\n",
      "std    1618.507543   2484.45165   1977.176016\n",
      "min     500.000000    500.00000    500.000000\n",
      "25%    3500.000000   4500.00000   4000.000000\n",
      "50%    3500.000000   4500.00000   4000.000000\n",
      "75%    4000.000000   5000.00000   4500.000000\n",
      "max    9000.000000  13000.00000  10500.000000\n",
      "\n"
     ]
    },
    {
     "data": {
      "image/png": "[encoded data removed]",
      "text/plain": [
       "<Figure size 1152x576 with 2 Axes>"
      ]
     },
     "metadata": {
      "needs_background": "light"
     },
     "output_type": "display_data"
    }
   ],
   "source": [
    "describe_and_plot(df_dsc, \"Junior\")"
   ]
  },
  {
   "cell_type": "code",
   "execution_count": 190,
   "metadata": {
    "scrolled": false
   },
   "outputs": [
    {
     "name": "stdout",
     "output_type": "stream",
     "text": [
      "          Salary L     Salary U     Salary M\n",
      "count    20.000000    17.000000    17.000000\n",
      "mean   3640.000000  4588.235294  4102.941176\n",
      "std     387.162417   196.476312   198.801556\n",
      "min    2800.000000  4500.000000  4000.000000\n",
      "25%    3500.000000  4500.000000  4000.000000\n",
      "50%    3500.000000  4500.000000  4000.000000\n",
      "75%    3625.000000  4500.000000  4000.000000\n",
      "max    4500.000000  5000.000000  4500.000000\n",
      "\n"
     ]
    },
    {
     "data": {
      "image/png": "[encoded data removed]",
      "text/plain": [
       "<Figure size 1152x576 with 2 Axes>"
      ]
     },
     "metadata": {
      "needs_background": "light"
     },
     "output_type": "display_data"
    }
   ],
   "source": [
    "describe_and_plot(df_dsc, \"Junior\", outliers=False)"
   ]
  },
  {
   "cell_type": "markdown",
   "metadata": {},
   "source": [
    "### Mid Level"
   ]
  },
  {
   "cell_type": "code",
   "execution_count": 191,
   "metadata": {},
   "outputs": [
    {
     "name": "stdout",
     "output_type": "stream",
     "text": [
      "           Salary L      Salary U      Salary M\n",
      "count     21.000000     21.000000     21.000000\n",
      "mean    6245.285714   9411.238095   7828.261905\n",
      "std     4013.730424   6188.535545   5028.964420\n",
      "min     2500.000000   3500.000000   3000.000000\n",
      "25%     3499.000000   5000.000000   4500.000000\n",
      "50%     6000.000000   9800.000000   8000.000000\n",
      "75%     8000.000000  10000.000000   9000.000000\n",
      "max    20000.000000  30000.000000  25000.000000\n",
      "\n"
     ]
    },
    {
     "data": {
      "image/png": "[encoded data removed]",
      "text/plain": [
       "<Figure size 1152x576 with 2 Axes>"
      ]
     },
     "metadata": {
      "needs_background": "light"
     },
     "output_type": "display_data"
    }
   ],
   "source": [
    "describe_and_plot(df_dsc, \"Mid Level\")"
   ]
  },
  {
   "cell_type": "code",
   "execution_count": 192,
   "metadata": {},
   "outputs": [
    {
     "name": "stdout",
     "output_type": "stream",
     "text": [
      "           Salary L      Salary U      Salary M\n",
      "count     20.000000     19.000000     20.000000\n",
      "mean    5557.550000   7875.578947   6969.675000\n",
      "std     2550.014086   3523.640515   3213.439247\n",
      "min     2500.000000   3500.000000   3000.000000\n",
      "25%     3374.250000   4750.000000   4374.875000\n",
      "50%     5250.000000   9000.000000   7372.000000\n",
      "75%     8000.000000  10000.000000   9000.000000\n",
      "max    10000.000000  16000.000000  14000.000000\n",
      "\n"
     ]
    },
    {
     "data": {
      "image/png": "[encoded data removed]",
      "text/plain": [
       "<Figure size 1152x576 with 2 Axes>"
      ]
     },
     "metadata": {
      "needs_background": "light"
     },
     "output_type": "display_data"
    }
   ],
   "source": [
    "describe_and_plot(df_dsc, \"Mid Level\", outliers=False)"
   ]
  },
  {
   "cell_type": "markdown",
   "metadata": {},
   "source": [
    "### Senior"
   ]
  },
  {
   "cell_type": "code",
   "execution_count": 193,
   "metadata": {},
   "outputs": [
    {
     "name": "stdout",
     "output_type": "stream",
     "text": [
      "           Salary L      Salary U      Salary M\n",
      "count     12.000000     12.000000     12.000000\n",
      "mean   13016.666667  17625.000000  15320.833333\n",
      "std     5663.573131   6732.300026   5932.478339\n",
      "min     3000.000000   5000.000000   4000.000000\n",
      "25%     9500.000000  17000.000000  14000.000000\n",
      "50%    13000.000000  18500.000000  15000.000000\n",
      "75%    18000.000000  20000.000000  19250.000000\n",
      "max    20000.000000  30000.000000  25000.000000\n",
      "\n"
     ]
    },
    {
     "data": {
      "image/png": "[encoded data removed]",
      "text/plain": [
       "<Figure size 1152x576 with 2 Axes>"
      ]
     },
     "metadata": {
      "needs_background": "light"
     },
     "output_type": "display_data"
    }
   ],
   "source": [
    "describe_and_plot(df_dsc, \"Senior\")"
   ]
  },
  {
   "cell_type": "code",
   "execution_count": 194,
   "metadata": {
    "scrolled": false
   },
   "outputs": [
    {
     "name": "stdout",
     "output_type": "stream",
     "text": [
      "           Salary L      Salary U     Salary M\n",
      "count     12.000000      9.000000     10.00000\n",
      "mean   13016.666667  19000.000000  17450.00000\n",
      "std     5663.573131   1658.312395   3562.53655\n",
      "min     3000.000000  17000.000000  14000.00000\n",
      "25%     9500.000000  18000.000000  15000.00000\n",
      "50%    13000.000000  19000.000000  16250.00000\n",
      "75%    18000.000000  20000.000000  19750.00000\n",
      "max    20000.000000  22000.000000  25000.00000\n",
      "\n"
     ]
    },
    {
     "data": {
      "image/png": "[encoded data removed]",
      "text/plain": [
       "<Figure size 1152x576 with 2 Axes>"
      ]
     },
     "metadata": {
      "needs_background": "light"
     },
     "output_type": "display_data"
    }
   ],
   "source": [
    "describe_and_plot(df_dsc, \"Senior\", outliers=False)"
   ]
  },
  {
   "cell_type": "markdown",
   "metadata": {},
   "source": [
    "## Machine Learning Engineer"
   ]
  },
  {
   "cell_type": "markdown",
   "metadata": {},
   "source": [
    "### Junior"
   ]
  },
  {
   "cell_type": "code",
   "execution_count": 197,
   "metadata": {},
   "outputs": [
    {
     "name": "stdout",
     "output_type": "stream",
     "text": [
      "           Salary L      Salary U      Salary M\n",
      "count     20.000000     20.000000     20.000000\n",
      "mean    3635.000000   5575.000000   4605.000000\n",
      "std     2817.851925   3897.755765   3309.352775\n",
      "min      700.000000    700.000000    700.000000\n",
      "25%     2000.000000   3750.000000   2912.500000\n",
      "50%     3000.000000   5000.000000   4000.000000\n",
      "75%     3700.000000   6375.000000   4700.000000\n",
      "max    10000.000000  15000.000000  12500.000000\n",
      "\n"
     ]
    },
    {
     "data": {
      "image/png": "[encoded data removed]",
      "text/plain": [
       "<Figure size 1152x576 with 2 Axes>"
      ]
     },
     "metadata": {
      "needs_background": "light"
     },
     "output_type": "display_data"
    }
   ],
   "source": [
    "describe_and_plot(df_mlec, \"Junior\")"
   ]
  },
  {
   "cell_type": "code",
   "execution_count": 198,
   "metadata": {
    "scrolled": false
   },
   "outputs": [
    {
     "name": "stdout",
     "output_type": "stream",
     "text": [
      "          Salary L     Salary U     Salary M\n",
      "count    17.000000    18.000000    17.000000\n",
      "mean   2570.588235  4527.777778  3417.647059\n",
      "std    1167.135760  2316.895884  1583.897603\n",
      "min     700.000000   700.000000   700.000000\n",
      "25%    2000.000000  3250.000000  2650.000000\n",
      "50%    2600.000000  5000.000000  4000.000000\n",
      "75%    3500.000000  5625.000000  4250.000000\n",
      "max    4500.000000  9000.000000  6000.000000\n",
      "\n"
     ]
    },
    {
     "data": {
      "image/png": "[encoded data removed]",
      "text/plain": [
       "<Figure size 1152x576 with 2 Axes>"
      ]
     },
     "metadata": {
      "needs_background": "light"
     },
     "output_type": "display_data"
    }
   ],
   "source": [
    "describe_and_plot(df_mlec, \"Junior\", outliers=False)"
   ]
  },
  {
   "cell_type": "markdown",
   "metadata": {},
   "source": [
    "### Mid Level"
   ]
  },
  {
   "cell_type": "code",
   "execution_count": 199,
   "metadata": {},
   "outputs": [
    {
     "name": "stdout",
     "output_type": "stream",
     "text": [
      "           Salary L      Salary U      Salary M\n",
      "count     31.000000     31.000000     31.000000\n",
      "mean    6645.161290   9896.774194   8270.967742\n",
      "std     3184.319782   4936.698213   3985.677989\n",
      "min      700.000000    700.000000    700.000000\n",
      "25%     4750.000000   7000.000000   5875.000000\n",
      "50%     9000.000000  13000.000000  11000.000000\n",
      "75%     9000.000000  13000.000000  11000.000000\n",
      "max    10000.000000  20000.000000  14600.000000\n",
      "\n"
     ]
    },
    {
     "data": {
      "image/png": "[encoded data removed]",
      "text/plain": [
       "<Figure size 1152x576 with 2 Axes>"
      ]
     },
     "metadata": {
      "needs_background": "light"
     },
     "output_type": "display_data"
    }
   ],
   "source": [
    "describe_and_plot(df_mlec, \"Mid Level\")"
   ]
  },
  {
   "cell_type": "code",
   "execution_count": 200,
   "metadata": {},
   "outputs": [
    {
     "name": "stdout",
     "output_type": "stream",
     "text": [
      "           Salary L      Salary U      Salary M\n",
      "count     31.000000     31.000000     31.000000\n",
      "mean    6645.161290   9896.774194   8270.967742\n",
      "std     3184.319782   4936.698213   3985.677989\n",
      "min      700.000000    700.000000    700.000000\n",
      "25%     4750.000000   7000.000000   5875.000000\n",
      "50%     9000.000000  13000.000000  11000.000000\n",
      "75%     9000.000000  13000.000000  11000.000000\n",
      "max    10000.000000  20000.000000  14600.000000\n",
      "\n"
     ]
    },
    {
     "data": {
      "image/png": "[encoded data removed]",
      "text/plain": [
       "<Figure size 1152x576 with 2 Axes>"
      ]
     },
     "metadata": {
      "needs_background": "light"
     },
     "output_type": "display_data"
    }
   ],
   "source": [
    "describe_and_plot(df_mlec, \"Mid Level\", outliers=False)"
   ]
  },
  {
   "cell_type": "markdown",
   "metadata": {},
   "source": [
    "### Senior"
   ]
  },
  {
   "cell_type": "code",
   "execution_count": 201,
   "metadata": {},
   "outputs": [
    {
     "name": "stdout",
     "output_type": "stream",
     "text": [
      "           Salary L      Salary U      Salary M\n",
      "count     23.000000     23.000000     23.000000\n",
      "mean    8369.565217  12043.478261  10206.521739\n",
      "std     2403.678012   3052.245982   2682.701503\n",
      "min     3000.000000   5000.000000   4000.000000\n",
      "25%     9000.000000  13000.000000  11000.000000\n",
      "50%     9000.000000  13000.000000  11000.000000\n",
      "75%     9000.000000  13000.000000  11000.000000\n",
      "max    13000.000000  17000.000000  15000.000000\n",
      "\n"
     ]
    },
    {
     "data": {
      "image/png": "[encoded data removed]",
      "text/plain": [
       "<Figure size 1152x576 with 2 Axes>"
      ]
     },
     "metadata": {
      "needs_background": "light"
     },
     "output_type": "display_data"
    }
   ],
   "source": [
    "describe_and_plot(df_mlec, \"Senior\")"
   ]
  },
  {
   "cell_type": "code",
   "execution_count": 202,
   "metadata": {
    "scrolled": false
   },
   "outputs": [
    {
     "name": "stdout",
     "output_type": "stream",
     "text": [
      "       Salary L  Salary U  Salary M\n",
      "count      15.0      15.0      15.0\n",
      "mean     9000.0   13000.0   11000.0\n",
      "std         0.0       0.0       0.0\n",
      "min      9000.0   13000.0   11000.0\n",
      "25%      9000.0   13000.0   11000.0\n",
      "50%      9000.0   13000.0   11000.0\n",
      "75%      9000.0   13000.0   11000.0\n",
      "max      9000.0   13000.0   11000.0\n",
      "\n"
     ]
    },
    {
     "data": {
      "image/png": "[encoded data removed]",
      "text/plain": [
       "<Figure size 1152x576 with 2 Axes>"
      ]
     },
     "metadata": {
      "needs_background": "light"
     },
     "output_type": "display_data"
    }
   ],
   "source": [
    "describe_and_plot(df_mlec, \"Senior\", outliers=False)"
   ]
  }
 ],
 "metadata": {
  "kernelspec": {
   "display_name": "Python 3",
   "language": "python",
   "name": "python3"
  },
  "language_info": {
   "codemirror_mode": {
    "name": "ipython",
    "version": 3
   },
   "file_extension": ".py",
   "mimetype": "text/x-python",
   "name": "python",
   "nbconvert_exporter": "python",
   "pygments_lexer": "ipython3",
   "version": "3.7.6"
  }
 },
 "nbformat": 4,
 "nbformat_minor": 4
}
