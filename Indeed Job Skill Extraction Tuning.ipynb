{
 "cells": [
  {
   "cell_type": "code",
   "execution_count": 17,
   "metadata": {},
   "outputs": [],
   "source": [
    "import pandas as pd\n",
    "import re\n",
    "import random\n",
    "from nltk import ngrams\n",
    "from difflib import get_close_matches as gcm"
   ]
  },
  {
   "cell_type": "code",
   "execution_count": 2,
   "metadata": {},
   "outputs": [
    {
     "data": {
      "text/html": [
       "<div>\n",
       "<style scoped>\n",
       "    .dataframe tbody tr th:only-of-type {\n",
       "        vertical-align: middle;\n",
       "    }\n",
       "\n",
       "    .dataframe tbody tr th {\n",
       "        vertical-align: top;\n",
       "    }\n",
       "\n",
       "    .dataframe thead th {\n",
       "        text-align: right;\n",
       "    }\n",
       "</style>\n",
       "<table border=\"1\" class=\"dataframe\">\n",
       "  <thead>\n",
       "    <tr style=\"text-align: right;\">\n",
       "      <th></th>\n",
       "      <th>title</th>\n",
       "      <th>company</th>\n",
       "      <th>country</th>\n",
       "      <th>date_posted</th>\n",
       "      <th>description</th>\n",
       "      <th>title_keywords</th>\n",
       "      <th>indeed_skills</th>\n",
       "      <th>skills</th>\n",
       "      <th>no_skills</th>\n",
       "    </tr>\n",
       "  </thead>\n",
       "  <tbody>\n",
       "    <tr>\n",
       "      <th>0</th>\n",
       "      <td>Data Scientist</td>\n",
       "      <td>Mission Consultancy Services Malaysia Sdn Bhd</td>\n",
       "      <td>Malaysia</td>\n",
       "      <td>2020-07-26</td>\n",
       "      <td>Identify valuable data sources and automate co...</td>\n",
       "      <td>NaN</td>\n",
       "      <td>'C', 'C++', 'Excel', 'Hadoop', 'Java', 'R', 'S...</td>\n",
       "      <td>['Business', 'Analytical', 'Communication', 'D...</td>\n",
       "      <td>27</td>\n",
       "    </tr>\n",
       "    <tr>\n",
       "      <th>1</th>\n",
       "      <td>Data Scientist</td>\n",
       "      <td>AirAsia</td>\n",
       "      <td>Malaysia</td>\n",
       "      <td>2020-08-15</td>\n",
       "      <td>Job DescriptionOverviewThis role will responsi...</td>\n",
       "      <td>NaN</td>\n",
       "      <td>'C', 'R'</td>\n",
       "      <td>['Business', 'Accuracy', 'Processing', 'Produc...</td>\n",
       "      <td>21</td>\n",
       "    </tr>\n",
       "    <tr>\n",
       "      <th>2</th>\n",
       "      <td>Data Scientist</td>\n",
       "      <td>CareerMaster Sdn Bhd</td>\n",
       "      <td>Malaysia</td>\n",
       "      <td>2020-07-26</td>\n",
       "      <td>Position to be based in Kuala Lumpur.We are re...</td>\n",
       "      <td>NaN</td>\n",
       "      <td>'C', 'GIS', 'Go', 'Python', 'R', 'SQL', 'Stati...</td>\n",
       "      <td>['Business', 'Computer Science', 'Microsoft', ...</td>\n",
       "      <td>30</td>\n",
       "    </tr>\n",
       "    <tr>\n",
       "      <th>3</th>\n",
       "      <td>Data Scientist Executive</td>\n",
       "      <td>GENO Management</td>\n",
       "      <td>Malaysia</td>\n",
       "      <td>2020-08-18</td>\n",
       "      <td>Position : Data Scientists ExecutiveLocation :...</td>\n",
       "      <td>NaN</td>\n",
       "      <td>'AWS', 'C', 'Go', 'Python', 'R', 'Regression',...</td>\n",
       "      <td>['Business', 'Data Science', 'Analytical', 'Bu...</td>\n",
       "      <td>39</td>\n",
       "    </tr>\n",
       "    <tr>\n",
       "      <th>4</th>\n",
       "      <td>Data Scientist</td>\n",
       "      <td>PLUS SOLAR SYSTEMS SDN BHD</td>\n",
       "      <td>Malaysia</td>\n",
       "      <td>2020-07-26</td>\n",
       "      <td>Work With Stakeholders Throughout The Organiza...</td>\n",
       "      <td>NaN</td>\n",
       "      <td>'C'</td>\n",
       "      <td>['Business', 'Accuracy', 'Development', 'Marke...</td>\n",
       "      <td>9</td>\n",
       "    </tr>\n",
       "  </tbody>\n",
       "</table>\n",
       "</div>"
      ],
      "text/plain": [
       "                      title                                        company  \\\n",
       "0            Data Scientist  Mission Consultancy Services Malaysia Sdn Bhd   \n",
       "1            Data Scientist                                        AirAsia   \n",
       "2            Data Scientist                           CareerMaster Sdn Bhd   \n",
       "3  Data Scientist Executive                                GENO Management   \n",
       "4            Data Scientist                     PLUS SOLAR SYSTEMS SDN BHD   \n",
       "\n",
       "    country date_posted                                        description  \\\n",
       "0  Malaysia  2020-07-26  Identify valuable data sources and automate co...   \n",
       "1  Malaysia  2020-08-15  Job DescriptionOverviewThis role will responsi...   \n",
       "2  Malaysia  2020-07-26  Position to be based in Kuala Lumpur.We are re...   \n",
       "3  Malaysia  2020-08-18  Position : Data Scientists ExecutiveLocation :...   \n",
       "4  Malaysia  2020-07-26  Work With Stakeholders Throughout The Organiza...   \n",
       "\n",
       "  title_keywords                                      indeed_skills  \\\n",
       "0            NaN  'C', 'C++', 'Excel', 'Hadoop', 'Java', 'R', 'S...   \n",
       "1            NaN                                           'C', 'R'   \n",
       "2            NaN  'C', 'GIS', 'Go', 'Python', 'R', 'SQL', 'Stati...   \n",
       "3            NaN  'AWS', 'C', 'Go', 'Python', 'R', 'Regression',...   \n",
       "4            NaN                                                'C'   \n",
       "\n",
       "                                              skills  no_skills  \n",
       "0  ['Business', 'Analytical', 'Communication', 'D...         27  \n",
       "1  ['Business', 'Accuracy', 'Processing', 'Produc...         21  \n",
       "2  ['Business', 'Computer Science', 'Microsoft', ...         30  \n",
       "3  ['Business', 'Data Science', 'Analytical', 'Bu...         39  \n",
       "4  ['Business', 'Accuracy', 'Development', 'Marke...          9  "
      ]
     },
     "execution_count": 2,
     "metadata": {},
     "output_type": "execute_result"
    }
   ],
   "source": [
    "df_ds = pd.read_csv('indeed-insights/data_scientist.csv')\n",
    "df_ds.head()"
   ]
  },
  {
   "cell_type": "code",
   "execution_count": 3,
   "metadata": {},
   "outputs": [
    {
     "data": {
      "text/plain": [
       "3036"
      ]
     },
     "execution_count": 3,
     "metadata": {},
     "output_type": "execute_result"
    }
   ],
   "source": [
    "df_skills = pd.read_csv('skills_db2/skill.csv')\n",
    "SKILLS = df_skills['skill'].unique().tolist()\n",
    "len(SKILLS)"
   ]
  },
  {
   "cell_type": "code",
   "execution_count": 4,
   "metadata": {},
   "outputs": [
    {
     "data": {
      "text/plain": [
       "37"
      ]
     },
     "execution_count": 4,
     "metadata": {},
     "output_type": "execute_result"
    }
   ],
   "source": [
    "df_redskills = pd.read_excel('skills/Redundant Skills.xlsx')\n",
    "RED_SKILLS = df_redskills['Skill'].unique().tolist()\n",
    "len(RED_SKILLS)"
   ]
  },
  {
   "cell_type": "code",
   "execution_count": 129,
   "metadata": {},
   "outputs": [],
   "source": [
    "def print_job(df, i):\n",
    "    row = df.loc[i]\n",
    "    print('Title:', row['title'])\n",
    "    print('Description:', row['description'])\n",
    "    print('Indeed Skills:', row['indeed_skills'])\n",
    "    \n",
    "def test_extract(df, i):\n",
    "    row = df.loc[i]\n",
    "    info = row['title'] + ' ' + row['description']\n",
    "    all_skills = extract_skills(info)\n",
    "    job_skills, ignore_skills = extract_ignore(all_skills)\n",
    "    job_skills.sort()\n",
    "    ignore_skills.sort()\n",
    "    print('Skills:', job_skills)\n",
    "    print()\n",
    "    print('Ignore:', ignore_skills)\n",
    "\n",
    "def test_skill(df, i, skill, threshold=0.9):\n",
    "    row = df.loc[i]\n",
    "    info = row['title'] + ' ' + row['description']\n",
    "    words, bigrams, trigrams = clean_info(info)\n",
    "    results = []\n",
    "    s = skill.lower()\n",
    "    print('Unigram: {}'.format(gcm(s, words, cutoff=threshold)))\n",
    "    print('Bigram: {}'.format(gcm(s, bigrams, cutoff=threshold)))\n",
    "    print('Trigram: {}'.format(gcm(s, trigrams, cutoff=threshold)))\n",
    "    \n",
    "def extract_skills(info, threshold=0.9):\n",
    "    words, bigrams, trigrams = clean_info(info)\n",
    "    results = []\n",
    "    for skill in SKILLS:\n",
    "        s = skill.lower()\n",
    "        if '(' in s:\n",
    "            abb = s[s.find(\"(\")+1:s.find(\")\")]\n",
    "            if abb in words:\n",
    "                results.append(skill)\n",
    "                continue\n",
    "            s = re.sub(r\"[\\(].*?[\\)]\", \"\", s)\n",
    "        s2 = s.split()\n",
    "        if len(s2) == 1:\n",
    "            if len(gcm(s, words, cutoff=threshold)) > 0:\n",
    "                results.append(skill)\n",
    "        elif len(s2) == 2:\n",
    "            if len(gcm(s, bigrams, cutoff=threshold)) > 0:\n",
    "                results.append(skill)\n",
    "        elif len(s2) == 3:\n",
    "            if len(gcm(s, trigrams, cutoff=threshold)) > 0:\n",
    "                results.append(skill)\n",
    "        else:\n",
    "            if len(gcm(s, trigrams, cutoff=threshold)) > 0:\n",
    "                results.append(skill)\n",
    "    return results\n",
    "\n",
    "def extract_ignore(skills):\n",
    "    ignore_skills = []\n",
    "    for j, skill in enumerate(skills):\n",
    "        if skill in RED_SKILLS:\n",
    "            ignore_skills.append(skill)\n",
    "        else:\n",
    "            for other in skills[:j] + skills[j+1:]:\n",
    "                if skill in other:\n",
    "                    if find_whole_word(skill, other):\n",
    "                        ignore_skills.append(skill)\n",
    "                        break\n",
    "    job_skills = [s for s in skills if s not in ignore_skills]\n",
    "    return job_skills, ignore_skills\n",
    "\n",
    "def clean_info(info):\n",
    "    # Remove ordered list with alphabets: a), b), c),...\n",
    "    words = re.sub(r'[\\s\\t\\n]+[a-zA-Z\\s*]\\)+', ' ', info)\n",
    "    words = re.sub('[\\n|,|.|\\-|/|\\(|\\)]', ' ', words).lower().split()\n",
    "    #words = re.findall(r'[a-zA-Z](?:[A-Z]*(?![a-z])|[a-z]*)', words)\n",
    "    words = [word.strip() for word in words]\n",
    "    bigrams = [' '.join(g) for g in ngrams(words, 2)]\n",
    "    trigrams = [' '.join(g) for g in ngrams(words, 3)]\n",
    "    return words, bigrams, trigrams\n",
    "\n",
    "def check_skill(skill):\n",
    "    return df_skills.loc[df_skills['skill'].str.contains(skill)]\n",
    "\n",
    "def find_whole_word(search_string, input_string):\n",
    "    raw_search_string = r\"\\b\" + search_string + r\"\\b\"\n",
    "    match_output = re.search(raw_search_string, input_string)\n",
    "    no_match_was_found = ( match_output is None )\n",
    "    if no_match_was_found:\n",
    "        return False\n",
    "    else:\n",
    "        return True"
   ]
  },
  {
   "cell_type": "code",
   "execution_count": 109,
   "metadata": {},
   "outputs": [
    {
     "data": {
      "text/plain": [
       "897"
      ]
     },
     "execution_count": 109,
     "metadata": {},
     "output_type": "execute_result"
    }
   ],
   "source": [
    "job_no = random.randint(0, len(df_ds))\n",
    "job_no"
   ]
  },
  {
   "cell_type": "code",
   "execution_count": 110,
   "metadata": {},
   "outputs": [
    {
     "name": "stdout",
     "output_type": "stream",
     "text": [
      "Title: #SGUnitedTraineeships Software Developer (RA Apprentice / PhD Apprentice / E&P) - Cloud #SGUP\n",
      "Description: Job Description:This position reports to the Mentor / Software Development Lead and interfaces with clinicians, nurses, software development cohort, and principal investigator / project manager. NUHS is committed to an employee-orientated, high performance culture that emphasises empowerment, quality, continuous improvement, and the recruitment and on-going development of a superior workplaceThe trainees will gain exposure to the following functional areas:Latest software development platform e.g. containerized platform, cloud development platform, Big Data and machine learning analytics engines/platforms.Use of various AI models and frameworks in solving clinical problems.On the job training by Mentor, software development lead and data scientist.Other Training and Development programs on system, platforms, and engines.Specific Responsibilities:Develop software using huge hospital data from diverse structured and unstructured data sources in various formats.Develop capabilities to answer clinical questions by gathering, analyzing user requirements, and solving the questions.Develop rule-based, AI / machine learning systems, chatbot, cloud applications with end-user interaction.Competencies trainee will learn during SGUnited Traineeship Programme:Participate in design and code reviews, unit testing development and reliability testing.Expose to software development lifecycle.Interact closely with various stakeholders, including clinicians, technical team, and others throughout the capabilities/software development, staging, and implementation phase.Qualifications:Degree / Masters / PhD in Computer Science or equivalent technical fields in STEM.Coding fundamentals in algorithms, data structures, and software design.Understanding of Object Oriented design concepts and technical knowledge, skills in programming languages such as C++, Python, and Java.Understanding and knowledge working with Relational Database Management System such as MSSQL, MySQL.Effective oral and written management communication skills\n",
      "Indeed Skills: 'C', 'C++', 'Database Management', 'Java', 'MySQL', 'Python', 'R', 'SQL'\n"
     ]
    }
   ],
   "source": [
    "print_job(df_ds, job_no)"
   ]
  },
  {
   "cell_type": "code",
   "execution_count": 130,
   "metadata": {},
   "outputs": [
    {
     "name": "stdout",
     "output_type": "stream",
     "text": [
      "Skills: ['Algorithm', 'Artificial Intelligence (AI)', 'Big Data', 'C++', 'Chatbot', 'Cloud Application', 'Coding', 'Communication', 'Computer Science', 'Data Structure', 'Database Management System', 'IPython', 'Java', 'Machine Learning', 'MySQL', 'Platform', 'Programming Language', 'Python', 'Relational Database', 'Software Design', 'Software Development Life Cycle (SDLC)', 'Testing', 'Training']\n",
      "\n",
      "Ignore: ['Application', 'Culture', 'Data', 'Database', 'Design', 'Development', 'Implementation', 'Language', 'Management', 'Programming', 'Software Development']\n"
     ]
    }
   ],
   "source": [
    "test_extract(df_ds, job_no)"
   ]
  },
  {
   "cell_type": "code",
   "execution_count": 131,
   "metadata": {},
   "outputs": [
    {
     "name": "stdout",
     "output_type": "stream",
     "text": [
      "Unigram: []\n",
      "Bigram: []\n",
      "Trigram: ['software development lifecycle']\n"
     ]
    }
   ],
   "source": [
    "test_skill(df_ds, job_no, 'Software Development Life Cycle')"
   ]
  },
  {
   "cell_type": "code",
   "execution_count": 105,
   "metadata": {},
   "outputs": [
    {
     "data": {
      "text/html": [
       "<div>\n",
       "<style scoped>\n",
       "    .dataframe tbody tr th:only-of-type {\n",
       "        vertical-align: middle;\n",
       "    }\n",
       "\n",
       "    .dataframe tbody tr th {\n",
       "        vertical-align: top;\n",
       "    }\n",
       "\n",
       "    .dataframe thead th {\n",
       "        text-align: right;\n",
       "    }\n",
       "</style>\n",
       "<table border=\"1\" class=\"dataframe\">\n",
       "  <thead>\n",
       "    <tr style=\"text-align: right;\">\n",
       "      <th></th>\n",
       "      <th>skill_id</th>\n",
       "      <th>skill</th>\n",
       "    </tr>\n",
       "  </thead>\n",
       "  <tbody>\n",
       "    <tr>\n",
       "      <th>185</th>\n",
       "      <td>186</td>\n",
       "      <td>Financial Risk Modeling</td>\n",
       "    </tr>\n",
       "    <tr>\n",
       "      <th>474</th>\n",
       "      <td>475</td>\n",
       "      <td>3D Modeling Software</td>\n",
       "    </tr>\n",
       "    <tr>\n",
       "      <th>818</th>\n",
       "      <td>819</td>\n",
       "      <td>Modeling</td>\n",
       "    </tr>\n",
       "    <tr>\n",
       "      <th>819</th>\n",
       "      <td>820</td>\n",
       "      <td>Modeling Language</td>\n",
       "    </tr>\n",
       "    <tr>\n",
       "      <th>1139</th>\n",
       "      <td>1140</td>\n",
       "      <td>Bayesian Modeling</td>\n",
       "    </tr>\n",
       "    <tr>\n",
       "      <th>1212</th>\n",
       "      <td>1213</td>\n",
       "      <td>Data Modeling</td>\n",
       "    </tr>\n",
       "    <tr>\n",
       "      <th>1264</th>\n",
       "      <td>1265</td>\n",
       "      <td>Financial Modeling</td>\n",
       "    </tr>\n",
       "    <tr>\n",
       "      <th>1423</th>\n",
       "      <td>1424</td>\n",
       "      <td>Predictive Modeling</td>\n",
       "    </tr>\n",
       "    <tr>\n",
       "      <th>1520</th>\n",
       "      <td>1521</td>\n",
       "      <td>Statistical Modeling</td>\n",
       "    </tr>\n",
       "    <tr>\n",
       "      <th>1556</th>\n",
       "      <td>1557</td>\n",
       "      <td>Topic Modeling</td>\n",
       "    </tr>\n",
       "    <tr>\n",
       "      <th>2452</th>\n",
       "      <td>2453</td>\n",
       "      <td>User Modeling</td>\n",
       "    </tr>\n",
       "  </tbody>\n",
       "</table>\n",
       "</div>"
      ],
      "text/plain": [
       "      skill_id                    skill\n",
       "185        186  Financial Risk Modeling\n",
       "474        475     3D Modeling Software\n",
       "818        819                 Modeling\n",
       "819        820        Modeling Language\n",
       "1139      1140        Bayesian Modeling\n",
       "1212      1213            Data Modeling\n",
       "1264      1265       Financial Modeling\n",
       "1423      1424      Predictive Modeling\n",
       "1520      1521     Statistical Modeling\n",
       "1556      1557           Topic Modeling\n",
       "2452      2453            User Modeling"
      ]
     },
     "execution_count": 105,
     "metadata": {},
     "output_type": "execute_result"
    }
   ],
   "source": [
    "check_skill('Modeling')"
   ]
  },
  {
   "cell_type": "code",
   "execution_count": null,
   "metadata": {},
   "outputs": [],
   "source": []
  }
 ],
 "metadata": {
  "kernelspec": {
   "display_name": "Python 3",
   "language": "python",
   "name": "python3"
  },
  "language_info": {
   "codemirror_mode": {
    "name": "ipython",
    "version": 3
   },
   "file_extension": ".py",
   "mimetype": "text/x-python",
   "name": "python",
   "nbconvert_exporter": "python",
   "pygments_lexer": "ipython3",
   "version": "3.8.5"
  }
 },
 "nbformat": 4,
 "nbformat_minor": 4
}
