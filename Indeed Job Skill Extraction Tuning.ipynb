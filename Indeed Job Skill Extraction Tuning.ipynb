{
 "cells": [
  {
   "cell_type": "code",
   "execution_count": 1,
   "metadata": {},
   "outputs": [],
   "source": [
    "import pandas as pd\n",
    "import re\n",
    "import random\n",
    "from nltk import ngrams\n",
    "from difflib import get_close_matches as gcm"
   ]
  },
  {
   "cell_type": "code",
   "execution_count": 2,
   "metadata": {},
   "outputs": [
    {
     "data": {
      "text/html": [
       "<div>\n",
       "<style scoped>\n",
       "    .dataframe tbody tr th:only-of-type {\n",
       "        vertical-align: middle;\n",
       "    }\n",
       "\n",
       "    .dataframe tbody tr th {\n",
       "        vertical-align: top;\n",
       "    }\n",
       "\n",
       "    .dataframe thead th {\n",
       "        text-align: right;\n",
       "    }\n",
       "</style>\n",
       "<table border=\"1\" class=\"dataframe\">\n",
       "  <thead>\n",
       "    <tr style=\"text-align: right;\">\n",
       "      <th></th>\n",
       "      <th>title</th>\n",
       "      <th>company</th>\n",
       "      <th>country</th>\n",
       "      <th>date_posted</th>\n",
       "      <th>description</th>\n",
       "      <th>title_keywords</th>\n",
       "      <th>indeed_skills</th>\n",
       "      <th>skills</th>\n",
       "      <th>no_skills</th>\n",
       "    </tr>\n",
       "  </thead>\n",
       "  <tbody>\n",
       "    <tr>\n",
       "      <th>0</th>\n",
       "      <td>Data Scientist</td>\n",
       "      <td>Mission Consultancy Services Malaysia Sdn Bhd</td>\n",
       "      <td>Malaysia</td>\n",
       "      <td>2020-07-26</td>\n",
       "      <td>Identify valuable data sources and automate co...</td>\n",
       "      <td>NaN</td>\n",
       "      <td>'C', 'C++', 'Excel', 'Hadoop', 'Java', 'R', 'S...</td>\n",
       "      <td>['Business', 'Analytical', 'Communication', 'D...</td>\n",
       "      <td>27</td>\n",
       "    </tr>\n",
       "    <tr>\n",
       "      <th>1</th>\n",
       "      <td>Data Scientist</td>\n",
       "      <td>AirAsia</td>\n",
       "      <td>Malaysia</td>\n",
       "      <td>2020-08-15</td>\n",
       "      <td>Job DescriptionOverviewThis role will responsi...</td>\n",
       "      <td>NaN</td>\n",
       "      <td>'C', 'R'</td>\n",
       "      <td>['Business', 'Accuracy', 'Processing', 'Produc...</td>\n",
       "      <td>21</td>\n",
       "    </tr>\n",
       "    <tr>\n",
       "      <th>2</th>\n",
       "      <td>Data Scientist</td>\n",
       "      <td>CareerMaster Sdn Bhd</td>\n",
       "      <td>Malaysia</td>\n",
       "      <td>2020-07-26</td>\n",
       "      <td>Position to be based in Kuala Lumpur.We are re...</td>\n",
       "      <td>NaN</td>\n",
       "      <td>'C', 'GIS', 'Go', 'Python', 'R', 'SQL', 'Stati...</td>\n",
       "      <td>['Business', 'Computer Science', 'Microsoft', ...</td>\n",
       "      <td>30</td>\n",
       "    </tr>\n",
       "    <tr>\n",
       "      <th>3</th>\n",
       "      <td>Data Scientist Executive</td>\n",
       "      <td>GENO Management</td>\n",
       "      <td>Malaysia</td>\n",
       "      <td>2020-08-18</td>\n",
       "      <td>Position : Data Scientists ExecutiveLocation :...</td>\n",
       "      <td>NaN</td>\n",
       "      <td>'AWS', 'C', 'Go', 'Python', 'R', 'Regression',...</td>\n",
       "      <td>['Business', 'Data Science', 'Analytical', 'Bu...</td>\n",
       "      <td>39</td>\n",
       "    </tr>\n",
       "    <tr>\n",
       "      <th>4</th>\n",
       "      <td>Data Scientist</td>\n",
       "      <td>PLUS SOLAR SYSTEMS SDN BHD</td>\n",
       "      <td>Malaysia</td>\n",
       "      <td>2020-07-26</td>\n",
       "      <td>Work With Stakeholders Throughout The Organiza...</td>\n",
       "      <td>NaN</td>\n",
       "      <td>'C'</td>\n",
       "      <td>['Business', 'Accuracy', 'Development', 'Marke...</td>\n",
       "      <td>9</td>\n",
       "    </tr>\n",
       "  </tbody>\n",
       "</table>\n",
       "</div>"
      ],
      "text/plain": [
       "                      title                                        company  \\\n",
       "0            Data Scientist  Mission Consultancy Services Malaysia Sdn Bhd   \n",
       "1            Data Scientist                                        AirAsia   \n",
       "2            Data Scientist                           CareerMaster Sdn Bhd   \n",
       "3  Data Scientist Executive                                GENO Management   \n",
       "4            Data Scientist                     PLUS SOLAR SYSTEMS SDN BHD   \n",
       "\n",
       "    country date_posted                                        description  \\\n",
       "0  Malaysia  2020-07-26  Identify valuable data sources and automate co...   \n",
       "1  Malaysia  2020-08-15  Job DescriptionOverviewThis role will responsi...   \n",
       "2  Malaysia  2020-07-26  Position to be based in Kuala Lumpur.We are re...   \n",
       "3  Malaysia  2020-08-18  Position : Data Scientists ExecutiveLocation :...   \n",
       "4  Malaysia  2020-07-26  Work With Stakeholders Throughout The Organiza...   \n",
       "\n",
       "  title_keywords                                      indeed_skills  \\\n",
       "0            NaN  'C', 'C++', 'Excel', 'Hadoop', 'Java', 'R', 'S...   \n",
       "1            NaN                                           'C', 'R'   \n",
       "2            NaN  'C', 'GIS', 'Go', 'Python', 'R', 'SQL', 'Stati...   \n",
       "3            NaN  'AWS', 'C', 'Go', 'Python', 'R', 'Regression',...   \n",
       "4            NaN                                                'C'   \n",
       "\n",
       "                                              skills  no_skills  \n",
       "0  ['Business', 'Analytical', 'Communication', 'D...         27  \n",
       "1  ['Business', 'Accuracy', 'Processing', 'Produc...         21  \n",
       "2  ['Business', 'Computer Science', 'Microsoft', ...         30  \n",
       "3  ['Business', 'Data Science', 'Analytical', 'Bu...         39  \n",
       "4  ['Business', 'Accuracy', 'Development', 'Marke...          9  "
      ]
     },
     "execution_count": 2,
     "metadata": {},
     "output_type": "execute_result"
    }
   ],
   "source": [
    "df_ds = pd.read_csv('indeed-insights/data_scientist.csv')\n",
    "df_ds.head()"
   ]
  },
  {
   "cell_type": "code",
   "execution_count": 3,
   "metadata": {},
   "outputs": [
    {
     "data": {
      "text/plain": [
       "3101"
      ]
     },
     "execution_count": 3,
     "metadata": {},
     "output_type": "execute_result"
    }
   ],
   "source": [
    "df_skills = pd.read_csv('skills_db2/skill.csv')\n",
    "SKILLS = df_skills['skill'].unique().tolist()\n",
    "len(SKILLS)"
   ]
  },
  {
   "cell_type": "code",
   "execution_count": 4,
   "metadata": {},
   "outputs": [
    {
     "data": {
      "text/plain": [
       "38"
      ]
     },
     "execution_count": 4,
     "metadata": {},
     "output_type": "execute_result"
    }
   ],
   "source": [
    "df_redskills = pd.read_excel('skills/Redundant Skills.xlsx')\n",
    "RED_SKILLS = df_redskills['Skill'].unique().tolist()\n",
    "len(RED_SKILLS)"
   ]
  },
  {
   "cell_type": "code",
   "execution_count": 5,
   "metadata": {},
   "outputs": [],
   "source": [
    "def print_job(df, i):\n",
    "    row = df.loc[i]\n",
    "    print('Title:', row['title'])\n",
    "    print('Description:', row['description'])\n",
    "    print('Indeed Skills:', row['indeed_skills'])\n",
    "    \n",
    "def test_extract(df, i):\n",
    "    row = df.loc[i]\n",
    "    info = row['title'] + ' ' + row['description']\n",
    "    all_skills = extract_skills(info)\n",
    "    job_skills, ignore_skills = extract_ignore(all_skills)\n",
    "    job_skills.sort()\n",
    "    ignore_skills.sort()\n",
    "    print('Skills:', job_skills)\n",
    "    print()\n",
    "    print('Ignore:', ignore_skills)\n",
    "\n",
    "def test_skill(df, i, skill, threshold=0.9):\n",
    "    row = df.loc[i]\n",
    "    info = row['title'] + ' ' + row['description']\n",
    "    words, bigrams, trigrams = clean_info(info)\n",
    "    results = []\n",
    "    s = skill.lower()\n",
    "    print('Unigram: {}'.format(gcm(s, words, cutoff=threshold)))\n",
    "    print('Bigram: {}'.format(gcm(s, bigrams, cutoff=threshold)))\n",
    "    print('Trigram: {}'.format(gcm(s, trigrams, cutoff=threshold)))\n",
    "    \n",
    "def extract_skills(info, threshold=0.9):\n",
    "    words, bigrams, trigrams = clean_info(info)\n",
    "    results = []\n",
    "    for skill in SKILLS:\n",
    "        s = skill.lower()\n",
    "        if '(' in s:\n",
    "            abb = s[s.find(\"(\")+1:s.find(\")\")].upper()\n",
    "            if abb in words:\n",
    "                results.append(skill)\n",
    "                continue\n",
    "            s = re.sub(r\"[\\(].*?[\\)]\", \"\", s)\n",
    "        s2 = s.split()\n",
    "        if len(s2) == 1:\n",
    "            if len(gcm(s, words, cutoff=threshold)) > 0:\n",
    "                results.append(skill)\n",
    "        elif len(s2) == 2:\n",
    "            if len(gcm(s, bigrams, cutoff=threshold)) > 0:\n",
    "                results.append(skill)\n",
    "        elif len(s2) == 3:\n",
    "            if len(gcm(s, trigrams, cutoff=threshold)) > 0:\n",
    "                results.append(skill)\n",
    "        else:\n",
    "            if len(gcm(s, trigrams, cutoff=threshold)) > 0:\n",
    "                results.append(skill)\n",
    "    return results\n",
    "\n",
    "def extract_ignore(skills):\n",
    "    ignore_skills = []\n",
    "    for j, skill in enumerate(skills):\n",
    "        if skill in RED_SKILLS:\n",
    "            ignore_skills.append(skill)\n",
    "        else:\n",
    "            for other in skills[:j] + skills[j+1:]:\n",
    "                if skill in other:\n",
    "                    if find_whole_word(skill, other):\n",
    "                        ignore_skills.append(skill)\n",
    "                        break\n",
    "    job_skills = [s for s in skills if s not in ignore_skills]\n",
    "    return job_skills, ignore_skills\n",
    "\n",
    "def clean_info(info):\n",
    "    # Remove ordered list with alphabets: a), b), c),...\n",
    "    words = re.sub(r'[\\s\\t\\n]+[a-zA-Z\\s*]\\)+', ' ', info)\n",
    "    words = re.sub('[\\n|,|.|\\-|/|\\(|\\)]', ' ', words).lower().split()\n",
    "    #words = re.findall(r'[a-zA-Z](?:[A-Z]*(?![a-z])|[a-z]*)', words)\n",
    "    words = [word.strip() for word in words]\n",
    "    bigrams = [' '.join(g) for g in ngrams(words, 2)]\n",
    "    trigrams = [' '.join(g) for g in ngrams(words, 3)]\n",
    "    return words, bigrams, trigrams\n",
    "\n",
    "def check_skill(skill):\n",
    "    return df_skills.loc[df_skills['skill'].str.contains(skill)]\n",
    "\n",
    "def find_whole_word(search_string, input_string):\n",
    "    raw_search_string = r\"\\b\" + search_string + r\"\\b\"\n",
    "    match_output = re.search(raw_search_string, input_string)\n",
    "    no_match_was_found = ( match_output is None )\n",
    "    if no_match_was_found:\n",
    "        return False\n",
    "    else:\n",
    "        return True"
   ]
  },
  {
   "cell_type": "code",
   "execution_count": 9,
   "metadata": {},
   "outputs": [
    {
     "data": {
      "text/plain": [
       "464"
      ]
     },
     "execution_count": 9,
     "metadata": {},
     "output_type": "execute_result"
    }
   ],
   "source": [
    "job_no = random.randint(0, len(df_ds))\n",
    "job_no"
   ]
  },
  {
   "cell_type": "code",
   "execution_count": 10,
   "metadata": {},
   "outputs": [
    {
     "name": "stdout",
     "output_type": "stream",
     "text": [
      "Title: Data Scientist\n",
      "Description: Roles & ResponsibilitiesCare about climate change and want to build technology to solve it? Aspire to shape and contribute to a fast-growing technology start-up as an early employee? This is your opportunity.At Solar AI, we want to use technology to simplify the solar experience for everyone.Our solution: building intelligence for rooftop solar projects. By combining geospatial analysis of satellite imagery with big data and artificial intelligence, Solar AI empowers solar sales teams to discover qualified leads and prioritize their sales efforts for rooftop solar.Solar AI is a seed stage start-up funded by and incubated as part of ENGIE Factory, the dedicated venture arm for ENGIE Group in Asia-Pacific.Find out more at https://getsolar.ai.The opportunityAs a Data Scientist with Solar AI, you will shape our building intelligence platform by creating application pipelines that pull data from a universe of ingested data-sets and refine them to extract information for use in our tools. You will help design and implement machine-learning algorithms and micro-services. As an early employee in a fast-growing start-up, you will have the opportunity to take ownership in shaping the company’s direction, as well as grow and scale a mission-driven team.What you’ll be responsible forOwn our entire pipeline including pre-processing mixed data types such as satellite imagery, GIS and structured data as well as feature extraction, model fitting, validation and deployment stagesOwn the creation of an end to end AI system through pipelining different data and machine learning modulesUtilize data extraction tools to obtain information from different data sources and solutions (APIs, FTP, cloud storage)Research and test new data sources or innovative methods to extract information (e.g. data scrappers)Work directly with CTO to deliver scalable, secure and robust software solutions on AWSThe skills we’re looking forProficient in working with mixed data types such as satellite imagery, GIS and structured data on different systems (S3, SQL, cache, etc.)Background in classical machine learning with expertise in a variety of techniques including feature selection, regression, classification, and their real-world advantages and drawbacksProficient with Python, and its respective library ecosystemsAbility to multitask with attention to detailsAbility to be flexible and deal with changing priorities and meet timelines… with bonus points for the followingExperience working with GIS data and handling satellite imageryKnowledge of relational databases and SQL (e.g. PostgreSQL with PostGIS extension)Practical experience with semantic text analysis, deep learning or computer visionHands-on experience with applied mathematics to energy consumption and solar PV applicationsKnowledge on software engineering good practices, testing and design patternsExperience working with Agile software development frameworks (scrum, kanban, etc)Employment type and locationThis is a full-time position, based out of Singapore.How to applyWe encourage interested applicants to write a short cover note stating why you want to join us. Please send your CV and cover note to jobs@getsolar.ai. We review applications on a rolling basis, and unfortunately may only reach out to shortlisted applicants. Thank you for your patience and understanding.Solar AI is an equal opportunity employer and we value diversity at our company. We do not discriminate on the basis of race, colour, gender, religion, sexual orientation, age, marital status, or disability status.3 years exp\n",
      "Indeed Skills: 'AWS', 'C', 'Factor', 'GIS', 'PostgreSQL', 'Python', 'R', 'SQL'\n"
     ]
    }
   ],
   "source": [
    "print_job(df_ds, job_no)"
   ]
  },
  {
   "cell_type": "code",
   "execution_count": 13,
   "metadata": {},
   "outputs": [
    {
     "name": "stdout",
     "output_type": "stream",
     "text": [
      "Skills: ['Ad Design', 'Agile Software Development', 'Applied Mathematics', 'Artificial Intelligence (AI)', 'Big Data', 'Classification', 'Cloud Storage', 'Creatio', 'Deep Learning', 'Energy Consumption', 'Feature Extraction', 'Feature Selection', 'IPython', 'Lean Software Development', 'Machine Learning Algorithm', 'Platform', 'PostgreSQL', 'Processing', 'Python', 'Regression', 'Relational Database', 'Research', 'Sales', 'Scrum', 'Semantics', 'Software Engineering', 'Testing', 'Text Analysis']\n",
      "\n",
      "Ignore: ['Agile', 'Algorithm', 'Application', 'Data', 'Database', 'Design', 'Development', 'Engineering', 'Machine Learning', 'Mathematics', 'Selection', 'Service', 'Software Development', 'Unemployment']\n"
     ]
    }
   ],
   "source": [
    "test_extract(df_ds, job_no)"
   ]
  },
  {
   "cell_type": "code",
   "execution_count": 11,
   "metadata": {},
   "outputs": [
    {
     "name": "stdout",
     "output_type": "stream",
     "text": [
      "Unigram: []\n",
      "Bigram: ['applied mathematics']\n",
      "Trigram: ['applied mathematics to']\n"
     ]
    }
   ],
   "source": [
    "test_skill(df_ds, job_no, 'Applied Mathematics')"
   ]
  },
  {
   "cell_type": "code",
   "execution_count": 12,
   "metadata": {},
   "outputs": [
    {
     "data": {
      "text/html": [
       "<div>\n",
       "<style scoped>\n",
       "    .dataframe tbody tr th:only-of-type {\n",
       "        vertical-align: middle;\n",
       "    }\n",
       "\n",
       "    .dataframe tbody tr th {\n",
       "        vertical-align: top;\n",
       "    }\n",
       "\n",
       "    .dataframe thead th {\n",
       "        text-align: right;\n",
       "    }\n",
       "</style>\n",
       "<table border=\"1\" class=\"dataframe\">\n",
       "  <thead>\n",
       "    <tr style=\"text-align: right;\">\n",
       "      <th></th>\n",
       "      <th>skill_id</th>\n",
       "      <th>skill</th>\n",
       "    </tr>\n",
       "  </thead>\n",
       "  <tbody>\n",
       "    <tr>\n",
       "      <th>2166</th>\n",
       "      <td>2167</td>\n",
       "      <td>Applied Mathematics</td>\n",
       "    </tr>\n",
       "  </tbody>\n",
       "</table>\n",
       "</div>"
      ],
      "text/plain": [
       "      skill_id                skill\n",
       "2166      2167  Applied Mathematics"
      ]
     },
     "execution_count": 12,
     "metadata": {},
     "output_type": "execute_result"
    }
   ],
   "source": [
    "check_skill('Applied Mathematics')"
   ]
  },
  {
   "cell_type": "code",
   "execution_count": null,
   "metadata": {},
   "outputs": [],
   "source": []
  }
 ],
 "metadata": {
  "kernelspec": {
   "display_name": "Python 3",
   "language": "python",
   "name": "python3"
  },
  "language_info": {
   "codemirror_mode": {
    "name": "ipython",
    "version": 3
   },
   "file_extension": ".py",
   "mimetype": "text/x-python",
   "name": "python",
   "nbconvert_exporter": "python",
   "pygments_lexer": "ipython3",
   "version": "3.8.5"
  }
 },
 "nbformat": 4,
 "nbformat_minor": 4
}
