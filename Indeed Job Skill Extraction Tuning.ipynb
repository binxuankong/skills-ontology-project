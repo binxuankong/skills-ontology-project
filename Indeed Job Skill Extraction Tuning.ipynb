{
 "cells": [
  {
   "cell_type": "code",
   "execution_count": 28,
   "metadata": {},
   "outputs": [],
   "source": [
    "import pandas as pd\n",
    "import re\n",
    "import random\n",
    "import nltk\n",
    "from nltk import ngrams\n",
    "from difflib import get_close_matches as gcm"
   ]
  },
  {
   "cell_type": "code",
   "execution_count": 2,
   "metadata": {},
   "outputs": [
    {
     "data": {
      "text/html": [
       "<div>\n",
       "<style scoped>\n",
       "    .dataframe tbody tr th:only-of-type {\n",
       "        vertical-align: middle;\n",
       "    }\n",
       "\n",
       "    .dataframe tbody tr th {\n",
       "        vertical-align: top;\n",
       "    }\n",
       "\n",
       "    .dataframe thead th {\n",
       "        text-align: right;\n",
       "    }\n",
       "</style>\n",
       "<table border=\"1\" class=\"dataframe\">\n",
       "  <thead>\n",
       "    <tr style=\"text-align: right;\">\n",
       "      <th></th>\n",
       "      <th>title</th>\n",
       "      <th>company</th>\n",
       "      <th>country</th>\n",
       "      <th>date_posted</th>\n",
       "      <th>description</th>\n",
       "      <th>title_keywords</th>\n",
       "      <th>indeed_skills</th>\n",
       "      <th>skills</th>\n",
       "      <th>no_skills</th>\n",
       "    </tr>\n",
       "  </thead>\n",
       "  <tbody>\n",
       "    <tr>\n",
       "      <th>0</th>\n",
       "      <td>Data Scientist</td>\n",
       "      <td>Mission Consultancy Services Malaysia Sdn Bhd</td>\n",
       "      <td>Malaysia</td>\n",
       "      <td>2020-07-26</td>\n",
       "      <td>Identify valuable data sources and automate co...</td>\n",
       "      <td>NaN</td>\n",
       "      <td>'C', 'C++', 'Excel', 'Hadoop', 'Java', 'R', 'S...</td>\n",
       "      <td>['Business', 'Analytical', 'Communication', 'D...</td>\n",
       "      <td>27</td>\n",
       "    </tr>\n",
       "    <tr>\n",
       "      <th>1</th>\n",
       "      <td>Data Scientist</td>\n",
       "      <td>AirAsia</td>\n",
       "      <td>Malaysia</td>\n",
       "      <td>2020-08-15</td>\n",
       "      <td>Job DescriptionOverviewThis role will responsi...</td>\n",
       "      <td>NaN</td>\n",
       "      <td>'C', 'R'</td>\n",
       "      <td>['Business', 'Accuracy', 'Processing', 'Produc...</td>\n",
       "      <td>21</td>\n",
       "    </tr>\n",
       "    <tr>\n",
       "      <th>2</th>\n",
       "      <td>Data Scientist</td>\n",
       "      <td>CareerMaster Sdn Bhd</td>\n",
       "      <td>Malaysia</td>\n",
       "      <td>2020-07-26</td>\n",
       "      <td>Position to be based in Kuala Lumpur.We are re...</td>\n",
       "      <td>NaN</td>\n",
       "      <td>'C', 'GIS', 'Go', 'Python', 'R', 'SQL', 'Stati...</td>\n",
       "      <td>['Business', 'Computer Science', 'Microsoft', ...</td>\n",
       "      <td>30</td>\n",
       "    </tr>\n",
       "    <tr>\n",
       "      <th>3</th>\n",
       "      <td>Data Scientist Executive</td>\n",
       "      <td>GENO Management</td>\n",
       "      <td>Malaysia</td>\n",
       "      <td>2020-08-18</td>\n",
       "      <td>Position : Data Scientists ExecutiveLocation :...</td>\n",
       "      <td>NaN</td>\n",
       "      <td>'AWS', 'C', 'Go', 'Python', 'R', 'Regression',...</td>\n",
       "      <td>['Business', 'Data Science', 'Analytical', 'Bu...</td>\n",
       "      <td>39</td>\n",
       "    </tr>\n",
       "    <tr>\n",
       "      <th>4</th>\n",
       "      <td>Data Scientist</td>\n",
       "      <td>PLUS SOLAR SYSTEMS SDN BHD</td>\n",
       "      <td>Malaysia</td>\n",
       "      <td>2020-07-26</td>\n",
       "      <td>Work With Stakeholders Throughout The Organiza...</td>\n",
       "      <td>NaN</td>\n",
       "      <td>'C'</td>\n",
       "      <td>['Business', 'Accuracy', 'Development', 'Marke...</td>\n",
       "      <td>9</td>\n",
       "    </tr>\n",
       "  </tbody>\n",
       "</table>\n",
       "</div>"
      ],
      "text/plain": [
       "                      title                                        company  \\\n",
       "0            Data Scientist  Mission Consultancy Services Malaysia Sdn Bhd   \n",
       "1            Data Scientist                                        AirAsia   \n",
       "2            Data Scientist                           CareerMaster Sdn Bhd   \n",
       "3  Data Scientist Executive                                GENO Management   \n",
       "4            Data Scientist                     PLUS SOLAR SYSTEMS SDN BHD   \n",
       "\n",
       "    country date_posted                                        description  \\\n",
       "0  Malaysia  2020-07-26  Identify valuable data sources and automate co...   \n",
       "1  Malaysia  2020-08-15  Job DescriptionOverviewThis role will responsi...   \n",
       "2  Malaysia  2020-07-26  Position to be based in Kuala Lumpur.We are re...   \n",
       "3  Malaysia  2020-08-18  Position : Data Scientists ExecutiveLocation :...   \n",
       "4  Malaysia  2020-07-26  Work With Stakeholders Throughout The Organiza...   \n",
       "\n",
       "  title_keywords                                      indeed_skills  \\\n",
       "0            NaN  'C', 'C++', 'Excel', 'Hadoop', 'Java', 'R', 'S...   \n",
       "1            NaN                                           'C', 'R'   \n",
       "2            NaN  'C', 'GIS', 'Go', 'Python', 'R', 'SQL', 'Stati...   \n",
       "3            NaN  'AWS', 'C', 'Go', 'Python', 'R', 'Regression',...   \n",
       "4            NaN                                                'C'   \n",
       "\n",
       "                                              skills  no_skills  \n",
       "0  ['Business', 'Analytical', 'Communication', 'D...         27  \n",
       "1  ['Business', 'Accuracy', 'Processing', 'Produc...         21  \n",
       "2  ['Business', 'Computer Science', 'Microsoft', ...         30  \n",
       "3  ['Business', 'Data Science', 'Analytical', 'Bu...         39  \n",
       "4  ['Business', 'Accuracy', 'Development', 'Marke...          9  "
      ]
     },
     "execution_count": 2,
     "metadata": {},
     "output_type": "execute_result"
    }
   ],
   "source": [
    "df_ds = pd.read_csv('indeed-insights/data_scientist.csv')\n",
    "df_ds.head()"
   ]
  },
  {
   "cell_type": "code",
   "execution_count": 4,
   "metadata": {},
   "outputs": [
    {
     "data": {
      "text/plain": [
       "3130"
      ]
     },
     "execution_count": 4,
     "metadata": {},
     "output_type": "execute_result"
    }
   ],
   "source": [
    "df_skills = pd.read_csv('skills_db2/skill.csv')\n",
    "SKILLS = df_skills['Skill'].unique().tolist()\n",
    "len(SKILLS)"
   ]
  },
  {
   "cell_type": "code",
   "execution_count": 121,
   "metadata": {},
   "outputs": [],
   "source": [
    "df_domains = pd.read_csv('skills_db2/domain.csv')"
   ]
  },
  {
   "cell_type": "code",
   "execution_count": 5,
   "metadata": {},
   "outputs": [
    {
     "data": {
      "text/plain": [
       "42"
      ]
     },
     "execution_count": 5,
     "metadata": {},
     "output_type": "execute_result"
    }
   ],
   "source": [
    "df_redskills = pd.read_excel('skills/Redundant Skills.xlsx')\n",
    "RED_SKILLS = df_redskills['Skill'].unique().tolist()\n",
    "len(RED_SKILLS)"
   ]
  },
  {
   "cell_type": "code",
   "execution_count": 122,
   "metadata": {},
   "outputs": [],
   "source": [
    "def print_job(df, i):\n",
    "    row = df.loc[i]\n",
    "    print('Title:', row['title'])\n",
    "    print('Description:', row['description'])\n",
    "    print('Indeed Skills:', row['indeed_skills'])\n",
    "    \n",
    "def test_extract(df, i):\n",
    "    row = df.loc[i]\n",
    "    info = row['title'] + ' ' + row['description']\n",
    "    all_skills = extract_skills(info)\n",
    "    job_skills, ignore_skills = extract_ignore(all_skills)\n",
    "    job_skills.sort()\n",
    "    ignore_skills.sort()\n",
    "    print('Skills:', job_skills)\n",
    "    print()\n",
    "    print('Ignore:', ignore_skills)\n",
    "\n",
    "def test_skill(df, i, skill, threshold=0.9):\n",
    "    row = df.loc[i]\n",
    "    info = row['title'] + ' ' + row['description']\n",
    "    _, words, bigrams, trigrams = clean_info(info)\n",
    "    results = []\n",
    "    s = skill.lower()\n",
    "    print('Unigram: {}'.format(gcm(s, words, cutoff=threshold)))\n",
    "    print('Bigram: {}'.format(gcm(s, bigrams, cutoff=threshold)))\n",
    "    print('Trigram: {}'.format(gcm(s, trigrams, cutoff=threshold)))\n",
    "    \n",
    "def extract_skills(info, threshold=0.9):\n",
    "    words, unigrams, bigrams, trigrams = clean_info(info)\n",
    "    results = []\n",
    "    for skill in SKILLS:\n",
    "        s = skill\n",
    "        if '(' in s:\n",
    "            abb = s[s.find(\"(\")+1:s.find(\")\")]\n",
    "            if abb in words:\n",
    "                results.append(skill)\n",
    "                continue\n",
    "            s = re.sub(r\"[\\(].*?[\\)]\", \"\", s)\n",
    "        s = s.lower()\n",
    "        s2 = s.split()\n",
    "        if len(s2) == 1:\n",
    "            if len(gcm(s, unigrams, cutoff=threshold)) > 0:\n",
    "                results.append(skill)\n",
    "        elif len(s2) == 2:\n",
    "            if len(gcm(s, bigrams, cutoff=threshold)) > 0:\n",
    "                results.append(skill)\n",
    "        elif len(s2) == 3:\n",
    "            if len(gcm(s, trigrams, cutoff=threshold)) > 0:\n",
    "                results.append(skill)\n",
    "        else:\n",
    "            if len(gcm(s, trigrams, cutoff=threshold)) > 0:\n",
    "                results.append(skill)\n",
    "    return results\n",
    "\n",
    "def extract_ignore(skills):\n",
    "    ignore_skills = []\n",
    "    for j, skill in enumerate(skills):\n",
    "        if skill in RED_SKILLS:\n",
    "            ignore_skills.append(skill)\n",
    "        else:\n",
    "            for other in skills[:j] + skills[j+1:]:\n",
    "                if skill in other:\n",
    "                    if find_whole_word(skill, other):\n",
    "                        ignore_skills.append(skill)\n",
    "                        break\n",
    "    job_skills = [s for s in skills if s not in ignore_skills]\n",
    "    return job_skills, ignore_skills\n",
    "\n",
    "def clean_info(info):\n",
    "    # Remove ordered list with alphabets: a), b), c),...\n",
    "    words = re.sub(r'[\\s\\t\\n|.|\\(]+[a-zA-Z\\s*][.|\\)]+', ' ', info)\n",
    "    words = re.sub('[\\n|,|.|:|;|\\-|/|\\(|\\)|\\[|\\]]', ' ', words)\n",
    "    # words = [word.strip() for word in words]\n",
    "    # words = nltk.word_tokenize(info)\n",
    "    # unigrams = nltk.word_tokenize(info.lower())\n",
    "    unigrams = words.lower().split()\n",
    "    bigrams = [' '.join(g) for g in ngrams(unigrams, 2)]\n",
    "    trigrams = [' '.join(g) for g in ngrams(unigrams, 3)]\n",
    "    return words.split(), unigrams, bigrams, trigrams\n",
    "\n",
    "def check_skill(skill):\n",
    "    return df_skills.loc[df_skills['Skill'].str.contains(skill)].merge(df_domains, left_on='DomainId', right_on='Id')\n",
    "\n",
    "def find_whole_word(search_string, input_string):\n",
    "    raw_search_string = r\"\\b\" + search_string + r\"\\b\"\n",
    "    match_output = re.search(raw_search_string, input_string)\n",
    "    no_match_was_found = ( match_output is None )\n",
    "    if no_match_was_found:\n",
    "        return False\n",
    "    else:\n",
    "        return True"
   ]
  },
  {
   "cell_type": "code",
   "execution_count": 153,
   "metadata": {},
   "outputs": [
    {
     "data": {
      "text/plain": [
       "629"
      ]
     },
     "execution_count": 153,
     "metadata": {},
     "output_type": "execute_result"
    }
   ],
   "source": [
    "job_no = random.randint(0, len(df_ds))\n",
    "job_no"
   ]
  },
  {
   "cell_type": "code",
   "execution_count": 154,
   "metadata": {},
   "outputs": [],
   "source": [
    "a, b, c, d = clean_info(df_ds['description'][job_no])"
   ]
  },
  {
   "cell_type": "code",
   "execution_count": 155,
   "metadata": {},
   "outputs": [
    {
     "name": "stdout",
     "output_type": "stream",
     "text": [
      "Title: Data Scientist\n",
      "Description: We are looking for a Data Scientist to analyze large amounts of raw information to find patterns We will rely on you to build data products to extract valuable business insights.In this role, you should be highly analytical with a knack for analysis, math and statistics. Critical thinking and problem-solving skills are essential for interpreting data. We also want to see a passion for machine-learning and research.Technical Requirements:Databases: Document-oriented DB, Graph DB, SQL DBSoftware: PowerBI or TableauScripting: Python (mandatory), JavascriptData Science Techniques: data pre-processing, unsupervised/supervised learning, video analysis (object detection), network analysis, text mining.Functional Requirements:The candidate should have at least 3-5 years of experience in the Data Analytics area and should be ready to work on the whole delivery lifecycle of IT projects:Understand the needs with the different stakeholders.See how these ones can be translated into a data analytics project.Check the relevant data sources with the data owners.Implement a design of solution using open source tools.Present the results to the stakeholders.If the test is successful, write the corresponding documentation.Liaise with Production Team to industrialize the analytical solution (control / visualization / report).\n",
      "Indeed Skills: 'C', 'Java', 'Javascript', 'PowerBI', 'Python', 'R', 'SQL', 'Tableau'\n"
     ]
    }
   ],
   "source": [
    "print_job(df_ds, job_no)"
   ]
  },
  {
   "cell_type": "code",
   "execution_count": 156,
   "metadata": {},
   "outputs": [
    {
     "name": "stdout",
     "output_type": "stream",
     "text": [
      "Skills: ['Ad Design', 'Analytical', 'Critical Thinking', 'Data Analytics', 'Database', 'Documentation', 'Graph', 'Machine Learning', 'Network Analysis', 'Object Detection', 'Problem Solving', 'Processing', 'Python', 'Research', 'Statistics', 'Structured Query Language (SQL)', 'Supervised Learning', 'Text Mining', 'Unsupervised Learning', 'Video', 'Visualization']\n",
      "\n",
      "Ignore: ['Data', 'Design', 'IPython', 'Mining', 'Network', 'Product', 'Production']\n"
     ]
    }
   ],
   "source": [
    "test_extract(df_ds, job_no)"
   ]
  },
  {
   "cell_type": "code",
   "execution_count": 130,
   "metadata": {},
   "outputs": [
    {
     "name": "stdout",
     "output_type": "stream",
     "text": [
      "Unigram: ['redshift']\n",
      "Bigram: []\n",
      "Trigram: []\n"
     ]
    }
   ],
   "source": [
    "test_skill(df_ds, job_no, 'ISO')"
   ]
  },
  {
   "cell_type": "code",
   "execution_count": 158,
   "metadata": {},
   "outputs": [
    {
     "data": {
      "text/html": [
       "<div>\n",
       "<style scoped>\n",
       "    .dataframe tbody tr th:only-of-type {\n",
       "        vertical-align: middle;\n",
       "    }\n",
       "\n",
       "    .dataframe tbody tr th {\n",
       "        vertical-align: top;\n",
       "    }\n",
       "\n",
       "    .dataframe thead th {\n",
       "        text-align: right;\n",
       "    }\n",
       "</style>\n",
       "<table border=\"1\" class=\"dataframe\">\n",
       "  <thead>\n",
       "    <tr style=\"text-align: right;\">\n",
       "      <th></th>\n",
       "      <th>Id_x</th>\n",
       "      <th>Skill</th>\n",
       "      <th>DomainId</th>\n",
       "      <th>Id_y</th>\n",
       "      <th>Domain</th>\n",
       "    </tr>\n",
       "  </thead>\n",
       "  <tbody>\n",
       "    <tr>\n",
       "      <th>0</th>\n",
       "      <td>269</td>\n",
       "      <td>Microsoft PowerPoint</td>\n",
       "      <td>2</td>\n",
       "      <td>2</td>\n",
       "      <td>Business</td>\n",
       "    </tr>\n",
       "    <tr>\n",
       "      <th>1</th>\n",
       "      <td>313</td>\n",
       "      <td>Power Management</td>\n",
       "      <td>2</td>\n",
       "      <td>2</td>\n",
       "      <td>Business</td>\n",
       "    </tr>\n",
       "    <tr>\n",
       "      <th>2</th>\n",
       "      <td>314</td>\n",
       "      <td>PowerPoint</td>\n",
       "      <td>2</td>\n",
       "      <td>2</td>\n",
       "      <td>Business</td>\n",
       "    </tr>\n",
       "    <tr>\n",
       "      <th>3</th>\n",
       "      <td>915</td>\n",
       "      <td>Powershell</td>\n",
       "      <td>3</td>\n",
       "      <td>3</td>\n",
       "      <td>Computer Science</td>\n",
       "    </tr>\n",
       "    <tr>\n",
       "      <th>4</th>\n",
       "      <td>1401</td>\n",
       "      <td>Microsoft Power BI</td>\n",
       "      <td>4</td>\n",
       "      <td>4</td>\n",
       "      <td>Data Science</td>\n",
       "    </tr>\n",
       "    <tr>\n",
       "      <th>5</th>\n",
       "      <td>2692</td>\n",
       "      <td>Power Systems Engineering</td>\n",
       "      <td>0</td>\n",
       "      <td>0</td>\n",
       "      <td>Applied Science</td>\n",
       "    </tr>\n",
       "    <tr>\n",
       "      <th>6</th>\n",
       "      <td>3071</td>\n",
       "      <td>Purchasing Power Parity (PPP)</td>\n",
       "      <td>8</td>\n",
       "      <td>8</td>\n",
       "      <td>Social Science</td>\n",
       "    </tr>\n",
       "  </tbody>\n",
       "</table>\n",
       "</div>"
      ],
      "text/plain": [
       "   Id_x                          Skill  DomainId  Id_y            Domain\n",
       "0   269           Microsoft PowerPoint         2     2          Business\n",
       "1   313               Power Management         2     2          Business\n",
       "2   314                     PowerPoint         2     2          Business\n",
       "3   915                     Powershell         3     3  Computer Science\n",
       "4  1401             Microsoft Power BI         4     4      Data Science\n",
       "5  2692      Power Systems Engineering         0     0   Applied Science\n",
       "6  3071  Purchasing Power Parity (PPP)         8     8    Social Science"
      ]
     },
     "execution_count": 158,
     "metadata": {},
     "output_type": "execute_result"
    }
   ],
   "source": [
    "check_skill('Power')"
   ]
  },
  {
   "cell_type": "code",
   "execution_count": null,
   "metadata": {},
   "outputs": [],
   "source": []
  }
 ],
 "metadata": {
  "kernelspec": {
   "display_name": "Python 3",
   "language": "python",
   "name": "python3"
  },
  "language_info": {
   "codemirror_mode": {
    "name": "ipython",
    "version": 3
   },
   "file_extension": ".py",
   "mimetype": "text/x-python",
   "name": "python",
   "nbconvert_exporter": "python",
   "pygments_lexer": "ipython3",
   "version": "3.7.6"
  }
 },
 "nbformat": 4,
 "nbformat_minor": 4
}
