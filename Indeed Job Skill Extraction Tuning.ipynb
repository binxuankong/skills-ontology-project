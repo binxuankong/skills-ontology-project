{
 "cells": [
  {
   "cell_type": "code",
   "execution_count": 14,
   "metadata": {},
   "outputs": [],
   "source": [
    "import pandas as pd\n",
    "import re\n",
    "from nltk import ngrams\n",
    "from difflib import get_close_matches as gcm"
   ]
  },
  {
   "cell_type": "code",
   "execution_count": 2,
   "metadata": {},
   "outputs": [
    {
     "data": {
      "text/html": [
       "<div>\n",
       "<style scoped>\n",
       "    .dataframe tbody tr th:only-of-type {\n",
       "        vertical-align: middle;\n",
       "    }\n",
       "\n",
       "    .dataframe tbody tr th {\n",
       "        vertical-align: top;\n",
       "    }\n",
       "\n",
       "    .dataframe thead th {\n",
       "        text-align: right;\n",
       "    }\n",
       "</style>\n",
       "<table border=\"1\" class=\"dataframe\">\n",
       "  <thead>\n",
       "    <tr style=\"text-align: right;\">\n",
       "      <th></th>\n",
       "      <th>title</th>\n",
       "      <th>company</th>\n",
       "      <th>country</th>\n",
       "      <th>date_posted</th>\n",
       "      <th>description</th>\n",
       "      <th>title_keywords</th>\n",
       "      <th>indeed_skills</th>\n",
       "      <th>skills</th>\n",
       "      <th>no_skills</th>\n",
       "    </tr>\n",
       "  </thead>\n",
       "  <tbody>\n",
       "    <tr>\n",
       "      <th>0</th>\n",
       "      <td>Data Scientist</td>\n",
       "      <td>Mission Consultancy Services Malaysia Sdn Bhd</td>\n",
       "      <td>Malaysia</td>\n",
       "      <td>2020-07-26</td>\n",
       "      <td>Identify valuable data sources and automate co...</td>\n",
       "      <td>NaN</td>\n",
       "      <td>'C', 'C++', 'Excel', 'Hadoop', 'Java', 'R', 'S...</td>\n",
       "      <td>['Business', 'Analytical', 'Communication', 'D...</td>\n",
       "      <td>27</td>\n",
       "    </tr>\n",
       "    <tr>\n",
       "      <th>1</th>\n",
       "      <td>Data Scientist</td>\n",
       "      <td>AirAsia</td>\n",
       "      <td>Malaysia</td>\n",
       "      <td>2020-08-15</td>\n",
       "      <td>Job DescriptionOverviewThis role will responsi...</td>\n",
       "      <td>NaN</td>\n",
       "      <td>'C', 'R'</td>\n",
       "      <td>['Business', 'Accuracy', 'Processing', 'Produc...</td>\n",
       "      <td>21</td>\n",
       "    </tr>\n",
       "    <tr>\n",
       "      <th>2</th>\n",
       "      <td>Data Scientist</td>\n",
       "      <td>CareerMaster Sdn Bhd</td>\n",
       "      <td>Malaysia</td>\n",
       "      <td>2020-07-26</td>\n",
       "      <td>Position to be based in Kuala Lumpur.We are re...</td>\n",
       "      <td>NaN</td>\n",
       "      <td>'C', 'GIS', 'Go', 'Python', 'R', 'SQL', 'Stati...</td>\n",
       "      <td>['Business', 'Computer Science', 'Microsoft', ...</td>\n",
       "      <td>30</td>\n",
       "    </tr>\n",
       "    <tr>\n",
       "      <th>3</th>\n",
       "      <td>Data Scientist Executive</td>\n",
       "      <td>GENO Management</td>\n",
       "      <td>Malaysia</td>\n",
       "      <td>2020-08-18</td>\n",
       "      <td>Position : Data Scientists ExecutiveLocation :...</td>\n",
       "      <td>NaN</td>\n",
       "      <td>'AWS', 'C', 'Go', 'Python', 'R', 'Regression',...</td>\n",
       "      <td>['Business', 'Data Science', 'Analytical', 'Bu...</td>\n",
       "      <td>39</td>\n",
       "    </tr>\n",
       "    <tr>\n",
       "      <th>4</th>\n",
       "      <td>Data Scientist</td>\n",
       "      <td>PLUS SOLAR SYSTEMS SDN BHD</td>\n",
       "      <td>Malaysia</td>\n",
       "      <td>2020-07-26</td>\n",
       "      <td>Work With Stakeholders Throughout The Organiza...</td>\n",
       "      <td>NaN</td>\n",
       "      <td>'C'</td>\n",
       "      <td>['Business', 'Accuracy', 'Development', 'Marke...</td>\n",
       "      <td>9</td>\n",
       "    </tr>\n",
       "  </tbody>\n",
       "</table>\n",
       "</div>"
      ],
      "text/plain": [
       "                      title                                        company  \\\n",
       "0            Data Scientist  Mission Consultancy Services Malaysia Sdn Bhd   \n",
       "1            Data Scientist                                        AirAsia   \n",
       "2            Data Scientist                           CareerMaster Sdn Bhd   \n",
       "3  Data Scientist Executive                                GENO Management   \n",
       "4            Data Scientist                     PLUS SOLAR SYSTEMS SDN BHD   \n",
       "\n",
       "    country date_posted                                        description  \\\n",
       "0  Malaysia  2020-07-26  Identify valuable data sources and automate co...   \n",
       "1  Malaysia  2020-08-15  Job DescriptionOverviewThis role will responsi...   \n",
       "2  Malaysia  2020-07-26  Position to be based in Kuala Lumpur.We are re...   \n",
       "3  Malaysia  2020-08-18  Position : Data Scientists ExecutiveLocation :...   \n",
       "4  Malaysia  2020-07-26  Work With Stakeholders Throughout The Organiza...   \n",
       "\n",
       "  title_keywords                                      indeed_skills  \\\n",
       "0            NaN  'C', 'C++', 'Excel', 'Hadoop', 'Java', 'R', 'S...   \n",
       "1            NaN                                           'C', 'R'   \n",
       "2            NaN  'C', 'GIS', 'Go', 'Python', 'R', 'SQL', 'Stati...   \n",
       "3            NaN  'AWS', 'C', 'Go', 'Python', 'R', 'Regression',...   \n",
       "4            NaN                                                'C'   \n",
       "\n",
       "                                              skills  no_skills  \n",
       "0  ['Business', 'Analytical', 'Communication', 'D...         27  \n",
       "1  ['Business', 'Accuracy', 'Processing', 'Produc...         21  \n",
       "2  ['Business', 'Computer Science', 'Microsoft', ...         30  \n",
       "3  ['Business', 'Data Science', 'Analytical', 'Bu...         39  \n",
       "4  ['Business', 'Accuracy', 'Development', 'Marke...          9  "
      ]
     },
     "execution_count": 2,
     "metadata": {},
     "output_type": "execute_result"
    }
   ],
   "source": [
    "df_ds = pd.read_csv('indeed-insights/data_scientist.csv')\n",
    "df_ds.head()"
   ]
  },
  {
   "cell_type": "code",
   "execution_count": 16,
   "metadata": {},
   "outputs": [
    {
     "data": {
      "text/html": [
       "<div>\n",
       "<style scoped>\n",
       "    .dataframe tbody tr th:only-of-type {\n",
       "        vertical-align: middle;\n",
       "    }\n",
       "\n",
       "    .dataframe tbody tr th {\n",
       "        vertical-align: top;\n",
       "    }\n",
       "\n",
       "    .dataframe thead th {\n",
       "        text-align: right;\n",
       "    }\n",
       "</style>\n",
       "<table border=\"1\" class=\"dataframe\">\n",
       "  <thead>\n",
       "    <tr style=\"text-align: right;\">\n",
       "      <th></th>\n",
       "      <th>skill_id</th>\n",
       "      <th>skill</th>\n",
       "    </tr>\n",
       "  </thead>\n",
       "  <tbody>\n",
       "    <tr>\n",
       "      <th>0</th>\n",
       "      <td>1</td>\n",
       "      <td>Applied Science</td>\n",
       "    </tr>\n",
       "    <tr>\n",
       "      <th>1</th>\n",
       "      <td>2</td>\n",
       "      <td>Arts and Humanities</td>\n",
       "    </tr>\n",
       "    <tr>\n",
       "      <th>2</th>\n",
       "      <td>3</td>\n",
       "      <td>Business</td>\n",
       "    </tr>\n",
       "    <tr>\n",
       "      <th>3</th>\n",
       "      <td>4</td>\n",
       "      <td>Computer Science</td>\n",
       "    </tr>\n",
       "    <tr>\n",
       "      <th>4</th>\n",
       "      <td>5</td>\n",
       "      <td>Data Science</td>\n",
       "    </tr>\n",
       "  </tbody>\n",
       "</table>\n",
       "</div>"
      ],
      "text/plain": [
       "   skill_id                skill\n",
       "0         1      Applied Science\n",
       "1         2  Arts and Humanities\n",
       "2         3             Business\n",
       "3         4     Computer Science\n",
       "4         5         Data Science"
      ]
     },
     "execution_count": 16,
     "metadata": {},
     "output_type": "execute_result"
    }
   ],
   "source": [
    "skills = pd.read_csv('skills_db2/skill.csv')\n",
    "skills.head()"
   ]
  },
  {
   "cell_type": "code",
   "execution_count": 25,
   "metadata": {},
   "outputs": [],
   "source": [
    "def print_job(df, i):\n",
    "    row = df.loc[i]\n",
    "    print('Title:', row['title'])\n",
    "    print('Description:', row['description'])\n",
    "    print('Indeed Skills:', row['indeed_skills'])\n",
    "    \n",
    "def test_extract(df, i):\n",
    "    row = df.loc[i]\n",
    "    info = row['title'] + ' ' + row['description']\n",
    "    skills = extract_skills(info)\n",
    "    skills.sort()\n",
    "    print(skills)\n",
    "\n",
    "def extract_skills(info):\n",
    "    # Remove ordered list with alphabets: a), b), c),...\n",
    "    words = re.sub(r'[\\s\\t\\n]+[a-zA-Z\\s*]\\)+', ' ', info)\n",
    "    words = re.sub('[\\n|,|.|/|\\(|\\)]', ' ', words).lower().split()\n",
    "    bigrams = [' '.join(g) for g in ngrams(words, 2)]\n",
    "    trigrams = [' '.join(g) for g in ngrams(words, 3)]\n",
    "    results = []\n",
    "    for skill in skills['skill'].unique().tolist():\n",
    "        s = skill.lower()\n",
    "        if '(' in s:\n",
    "            abb = s[s.find(\"(\")+1:s.find(\")\")]\n",
    "            if abb in info:\n",
    "                continue\n",
    "            s = re.sub(r\"[\\(].*?[\\)]\", \"\", s)\n",
    "        s2 = s.split()\n",
    "        if len(s2) == 1:\n",
    "            if len(gcm(s, words, cutoff=0.9)) > 0:\n",
    "                results.append(skill)\n",
    "        elif len(s2) == 2:\n",
    "            if len(gcm(s, bigrams, cutoff=0.9)) > 0:\n",
    "                results.append(skill)\n",
    "        elif len(s2) == 3:\n",
    "            if len(gcm(s, trigrams, cutoff=0.85)) > 0:\n",
    "                results.append(skill)\n",
    "        else:\n",
    "            if len(gcm(s, trigrams, cutoff=0.8)) > 0:\n",
    "                results.append(skill)\n",
    "    return results"
   ]
  },
  {
   "cell_type": "code",
   "execution_count": 24,
   "metadata": {},
   "outputs": [
    {
     "name": "stdout",
     "output_type": "stream",
     "text": [
      "Title: Data Scientist\n",
      "Description: Identify valuable data sources and automate collection processesUndertake pre-processing of structured and unstructured dataAnalyze large amount of information to discover trends and patternsBuild predictive models, graph analytics, machine-learning and deep-learning algorithmsCombine models through ensemble modelingPresent information using data visualization techniquesPropose solutions and strategies to business challengesCollaborate with engineering and product development teamsRequirementsProven experience as a Data Scientist or Data AnalystExperience in data miningUnderstanding of machine-learning, advances analytics and operations researchKnowledge of R, SQL, and Pghyton; familiarity with Big Data, Java, Spark , or C++ is an assetExperience using business intelligence tools (e.g Tableau) and data frameworks (e.g Hadoop)Analytical mind and business acumenStrong math skills (e.g statistics, algebra, ) Problem solving attitudeExcellence communication and presentation skillsJob Types: Full-time, ContractSalary: RM7,972.00 - RM10,022.00 per month\n",
      "Indeed Skills: 'C', 'C++', 'Excel', 'Hadoop', 'Java', 'R', 'SQL', 'Tableau'\n"
     ]
    }
   ],
   "source": [
    "print_job(df_ds, 0)"
   ]
  },
  {
   "cell_type": "code",
   "execution_count": 26,
   "metadata": {},
   "outputs": [
    {
     "name": "stdout",
     "output_type": "stream",
     "text": [
      "['Algebra', 'Analytical', 'Big Data', 'Business', 'Business Intelligence', 'Business Intelligence Testing', 'Business Intelligence Tool', 'C++', 'Communication', 'Data', 'Data Visualization', 'Development', 'Engineering', 'Ensemble', 'Graph', 'Hadoop', 'Java', 'Operations', 'Presentation', 'Problem Solving', 'Product', 'Product Development', 'R', 'Spark', 'Statistics', 'Tableau', 'Visualization']\n"
     ]
    }
   ],
   "source": [
    "test_extract(df_ds, 0)"
   ]
  },
  {
   "cell_type": "code",
   "execution_count": null,
   "metadata": {},
   "outputs": [],
   "source": []
  }
 ],
 "metadata": {
  "kernelspec": {
   "display_name": "Python 3",
   "language": "python",
   "name": "python3"
  },
  "language_info": {
   "codemirror_mode": {
    "name": "ipython",
    "version": 3
   },
   "file_extension": ".py",
   "mimetype": "text/x-python",
   "name": "python",
   "nbconvert_exporter": "python",
   "pygments_lexer": "ipython3",
   "version": "3.7.6"
  }
 },
 "nbformat": 4,
 "nbformat_minor": 4
}
