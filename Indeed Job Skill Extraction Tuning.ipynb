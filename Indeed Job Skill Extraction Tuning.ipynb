{
 "cells": [
  {
   "cell_type": "code",
   "execution_count": 28,
   "metadata": {},
   "outputs": [],
   "source": [
    "import pandas as pd\n",
    "import re\n",
    "import random\n",
    "import nltk\n",
    "from nltk import ngrams\n",
    "from difflib import get_close_matches as gcm"
   ]
  },
  {
   "cell_type": "code",
   "execution_count": 2,
   "metadata": {},
   "outputs": [
    {
     "data": {
      "text/html": [
       "<div>\n",
       "<style scoped>\n",
       "    .dataframe tbody tr th:only-of-type {\n",
       "        vertical-align: middle;\n",
       "    }\n",
       "\n",
       "    .dataframe tbody tr th {\n",
       "        vertical-align: top;\n",
       "    }\n",
       "\n",
       "    .dataframe thead th {\n",
       "        text-align: right;\n",
       "    }\n",
       "</style>\n",
       "<table border=\"1\" class=\"dataframe\">\n",
       "  <thead>\n",
       "    <tr style=\"text-align: right;\">\n",
       "      <th></th>\n",
       "      <th>title</th>\n",
       "      <th>company</th>\n",
       "      <th>country</th>\n",
       "      <th>date_posted</th>\n",
       "      <th>description</th>\n",
       "      <th>title_keywords</th>\n",
       "      <th>indeed_skills</th>\n",
       "      <th>skills</th>\n",
       "      <th>no_skills</th>\n",
       "    </tr>\n",
       "  </thead>\n",
       "  <tbody>\n",
       "    <tr>\n",
       "      <th>0</th>\n",
       "      <td>Data Scientist</td>\n",
       "      <td>Mission Consultancy Services Malaysia Sdn Bhd</td>\n",
       "      <td>Malaysia</td>\n",
       "      <td>2020-07-26</td>\n",
       "      <td>Identify valuable data sources and automate co...</td>\n",
       "      <td>NaN</td>\n",
       "      <td>'C', 'C++', 'Excel', 'Hadoop', 'Java', 'R', 'S...</td>\n",
       "      <td>['Business', 'Analytical', 'Communication', 'D...</td>\n",
       "      <td>27</td>\n",
       "    </tr>\n",
       "    <tr>\n",
       "      <th>1</th>\n",
       "      <td>Data Scientist</td>\n",
       "      <td>AirAsia</td>\n",
       "      <td>Malaysia</td>\n",
       "      <td>2020-08-15</td>\n",
       "      <td>Job DescriptionOverviewThis role will responsi...</td>\n",
       "      <td>NaN</td>\n",
       "      <td>'C', 'R'</td>\n",
       "      <td>['Business', 'Accuracy', 'Processing', 'Produc...</td>\n",
       "      <td>21</td>\n",
       "    </tr>\n",
       "    <tr>\n",
       "      <th>2</th>\n",
       "      <td>Data Scientist</td>\n",
       "      <td>CareerMaster Sdn Bhd</td>\n",
       "      <td>Malaysia</td>\n",
       "      <td>2020-07-26</td>\n",
       "      <td>Position to be based in Kuala Lumpur.We are re...</td>\n",
       "      <td>NaN</td>\n",
       "      <td>'C', 'GIS', 'Go', 'Python', 'R', 'SQL', 'Stati...</td>\n",
       "      <td>['Business', 'Computer Science', 'Microsoft', ...</td>\n",
       "      <td>30</td>\n",
       "    </tr>\n",
       "    <tr>\n",
       "      <th>3</th>\n",
       "      <td>Data Scientist Executive</td>\n",
       "      <td>GENO Management</td>\n",
       "      <td>Malaysia</td>\n",
       "      <td>2020-08-18</td>\n",
       "      <td>Position : Data Scientists ExecutiveLocation :...</td>\n",
       "      <td>NaN</td>\n",
       "      <td>'AWS', 'C', 'Go', 'Python', 'R', 'Regression',...</td>\n",
       "      <td>['Business', 'Data Science', 'Analytical', 'Bu...</td>\n",
       "      <td>39</td>\n",
       "    </tr>\n",
       "    <tr>\n",
       "      <th>4</th>\n",
       "      <td>Data Scientist</td>\n",
       "      <td>PLUS SOLAR SYSTEMS SDN BHD</td>\n",
       "      <td>Malaysia</td>\n",
       "      <td>2020-07-26</td>\n",
       "      <td>Work With Stakeholders Throughout The Organiza...</td>\n",
       "      <td>NaN</td>\n",
       "      <td>'C'</td>\n",
       "      <td>['Business', 'Accuracy', 'Development', 'Marke...</td>\n",
       "      <td>9</td>\n",
       "    </tr>\n",
       "  </tbody>\n",
       "</table>\n",
       "</div>"
      ],
      "text/plain": [
       "                      title                                        company  \\\n",
       "0            Data Scientist  Mission Consultancy Services Malaysia Sdn Bhd   \n",
       "1            Data Scientist                                        AirAsia   \n",
       "2            Data Scientist                           CareerMaster Sdn Bhd   \n",
       "3  Data Scientist Executive                                GENO Management   \n",
       "4            Data Scientist                     PLUS SOLAR SYSTEMS SDN BHD   \n",
       "\n",
       "    country date_posted                                        description  \\\n",
       "0  Malaysia  2020-07-26  Identify valuable data sources and automate co...   \n",
       "1  Malaysia  2020-08-15  Job DescriptionOverviewThis role will responsi...   \n",
       "2  Malaysia  2020-07-26  Position to be based in Kuala Lumpur.We are re...   \n",
       "3  Malaysia  2020-08-18  Position : Data Scientists ExecutiveLocation :...   \n",
       "4  Malaysia  2020-07-26  Work With Stakeholders Throughout The Organiza...   \n",
       "\n",
       "  title_keywords                                      indeed_skills  \\\n",
       "0            NaN  'C', 'C++', 'Excel', 'Hadoop', 'Java', 'R', 'S...   \n",
       "1            NaN                                           'C', 'R'   \n",
       "2            NaN  'C', 'GIS', 'Go', 'Python', 'R', 'SQL', 'Stati...   \n",
       "3            NaN  'AWS', 'C', 'Go', 'Python', 'R', 'Regression',...   \n",
       "4            NaN                                                'C'   \n",
       "\n",
       "                                              skills  no_skills  \n",
       "0  ['Business', 'Analytical', 'Communication', 'D...         27  \n",
       "1  ['Business', 'Accuracy', 'Processing', 'Produc...         21  \n",
       "2  ['Business', 'Computer Science', 'Microsoft', ...         30  \n",
       "3  ['Business', 'Data Science', 'Analytical', 'Bu...         39  \n",
       "4  ['Business', 'Accuracy', 'Development', 'Marke...          9  "
      ]
     },
     "execution_count": 2,
     "metadata": {},
     "output_type": "execute_result"
    }
   ],
   "source": [
    "df_ds = pd.read_csv('indeed-insights/data_scientist.csv')\n",
    "df_ds.head()"
   ]
  },
  {
   "cell_type": "code",
   "execution_count": 4,
   "metadata": {},
   "outputs": [
    {
     "data": {
      "text/plain": [
       "3130"
      ]
     },
     "execution_count": 4,
     "metadata": {},
     "output_type": "execute_result"
    }
   ],
   "source": [
    "df_skills = pd.read_csv('skills_db2/skill.csv')\n",
    "SKILLS = df_skills['Skill'].unique().tolist()\n",
    "len(SKILLS)"
   ]
  },
  {
   "cell_type": "code",
   "execution_count": 121,
   "metadata": {},
   "outputs": [],
   "source": [
    "df_domains = pd.read_csv('skills_db2/domain.csv')"
   ]
  },
  {
   "cell_type": "code",
   "execution_count": 5,
   "metadata": {},
   "outputs": [
    {
     "data": {
      "text/plain": [
       "42"
      ]
     },
     "execution_count": 5,
     "metadata": {},
     "output_type": "execute_result"
    }
   ],
   "source": [
    "df_redskills = pd.read_excel('skills/Redundant Skills.xlsx')\n",
    "RED_SKILLS = df_redskills['Skill'].unique().tolist()\n",
    "len(RED_SKILLS)"
   ]
  },
  {
   "cell_type": "code",
   "execution_count": 122,
   "metadata": {},
   "outputs": [],
   "source": [
    "def print_job(df, i):\n",
    "    row = df.loc[i]\n",
    "    print('Title:', row['title'])\n",
    "    print('Description:', row['description'])\n",
    "    print('Indeed Skills:', row['indeed_skills'])\n",
    "    \n",
    "def test_extract(df, i):\n",
    "    row = df.loc[i]\n",
    "    info = row['title'] + ' ' + row['description']\n",
    "    all_skills = extract_skills(info)\n",
    "    job_skills, ignore_skills = extract_ignore(all_skills)\n",
    "    job_skills.sort()\n",
    "    ignore_skills.sort()\n",
    "    print('Skills:', job_skills)\n",
    "    print()\n",
    "    print('Ignore:', ignore_skills)\n",
    "\n",
    "def test_skill(df, i, skill, threshold=0.9):\n",
    "    row = df.loc[i]\n",
    "    info = row['title'] + ' ' + row['description']\n",
    "    _, words, bigrams, trigrams = clean_info(info)\n",
    "    results = []\n",
    "    s = skill.lower()\n",
    "    print('Unigram: {}'.format(gcm(s, words, cutoff=threshold)))\n",
    "    print('Bigram: {}'.format(gcm(s, bigrams, cutoff=threshold)))\n",
    "    print('Trigram: {}'.format(gcm(s, trigrams, cutoff=threshold)))\n",
    "    \n",
    "def extract_skills(info, threshold=0.9):\n",
    "    words, unigrams, bigrams, trigrams = clean_info(info)\n",
    "    results = []\n",
    "    for skill in SKILLS:\n",
    "        s = skill\n",
    "        if '(' in s:\n",
    "            abb = s[s.find(\"(\")+1:s.find(\")\")]\n",
    "            if abb in words:\n",
    "                results.append(skill)\n",
    "                continue\n",
    "            s = re.sub(r\"[\\(].*?[\\)]\", \"\", s)\n",
    "        s = s.lower()\n",
    "        s2 = s.split()\n",
    "        if len(s2) == 1:\n",
    "            if len(gcm(s, unigrams, cutoff=threshold)) > 0:\n",
    "                results.append(skill)\n",
    "        elif len(s2) == 2:\n",
    "            if len(gcm(s, bigrams, cutoff=threshold)) > 0:\n",
    "                results.append(skill)\n",
    "        elif len(s2) == 3:\n",
    "            if len(gcm(s, trigrams, cutoff=threshold)) > 0:\n",
    "                results.append(skill)\n",
    "        else:\n",
    "            if len(gcm(s, trigrams, cutoff=threshold)) > 0:\n",
    "                results.append(skill)\n",
    "    return results\n",
    "\n",
    "def extract_ignore(skills):\n",
    "    ignore_skills = []\n",
    "    for j, skill in enumerate(skills):\n",
    "        if skill in RED_SKILLS:\n",
    "            ignore_skills.append(skill)\n",
    "        else:\n",
    "            for other in skills[:j] + skills[j+1:]:\n",
    "                if skill in other:\n",
    "                    if find_whole_word(skill, other):\n",
    "                        ignore_skills.append(skill)\n",
    "                        break\n",
    "    job_skills = [s for s in skills if s not in ignore_skills]\n",
    "    return job_skills, ignore_skills\n",
    "\n",
    "def clean_info(info):\n",
    "    # Remove ordered list with alphabets: a), b), c),...\n",
    "    words = re.sub(r'[\\s\\t\\n|.|\\(]+[a-zA-Z\\s*][.|\\)]+', ' ', info)\n",
    "    words = re.sub('[\\n|,|.|:|;|\\-|/|\\(|\\)|\\[|\\]]', ' ', words)\n",
    "    # words = [word.strip() for word in words]\n",
    "    # words = nltk.word_tokenize(info)\n",
    "    # unigrams = nltk.word_tokenize(info.lower())\n",
    "    unigrams = words.lower().split()\n",
    "    bigrams = [' '.join(g) for g in ngrams(unigrams, 2)]\n",
    "    trigrams = [' '.join(g) for g in ngrams(unigrams, 3)]\n",
    "    return words.split(), unigrams, bigrams, trigrams\n",
    "\n",
    "def check_skill(skill):\n",
    "    return df_skills.loc[df_skills['Skill'].str.contains(skill)].merge(df_domains, left_on='DomainId', right_on='Id')\n",
    "\n",
    "def find_whole_word(search_string, input_string):\n",
    "    raw_search_string = r\"\\b\" + search_string + r\"\\b\"\n",
    "    match_output = re.search(raw_search_string, input_string)\n",
    "    no_match_was_found = ( match_output is None )\n",
    "    if no_match_was_found:\n",
    "        return False\n",
    "    else:\n",
    "        return True"
   ]
  },
  {
   "cell_type": "code",
   "execution_count": 143,
   "metadata": {},
   "outputs": [
    {
     "data": {
      "text/plain": [
       "991"
      ]
     },
     "execution_count": 143,
     "metadata": {},
     "output_type": "execute_result"
    }
   ],
   "source": [
    "job_no = random.randint(0, len(df_ds))\n",
    "job_no"
   ]
  },
  {
   "cell_type": "code",
   "execution_count": 144,
   "metadata": {},
   "outputs": [],
   "source": [
    "a, b, c, d = clean_info(df_ds['description'][job_no])"
   ]
  },
  {
   "cell_type": "code",
   "execution_count": 145,
   "metadata": {},
   "outputs": [
    {
     "name": "stdout",
     "output_type": "stream",
     "text": [
      "Title: Associate Director of Sales, Ad Sales (Singapore)\n",
      "Description: Appier is a technology company which aims to provide artificial intelligence platforms to help enterprises solve their most challenging business problems. Appier was established in 2012 by a passionate team of computer scientists and engineers with expertise in AI, data analysis, distributed systems, and marketing.About the roleThe Sales Manager is responsible for selling and up-selling to new and existing clients and providing excellent service in support of team revenue goals in the local market.Task of the roleProactively contact new and existing clients and educate, propose and secure buy-in on Appier's ads solutionsIdentify, propose and sell programs to targeted organizations within the target markets/sectors set out by the companyDevelop an understanding of client's business, products, services, customer profile, marketing and business objectives, competitors and sales.Manage individual sales pipeline to maximize individual sales revenue while providing accurate and timely forecastsProvide excellent level of professionalism and service in responding to general and customized client requestsBe an influencer in digital marketing to businesses in the local marketStrong consultative sales approach to engage with CMOs/Head of Marketing to manage existing growthDevelop strategic relationships by identifying key new business opportunitiesAbout youA bachelor's Degree/Diploma in Business or a related field preferredAt least 8 years of experiences in digital media salesCreative, problem solver with ability and experience in understanding needs of customers and delivering innovative solutionsGood understanding on Digital & Mobile marketing industryOutstanding written, communication and selling skills in both local language and EnglishExcellent negotiation skills with a proven track record of sales successGood interpersonal skills, initiative and follow throughStrong connection and relationships with local advertisers and media agenciesAbility to \"translate\" complex technology processes into meaningful solutions that address business needsAble to handle multiple priorities simultaneously\n",
      "Indeed Skills: 'C', 'Excel', 'Go'\n"
     ]
    }
   ],
   "source": [
    "print_job(df_ds, job_no)"
   ]
  },
  {
   "cell_type": "code",
   "execution_count": 146,
   "metadata": {},
   "outputs": [
    {
     "name": "stdout",
     "output_type": "stream",
     "text": [
      "Skills: ['Artificial Intelligence (AI)', 'Big Data Analysis', 'Communication', 'Digital Marketing', 'Digital Media', 'Distributed System', 'Market', 'Mobile Marketing', 'Negotiation', 'Platform', 'Profiler', 'Sales']\n",
      "\n",
      "Ignore: ['Data', 'Data Analysis', 'Language', 'Marketing', 'Media', 'Product', 'Service', 'Set', 'Support']\n"
     ]
    }
   ],
   "source": [
    "test_extract(df_ds, job_no)"
   ]
  },
  {
   "cell_type": "code",
   "execution_count": 130,
   "metadata": {},
   "outputs": [
    {
     "name": "stdout",
     "output_type": "stream",
     "text": [
      "Unigram: ['redshift']\n",
      "Bigram: []\n",
      "Trigram: []\n"
     ]
    }
   ],
   "source": [
    "test_skill(df_ds, job_no, 'Redshift')"
   ]
  },
  {
   "cell_type": "code",
   "execution_count": 142,
   "metadata": {},
   "outputs": [
    {
     "data": {
      "text/html": [
       "<div>\n",
       "<style scoped>\n",
       "    .dataframe tbody tr th:only-of-type {\n",
       "        vertical-align: middle;\n",
       "    }\n",
       "\n",
       "    .dataframe tbody tr th {\n",
       "        vertical-align: top;\n",
       "    }\n",
       "\n",
       "    .dataframe thead th {\n",
       "        text-align: right;\n",
       "    }\n",
       "</style>\n",
       "<table border=\"1\" class=\"dataframe\">\n",
       "  <thead>\n",
       "    <tr style=\"text-align: right;\">\n",
       "      <th></th>\n",
       "      <th>Id_x</th>\n",
       "      <th>Skill</th>\n",
       "      <th>DomainId</th>\n",
       "      <th>Id_y</th>\n",
       "      <th>Domain</th>\n",
       "    </tr>\n",
       "  </thead>\n",
       "  <tbody>\n",
       "    <tr>\n",
       "      <th>0</th>\n",
       "      <td>1519</td>\n",
       "      <td>SAS Statistical Analysis</td>\n",
       "      <td>4</td>\n",
       "      <td>4</td>\n",
       "      <td>Data Science</td>\n",
       "    </tr>\n",
       "    <tr>\n",
       "      <th>1</th>\n",
       "      <td>1570</td>\n",
       "      <td>Statistical AI</td>\n",
       "      <td>4</td>\n",
       "      <td>4</td>\n",
       "      <td>Data Science</td>\n",
       "    </tr>\n",
       "    <tr>\n",
       "      <th>2</th>\n",
       "      <td>1571</td>\n",
       "      <td>Statistical Analysis</td>\n",
       "      <td>4</td>\n",
       "      <td>4</td>\n",
       "      <td>Data Science</td>\n",
       "    </tr>\n",
       "    <tr>\n",
       "      <th>3</th>\n",
       "      <td>1572</td>\n",
       "      <td>Statistical Hypothesis Testing</td>\n",
       "      <td>4</td>\n",
       "      <td>4</td>\n",
       "      <td>Data Science</td>\n",
       "    </tr>\n",
       "    <tr>\n",
       "      <th>4</th>\n",
       "      <td>1573</td>\n",
       "      <td>Statistical Model</td>\n",
       "      <td>4</td>\n",
       "      <td>4</td>\n",
       "      <td>Data Science</td>\n",
       "    </tr>\n",
       "    <tr>\n",
       "      <th>5</th>\n",
       "      <td>1574</td>\n",
       "      <td>Statistical Modelling</td>\n",
       "      <td>4</td>\n",
       "      <td>4</td>\n",
       "      <td>Data Science</td>\n",
       "    </tr>\n",
       "    <tr>\n",
       "      <th>6</th>\n",
       "      <td>1575</td>\n",
       "      <td>Statistical Semantic</td>\n",
       "      <td>4</td>\n",
       "      <td>4</td>\n",
       "      <td>Data Science</td>\n",
       "    </tr>\n",
       "    <tr>\n",
       "      <th>7</th>\n",
       "      <td>1576</td>\n",
       "      <td>Statistical Theory</td>\n",
       "      <td>4</td>\n",
       "      <td>4</td>\n",
       "      <td>Data Science</td>\n",
       "    </tr>\n",
       "    <tr>\n",
       "      <th>8</th>\n",
       "      <td>2825</td>\n",
       "      <td>Statistical Mechanis</td>\n",
       "      <td>7</td>\n",
       "      <td>7</td>\n",
       "      <td>Natural Science</td>\n",
       "    </tr>\n",
       "  </tbody>\n",
       "</table>\n",
       "</div>"
      ],
      "text/plain": [
       "   Id_x                           Skill  DomainId  Id_y           Domain\n",
       "0  1519        SAS Statistical Analysis         4     4     Data Science\n",
       "1  1570                  Statistical AI         4     4     Data Science\n",
       "2  1571            Statistical Analysis         4     4     Data Science\n",
       "3  1572  Statistical Hypothesis Testing         4     4     Data Science\n",
       "4  1573               Statistical Model         4     4     Data Science\n",
       "5  1574           Statistical Modelling         4     4     Data Science\n",
       "6  1575            Statistical Semantic         4     4     Data Science\n",
       "7  1576              Statistical Theory         4     4     Data Science\n",
       "8  2825            Statistical Mechanis         7     7  Natural Science"
      ]
     },
     "execution_count": 142,
     "metadata": {},
     "output_type": "execute_result"
    }
   ],
   "source": [
    "check_skill('Statistical')"
   ]
  },
  {
   "cell_type": "code",
   "execution_count": null,
   "metadata": {},
   "outputs": [],
   "source": []
  }
 ],
 "metadata": {
  "kernelspec": {
   "display_name": "Python 3",
   "language": "python",
   "name": "python3"
  },
  "language_info": {
   "codemirror_mode": {
    "name": "ipython",
    "version": 3
   },
   "file_extension": ".py",
   "mimetype": "text/x-python",
   "name": "python",
   "nbconvert_exporter": "python",
   "pygments_lexer": "ipython3",
   "version": "3.7.6"
  }
 },
 "nbformat": 4,
 "nbformat_minor": 4
}
