{
 "cells": [
  {
   "cell_type": "code",
   "execution_count": 69,
   "metadata": {},
   "outputs": [],
   "source": [
    "import pandas as pd\n",
    "import re\n",
    "import random\n",
    "import nltk\n",
    "from datetime import datetime as dt\n",
    "from nltk import ngrams\n",
    "from difflib import get_close_matches as gcm"
   ]
  },
  {
   "cell_type": "code",
   "execution_count": 70,
   "metadata": {},
   "outputs": [
    {
     "data": {
      "text/plain": [
       "2284"
      ]
     },
     "execution_count": 70,
     "metadata": {},
     "output_type": "execute_result"
    }
   ],
   "source": [
    "df_ds = pd.read_csv('indeed-insights/data_scientist.csv')\n",
    "len(df_ds)"
   ]
  },
  {
   "cell_type": "code",
   "execution_count": 71,
   "metadata": {},
   "outputs": [
    {
     "data": {
      "text/plain": [
       "3149"
      ]
     },
     "execution_count": 71,
     "metadata": {},
     "output_type": "execute_result"
    }
   ],
   "source": [
    "df_skills = pd.read_csv('skills_db2/skill.csv')\n",
    "SKILLS = df_skills['Skill'].unique().tolist()\n",
    "len(SKILLS)"
   ]
  },
  {
   "cell_type": "code",
   "execution_count": 72,
   "metadata": {},
   "outputs": [],
   "source": [
    "df_domains = pd.read_csv('skills_db2/domain.csv')"
   ]
  },
  {
   "cell_type": "code",
   "execution_count": 73,
   "metadata": {},
   "outputs": [
    {
     "data": {
      "text/plain": [
       "42"
      ]
     },
     "execution_count": 73,
     "metadata": {},
     "output_type": "execute_result"
    }
   ],
   "source": [
    "df_redskills = pd.read_excel('skills/Other Skills.xlsx')\n",
    "RED_SKILLS = df_redskills['Skill'].unique().tolist()\n",
    "len(RED_SKILLS)"
   ]
  },
  {
   "cell_type": "code",
   "execution_count": 74,
   "metadata": {},
   "outputs": [
    {
     "data": {
      "text/plain": [
       "3207"
      ]
     },
     "execution_count": 74,
     "metadata": {},
     "output_type": "execute_result"
    }
   ],
   "source": [
    "df_dupskills = pd.read_excel('skills/Other Skills.xlsx', sheet_name='Duplicates')\n",
    "DUP_SKILLS = df_dupskills.set_index('Skill').to_dict()['Parent']\n",
    "SKILLS.extend(list(DUP_SKILLS.keys()))\n",
    "len(SKILLS)"
   ]
  },
  {
   "cell_type": "code",
   "execution_count": 75,
   "metadata": {},
   "outputs": [],
   "source": [
    "def print_job(df, i):\n",
    "    row = df.loc[i]\n",
    "    print('Title:', row['title'])\n",
    "    print('Description:', row['description'])\n",
    "    print('Indeed Skills:', row['indeed_skills'])\n",
    "    \n",
    "def test_extract(df, i):\n",
    "    row = df.loc[i]\n",
    "    info = row['title'] + ' ' + row['description']\n",
    "    all_skills = extract_skills(info)\n",
    "    job_skills, ignore_skills = extract_ignore(all_skills)\n",
    "    job_skills.sort()\n",
    "    ignore_skills.sort()\n",
    "    print('Skills:', job_skills)\n",
    "    print()\n",
    "    print('Ignore:', ignore_skills)\n",
    "\n",
    "def test_skill(df, i, skill, threshold=0.9):\n",
    "    row = df.loc[i]\n",
    "    info = row['title'] + ' ' + row['description']\n",
    "    _, words, bigrams, trigrams = clean_info(info)\n",
    "    results = []\n",
    "    s = skill.lower()\n",
    "    print('Unigram: {}'.format(gcm(s, words, cutoff=threshold)))\n",
    "    print('Bigram: {}'.format(gcm(s, bigrams, cutoff=threshold)))\n",
    "    print('Trigram: {}'.format(gcm(s, trigrams, cutoff=threshold)))\n",
    "    \n",
    "def extract_skills(info, threshold=0.9):\n",
    "    words, unigrams, bigrams, trigrams = clean_info(info)\n",
    "    results = []\n",
    "    for skill in SKILLS:\n",
    "        s = skill\n",
    "        if '(' in s:\n",
    "            abb = s[s.find(\"(\")+1:s.find(\")\")]\n",
    "            if abb in words:\n",
    "                results.append(skill)\n",
    "                continue\n",
    "            s = re.sub(r\"[\\(].*?[\\)]\", \"\", s)\n",
    "        s = s.lower()\n",
    "        s2 = s.split()\n",
    "        if len(s2) == 1:\n",
    "            if len(gcm(s, unigrams, cutoff=threshold)) > 0:\n",
    "                results.append(skill)\n",
    "        elif len(s2) == 2:\n",
    "            if len(gcm(s, bigrams, cutoff=threshold)) > 0:\n",
    "                results.append(skill)\n",
    "        elif len(s2) == 3:\n",
    "            if len(gcm(s, trigrams, cutoff=threshold)) > 0:\n",
    "                results.append(skill)\n",
    "        else:\n",
    "            if len(gcm(s, trigrams, cutoff=threshold)) > 0:\n",
    "                results.append(skill)\n",
    "    return results\n",
    "\n",
    "def extract_ignore(skills):\n",
    "    ignore_skills = []\n",
    "    for j, skill in enumerate(skills):\n",
    "        if skill in RED_SKILLS:\n",
    "            ignore_skills.append(skill)\n",
    "            continue\n",
    "        for other in skills[:j] + skills[j+1:]:\n",
    "            if skill in other:\n",
    "                if find_whole_word(skill, other):\n",
    "                    ignore_skills.append(skill)\n",
    "                    break\n",
    "    job_skills = []\n",
    "    for skill in skills:\n",
    "        if skill not in ignore_skills:\n",
    "            if skill in DUP_SKILLS.keys():\n",
    "                skill = DUP_SKILLS[skill]\n",
    "            job_skills.append(skill)\n",
    "    return list(set(list(job_skills))), ignore_skills\n",
    "\n",
    "def clean_info(info):\n",
    "    # Remove ordered list with alphabets: a), b), c),...\n",
    "    words = re.sub(r'[\\s\\t\\n|.|\\(]+[a-zA-Z\\s*][.|\\)]+', ' ', info)\n",
    "    words = re.sub('[\\n|,|.|:|;|\\-|/|\\(|\\)|\\[|\\]]', ' ', words)\n",
    "    # words = [word.strip() for word in words]\n",
    "    # words = nltk.word_tokenize(info)\n",
    "    # unigrams = nltk.word_tokenize(info.lower())\n",
    "    unigrams = words.lower().split()\n",
    "    bigrams = [' '.join(g) for g in ngrams(unigrams, 2)]\n",
    "    trigrams = [' '.join(g) for g in ngrams(unigrams, 3)]\n",
    "    return words.split(), unigrams, bigrams, trigrams\n",
    "\n",
    "def check_skill(skill):\n",
    "    return df_skills.loc[df_skills['Skill'].str.contains(skill)].merge(df_domains, left_on='DomainId', right_on='Id')\n",
    "\n",
    "def find_whole_word(search_string, input_string):\n",
    "    raw_search_string = r\"\\b\" + search_string + r\"\\b\"\n",
    "    match_output = re.search(raw_search_string, input_string)\n",
    "    no_match_was_found = ( match_output is None )\n",
    "    if no_match_was_found:\n",
    "        return False\n",
    "    else:\n",
    "        return True"
   ]
  },
  {
   "cell_type": "code",
   "execution_count": 8,
   "metadata": {},
   "outputs": [
    {
     "data": {
      "text/plain": [
       "2150"
      ]
     },
     "execution_count": 8,
     "metadata": {},
     "output_type": "execute_result"
    }
   ],
   "source": [
    "job_no = random.randint(0, len(df_ds))\n",
    "job_no"
   ]
  },
  {
   "cell_type": "code",
   "execution_count": 9,
   "metadata": {},
   "outputs": [],
   "source": [
    "a, b, c, d = clean_info(df_ds['description'][job_no])"
   ]
  },
  {
   "cell_type": "code",
   "execution_count": 16,
   "metadata": {},
   "outputs": [
    {
     "name": "stdout",
     "output_type": "stream",
     "text": [
      "Title: Senior Data Scientist - Life & Health Regional Analytics Centre\n",
      "Description: [CANDIDATES WHO REQUIRE WORK PASSES NEED NOT APPLY]Big data, artificial intelligence and advanced analytics are transforming the insurance industry across the value chain. Munich Re is at the forefront of this trend, having made a significant investment in start-of-the-art analytics infrastructure and software, central and regional analytics centres of competence and several successful analytics initiatives with its clients worldwide.Munich Re has experienced exponential growth in demand for analytics pilots from its clients in life, non-life and health. An exciting opportunity exists for a senior data scientist with advanced analytics skills to join Munich Re’s regional analytics team located in Singapore. This team supports Munich Re’s Asia-Pacific, Middle East and Africa business life and health business region. As such you will work in an agile and innovative area, gaining exposure to a wide variety of business problems, other teams of Munich Re, clients and geographies.Using advanced analytics methods to derive actionable insights from existing and new sources of data, the role will contribute towards new services and business models. Predictive analytics applications will span the entire insurance value chain from transforming the customer experience during underwriting, cross-selling, pricing and experience analysis, lapse prevention through to claims management decisions. In this position you will cooperate closely with our clients, actuaries, underwriters, client managers, the IT department, other analytics teams worldwide including at our head office in Munich. You will apply Machine Learning (ML) and Deep Learning (DL) methods to interpret all types of data (structured, unstructured, images, etc.) and build solutions to and solve real problems our clients are facing today.Your jobYou will play a leading role in the execution of the full modeling cycle, including the integration of data, selection and application of predictive modeling techniques, model validation and deployment, presentation to and engagement with clients on results.We offer:The opportunity to be a data scientist in a vibrant, leading global reinsurance company with diverse data to enable innovative data analyticsDevelop insurance business solutions based upon insight discovered from dataActive participation in and management of projects in the fields of statistics, ML and DLSupporting and advising the business units in applying the latest research methods and providing a central source for specialized know-how, tools and techniques for data analyticsPresentation of statistical, ML and DL solutions to internal and external stakeholdersNetworking with already existing data-intensive units in the area of analysis and reporting, as well as with IT to form an analytics community.Collaborate with internal partners in Life and Health and the data analytics centre in Munich to leverage capabilities in big data technologyYour profilePreference for Master’s or Ph.D. in data science / advanced data analytics but other fields will be considered including statistics, applied mathematics, information technology, engineering, computer science, or a comparable discipline.Experience:More than 5 years of industry data science / AI / ML experienceProven experience managing analytics projects end to endVery good theoretical knowledge of AI, ML and DL methodsAt least 7 years hands-on coding in R, Python, SQL (e.g. ETL), etc.Proven experience overseeing data scientists teamsExperienced in carrying out exploratory data analysis, model development and visualization in Jupyter Notebooks (Python and R)Must have demonstrable experience in coding and applying traditional regressions (e.g. GLMs), ML (decision trees, random forest, boosted trees, etc.), natural language processing, DLVisualization in Power BI, D3.js, Dash, JavaScript, etc. is an advantageWorking on data science virtual machines on the cloud (Azure, AWS, etc.)Understanding of RESTful APIs and microservices is an advantageDemonstrable Kaggle / Git / analytics blogs and repos are an advantageExperience in insurance/reinsurance industry would be an advantage and specifically on the topics of underwriting and claims automation and fraud detectionStakeholder management:Working with multiple stakeholders across the analytics lifecycleStrong communication in:Documenting analytics results (e.g. MSWord, PowerPoint, Notebooks, etc.)Verbally explaining analytics concepts and results to non-technical audiences and domain experts and translating analytics results into business solutionsAbility to deliver under short but reasonable timelinesCapacity for innovation, entrepreneurial mindset, forward-looking, enjoy working in a teamGood command of English essentialWillingness to travel within Asia for short periods\n",
      "Indeed Skills: 'Azure', 'Machine Learning', 'Jupyter', 'JavaScript', 'Java', 'PowerPoint', 'Networking', 'ETL', 'Artificial Intelligence', 'D3', 'Golang', 'Python', 'Deep Learning', 'REST', 'Git', 'SQL', 'PowerBI', 'API', 'R', 'AWS', 'C'\n"
     ]
    }
   ],
   "source": [
    "print_job(df_ds, job_no)"
   ]
  },
  {
   "cell_type": "code",
   "execution_count": 24,
   "metadata": {},
   "outputs": [
    {
     "name": "stdout",
     "output_type": "stream",
     "text": [
      "Skills: ['Agile', 'Amazon Web Service (AWS)', 'Application Programming Interface (API)', 'Applied Mathematics', 'Artificial Intelligence (AI)', 'Automation', 'Big Data', 'Brand Management', 'Business Intelligence (BI)', 'Business Model', 'Coding', 'Communication', 'Customer Experience', 'D3.js', 'Dash', 'Data Analytics', 'Data Structure', 'Decision Tree', 'Deep Learning', 'Engineering', 'English', 'Exploratory Data Analysis', 'Extract Transform Load (ETL)', 'Git', 'Image', 'Innovation', 'Insurance', 'Interpreter', 'Investment', 'JavaScript', 'Jupyter Notebook', 'ML', 'Machine Learning', 'Microsoft Azure', 'Microsoft Power BI', 'Microsoft PowerPoint', 'Model Validation', 'Natural Language Processing (NLP)', 'Predictive Analytics', 'Predictive Modelling', 'Presentation', 'Python', 'R', 'RESTful API', 'Random Forest', 'Regression', 'Reporting', 'Research', 'Selection', 'Statistical Model', 'Statistics', 'Structured Query Language (SQL)', 'Translation', 'Underwriting', 'Virtual Machine', 'Visualization']\n",
      "\n",
      "Ignore: ['Analysis', 'Analytics', 'Application', 'Data', 'Data Analysis', 'Development', 'IPython', 'Industry', 'Jupyter', 'Language', 'Management', 'Mathematics', 'Modelling', 'Processing', 'Service', 'Support']\n"
     ]
    }
   ],
   "source": [
    "test_extract(df_ds, job_no)"
   ]
  },
  {
   "cell_type": "code",
   "execution_count": null,
   "metadata": {},
   "outputs": [],
   "source": [
    "test_skill(df_ds, job_no, 'ISO')"
   ]
  },
  {
   "cell_type": "code",
   "execution_count": 37,
   "metadata": {},
   "outputs": [
    {
     "data": {
      "text/html": [
       "<div>\n",
       "<style scoped>\n",
       "    .dataframe tbody tr th:only-of-type {\n",
       "        vertical-align: middle;\n",
       "    }\n",
       "\n",
       "    .dataframe tbody tr th {\n",
       "        vertical-align: top;\n",
       "    }\n",
       "\n",
       "    .dataframe thead th {\n",
       "        text-align: right;\n",
       "    }\n",
       "</style>\n",
       "<table border=\"1\" class=\"dataframe\">\n",
       "  <thead>\n",
       "    <tr style=\"text-align: right;\">\n",
       "      <th></th>\n",
       "      <th>Id_x</th>\n",
       "      <th>Skill</th>\n",
       "      <th>DomainId</th>\n",
       "      <th>Id_y</th>\n",
       "      <th>Domain</th>\n",
       "    </tr>\n",
       "  </thead>\n",
       "  <tbody>\n",
       "    <tr>\n",
       "      <th>0</th>\n",
       "      <td>123</td>\n",
       "      <td>Digital Communication</td>\n",
       "      <td>2</td>\n",
       "      <td>2</td>\n",
       "      <td>Business</td>\n",
       "    </tr>\n",
       "    <tr>\n",
       "      <th>1</th>\n",
       "      <td>124</td>\n",
       "      <td>Digital Literacy</td>\n",
       "      <td>2</td>\n",
       "      <td>2</td>\n",
       "      <td>Business</td>\n",
       "    </tr>\n",
       "    <tr>\n",
       "      <th>2</th>\n",
       "      <td>125</td>\n",
       "      <td>Digital Marketing</td>\n",
       "      <td>2</td>\n",
       "      <td>2</td>\n",
       "      <td>Business</td>\n",
       "    </tr>\n",
       "    <tr>\n",
       "      <th>3</th>\n",
       "      <td>126</td>\n",
       "      <td>Digital Photography</td>\n",
       "      <td>2</td>\n",
       "      <td>2</td>\n",
       "      <td>Business</td>\n",
       "    </tr>\n",
       "    <tr>\n",
       "      <th>4</th>\n",
       "      <td>1269</td>\n",
       "      <td>Digital Image Processing</td>\n",
       "      <td>4</td>\n",
       "      <td>4</td>\n",
       "      <td>Data Science</td>\n",
       "    </tr>\n",
       "    <tr>\n",
       "      <th>5</th>\n",
       "      <td>1761</td>\n",
       "      <td>Digital Library</td>\n",
       "      <td>5</td>\n",
       "      <td>5</td>\n",
       "      <td>Information Technology (IT)</td>\n",
       "    </tr>\n",
       "    <tr>\n",
       "      <th>6</th>\n",
       "      <td>1762</td>\n",
       "      <td>Digital Marketing System</td>\n",
       "      <td>5</td>\n",
       "      <td>5</td>\n",
       "      <td>Information Technology (IT)</td>\n",
       "    </tr>\n",
       "    <tr>\n",
       "      <th>7</th>\n",
       "      <td>1763</td>\n",
       "      <td>Digital Storage Systems Interconnect</td>\n",
       "      <td>5</td>\n",
       "      <td>5</td>\n",
       "      <td>Information Technology (IT)</td>\n",
       "    </tr>\n",
       "    <tr>\n",
       "      <th>8</th>\n",
       "      <td>1764</td>\n",
       "      <td>DigitalOcean</td>\n",
       "      <td>5</td>\n",
       "      <td>5</td>\n",
       "      <td>Information Technology (IT)</td>\n",
       "    </tr>\n",
       "    <tr>\n",
       "      <th>9</th>\n",
       "      <td>2221</td>\n",
       "      <td>Digital Geometry</td>\n",
       "      <td>6</td>\n",
       "      <td>6</td>\n",
       "      <td>Mathematics and Logic</td>\n",
       "    </tr>\n",
       "    <tr>\n",
       "      <th>10</th>\n",
       "      <td>2355</td>\n",
       "      <td>Digital Art</td>\n",
       "      <td>1</td>\n",
       "      <td>1</td>\n",
       "      <td>Arts and Humanities</td>\n",
       "    </tr>\n",
       "    <tr>\n",
       "      <th>11</th>\n",
       "      <td>2356</td>\n",
       "      <td>Digital Image</td>\n",
       "      <td>1</td>\n",
       "      <td>1</td>\n",
       "      <td>Arts and Humanities</td>\n",
       "    </tr>\n",
       "    <tr>\n",
       "      <th>12</th>\n",
       "      <td>2357</td>\n",
       "      <td>Digital Media</td>\n",
       "      <td>1</td>\n",
       "      <td>1</td>\n",
       "      <td>Arts and Humanities</td>\n",
       "    </tr>\n",
       "    <tr>\n",
       "      <th>13</th>\n",
       "      <td>2358</td>\n",
       "      <td>Digital Printing</td>\n",
       "      <td>1</td>\n",
       "      <td>1</td>\n",
       "      <td>Arts and Humanities</td>\n",
       "    </tr>\n",
       "  </tbody>\n",
       "</table>\n",
       "</div>"
      ],
      "text/plain": [
       "    Id_x                                 Skill  DomainId  Id_y  \\\n",
       "0    123                 Digital Communication         2     2   \n",
       "1    124                      Digital Literacy         2     2   \n",
       "2    125                     Digital Marketing         2     2   \n",
       "3    126                   Digital Photography         2     2   \n",
       "4   1269              Digital Image Processing         4     4   \n",
       "5   1761                       Digital Library         5     5   \n",
       "6   1762              Digital Marketing System         5     5   \n",
       "7   1763  Digital Storage Systems Interconnect         5     5   \n",
       "8   1764                          DigitalOcean         5     5   \n",
       "9   2221                      Digital Geometry         6     6   \n",
       "10  2355                           Digital Art         1     1   \n",
       "11  2356                         Digital Image         1     1   \n",
       "12  2357                         Digital Media         1     1   \n",
       "13  2358                      Digital Printing         1     1   \n",
       "\n",
       "                         Domain  \n",
       "0                      Business  \n",
       "1                      Business  \n",
       "2                      Business  \n",
       "3                      Business  \n",
       "4                  Data Science  \n",
       "5   Information Technology (IT)  \n",
       "6   Information Technology (IT)  \n",
       "7   Information Technology (IT)  \n",
       "8   Information Technology (IT)  \n",
       "9         Mathematics and Logic  \n",
       "10          Arts and Humanities  \n",
       "11          Arts and Humanities  \n",
       "12          Arts and Humanities  \n",
       "13          Arts and Humanities  "
      ]
     },
     "execution_count": 37,
     "metadata": {},
     "output_type": "execute_result"
    }
   ],
   "source": [
    "check_skill('Digital')"
   ]
  },
  {
   "cell_type": "markdown",
   "metadata": {},
   "source": [
    "## Test 100 jobs"
   ]
  },
  {
   "cell_type": "code",
   "execution_count": 26,
   "metadata": {},
   "outputs": [
    {
     "name": "stderr",
     "output_type": "stream",
     "text": [
      "/Users/kongbinxuan/opt/anaconda3/lib/python3.7/site-packages/pandas/core/indexing.py:1596: SettingWithCopyWarning: \n",
      "A value is trying to be set on a copy of a slice from a DataFrame.\n",
      "Try using .loc[row_indexer,col_indexer] = value instead\n",
      "\n",
      "See the caveats in the documentation: https://pandas.pydata.org/pandas-docs/stable/user_guide/indexing.html#returning-a-view-versus-a-copy\n",
      "  self.obj[key] = _infer_fill_value(value)\n",
      "/Users/kongbinxuan/opt/anaconda3/lib/python3.7/site-packages/pandas/core/indexing.py:1765: SettingWithCopyWarning: \n",
      "A value is trying to be set on a copy of a slice from a DataFrame.\n",
      "Try using .loc[row_indexer,col_indexer] = value instead\n",
      "\n",
      "See the caveats in the documentation: https://pandas.pydata.org/pandas-docs/stable/user_guide/indexing.html#returning-a-view-versus-a-copy\n",
      "  isetter(loc, value)\n"
     ]
    },
    {
     "name": "stdout",
     "output_type": "stream",
     "text": [
      "9 jobs processed. Time taken: 0:00:11.651199\n",
      "19 jobs processed. Time taken: 0:00:23.449458\n",
      "29 jobs processed. Time taken: 0:00:26.523928\n",
      "39 jobs processed. Time taken: 0:00:19.606277\n",
      "49 jobs processed. Time taken: 0:00:23.551673\n",
      "59 jobs processed. Time taken: 0:00:24.578194\n",
      "69 jobs processed. Time taken: 0:00:31.234480\n",
      "79 jobs processed. Time taken: 0:00:33.052710\n",
      "89 jobs processed. Time taken: 0:00:30.154010\n",
      "99 jobs processed. Time taken: 0:00:41.143772\n",
      "Time taken: 0:04:26.929147\n"
     ]
    }
   ],
   "source": [
    "N = 100\n",
    "df_j = df_ds.iloc[:N]\n",
    "initial = dt.now()\n",
    "interval = dt.now()\n",
    "print_every = 10\n",
    "\n",
    "for i, row in df_j.iterrows():\n",
    "    if (i+1) % print_every == 0:\n",
    "        print(\"{} jobs processed. Time taken: {}\".format(i, dt.now() - interval))\n",
    "        interval = dt.now()\n",
    "    info = row['title'] + ' ' + row['description']\n",
    "    all_skills = extract_skills(info)\n",
    "    job_skills, ignore_skills = extract_ignore(all_skills)\n",
    "    job_skills.sort()\n",
    "    ignore_skills.sort()\n",
    "    df_j.loc[i, 'new_skills'] = '; '.join(job_skills)\n",
    "    df_j.loc[i, 'ignore_skills'] = '; '.join(ignore_skills)\n",
    "\n",
    "print(\"Time taken: {}\".format(dt.now() - initial))"
   ]
  },
  {
   "cell_type": "code",
   "execution_count": 38,
   "metadata": {
    "scrolled": false
   },
   "outputs": [
    {
     "data": {
      "text/plain": [
       "100"
      ]
     },
     "execution_count": 38,
     "metadata": {},
     "output_type": "execute_result"
    }
   ],
   "source": [
    "len(df_j)"
   ]
  },
  {
   "cell_type": "code",
   "execution_count": 28,
   "metadata": {},
   "outputs": [],
   "source": [
    "i = 0"
   ]
  },
  {
   "cell_type": "code",
   "execution_count": 83,
   "metadata": {},
   "outputs": [
    {
     "name": "stdout",
     "output_type": "stream",
     "text": [
      "21\n",
      "\n",
      "Head of Data, Customer Intelligence\n",
      "Job DescriptionWhy AirAsia?Are you ready to take off and be part of the Allstar employee? Whether you’re applying for a developer, customer happiness or crew, at AirAsia we act as One AirAsia.AirAsia.com Data Team empowers the build of data-driven products through top-notch algorithms and the use of the latest technologies, to fulfill the expectation of becoming the leading all-in-one travel and lifestyle products for people in ASEAN.If you are hungry to innovate, transform, and disrupt travel and related lifestyle ecosystems, this is the job for you.What You'll DoWork with large, complex data sets. Solve difficult, non-routine analysis problems, applying advanced analytical methods as needed. Conduct end-to-end analysis that includes data gathering and requirements specification, processing, analysis, ongoing deliverables, and presentations.Prototype and build analysis pipelines iteratively to provide insights at scale. Develop comprehensive understanding of AirAsia’s data structures and metrics, advocating for changes where needed for both products development and sales activity.Interact cross-functionally with a wide variety of people and teams. Work closely with engineers to identify opportunities for, design, and assess improvements to products.Provide leadership including thought leadership for the technology team and overall organization in the marketing technology and customer insights areasMake business recommendations (e.g. cost-benefit, forecasting, experiment analysis) with effective presentations of findings at multiple levels of stakeholders through visual displays of quantitative information.Research and develop analysis, forecasting, and optimization methods to improve the quality of AirAsia's user facing products; example application areas include ads quality, search quality, end-user behavioral modeling, and live experiments.Develop solutions for real world, large scale problems.Spearhead design and implementation of platform features and complex system enhancements to marketing and data insights systemsDrive architectural and platform improvements to increase scalability and performance to support business growthWho You AreBS/MS/PhD in Science (Statistics, Management, Cognitive / Psychology, AI, Analytics, Marketing, Design, HCI, Computer Science, Electrical and Electronics Engineering ).More than 12 yrs relevant experience beyond first degree.Inspiring leader with a track record of building a culture of trust, belongingness & meritocracy where high-calibre teams can thrive and achieve audacious goals. Experience with building high performing engineering teams.Strong problem solving skills with an emphasis on business solution product development.Ability to lead and mentor multiple teams of data professionals and execute on multiple complex projects.Expertise running products that leveraged ML/AI to analyze and drive insights from large data sets (ideally incomplete or dirty data sets) that powered in-app workflows and insights for B2B use cases.Strong technical background in underlying foundational technologies such as graph databases, data pipelines, and data science techniques in enterprise-grade environments.Successful implementation of enterprise scale marketing platforms - e-mail, search, display ads, mobile, campaign, data management, social, affiliate, etc.Successful implementation of enterprise scale analytics and reporting platforms - client data, product, stores, merchandising, supply chain, third partyStrong experience working with cross-functional teams - product managers, business users, project managers, architecture, UX/design, engineering, QA, release teams to build and enhance large scale marketing, analytics, and reporting systemsProven ability to design, develop, and ship commercially successful B2B SaaS products powered by a complex underlying data platform and AI engine. Demonstrated ability to define and execute a roadmap, making hard trade-offs in a startup or high growth business unit.Track record as an excellent communicator demonstrated by articulating complex technical concepts in a way that is understandable to non-technical stakeholders. Able to articulate critical information to key stakeholders from sales reps, to engineers to executives. Earned reputation for working collaboratively with design, engineering, and data scientists proven by backchannel references.Strong understanding of agile software development processes with experience guiding teams through planning, development, and rollout. Prior experience with Waterfall or Spiral are helpful.Experience delivering real-time distributed computing systems, preferably open-source leveraging SaaS and microservices architecture.Good applied statistical knowledge with emphasis in business and finance related statistical distributions, statistical testing, modeling, regression analysis, etc.Strong track record of being able to develop and set release plans, track deadlines, deliverable, resource allocations, issues / risks and create mitigation strategies as needed to deliver quality product on time.Experience in defining and executing professional software engineering best practices for the full software development life cycle. Exposure to Machine Learning, AI, Deep learning, decision science.Keep self aware & updated with new industry-level trends and best practices, with the ability to advocate for and achieve continuous change and evolution. Strong knowledge with the latest tech-stacks and cloud technologies.Thrive in fast-changing environments and ambiguity while being execution-oriented, hands-on, pragmatic, focused on results.Obsessed with customer experience and uncompromising engineering standardsStrong project management and organizational skills, having scaled teams previously is desirableWhat makes an Allstar employee?You allow yourself to ‘Dare to Dream’ big dreams and seize the day. You ‘Make things Happen’, you like taking efforts and achieving it. Without any effort, no dream will get fulfilled.Our companies include Airasia.com, BigPay, Teleport, BigLife, RedBeat Ventures, AirAsia Foundation, Tune Group of Hotels, TuneProtect, OURSHOP, FORM.AT, Airasia AdsAirAsia is committed to creating an inclusive work environment with a diverse workforce. All qualified applicants will receive consideration for employment without regard to race, religion, gender, sexual orientation, national origin, disability or age.If you choose to Apply with LinkedIn, please verify that your personal information and experience auto-populate in the appropriate fields, as your profile may not match the format for our site.We are all different - one talent to another - that is how we rely on our differences. At AirAsia, you will be treated fairly and given all chances to be the best. We committed to creating a diverse work environment and are proud to be an equal opportunity employer. All qualified applicants will receive consideration for employment without regard to race, color, religion, gender, gender identity or expression, sexual orientation, national origin, genetics, disability, age, or veteran status.\n",
      "\n",
      "'C', 'Go', 'Machine Learning', 'R', 'Statistics'\n",
      "\n",
      "Agile Software Development; Algorithm; Analytical; Applied Statistics; Architecture; Artificial Intelligence (AI); Cognitive Psychology; Customer Experience; Data Management; Data Pipeline; Data Structure; Deep Learning; Depression; Distributed Computing; Electronic Engineering; Electronics; Finance; Forecasting; Gradle; Graph Database; Human-Computer Interaction (HCI); Leadership; Lean Software Development; LinkedIn; ML; Machine Learning; Marketing Analytics; Marketing Design; Modelling; Organizational Skill; Platform; Pragmatics; Presentation; Problem Solving; Processing; Product Development; Profiler; Project Management; Quality Assurance (QA); Regression Analysis; Reporting; Research; Sales; Software Engineering; Software as a Service (SaaS); Testing; Trade; Transformer; UX Design; User Experience (UX)\n",
      "\n",
      "Agile; Analysis; Analytics; Application; Cognitive; Commercial; Computing; Culture; Data; Database; Design; Development; Distribution; Engineering; Executive; Expectations; Graph; Implementation; Industry; Management; Marketing; Planning; Preference; Product; Psychology; Regression; Set; Software Development; Statistics; Support; Unemployment\n"
     ]
    }
   ],
   "source": [
    "i += 1\n",
    "print(i)\n",
    "print()\n",
    "print(df_j.loc[i, 'title'])\n",
    "print(df_j.loc[i, 'description'])\n",
    "print()\n",
    "print(df_j.loc[i, 'indeed_skills'])\n",
    "print()\n",
    "print(df_j.loc[i, 'new_skills'])\n",
    "print()\n",
    "print(df_j.loc[i, 'ignore_skills'])"
   ]
  },
  {
   "cell_type": "code",
   "execution_count": 81,
   "metadata": {},
   "outputs": [
    {
     "name": "stdout",
     "output_type": "stream",
     "text": [
      "Unigram: ['telecommunication']\n",
      "Bigram: ['of telecommunication']\n",
      "Trigram: []\n"
     ]
    }
   ],
   "source": [
    "test_skill(df_ds, i, 'telecommunication')"
   ]
  },
  {
   "cell_type": "code",
   "execution_count": 98,
   "metadata": {},
   "outputs": [
    {
     "data": {
      "text/html": [
       "<div>\n",
       "<style scoped>\n",
       "    .dataframe tbody tr th:only-of-type {\n",
       "        vertical-align: middle;\n",
       "    }\n",
       "\n",
       "    .dataframe tbody tr th {\n",
       "        vertical-align: top;\n",
       "    }\n",
       "\n",
       "    .dataframe thead th {\n",
       "        text-align: right;\n",
       "    }\n",
       "</style>\n",
       "<table border=\"1\" class=\"dataframe\">\n",
       "  <thead>\n",
       "    <tr style=\"text-align: right;\">\n",
       "      <th></th>\n",
       "      <th>Id_x</th>\n",
       "      <th>Skill</th>\n",
       "      <th>DomainId</th>\n",
       "      <th>Id_y</th>\n",
       "      <th>Domain</th>\n",
       "    </tr>\n",
       "  </thead>\n",
       "  <tbody>\n",
       "    <tr>\n",
       "      <th>0</th>\n",
       "      <td>1241</td>\n",
       "      <td>Data Cleansing</td>\n",
       "      <td>4</td>\n",
       "      <td>4</td>\n",
       "      <td>Data Science</td>\n",
       "    </tr>\n",
       "  </tbody>\n",
       "</table>\n",
       "</div>"
      ],
      "text/plain": [
       "   Id_x           Skill  DomainId  Id_y        Domain\n",
       "0  1241  Data Cleansing         4     4  Data Science"
      ]
     },
     "execution_count": 98,
     "metadata": {},
     "output_type": "execute_result"
    }
   ],
   "source": [
    "check_skill('Data Cleansing')"
   ]
  },
  {
   "cell_type": "code",
   "execution_count": null,
   "metadata": {},
   "outputs": [],
   "source": []
  }
 ],
 "metadata": {
  "kernelspec": {
   "display_name": "Python 3",
   "language": "python",
   "name": "python3"
  },
  "language_info": {
   "codemirror_mode": {
    "name": "ipython",
    "version": 3
   },
   "file_extension": ".py",
   "mimetype": "text/x-python",
   "name": "python",
   "nbconvert_exporter": "python",
   "pygments_lexer": "ipython3",
   "version": "3.7.6"
  }
 },
 "nbformat": 4,
 "nbformat_minor": 4
}
