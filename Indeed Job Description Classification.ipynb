{
 "cells": [
  {
   "cell_type": "code",
   "execution_count": 22,
   "metadata": {},
   "outputs": [],
   "source": [
    "import pandas as pd\n",
    "import re\n",
    "from nltk.tokenize import sent_tokenize"
   ]
  },
  {
   "cell_type": "code",
   "execution_count": 27,
   "metadata": {},
   "outputs": [
    {
     "data": {
      "text/html": [
       "<div>\n",
       "<style scoped>\n",
       "    .dataframe tbody tr th:only-of-type {\n",
       "        vertical-align: middle;\n",
       "    }\n",
       "\n",
       "    .dataframe tbody tr th {\n",
       "        vertical-align: top;\n",
       "    }\n",
       "\n",
       "    .dataframe thead th {\n",
       "        text-align: right;\n",
       "    }\n",
       "</style>\n",
       "<table border=\"1\" class=\"dataframe\">\n",
       "  <thead>\n",
       "    <tr style=\"text-align: right;\">\n",
       "      <th></th>\n",
       "      <th>Job_Title</th>\n",
       "      <th>Company</th>\n",
       "      <th>Salary</th>\n",
       "      <th>Country</th>\n",
       "      <th>Location</th>\n",
       "      <th>Date_Posted</th>\n",
       "      <th>Description</th>\n",
       "      <th>Job_URL</th>\n",
       "      <th>Keywords_Present</th>\n",
       "      <th>Title_Keywords</th>\n",
       "    </tr>\n",
       "  </thead>\n",
       "  <tbody>\n",
       "    <tr>\n",
       "      <th>0</th>\n",
       "      <td>Equipment Engineer (RFID Die Attach)</td>\n",
       "      <td>Avery Dennison</td>\n",
       "      <td>NaN</td>\n",
       "      <td>Malaysia</td>\n",
       "      <td>Kulim</td>\n",
       "      <td>2020-12-20</td>\n",
       "      <td>Company DescriptionAbout Avery DennisonAvery D...</td>\n",
       "      <td>https://www.indeed.com.my/rc/clk?jk=3214bd7467...</td>\n",
       "      <td>'Golang', 'R', 'C'</td>\n",
       "      <td>NaN</td>\n",
       "    </tr>\n",
       "    <tr>\n",
       "      <th>1</th>\n",
       "      <td>IT MSD Automation Engineer - Graduate Trainee</td>\n",
       "      <td>Intel</td>\n",
       "      <td>NaN</td>\n",
       "      <td>Malaysia</td>\n",
       "      <td>Kulim</td>\n",
       "      <td>2020-12-20</td>\n",
       "      <td>Job DescriptionDiagnose and solve a range of i...</td>\n",
       "      <td>https://www.indeed.com.my/rc/clk?jk=adebb34d3a...</td>\n",
       "      <td>'Golang', 'R', 'Excel', 'C'</td>\n",
       "      <td>'Graduate'</td>\n",
       "    </tr>\n",
       "    <tr>\n",
       "      <th>2</th>\n",
       "      <td>Senior Design Engineer</td>\n",
       "      <td>Protenga Sdn Bhd</td>\n",
       "      <td>RM 4,000 - RM 7,000 a month</td>\n",
       "      <td>Malaysia</td>\n",
       "      <td>Senai</td>\n",
       "      <td>2020-12-20</td>\n",
       "      <td>As the Design Engineer/Draftman, you will deve...</td>\n",
       "      <td>https://www.indeed.com.my/company/Protenga-Sdn...</td>\n",
       "      <td>'R', 'AutoCAD', 'C'</td>\n",
       "      <td>'Senior'</td>\n",
       "    </tr>\n",
       "    <tr>\n",
       "      <th>3</th>\n",
       "      <td>Manufacturing Engineer</td>\n",
       "      <td>HP</td>\n",
       "      <td>NaN</td>\n",
       "      <td>Malaysia</td>\n",
       "      <td>Penang</td>\n",
       "      <td>2020-12-20</td>\n",
       "      <td>HP is the world’s leading personal systems and...</td>\n",
       "      <td>https://www.indeed.com.my/rc/clk?jk=bd2d96b3c9...</td>\n",
       "      <td>'Golang', 'R', 'Excel', 'C'</td>\n",
       "      <td>NaN</td>\n",
       "    </tr>\n",
       "    <tr>\n",
       "      <th>4</th>\n",
       "      <td>Senior Mechatronics Engineer</td>\n",
       "      <td>Protenga Sdn Bhd</td>\n",
       "      <td>RM 4,000 - RM 6,000 a month</td>\n",
       "      <td>Malaysia</td>\n",
       "      <td>Senai</td>\n",
       "      <td>2020-12-20</td>\n",
       "      <td>As the Mechatronics Engineer, you are one of t...</td>\n",
       "      <td>https://www.indeed.com.my/company/Protenga-Sdn...</td>\n",
       "      <td>'R', 'C'</td>\n",
       "      <td>'Senior'</td>\n",
       "    </tr>\n",
       "  </tbody>\n",
       "</table>\n",
       "</div>"
      ],
      "text/plain": [
       "                                       Job_Title           Company  \\\n",
       "0           Equipment Engineer (RFID Die Attach)    Avery Dennison   \n",
       "1  IT MSD Automation Engineer - Graduate Trainee             Intel   \n",
       "2                         Senior Design Engineer  Protenga Sdn Bhd   \n",
       "3                         Manufacturing Engineer                HP   \n",
       "4                   Senior Mechatronics Engineer  Protenga Sdn Bhd   \n",
       "\n",
       "                        Salary   Country Location Date_Posted  \\\n",
       "0                          NaN  Malaysia    Kulim  2020-12-20   \n",
       "1                          NaN  Malaysia    Kulim  2020-12-20   \n",
       "2  RM 4,000 - RM 7,000 a month  Malaysia    Senai  2020-12-20   \n",
       "3                          NaN  Malaysia   Penang  2020-12-20   \n",
       "4  RM 4,000 - RM 6,000 a month  Malaysia    Senai  2020-12-20   \n",
       "\n",
       "                                         Description  \\\n",
       "0  Company DescriptionAbout Avery DennisonAvery D...   \n",
       "1  Job DescriptionDiagnose and solve a range of i...   \n",
       "2  As the Design Engineer/Draftman, you will deve...   \n",
       "3  HP is the world’s leading personal systems and...   \n",
       "4  As the Mechatronics Engineer, you are one of t...   \n",
       "\n",
       "                                             Job_URL  \\\n",
       "0  https://www.indeed.com.my/rc/clk?jk=3214bd7467...   \n",
       "1  https://www.indeed.com.my/rc/clk?jk=adebb34d3a...   \n",
       "2  https://www.indeed.com.my/company/Protenga-Sdn...   \n",
       "3  https://www.indeed.com.my/rc/clk?jk=bd2d96b3c9...   \n",
       "4  https://www.indeed.com.my/company/Protenga-Sdn...   \n",
       "\n",
       "              Keywords_Present Title_Keywords  \n",
       "0           'Golang', 'R', 'C'            NaN  \n",
       "1  'Golang', 'R', 'Excel', 'C'     'Graduate'  \n",
       "2          'R', 'AutoCAD', 'C'       'Senior'  \n",
       "3  'Golang', 'R', 'Excel', 'C'            NaN  \n",
       "4                     'R', 'C'       'Senior'  "
      ]
     },
     "execution_count": 27,
     "metadata": {},
     "output_type": "execute_result"
    }
   ],
   "source": [
    "df = pd.read_csv('resource/msia_jobs.csv')\n",
    "df.head()"
   ]
  },
  {
   "cell_type": "code",
   "execution_count": 28,
   "metadata": {},
   "outputs": [
    {
     "data": {
      "text/plain": [
       "3963"
      ]
     },
     "execution_count": 28,
     "metadata": {},
     "output_type": "execute_result"
    }
   ],
   "source": [
    "len(df)"
   ]
  },
  {
   "cell_type": "code",
   "execution_count": 29,
   "metadata": {},
   "outputs": [
    {
     "data": {
      "text/plain": [
       "1000"
      ]
     },
     "execution_count": 29,
     "metadata": {},
     "output_type": "execute_result"
    }
   ],
   "source": [
    "df2 = df.drop_duplicates(subset='Description')\n",
    "df2 = df2.sample(n=1000, random_state=42)\n",
    "len(df2)"
   ]
  },
  {
   "cell_type": "code",
   "execution_count": 63,
   "metadata": {},
   "outputs": [],
   "source": [
    "def clean_sent_tokenize(sent):\n",
    "    sentences = []\n",
    "    for s in sent_tokenize(sent):\n",
    "        slices = []\n",
    "        for match in re.finditer('[a-zA-Z]\\.[A-Z]', s):\n",
    "            slices.append(match.start()+2)\n",
    "        slices.append(len(s))\n",
    "        offset = 0\n",
    "        subsentences = []\n",
    "        for pos in sorted(slices):\n",
    "            subsent = s[offset:pos]\n",
    "            offset += len(subsent)\n",
    "            sentences.append(subsent)\n",
    "    return sentences\n",
    "\n",
    "def clean_sent_tokenize(sent, threshold=5):\n",
    "    sent = re.split('[.!?]', sent)\n",
    "    final = []\n",
    "    for subsent in sent:\n",
    "        # subsent = re.findall('[A-Z][a-z]*', subsent)\n",
    "        # subsent = re.sub(r'([A-Z][a-z])', r'.\\1', subsent).split('.')\n",
    "        subsent = re.sub(r'(?<=[a-z])(?=[A-Z])', r'.', subsent).split('.')\n",
    "        for s in subsent:\n",
    "            if len(s) >= threshold:\n",
    "                final.append(s.strip())\n",
    "    return final"
   ]
  },
  {
   "cell_type": "code",
   "execution_count": 156,
   "metadata": {},
   "outputs": [
    {
     "data": {
      "text/plain": [
       "['WHY JOIN US?',\n",
       " 'Hello.This is stupid.',\n",
       " 'Please!!!',\n",
       " 'Example i.e.',\n",
       " 'this that.',\n",
       " 'No wayPlease.',\n",
       " 'Back-end Development and Product']"
      ]
     },
     "execution_count": 156,
     "metadata": {},
     "output_type": "execute_result"
    }
   ],
   "source": [
    "s = 'WHY JOIN US? Hello.This is stupid. Please!!! Example i.e. this that. No wayPlease. Back-end Development and Product'\n",
    "sent_tokenize(s)"
   ]
  },
  {
   "cell_type": "code",
   "execution_count": 157,
   "metadata": {},
   "outputs": [
    {
     "data": {
      "text/plain": [
       "['WHY JOIN US',\n",
       " 'Hello',\n",
       " 'This is stupid',\n",
       " 'Please',\n",
       " 'Example i',\n",
       " 'this that',\n",
       " 'No way',\n",
       " 'Please',\n",
       " 'Back-end Development and Product']"
      ]
     },
     "execution_count": 157,
     "metadata": {},
     "output_type": "execute_result"
    }
   ],
   "source": [
    "clean_sent_tokenize(s)"
   ]
  },
  {
   "cell_type": "code",
   "execution_count": 172,
   "metadata": {},
   "outputs": [
    {
     "data": {
      "text/html": [
       "<div>\n",
       "<style scoped>\n",
       "    .dataframe tbody tr th:only-of-type {\n",
       "        vertical-align: middle;\n",
       "    }\n",
       "\n",
       "    .dataframe tbody tr th {\n",
       "        vertical-align: top;\n",
       "    }\n",
       "\n",
       "    .dataframe thead th {\n",
       "        text-align: right;\n",
       "    }\n",
       "</style>\n",
       "<table border=\"1\" class=\"dataframe\">\n",
       "  <thead>\n",
       "    <tr style=\"text-align: right;\">\n",
       "      <th></th>\n",
       "      <th>Id</th>\n",
       "      <th>SentNum</th>\n",
       "      <th>Sent</th>\n",
       "    </tr>\n",
       "  </thead>\n",
       "  <tbody>\n",
       "    <tr>\n",
       "      <th>0</th>\n",
       "      <td>3941</td>\n",
       "      <td>0</td>\n",
       "      <td>WHY JOIN US</td>\n",
       "    </tr>\n",
       "    <tr>\n",
       "      <th>1</th>\n",
       "      <td>3941</td>\n",
       "      <td>1</td>\n",
       "      <td>We practise a vibrant &amp; energetic office culture</td>\n",
       "    </tr>\n",
       "    <tr>\n",
       "      <th>2</th>\n",
       "      <td>3941</td>\n",
       "      <td>2</td>\n",
       "      <td>We provide opportunities for career advancemen...</td>\n",
       "    </tr>\n",
       "    <tr>\n",
       "      <th>3</th>\n",
       "      <td>3941</td>\n",
       "      <td>3</td>\n",
       "      <td>Good performance is always rewarded accordingly</td>\n",
       "    </tr>\n",
       "    <tr>\n",
       "      <th>4</th>\n",
       "      <td>3941</td>\n",
       "      <td>4</td>\n",
       "      <td>JOB RESPONSIBILITIES:What you will do:Communic...</td>\n",
       "    </tr>\n",
       "  </tbody>\n",
       "</table>\n",
       "</div>"
      ],
      "text/plain": [
       "     Id  SentNum                                               Sent\n",
       "0  3941        0                                        WHY JOIN US\n",
       "1  3941        1   We practise a vibrant & energetic office culture\n",
       "2  3941        2  We provide opportunities for career advancemen...\n",
       "3  3941        3    Good performance is always rewarded accordingly\n",
       "4  3941        4  JOB RESPONSIBILITIES:What you will do:Communic..."
      ]
     },
     "execution_count": 172,
     "metadata": {},
     "output_type": "execute_result"
    }
   ],
   "source": [
    "dict_list = []\n",
    "\n",
    "for i, row in df2.iterrows():\n",
    "    sent = re.split('[.!?;]', row['Description'])\n",
    "    for j, s in enumerate(sent):\n",
    "        if len(s) >= 5 and len(s.split(' ')) >= 2:\n",
    "            dict_list.append({'Id': i, 'SentNum': j, 'Sent': s.strip()})\n",
    "\n",
    "df_s = pd.DataFrame.from_dict(dict_list)\n",
    "df_s.head()"
   ]
  },
  {
   "cell_type": "code",
   "execution_count": 173,
   "metadata": {},
   "outputs": [
    {
     "data": {
      "text/plain": [
       "20496"
      ]
     },
     "execution_count": 173,
     "metadata": {},
     "output_type": "execute_result"
    }
   ],
   "source": [
    "len(df_s)"
   ]
  },
  {
   "cell_type": "code",
   "execution_count": 174,
   "metadata": {},
   "outputs": [],
   "source": [
    "df_s.to_csv('job_desc_sent.csv', index=False)"
   ]
  },
  {
   "cell_type": "code",
   "execution_count": null,
   "metadata": {},
   "outputs": [],
   "source": []
  }
 ],
 "metadata": {
  "kernelspec": {
   "display_name": "Python 3",
   "language": "python",
   "name": "python3"
  },
  "language_info": {
   "codemirror_mode": {
    "name": "ipython",
    "version": 3
   },
   "file_extension": ".py",
   "mimetype": "text/x-python",
   "name": "python",
   "nbconvert_exporter": "python",
   "pygments_lexer": "ipython3",
   "version": "3.7.6"
  }
 },
 "nbformat": 4,
 "nbformat_minor": 4
}
